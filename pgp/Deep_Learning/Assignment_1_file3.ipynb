{
 "cells": [
  {
   "cell_type": "markdown",
   "metadata": {
    "id": "74IwYWqYEcaO"
   },
   "source": [
    "# Classifying Fashion Dataset using Tensorflow 2.x"
   ]
  },
  {
   "cell_type": "code",
   "execution_count": 59,
   "metadata": {
    "id": "14oyC0MSEbxS"
   },
   "outputs": [],
   "source": [
    "## importing the libraries\n",
    "\n",
    "import tensorflow as tf\n",
    "from tensorflow import keras \n",
    "\n",
    "from tensorflow.keras.layers import Dense\n",
    "from tensorflow.keras import Sequential\n",
    "from tensorflow.keras.layers import Dropout\n",
    "\n",
    "import pandas as pd\n",
    "\n",
    "## Libraries for visualization\n",
    "import matplotlib.pyplot as plt\n",
    "import seaborn as sns\n",
    "%matplotlib inline"
   ]
  },
  {
   "cell_type": "code",
   "execution_count": 2,
   "metadata": {
    "colab": {
     "base_uri": "https://localhost:8080/"
    },
    "id": "JSB2cIHjEktg",
    "outputId": "46e7ad55-4bf9-400b-dc99-02fbfbb375aa"
   },
   "outputs": [
    {
     "name": "stdout",
     "output_type": "stream",
     "text": [
      "Downloading data from https://storage.googleapis.com/tensorflow/tf-keras-datasets/train-labels-idx1-ubyte.gz\n",
      "32768/29515 [=================================] - 0s 0us/step\n",
      "Downloading data from https://storage.googleapis.com/tensorflow/tf-keras-datasets/train-images-idx3-ubyte.gz\n",
      "26427392/26421880 [==============================] - 0s 0us/step\n",
      "Downloading data from https://storage.googleapis.com/tensorflow/tf-keras-datasets/t10k-labels-idx1-ubyte.gz\n",
      "8192/5148 [===============================================] - 0s 0us/step\n",
      "Downloading data from https://storage.googleapis.com/tensorflow/tf-keras-datasets/t10k-images-idx3-ubyte.gz\n",
      "4423680/4422102 [==============================] - 0s 0us/step\n"
     ]
    }
   ],
   "source": [
    "# Loading MNIST dataset\n",
    "fashion_mnist = tf.keras.datasets.fashion_mnist\n",
    "(X_train, Y_train), (X_test, Y_test) = fashion_mnist.load_data()"
   ]
  },
  {
   "cell_type": "markdown",
   "metadata": {
    "id": "BzA6DUPNe_XC"
   },
   "source": [
    "## Performing Data Wrangling"
   ]
  },
  {
   "cell_type": "code",
   "execution_count": 3,
   "metadata": {
    "colab": {
     "base_uri": "https://localhost:8080/"
    },
    "id": "N_0psYb9E6Hp",
    "outputId": "9ef50770-4d56-44fb-aeb0-a18dce7244d9"
   },
   "outputs": [
    {
     "name": "stdout",
     "output_type": "stream",
     "text": [
      "(60000, 28, 28)\n",
      "(10000, 28, 28)\n"
     ]
    }
   ],
   "source": [
    "# Data Exploration - Getting Shape if the data\n",
    "print(X_train.shape)\n",
    "print(X_test.shape)"
   ]
  },
  {
   "cell_type": "code",
   "execution_count": 4,
   "metadata": {
    "id": "qdgSeLfXBJDb"
   },
   "outputs": [],
   "source": [
    "## Converting the data into float 32 for model training\n",
    "\n",
    "X_train = X_train.astype('float32')\n",
    "X_test = X_test.astype('float32')"
   ]
  },
  {
   "cell_type": "code",
   "execution_count": 5,
   "metadata": {
    "id": "eFBHnCUfBRfO"
   },
   "outputs": [],
   "source": [
    "## Reshaping the test and train data for model to accept it\n",
    "\n",
    "model_shape = 784\n",
    "#print(model_shape)\n",
    "X_train = X_train.reshape(60000, model_shape) \n",
    "X_test = X_test.reshape(10000, model_shape) "
   ]
  },
  {
   "cell_type": "code",
   "execution_count": 6,
   "metadata": {
    "id": "yNnFC-YCBWXu"
   },
   "outputs": [],
   "source": [
    "## Converting the data into float 32 for model training\n",
    "\n",
    "X_train = X_train.astype('float32')\n",
    "X_test = X_test.astype('float32')"
   ]
  },
  {
   "cell_type": "code",
   "execution_count": 7,
   "metadata": {
    "id": "gm-0ONkTBbEp"
   },
   "outputs": [],
   "source": [
    "## Normalising the data since there are 0 - 255 pixels in each element\n",
    "\n",
    "X_train = X_train / 255\n",
    "X_test = X_test / 255"
   ]
  },
  {
   "cell_type": "code",
   "execution_count": 8,
   "metadata": {
    "colab": {
     "base_uri": "https://localhost:8080/"
    },
    "id": "7Jj0FfQlBdEg",
    "outputId": "1ca0f47b-f65b-4518-8810-28672c5d5760"
   },
   "outputs": [
    {
     "name": "stdout",
     "output_type": "stream",
     "text": [
      "(60000, 784)\n",
      "(10000, 784)\n"
     ]
    }
   ],
   "source": [
    "## Verifying the shape of model after normalisation\n",
    "print(X_train.shape)\n",
    "print(X_test.shape)"
   ]
  },
  {
   "cell_type": "code",
   "execution_count": 9,
   "metadata": {
    "id": "-Ljosz4ABfF4"
   },
   "outputs": [],
   "source": [
    "## Converting target column into categorical data using one hot encoding\n",
    "\n",
    "Y_train = tf.keras.utils.to_categorical(Y_train, 10) \n",
    "Y_test = tf.keras.utils.to_categorical(Y_test, 10)"
   ]
  },
  {
   "cell_type": "markdown",
   "metadata": {
    "id": "bNkzjYMdfN0r"
   },
   "source": [
    "## Preparing the model"
   ]
  },
  {
   "cell_type": "markdown",
   "metadata": {
    "id": "vVoFyZUWfR-1"
   },
   "source": [
    "##### Basic Model with SGD"
   ]
  },
  {
   "cell_type": "code",
   "execution_count": 10,
   "metadata": {
    "id": "0K6AlziDBmH9"
   },
   "outputs": [],
   "source": [
    "## Basic Model\n",
    "model_basic = Sequential()\n",
    "\n",
    "model_basic.add(Dense(10,input_shape=(model_shape,),name='dense_layer', activation='softmax')) "
   ]
  },
  {
   "cell_type": "code",
   "execution_count": 11,
   "metadata": {
    "id": "l4u6NncsWtqd"
   },
   "outputs": [],
   "source": [
    "## Compiling the model with SGD\n",
    "\n",
    "model_basic.compile(optimizer='SGD', \n",
    "              loss='categorical_crossentropy',\n",
    "              metrics=['accuracy'])"
   ]
  },
  {
   "cell_type": "code",
   "execution_count": 12,
   "metadata": {
    "colab": {
     "base_uri": "https://localhost:8080/"
    },
    "id": "dN8xAC30Wvre",
    "outputId": "e5bf98cc-222d-4549-ecbd-198e9c0ff4cb"
   },
   "outputs": [
    {
     "name": "stdout",
     "output_type": "stream",
     "text": [
      "Epoch 1/30\n",
      "960/960 [==============================] - 3s 2ms/step - loss: 0.9629 - accuracy: 0.6965 - val_loss: 0.7226 - val_accuracy: 0.7648\n",
      "Epoch 2/30\n",
      "960/960 [==============================] - 2s 2ms/step - loss: 0.6725 - accuracy: 0.7844 - val_loss: 0.6294 - val_accuracy: 0.7965\n",
      "Epoch 3/30\n",
      "960/960 [==============================] - 2s 2ms/step - loss: 0.6070 - accuracy: 0.8054 - val_loss: 0.5873 - val_accuracy: 0.8067\n",
      "Epoch 4/30\n",
      "960/960 [==============================] - 2s 2ms/step - loss: 0.5712 - accuracy: 0.8150 - val_loss: 0.5611 - val_accuracy: 0.8138\n",
      "Epoch 5/30\n",
      "960/960 [==============================] - 2s 2ms/step - loss: 0.5478 - accuracy: 0.8223 - val_loss: 0.5403 - val_accuracy: 0.8181\n",
      "Epoch 6/30\n",
      "960/960 [==============================] - 2s 2ms/step - loss: 0.5308 - accuracy: 0.8251 - val_loss: 0.5269 - val_accuracy: 0.8225\n",
      "Epoch 7/30\n",
      "960/960 [==============================] - 2s 2ms/step - loss: 0.5179 - accuracy: 0.8295 - val_loss: 0.5189 - val_accuracy: 0.8231\n",
      "Epoch 8/30\n",
      "960/960 [==============================] - 2s 2ms/step - loss: 0.5075 - accuracy: 0.8324 - val_loss: 0.5072 - val_accuracy: 0.8283\n",
      "Epoch 9/30\n",
      "960/960 [==============================] - 2s 2ms/step - loss: 0.4988 - accuracy: 0.8341 - val_loss: 0.5001 - val_accuracy: 0.8292\n",
      "Epoch 10/30\n",
      "960/960 [==============================] - 2s 2ms/step - loss: 0.4914 - accuracy: 0.8370 - val_loss: 0.4932 - val_accuracy: 0.8328\n",
      "Epoch 11/30\n",
      "960/960 [==============================] - 2s 2ms/step - loss: 0.4852 - accuracy: 0.8386 - val_loss: 0.4885 - val_accuracy: 0.8333\n",
      "Epoch 12/30\n",
      "960/960 [==============================] - 2s 2ms/step - loss: 0.4797 - accuracy: 0.8403 - val_loss: 0.4838 - val_accuracy: 0.8349\n",
      "Epoch 13/30\n",
      "960/960 [==============================] - 2s 2ms/step - loss: 0.4748 - accuracy: 0.8410 - val_loss: 0.4825 - val_accuracy: 0.8343\n",
      "Epoch 14/30\n",
      "960/960 [==============================] - 2s 2ms/step - loss: 0.4706 - accuracy: 0.8427 - val_loss: 0.4768 - val_accuracy: 0.8362\n",
      "Epoch 15/30\n",
      "960/960 [==============================] - 2s 2ms/step - loss: 0.4666 - accuracy: 0.8438 - val_loss: 0.4715 - val_accuracy: 0.8383\n",
      "Epoch 16/30\n",
      "960/960 [==============================] - 2s 2ms/step - loss: 0.4630 - accuracy: 0.8448 - val_loss: 0.4690 - val_accuracy: 0.8385\n",
      "Epoch 17/30\n",
      "960/960 [==============================] - 2s 2ms/step - loss: 0.4598 - accuracy: 0.8453 - val_loss: 0.4682 - val_accuracy: 0.8390\n",
      "Epoch 18/30\n",
      "960/960 [==============================] - 2s 2ms/step - loss: 0.4566 - accuracy: 0.8466 - val_loss: 0.4685 - val_accuracy: 0.8376\n",
      "Epoch 19/30\n",
      "960/960 [==============================] - 2s 2ms/step - loss: 0.4539 - accuracy: 0.8473 - val_loss: 0.4619 - val_accuracy: 0.8413\n",
      "Epoch 20/30\n",
      "960/960 [==============================] - 2s 2ms/step - loss: 0.4514 - accuracy: 0.8484 - val_loss: 0.4603 - val_accuracy: 0.8413\n",
      "Epoch 21/30\n",
      "960/960 [==============================] - 2s 2ms/step - loss: 0.4492 - accuracy: 0.8491 - val_loss: 0.4570 - val_accuracy: 0.8443\n",
      "Epoch 22/30\n",
      "960/960 [==============================] - 2s 2ms/step - loss: 0.4469 - accuracy: 0.8496 - val_loss: 0.4562 - val_accuracy: 0.8437\n",
      "Epoch 23/30\n",
      "960/960 [==============================] - 2s 2ms/step - loss: 0.4449 - accuracy: 0.8506 - val_loss: 0.4541 - val_accuracy: 0.8433\n",
      "Epoch 24/30\n",
      "960/960 [==============================] - 2s 2ms/step - loss: 0.4430 - accuracy: 0.8509 - val_loss: 0.4558 - val_accuracy: 0.8429\n",
      "Epoch 25/30\n",
      "960/960 [==============================] - 2s 2ms/step - loss: 0.4409 - accuracy: 0.8505 - val_loss: 0.4506 - val_accuracy: 0.8467\n",
      "Epoch 26/30\n",
      "960/960 [==============================] - 2s 2ms/step - loss: 0.4394 - accuracy: 0.8510 - val_loss: 0.4515 - val_accuracy: 0.8453\n",
      "Epoch 27/30\n",
      "960/960 [==============================] - 2s 2ms/step - loss: 0.4377 - accuracy: 0.8513 - val_loss: 0.4487 - val_accuracy: 0.8470\n",
      "Epoch 28/30\n",
      "960/960 [==============================] - 2s 2ms/step - loss: 0.4359 - accuracy: 0.8530 - val_loss: 0.4467 - val_accuracy: 0.8462\n",
      "Epoch 29/30\n",
      "960/960 [==============================] - 2s 2ms/step - loss: 0.4345 - accuracy: 0.8520 - val_loss: 0.4461 - val_accuracy: 0.8465\n",
      "Epoch 30/30\n",
      "960/960 [==============================] - 2s 2ms/step - loss: 0.4332 - accuracy: 0.8533 - val_loss: 0.4448 - val_accuracy: 0.8479\n"
     ]
    }
   ],
   "source": [
    "## Training the model\n",
    "\n",
    "training = model_basic.fit(X_train, Y_train, batch_size=50, epochs=30, validation_split=0.2)"
   ]
  },
  {
   "cell_type": "code",
   "execution_count": 13,
   "metadata": {
    "colab": {
     "base_uri": "https://localhost:8080/"
    },
    "id": "S36i21gzWxrt",
    "outputId": "bfeef25c-7cab-45a1-cfdd-d79e173cc0d3"
   },
   "outputs": [
    {
     "name": "stdout",
     "output_type": "stream",
     "text": [
      "313/313 [==============================] - 1s 2ms/step - loss: 0.4699 - accuracy: 0.8364\n",
      "Test accuracy: 0.8363999724388123\n"
     ]
    }
   ],
   "source": [
    "#evaluate the model\n",
    "test_loss, test_acc = model_basic.evaluate(X_test, Y_test)\n",
    "print('Test accuracy:', test_acc)"
   ]
  },
  {
   "cell_type": "code",
   "execution_count": 14,
   "metadata": {
    "colab": {
     "base_uri": "https://localhost:8080/",
     "height": 590
    },
    "id": "yrHv5th8W1tc",
    "outputId": "a3682170-5304-4066-e89c-491bcbf47385"
   },
   "outputs": [
    {
     "name": "stdout",
     "output_type": "stream",
     "text": [
      "dict_keys(['loss', 'accuracy', 'val_loss', 'val_accuracy'])\n"
     ]
    },
    {
     "data": {
      "image/png": "[encoded data removed]",
      "text/plain": [
       "<Figure size 432x288 with 1 Axes>"
      ]
     },
     "metadata": {
      "needs_background": "light",
      "tags": []
     },
     "output_type": "display_data"
    },
    {
     "data": {
      "image/png": "[encoded data removed]",
      "text/plain": [
       "<Figure size 432x288 with 1 Axes>"
      ]
     },
     "metadata": {
      "needs_background": "light",
      "tags": []
     },
     "output_type": "display_data"
    }
   ],
   "source": [
    "# list all data in training\n",
    "print(training.history.keys())\n",
    "# summarize training for accuracy\n",
    "plt.plot(training.history['accuracy'])\n",
    "plt.plot(training.history['val_accuracy'])\n",
    "plt.title('model accuracy')\n",
    "plt.ylabel('accuracy')\n",
    "plt.xlabel('epoch')\n",
    "plt.legend(['train', 'test'], loc='upper left')\n",
    "plt.show()\n",
    "# summarize traning for loss\n",
    "plt.plot(training.history['loss'])\n",
    "plt.plot(training.history['val_loss'])\n",
    "plt.title('model loss')\n",
    "plt.ylabel('loss')\n",
    "plt.xlabel('epoch')\n",
    "plt.legend(['train', 'test'], loc='upper left')\n",
    "plt.show()"
   ]
  },
  {
   "cell_type": "markdown",
   "metadata": {
    "id": "TL9W1gDvffAM"
   },
   "source": [
    "#### Creating Multilayer Perceptron and adding dropout layer to stop overfitting"
   ]
  },
  {
   "cell_type": "code",
   "execution_count": 15,
   "metadata": {
    "id": "xNmSfK5AW_b2"
   },
   "outputs": [],
   "source": [
    "model_imp = tf.keras.Sequential()\n",
    "N_hidden = 64\n",
    "model_imp.add(Dense(N_hidden, name='Input_layer_1', input_shape=(784,), activation = 'relu')) ## Input Layer\n",
    "model_imp.add(Dropout(0.3))  ## Adding a drop out layer\n",
    "model_imp.add(Dense(N_hidden, name='layer_2', activation='relu'))  ## Adding a Dense Layer\n",
    "model_imp.add(Dropout(0.3))  ## Adding a drop out layer\n",
    "model_imp.add(Dense(N_hidden, name='layer_3', activation='relu'))  ## Adding a Dense Layer\n",
    "model_imp.add(Dropout(0.3))  ## Adding a drop out layer\n",
    "model_imp.add(Dense(10, name='Output_layer_4', activation = 'softmax'))  ## Output Layer"
   ]
  },
  {
   "cell_type": "code",
   "execution_count": 16,
   "metadata": {
    "id": "KdYQLR8GXH5n"
   },
   "outputs": [],
   "source": [
    "## Compiling the model with Adam\n",
    "\n",
    "model_imp.compile(optimizer='Adam', \n",
    "              loss='categorical_crossentropy',\n",
    "              metrics=['accuracy'])"
   ]
  },
  {
   "cell_type": "code",
   "execution_count": 17,
   "metadata": {
    "colab": {
     "base_uri": "https://localhost:8080/"
    },
    "id": "U0jDaQPXXLRC",
    "outputId": "a7405f01-49dc-4f2d-9d88-860c14635435"
   },
   "outputs": [
    {
     "name": "stdout",
     "output_type": "stream",
     "text": [
      "Epoch 1/30\n",
      "960/960 - 3s - loss: 0.8486 - accuracy: 0.6950 - val_loss: 0.5019 - val_accuracy: 0.8137\n",
      "Epoch 2/30\n",
      "960/960 - 2s - loss: 0.5539 - accuracy: 0.8056 - val_loss: 0.4275 - val_accuracy: 0.8402\n",
      "Epoch 3/30\n",
      "960/960 - 2s - loss: 0.5035 - accuracy: 0.8224 - val_loss: 0.3998 - val_accuracy: 0.8532\n",
      "Epoch 4/30\n",
      "960/960 - 2s - loss: 0.4741 - accuracy: 0.8334 - val_loss: 0.3905 - val_accuracy: 0.8536\n",
      "Epoch 5/30\n",
      "960/960 - 2s - loss: 0.4577 - accuracy: 0.8384 - val_loss: 0.3796 - val_accuracy: 0.8614\n",
      "Epoch 6/30\n",
      "960/960 - 2s - loss: 0.4456 - accuracy: 0.8406 - val_loss: 0.3865 - val_accuracy: 0.8547\n",
      "Epoch 7/30\n",
      "960/960 - 2s - loss: 0.4322 - accuracy: 0.8464 - val_loss: 0.3714 - val_accuracy: 0.8658\n",
      "Epoch 8/30\n",
      "960/960 - 2s - loss: 0.4262 - accuracy: 0.8480 - val_loss: 0.3742 - val_accuracy: 0.8609\n",
      "Epoch 9/30\n",
      "960/960 - 2s - loss: 0.4187 - accuracy: 0.8510 - val_loss: 0.3587 - val_accuracy: 0.8658\n",
      "Epoch 10/30\n",
      "960/960 - 2s - loss: 0.4086 - accuracy: 0.8549 - val_loss: 0.3622 - val_accuracy: 0.8670\n",
      "Epoch 11/30\n",
      "960/960 - 2s - loss: 0.4019 - accuracy: 0.8566 - val_loss: 0.3649 - val_accuracy: 0.8661\n",
      "Epoch 12/30\n",
      "960/960 - 2s - loss: 0.4000 - accuracy: 0.8559 - val_loss: 0.3679 - val_accuracy: 0.8650\n",
      "Epoch 13/30\n",
      "960/960 - 2s - loss: 0.3914 - accuracy: 0.8581 - val_loss: 0.3694 - val_accuracy: 0.8627\n",
      "Epoch 14/30\n",
      "960/960 - 2s - loss: 0.3889 - accuracy: 0.8625 - val_loss: 0.3516 - val_accuracy: 0.8678\n",
      "Epoch 15/30\n",
      "960/960 - 2s - loss: 0.3886 - accuracy: 0.8620 - val_loss: 0.3513 - val_accuracy: 0.8733\n",
      "Epoch 16/30\n",
      "960/960 - 2s - loss: 0.3785 - accuracy: 0.8639 - val_loss: 0.3475 - val_accuracy: 0.8741\n",
      "Epoch 17/30\n",
      "960/960 - 2s - loss: 0.3766 - accuracy: 0.8630 - val_loss: 0.3547 - val_accuracy: 0.8740\n",
      "Epoch 18/30\n",
      "960/960 - 2s - loss: 0.3779 - accuracy: 0.8641 - val_loss: 0.3542 - val_accuracy: 0.8736\n",
      "Epoch 19/30\n",
      "960/960 - 2s - loss: 0.3736 - accuracy: 0.8662 - val_loss: 0.3526 - val_accuracy: 0.8750\n",
      "Epoch 20/30\n",
      "960/960 - 2s - loss: 0.3718 - accuracy: 0.8658 - val_loss: 0.3462 - val_accuracy: 0.8759\n",
      "Epoch 21/30\n",
      "960/960 - 2s - loss: 0.3671 - accuracy: 0.8673 - val_loss: 0.3482 - val_accuracy: 0.8743\n",
      "Epoch 22/30\n",
      "960/960 - 2s - loss: 0.3671 - accuracy: 0.8677 - val_loss: 0.3439 - val_accuracy: 0.8772\n",
      "Epoch 23/30\n",
      "960/960 - 2s - loss: 0.3622 - accuracy: 0.8691 - val_loss: 0.3577 - val_accuracy: 0.8736\n",
      "Epoch 24/30\n",
      "960/960 - 2s - loss: 0.3582 - accuracy: 0.8703 - val_loss: 0.3391 - val_accuracy: 0.8784\n",
      "Epoch 25/30\n",
      "960/960 - 2s - loss: 0.3597 - accuracy: 0.8696 - val_loss: 0.3383 - val_accuracy: 0.8798\n",
      "Epoch 26/30\n",
      "960/960 - 2s - loss: 0.3630 - accuracy: 0.8680 - val_loss: 0.3327 - val_accuracy: 0.8827\n",
      "Epoch 27/30\n",
      "960/960 - 2s - loss: 0.3583 - accuracy: 0.8711 - val_loss: 0.3408 - val_accuracy: 0.8773\n",
      "Epoch 28/30\n",
      "960/960 - 2s - loss: 0.3496 - accuracy: 0.8717 - val_loss: 0.3466 - val_accuracy: 0.8737\n",
      "Epoch 29/30\n",
      "960/960 - 2s - loss: 0.3545 - accuracy: 0.8719 - val_loss: 0.3457 - val_accuracy: 0.8736\n",
      "Epoch 30/30\n",
      "960/960 - 2s - loss: 0.3481 - accuracy: 0.8739 - val_loss: 0.3322 - val_accuracy: 0.8799\n"
     ]
    }
   ],
   "source": [
    "## Training the model\n",
    "\n",
    "training = model_imp.fit(X_train, Y_train, batch_size=50, epochs=30, validation_split=0.2, verbose = 2)"
   ]
  },
  {
   "cell_type": "code",
   "execution_count": 18,
   "metadata": {
    "colab": {
     "base_uri": "https://localhost:8080/"
    },
    "id": "tSqEE3oLXN8y",
    "outputId": "ae4b5959-b7cb-4e56-f92d-d65024930de9"
   },
   "outputs": [
    {
     "name": "stdout",
     "output_type": "stream",
     "text": [
      "313/313 - 1s - loss: 0.3578 - accuracy: 0.8712\n",
      "Test accuracy: 0.8712000250816345\n"
     ]
    }
   ],
   "source": [
    "#evaluate the model\n",
    "test_loss, test_acc = model_imp.evaluate(X_test, Y_test, verbose = 2)\n",
    "print('Test accuracy:', test_acc)"
   ]
  },
  {
   "cell_type": "code",
   "execution_count": 19,
   "metadata": {
    "colab": {
     "base_uri": "https://localhost:8080/",
     "height": 590
    },
    "id": "waWC6TDNXRMp",
    "outputId": "244b7b80-e485-4702-a410-571bd87807a0"
   },
   "outputs": [
    {
     "name": "stdout",
     "output_type": "stream",
     "text": [
      "dict_keys(['loss', 'accuracy', 'val_loss', 'val_accuracy'])\n"
     ]
    },
    {
     "data": {
      "image/png": "[encoded data removed]",
      "text/plain": [
       "<Figure size 432x288 with 1 Axes>"
      ]
     },
     "metadata": {
      "needs_background": "light",
      "tags": []
     },
     "output_type": "display_data"
    },
    {
     "data": {
      "image/png": "[encoded data removed]",
      "text/plain": [
       "<Figure size 432x288 with 1 Axes>"
      ]
     },
     "metadata": {
      "needs_background": "light",
      "tags": []
     },
     "output_type": "display_data"
    }
   ],
   "source": [
    "# list all data in training\n",
    "print(training.history.keys())\n",
    "# summarize training for accuracy\n",
    "plt.plot(training.history['accuracy'])\n",
    "plt.plot(training.history['val_accuracy'])\n",
    "plt.title('model accuracy')\n",
    "plt.ylabel('accuracy')\n",
    "plt.xlabel('epoch')\n",
    "plt.legend(['train', 'test'], loc='upper left')\n",
    "plt.show()\n",
    "# summarize traning for loss\n",
    "plt.plot(training.history['loss'])\n",
    "plt.plot(training.history['val_loss'])\n",
    "plt.title('model loss')\n",
    "plt.ylabel('loss')\n",
    "plt.xlabel('epoch')\n",
    "plt.legend(['train', 'test'], loc='upper left')\n",
    "plt.show()"
   ]
  },
  {
   "cell_type": "code",
   "execution_count": 20,
   "metadata": {
    "colab": {
     "base_uri": "https://localhost:8080/"
    },
    "id": "BNXlFgmtXq1l",
    "outputId": "31fe5299-b30f-4486-c958-109312523f93"
   },
   "outputs": [
    {
     "data": {
      "text/plain": [
       "{'layers': [{'class_name': 'InputLayer',\n",
       "   'config': {'batch_input_shape': (None, 784),\n",
       "    'dtype': 'float32',\n",
       "    'name': 'Input_layer_1_input',\n",
       "    'ragged': False,\n",
       "    'sparse': False}},\n",
       "  {'class_name': 'Dense',\n",
       "   'config': {'activation': 'relu',\n",
       "    'activity_regularizer': None,\n",
       "    'batch_input_shape': (None, 784),\n",
       "    'bias_constraint': None,\n",
       "    'bias_initializer': {'class_name': 'Zeros', 'config': {}},\n",
       "    'bias_regularizer': None,\n",
       "    'dtype': 'float32',\n",
       "    'kernel_constraint': None,\n",
       "    'kernel_initializer': {'class_name': 'GlorotUniform',\n",
       "     'config': {'seed': None}},\n",
       "    'kernel_regularizer': None,\n",
       "    'name': 'Input_layer_1',\n",
       "    'trainable': True,\n",
       "    'units': 64,\n",
       "    'use_bias': True}},\n",
       "  {'class_name': 'Dropout',\n",
       "   'config': {'dtype': 'float32',\n",
       "    'name': 'dropout',\n",
       "    'noise_shape': None,\n",
       "    'rate': 0.3,\n",
       "    'seed': None,\n",
       "    'trainable': True}},\n",
       "  {'class_name': 'Dense',\n",
       "   'config': {'activation': 'relu',\n",
       "    'activity_regularizer': None,\n",
       "    'bias_constraint': None,\n",
       "    'bias_initializer': {'class_name': 'Zeros', 'config': {}},\n",
       "    'bias_regularizer': None,\n",
       "    'dtype': 'float32',\n",
       "    'kernel_constraint': None,\n",
       "    'kernel_initializer': {'class_name': 'GlorotUniform',\n",
       "     'config': {'seed': None}},\n",
       "    'kernel_regularizer': None,\n",
       "    'name': 'layer_2',\n",
       "    'trainable': True,\n",
       "    'units': 64,\n",
       "    'use_bias': True}},\n",
       "  {'class_name': 'Dropout',\n",
       "   'config': {'dtype': 'float32',\n",
       "    'name': 'dropout_1',\n",
       "    'noise_shape': None,\n",
       "    'rate': 0.3,\n",
       "    'seed': None,\n",
       "    'trainable': True}},\n",
       "  {'class_name': 'Dense',\n",
       "   'config': {'activation': 'relu',\n",
       "    'activity_regularizer': None,\n",
       "    'bias_constraint': None,\n",
       "    'bias_initializer': {'class_name': 'Zeros', 'config': {}},\n",
       "    'bias_regularizer': None,\n",
       "    'dtype': 'float32',\n",
       "    'kernel_constraint': None,\n",
       "    'kernel_initializer': {'class_name': 'GlorotUniform',\n",
       "     'config': {'seed': None}},\n",
       "    'kernel_regularizer': None,\n",
       "    'name': 'layer_3',\n",
       "    'trainable': True,\n",
       "    'units': 64,\n",
       "    'use_bias': True}},\n",
       "  {'class_name': 'Dropout',\n",
       "   'config': {'dtype': 'float32',\n",
       "    'name': 'dropout_2',\n",
       "    'noise_shape': None,\n",
       "    'rate': 0.3,\n",
       "    'seed': None,\n",
       "    'trainable': True}},\n",
       "  {'class_name': 'Dense',\n",
       "   'config': {'activation': 'softmax',\n",
       "    'activity_regularizer': None,\n",
       "    'bias_constraint': None,\n",
       "    'bias_initializer': {'class_name': 'Zeros', 'config': {}},\n",
       "    'bias_regularizer': None,\n",
       "    'dtype': 'float32',\n",
       "    'kernel_constraint': None,\n",
       "    'kernel_initializer': {'class_name': 'GlorotUniform',\n",
       "     'config': {'seed': None}},\n",
       "    'kernel_regularizer': None,\n",
       "    'name': 'Output_layer_4',\n",
       "    'trainable': True,\n",
       "    'units': 10,\n",
       "    'use_bias': True}}],\n",
       " 'name': 'sequential_1'}"
      ]
     },
     "execution_count": 20,
     "metadata": {
      "tags": []
     },
     "output_type": "execute_result"
    }
   ],
   "source": [
    "model_imp.get_config()"
   ]
  },
  {
   "cell_type": "markdown",
   "metadata": {
    "id": "hpHmNNC8oxds"
   },
   "source": [
    "## Performing Grid Search to identify best model parameters"
   ]
  },
  {
   "cell_type": "code",
   "execution_count": 21,
   "metadata": {
    "id": "awd_4A3Mkxd7"
   },
   "outputs": [],
   "source": [
    "## importing libraries for grip seach and kerasClassifier\n",
    "\n",
    "from tensorflow.keras.wrappers.scikit_learn import KerasClassifier\n",
    "from sklearn.model_selection import GridSearchCV"
   ]
  },
  {
   "cell_type": "code",
   "execution_count": 22,
   "metadata": {
    "id": "GSBjZaApkgXQ"
   },
   "outputs": [],
   "source": [
    "## Writing Function for to create Dynamic Model\n",
    "def createmodel(n_layers, optimizer_func, loss_func):\n",
    "    N_hidden = 64\n",
    "    model = Sequential()\n",
    "    \n",
    "    for i in range(1, n_layers):\n",
    "        if i==1:\n",
    "            model.add(Dense(N_hidden, name='Input_layer_1', input_shape=(784,), activation = 'relu'))\n",
    "        else:\n",
    "            layer_name = 'layer_'+str(i)\n",
    "            model.add(Dense(N_hidden, name=layer_name, activation='relu'))\n",
    "            \n",
    "            \n",
    "    #Finally, the output layer should have a single node in binary classification\n",
    "    layer_name_out = 'Output_layer_'+str(i+1)\n",
    "    model.add(Dense(10, name=layer_name_out, activation = 'softmax'))  ## Output Layer\n",
    "    model.compile(optimizer=optimizer_func, loss=loss_func, metrics = [\"accuracy\"]) \n",
    "    \n",
    "    return model"
   ]
  },
  {
   "cell_type": "code",
   "execution_count": 23,
   "metadata": {
    "id": "631EwFrEk4jD"
   },
   "outputs": [],
   "source": [
    "## Creating the Classifier Model for grid search\n",
    "model_search =  KerasClassifier(build_fn=createmodel, verbose = False)  "
   ]
  },
  {
   "cell_type": "code",
   "execution_count": 27,
   "metadata": {
    "id": "erfzzHLglFbt"
   },
   "outputs": [],
   "source": [
    "## Defining the oaramters for grid search\n",
    "optimizer_search = ['SGD','Adam','RMSprop'] \n",
    "loss_funcs = ['categorical_crossentropy']\n",
    "param_grid = dict(n_layers=[2,3,4], optimizer_func=optimizer_search, loss_func = loss_funcs, batch_size = [50,100,150], epochs = [20,50,90])\n",
    "\n",
    "grid = GridSearchCV(estimator = model_search, param_grid = param_grid, n_jobs = -1)"
   ]
  },
  {
   "cell_type": "code",
   "execution_count": 28,
   "metadata": {
    "colab": {
     "base_uri": "https://localhost:8080/"
    },
    "id": "tSf4s4S_l9Tx",
    "outputId": "cdcd0b59-1eef-4bcc-f84c-0b759d4aa0b8"
   },
   "outputs": [
    {
     "name": "stderr",
     "output_type": "stream",
     "text": [
      "/usr/local/lib/python3.7/dist-packages/joblib/externals/loky/process_executor.py:691: UserWarning: A worker stopped while some jobs were given to the executor. This can be caused by a too short worker timeout or by a memory leak.\n",
      "  \"timeout or by a memory leak.\", UserWarning\n"
     ]
    },
    {
     "name": "stdout",
     "output_type": "stream",
     "text": [
      "Epoch 1/50\n",
      "400/400 - 2s - loss: 0.5887 - accuracy: 0.7999\n",
      "Epoch 2/50\n",
      "400/400 - 1s - loss: 0.4108 - accuracy: 0.8559\n",
      "Epoch 3/50\n",
      "400/400 - 1s - loss: 0.3711 - accuracy: 0.8676\n",
      "Epoch 4/50\n",
      "400/400 - 1s - loss: 0.3467 - accuracy: 0.8747\n",
      "Epoch 5/50\n",
      "400/400 - 1s - loss: 0.3307 - accuracy: 0.8800\n",
      "Epoch 6/50\n",
      "400/400 - 1s - loss: 0.3151 - accuracy: 0.8849\n",
      "Epoch 7/50\n",
      "400/400 - 1s - loss: 0.3000 - accuracy: 0.8896\n",
      "Epoch 8/50\n",
      "400/400 - 1s - loss: 0.2901 - accuracy: 0.8934\n",
      "Epoch 9/50\n",
      "400/400 - 1s - loss: 0.2812 - accuracy: 0.8972\n",
      "Epoch 10/50\n",
      "400/400 - 1s - loss: 0.2700 - accuracy: 0.9007\n",
      "Epoch 11/50\n",
      "400/400 - 1s - loss: 0.2619 - accuracy: 0.9034\n",
      "Epoch 12/50\n",
      "400/400 - 1s - loss: 0.2561 - accuracy: 0.9058\n",
      "Epoch 13/50\n",
      "400/400 - 1s - loss: 0.2509 - accuracy: 0.9068\n",
      "Epoch 14/50\n",
      "400/400 - 1s - loss: 0.2437 - accuracy: 0.9101\n",
      "Epoch 15/50\n",
      "400/400 - 1s - loss: 0.2383 - accuracy: 0.9117\n",
      "Epoch 16/50\n",
      "400/400 - 1s - loss: 0.2344 - accuracy: 0.9128\n",
      "Epoch 17/50\n",
      "400/400 - 1s - loss: 0.2288 - accuracy: 0.9154\n",
      "Epoch 18/50\n",
      "400/400 - 1s - loss: 0.2204 - accuracy: 0.9180\n",
      "Epoch 19/50\n",
      "400/400 - 1s - loss: 0.2167 - accuracy: 0.9200\n",
      "Epoch 20/50\n",
      "400/400 - 1s - loss: 0.2139 - accuracy: 0.9202\n",
      "Epoch 21/50\n",
      "400/400 - 1s - loss: 0.2104 - accuracy: 0.9213\n",
      "Epoch 22/50\n",
      "400/400 - 1s - loss: 0.2043 - accuracy: 0.9247\n",
      "Epoch 23/50\n",
      "400/400 - 1s - loss: 0.2004 - accuracy: 0.9255\n",
      "Epoch 24/50\n",
      "400/400 - 1s - loss: 0.1963 - accuracy: 0.9272\n",
      "Epoch 25/50\n",
      "400/400 - 1s - loss: 0.1937 - accuracy: 0.9275\n",
      "Epoch 26/50\n",
      "400/400 - 1s - loss: 0.1895 - accuracy: 0.9288\n",
      "Epoch 27/50\n",
      "400/400 - 1s - loss: 0.1821 - accuracy: 0.9321\n",
      "Epoch 28/50\n",
      "400/400 - 1s - loss: 0.1827 - accuracy: 0.9314\n",
      "Epoch 29/50\n",
      "400/400 - 1s - loss: 0.1775 - accuracy: 0.9331\n",
      "Epoch 30/50\n",
      "400/400 - 1s - loss: 0.1759 - accuracy: 0.9347\n",
      "Epoch 31/50\n",
      "400/400 - 1s - loss: 0.1712 - accuracy: 0.9366\n",
      "Epoch 32/50\n",
      "400/400 - 1s - loss: 0.1670 - accuracy: 0.9377\n",
      "Epoch 33/50\n",
      "400/400 - 1s - loss: 0.1664 - accuracy: 0.9374\n",
      "Epoch 34/50\n",
      "400/400 - 1s - loss: 0.1630 - accuracy: 0.9394\n",
      "Epoch 35/50\n",
      "400/400 - 1s - loss: 0.1591 - accuracy: 0.9411\n",
      "Epoch 36/50\n",
      "400/400 - 1s - loss: 0.1548 - accuracy: 0.9430\n",
      "Epoch 37/50\n",
      "400/400 - 1s - loss: 0.1544 - accuracy: 0.9420\n",
      "Epoch 38/50\n",
      "400/400 - 1s - loss: 0.1512 - accuracy: 0.9435\n",
      "Epoch 39/50\n",
      "400/400 - 1s - loss: 0.1502 - accuracy: 0.9439\n",
      "Epoch 40/50\n",
      "400/400 - 1s - loss: 0.1426 - accuracy: 0.9480\n",
      "Epoch 41/50\n",
      "400/400 - 1s - loss: 0.1482 - accuracy: 0.9443\n",
      "Epoch 42/50\n",
      "400/400 - 1s - loss: 0.1387 - accuracy: 0.9480\n",
      "Epoch 43/50\n",
      "400/400 - 1s - loss: 0.1353 - accuracy: 0.9494\n",
      "Epoch 44/50\n",
      "400/400 - 1s - loss: 0.1353 - accuracy: 0.9500\n",
      "Epoch 45/50\n",
      "400/400 - 1s - loss: 0.1332 - accuracy: 0.9505\n",
      "Epoch 46/50\n",
      "400/400 - 1s - loss: 0.1340 - accuracy: 0.9505\n",
      "Epoch 47/50\n",
      "400/400 - 1s - loss: 0.1305 - accuracy: 0.9511\n",
      "Epoch 48/50\n",
      "400/400 - 1s - loss: 0.1228 - accuracy: 0.9550\n",
      "Epoch 49/50\n",
      "400/400 - 1s - loss: 0.1244 - accuracy: 0.9531\n",
      "Epoch 50/50\n",
      "400/400 - 1s - loss: 0.1210 - accuracy: 0.9554\n"
     ]
    }
   ],
   "source": [
    "#Performing Grid Search for best model\n",
    "grid_result = grid.fit(X_train, Y_train, verbose=2)"
   ]
  },
  {
   "cell_type": "code",
   "execution_count": 29,
   "metadata": {
    "colab": {
     "base_uri": "https://localhost:8080/"
    },
    "id": "l39E2nVjmf1c",
    "outputId": "45a4d29c-215f-46e9-d3ad-7cb56ab22071"
   },
   "outputs": [
    {
     "name": "stdout",
     "output_type": "stream",
     "text": [
      "0.8909000039100647\n",
      "{'batch_size': 150, 'epochs': 50, 'loss_func': 'categorical_crossentropy', 'n_layers': 3, 'optimizer_func': 'Adam'}\n"
     ]
    }
   ],
   "source": [
    "## Best parameters for model from Grid Search\n",
    "print(grid_result.best_score_)\n",
    "print(grid_result.best_params_)"
   ]
  },
  {
   "cell_type": "code",
   "execution_count": 30,
   "metadata": {
    "colab": {
     "base_uri": "https://localhost:8080/"
    },
    "id": "rwl1N3RoqA50",
    "outputId": "b616f76e-272f-47d5-a123-8c8ff6ae4dce"
   },
   "outputs": [
    {
     "name": "stdout",
     "output_type": "stream",
     "text": [
      "{'mean_fit_time': array([ 58.12757044,  59.9370079 ,  46.98634157,  50.99658704,\n",
      "        69.17381301,  59.05103269,  43.2884872 ,  79.40661826,\n",
      "        63.03813262, 110.4980288 , 127.60303884, 128.1058712 ,\n",
      "       122.20338988, 151.45982332, 151.03647785, 113.53725648,\n",
      "       194.22893233, 139.91742721, 197.43505573, 242.42360139,\n",
      "       234.59486051, 197.35128007, 270.43632231, 253.78995724,\n",
      "       219.56138988, 313.56610494, 288.95935354,  33.72589941,\n",
      "        39.73203626,  37.15882807,  35.10186868,  45.93156657,\n",
      "        39.48318253,  37.22270126,  46.60622997,  45.93965654,\n",
      "        79.31090703, 109.0448154 ,  94.4270431 ,  92.63366394,\n",
      "        94.34213157,  94.57306819, 108.20470653, 104.17745757,\n",
      "       107.25208616, 142.28581386, 166.43558445, 169.42237601,\n",
      "       150.55825109, 191.00192389, 183.29718504, 170.48486857,\n",
      "       191.57114043, 199.73525267,  24.55045247,  28.14081831,\n",
      "        31.1493289 ,  25.15914941,  33.12797074,  32.16414394,\n",
      "        29.60807338,  35.76363058,  32.22879891,  71.01905708,\n",
      "        64.01075144,  68.47187581,  69.95838118,  75.26292629,\n",
      "        77.77053976,  78.14225636,  87.16079264,  90.73286362,\n",
      "       104.1575995 , 131.80316968, 130.31372471, 123.11207895,\n",
      "       132.64729424, 141.62351937, 127.79660883, 160.07433462,\n",
      "       140.03815746]), 'std_fit_time': array([20.37772692, 19.86121639, 20.4698516 , 15.95296172, 17.25078356,\n",
      "       19.62767013, 20.59404712,  6.64431231, 16.28827772, 26.70731889,\n",
      "       19.09775122, 19.90521872, 17.39351027, 30.06383472, 28.26396785,\n",
      "       24.95958106, 17.25069746,  5.05055131, 10.82087982, 25.92278778,\n",
      "       25.1727679 , 12.0459014 , 27.70003571,  8.13588078, 36.57496394,\n",
      "       12.47917646, 28.27084083,  6.69118056,  4.55077047,  4.72598078,\n",
      "        7.70289903, 19.99728624,  6.06989594,  6.14076025, 19.69353348,\n",
      "       19.62300759,  7.94290895, 27.72360842, 42.20224026, 25.7095518 ,\n",
      "       25.28961805, 25.69362049, 28.66627348, 33.2557036 , 20.05580928,\n",
      "        1.7878633 , 31.33100283, 29.28250393,  3.91479401, 24.12516959,\n",
      "       25.58122331, 27.7055425 , 20.82917471,  8.87056379,  9.70090879,\n",
      "        7.16011772,  9.20057181,  8.99678751,  7.76809897,  8.90284611,\n",
      "        6.62238062,  6.40773245,  2.57427155, 14.38775972, 15.29040134,\n",
      "        9.38900998, 16.33622507,  6.41933477,  4.90311425,  9.9955811 ,\n",
      "       30.10629666, 27.48697363, 22.80110753, 14.74506822, 18.40199832,\n",
      "       25.41460563,  5.90941014,  4.14925092,  8.21583476, 37.37177335,\n",
      "        7.08462908]), 'mean_score_time': array([0.56726584, 0.69495502, 0.61787167, 0.63123145, 0.78536835,\n",
      "       0.89353251, 0.52950974, 0.76656332, 0.66888275, 0.67219753,\n",
      "       0.79100842, 0.67749257, 0.88773155, 0.86377859, 0.94590297,\n",
      "       0.84544663, 0.74865594, 0.85767827, 0.89297767, 0.87104959,\n",
      "       0.84641147, 0.75601182, 0.94298344, 0.94838142, 0.85997615,\n",
      "       0.63566957, 0.95133319, 0.52800393, 0.60306249, 0.58852291,\n",
      "       0.56272855, 0.54430337, 0.74566598, 0.57549248, 0.54288883,\n",
      "       0.52118788, 0.76151347, 0.58253107, 0.31371202, 0.68540316,\n",
      "       0.65478458, 0.62430015, 0.71169229, 0.55701022, 0.77015162,\n",
      "       0.67072744, 0.68685126, 0.78287525, 0.76372652, 0.64790602,\n",
      "       0.69847984, 0.62223954, 0.70345349, 0.76320939, 0.39283862,\n",
      "       0.4950201 , 0.53937259, 0.49098644, 0.49518046, 0.52782311,\n",
      "       0.54595275, 0.59296808, 0.59625344, 0.50949898, 0.46383843,\n",
      "       0.558605  , 0.55422177, 0.43800635, 0.68562789, 0.52629013,\n",
      "       0.61175694, 0.65686655, 0.50847521, 0.57267447, 0.48759875,\n",
      "       0.53127723, 0.53610682, 0.75972838, 0.45008879, 0.64974928,\n",
      "       0.49286623]), 'std_score_time': array([0.10866286, 0.1889004 , 0.21061596, 0.21087308, 0.3338269 ,\n",
      "       0.27394615, 0.18810602, 0.30372034, 0.34604   , 0.23582029,\n",
      "       0.08827802, 0.27767605, 0.14106416, 0.22065866, 0.19416528,\n",
      "       0.24584072, 0.30448788, 0.24417964, 0.23537506, 0.27155834,\n",
      "       0.09443334, 0.13727584, 0.12348103, 0.13851841, 0.22904319,\n",
      "       0.28179197, 0.29646251, 0.23246299, 0.20167508, 0.08887242,\n",
      "       0.15697423, 0.18770005, 0.17457888, 0.14719573, 0.2052111 ,\n",
      "       0.19223617, 0.16438903, 0.18259828, 0.0697928 , 0.08669301,\n",
      "       0.26884843, 0.20191717, 0.21868018, 0.172542  , 0.13148892,\n",
      "       0.09495566, 0.23801879, 0.05205993, 0.18120072, 0.11773226,\n",
      "       0.282145  , 0.17067398, 0.09697145, 0.13734074, 0.15532396,\n",
      "       0.12859185, 0.14941634, 0.19669612, 0.16423826, 0.22262489,\n",
      "       0.22585161, 0.11855231, 0.09913846, 0.2208496 , 0.15631014,\n",
      "       0.17423829, 0.1427383 , 0.10041555, 0.12352116, 0.20534415,\n",
      "       0.16627552, 0.07068524, 0.1843577 , 0.1868305 , 0.18119278,\n",
      "       0.12652081, 0.20870909, 0.07589212, 0.15059235, 0.06215715,\n",
      "       0.16825297]), 'param_batch_size': masked_array(data=[50, 50, 50, 50, 50, 50, 50, 50, 50, 50, 50, 50, 50, 50,\n",
      "                   50, 50, 50, 50, 50, 50, 50, 50, 50, 50, 50, 50, 50,\n",
      "                   100, 100, 100, 100, 100, 100, 100, 100, 100, 100, 100,\n",
      "                   100, 100, 100, 100, 100, 100, 100, 100, 100, 100, 100,\n",
      "                   100, 100, 100, 100, 100, 150, 150, 150, 150, 150, 150,\n",
      "                   150, 150, 150, 150, 150, 150, 150, 150, 150, 150, 150,\n",
      "                   150, 150, 150, 150, 150, 150, 150, 150, 150, 150],\n",
      "             mask=[False, False, False, False, False, False, False, False,\n",
      "                   False, False, False, False, False, False, False, False,\n",
      "                   False, False, False, False, False, False, False, False,\n",
      "                   False, False, False, False, False, False, False, False,\n",
      "                   False, False, False, False, False, False, False, False,\n",
      "                   False, False, False, False, False, False, False, False,\n",
      "                   False, False, False, False, False, False, False, False,\n",
      "                   False, False, False, False, False, False, False, False,\n",
      "                   False, False, False, False, False, False, False, False,\n",
      "                   False, False, False, False, False, False, False, False,\n",
      "                   False],\n",
      "       fill_value='?',\n",
      "            dtype=object), 'param_epochs': masked_array(data=[20, 20, 20, 20, 20, 20, 20, 20, 20, 50, 50, 50, 50, 50,\n",
      "                   50, 50, 50, 50, 90, 90, 90, 90, 90, 90, 90, 90, 90, 20,\n",
      "                   20, 20, 20, 20, 20, 20, 20, 20, 50, 50, 50, 50, 50, 50,\n",
      "                   50, 50, 50, 90, 90, 90, 90, 90, 90, 90, 90, 90, 20, 20,\n",
      "                   20, 20, 20, 20, 20, 20, 20, 50, 50, 50, 50, 50, 50, 50,\n",
      "                   50, 50, 90, 90, 90, 90, 90, 90, 90, 90, 90],\n",
      "             mask=[False, False, False, False, False, False, False, False,\n",
      "                   False, False, False, False, False, False, False, False,\n",
      "                   False, False, False, False, False, False, False, False,\n",
      "                   False, False, False, False, False, False, False, False,\n",
      "                   False, False, False, False, False, False, False, False,\n",
      "                   False, False, False, False, False, False, False, False,\n",
      "                   False, False, False, False, False, False, False, False,\n",
      "                   False, False, False, False, False, False, False, False,\n",
      "                   False, False, False, False, False, False, False, False,\n",
      "                   False, False, False, False, False, False, False, False,\n",
      "                   False],\n",
      "       fill_value='?',\n",
      "            dtype=object), 'param_loss_func': masked_array(data=['categorical_crossentropy', 'categorical_crossentropy',\n",
      "                   'categorical_crossentropy', 'categorical_crossentropy',\n",
      "                   'categorical_crossentropy', 'categorical_crossentropy',\n",
      "                   'categorical_crossentropy', 'categorical_crossentropy',\n",
      "                   'categorical_crossentropy', 'categorical_crossentropy',\n",
      "                   'categorical_crossentropy', 'categorical_crossentropy',\n",
      "                   'categorical_crossentropy', 'categorical_crossentropy',\n",
      "                   'categorical_crossentropy', 'categorical_crossentropy',\n",
      "                   'categorical_crossentropy', 'categorical_crossentropy',\n",
      "                   'categorical_crossentropy', 'categorical_crossentropy',\n",
      "                   'categorical_crossentropy', 'categorical_crossentropy',\n",
      "                   'categorical_crossentropy', 'categorical_crossentropy',\n",
      "                   'categorical_crossentropy', 'categorical_crossentropy',\n",
      "                   'categorical_crossentropy', 'categorical_crossentropy',\n",
      "                   'categorical_crossentropy', 'categorical_crossentropy',\n",
      "                   'categorical_crossentropy', 'categorical_crossentropy',\n",
      "                   'categorical_crossentropy', 'categorical_crossentropy',\n",
      "                   'categorical_crossentropy', 'categorical_crossentropy',\n",
      "                   'categorical_crossentropy', 'categorical_crossentropy',\n",
      "                   'categorical_crossentropy', 'categorical_crossentropy',\n",
      "                   'categorical_crossentropy', 'categorical_crossentropy',\n",
      "                   'categorical_crossentropy', 'categorical_crossentropy',\n",
      "                   'categorical_crossentropy', 'categorical_crossentropy',\n",
      "                   'categorical_crossentropy', 'categorical_crossentropy',\n",
      "                   'categorical_crossentropy', 'categorical_crossentropy',\n",
      "                   'categorical_crossentropy', 'categorical_crossentropy',\n",
      "                   'categorical_crossentropy', 'categorical_crossentropy',\n",
      "                   'categorical_crossentropy', 'categorical_crossentropy',\n",
      "                   'categorical_crossentropy', 'categorical_crossentropy',\n",
      "                   'categorical_crossentropy', 'categorical_crossentropy',\n",
      "                   'categorical_crossentropy', 'categorical_crossentropy',\n",
      "                   'categorical_crossentropy', 'categorical_crossentropy',\n",
      "                   'categorical_crossentropy', 'categorical_crossentropy',\n",
      "                   'categorical_crossentropy', 'categorical_crossentropy',\n",
      "                   'categorical_crossentropy', 'categorical_crossentropy',\n",
      "                   'categorical_crossentropy', 'categorical_crossentropy',\n",
      "                   'categorical_crossentropy', 'categorical_crossentropy',\n",
      "                   'categorical_crossentropy', 'categorical_crossentropy',\n",
      "                   'categorical_crossentropy', 'categorical_crossentropy',\n",
      "                   'categorical_crossentropy', 'categorical_crossentropy',\n",
      "                   'categorical_crossentropy'],\n",
      "             mask=[False, False, False, False, False, False, False, False,\n",
      "                   False, False, False, False, False, False, False, False,\n",
      "                   False, False, False, False, False, False, False, False,\n",
      "                   False, False, False, False, False, False, False, False,\n",
      "                   False, False, False, False, False, False, False, False,\n",
      "                   False, False, False, False, False, False, False, False,\n",
      "                   False, False, False, False, False, False, False, False,\n",
      "                   False, False, False, False, False, False, False, False,\n",
      "                   False, False, False, False, False, False, False, False,\n",
      "                   False, False, False, False, False, False, False, False,\n",
      "                   False],\n",
      "       fill_value='?',\n",
      "            dtype=object), 'param_n_layers': masked_array(data=[2, 2, 2, 3, 3, 3, 4, 4, 4, 2, 2, 2, 3, 3, 3, 4, 4, 4,\n",
      "                   2, 2, 2, 3, 3, 3, 4, 4, 4, 2, 2, 2, 3, 3, 3, 4, 4, 4,\n",
      "                   2, 2, 2, 3, 3, 3, 4, 4, 4, 2, 2, 2, 3, 3, 3, 4, 4, 4,\n",
      "                   2, 2, 2, 3, 3, 3, 4, 4, 4, 2, 2, 2, 3, 3, 3, 4, 4, 4,\n",
      "                   2, 2, 2, 3, 3, 3, 4, 4, 4],\n",
      "             mask=[False, False, False, False, False, False, False, False,\n",
      "                   False, False, False, False, False, False, False, False,\n",
      "                   False, False, False, False, False, False, False, False,\n",
      "                   False, False, False, False, False, False, False, False,\n",
      "                   False, False, False, False, False, False, False, False,\n",
      "                   False, False, False, False, False, False, False, False,\n",
      "                   False, False, False, False, False, False, False, False,\n",
      "                   False, False, False, False, False, False, False, False,\n",
      "                   False, False, False, False, False, False, False, False,\n",
      "                   False, False, False, False, False, False, False, False,\n",
      "                   False],\n",
      "       fill_value='?',\n",
      "            dtype=object), 'param_optimizer_func': masked_array(data=['SGD', 'Adam', 'RMSprop', 'SGD', 'Adam', 'RMSprop',\n",
      "                   'SGD', 'Adam', 'RMSprop', 'SGD', 'Adam', 'RMSprop',\n",
      "                   'SGD', 'Adam', 'RMSprop', 'SGD', 'Adam', 'RMSprop',\n",
      "                   'SGD', 'Adam', 'RMSprop', 'SGD', 'Adam', 'RMSprop',\n",
      "                   'SGD', 'Adam', 'RMSprop', 'SGD', 'Adam', 'RMSprop',\n",
      "                   'SGD', 'Adam', 'RMSprop', 'SGD', 'Adam', 'RMSprop',\n",
      "                   'SGD', 'Adam', 'RMSprop', 'SGD', 'Adam', 'RMSprop',\n",
      "                   'SGD', 'Adam', 'RMSprop', 'SGD', 'Adam', 'RMSprop',\n",
      "                   'SGD', 'Adam', 'RMSprop', 'SGD', 'Adam', 'RMSprop',\n",
      "                   'SGD', 'Adam', 'RMSprop', 'SGD', 'Adam', 'RMSprop',\n",
      "                   'SGD', 'Adam', 'RMSprop', 'SGD', 'Adam', 'RMSprop',\n",
      "                   'SGD', 'Adam', 'RMSprop', 'SGD', 'Adam', 'RMSprop',\n",
      "                   'SGD', 'Adam', 'RMSprop', 'SGD', 'Adam', 'RMSprop',\n",
      "                   'SGD', 'Adam', 'RMSprop'],\n",
      "             mask=[False, False, False, False, False, False, False, False,\n",
      "                   False, False, False, False, False, False, False, False,\n",
      "                   False, False, False, False, False, False, False, False,\n",
      "                   False, False, False, False, False, False, False, False,\n",
      "                   False, False, False, False, False, False, False, False,\n",
      "                   False, False, False, False, False, False, False, False,\n",
      "                   False, False, False, False, False, False, False, False,\n",
      "                   False, False, False, False, False, False, False, False,\n",
      "                   False, False, False, False, False, False, False, False,\n",
      "                   False, False, False, False, False, False, False, False,\n",
      "                   False],\n",
      "       fill_value='?',\n",
      "            dtype=object), 'params': [{'batch_size': 50, 'epochs': 20, 'loss_func': 'categorical_crossentropy', 'n_layers': 2, 'optimizer_func': 'SGD'}, {'batch_size': 50, 'epochs': 20, 'loss_func': 'categorical_crossentropy', 'n_layers': 2, 'optimizer_func': 'Adam'}, {'batch_size': 50, 'epochs': 20, 'loss_func': 'categorical_crossentropy', 'n_layers': 2, 'optimizer_func': 'RMSprop'}, {'batch_size': 50, 'epochs': 20, 'loss_func': 'categorical_crossentropy', 'n_layers': 3, 'optimizer_func': 'SGD'}, {'batch_size': 50, 'epochs': 20, 'loss_func': 'categorical_crossentropy', 'n_layers': 3, 'optimizer_func': 'Adam'}, {'batch_size': 50, 'epochs': 20, 'loss_func': 'categorical_crossentropy', 'n_layers': 3, 'optimizer_func': 'RMSprop'}, {'batch_size': 50, 'epochs': 20, 'loss_func': 'categorical_crossentropy', 'n_layers': 4, 'optimizer_func': 'SGD'}, {'batch_size': 50, 'epochs': 20, 'loss_func': 'categorical_crossentropy', 'n_layers': 4, 'optimizer_func': 'Adam'}, {'batch_size': 50, 'epochs': 20, 'loss_func': 'categorical_crossentropy', 'n_layers': 4, 'optimizer_func': 'RMSprop'}, {'batch_size': 50, 'epochs': 50, 'loss_func': 'categorical_crossentropy', 'n_layers': 2, 'optimizer_func': 'SGD'}, {'batch_size': 50, 'epochs': 50, 'loss_func': 'categorical_crossentropy', 'n_layers': 2, 'optimizer_func': 'Adam'}, {'batch_size': 50, 'epochs': 50, 'loss_func': 'categorical_crossentropy', 'n_layers': 2, 'optimizer_func': 'RMSprop'}, {'batch_size': 50, 'epochs': 50, 'loss_func': 'categorical_crossentropy', 'n_layers': 3, 'optimizer_func': 'SGD'}, {'batch_size': 50, 'epochs': 50, 'loss_func': 'categorical_crossentropy', 'n_layers': 3, 'optimizer_func': 'Adam'}, {'batch_size': 50, 'epochs': 50, 'loss_func': 'categorical_crossentropy', 'n_layers': 3, 'optimizer_func': 'RMSprop'}, {'batch_size': 50, 'epochs': 50, 'loss_func': 'categorical_crossentropy', 'n_layers': 4, 'optimizer_func': 'SGD'}, {'batch_size': 50, 'epochs': 50, 'loss_func': 'categorical_crossentropy', 'n_layers': 4, 'optimizer_func': 'Adam'}, {'batch_size': 50, 'epochs': 50, 'loss_func': 'categorical_crossentropy', 'n_layers': 4, 'optimizer_func': 'RMSprop'}, {'batch_size': 50, 'epochs': 90, 'loss_func': 'categorical_crossentropy', 'n_layers': 2, 'optimizer_func': 'SGD'}, {'batch_size': 50, 'epochs': 90, 'loss_func': 'categorical_crossentropy', 'n_layers': 2, 'optimizer_func': 'Adam'}, {'batch_size': 50, 'epochs': 90, 'loss_func': 'categorical_crossentropy', 'n_layers': 2, 'optimizer_func': 'RMSprop'}, {'batch_size': 50, 'epochs': 90, 'loss_func': 'categorical_crossentropy', 'n_layers': 3, 'optimizer_func': 'SGD'}, {'batch_size': 50, 'epochs': 90, 'loss_func': 'categorical_crossentropy', 'n_layers': 3, 'optimizer_func': 'Adam'}, {'batch_size': 50, 'epochs': 90, 'loss_func': 'categorical_crossentropy', 'n_layers': 3, 'optimizer_func': 'RMSprop'}, {'batch_size': 50, 'epochs': 90, 'loss_func': 'categorical_crossentropy', 'n_layers': 4, 'optimizer_func': 'SGD'}, {'batch_size': 50, 'epochs': 90, 'loss_func': 'categorical_crossentropy', 'n_layers': 4, 'optimizer_func': 'Adam'}, {'batch_size': 50, 'epochs': 90, 'loss_func': 'categorical_crossentropy', 'n_layers': 4, 'optimizer_func': 'RMSprop'}, {'batch_size': 100, 'epochs': 20, 'loss_func': 'categorical_crossentropy', 'n_layers': 2, 'optimizer_func': 'SGD'}, {'batch_size': 100, 'epochs': 20, 'loss_func': 'categorical_crossentropy', 'n_layers': 2, 'optimizer_func': 'Adam'}, {'batch_size': 100, 'epochs': 20, 'loss_func': 'categorical_crossentropy', 'n_layers': 2, 'optimizer_func': 'RMSprop'}, {'batch_size': 100, 'epochs': 20, 'loss_func': 'categorical_crossentropy', 'n_layers': 3, 'optimizer_func': 'SGD'}, {'batch_size': 100, 'epochs': 20, 'loss_func': 'categorical_crossentropy', 'n_layers': 3, 'optimizer_func': 'Adam'}, {'batch_size': 100, 'epochs': 20, 'loss_func': 'categorical_crossentropy', 'n_layers': 3, 'optimizer_func': 'RMSprop'}, {'batch_size': 100, 'epochs': 20, 'loss_func': 'categorical_crossentropy', 'n_layers': 4, 'optimizer_func': 'SGD'}, {'batch_size': 100, 'epochs': 20, 'loss_func': 'categorical_crossentropy', 'n_layers': 4, 'optimizer_func': 'Adam'}, {'batch_size': 100, 'epochs': 20, 'loss_func': 'categorical_crossentropy', 'n_layers': 4, 'optimizer_func': 'RMSprop'}, {'batch_size': 100, 'epochs': 50, 'loss_func': 'categorical_crossentropy', 'n_layers': 2, 'optimizer_func': 'SGD'}, {'batch_size': 100, 'epochs': 50, 'loss_func': 'categorical_crossentropy', 'n_layers': 2, 'optimizer_func': 'Adam'}, {'batch_size': 100, 'epochs': 50, 'loss_func': 'categorical_crossentropy', 'n_layers': 2, 'optimizer_func': 'RMSprop'}, {'batch_size': 100, 'epochs': 50, 'loss_func': 'categorical_crossentropy', 'n_layers': 3, 'optimizer_func': 'SGD'}, {'batch_size': 100, 'epochs': 50, 'loss_func': 'categorical_crossentropy', 'n_layers': 3, 'optimizer_func': 'Adam'}, {'batch_size': 100, 'epochs': 50, 'loss_func': 'categorical_crossentropy', 'n_layers': 3, 'optimizer_func': 'RMSprop'}, {'batch_size': 100, 'epochs': 50, 'loss_func': 'categorical_crossentropy', 'n_layers': 4, 'optimizer_func': 'SGD'}, {'batch_size': 100, 'epochs': 50, 'loss_func': 'categorical_crossentropy', 'n_layers': 4, 'optimizer_func': 'Adam'}, {'batch_size': 100, 'epochs': 50, 'loss_func': 'categorical_crossentropy', 'n_layers': 4, 'optimizer_func': 'RMSprop'}, {'batch_size': 100, 'epochs': 90, 'loss_func': 'categorical_crossentropy', 'n_layers': 2, 'optimizer_func': 'SGD'}, {'batch_size': 100, 'epochs': 90, 'loss_func': 'categorical_crossentropy', 'n_layers': 2, 'optimizer_func': 'Adam'}, {'batch_size': 100, 'epochs': 90, 'loss_func': 'categorical_crossentropy', 'n_layers': 2, 'optimizer_func': 'RMSprop'}, {'batch_size': 100, 'epochs': 90, 'loss_func': 'categorical_crossentropy', 'n_layers': 3, 'optimizer_func': 'SGD'}, {'batch_size': 100, 'epochs': 90, 'loss_func': 'categorical_crossentropy', 'n_layers': 3, 'optimizer_func': 'Adam'}, {'batch_size': 100, 'epochs': 90, 'loss_func': 'categorical_crossentropy', 'n_layers': 3, 'optimizer_func': 'RMSprop'}, {'batch_size': 100, 'epochs': 90, 'loss_func': 'categorical_crossentropy', 'n_layers': 4, 'optimizer_func': 'SGD'}, {'batch_size': 100, 'epochs': 90, 'loss_func': 'categorical_crossentropy', 'n_layers': 4, 'optimizer_func': 'Adam'}, {'batch_size': 100, 'epochs': 90, 'loss_func': 'categorical_crossentropy', 'n_layers': 4, 'optimizer_func': 'RMSprop'}, {'batch_size': 150, 'epochs': 20, 'loss_func': 'categorical_crossentropy', 'n_layers': 2, 'optimizer_func': 'SGD'}, {'batch_size': 150, 'epochs': 20, 'loss_func': 'categorical_crossentropy', 'n_layers': 2, 'optimizer_func': 'Adam'}, {'batch_size': 150, 'epochs': 20, 'loss_func': 'categorical_crossentropy', 'n_layers': 2, 'optimizer_func': 'RMSprop'}, {'batch_size': 150, 'epochs': 20, 'loss_func': 'categorical_crossentropy', 'n_layers': 3, 'optimizer_func': 'SGD'}, {'batch_size': 150, 'epochs': 20, 'loss_func': 'categorical_crossentropy', 'n_layers': 3, 'optimizer_func': 'Adam'}, {'batch_size': 150, 'epochs': 20, 'loss_func': 'categorical_crossentropy', 'n_layers': 3, 'optimizer_func': 'RMSprop'}, {'batch_size': 150, 'epochs': 20, 'loss_func': 'categorical_crossentropy', 'n_layers': 4, 'optimizer_func': 'SGD'}, {'batch_size': 150, 'epochs': 20, 'loss_func': 'categorical_crossentropy', 'n_layers': 4, 'optimizer_func': 'Adam'}, {'batch_size': 150, 'epochs': 20, 'loss_func': 'categorical_crossentropy', 'n_layers': 4, 'optimizer_func': 'RMSprop'}, {'batch_size': 150, 'epochs': 50, 'loss_func': 'categorical_crossentropy', 'n_layers': 2, 'optimizer_func': 'SGD'}, {'batch_size': 150, 'epochs': 50, 'loss_func': 'categorical_crossentropy', 'n_layers': 2, 'optimizer_func': 'Adam'}, {'batch_size': 150, 'epochs': 50, 'loss_func': 'categorical_crossentropy', 'n_layers': 2, 'optimizer_func': 'RMSprop'}, {'batch_size': 150, 'epochs': 50, 'loss_func': 'categorical_crossentropy', 'n_layers': 3, 'optimizer_func': 'SGD'}, {'batch_size': 150, 'epochs': 50, 'loss_func': 'categorical_crossentropy', 'n_layers': 3, 'optimizer_func': 'Adam'}, {'batch_size': 150, 'epochs': 50, 'loss_func': 'categorical_crossentropy', 'n_layers': 3, 'optimizer_func': 'RMSprop'}, {'batch_size': 150, 'epochs': 50, 'loss_func': 'categorical_crossentropy', 'n_layers': 4, 'optimizer_func': 'SGD'}, {'batch_size': 150, 'epochs': 50, 'loss_func': 'categorical_crossentropy', 'n_layers': 4, 'optimizer_func': 'Adam'}, {'batch_size': 150, 'epochs': 50, 'loss_func': 'categorical_crossentropy', 'n_layers': 4, 'optimizer_func': 'RMSprop'}, {'batch_size': 150, 'epochs': 90, 'loss_func': 'categorical_crossentropy', 'n_layers': 2, 'optimizer_func': 'SGD'}, {'batch_size': 150, 'epochs': 90, 'loss_func': 'categorical_crossentropy', 'n_layers': 2, 'optimizer_func': 'Adam'}, {'batch_size': 150, 'epochs': 90, 'loss_func': 'categorical_crossentropy', 'n_layers': 2, 'optimizer_func': 'RMSprop'}, {'batch_size': 150, 'epochs': 90, 'loss_func': 'categorical_crossentropy', 'n_layers': 3, 'optimizer_func': 'SGD'}, {'batch_size': 150, 'epochs': 90, 'loss_func': 'categorical_crossentropy', 'n_layers': 3, 'optimizer_func': 'Adam'}, {'batch_size': 150, 'epochs': 90, 'loss_func': 'categorical_crossentropy', 'n_layers': 3, 'optimizer_func': 'RMSprop'}, {'batch_size': 150, 'epochs': 90, 'loss_func': 'categorical_crossentropy', 'n_layers': 4, 'optimizer_func': 'SGD'}, {'batch_size': 150, 'epochs': 90, 'loss_func': 'categorical_crossentropy', 'n_layers': 4, 'optimizer_func': 'Adam'}, {'batch_size': 150, 'epochs': 90, 'loss_func': 'categorical_crossentropy', 'n_layers': 4, 'optimizer_func': 'RMSprop'}], 'split0_test_score': array([0.86683333, 0.88766664, 0.89041668, 0.87241668, 0.89133334,\n",
      "       0.87633336, 0.87099999, 0.88341665, 0.88533336, 0.88041669,\n",
      "       0.88716668, 0.87975001, 0.88300002, 0.89074999, 0.88091666,\n",
      "       0.88566667, 0.89208335, 0.87916666, 0.88249999, 0.88191664,\n",
      "       0.87575001, 0.88749999, 0.88225001, 0.88150001, 0.8860833 ,\n",
      "       0.88691664, 0.88050002, 0.85750002, 0.88466668, 0.88391668,\n",
      "       0.85966665, 0.89174998, 0.88816667, 0.86441666, 0.88558334,\n",
      "       0.89216667, 0.87225002, 0.88641667, 0.89066666, 0.87383336,\n",
      "       0.89316666, 0.8860833 , 0.87258333, 0.88666666, 0.88666666,\n",
      "       0.87716669, 0.87308335, 0.88050002, 0.88483334, 0.8803333 ,\n",
      "       0.87833333, 0.88875002, 0.88433331, 0.8775    , 0.84733331,\n",
      "       0.88858336, 0.89125001, 0.85049999, 0.88591665, 0.88875002,\n",
      "       0.852     , 0.88766664, 0.89083332, 0.86433333, 0.88866669,\n",
      "       0.88141668, 0.87300003, 0.89200002, 0.88358331, 0.87383336,\n",
      "       0.88883334, 0.87941664, 0.87300003, 0.88208336, 0.884     ,\n",
      "       0.87408334, 0.88341665, 0.88091666, 0.87633336, 0.88458335,\n",
      "       0.88458335]), 'split1_test_score': array([0.85633332, 0.8865    , 0.88116664, 0.86766666, 0.88258332,\n",
      "       0.87966669, 0.86975002, 0.88950002, 0.87941664, 0.87091666,\n",
      "       0.88325   , 0.87616664, 0.87825   , 0.88633335, 0.87924999,\n",
      "       0.87849998, 0.88516665, 0.87791669, 0.87908334, 0.87924999,\n",
      "       0.87666667, 0.88183331, 0.88216668, 0.87166667, 0.87774998,\n",
      "       0.88550001, 0.86475003, 0.847     , 0.88283336, 0.88075   ,\n",
      "       0.84350002, 0.88483334, 0.88866669, 0.85583335, 0.88216668,\n",
      "       0.88225001, 0.86500001, 0.88125002, 0.87708336, 0.87183332,\n",
      "       0.88483334, 0.88541669, 0.87400001, 0.88599998, 0.87975001,\n",
      "       0.87233335, 0.87825   , 0.87816668, 0.87466669, 0.87725002,\n",
      "       0.88066667, 0.87508333, 0.88141668, 0.87524998, 0.83941668,\n",
      "       0.88383335, 0.87883335, 0.84941667, 0.88091666, 0.88824999,\n",
      "       0.84108335, 0.88091666, 0.88325   , 0.85600001, 0.88700002,\n",
      "       0.88458335, 0.86608332, 0.88424999, 0.88233334, 0.86933333,\n",
      "       0.87883335, 0.89041668, 0.86408335, 0.88541669, 0.88008332,\n",
      "       0.87441665, 0.88233334, 0.88075   , 0.88150001, 0.87966669,\n",
      "       0.88041669]), 'split2_test_score': array([0.86083335, 0.88075   , 0.88800001, 0.87208331, 0.87991667,\n",
      "       0.8860833 , 0.87883335, 0.89441669, 0.88550001, 0.88125002,\n",
      "       0.88775003, 0.88308334, 0.88483334, 0.88658333, 0.88008332,\n",
      "       0.88758332, 0.89183331, 0.88166666, 0.88824999, 0.88383335,\n",
      "       0.87258333, 0.88575   , 0.88841665, 0.87741667, 0.89116669,\n",
      "       0.89249998, 0.87849998, 0.85891664, 0.88558334, 0.88916665,\n",
      "       0.86183333, 0.89074999, 0.89391667, 0.86825001, 0.89241666,\n",
      "       0.89466667, 0.87183332, 0.88475001, 0.88391668, 0.87033331,\n",
      "       0.89025003, 0.88700002, 0.87816668, 0.89399999, 0.88424999,\n",
      "       0.87891668, 0.89183331, 0.88208336, 0.88325   , 0.88858336,\n",
      "       0.88166666, 0.89041668, 0.88824999, 0.87958336, 0.85066664,\n",
      "       0.88633335, 0.8754167 , 0.85991669, 0.88791668, 0.89408332,\n",
      "       0.85816669, 0.88725001, 0.89275002, 0.86758333, 0.89108336,\n",
      "       0.88941669, 0.87383336, 0.89708334, 0.88375002, 0.87308335,\n",
      "       0.89249998, 0.89025003, 0.87358332, 0.88599998, 0.88241667,\n",
      "       0.87916666, 0.88508332, 0.89108336, 0.88041669, 0.89025003,\n",
      "       0.88191664]), 'split3_test_score': array([0.86916667, 0.89191669, 0.88875002, 0.87674999, 0.88      ,\n",
      "       0.88475001, 0.86475003, 0.88533336, 0.87308335, 0.87616664,\n",
      "       0.88849998, 0.88983333, 0.88041669, 0.88866669, 0.88450003,\n",
      "       0.88775003, 0.89275002, 0.88700002, 0.88150001, 0.88316667,\n",
      "       0.88258332, 0.88616669, 0.88708335, 0.88266665, 0.88241667,\n",
      "       0.89608335, 0.87341666, 0.852     , 0.88674998, 0.88550001,\n",
      "       0.86291665, 0.89249998, 0.8915    , 0.86216664, 0.89358336,\n",
      "       0.88816667, 0.86958331, 0.88916665, 0.89450002, 0.87508333,\n",
      "       0.89574999, 0.88533336, 0.87858331, 0.89083332, 0.89308333,\n",
      "       0.87900001, 0.88541669, 0.88516665, 0.88375002, 0.889     ,\n",
      "       0.88349998, 0.88849998, 0.89283335, 0.88883334, 0.84808332,\n",
      "       0.88150001, 0.88533336, 0.85091668, 0.88933331, 0.8865    ,\n",
      "       0.85691667, 0.88816667, 0.889     , 0.86233336, 0.89458334,\n",
      "       0.88933331, 0.87441665, 0.89141667, 0.88441664, 0.87524998,\n",
      "       0.89008331, 0.88775003, 0.87058336, 0.88958335, 0.87725002,\n",
      "       0.88291669, 0.88866669, 0.88408333, 0.87774998, 0.89008331,\n",
      "       0.88566667]), 'split4_test_score': array([0.86041665, 0.88416666, 0.88241667, 0.87191665, 0.89050001,\n",
      "       0.87908334, 0.87366664, 0.88933331, 0.88083333, 0.87566668,\n",
      "       0.88433331, 0.88316667, 0.88058335, 0.88950002, 0.8745833 ,\n",
      "       0.88533336, 0.88625002, 0.87741667, 0.88258332, 0.88475001,\n",
      "       0.87225002, 0.88508332, 0.88366669, 0.87416667, 0.88050002,\n",
      "       0.88099998, 0.87050003, 0.84891665, 0.87741667, 0.88766664,\n",
      "       0.86000001, 0.89291668, 0.88583332, 0.85816669, 0.88499999,\n",
      "       0.88233334, 0.87150002, 0.88450003, 0.87774998, 0.87633336,\n",
      "       0.88150001, 0.88008332, 0.87949997, 0.88583332, 0.88333333,\n",
      "       0.87625003, 0.88499999, 0.88358331, 0.87949997, 0.88191664,\n",
      "       0.87408334, 0.88366669, 0.88700002, 0.88191664, 0.84141666,\n",
      "       0.88558334, 0.88499999, 0.84899998, 0.88499999, 0.88958335,\n",
      "       0.85541666, 0.88674998, 0.87833333, 0.86133331, 0.88558334,\n",
      "       0.88824999, 0.86949998, 0.88975   , 0.88866669, 0.87008333,\n",
      "       0.88558334, 0.88091666, 0.87258333, 0.87791669, 0.87975001,\n",
      "       0.87858331, 0.88325   , 0.87274998, 0.875     , 0.88566667,\n",
      "       0.87991667]), 'mean_test_score': array([0.86271666, 0.8862    , 0.88615   , 0.87216666, 0.88486667,\n",
      "       0.88118334, 0.87160001, 0.88840001, 0.88083334, 0.87688334,\n",
      "       0.8862    , 0.8824    , 0.88141668, 0.88836668, 0.87986666,\n",
      "       0.88496667, 0.88961667, 0.88063334, 0.88278333, 0.88258333,\n",
      "       0.87596667, 0.88526666, 0.88471668, 0.87748333, 0.88358333,\n",
      "       0.88839999, 0.87353334, 0.85286666, 0.88345001, 0.8854    ,\n",
      "       0.85758333, 0.89054999, 0.88961667, 0.86176667, 0.88775001,\n",
      "       0.88791667, 0.87003334, 0.88521668, 0.88478334, 0.87348334,\n",
      "       0.8891    , 0.88478334, 0.87656666, 0.88866665, 0.88541666,\n",
      "       0.87673335, 0.88271667, 0.8819    , 0.8812    , 0.88341666,\n",
      "       0.87965   , 0.88528334, 0.88676667, 0.88061666, 0.84538332,\n",
      "       0.88516668, 0.88316668, 0.85195   , 0.88581666, 0.88943334,\n",
      "       0.85271667, 0.88614999, 0.88683333, 0.86231667, 0.88938335,\n",
      "       0.88660001, 0.87136667, 0.8909    , 0.88455   , 0.87231667,\n",
      "       0.88716667, 0.88575001, 0.87076668, 0.88420001, 0.8807    ,\n",
      "       0.87783333, 0.88455   , 0.88191667, 0.87820001, 0.88605001,\n",
      "       0.8825    ]), 'std_test_score': array([0.00465045, 0.00370833, 0.00366494, 0.00287711, 0.00503891,\n",
      "       0.0036596 , 0.00463243, 0.0038084 , 0.00456284, 0.00371881,\n",
      "       0.00204029, 0.00452076, 0.00227608, 0.00169525, 0.00319098,\n",
      "       0.00337747, 0.00322344, 0.00350659, 0.00301136, 0.00190541,\n",
      "       0.00373035, 0.0018896 , 0.00256828, 0.00419139, 0.00466161,\n",
      "       0.0053144 , 0.00564913, 0.00466565, 0.00327727, 0.00293796,\n",
      "       0.00714181, 0.00295174, 0.00280555, 0.00441317, 0.00445502,\n",
      "       0.00503929, 0.00267738, 0.00258875, 0.00690704, 0.00216565,\n",
      "       0.00525446, 0.00242476, 0.00274539, 0.00323351, 0.00443064,\n",
      "       0.00243664, 0.00645552, 0.00242635, 0.00372775, 0.00464011,\n",
      "       0.00324482, 0.0055744 , 0.00383674, 0.00466447, 0.00425067,\n",
      "       0.00238456, 0.00551789, 0.00404373, 0.00287972, 0.00253442,\n",
      "       0.0061722 , 0.00265801, 0.00530645, 0.00381241, 0.00318006,\n",
      "       0.00313244, 0.00314493, 0.00412931, 0.00216578, 0.00225302,\n",
      "       0.0047261 , 0.00467976, 0.00349062, 0.00394109, 0.00232474,\n",
      "       0.00328381, 0.00224141, 0.00591797, 0.00243847, 0.00392307,\n",
      "       0.00226814]), 'rank_test_score': array([74, 18, 20, 69, 32, 52, 70,  9, 53, 62, 18, 47, 50, 11, 57, 31,  3,\n",
      "       55, 43, 45, 65, 28, 35, 61, 39, 10, 66, 78, 40, 26, 77,  2,  3, 76,\n",
      "       13, 12, 73, 29, 33, 67,  7, 33, 64,  8, 25, 63, 44, 49, 51, 41, 58,\n",
      "       27, 16, 56, 81, 30, 42, 80, 23,  5, 79, 21, 15, 75,  6, 17, 71,  1,\n",
      "       36, 68, 14, 24, 72, 38, 54, 60, 36, 48, 59, 22, 46], dtype=int32)}\n"
     ]
    }
   ],
   "source": [
    "## Parameters of Grid Search\n",
    "print(grid.cv_results_)"
   ]
  },
  {
   "cell_type": "markdown",
   "metadata": {
    "id": "lxG_be1fa18T"
   },
   "source": [
    "### **Data for Plotting the model performance**"
   ]
  },
  {
   "cell_type": "code",
   "execution_count": 132,
   "metadata": {
    "id": "ljTnfmNwBVeJ"
   },
   "outputs": [],
   "source": [
    "## Creating data for ploting the values\n",
    "df_param = pd.DataFrame(grid.cv_results_['params'])\n",
    "df_rank = pd.DataFrame(grid.cv_results_['rank_test_score'])\n",
    "df_mean_score = pd.DataFrame(grid.cv_results_['mean_test_score'])"
   ]
  },
  {
   "cell_type": "code",
   "execution_count": 133,
   "metadata": {
    "colab": {
     "base_uri": "https://localhost:8080/"
    },
    "id": "yhsEmQpkG6r3",
    "outputId": "021040ec-1346-488e-9aef-5abfbe5301ae"
   },
   "outputs": [
    {
     "name": "stdout",
     "output_type": "stream",
     "text": [
      "    batch_size  epochs                 loss_func  n_layers optimizer_func\n",
      "0           50      20  categorical_crossentropy         2            SGD\n",
      "1           50      20  categorical_crossentropy         2           Adam\n",
      "2           50      20  categorical_crossentropy         2        RMSprop\n",
      "3           50      20  categorical_crossentropy         3            SGD\n",
      "4           50      20  categorical_crossentropy         3           Adam\n",
      "..         ...     ...                       ...       ...            ...\n",
      "76         150      90  categorical_crossentropy         3           Adam\n",
      "77         150      90  categorical_crossentropy         3        RMSprop\n",
      "78         150      90  categorical_crossentropy         4            SGD\n",
      "79         150      90  categorical_crossentropy         4           Adam\n",
      "80         150      90  categorical_crossentropy         4        RMSprop\n",
      "\n",
      "[81 rows x 5 columns]\n"
     ]
    }
   ],
   "source": [
    "print(df_param)\n",
    "## Dropping loss function column as this is constant for all the models\n",
    "df_param.drop(columns= 'loss_func', axis =1, inplace = True)"
   ]
  },
  {
   "cell_type": "code",
   "execution_count": 134,
   "metadata": {
    "colab": {
     "base_uri": "https://localhost:8080/"
    },
    "id": "quHJNt2WAsYt",
    "outputId": "f5a78bb0-2e3b-4c24-f2aa-094e6b9a8b82"
   },
   "outputs": [
    {
     "name": "stdout",
     "output_type": "stream",
     "text": [
      "    Rank\n",
      "0     74\n",
      "1     18\n",
      "2     20\n",
      "3     69\n",
      "4     32\n",
      "..   ...\n",
      "76    36\n",
      "77    48\n",
      "78    59\n",
      "79    22\n",
      "80    46\n",
      "\n",
      "[81 rows x 1 columns]\n"
     ]
    }
   ],
   "source": [
    "## Renaming the column to correct name in dataframe\n",
    "df_rank.rename(columns={0: 'Rank'}, inplace = True)\n",
    "print(df_rank)"
   ]
  },
  {
   "cell_type": "code",
   "execution_count": 135,
   "metadata": {
    "colab": {
     "base_uri": "https://localhost:8080/"
    },
    "id": "nU-QMrzSH3fV",
    "outputId": "6a69ea98-b2c7-4e11-c862-6c55aefcad1a"
   },
   "outputs": [
    {
     "name": "stdout",
     "output_type": "stream",
     "text": [
      "    Mean_Score\n",
      "0     0.862717\n",
      "1     0.886200\n",
      "2     0.886150\n",
      "3     0.872167\n",
      "4     0.884867\n",
      "..         ...\n",
      "76    0.884550\n",
      "77    0.881917\n",
      "78    0.878200\n",
      "79    0.886050\n",
      "80    0.882500\n",
      "\n",
      "[81 rows x 1 columns]\n"
     ]
    }
   ],
   "source": [
    "## Renaming the column to correct name in dataframe\n",
    "df_mean_score.rename(columns={0: 'Mean_Score'}, inplace= True)\n",
    "print(df_mean_score)"
   ]
  },
  {
   "cell_type": "code",
   "execution_count": 136,
   "metadata": {
    "id": "0x7qT1-sJ-5j"
   },
   "outputs": [],
   "source": [
    "## Merging two dataframe based on index\n",
    "mergedDf = df_param.merge(df_rank, left_index=True, right_index=True)"
   ]
  },
  {
   "cell_type": "code",
   "execution_count": 137,
   "metadata": {
    "id": "Qn-RL5CZKS4v"
   },
   "outputs": [],
   "source": [
    "## Merging two dataframe based on index and creating a final dataframe for plotting the performance\n",
    "df_score = mergedDf.merge(df_mean_score, left_index=True, right_index=True)"
   ]
  },
  {
   "cell_type": "code",
   "execution_count": 138,
   "metadata": {
    "colab": {
     "base_uri": "https://localhost:8080/",
     "height": 399
    },
    "id": "LGTUquB-TqPj",
    "outputId": "7d707d80-bc53-454f-8e54-b9ff658830e4"
   },
   "outputs": [
    {
     "data": {
      "text/plain": [
       "<seaborn.axisgrid.FacetGrid at 0x7f414f417fd0>"
      ]
     },
     "execution_count": 138,
     "metadata": {
      "tags": []
     },
     "output_type": "execute_result"
    },
    {
     "data": {
      "image/png": "[encoded data removed]",
      "text/plain": [
       "<Figure size 1177.55x360 with 3 Axes>"
      ]
     },
     "metadata": {
      "tags": []
     },
     "output_type": "display_data"
    }
   ],
   "source": [
    "## Plotting mean score to see the best performing model\n",
    "## Calling Seaborn library to plot visual barplots\n",
    "\n",
    "sns.set(rc={'figure.figsize':(12,10)})\n",
    "sns.catplot(x=\"epochs\", y=\"Mean_Score\",\n",
    "                hue =\"optimizer_func\", \n",
    "                kind=\"bar\", col=\"n_layers\",\n",
    "                data=df_score )"
   ]
  },
  {
   "cell_type": "code",
   "execution_count": null,
   "metadata": {
    "id": "pRpTK2TbXagw"
   },
   "outputs": [],
   "source": []
  },
  {
   "cell_type": "markdown",
   "metadata": {
    "id": "d7c_AcO9bPid"
   },
   "source": [
    "## **Training with best model parameters** "
   ]
  },
  {
   "cell_type": "code",
   "execution_count": 139,
   "metadata": {
    "colab": {
     "base_uri": "https://localhost:8080/"
    },
    "id": "qFqA_U7sbTaA",
    "outputId": "7c2fb158-35b8-4226-a411-c894736b2939"
   },
   "outputs": [
    {
     "name": "stdout",
     "output_type": "stream",
     "text": [
      "{'batch_size': 150, 'epochs': 50, 'loss_func': 'categorical_crossentropy', 'n_layers': 3, 'optimizer_func': 'Adam'}\n"
     ]
    }
   ],
   "source": [
    "print(grid_result.best_params_)"
   ]
  },
  {
   "cell_type": "code",
   "execution_count": 156,
   "metadata": {
    "id": "bKNklWQLdjyo"
   },
   "outputs": [],
   "source": [
    "model_imp = tf.keras.Sequential()\n",
    "N_hidden = 64\n",
    "model_imp.add(Dense(N_hidden, name='Input_layer_1', input_shape=(784,), activation = 'relu')) ## Input Layer\n",
    "model_imp.add(Dropout(0.3))  ## Adding a drop out layer\n",
    "model_imp.add(Dense(N_hidden, name='layer_2', activation='relu'))  ## Adding a Dense Layer\n",
    "model_imp.add(Dropout(0.3))  ## Adding a drop out layer\n",
    "model_imp.add(Dense(N_hidden, name='layer_3', activation='relu'))  ## Adding a Dense Layer\n",
    "model_imp.add(Dropout(0.3))  ## Adding a drop out layer\n",
    "model_imp.add(Dense(10, name='Output_layer_5', activation = 'softmax'))  ## Output Layer"
   ]
  },
  {
   "cell_type": "code",
   "execution_count": 157,
   "metadata": {
    "id": "QRLZPd84drVO"
   },
   "outputs": [],
   "source": [
    "## Compiling the model with Adam\n",
    "\n",
    "model_imp.compile(optimizer='Adam', \n",
    "              loss='categorical_crossentropy',\n",
    "              metrics=['accuracy'])"
   ]
  },
  {
   "cell_type": "code",
   "execution_count": 158,
   "metadata": {
    "colab": {
     "base_uri": "https://localhost:8080/"
    },
    "id": "8fAeE7rqdrf5",
    "outputId": "516d0bbb-4d9f-4145-d88f-d84b2cbe4600"
   },
   "outputs": [
    {
     "name": "stdout",
     "output_type": "stream",
     "text": [
      "Epoch 1/50\n",
      "320/320 - 2s - loss: 1.0291 - accuracy: 0.6244 - val_loss: 0.5277 - val_accuracy: 0.8135\n",
      "Epoch 2/50\n",
      "320/320 - 1s - loss: 0.5984 - accuracy: 0.7920 - val_loss: 0.4439 - val_accuracy: 0.8399\n",
      "Epoch 3/50\n",
      "320/320 - 1s - loss: 0.5359 - accuracy: 0.8146 - val_loss: 0.4369 - val_accuracy: 0.8369\n",
      "Epoch 4/50\n",
      "320/320 - 1s - loss: 0.4990 - accuracy: 0.8255 - val_loss: 0.4061 - val_accuracy: 0.8542\n",
      "Epoch 5/50\n",
      "320/320 - 1s - loss: 0.4750 - accuracy: 0.8330 - val_loss: 0.3959 - val_accuracy: 0.8567\n",
      "Epoch 6/50\n",
      "320/320 - 1s - loss: 0.4588 - accuracy: 0.8404 - val_loss: 0.3822 - val_accuracy: 0.8626\n",
      "Epoch 7/50\n",
      "320/320 - 1s - loss: 0.4388 - accuracy: 0.8444 - val_loss: 0.3731 - val_accuracy: 0.8635\n",
      "Epoch 8/50\n",
      "320/320 - 1s - loss: 0.4314 - accuracy: 0.8494 - val_loss: 0.3695 - val_accuracy: 0.8668\n",
      "Epoch 9/50\n",
      "320/320 - 1s - loss: 0.4198 - accuracy: 0.8537 - val_loss: 0.3784 - val_accuracy: 0.8649\n",
      "Epoch 10/50\n",
      "320/320 - 1s - loss: 0.4124 - accuracy: 0.8548 - val_loss: 0.3598 - val_accuracy: 0.8719\n",
      "Epoch 11/50\n",
      "320/320 - 1s - loss: 0.4108 - accuracy: 0.8556 - val_loss: 0.3595 - val_accuracy: 0.8709\n",
      "Epoch 12/50\n",
      "320/320 - 1s - loss: 0.3998 - accuracy: 0.8606 - val_loss: 0.3646 - val_accuracy: 0.8704\n",
      "Epoch 13/50\n",
      "320/320 - 1s - loss: 0.3947 - accuracy: 0.8609 - val_loss: 0.3600 - val_accuracy: 0.8736\n",
      "Epoch 14/50\n",
      "320/320 - 1s - loss: 0.3885 - accuracy: 0.8621 - val_loss: 0.3537 - val_accuracy: 0.8738\n",
      "Epoch 15/50\n",
      "320/320 - 1s - loss: 0.3855 - accuracy: 0.8636 - val_loss: 0.3521 - val_accuracy: 0.8756\n",
      "Epoch 16/50\n",
      "320/320 - 1s - loss: 0.3768 - accuracy: 0.8672 - val_loss: 0.3683 - val_accuracy: 0.8716\n",
      "Epoch 17/50\n",
      "320/320 - 1s - loss: 0.3809 - accuracy: 0.8635 - val_loss: 0.3543 - val_accuracy: 0.8739\n",
      "Epoch 18/50\n",
      "320/320 - 1s - loss: 0.3774 - accuracy: 0.8662 - val_loss: 0.3488 - val_accuracy: 0.8768\n",
      "Epoch 19/50\n",
      "320/320 - 1s - loss: 0.3696 - accuracy: 0.8681 - val_loss: 0.3388 - val_accuracy: 0.8805\n",
      "Epoch 20/50\n",
      "320/320 - 1s - loss: 0.3650 - accuracy: 0.8695 - val_loss: 0.3420 - val_accuracy: 0.8795\n",
      "Epoch 21/50\n",
      "320/320 - 1s - loss: 0.3625 - accuracy: 0.8723 - val_loss: 0.3407 - val_accuracy: 0.8814\n",
      "Epoch 22/50\n",
      "320/320 - 1s - loss: 0.3602 - accuracy: 0.8722 - val_loss: 0.3374 - val_accuracy: 0.8805\n",
      "Epoch 23/50\n",
      "320/320 - 1s - loss: 0.3593 - accuracy: 0.8705 - val_loss: 0.3393 - val_accuracy: 0.8804\n",
      "Epoch 24/50\n",
      "320/320 - 1s - loss: 0.3544 - accuracy: 0.8728 - val_loss: 0.3432 - val_accuracy: 0.8780\n",
      "Epoch 25/50\n",
      "320/320 - 1s - loss: 0.3580 - accuracy: 0.8725 - val_loss: 0.3476 - val_accuracy: 0.8786\n",
      "Epoch 26/50\n",
      "320/320 - 1s - loss: 0.3530 - accuracy: 0.8749 - val_loss: 0.3499 - val_accuracy: 0.8773\n",
      "Epoch 27/50\n",
      "320/320 - 1s - loss: 0.3531 - accuracy: 0.8733 - val_loss: 0.3549 - val_accuracy: 0.8742\n",
      "Epoch 28/50\n",
      "320/320 - 1s - loss: 0.3480 - accuracy: 0.8750 - val_loss: 0.3395 - val_accuracy: 0.8811\n",
      "Epoch 29/50\n",
      "320/320 - 1s - loss: 0.3461 - accuracy: 0.8753 - val_loss: 0.3410 - val_accuracy: 0.8777\n",
      "Epoch 30/50\n",
      "320/320 - 1s - loss: 0.3448 - accuracy: 0.8780 - val_loss: 0.3335 - val_accuracy: 0.8838\n",
      "Epoch 31/50\n",
      "320/320 - 1s - loss: 0.3439 - accuracy: 0.8753 - val_loss: 0.3352 - val_accuracy: 0.8804\n",
      "Epoch 32/50\n",
      "320/320 - 1s - loss: 0.3399 - accuracy: 0.8787 - val_loss: 0.3376 - val_accuracy: 0.8808\n",
      "Epoch 33/50\n",
      "320/320 - 1s - loss: 0.3362 - accuracy: 0.8790 - val_loss: 0.3351 - val_accuracy: 0.8840\n",
      "Epoch 34/50\n",
      "320/320 - 1s - loss: 0.3364 - accuracy: 0.8794 - val_loss: 0.3356 - val_accuracy: 0.8837\n",
      "Epoch 35/50\n",
      "320/320 - 1s - loss: 0.3391 - accuracy: 0.8780 - val_loss: 0.3384 - val_accuracy: 0.8796\n",
      "Epoch 36/50\n",
      "320/320 - 1s - loss: 0.3355 - accuracy: 0.8778 - val_loss: 0.3460 - val_accuracy: 0.8810\n",
      "Epoch 37/50\n",
      "320/320 - 1s - loss: 0.3351 - accuracy: 0.8790 - val_loss: 0.3422 - val_accuracy: 0.8808\n",
      "Epoch 38/50\n",
      "320/320 - 1s - loss: 0.3326 - accuracy: 0.8796 - val_loss: 0.3357 - val_accuracy: 0.8795\n",
      "Epoch 39/50\n",
      "320/320 - 1s - loss: 0.3295 - accuracy: 0.8821 - val_loss: 0.3337 - val_accuracy: 0.8826\n",
      "Epoch 40/50\n",
      "320/320 - 1s - loss: 0.3272 - accuracy: 0.8814 - val_loss: 0.3452 - val_accuracy: 0.8838\n",
      "Epoch 41/50\n",
      "320/320 - 1s - loss: 0.3270 - accuracy: 0.8823 - val_loss: 0.3455 - val_accuracy: 0.8802\n",
      "Epoch 42/50\n",
      "320/320 - 1s - loss: 0.3278 - accuracy: 0.8818 - val_loss: 0.3504 - val_accuracy: 0.8798\n",
      "Epoch 43/50\n",
      "320/320 - 1s - loss: 0.3231 - accuracy: 0.8846 - val_loss: 0.3374 - val_accuracy: 0.8836\n",
      "Epoch 44/50\n",
      "320/320 - 1s - loss: 0.3231 - accuracy: 0.8830 - val_loss: 0.3399 - val_accuracy: 0.8833\n",
      "Epoch 45/50\n",
      "320/320 - 1s - loss: 0.3162 - accuracy: 0.8851 - val_loss: 0.3405 - val_accuracy: 0.8823\n",
      "Epoch 46/50\n",
      "320/320 - 1s - loss: 0.3249 - accuracy: 0.8815 - val_loss: 0.3410 - val_accuracy: 0.8824\n",
      "Epoch 47/50\n",
      "320/320 - 1s - loss: 0.3151 - accuracy: 0.8855 - val_loss: 0.3368 - val_accuracy: 0.8844\n",
      "Epoch 48/50\n",
      "320/320 - 1s - loss: 0.3201 - accuracy: 0.8853 - val_loss: 0.3526 - val_accuracy: 0.8798\n",
      "Epoch 49/50\n",
      "320/320 - 1s - loss: 0.3187 - accuracy: 0.8850 - val_loss: 0.3429 - val_accuracy: 0.8800\n",
      "Epoch 50/50\n",
      "320/320 - 1s - loss: 0.3186 - accuracy: 0.8860 - val_loss: 0.3441 - val_accuracy: 0.8804\n"
     ]
    }
   ],
   "source": [
    "## Training the model\n",
    "\n",
    "training = model_imp.fit(X_train, Y_train, batch_size=150, epochs=50, validation_split=0.2, verbose = 2)"
   ]
  },
  {
   "cell_type": "code",
   "execution_count": 159,
   "metadata": {
    "colab": {
     "base_uri": "https://localhost:8080/"
    },
    "id": "EXoqDL4BdrpM",
    "outputId": "b420fde3-4706-4d38-a44c-ad2d604c3183"
   },
   "outputs": [
    {
     "name": "stdout",
     "output_type": "stream",
     "text": [
      "313/313 - 1s - loss: 0.3635 - accuracy: 0.8735\n",
      "Test accuracy: 0.8734999895095825\n"
     ]
    }
   ],
   "source": [
    "#evaluate the model\n",
    "test_loss, test_acc = model_imp.evaluate(X_test, Y_test, verbose = 2)\n",
    "print('Test accuracy:', test_acc)"
   ]
  },
  {
   "cell_type": "code",
   "execution_count": 160,
   "metadata": {
    "colab": {
     "base_uri": "https://localhost:8080/",
     "height": 1000
    },
    "id": "tPPrifvmd1qT",
    "outputId": "7cd53da4-7557-444e-fc2e-a8149e79bc6f"
   },
   "outputs": [
    {
     "name": "stdout",
     "output_type": "stream",
     "text": [
      "dict_keys(['loss', 'accuracy', 'val_loss', 'val_accuracy'])\n"
     ]
    },
    {
     "data": {
      "image/png": "[encoded data removed]",
      "text/plain": [
       "<Figure size 864x720 with 1 Axes>"
      ]
     },
     "metadata": {
      "tags": []
     },
     "output_type": "display_data"
    },
    {
     "data": {
      "image/png": "[encoded data removed]",
      "text/plain": [
       "<Figure size 864x720 with 1 Axes>"
      ]
     },
     "metadata": {
      "tags": []
     },
     "output_type": "display_data"
    }
   ],
   "source": [
    "# list all data in training\n",
    "print(training.history.keys())\n",
    "# summarize training for accuracy\n",
    "plt.plot(training.history['accuracy'])\n",
    "plt.plot(training.history['val_accuracy'])\n",
    "plt.title('model accuracy')\n",
    "plt.ylabel('accuracy')\n",
    "plt.xlabel('epoch')\n",
    "plt.legend(['train', 'test'], loc='upper left')\n",
    "plt.show()\n",
    "# summarize traning for loss\n",
    "plt.plot(training.history['loss'])\n",
    "plt.plot(training.history['val_loss'])\n",
    "plt.title('model loss')\n",
    "plt.ylabel('loss')\n",
    "plt.xlabel('epoch')\n",
    "plt.legend(['train', 'test'], loc='upper left')\n",
    "plt.show()"
   ]
  },
  {
   "cell_type": "code",
   "execution_count": 161,
   "metadata": {
    "colab": {
     "base_uri": "https://localhost:8080/"
    },
    "id": "0PnULbsJd43k",
    "outputId": "99cc8dfe-bebe-460f-b4bc-d15984558cd6"
   },
   "outputs": [
    {
     "data": {
      "text/plain": [
       "{'layers': [{'class_name': 'InputLayer',\n",
       "   'config': {'batch_input_shape': (None, 784),\n",
       "    'dtype': 'float32',\n",
       "    'name': 'Input_layer_1_input',\n",
       "    'ragged': False,\n",
       "    'sparse': False}},\n",
       "  {'class_name': 'Dense',\n",
       "   'config': {'activation': 'relu',\n",
       "    'activity_regularizer': None,\n",
       "    'batch_input_shape': (None, 784),\n",
       "    'bias_constraint': None,\n",
       "    'bias_initializer': {'class_name': 'Zeros', 'config': {}},\n",
       "    'bias_regularizer': None,\n",
       "    'dtype': 'float32',\n",
       "    'kernel_constraint': None,\n",
       "    'kernel_initializer': {'class_name': 'GlorotUniform',\n",
       "     'config': {'seed': None}},\n",
       "    'kernel_regularizer': None,\n",
       "    'name': 'Input_layer_1',\n",
       "    'trainable': True,\n",
       "    'units': 64,\n",
       "    'use_bias': True}},\n",
       "  {'class_name': 'Dropout',\n",
       "   'config': {'dtype': 'float32',\n",
       "    'name': 'dropout_12',\n",
       "    'noise_shape': None,\n",
       "    'rate': 0.3,\n",
       "    'seed': None,\n",
       "    'trainable': True}},\n",
       "  {'class_name': 'Dense',\n",
       "   'config': {'activation': 'relu',\n",
       "    'activity_regularizer': None,\n",
       "    'bias_constraint': None,\n",
       "    'bias_initializer': {'class_name': 'Zeros', 'config': {}},\n",
       "    'bias_regularizer': None,\n",
       "    'dtype': 'float32',\n",
       "    'kernel_constraint': None,\n",
       "    'kernel_initializer': {'class_name': 'GlorotUniform',\n",
       "     'config': {'seed': None}},\n",
       "    'kernel_regularizer': None,\n",
       "    'name': 'layer_2',\n",
       "    'trainable': True,\n",
       "    'units': 64,\n",
       "    'use_bias': True}},\n",
       "  {'class_name': 'Dropout',\n",
       "   'config': {'dtype': 'float32',\n",
       "    'name': 'dropout_13',\n",
       "    'noise_shape': None,\n",
       "    'rate': 0.3,\n",
       "    'seed': None,\n",
       "    'trainable': True}},\n",
       "  {'class_name': 'Dense',\n",
       "   'config': {'activation': 'relu',\n",
       "    'activity_regularizer': None,\n",
       "    'bias_constraint': None,\n",
       "    'bias_initializer': {'class_name': 'Zeros', 'config': {}},\n",
       "    'bias_regularizer': None,\n",
       "    'dtype': 'float32',\n",
       "    'kernel_constraint': None,\n",
       "    'kernel_initializer': {'class_name': 'GlorotUniform',\n",
       "     'config': {'seed': None}},\n",
       "    'kernel_regularizer': None,\n",
       "    'name': 'layer_3',\n",
       "    'trainable': True,\n",
       "    'units': 64,\n",
       "    'use_bias': True}},\n",
       "  {'class_name': 'Dropout',\n",
       "   'config': {'dtype': 'float32',\n",
       "    'name': 'dropout_14',\n",
       "    'noise_shape': None,\n",
       "    'rate': 0.3,\n",
       "    'seed': None,\n",
       "    'trainable': True}},\n",
       "  {'class_name': 'Dense',\n",
       "   'config': {'activation': 'softmax',\n",
       "    'activity_regularizer': None,\n",
       "    'bias_constraint': None,\n",
       "    'bias_initializer': {'class_name': 'Zeros', 'config': {}},\n",
       "    'bias_regularizer': None,\n",
       "    'dtype': 'float32',\n",
       "    'kernel_constraint': None,\n",
       "    'kernel_initializer': {'class_name': 'GlorotUniform',\n",
       "     'config': {'seed': None}},\n",
       "    'kernel_regularizer': None,\n",
       "    'name': 'Output_layer_5',\n",
       "    'trainable': True,\n",
       "    'units': 10,\n",
       "    'use_bias': True}}],\n",
       " 'name': 'sequential_7'}"
      ]
     },
     "execution_count": 161,
     "metadata": {
      "tags": []
     },
     "output_type": "execute_result"
    }
   ],
   "source": [
    "model_imp.get_config()"
   ]
  },
  {
   "cell_type": "code",
   "execution_count": null,
   "metadata": {
    "id": "tzHc2uDlecmD"
   },
   "outputs": [],
   "source": []
  }
 ],
 "metadata": {
  "colab": {
   "name": "Assignment_1_file3.ipynb",
   "provenance": []
  },
  "kernelspec": {
   "display_name": "Python 3",
   "language": "python",
   "name": "python3"
  },
  "language_info": {
   "codemirror_mode": {
    "name": "ipython",
    "version": 3
   },
   "file_extension": ".py",
   "mimetype": "text/x-python",
   "name": "python",
   "nbconvert_exporter": "python",
   "pygments_lexer": "ipython3",
   "version": "3.7.6"
  }
 },
 "nbformat": 4,
 "nbformat_minor": 1
}
