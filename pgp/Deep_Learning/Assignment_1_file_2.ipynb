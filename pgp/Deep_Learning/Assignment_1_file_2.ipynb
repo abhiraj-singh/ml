{
 "cells": [
  {
   "cell_type": "markdown",
   "metadata": {
    "id": "9hDs3cQs0bDO"
   },
   "source": []
  },
  {
   "cell_type": "markdown",
   "metadata": {
    "id": "9Wlec6IB0im8"
   },
   "source": [
    "### Classifying Handwritten digits using Tensorflow 2.**x**"
   ]
  },
  {
   "cell_type": "code",
   "execution_count": 1,
   "metadata": {
    "id": "_Agqdm520j5u"
   },
   "outputs": [],
   "source": [
    "## importing the libraries\n",
    "\n",
    "import tensorflow as tf\n",
    "from tensorflow import keras \n",
    "\n",
    "from tensorflow.keras.layers import Dense\n",
    "from tensorflow.keras import Sequential\n",
    "from tensorflow.keras.layers import Dropout\n"
   ]
  },
  {
   "cell_type": "code",
   "execution_count": 2,
   "metadata": {
    "id": "9qlHh8C70w-y"
   },
   "outputs": [
    {
     "name": "stdout",
     "output_type": "stream",
     "text": [
      "Downloading data from https://storage.googleapis.com/tensorflow/tf-keras-datasets/mnist.npz\n",
      "11493376/11490434 [==============================] - 2s 0us/step\n"
     ]
    }
   ],
   "source": [
    "# Loading MNIST dataset\n",
    "mnist = keras.datasets.mnist \n",
    "(X_train, Y_train), (X_test, Y_test) = mnist.load_data()"
   ]
  },
  {
   "cell_type": "code",
   "execution_count": 3,
   "metadata": {
    "colab": {
     "base_uri": "https://localhost:8080/"
    },
    "id": "HNHt1tLE05Uk",
    "outputId": "572f0fd6-6b0b-4cab-cee6-346e76d7f4fc"
   },
   "outputs": [
    {
     "name": "stdout",
     "output_type": "stream",
     "text": [
      "(60000, 28, 28)\n",
      "(10000, 28, 28)\n"
     ]
    }
   ],
   "source": [
    "# Data Exploration - Getting Shape if the data\n",
    "print(X_train.shape)\n",
    "print(X_test.shape)"
   ]
  },
  {
   "cell_type": "code",
   "execution_count": 4,
   "metadata": {
    "id": "mjEIQxkU8Ys0"
   },
   "outputs": [],
   "source": [
    "## Converting the data into float 32 for model training\n",
    "\n",
    "X_train = X_train.astype('float32')\n",
    "X_test = X_test.astype('float32')"
   ]
  },
  {
   "cell_type": "code",
   "execution_count": 5,
   "metadata": {
    "colab": {
     "base_uri": "https://localhost:8080/"
    },
    "id": "-FgVCGXQ07xV",
    "outputId": "58932e41-45ec-44c6-ff60-dd743ab1b5cf"
   },
   "outputs": [
    {
     "name": "stdout",
     "output_type": "stream",
     "text": [
      "784\n"
     ]
    }
   ],
   "source": [
    "## Reshaping the test and train data for model to accept it\n",
    "\n",
    "model_shape = 784\n",
    "print(model_shape)\n",
    "X_train = X_train.reshape(60000, model_shape) \n",
    "X_test = X_test.reshape(10000, model_shape) "
   ]
  },
  {
   "cell_type": "code",
   "execution_count": 6,
   "metadata": {
    "id": "gju160m41gY0"
   },
   "outputs": [],
   "source": [
    "## Converting the data into float 32 for model training\n",
    "\n",
    "X_train = X_train.astype('float32')\n",
    "X_test = X_test.astype('float32')"
   ]
  },
  {
   "cell_type": "code",
   "execution_count": 7,
   "metadata": {
    "id": "660ae9QS1ug7"
   },
   "outputs": [],
   "source": [
    "## Normalising the data since there are 0 - 255 pixels in each element\n",
    "\n",
    "X_train = X_train / 255\n",
    "X_test = X_test / 255"
   ]
  },
  {
   "cell_type": "code",
   "execution_count": 8,
   "metadata": {
    "colab": {
     "base_uri": "https://localhost:8080/"
    },
    "id": "JPoggcAl3Wxa",
    "outputId": "79ca8ba5-4f40-4014-a7d3-2d16d2292ddd"
   },
   "outputs": [
    {
     "name": "stdout",
     "output_type": "stream",
     "text": [
      "(60000, 784)\n",
      "(10000, 784)\n"
     ]
    }
   ],
   "source": [
    "## Verifying the shape of model after normalisation\n",
    "print(X_train.shape)\n",
    "print(X_test.shape)"
   ]
  },
  {
   "cell_type": "code",
   "execution_count": 9,
   "metadata": {
    "id": "ajhN5GCA3gb7"
   },
   "outputs": [],
   "source": [
    "## COnverting target column into categorical data using one hot encoding\n",
    "\n",
    "Y_train = tf.keras.utils.to_categorical(Y_train, 10) \n",
    "Y_test = tf.keras.utils.to_categorical(Y_test, 10)"
   ]
  },
  {
   "cell_type": "code",
   "execution_count": 10,
   "metadata": {
    "id": "0pD90-Zr3-LR"
   },
   "outputs": [],
   "source": [
    "## Data is prepared for model"
   ]
  },
  {
   "cell_type": "markdown",
   "metadata": {
    "id": "TMWfOz5Q4CnK"
   },
   "source": [
    "#### Preparing the model"
   ]
  },
  {
   "cell_type": "markdown",
   "metadata": {
    "id": "8TRzm54-4RIM"
   },
   "source": [
    "###### Building a basic model with input and output only"
   ]
  },
  {
   "cell_type": "code",
   "execution_count": 11,
   "metadata": {
    "id": "nOlz2H4l4TMU"
   },
   "outputs": [],
   "source": [
    "## Basic Model\n",
    "model_basic = Sequential()\n",
    "\n",
    "model_basic.add(Dense(10,input_shape=(model_shape,),name='dense_layer', activation='softmax')) "
   ]
  },
  {
   "cell_type": "code",
   "execution_count": 12,
   "metadata": {
    "id": "phay-ZeP5DhE"
   },
   "outputs": [],
   "source": [
    "## Compiling the model with SGD\n",
    "\n",
    "model_basic.compile(optimizer='SGD', \n",
    "              loss='categorical_crossentropy',\n",
    "              metrics=['accuracy'])"
   ]
  },
  {
   "cell_type": "code",
   "execution_count": 13,
   "metadata": {
    "colab": {
     "base_uri": "https://localhost:8080/"
    },
    "id": "M2Vbe3mo5Pc3",
    "outputId": "1f55aa04-67da-4be2-877c-4232325ba9c4"
   },
   "outputs": [
    {
     "name": "stdout",
     "output_type": "stream",
     "text": [
      "Epoch 1/30\n",
      "960/960 [==============================] - 2s 2ms/step - loss: 1.0022 - accuracy: 0.7705 - val_loss: 0.5918 - val_accuracy: 0.8702\n",
      "Epoch 2/30\n",
      "960/960 [==============================] - 2s 2ms/step - loss: 0.5571 - accuracy: 0.8646 - val_loss: 0.4686 - val_accuracy: 0.8862\n",
      "Epoch 3/30\n",
      "960/960 [==============================] - 2s 2ms/step - loss: 0.4769 - accuracy: 0.8776 - val_loss: 0.4209 - val_accuracy: 0.8909\n",
      "Epoch 4/30\n",
      "960/960 [==============================] - 2s 2ms/step - loss: 0.4376 - accuracy: 0.8846 - val_loss: 0.3937 - val_accuracy: 0.8971\n",
      "Epoch 5/30\n",
      "960/960 [==============================] - 2s 2ms/step - loss: 0.4131 - accuracy: 0.8890 - val_loss: 0.3760 - val_accuracy: 0.8998\n",
      "Epoch 6/30\n",
      "960/960 [==============================] - 2s 2ms/step - loss: 0.3961 - accuracy: 0.8925 - val_loss: 0.3632 - val_accuracy: 0.9029\n",
      "Epoch 7/30\n",
      "960/960 [==============================] - 2s 2ms/step - loss: 0.3833 - accuracy: 0.8950 - val_loss: 0.3534 - val_accuracy: 0.9060\n",
      "Epoch 8/30\n",
      "960/960 [==============================] - 1s 2ms/step - loss: 0.3732 - accuracy: 0.8966 - val_loss: 0.3460 - val_accuracy: 0.9072\n",
      "Epoch 9/30\n",
      "960/960 [==============================] - 1s 2ms/step - loss: 0.3649 - accuracy: 0.8995 - val_loss: 0.3396 - val_accuracy: 0.9072\n",
      "Epoch 10/30\n",
      "960/960 [==============================] - 1s 2ms/step - loss: 0.3580 - accuracy: 0.9007 - val_loss: 0.3341 - val_accuracy: 0.9094\n",
      "Epoch 11/30\n",
      "960/960 [==============================] - 2s 2ms/step - loss: 0.3522 - accuracy: 0.9022 - val_loss: 0.3293 - val_accuracy: 0.9103\n",
      "Epoch 12/30\n",
      "960/960 [==============================] - 1s 2ms/step - loss: 0.3470 - accuracy: 0.9039 - val_loss: 0.3255 - val_accuracy: 0.9106\n",
      "Epoch 13/30\n",
      "960/960 [==============================] - 2s 2ms/step - loss: 0.3425 - accuracy: 0.9049 - val_loss: 0.3221 - val_accuracy: 0.9117\n",
      "Epoch 14/30\n",
      "960/960 [==============================] - 2s 2ms/step - loss: 0.3385 - accuracy: 0.9063 - val_loss: 0.3191 - val_accuracy: 0.9118\n",
      "Epoch 15/30\n",
      "960/960 [==============================] - 2s 2ms/step - loss: 0.3350 - accuracy: 0.9069 - val_loss: 0.3163 - val_accuracy: 0.9123\n",
      "Epoch 16/30\n",
      "960/960 [==============================] - 2s 2ms/step - loss: 0.3317 - accuracy: 0.9078 - val_loss: 0.3139 - val_accuracy: 0.9137\n",
      "Epoch 17/30\n",
      "960/960 [==============================] - 2s 2ms/step - loss: 0.3288 - accuracy: 0.9087 - val_loss: 0.3118 - val_accuracy: 0.9142\n",
      "Epoch 18/30\n",
      "960/960 [==============================] - 1s 2ms/step - loss: 0.3261 - accuracy: 0.9096 - val_loss: 0.3096 - val_accuracy: 0.9147\n",
      "Epoch 19/30\n",
      "960/960 [==============================] - 2s 2ms/step - loss: 0.3235 - accuracy: 0.9099 - val_loss: 0.3078 - val_accuracy: 0.9152\n",
      "Epoch 20/30\n",
      "960/960 [==============================] - 2s 2ms/step - loss: 0.3212 - accuracy: 0.9109 - val_loss: 0.3061 - val_accuracy: 0.9154\n",
      "Epoch 21/30\n",
      "960/960 [==============================] - 2s 2ms/step - loss: 0.3192 - accuracy: 0.9111 - val_loss: 0.3041 - val_accuracy: 0.9160\n",
      "Epoch 22/30\n",
      "960/960 [==============================] - 2s 2ms/step - loss: 0.3172 - accuracy: 0.9117 - val_loss: 0.3027 - val_accuracy: 0.9162\n",
      "Epoch 23/30\n",
      "960/960 [==============================] - 1s 2ms/step - loss: 0.3153 - accuracy: 0.9122 - val_loss: 0.3015 - val_accuracy: 0.9158\n",
      "Epoch 24/30\n",
      "960/960 [==============================] - 1s 2ms/step - loss: 0.3136 - accuracy: 0.9129 - val_loss: 0.3003 - val_accuracy: 0.9168\n",
      "Epoch 25/30\n",
      "960/960 [==============================] - 2s 2ms/step - loss: 0.3120 - accuracy: 0.9134 - val_loss: 0.2990 - val_accuracy: 0.9168\n",
      "Epoch 26/30\n",
      "960/960 [==============================] - 1s 2ms/step - loss: 0.3104 - accuracy: 0.9139 - val_loss: 0.2979 - val_accuracy: 0.9172\n",
      "Epoch 27/30\n",
      "960/960 [==============================] - 2s 2ms/step - loss: 0.3090 - accuracy: 0.9146 - val_loss: 0.2970 - val_accuracy: 0.9168\n",
      "Epoch 28/30\n",
      "960/960 [==============================] - 1s 2ms/step - loss: 0.3076 - accuracy: 0.9148 - val_loss: 0.2959 - val_accuracy: 0.9172\n",
      "Epoch 29/30\n",
      "960/960 [==============================] - 2s 2ms/step - loss: 0.3063 - accuracy: 0.9147 - val_loss: 0.2950 - val_accuracy: 0.9178\n",
      "Epoch 30/30\n",
      "960/960 [==============================] - 2s 2ms/step - loss: 0.3052 - accuracy: 0.9157 - val_loss: 0.2939 - val_accuracy: 0.9184\n"
     ]
    }
   ],
   "source": [
    "## Training the model\n",
    "\n",
    "training = model_basic.fit(X_train, Y_train, batch_size=50, epochs=30, validation_split=0.2)"
   ]
  },
  {
   "cell_type": "code",
   "execution_count": 14,
   "metadata": {
    "colab": {
     "base_uri": "https://localhost:8080/"
    },
    "id": "bIVVZIdH5eOk",
    "outputId": "4909ab34-d8df-4952-e149-a63617c97ee1"
   },
   "outputs": [
    {
     "name": "stdout",
     "output_type": "stream",
     "text": [
      "313/313 [==============================] - 1s 2ms/step - loss: 0.2946 - accuracy: 0.9182\n",
      "Test accuracy: 0.9182000160217285\n"
     ]
    }
   ],
   "source": [
    "#evaluate the model\n",
    "test_loss, test_acc = model_basic.evaluate(X_test, Y_test)\n",
    "print('Test accuracy:', test_acc)"
   ]
  },
  {
   "cell_type": "markdown",
   "metadata": {
    "id": "BYVwQ0di6GVO"
   },
   "source": [
    "###### Improving the model by adding perceptron and drop-out to stop overfitting"
   ]
  },
  {
   "cell_type": "code",
   "execution_count": 15,
   "metadata": {
    "id": "hFdRMROu6N0L"
   },
   "outputs": [],
   "source": [
    "model_imp = tf.keras.Sequential()\n",
    "N_hidden = 64\n",
    "model_imp.add(Dense(N_hidden, name='Input_layer_1', input_shape=(784,), activation = 'relu')) ## Input Layer\n",
    "model_imp.add(Dropout(0.3))  ## Adding a drop out layer\n",
    "model_imp.add(Dense(N_hidden, name='layer_2', activation='relu'))  ## Adding a Dense Layer\n",
    "model_imp.add(Dropout(0.3))  ## Adding a drop out layer\n",
    "model_imp.add(Dense(N_hidden, name='layer_3', activation='relu'))  ## Adding a Dense Layer\n",
    "model_imp.add(Dropout(0.3))  ## Adding a drop out layer\n",
    "model_imp.add(Dense(10, name='Output_layer_4', activation = 'softmax'))  ## Output Layer"
   ]
  },
  {
   "cell_type": "code",
   "execution_count": 16,
   "metadata": {
    "id": "QROxqwSh68mX"
   },
   "outputs": [],
   "source": [
    "## Compiling the model with Adam\n",
    "\n",
    "model_imp.compile(optimizer='Adam', \n",
    "              loss='categorical_crossentropy',\n",
    "              metrics=['accuracy'])"
   ]
  },
  {
   "cell_type": "code",
   "execution_count": 17,
   "metadata": {
    "colab": {
     "base_uri": "https://localhost:8080/"
    },
    "id": "HicgnHG57IvJ",
    "outputId": "bbcf380c-b755-4d67-a7f2-079e17519fa0"
   },
   "outputs": [
    {
     "name": "stdout",
     "output_type": "stream",
     "text": [
      "Epoch 1/30\n",
      "375/375 [==============================] - 2s 5ms/step - loss: 0.8350 - accuracy: 0.7293 - val_loss: 0.2486 - val_accuracy: 0.9278\n",
      "Epoch 2/30\n",
      "375/375 [==============================] - 2s 4ms/step - loss: 0.3743 - accuracy: 0.8952 - val_loss: 0.1928 - val_accuracy: 0.9439\n",
      "Epoch 3/30\n",
      "375/375 [==============================] - 2s 4ms/step - loss: 0.3057 - accuracy: 0.9150 - val_loss: 0.1629 - val_accuracy: 0.9542\n",
      "Epoch 4/30\n",
      "375/375 [==============================] - 2s 4ms/step - loss: 0.2673 - accuracy: 0.9268 - val_loss: 0.1482 - val_accuracy: 0.9567\n",
      "Epoch 5/30\n",
      "375/375 [==============================] - 2s 5ms/step - loss: 0.2425 - accuracy: 0.9332 - val_loss: 0.1359 - val_accuracy: 0.9617\n",
      "Epoch 6/30\n",
      "375/375 [==============================] - 2s 4ms/step - loss: 0.2163 - accuracy: 0.9384 - val_loss: 0.1311 - val_accuracy: 0.9643\n",
      "Epoch 7/30\n",
      "375/375 [==============================] - 2s 4ms/step - loss: 0.2044 - accuracy: 0.9420 - val_loss: 0.1364 - val_accuracy: 0.9603\n",
      "Epoch 8/30\n",
      "375/375 [==============================] - 2s 5ms/step - loss: 0.1940 - accuracy: 0.9443 - val_loss: 0.1217 - val_accuracy: 0.9647\n",
      "Epoch 9/30\n",
      "375/375 [==============================] - 2s 4ms/step - loss: 0.1853 - accuracy: 0.9479 - val_loss: 0.1198 - val_accuracy: 0.9656\n",
      "Epoch 10/30\n",
      "375/375 [==============================] - 2s 4ms/step - loss: 0.1775 - accuracy: 0.9496 - val_loss: 0.1200 - val_accuracy: 0.9660\n",
      "Epoch 11/30\n",
      "375/375 [==============================] - 2s 4ms/step - loss: 0.1733 - accuracy: 0.9518 - val_loss: 0.1200 - val_accuracy: 0.9665\n",
      "Epoch 12/30\n",
      "375/375 [==============================] - 2s 4ms/step - loss: 0.1630 - accuracy: 0.9544 - val_loss: 0.1153 - val_accuracy: 0.9663\n",
      "Epoch 13/30\n",
      "375/375 [==============================] - 2s 4ms/step - loss: 0.1600 - accuracy: 0.9550 - val_loss: 0.1180 - val_accuracy: 0.9688\n",
      "Epoch 14/30\n",
      "375/375 [==============================] - 2s 4ms/step - loss: 0.1511 - accuracy: 0.9572 - val_loss: 0.1137 - val_accuracy: 0.9682\n",
      "Epoch 15/30\n",
      "375/375 [==============================] - 2s 4ms/step - loss: 0.1514 - accuracy: 0.9567 - val_loss: 0.1148 - val_accuracy: 0.9711\n",
      "Epoch 16/30\n",
      "375/375 [==============================] - 2s 4ms/step - loss: 0.1485 - accuracy: 0.9578 - val_loss: 0.1117 - val_accuracy: 0.9697\n",
      "Epoch 17/30\n",
      "375/375 [==============================] - 2s 4ms/step - loss: 0.1416 - accuracy: 0.9584 - val_loss: 0.1186 - val_accuracy: 0.9670\n",
      "Epoch 18/30\n",
      "375/375 [==============================] - 2s 4ms/step - loss: 0.1416 - accuracy: 0.9600 - val_loss: 0.1087 - val_accuracy: 0.9707\n",
      "Epoch 19/30\n",
      "375/375 [==============================] - 2s 5ms/step - loss: 0.1334 - accuracy: 0.9626 - val_loss: 0.1132 - val_accuracy: 0.9693\n",
      "Epoch 20/30\n",
      "375/375 [==============================] - 2s 4ms/step - loss: 0.1317 - accuracy: 0.9622 - val_loss: 0.1112 - val_accuracy: 0.9690\n",
      "Epoch 21/30\n",
      "375/375 [==============================] - 2s 4ms/step - loss: 0.1288 - accuracy: 0.9619 - val_loss: 0.1124 - val_accuracy: 0.9697\n",
      "Epoch 22/30\n",
      "375/375 [==============================] - 2s 4ms/step - loss: 0.1272 - accuracy: 0.9633 - val_loss: 0.1016 - val_accuracy: 0.9724\n",
      "Epoch 23/30\n",
      "375/375 [==============================] - 2s 4ms/step - loss: 0.1265 - accuracy: 0.9632 - val_loss: 0.1020 - val_accuracy: 0.9722\n",
      "Epoch 24/30\n",
      "375/375 [==============================] - 2s 4ms/step - loss: 0.1249 - accuracy: 0.9637 - val_loss: 0.1045 - val_accuracy: 0.9718\n",
      "Epoch 25/30\n",
      "375/375 [==============================] - 2s 4ms/step - loss: 0.1227 - accuracy: 0.9644 - val_loss: 0.1029 - val_accuracy: 0.9709\n",
      "Epoch 26/30\n",
      "375/375 [==============================] - 2s 4ms/step - loss: 0.1202 - accuracy: 0.9657 - val_loss: 0.1020 - val_accuracy: 0.9726\n",
      "Epoch 27/30\n",
      "375/375 [==============================] - 2s 5ms/step - loss: 0.1190 - accuracy: 0.9658 - val_loss: 0.1103 - val_accuracy: 0.9708\n",
      "Epoch 28/30\n",
      "375/375 [==============================] - 2s 4ms/step - loss: 0.1163 - accuracy: 0.9663 - val_loss: 0.1058 - val_accuracy: 0.9712\n",
      "Epoch 29/30\n",
      "375/375 [==============================] - 2s 4ms/step - loss: 0.1142 - accuracy: 0.9670 - val_loss: 0.1099 - val_accuracy: 0.9711\n",
      "Epoch 30/30\n",
      "375/375 [==============================] - 2s 4ms/step - loss: 0.1108 - accuracy: 0.9678 - val_loss: 0.1051 - val_accuracy: 0.9726\n"
     ]
    }
   ],
   "source": [
    "## Training the model\n",
    "\n",
    "training = model_imp.fit(X_train, Y_train, batch_size=128, epochs=30, validation_split=0.2)"
   ]
  },
  {
   "cell_type": "code",
   "execution_count": 18,
   "metadata": {
    "colab": {
     "base_uri": "https://localhost:8080/"
    },
    "id": "Dtf7r3Ze7LsO",
    "outputId": "29d2b748-1667-4d4b-d666-07ceb3fc4127"
   },
   "outputs": [
    {
     "name": "stdout",
     "output_type": "stream",
     "text": [
      "313/313 [==============================] - 0s 1ms/step - loss: 0.0963 - accuracy: 0.9738\n",
      "Test accuracy: 0.973800003528595\n"
     ]
    }
   ],
   "source": [
    "#evaluate the model\n",
    "test_loss, test_acc = model_imp.evaluate(X_test, Y_test)\n",
    "print('Test accuracy:', test_acc)"
   ]
  },
  {
   "cell_type": "code",
   "execution_count": 18,
   "metadata": {
    "id": "H0Cx7Baz7lNE"
   },
   "outputs": [],
   "source": []
  }
 ],
 "metadata": {
  "colab": {
   "collapsed_sections": [],
   "name": "Assignment_1_file 2.ipynb",
   "provenance": []
  },
  "kernelspec": {
   "display_name": "Python 3",
   "language": "python",
   "name": "python3"
  },
  "language_info": {
   "codemirror_mode": {
    "name": "ipython",
    "version": 3
   },
   "file_extension": ".py",
   "mimetype": "text/x-python",
   "name": "python",
   "nbconvert_exporter": "python",
   "pygments_lexer": "ipython3",
   "version": "3.7.6"
  }
 },
 "nbformat": 4,
 "nbformat_minor": 1
}
