{
  "nbformat": 4,
  "nbformat_minor": 0,
  "metadata": {
    "colab": {
      "name": "Assignment_2_file_3.ipynb",
      "provenance": [],
      "machine_shape": "hm"
    },
    "kernelspec": {
      "name": "python3",
      "display_name": "Python 3"
    },
    "language_info": {
      "name": "python"
    },
    "accelerator": "GPU"
  },
  "cells": [
    {
      "cell_type": "markdown",
      "metadata": {
        "id": "J9RQP5fSiaw4"
      },
      "source": [
        "# **Faces and Emotions**"
      ]
    },
    {
      "cell_type": "markdown",
      "metadata": {
        "id": "ygusB2S6iyFM"
      },
      "source": [
        "### Importing Libraries"
      ]
    },
    {
      "cell_type": "code",
      "metadata": {
        "id": "xbb5xioaiXuR"
      },
      "source": [
        "import tensorflow as tf\n",
        "from tensorflow.keras.preprocessing.image import ImageDataGenerator \n",
        "from tensorflow.keras.models import Sequential\n",
        "from tensorflow.keras.layers import Dense, Conv2D, Flatten, Dropout, MaxPooling2D, Activation\n",
        "from tensorflow.keras.preprocessing import image\n",
        "import matplotlib.pyplot as plt\n",
        "import matplotlib.image as mpimg\n",
        "\n",
        "from PIL import Image\n",
        "from keras.preprocessing.image import image\n",
        "\n",
        "from keras.layers import  BatchNormalization\n",
        "from keras.callbacks import EarlyStopping, ReduceLROnPlateau\n",
        "\n",
        "import pandas as pd\n",
        "\n",
        "from tensorflow.keras.preprocessing import image\n",
        "import numpy as np\n"
      ],
      "execution_count": 1,
      "outputs": []
    },
    {
      "cell_type": "markdown",
      "metadata": {
        "id": "eaZu1z2Pi4oA"
      },
      "source": [
        "### Importing and Preparing the Data"
      ]
    },
    {
      "cell_type": "code",
      "metadata": {
        "colab": {
          "base_uri": "https://localhost:8080/"
        },
        "id": "b0g3LEz_ny8O",
        "outputId": "3f0f01e5-6912-4b4d-c3a9-a051e2f3f941"
      },
      "source": [
        "from google.colab import drive\n",
        "drive.mount('/content/drive')"
      ],
      "execution_count": 2,
      "outputs": [
        {
          "output_type": "stream",
          "text": [
            "Drive already mounted at /content/drive; to attempt to forcibly remount, call drive.mount(\"/content/drive\", force_remount=True).\n"
          ],
          "name": "stdout"
        }
      ]
    },
    {
      "cell_type": "code",
      "metadata": {
        "colab": {
          "base_uri": "https://localhost:8080/"
        },
        "id": "NQnlk_-jp0h8",
        "outputId": "e829b2b6-c6d5-4b5b-c161-f48102ef74de"
      },
      "source": [
        "!ls \"/content/drive/My Drive/Dataset\""
      ],
      "execution_count": 3,
      "outputs": [
        {
          "output_type": "stream",
          "text": [
            "fer.csv\n"
          ],
          "name": "stdout"
        }
      ]
    },
    {
      "cell_type": "code",
      "metadata": {
        "id": "DhFZqF6Cswgx"
      },
      "source": [
        "file_path = \"/content/drive/My Drive/Dataset/fer.csv\"\n",
        "df_face = pd.read_csv(file_path)"
      ],
      "execution_count": 4,
      "outputs": []
    },
    {
      "cell_type": "code",
      "metadata": {
        "id": "ssfEV97PjQIB",
        "colab": {
          "base_uri": "https://localhost:8080/",
          "height": 204
        },
        "outputId": "5c2b430b-5214-40ae-c6c3-bed2204d6563"
      },
      "source": [
        "df_face.head()"
      ],
      "execution_count": 5,
      "outputs": [
        {
          "output_type": "execute_result",
          "data": {
            "text/html": [
              "<div>\n",
              "<style scoped>\n",
              "    .dataframe tbody tr th:only-of-type {\n",
              "        vertical-align: middle;\n",
              "    }\n",
              "\n",
              "    .dataframe tbody tr th {\n",
              "        vertical-align: top;\n",
              "    }\n",
              "\n",
              "    .dataframe thead th {\n",
              "        text-align: right;\n",
              "    }\n",
              "</style>\n",
              "<table border=\"1\" class=\"dataframe\">\n",
              "  <thead>\n",
              "    <tr style=\"text-align: right;\">\n",
              "      <th></th>\n",
              "      <th>emotion</th>\n",
              "      <th>pixels</th>\n",
              "      <th>Usage</th>\n",
              "    </tr>\n",
              "  </thead>\n",
              "  <tbody>\n",
              "    <tr>\n",
              "      <th>0</th>\n",
              "      <td>0</td>\n",
              "      <td>70 80 82 72 58 58 60 63 54 58 60 48 89 115 121...</td>\n",
              "      <td>Training</td>\n",
              "    </tr>\n",
              "    <tr>\n",
              "      <th>1</th>\n",
              "      <td>0</td>\n",
              "      <td>151 150 147 155 148 133 111 140 170 174 182 15...</td>\n",
              "      <td>Training</td>\n",
              "    </tr>\n",
              "    <tr>\n",
              "      <th>2</th>\n",
              "      <td>2</td>\n",
              "      <td>231 212 156 164 174 138 161 173 182 200 106 38...</td>\n",
              "      <td>Training</td>\n",
              "    </tr>\n",
              "    <tr>\n",
              "      <th>3</th>\n",
              "      <td>4</td>\n",
              "      <td>24 32 36 30 32 23 19 20 30 41 21 22 32 34 21 1...</td>\n",
              "      <td>Training</td>\n",
              "    </tr>\n",
              "    <tr>\n",
              "      <th>4</th>\n",
              "      <td>6</td>\n",
              "      <td>4 0 0 0 0 0 0 0 0 0 0 0 3 15 23 28 48 50 58 84...</td>\n",
              "      <td>Training</td>\n",
              "    </tr>\n",
              "  </tbody>\n",
              "</table>\n",
              "</div>"
            ],
            "text/plain": [
              "   emotion                                             pixels     Usage\n",
              "0        0  70 80 82 72 58 58 60 63 54 58 60 48 89 115 121...  Training\n",
              "1        0  151 150 147 155 148 133 111 140 170 174 182 15...  Training\n",
              "2        2  231 212 156 164 174 138 161 173 182 200 106 38...  Training\n",
              "3        4  24 32 36 30 32 23 19 20 30 41 21 22 32 34 21 1...  Training\n",
              "4        6  4 0 0 0 0 0 0 0 0 0 0 0 3 15 23 28 48 50 58 84...  Training"
            ]
          },
          "metadata": {
            "tags": []
          },
          "execution_count": 5
        }
      ]
    },
    {
      "cell_type": "code",
      "metadata": {
        "colab": {
          "base_uri": "https://localhost:8080/"
        },
        "id": "O5f9A57CwFtG",
        "outputId": "4a626f80-0030-415b-d916-63beaa553f80"
      },
      "source": [
        "df_face.shape"
      ],
      "execution_count": 6,
      "outputs": [
        {
          "output_type": "execute_result",
          "data": {
            "text/plain": [
              "(35887, 3)"
            ]
          },
          "metadata": {
            "tags": []
          },
          "execution_count": 6
        }
      ]
    },
    {
      "cell_type": "code",
      "metadata": {
        "id": "CwffAFluwdXo"
      },
      "source": [
        "## Splitting the dataset to get individual pixels\n",
        "df_face['pixel'] = df_face.apply(lambda row: row.pixels.split(\" \"), axis = 1)"
      ],
      "execution_count": 7,
      "outputs": []
    },
    {
      "cell_type": "code",
      "metadata": {
        "colab": {
          "base_uri": "https://localhost:8080/",
          "height": 204
        },
        "id": "_UNmyYQpymMW",
        "outputId": "6bcaf8ae-00c3-4f85-d6c2-3be053caeba4"
      },
      "source": [
        "df_face.head()"
      ],
      "execution_count": 8,
      "outputs": [
        {
          "output_type": "execute_result",
          "data": {
            "text/html": [
              "<div>\n",
              "<style scoped>\n",
              "    .dataframe tbody tr th:only-of-type {\n",
              "        vertical-align: middle;\n",
              "    }\n",
              "\n",
              "    .dataframe tbody tr th {\n",
              "        vertical-align: top;\n",
              "    }\n",
              "\n",
              "    .dataframe thead th {\n",
              "        text-align: right;\n",
              "    }\n",
              "</style>\n",
              "<table border=\"1\" class=\"dataframe\">\n",
              "  <thead>\n",
              "    <tr style=\"text-align: right;\">\n",
              "      <th></th>\n",
              "      <th>emotion</th>\n",
              "      <th>pixels</th>\n",
              "      <th>Usage</th>\n",
              "      <th>pixel</th>\n",
              "    </tr>\n",
              "  </thead>\n",
              "  <tbody>\n",
              "    <tr>\n",
              "      <th>0</th>\n",
              "      <td>0</td>\n",
              "      <td>70 80 82 72 58 58 60 63 54 58 60 48 89 115 121...</td>\n",
              "      <td>Training</td>\n",
              "      <td>[70, 80, 82, 72, 58, 58, 60, 63, 54, 58, 60, 4...</td>\n",
              "    </tr>\n",
              "    <tr>\n",
              "      <th>1</th>\n",
              "      <td>0</td>\n",
              "      <td>151 150 147 155 148 133 111 140 170 174 182 15...</td>\n",
              "      <td>Training</td>\n",
              "      <td>[151, 150, 147, 155, 148, 133, 111, 140, 170, ...</td>\n",
              "    </tr>\n",
              "    <tr>\n",
              "      <th>2</th>\n",
              "      <td>2</td>\n",
              "      <td>231 212 156 164 174 138 161 173 182 200 106 38...</td>\n",
              "      <td>Training</td>\n",
              "      <td>[231, 212, 156, 164, 174, 138, 161, 173, 182, ...</td>\n",
              "    </tr>\n",
              "    <tr>\n",
              "      <th>3</th>\n",
              "      <td>4</td>\n",
              "      <td>24 32 36 30 32 23 19 20 30 41 21 22 32 34 21 1...</td>\n",
              "      <td>Training</td>\n",
              "      <td>[24, 32, 36, 30, 32, 23, 19, 20, 30, 41, 21, 2...</td>\n",
              "    </tr>\n",
              "    <tr>\n",
              "      <th>4</th>\n",
              "      <td>6</td>\n",
              "      <td>4 0 0 0 0 0 0 0 0 0 0 0 3 15 23 28 48 50 58 84...</td>\n",
              "      <td>Training</td>\n",
              "      <td>[4, 0, 0, 0, 0, 0, 0, 0, 0, 0, 0, 0, 3, 15, 23...</td>\n",
              "    </tr>\n",
              "  </tbody>\n",
              "</table>\n",
              "</div>"
            ],
            "text/plain": [
              "   emotion  ...                                              pixel\n",
              "0        0  ...  [70, 80, 82, 72, 58, 58, 60, 63, 54, 58, 60, 4...\n",
              "1        0  ...  [151, 150, 147, 155, 148, 133, 111, 140, 170, ...\n",
              "2        2  ...  [231, 212, 156, 164, 174, 138, 161, 173, 182, ...\n",
              "3        4  ...  [24, 32, 36, 30, 32, 23, 19, 20, 30, 41, 21, 2...\n",
              "4        6  ...  [4, 0, 0, 0, 0, 0, 0, 0, 0, 0, 0, 0, 3, 15, 23...\n",
              "\n",
              "[5 rows x 4 columns]"
            ]
          },
          "metadata": {
            "tags": []
          },
          "execution_count": 8
        }
      ]
    },
    {
      "cell_type": "code",
      "metadata": {
        "colab": {
          "base_uri": "https://localhost:8080/",
          "height": 204
        },
        "id": "st1U8RSGyv8f",
        "outputId": "8d97e15b-4b18-4266-aaab-f7d8ce186102"
      },
      "source": [
        "## Droping Pixels column since it's not required\n",
        "df_face.drop(columns = \"pixels\", axis = 1, inplace = True)\n",
        "df_face.rename(columns = {\"pixel\": \"pixels\"}, inplace = True)\n",
        "df_face.head()"
      ],
      "execution_count": 9,
      "outputs": [
        {
          "output_type": "execute_result",
          "data": {
            "text/html": [
              "<div>\n",
              "<style scoped>\n",
              "    .dataframe tbody tr th:only-of-type {\n",
              "        vertical-align: middle;\n",
              "    }\n",
              "\n",
              "    .dataframe tbody tr th {\n",
              "        vertical-align: top;\n",
              "    }\n",
              "\n",
              "    .dataframe thead th {\n",
              "        text-align: right;\n",
              "    }\n",
              "</style>\n",
              "<table border=\"1\" class=\"dataframe\">\n",
              "  <thead>\n",
              "    <tr style=\"text-align: right;\">\n",
              "      <th></th>\n",
              "      <th>emotion</th>\n",
              "      <th>Usage</th>\n",
              "      <th>pixels</th>\n",
              "    </tr>\n",
              "  </thead>\n",
              "  <tbody>\n",
              "    <tr>\n",
              "      <th>0</th>\n",
              "      <td>0</td>\n",
              "      <td>Training</td>\n",
              "      <td>[70, 80, 82, 72, 58, 58, 60, 63, 54, 58, 60, 4...</td>\n",
              "    </tr>\n",
              "    <tr>\n",
              "      <th>1</th>\n",
              "      <td>0</td>\n",
              "      <td>Training</td>\n",
              "      <td>[151, 150, 147, 155, 148, 133, 111, 140, 170, ...</td>\n",
              "    </tr>\n",
              "    <tr>\n",
              "      <th>2</th>\n",
              "      <td>2</td>\n",
              "      <td>Training</td>\n",
              "      <td>[231, 212, 156, 164, 174, 138, 161, 173, 182, ...</td>\n",
              "    </tr>\n",
              "    <tr>\n",
              "      <th>3</th>\n",
              "      <td>4</td>\n",
              "      <td>Training</td>\n",
              "      <td>[24, 32, 36, 30, 32, 23, 19, 20, 30, 41, 21, 2...</td>\n",
              "    </tr>\n",
              "    <tr>\n",
              "      <th>4</th>\n",
              "      <td>6</td>\n",
              "      <td>Training</td>\n",
              "      <td>[4, 0, 0, 0, 0, 0, 0, 0, 0, 0, 0, 0, 3, 15, 23...</td>\n",
              "    </tr>\n",
              "  </tbody>\n",
              "</table>\n",
              "</div>"
            ],
            "text/plain": [
              "   emotion     Usage                                             pixels\n",
              "0        0  Training  [70, 80, 82, 72, 58, 58, 60, 63, 54, 58, 60, 4...\n",
              "1        0  Training  [151, 150, 147, 155, 148, 133, 111, 140, 170, ...\n",
              "2        2  Training  [231, 212, 156, 164, 174, 138, 161, 173, 182, ...\n",
              "3        4  Training  [24, 32, 36, 30, 32, 23, 19, 20, 30, 41, 21, 2...\n",
              "4        6  Training  [4, 0, 0, 0, 0, 0, 0, 0, 0, 0, 0, 0, 3, 15, 23..."
            ]
          },
          "metadata": {
            "tags": []
          },
          "execution_count": 9
        }
      ]
    },
    {
      "cell_type": "code",
      "metadata": {
        "id": "tzvCLYSOeOWL"
      },
      "source": [
        "## Creating copy of dataframs to view image using below function\n",
        "df = df_face.copy()"
      ],
      "execution_count": 10,
      "outputs": []
    },
    {
      "cell_type": "code",
      "metadata": {
        "id": "fpm4TJ4WeSWQ"
      },
      "source": [
        "## Function to view image using pixel values\n",
        "def view_image(data, row_id):\n",
        "  emotion = {0 : \"Angry\", 1 : \"Disgust\", 2 : \"Fear\", 3 : \"Happy\", 4 : \"Sad\", 5 : \"Surprise\", 6 : \"Neutral\"}\n",
        "  num_emotion = data['emotion'][row_id]\n",
        "  print(num_emotion, emotion[num_emotion])\n",
        "  img = np.array(np.float32(data['pixels'][row_id]).reshape(48,48,1))\n",
        "  pil_img = tf.keras.preprocessing.image.array_to_img(img)\n",
        "  imgplot = plt.imshow(pil_img)\n",
        "  plt.show()"
      ],
      "execution_count": 11,
      "outputs": []
    },
    {
      "cell_type": "code",
      "metadata": {
        "colab": {
          "base_uri": "https://localhost:8080/",
          "height": 284
        },
        "id": "41VT_dFMfZCU",
        "outputId": "b03a28ec-b1f5-4b3f-ad79-b83d9b9e7eca"
      },
      "source": [
        "view_image(df,7997)"
      ],
      "execution_count": 12,
      "outputs": [
        {
          "output_type": "stream",
          "text": [
            "3 Happy\n"
          ],
          "name": "stdout"
        },
        {
          "output_type": "display_data",
          "data": {
            "image/png": "[encoded data removed]",
            "text/plain": [
              "<Figure size 432x288 with 1 Axes>"
            ]
          },
          "metadata": {
            "tags": [],
            "needs_background": "light"
          }
        }
      ]
    },
    {
      "cell_type": "code",
      "metadata": {
        "id": "Z6gOleO980YZ"
      },
      "source": [
        "## Converting it into Float 32\n",
        "\n",
        "df_face['pixels'] = df_face.apply(lambda row: np.array(np.float32(row.pixels)), axis=1)"
      ],
      "execution_count": 13,
      "outputs": []
    },
    {
      "cell_type": "code",
      "metadata": {
        "id": "vXhRNPGj_MjE"
      },
      "source": [
        "## Normalising the data\n",
        "\n",
        "df_face['pixels'] = df_face.apply(lambda row: np.array(row.pixels) / 255, axis=1)"
      ],
      "execution_count": 14,
      "outputs": []
    },
    {
      "cell_type": "code",
      "metadata": {
        "colab": {
          "base_uri": "https://localhost:8080/",
          "height": 204
        },
        "id": "Z7mpoXT1_VD6",
        "outputId": "e1eecd55-2ccf-44b3-8d4c-467d4be26003"
      },
      "source": [
        "df_face.head()"
      ],
      "execution_count": 15,
      "outputs": [
        {
          "output_type": "execute_result",
          "data": {
            "text/html": [
              "<div>\n",
              "<style scoped>\n",
              "    .dataframe tbody tr th:only-of-type {\n",
              "        vertical-align: middle;\n",
              "    }\n",
              "\n",
              "    .dataframe tbody tr th {\n",
              "        vertical-align: top;\n",
              "    }\n",
              "\n",
              "    .dataframe thead th {\n",
              "        text-align: right;\n",
              "    }\n",
              "</style>\n",
              "<table border=\"1\" class=\"dataframe\">\n",
              "  <thead>\n",
              "    <tr style=\"text-align: right;\">\n",
              "      <th></th>\n",
              "      <th>emotion</th>\n",
              "      <th>Usage</th>\n",
              "      <th>pixels</th>\n",
              "    </tr>\n",
              "  </thead>\n",
              "  <tbody>\n",
              "    <tr>\n",
              "      <th>0</th>\n",
              "      <td>0</td>\n",
              "      <td>Training</td>\n",
              "      <td>[0.27450982, 0.3137255, 0.32156864, 0.28235295...</td>\n",
              "    </tr>\n",
              "    <tr>\n",
              "      <th>1</th>\n",
              "      <td>0</td>\n",
              "      <td>Training</td>\n",
              "      <td>[0.5921569, 0.5882353, 0.5764706, 0.60784316, ...</td>\n",
              "    </tr>\n",
              "    <tr>\n",
              "      <th>2</th>\n",
              "      <td>2</td>\n",
              "      <td>Training</td>\n",
              "      <td>[0.90588236, 0.83137256, 0.6117647, 0.6431373,...</td>\n",
              "    </tr>\n",
              "    <tr>\n",
              "      <th>3</th>\n",
              "      <td>4</td>\n",
              "      <td>Training</td>\n",
              "      <td>[0.09411765, 0.1254902, 0.14117648, 0.11764706...</td>\n",
              "    </tr>\n",
              "    <tr>\n",
              "      <th>4</th>\n",
              "      <td>6</td>\n",
              "      <td>Training</td>\n",
              "      <td>[0.015686275, 0.0, 0.0, 0.0, 0.0, 0.0, 0.0, 0....</td>\n",
              "    </tr>\n",
              "  </tbody>\n",
              "</table>\n",
              "</div>"
            ],
            "text/plain": [
              "   emotion     Usage                                             pixels\n",
              "0        0  Training  [0.27450982, 0.3137255, 0.32156864, 0.28235295...\n",
              "1        0  Training  [0.5921569, 0.5882353, 0.5764706, 0.60784316, ...\n",
              "2        2  Training  [0.90588236, 0.83137256, 0.6117647, 0.6431373,...\n",
              "3        4  Training  [0.09411765, 0.1254902, 0.14117648, 0.11764706...\n",
              "4        6  Training  [0.015686275, 0.0, 0.0, 0.0, 0.0, 0.0, 0.0, 0...."
            ]
          },
          "metadata": {
            "tags": []
          },
          "execution_count": 15
        }
      ]
    },
    {
      "cell_type": "code",
      "metadata": {
        "colab": {
          "base_uri": "https://localhost:8080/"
        },
        "id": "4nSloOPdX4QW",
        "outputId": "185f1858-8b01-41ef-b692-0beffde644aa"
      },
      "source": [
        "df_face.shape"
      ],
      "execution_count": 16,
      "outputs": [
        {
          "output_type": "execute_result",
          "data": {
            "text/plain": [
              "(35887, 3)"
            ]
          },
          "metadata": {
            "tags": []
          },
          "execution_count": 16
        }
      ]
    },
    {
      "cell_type": "code",
      "metadata": {
        "colab": {
          "base_uri": "https://localhost:8080/"
        },
        "id": "RQEPemXlAJt9",
        "outputId": "2bdfd6f8-8569-48ad-dcef-b413aae563fd"
      },
      "source": [
        "## Checking count of fields for test train split\n",
        "cnt = df_face.groupby(\"Usage\").count()\n",
        "print(cnt)"
      ],
      "execution_count": 17,
      "outputs": [
        {
          "output_type": "stream",
          "text": [
            "             emotion  pixels\n",
            "Usage                       \n",
            "PrivateTest     3589    3589\n",
            "PublicTest      3589    3589\n",
            "Training       28709   28709\n"
          ],
          "name": "stdout"
        }
      ]
    },
    {
      "cell_type": "code",
      "metadata": {
        "colab": {
          "base_uri": "https://localhost:8080/"
        },
        "id": "6NUk59swfj3T",
        "outputId": "e6bbff57-328b-42ee-c998-c701f7539cd7"
      },
      "source": [
        "## Checking count of fields for test train split\n",
        "cnt = df_face.groupby([\"Usage\",\"emotion\"]).count()\n",
        "print(cnt)"
      ],
      "execution_count": 18,
      "outputs": [
        {
          "output_type": "stream",
          "text": [
            "                     pixels\n",
            "Usage       emotion        \n",
            "PrivateTest 0           491\n",
            "            1            55\n",
            "            2           528\n",
            "            3           879\n",
            "            4           594\n",
            "            5           416\n",
            "            6           626\n",
            "PublicTest  0           467\n",
            "            1            56\n",
            "            2           496\n",
            "            3           895\n",
            "            4           653\n",
            "            5           415\n",
            "            6           607\n",
            "Training    0          3995\n",
            "            1           436\n",
            "            2          4097\n",
            "            3          7215\n",
            "            4          4830\n",
            "            5          3171\n",
            "            6          4965\n"
          ],
          "name": "stdout"
        }
      ]
    },
    {
      "cell_type": "markdown",
      "metadata": {
        "id": "pUlUDnyXH1_-"
      },
      "source": [
        "Dividing the data fro Train, Test and Validation as below:\n",
        "\n",
        "Train = Training (80%)\n",
        "\n",
        "Test = PublicTest (10%)\n",
        "\n",
        "Validation = PrivateTest (10%)\n",
        "\n",
        "From Training stats :\n",
        " \n",
        "0 --> 3995\n",
        "\n",
        "1 --> 436\n",
        "\n",
        "2 --> 4097\n",
        "\n",
        "3 --> 7215\n",
        "\n",
        "4 --> 4830\n",
        "\n",
        "5 --> 3171\n",
        "\n",
        "6 --> 4965\n",
        "\n",
        "The data set for trainging has higher samples of Happy faces and very less sample of Disgust sample. So the classes are impalanced for tranining. "
      ]
    },
    {
      "cell_type": "code",
      "metadata": {
        "id": "sJzeMXi0GnxU"
      },
      "source": [
        "# Training Set\n",
        "X_train = np.array(df_face[df_face[\"Usage\"] == \"Training\"][\"pixels\"].to_list())\n",
        "Y_train = df_face[df_face[\"Usage\"] == \"Training\"][\"emotion\"]\n",
        "\n",
        "#Validation Set\n",
        "X_val = np.array(df_face[df_face[\"Usage\"] == \"PrivateTest\"][\"pixels\"].to_list())\n",
        "Y_val = df_face[df_face[\"Usage\"] == \"PrivateTest\"][\"emotion\"]\n",
        "\n",
        "#Test Set\n",
        "X_test = np.array(df_face[df_face[\"Usage\"] == \"PublicTest\"][\"pixels\"].to_list())\n",
        "Y_test = df_face[df_face[\"Usage\"] == \"PublicTest\"][\"emotion\"]"
      ],
      "execution_count": 19,
      "outputs": []
    },
    {
      "cell_type": "code",
      "metadata": {
        "id": "4KxXtDRaIdc3"
      },
      "source": [
        "## reshaping the data sets\n",
        "X_train = X_train.reshape(X_train.shape[0], 48, 48, 1) \n",
        "X_val = X_val.reshape(X_val.shape[0], 48, 48, 1)\n",
        "X_test = X_test.reshape(X_test.shape[0], 48, 48, 1)"
      ],
      "execution_count": 20,
      "outputs": []
    },
    {
      "cell_type": "code",
      "metadata": {
        "colab": {
          "base_uri": "https://localhost:8080/"
        },
        "id": "NJA-ng20JhiV",
        "outputId": "05a77cf0-1dd6-4496-9402-3d527d007f56"
      },
      "source": [
        "type(X_train)"
      ],
      "execution_count": 21,
      "outputs": [
        {
          "output_type": "execute_result",
          "data": {
            "text/plain": [
              "numpy.ndarray"
            ]
          },
          "metadata": {
            "tags": []
          },
          "execution_count": 21
        }
      ]
    },
    {
      "cell_type": "code",
      "metadata": {
        "colab": {
          "base_uri": "https://localhost:8080/"
        },
        "id": "6DKF9IbHJnmf",
        "outputId": "a2786946-73ab-451a-af57-43fe5e5106a0"
      },
      "source": [
        "## Converting Target column into Categorical Dataset\n",
        "\n",
        "Y_train = tf.keras.utils.to_categorical(Y_train, 7) \n",
        "Y_test = tf.keras.utils.to_categorical(Y_test, 7)\n",
        "Y_val = tf.keras.utils.to_categorical(Y_val, 7)\n",
        "\n",
        "type(Y_train)"
      ],
      "execution_count": 22,
      "outputs": [
        {
          "output_type": "execute_result",
          "data": {
            "text/plain": [
              "numpy.ndarray"
            ]
          },
          "metadata": {
            "tags": []
          },
          "execution_count": 22
        }
      ]
    },
    {
      "cell_type": "code",
      "metadata": {
        "colab": {
          "base_uri": "https://localhost:8080/"
        },
        "id": "3B1bD65QMffO",
        "outputId": "49337715-a5b9-4727-cd26-0b6015aaaf71"
      },
      "source": [
        "Y_train.shape"
      ],
      "execution_count": 23,
      "outputs": [
        {
          "output_type": "execute_result",
          "data": {
            "text/plain": [
              "(28709, 7)"
            ]
          },
          "metadata": {
            "tags": []
          },
          "execution_count": 23
        }
      ]
    },
    {
      "cell_type": "code",
      "metadata": {
        "colab": {
          "base_uri": "https://localhost:8080/"
        },
        "id": "7XIR9Co8MovA",
        "outputId": "f8d5c20a-416a-408d-b432-02a8313e6b55"
      },
      "source": [
        "Y_train[0]"
      ],
      "execution_count": 24,
      "outputs": [
        {
          "output_type": "execute_result",
          "data": {
            "text/plain": [
              "array([1., 0., 0., 0., 0., 0., 0.], dtype=float32)"
            ]
          },
          "metadata": {
            "tags": []
          },
          "execution_count": 24
        }
      ]
    },
    {
      "cell_type": "code",
      "metadata": {
        "id": "lfhhQ2gyJ_tG"
      },
      "source": [
        "## Converitng data into dataframe for model to accept the data\n",
        "Y_train = pd.DataFrame(Y_train)\n",
        "Y_test = pd.DataFrame(Y_test)\n",
        "Y_val = pd.DataFrame(Y_val)"
      ],
      "execution_count": 25,
      "outputs": []
    },
    {
      "cell_type": "code",
      "metadata": {
        "id": "_-vIA_55OsZf"
      },
      "source": [
        "## Checking Shape of sample:\n",
        "img_width = 48\n",
        "img_height = 48\n",
        "import tensorflow.keras.backend as k\n",
        "if k.image_data_format()=='channels_first': \n",
        "    input_shape=(1, img_width, img_height)\n",
        "else:\n",
        "    input_shape=(img_width,img_height,1)"
      ],
      "execution_count": 26,
      "outputs": []
    },
    {
      "cell_type": "markdown",
      "metadata": {
        "id": "34-ZtbLkJwZG"
      },
      "source": [
        "### Creating the Model"
      ]
    },
    {
      "cell_type": "code",
      "metadata": {
        "id": "ng0Md7mpb3SB"
      },
      "source": [
        "## Function to get Model Stats\n",
        "\n",
        "def model_stats(training_model):\n",
        "  print(training_model.history.keys())\n",
        "  # summarize training for accuracy\n",
        "  plt.plot(training_model.history['accuracy'])\n",
        "  plt.plot(training_model.history['val_accuracy'])\n",
        "  plt.title('model accuracy')\n",
        "  plt.ylabel('accuracy')\n",
        "  plt.xlabel('epoch')\n",
        "  plt.legend(['train', 'test'], loc='upper left')\n",
        "  plt.show()\n",
        "  # summarize traning for loss\n",
        "  plt.plot(training_model.history['loss'])\n",
        "  plt.plot(training_model.history['val_loss'])\n",
        "  plt.title('model loss')\n",
        "  plt.ylabel('loss')\n",
        "  plt.xlabel('epoch')\n",
        "  plt.legend(['train', 'test'], loc='upper left')\n",
        "  plt.show()"
      ],
      "execution_count": 27,
      "outputs": []
    },
    {
      "cell_type": "markdown",
      "metadata": {
        "id": "6sxCVWWlv3x9"
      },
      "source": [
        "#### Model_1"
      ]
    },
    {
      "cell_type": "code",
      "metadata": {
        "colab": {
          "base_uri": "https://localhost:8080/"
        },
        "id": "EkHC_qxbJ0tg",
        "outputId": "78fdf466-bcf6-45bd-aae7-f4ab864fdf83"
      },
      "source": [
        "model_1 = Sequential()\n",
        "\n",
        "#Layer 1\n",
        "model_1.add(Conv2D(64,(5,5),input_shape=input_shape)) \n",
        "model_1.add(BatchNormalization())\n",
        "model_1.add(MaxPooling2D(pool_size=(2,2)))\n",
        "model_1.add(Activation('relu'))\n",
        "#model_1.add(Dropout(0.25))\n",
        "\n",
        "#Layer 2\n",
        "model_1.add(Conv2D(128,(5,5))) \n",
        "model_1.add(BatchNormalization())\n",
        "model_1.add(MaxPooling2D(pool_size=(2,2)))\n",
        "model_1.add(Activation('relu'))\n",
        "#model_1.add(Dropout(0.25))\n",
        "\n",
        "\n",
        "#Layer 3\n",
        "model_1.add(Conv2D(256,(3,3))) \n",
        "model_1.add(BatchNormalization())\n",
        "model_1.add(MaxPooling2D(pool_size=(2,2)))\n",
        "model_1.add(Activation('relu'))\n",
        "#model_1.add(Dropout(0.25))\n",
        "\n",
        "#Layer 4\n",
        "model_1.add(Flatten())\n",
        "model_1.add(Dense(128, activation='relu'))\n",
        "model_1.add(BatchNormalization())\n",
        "model_1.add(Dropout(0.25))\n",
        "model_1.add(Dense(7, activation='softmax')) \n",
        "\n",
        "\n",
        "model_1.summary()"
      ],
      "execution_count": 28,
      "outputs": [
        {
          "output_type": "stream",
          "text": [
            "Model: \"sequential\"\n",
            "_________________________________________________________________\n",
            "Layer (type)                 Output Shape              Param #   \n",
            "=================================================================\n",
            "conv2d (Conv2D)              (None, 44, 44, 64)        1664      \n",
            "_________________________________________________________________\n",
            "module_wrapper (ModuleWrappe (None, 44, 44, 64)        256       \n",
            "_________________________________________________________________\n",
            "max_pooling2d (MaxPooling2D) (None, 22, 22, 64)        0         \n",
            "_________________________________________________________________\n",
            "activation (Activation)      (None, 22, 22, 64)        0         \n",
            "_________________________________________________________________\n",
            "conv2d_1 (Conv2D)            (None, 18, 18, 128)       204928    \n",
            "_________________________________________________________________\n",
            "module_wrapper_1 (ModuleWrap (None, 18, 18, 128)       512       \n",
            "_________________________________________________________________\n",
            "max_pooling2d_1 (MaxPooling2 (None, 9, 9, 128)         0         \n",
            "_________________________________________________________________\n",
            "activation_1 (Activation)    (None, 9, 9, 128)         0         \n",
            "_________________________________________________________________\n",
            "conv2d_2 (Conv2D)            (None, 7, 7, 256)         295168    \n",
            "_________________________________________________________________\n",
            "module_wrapper_2 (ModuleWrap (None, 7, 7, 256)         1024      \n",
            "_________________________________________________________________\n",
            "max_pooling2d_2 (MaxPooling2 (None, 3, 3, 256)         0         \n",
            "_________________________________________________________________\n",
            "activation_2 (Activation)    (None, 3, 3, 256)         0         \n",
            "_________________________________________________________________\n",
            "flatten (Flatten)            (None, 2304)              0         \n",
            "_________________________________________________________________\n",
            "dense (Dense)                (None, 128)               295040    \n",
            "_________________________________________________________________\n",
            "module_wrapper_3 (ModuleWrap (None, 128)               512       \n",
            "_________________________________________________________________\n",
            "dropout (Dropout)            (None, 128)               0         \n",
            "_________________________________________________________________\n",
            "dense_1 (Dense)              (None, 7)                 903       \n",
            "=================================================================\n",
            "Total params: 800,007\n",
            "Trainable params: 798,855\n",
            "Non-trainable params: 1,152\n",
            "_________________________________________________________________\n"
          ],
          "name": "stdout"
        }
      ]
    },
    {
      "cell_type": "code",
      "metadata": {
        "id": "ZsF3qbGKiEIW"
      },
      "source": [
        "model_1.compile(optimizer='Adam',\n",
        "              loss='categorical_crossentropy',\n",
        "              metrics=['accuracy'])"
      ],
      "execution_count": 29,
      "outputs": []
    },
    {
      "cell_type": "code",
      "metadata": {
        "colab": {
          "base_uri": "https://localhost:8080/"
        },
        "id": "uCjW_MXfRNKv",
        "outputId": "44ec02d1-d0c2-4238-b756-d97d4251edd8"
      },
      "source": [
        "[print(i.shape, i.dtype) for i in model_1.inputs]\n",
        "[print(o.shape, o.dtype) for o in model_1.outputs]\n",
        "#[print(l.name, l.input_shape, l.dtype) for l in model_1.layers]"
      ],
      "execution_count": 30,
      "outputs": [
        {
          "output_type": "stream",
          "text": [
            "(None, 48, 48, 1) <dtype: 'float32'>\n",
            "(None, 7) <dtype: 'float32'>\n"
          ],
          "name": "stdout"
        },
        {
          "output_type": "execute_result",
          "data": {
            "text/plain": [
              "[None]"
            ]
          },
          "metadata": {
            "tags": []
          },
          "execution_count": 30
        }
      ]
    },
    {
      "cell_type": "code",
      "metadata": {
        "colab": {
          "base_uri": "https://localhost:8080/"
        },
        "id": "DM4nzKLijtOG",
        "outputId": "818de76d-90bf-451a-aedc-fe71c12a506f"
      },
      "source": [
        "## Traning basic model\n",
        "train_1 = model_1.fit( X_train,Y_train, batch_size = 40, epochs = 20, validation_data=(X_val, Y_val))"
      ],
      "execution_count": 31,
      "outputs": [
        {
          "output_type": "stream",
          "text": [
            "Epoch 1/20\n",
            "718/718 [==============================] - 21s 7ms/step - loss: 1.6207 - accuracy: 0.3847 - val_loss: 1.6446 - val_accuracy: 0.3605\n",
            "Epoch 2/20\n",
            "718/718 [==============================] - 5s 6ms/step - loss: 1.3096 - accuracy: 0.5045 - val_loss: 1.6588 - val_accuracy: 0.3658\n",
            "Epoch 3/20\n",
            "718/718 [==============================] - 5s 6ms/step - loss: 1.2050 - accuracy: 0.5451 - val_loss: 1.3560 - val_accuracy: 0.5043\n",
            "Epoch 4/20\n",
            "718/718 [==============================] - 5s 6ms/step - loss: 1.1226 - accuracy: 0.5819 - val_loss: 1.5569 - val_accuracy: 0.4135\n",
            "Epoch 5/20\n",
            "718/718 [==============================] - 5s 6ms/step - loss: 1.0302 - accuracy: 0.6179 - val_loss: 1.2246 - val_accuracy: 0.5378\n",
            "Epoch 6/20\n",
            "718/718 [==============================] - 5s 6ms/step - loss: 0.9323 - accuracy: 0.6545 - val_loss: 1.4828 - val_accuracy: 0.4413\n",
            "Epoch 7/20\n",
            "718/718 [==============================] - 5s 6ms/step - loss: 0.8190 - accuracy: 0.7029 - val_loss: 1.4272 - val_accuracy: 0.4868\n",
            "Epoch 8/20\n",
            "718/718 [==============================] - 5s 6ms/step - loss: 0.6912 - accuracy: 0.7488 - val_loss: 1.3961 - val_accuracy: 0.5185\n",
            "Epoch 9/20\n",
            "718/718 [==============================] - 5s 6ms/step - loss: 0.5674 - accuracy: 0.7936 - val_loss: 1.5017 - val_accuracy: 0.4929\n",
            "Epoch 10/20\n",
            "718/718 [==============================] - 5s 6ms/step - loss: 0.4543 - accuracy: 0.8399 - val_loss: 1.6088 - val_accuracy: 0.5104\n",
            "Epoch 11/20\n",
            "718/718 [==============================] - 5s 6ms/step - loss: 0.3610 - accuracy: 0.8739 - val_loss: 1.5833 - val_accuracy: 0.5483\n",
            "Epoch 12/20\n",
            "718/718 [==============================] - 5s 6ms/step - loss: 0.2874 - accuracy: 0.8988 - val_loss: 1.8631 - val_accuracy: 0.5475\n",
            "Epoch 13/20\n",
            "718/718 [==============================] - 5s 6ms/step - loss: 0.2549 - accuracy: 0.9128 - val_loss: 1.8728 - val_accuracy: 0.5391\n",
            "Epoch 14/20\n",
            "718/718 [==============================] - 5s 6ms/step - loss: 0.2192 - accuracy: 0.9251 - val_loss: 2.1068 - val_accuracy: 0.5143\n",
            "Epoch 15/20\n",
            "718/718 [==============================] - 5s 6ms/step - loss: 0.1900 - accuracy: 0.9342 - val_loss: 2.2037 - val_accuracy: 0.4965\n",
            "Epoch 16/20\n",
            "718/718 [==============================] - 5s 6ms/step - loss: 0.1836 - accuracy: 0.9393 - val_loss: 2.2320 - val_accuracy: 0.5074\n",
            "Epoch 17/20\n",
            "718/718 [==============================] - 5s 6ms/step - loss: 0.1659 - accuracy: 0.9461 - val_loss: 2.0216 - val_accuracy: 0.5634\n",
            "Epoch 18/20\n",
            "718/718 [==============================] - 5s 6ms/step - loss: 0.1551 - accuracy: 0.9491 - val_loss: 2.4659 - val_accuracy: 0.5352\n",
            "Epoch 19/20\n",
            "718/718 [==============================] - 5s 6ms/step - loss: 0.1453 - accuracy: 0.9536 - val_loss: 2.3180 - val_accuracy: 0.4987\n",
            "Epoch 20/20\n",
            "718/718 [==============================] - 5s 6ms/step - loss: 0.1263 - accuracy: 0.9602 - val_loss: 2.1432 - val_accuracy: 0.5447\n"
          ],
          "name": "stdout"
        }
      ]
    },
    {
      "cell_type": "code",
      "metadata": {
        "colab": {
          "base_uri": "https://localhost:8080/"
        },
        "id": "gwnkuhIQp35Y",
        "outputId": "da1bde56-1674-45bc-c19a-b498d5b8a606"
      },
      "source": [
        "model_1.evaluate(X_test,Y_test, verbose=2)"
      ],
      "execution_count": 32,
      "outputs": [
        {
          "output_type": "stream",
          "text": [
            "113/113 - 0s - loss: 2.2766 - accuracy: 0.5302\n"
          ],
          "name": "stdout"
        },
        {
          "output_type": "execute_result",
          "data": {
            "text/plain": [
              "[2.276566982269287, 0.530231237411499]"
            ]
          },
          "metadata": {
            "tags": []
          },
          "execution_count": 32
        }
      ]
    },
    {
      "cell_type": "code",
      "metadata": {
        "colab": {
          "base_uri": "https://localhost:8080/",
          "height": 590
        },
        "id": "vn-ReQNFcMhS",
        "outputId": "0497139c-ed92-49dd-8480-2b36f5d4d914"
      },
      "source": [
        "## Gathering model stats\n",
        "model_stats(train_1)"
      ],
      "execution_count": 33,
      "outputs": [
        {
          "output_type": "stream",
          "text": [
            "dict_keys(['loss', 'accuracy', 'val_loss', 'val_accuracy'])\n"
          ],
          "name": "stdout"
        },
        {
          "output_type": "display_data",
          "data": {
            "image/png": "[encoded data removed]",
            "text/plain": [
              "<Figure size 432x288 with 1 Axes>"
            ]
          },
          "metadata": {
            "tags": [],
            "needs_background": "light"
          }
        },
        {
          "output_type": "display_data",
          "data": {
            "image/png": "[encoded data removed]",
            "text/plain": [
              "<Figure size 432x288 with 1 Axes>"
            ]
          },
          "metadata": {
            "tags": [],
            "needs_background": "light"
          }
        }
      ]
    },
    {
      "cell_type": "markdown",
      "metadata": {
        "id": "Hm9MU96Tv-yg"
      },
      "source": [
        "#### Model_2"
      ]
    },
    {
      "cell_type": "code",
      "metadata": {
        "colab": {
          "base_uri": "https://localhost:8080/"
        },
        "id": "x6U4vsTqpAnk",
        "outputId": "dc5b4a11-9f42-4eb4-af0a-ea3e9a7425b1"
      },
      "source": [
        "model_2 = Sequential()\n",
        "\n",
        "#Layer 1\n",
        "model_2.add(Conv2D(64,(5,5),input_shape=input_shape)) \n",
        "model_2.add(BatchNormalization())\n",
        "model_2.add(MaxPooling2D(pool_size=(2,2)))\n",
        "model_2.add(Activation('relu'))\n",
        "model_2.add(Dropout(0.25))\n",
        "\n",
        "#Layer 2\n",
        "model_2.add(Conv2D(128,(5,5))) \n",
        "model_2.add(BatchNormalization())\n",
        "model_2.add(MaxPooling2D(pool_size=(2,2)))\n",
        "model_2.add(Activation('relu'))\n",
        "model_2.add(Dropout(0.25))\n",
        "\n",
        "\n",
        "#Layer 3\n",
        "model_2.add(Conv2D(256,(3,3))) \n",
        "model_2.add(BatchNormalization())\n",
        "model_2.add(MaxPooling2D(pool_size=(2,2)))\n",
        "model_2.add(Activation('relu'))\n",
        "model_2.add(Dropout(0.25))\n",
        "\n",
        "#Layer 4\n",
        "model_2.add(Flatten())\n",
        "model_2.add(Dense(128, activation='relu'))\n",
        "model_2.add(BatchNormalization())\n",
        "model_2.add(Dropout(0.25))\n",
        "model_2.add(Dense(7, activation='softmax')) \n",
        "\n",
        "\n",
        "model_2.summary()"
      ],
      "execution_count": 34,
      "outputs": [
        {
          "output_type": "stream",
          "text": [
            "Model: \"sequential_1\"\n",
            "_________________________________________________________________\n",
            "Layer (type)                 Output Shape              Param #   \n",
            "=================================================================\n",
            "conv2d_3 (Conv2D)            (None, 44, 44, 64)        1664      \n",
            "_________________________________________________________________\n",
            "module_wrapper_4 (ModuleWrap (None, 44, 44, 64)        256       \n",
            "_________________________________________________________________\n",
            "max_pooling2d_3 (MaxPooling2 (None, 22, 22, 64)        0         \n",
            "_________________________________________________________________\n",
            "activation_3 (Activation)    (None, 22, 22, 64)        0         \n",
            "_________________________________________________________________\n",
            "dropout_1 (Dropout)          (None, 22, 22, 64)        0         \n",
            "_________________________________________________________________\n",
            "conv2d_4 (Conv2D)            (None, 18, 18, 128)       204928    \n",
            "_________________________________________________________________\n",
            "module_wrapper_5 (ModuleWrap (None, 18, 18, 128)       512       \n",
            "_________________________________________________________________\n",
            "max_pooling2d_4 (MaxPooling2 (None, 9, 9, 128)         0         \n",
            "_________________________________________________________________\n",
            "activation_4 (Activation)    (None, 9, 9, 128)         0         \n",
            "_________________________________________________________________\n",
            "dropout_2 (Dropout)          (None, 9, 9, 128)         0         \n",
            "_________________________________________________________________\n",
            "conv2d_5 (Conv2D)            (None, 7, 7, 256)         295168    \n",
            "_________________________________________________________________\n",
            "module_wrapper_6 (ModuleWrap (None, 7, 7, 256)         1024      \n",
            "_________________________________________________________________\n",
            "max_pooling2d_5 (MaxPooling2 (None, 3, 3, 256)         0         \n",
            "_________________________________________________________________\n",
            "activation_5 (Activation)    (None, 3, 3, 256)         0         \n",
            "_________________________________________________________________\n",
            "dropout_3 (Dropout)          (None, 3, 3, 256)         0         \n",
            "_________________________________________________________________\n",
            "flatten_1 (Flatten)          (None, 2304)              0         \n",
            "_________________________________________________________________\n",
            "dense_2 (Dense)              (None, 128)               295040    \n",
            "_________________________________________________________________\n",
            "module_wrapper_7 (ModuleWrap (None, 128)               512       \n",
            "_________________________________________________________________\n",
            "dropout_4 (Dropout)          (None, 128)               0         \n",
            "_________________________________________________________________\n",
            "dense_3 (Dense)              (None, 7)                 903       \n",
            "=================================================================\n",
            "Total params: 800,007\n",
            "Trainable params: 798,855\n",
            "Non-trainable params: 1,152\n",
            "_________________________________________________________________\n"
          ],
          "name": "stdout"
        }
      ]
    },
    {
      "cell_type": "code",
      "metadata": {
        "id": "TdzO_y56r2xp"
      },
      "source": [
        "model_2.compile(optimizer='Adam',\n",
        "              loss='categorical_crossentropy',\n",
        "              metrics=['accuracy'])"
      ],
      "execution_count": 35,
      "outputs": []
    },
    {
      "cell_type": "code",
      "metadata": {
        "colab": {
          "base_uri": "https://localhost:8080/"
        },
        "id": "gX2znewJkV5q",
        "outputId": "730382cb-58d2-44b5-d3dc-1ce7a994b339"
      },
      "source": [
        "## Traning model with dropout layers\n",
        "train_2 = model_2.fit( X_train,Y_train, batch_size = 120, epochs = 30, validation_data=(X_val, Y_val))"
      ],
      "execution_count": 36,
      "outputs": [
        {
          "output_type": "stream",
          "text": [
            "Epoch 1/30\n",
            "240/240 [==============================] - 5s 13ms/step - loss: 1.8039 - accuracy: 0.3274 - val_loss: 1.9177 - val_accuracy: 0.1744\n",
            "Epoch 2/30\n",
            "240/240 [==============================] - 3s 12ms/step - loss: 1.4771 - accuracy: 0.4367 - val_loss: 1.5929 - val_accuracy: 0.3402\n",
            "Epoch 3/30\n",
            "240/240 [==============================] - 3s 12ms/step - loss: 1.3543 - accuracy: 0.4846 - val_loss: 1.5143 - val_accuracy: 0.4001\n",
            "Epoch 4/30\n",
            "240/240 [==============================] - 3s 12ms/step - loss: 1.2830 - accuracy: 0.5109 - val_loss: 1.4944 - val_accuracy: 0.4291\n",
            "Epoch 5/30\n",
            "240/240 [==============================] - 3s 12ms/step - loss: 1.2357 - accuracy: 0.5341 - val_loss: 1.3457 - val_accuracy: 0.5018\n",
            "Epoch 6/30\n",
            "240/240 [==============================] - 3s 12ms/step - loss: 1.1959 - accuracy: 0.5477 - val_loss: 1.2641 - val_accuracy: 0.5183\n",
            "Epoch 7/30\n",
            "240/240 [==============================] - 3s 12ms/step - loss: 1.1599 - accuracy: 0.5623 - val_loss: 1.4952 - val_accuracy: 0.4380\n",
            "Epoch 8/30\n",
            "240/240 [==============================] - 3s 12ms/step - loss: 1.1349 - accuracy: 0.5746 - val_loss: 1.1884 - val_accuracy: 0.5534\n",
            "Epoch 9/30\n",
            "240/240 [==============================] - 3s 12ms/step - loss: 1.1122 - accuracy: 0.5803 - val_loss: 1.3065 - val_accuracy: 0.4912\n",
            "Epoch 10/30\n",
            "240/240 [==============================] - 3s 12ms/step - loss: 1.0803 - accuracy: 0.5974 - val_loss: 1.2618 - val_accuracy: 0.5110\n",
            "Epoch 11/30\n",
            "240/240 [==============================] - 3s 12ms/step - loss: 1.0511 - accuracy: 0.6033 - val_loss: 1.1870 - val_accuracy: 0.5500\n",
            "Epoch 12/30\n",
            "240/240 [==============================] - 3s 12ms/step - loss: 1.0242 - accuracy: 0.6164 - val_loss: 1.2814 - val_accuracy: 0.5135\n",
            "Epoch 13/30\n",
            "240/240 [==============================] - 3s 12ms/step - loss: 0.9984 - accuracy: 0.6263 - val_loss: 1.5339 - val_accuracy: 0.4280\n",
            "Epoch 14/30\n",
            "240/240 [==============================] - 3s 12ms/step - loss: 0.9713 - accuracy: 0.6407 - val_loss: 1.5310 - val_accuracy: 0.4578\n",
            "Epoch 15/30\n",
            "240/240 [==============================] - 3s 12ms/step - loss: 0.9481 - accuracy: 0.6436 - val_loss: 1.2163 - val_accuracy: 0.5456\n",
            "Epoch 16/30\n",
            "240/240 [==============================] - 3s 12ms/step - loss: 0.9251 - accuracy: 0.6554 - val_loss: 1.1791 - val_accuracy: 0.5584\n",
            "Epoch 17/30\n",
            "240/240 [==============================] - 3s 12ms/step - loss: 0.9007 - accuracy: 0.6618 - val_loss: 1.4266 - val_accuracy: 0.4960\n",
            "Epoch 18/30\n",
            "240/240 [==============================] - 3s 12ms/step - loss: 0.8706 - accuracy: 0.6750 - val_loss: 1.3227 - val_accuracy: 0.5049\n",
            "Epoch 19/30\n",
            "240/240 [==============================] - 3s 12ms/step - loss: 0.8504 - accuracy: 0.6832 - val_loss: 1.1255 - val_accuracy: 0.5784\n",
            "Epoch 20/30\n",
            "240/240 [==============================] - 3s 12ms/step - loss: 0.8238 - accuracy: 0.6924 - val_loss: 1.2027 - val_accuracy: 0.5525\n",
            "Epoch 21/30\n",
            "240/240 [==============================] - 3s 12ms/step - loss: 0.8004 - accuracy: 0.7027 - val_loss: 1.2232 - val_accuracy: 0.5492\n",
            "Epoch 22/30\n",
            "240/240 [==============================] - 3s 12ms/step - loss: 0.7735 - accuracy: 0.7131 - val_loss: 1.1317 - val_accuracy: 0.5879\n",
            "Epoch 23/30\n",
            "240/240 [==============================] - 3s 12ms/step - loss: 0.7474 - accuracy: 0.7221 - val_loss: 1.2390 - val_accuracy: 0.5442\n",
            "Epoch 24/30\n",
            "240/240 [==============================] - 3s 12ms/step - loss: 0.7335 - accuracy: 0.7297 - val_loss: 1.1025 - val_accuracy: 0.6030\n",
            "Epoch 25/30\n",
            "240/240 [==============================] - 3s 12ms/step - loss: 0.7022 - accuracy: 0.7416 - val_loss: 1.1560 - val_accuracy: 0.5784\n",
            "Epoch 26/30\n",
            "240/240 [==============================] - 3s 12ms/step - loss: 0.6899 - accuracy: 0.7455 - val_loss: 1.2076 - val_accuracy: 0.5754\n",
            "Epoch 27/30\n",
            "240/240 [==============================] - 3s 12ms/step - loss: 0.6716 - accuracy: 0.7513 - val_loss: 1.1562 - val_accuracy: 0.5935\n",
            "Epoch 28/30\n",
            "240/240 [==============================] - 3s 12ms/step - loss: 0.6544 - accuracy: 0.7593 - val_loss: 1.1836 - val_accuracy: 0.5840\n",
            "Epoch 29/30\n",
            "240/240 [==============================] - 3s 12ms/step - loss: 0.6408 - accuracy: 0.7638 - val_loss: 1.5064 - val_accuracy: 0.4912\n",
            "Epoch 30/30\n",
            "240/240 [==============================] - 3s 12ms/step - loss: 0.6125 - accuracy: 0.7747 - val_loss: 1.4775 - val_accuracy: 0.5199\n"
          ],
          "name": "stdout"
        }
      ]
    },
    {
      "cell_type": "code",
      "metadata": {
        "colab": {
          "base_uri": "https://localhost:8080/"
        },
        "id": "sehh-3fyp7ay",
        "outputId": "80475747-b00b-4693-de4d-1c80f76fdf68"
      },
      "source": [
        "model_2.evaluate(X_test,Y_test, verbose=2)"
      ],
      "execution_count": 37,
      "outputs": [
        {
          "output_type": "stream",
          "text": [
            "113/113 - 0s - loss: 1.5013 - accuracy: 0.5085\n"
          ],
          "name": "stdout"
        },
        {
          "output_type": "execute_result",
          "data": {
            "text/plain": [
              "[1.5012869834899902, 0.5084981918334961]"
            ]
          },
          "metadata": {
            "tags": []
          },
          "execution_count": 37
        }
      ]
    },
    {
      "cell_type": "code",
      "metadata": {
        "colab": {
          "base_uri": "https://localhost:8080/",
          "height": 0
        },
        "id": "lavn5Sd2brXC",
        "outputId": "9472353b-4ab6-4f5c-d88e-4f5b5981358e"
      },
      "source": [
        "## Gathering model stats\n",
        "model_stats(train_2)"
      ],
      "execution_count": 38,
      "outputs": [
        {
          "output_type": "stream",
          "text": [
            "dict_keys(['loss', 'accuracy', 'val_loss', 'val_accuracy'])\n"
          ],
          "name": "stdout"
        },
        {
          "output_type": "display_data",
          "data": {
            "image/png": "[encoded data removed]",
            "text/plain": [
              "<Figure size 432x288 with 1 Axes>"
            ]
          },
          "metadata": {
            "tags": [],
            "needs_background": "light"
          }
        },
        {
          "output_type": "display_data",
          "data": {
            "image/png": "[encoded data removed]",
            "text/plain": [
              "<Figure size 432x288 with 1 Axes>"
            ]
          },
          "metadata": {
            "tags": [],
            "needs_background": "light"
          }
        }
      ]
    },
    {
      "cell_type": "markdown",
      "metadata": {
        "id": "pYlfUvLYwHWf"
      },
      "source": [
        "#### Model_3"
      ]
    },
    {
      "cell_type": "code",
      "metadata": {
        "id": "3K3XI9chcVE-"
      },
      "source": [
        "## Adding Learning Rate and early stopping using callback function\n",
        "\n",
        "from keras.layers import  BatchNormalization\n",
        "from keras.callbacks import EarlyStopping, ReduceLROnPlateau\n",
        "earlystop = EarlyStopping(patience=10)\n",
        "\n",
        "learning_rate_reduction = ReduceLROnPlateau(monitor='val_accuracy', \n",
        "                                            patience=2, \n",
        "                                            verbose=1, \n",
        "                                            factor=0.5, \n",
        "                                            min_lr=0.00001)\n",
        "\n",
        "callbacks = [earlystop, learning_rate_reduction]"
      ],
      "execution_count": 39,
      "outputs": []
    },
    {
      "cell_type": "code",
      "metadata": {
        "colab": {
          "base_uri": "https://localhost:8080/"
        },
        "id": "XNzBsCs0pWMz",
        "outputId": "f23b25d1-d59a-4621-8fc8-dbc40323babc"
      },
      "source": [
        "model_3 = Sequential()\n",
        "\n",
        "#Layer 1\n",
        "model_3.add(Conv2D(64,(5,5),input_shape=input_shape)) \n",
        "model_3.add(BatchNormalization())\n",
        "model_3.add(MaxPooling2D(pool_size=(2,2)))\n",
        "model_3.add(Activation('relu'))\n",
        "model_3.add(Dropout(0.25))\n",
        "\n",
        "#Layer 2\n",
        "model_3.add(Conv2D(128,(5,5))) \n",
        "model_3.add(BatchNormalization())\n",
        "model_3.add(MaxPooling2D(pool_size=(2,2)))\n",
        "model_3.add(Activation('relu'))\n",
        "model_3.add(Dropout(0.25))\n",
        "\n",
        "\n",
        "#Layer 3\n",
        "model_3.add(Conv2D(256,(3,3))) \n",
        "model_3.add(BatchNormalization())\n",
        "model_3.add(MaxPooling2D(pool_size=(2,2)))\n",
        "model_3.add(Activation('relu'))\n",
        "model_3.add(Dropout(0.25))\n",
        "\n",
        "#Layer 4\n",
        "model_3.add(Flatten())\n",
        "model_3.add(Dense(128, activation='relu'))\n",
        "model_3.add(BatchNormalization())\n",
        "model_3.add(Dropout(0.25))\n",
        "model_3.add(Dense(7, activation='softmax')) \n",
        "\n",
        "\n",
        "model_3.summary()"
      ],
      "execution_count": 40,
      "outputs": [
        {
          "output_type": "stream",
          "text": [
            "Model: \"sequential_2\"\n",
            "_________________________________________________________________\n",
            "Layer (type)                 Output Shape              Param #   \n",
            "=================================================================\n",
            "conv2d_6 (Conv2D)            (None, 44, 44, 64)        1664      \n",
            "_________________________________________________________________\n",
            "module_wrapper_8 (ModuleWrap (None, 44, 44, 64)        256       \n",
            "_________________________________________________________________\n",
            "max_pooling2d_6 (MaxPooling2 (None, 22, 22, 64)        0         \n",
            "_________________________________________________________________\n",
            "activation_6 (Activation)    (None, 22, 22, 64)        0         \n",
            "_________________________________________________________________\n",
            "dropout_5 (Dropout)          (None, 22, 22, 64)        0         \n",
            "_________________________________________________________________\n",
            "conv2d_7 (Conv2D)            (None, 18, 18, 128)       204928    \n",
            "_________________________________________________________________\n",
            "module_wrapper_9 (ModuleWrap (None, 18, 18, 128)       512       \n",
            "_________________________________________________________________\n",
            "max_pooling2d_7 (MaxPooling2 (None, 9, 9, 128)         0         \n",
            "_________________________________________________________________\n",
            "activation_7 (Activation)    (None, 9, 9, 128)         0         \n",
            "_________________________________________________________________\n",
            "dropout_6 (Dropout)          (None, 9, 9, 128)         0         \n",
            "_________________________________________________________________\n",
            "conv2d_8 (Conv2D)            (None, 7, 7, 256)         295168    \n",
            "_________________________________________________________________\n",
            "module_wrapper_10 (ModuleWra (None, 7, 7, 256)         1024      \n",
            "_________________________________________________________________\n",
            "max_pooling2d_8 (MaxPooling2 (None, 3, 3, 256)         0         \n",
            "_________________________________________________________________\n",
            "activation_8 (Activation)    (None, 3, 3, 256)         0         \n",
            "_________________________________________________________________\n",
            "dropout_7 (Dropout)          (None, 3, 3, 256)         0         \n",
            "_________________________________________________________________\n",
            "flatten_2 (Flatten)          (None, 2304)              0         \n",
            "_________________________________________________________________\n",
            "dense_4 (Dense)              (None, 128)               295040    \n",
            "_________________________________________________________________\n",
            "module_wrapper_11 (ModuleWra (None, 128)               512       \n",
            "_________________________________________________________________\n",
            "dropout_8 (Dropout)          (None, 128)               0         \n",
            "_________________________________________________________________\n",
            "dense_5 (Dense)              (None, 7)                 903       \n",
            "=================================================================\n",
            "Total params: 800,007\n",
            "Trainable params: 798,855\n",
            "Non-trainable params: 1,152\n",
            "_________________________________________________________________\n"
          ],
          "name": "stdout"
        }
      ]
    },
    {
      "cell_type": "code",
      "metadata": {
        "id": "5ZsoBFgsr-bI"
      },
      "source": [
        "model_3.compile(optimizer='Adam',\n",
        "              loss='categorical_crossentropy',\n",
        "              metrics=['accuracy'])"
      ],
      "execution_count": 41,
      "outputs": []
    },
    {
      "cell_type": "code",
      "metadata": {
        "colab": {
          "base_uri": "https://localhost:8080/"
        },
        "id": "ck8izgvKdEdl",
        "outputId": "6055d439-708e-464b-f641-ae1ca131a823"
      },
      "source": [
        "## Traning model with callbacks\n",
        "train_3 = model_3.fit( X_train,Y_train, batch_size = 120, epochs = 50, validation_data=(X_val, Y_val), callbacks= callbacks)"
      ],
      "execution_count": 42,
      "outputs": [
        {
          "output_type": "stream",
          "text": [
            "Epoch 1/50\n",
            "240/240 [==============================] - 4s 13ms/step - loss: 1.8269 - accuracy: 0.3196 - val_loss: 1.9001 - val_accuracy: 0.1775\n",
            "Epoch 2/50\n",
            "240/240 [==============================] - 3s 12ms/step - loss: 1.5012 - accuracy: 0.4263 - val_loss: 1.5985 - val_accuracy: 0.3734\n",
            "Epoch 3/50\n",
            "240/240 [==============================] - 3s 12ms/step - loss: 1.3671 - accuracy: 0.4823 - val_loss: 1.4578 - val_accuracy: 0.4400\n",
            "Epoch 4/50\n",
            "240/240 [==============================] - 3s 12ms/step - loss: 1.2926 - accuracy: 0.5108 - val_loss: 1.3280 - val_accuracy: 0.5007\n",
            "Epoch 5/50\n",
            "240/240 [==============================] - 3s 12ms/step - loss: 1.2421 - accuracy: 0.5274 - val_loss: 1.4927 - val_accuracy: 0.4355\n",
            "Epoch 6/50\n",
            "240/240 [==============================] - 3s 12ms/step - loss: 1.2034 - accuracy: 0.5456 - val_loss: 1.4192 - val_accuracy: 0.4684\n",
            "\n",
            "Epoch 00006: ReduceLROnPlateau reducing learning rate to 0.0005000000237487257.\n",
            "Epoch 7/50\n",
            "240/240 [==============================] - 3s 12ms/step - loss: 1.1393 - accuracy: 0.5719 - val_loss: 1.1931 - val_accuracy: 0.5436\n",
            "Epoch 8/50\n",
            "240/240 [==============================] - 3s 12ms/step - loss: 1.1129 - accuracy: 0.5804 - val_loss: 1.2696 - val_accuracy: 0.5138\n",
            "Epoch 9/50\n",
            "240/240 [==============================] - 3s 12ms/step - loss: 1.0918 - accuracy: 0.5901 - val_loss: 1.3668 - val_accuracy: 0.4948\n",
            "\n",
            "Epoch 00009: ReduceLROnPlateau reducing learning rate to 0.0002500000118743628.\n",
            "Epoch 10/50\n",
            "240/240 [==============================] - 3s 12ms/step - loss: 1.0542 - accuracy: 0.6079 - val_loss: 1.0878 - val_accuracy: 0.5960\n",
            "Epoch 11/50\n",
            "240/240 [==============================] - 3s 12ms/step - loss: 1.0293 - accuracy: 0.6161 - val_loss: 1.0935 - val_accuracy: 0.5921\n",
            "Epoch 12/50\n",
            "240/240 [==============================] - 3s 12ms/step - loss: 1.0177 - accuracy: 0.6196 - val_loss: 1.0896 - val_accuracy: 0.5952\n",
            "\n",
            "Epoch 00012: ReduceLROnPlateau reducing learning rate to 0.0001250000059371814.\n",
            "Epoch 13/50\n",
            "240/240 [==============================] - 3s 12ms/step - loss: 0.9875 - accuracy: 0.6320 - val_loss: 1.0656 - val_accuracy: 0.6021\n",
            "Epoch 14/50\n",
            "240/240 [==============================] - 3s 12ms/step - loss: 0.9765 - accuracy: 0.6349 - val_loss: 1.0519 - val_accuracy: 0.6127\n",
            "Epoch 15/50\n",
            "240/240 [==============================] - 3s 12ms/step - loss: 0.9675 - accuracy: 0.6399 - val_loss: 1.0451 - val_accuracy: 0.6121\n",
            "Epoch 16/50\n",
            "240/240 [==============================] - 3s 12ms/step - loss: 0.9569 - accuracy: 0.6437 - val_loss: 1.0496 - val_accuracy: 0.6110\n",
            "\n",
            "Epoch 00016: ReduceLROnPlateau reducing learning rate to 6.25000029685907e-05.\n",
            "Epoch 17/50\n",
            "240/240 [==============================] - 3s 12ms/step - loss: 0.9420 - accuracy: 0.6507 - val_loss: 1.0324 - val_accuracy: 0.6163\n",
            "Epoch 18/50\n",
            "240/240 [==============================] - 3s 12ms/step - loss: 0.9369 - accuracy: 0.6535 - val_loss: 1.0346 - val_accuracy: 0.6186\n",
            "Epoch 19/50\n",
            "240/240 [==============================] - 3s 12ms/step - loss: 0.9325 - accuracy: 0.6560 - val_loss: 1.0302 - val_accuracy: 0.6239\n",
            "Epoch 20/50\n",
            "240/240 [==============================] - 3s 12ms/step - loss: 0.9313 - accuracy: 0.6524 - val_loss: 1.0356 - val_accuracy: 0.6199\n",
            "Epoch 21/50\n",
            "240/240 [==============================] - 3s 13ms/step - loss: 0.9236 - accuracy: 0.6589 - val_loss: 1.0282 - val_accuracy: 0.6225\n",
            "\n",
            "Epoch 00021: ReduceLROnPlateau reducing learning rate to 3.125000148429535e-05.\n",
            "Epoch 22/50\n",
            "240/240 [==============================] - 3s 13ms/step - loss: 0.9164 - accuracy: 0.6593 - val_loss: 1.0233 - val_accuracy: 0.6236\n",
            "Epoch 23/50\n",
            "240/240 [==============================] - 3s 12ms/step - loss: 0.9059 - accuracy: 0.6660 - val_loss: 1.0277 - val_accuracy: 0.6225\n",
            "\n",
            "Epoch 00023: ReduceLROnPlateau reducing learning rate to 1.5625000742147677e-05.\n",
            "Epoch 24/50\n",
            "240/240 [==============================] - 3s 12ms/step - loss: 0.9067 - accuracy: 0.6628 - val_loss: 1.0192 - val_accuracy: 0.6230\n",
            "Epoch 25/50\n",
            "240/240 [==============================] - 3s 12ms/step - loss: 0.9001 - accuracy: 0.6664 - val_loss: 1.0194 - val_accuracy: 0.6272\n",
            "Epoch 26/50\n",
            "240/240 [==============================] - 3s 12ms/step - loss: 0.9035 - accuracy: 0.6643 - val_loss: 1.0201 - val_accuracy: 0.6244\n",
            "Epoch 27/50\n",
            "240/240 [==============================] - 3s 12ms/step - loss: 0.9059 - accuracy: 0.6612 - val_loss: 1.0226 - val_accuracy: 0.6239\n",
            "\n",
            "Epoch 00027: ReduceLROnPlateau reducing learning rate to 1e-05.\n",
            "Epoch 28/50\n",
            "240/240 [==============================] - 3s 12ms/step - loss: 0.8914 - accuracy: 0.6708 - val_loss: 1.0214 - val_accuracy: 0.6227\n",
            "Epoch 29/50\n",
            "240/240 [==============================] - 3s 12ms/step - loss: 0.8977 - accuracy: 0.6670 - val_loss: 1.0171 - val_accuracy: 0.6280\n",
            "Epoch 30/50\n",
            "240/240 [==============================] - 3s 12ms/step - loss: 0.8931 - accuracy: 0.6710 - val_loss: 1.0183 - val_accuracy: 0.6283\n",
            "Epoch 31/50\n",
            "240/240 [==============================] - 3s 12ms/step - loss: 0.8976 - accuracy: 0.6675 - val_loss: 1.0198 - val_accuracy: 0.6261\n",
            "Epoch 32/50\n",
            "240/240 [==============================] - 3s 12ms/step - loss: 0.8910 - accuracy: 0.6680 - val_loss: 1.0191 - val_accuracy: 0.6255\n",
            "Epoch 33/50\n",
            "240/240 [==============================] - 3s 12ms/step - loss: 0.8908 - accuracy: 0.6683 - val_loss: 1.0186 - val_accuracy: 0.6258\n",
            "Epoch 34/50\n",
            "240/240 [==============================] - 3s 12ms/step - loss: 0.8902 - accuracy: 0.6698 - val_loss: 1.0202 - val_accuracy: 0.6241\n",
            "Epoch 35/50\n",
            "240/240 [==============================] - 3s 12ms/step - loss: 0.8890 - accuracy: 0.6692 - val_loss: 1.0183 - val_accuracy: 0.6275\n",
            "Epoch 36/50\n",
            "240/240 [==============================] - 3s 12ms/step - loss: 0.8889 - accuracy: 0.6669 - val_loss: 1.0175 - val_accuracy: 0.6305\n",
            "Epoch 37/50\n",
            "240/240 [==============================] - 3s 12ms/step - loss: 0.8910 - accuracy: 0.6701 - val_loss: 1.0178 - val_accuracy: 0.6266\n",
            "Epoch 38/50\n",
            "240/240 [==============================] - 3s 12ms/step - loss: 0.8874 - accuracy: 0.6709 - val_loss: 1.0180 - val_accuracy: 0.6278\n",
            "Epoch 39/50\n",
            "240/240 [==============================] - 3s 12ms/step - loss: 0.8902 - accuracy: 0.6686 - val_loss: 1.0176 - val_accuracy: 0.6294\n"
          ],
          "name": "stdout"
        }
      ]
    },
    {
      "cell_type": "code",
      "metadata": {
        "colab": {
          "base_uri": "https://localhost:8080/",
          "height": 0
        },
        "id": "19AQjRW3dTQA",
        "outputId": "4e1ed3b9-2c3e-428e-be9a-351a7f29578a"
      },
      "source": [
        "## Gathering model stats\n",
        "\n",
        "model_stats(train_3)"
      ],
      "execution_count": 43,
      "outputs": [
        {
          "output_type": "stream",
          "text": [
            "dict_keys(['loss', 'accuracy', 'val_loss', 'val_accuracy', 'lr'])\n"
          ],
          "name": "stdout"
        },
        {
          "output_type": "display_data",
          "data": {
            "image/png": "[encoded data removed]",
            "text/plain": [
              "<Figure size 432x288 with 1 Axes>"
            ]
          },
          "metadata": {
            "tags": [],
            "needs_background": "light"
          }
        },
        {
          "output_type": "display_data",
          "data": {
            "image/png": "[encoded data removed]",
            "text/plain": [
              "<Figure size 432x288 with 1 Axes>"
            ]
          },
          "metadata": {
            "tags": [],
            "needs_background": "light"
          }
        }
      ]
    },
    {
      "cell_type": "code",
      "metadata": {
        "colab": {
          "base_uri": "https://localhost:8080/"
        },
        "id": "iZI_Q10sdX6q",
        "outputId": "594e0b65-db01-4bc2-f7f4-98494cf2b495"
      },
      "source": [
        "print(train_3.history)\n",
        "# Generate generalization metrics\n",
        "#score = train_3.evaluate(X_test, Y_test, verbose=2)\n",
        "#print(f'Test loss: {score[0]} / Test accuracy: {score[1]}')"
      ],
      "execution_count": 44,
      "outputs": [
        {
          "output_type": "stream",
          "text": [
            "{'loss': [1.826892614364624, 1.5011860132217407, 1.3670639991760254, 1.292603850364685, 1.2420611381530762, 1.203401803970337, 1.1393052339553833, 1.112868309020996, 1.0918179750442505, 1.0542136430740356, 1.0292937755584717, 1.0177452564239502, 0.987515389919281, 0.9765115976333618, 0.967510998249054, 0.9569345116615295, 0.942009687423706, 0.9369277358055115, 0.932525098323822, 0.9313385486602783, 0.9235551357269287, 0.9163795709609985, 0.9059315919876099, 0.9066778421401978, 0.9001237750053406, 0.9034735560417175, 0.9058577418327332, 0.8914119005203247, 0.8977168798446655, 0.8931304216384888, 0.8975598812103271, 0.8910487294197083, 0.8908170461654663, 0.8902043700218201, 0.8890482187271118, 0.8888978362083435, 0.8909545540809631, 0.887382447719574, 0.8902410268783569], 'accuracy': [0.3195861876010895, 0.4262774884700775, 0.48225295543670654, 0.510815441608429, 0.5274304151535034, 0.5455780625343323, 0.5719112753868103, 0.5803754925727844, 0.5900936722755432, 0.6079277992248535, 0.6161134243011475, 0.6195966601371765, 0.6319621205329895, 0.634853184223175, 0.6399038434028625, 0.6436657309532166, 0.6507366895675659, 0.6534884572029114, 0.6559963822364807, 0.6524086594581604, 0.6588874459266663, 0.6593402624130249, 0.6659584045410156, 0.6627886891365051, 0.6663764119148254, 0.6643213033676147, 0.6611515283584595, 0.6707652807235718, 0.6669685244560242, 0.6710439324378967, 0.6674910187721252, 0.6679787039756775, 0.6682573556900024, 0.6698247790336609, 0.6691629886627197, 0.6668989062309265, 0.6701034307479858, 0.670869767665863, 0.6686056852340698], 'val_loss': [1.9001078605651855, 1.5984619855880737, 1.457753300666809, 1.3280168771743774, 1.4927072525024414, 1.4192204475402832, 1.1930769681930542, 1.269621729850769, 1.3667832612991333, 1.0877660512924194, 1.0935492515563965, 1.089612603187561, 1.0656242370605469, 1.051917314529419, 1.0450592041015625, 1.049637794494629, 1.0323567390441895, 1.034609317779541, 1.0302032232284546, 1.035628318786621, 1.0281609296798706, 1.0233098268508911, 1.0276576280593872, 1.0191720724105835, 1.019357442855835, 1.020066499710083, 1.022628903388977, 1.0213990211486816, 1.017096757888794, 1.0182620286941528, 1.019812822341919, 1.019149661064148, 1.0185645818710327, 1.0202022790908813, 1.0182985067367554, 1.0174628496170044, 1.017765760421753, 1.0179775953292847, 1.0175889730453491], 'val_accuracy': [0.17748676240444183, 0.37336304783821106, 0.4399554133415222, 0.50069659948349, 0.43549734354019165, 0.4683755934238434, 0.5436054468154907, 0.5137921571731567, 0.49484536051750183, 0.5959877371788025, 0.592086911201477, 0.5951518416404724, 0.6021175980567932, 0.6127054691314697, 0.6121482253074646, 0.6110337376594543, 0.6163276433944702, 0.6185566782951355, 0.6238506436347961, 0.6199498176574707, 0.6224575042724609, 0.623572051525116, 0.6224575042724609, 0.6230147480964661, 0.6271942257881165, 0.6244078874588013, 0.6238506436347961, 0.6227361559867859, 0.6280301213264465, 0.6283087134361267, 0.6260796785354614, 0.6255224347114563, 0.6258010864257812, 0.6241292953491211, 0.6274728178977966, 0.630537748336792, 0.6266369223594666, 0.6277514696121216, 0.6294232606887817], 'lr': [0.001, 0.001, 0.001, 0.001, 0.001, 0.001, 0.0005, 0.0005, 0.0005, 0.00025, 0.00025, 0.00025, 0.000125, 0.000125, 0.000125, 0.000125, 6.25e-05, 6.25e-05, 6.25e-05, 6.25e-05, 6.25e-05, 3.125e-05, 3.125e-05, 1.5625e-05, 1.5625e-05, 1.5625e-05, 1.5625e-05, 1e-05, 1e-05, 1e-05, 1e-05, 1e-05, 1e-05, 1e-05, 1e-05, 1e-05, 1e-05, 1e-05, 1e-05]}\n"
          ],
          "name": "stdout"
        }
      ]
    },
    {
      "cell_type": "code",
      "metadata": {
        "colab": {
          "base_uri": "https://localhost:8080/"
        },
        "id": "clTpAc8xh_S8",
        "outputId": "c006b6df-1f74-4110-9c15-0820ac9dd485"
      },
      "source": [
        "model_3.evaluate(X_test,Y_test, verbose=2)"
      ],
      "execution_count": 45,
      "outputs": [
        {
          "output_type": "stream",
          "text": [
            "113/113 - 0s - loss: 1.0687 - accuracy: 0.6010\n"
          ],
          "name": "stdout"
        },
        {
          "output_type": "execute_result",
          "data": {
            "text/plain": [
              "[1.068679928779602, 0.6010030508041382]"
            ]
          },
          "metadata": {
            "tags": []
          },
          "execution_count": 45
        }
      ]
    },
    {
      "cell_type": "markdown",
      "metadata": {
        "id": "d2js6ufGwSt0"
      },
      "source": [
        "#### Model_4"
      ]
    },
    {
      "cell_type": "code",
      "metadata": {
        "id": "mWv5R_ImuWh-"
      },
      "source": [
        "## Adding Learning Rate and early stopping using callback function\n",
        "\n",
        "from keras.layers import  BatchNormalization\n",
        "from keras.callbacks import EarlyStopping, ReduceLROnPlateau\n",
        "earlystop = EarlyStopping(patience=10)\n",
        "\n",
        "learning_rate_reduction = ReduceLROnPlateau(monitor='val_accuracy', \n",
        "                                            patience=3, ## increasing the patience\n",
        "                                            verbose=2, \n",
        "                                            factor=0.5, \n",
        "                                            min_lr=0.00001)\n",
        "\n",
        "callbacks = [earlystop, learning_rate_reduction]"
      ],
      "execution_count": 46,
      "outputs": []
    },
    {
      "cell_type": "code",
      "metadata": {
        "colab": {
          "base_uri": "https://localhost:8080/"
        },
        "id": "mI0nsYHcuWiC",
        "outputId": "e3d0d8f5-3553-4303-ec2e-beb681de4dbf"
      },
      "source": [
        "## Increasing the value of dropout layer\n",
        "model_4 = Sequential()\n",
        "\n",
        "#Layer 1\n",
        "model_4.add(Conv2D(64,(5,5),input_shape=input_shape)) \n",
        "model_4.add(BatchNormalization())\n",
        "model_4.add(MaxPooling2D(pool_size=(2,2)))\n",
        "model_4.add(Activation('relu'))\n",
        "model_4.add(Dropout(0.4))\n",
        "\n",
        "#Layer 2\n",
        "model_4.add(Conv2D(128,(5,5))) \n",
        "model_4.add(BatchNormalization())\n",
        "model_4.add(MaxPooling2D(pool_size=(2,2)))\n",
        "model_4.add(Activation('relu'))\n",
        "model_4.add(Dropout(0.4))\n",
        "\n",
        "\n",
        "#Layer 3\n",
        "model_4.add(Conv2D(256,(3,3))) \n",
        "model_4.add(BatchNormalization())\n",
        "model_4.add(MaxPooling2D(pool_size=(2,2)))\n",
        "model_4.add(Activation('relu'))\n",
        "model_4.add(Dropout(0.4))\n",
        "\n",
        "#Layer 4\n",
        "model_4.add(Flatten())\n",
        "model_4.add(Dense(128, activation='relu'))\n",
        "model_4.add(BatchNormalization())\n",
        "model_4.add(Dropout(0.4))\n",
        "model_4.add(Dense(7, activation='softmax')) \n",
        "\n",
        "\n",
        "model_4.summary()"
      ],
      "execution_count": 47,
      "outputs": [
        {
          "output_type": "stream",
          "text": [
            "Model: \"sequential_3\"\n",
            "_________________________________________________________________\n",
            "Layer (type)                 Output Shape              Param #   \n",
            "=================================================================\n",
            "conv2d_9 (Conv2D)            (None, 44, 44, 64)        1664      \n",
            "_________________________________________________________________\n",
            "module_wrapper_12 (ModuleWra (None, 44, 44, 64)        256       \n",
            "_________________________________________________________________\n",
            "max_pooling2d_9 (MaxPooling2 (None, 22, 22, 64)        0         \n",
            "_________________________________________________________________\n",
            "activation_9 (Activation)    (None, 22, 22, 64)        0         \n",
            "_________________________________________________________________\n",
            "dropout_9 (Dropout)          (None, 22, 22, 64)        0         \n",
            "_________________________________________________________________\n",
            "conv2d_10 (Conv2D)           (None, 18, 18, 128)       204928    \n",
            "_________________________________________________________________\n",
            "module_wrapper_13 (ModuleWra (None, 18, 18, 128)       512       \n",
            "_________________________________________________________________\n",
            "max_pooling2d_10 (MaxPooling (None, 9, 9, 128)         0         \n",
            "_________________________________________________________________\n",
            "activation_10 (Activation)   (None, 9, 9, 128)         0         \n",
            "_________________________________________________________________\n",
            "dropout_10 (Dropout)         (None, 9, 9, 128)         0         \n",
            "_________________________________________________________________\n",
            "conv2d_11 (Conv2D)           (None, 7, 7, 256)         295168    \n",
            "_________________________________________________________________\n",
            "module_wrapper_14 (ModuleWra (None, 7, 7, 256)         1024      \n",
            "_________________________________________________________________\n",
            "max_pooling2d_11 (MaxPooling (None, 3, 3, 256)         0         \n",
            "_________________________________________________________________\n",
            "activation_11 (Activation)   (None, 3, 3, 256)         0         \n",
            "_________________________________________________________________\n",
            "dropout_11 (Dropout)         (None, 3, 3, 256)         0         \n",
            "_________________________________________________________________\n",
            "flatten_3 (Flatten)          (None, 2304)              0         \n",
            "_________________________________________________________________\n",
            "dense_6 (Dense)              (None, 128)               295040    \n",
            "_________________________________________________________________\n",
            "module_wrapper_15 (ModuleWra (None, 128)               512       \n",
            "_________________________________________________________________\n",
            "dropout_12 (Dropout)         (None, 128)               0         \n",
            "_________________________________________________________________\n",
            "dense_7 (Dense)              (None, 7)                 903       \n",
            "=================================================================\n",
            "Total params: 800,007\n",
            "Trainable params: 798,855\n",
            "Non-trainable params: 1,152\n",
            "_________________________________________________________________\n"
          ],
          "name": "stdout"
        }
      ]
    },
    {
      "cell_type": "code",
      "metadata": {
        "id": "AZgGhLx6uWiD"
      },
      "source": [
        "model_4.compile(optimizer='Adam',\n",
        "              loss='categorical_crossentropy',\n",
        "              metrics=['accuracy'])"
      ],
      "execution_count": 48,
      "outputs": []
    },
    {
      "cell_type": "code",
      "metadata": {
        "colab": {
          "base_uri": "https://localhost:8080/"
        },
        "id": "xpnoPDiAuWiD",
        "outputId": "14b9980e-afa4-4ed6-efb0-20f37ca3b86d"
      },
      "source": [
        "## Traning model with callbacks\n",
        "train_4 = model_4.fit( X_train,Y_train, batch_size = 120, epochs = 50, validation_data=(X_val, Y_val), callbacks= callbacks)"
      ],
      "execution_count": 49,
      "outputs": [
        {
          "output_type": "stream",
          "text": [
            "Epoch 1/50\n",
            "240/240 [==============================] - 4s 13ms/step - loss: 1.9823 - accuracy: 0.2749 - val_loss: 1.9406 - val_accuracy: 0.2455\n",
            "Epoch 2/50\n",
            "240/240 [==============================] - 3s 12ms/step - loss: 1.6061 - accuracy: 0.3846 - val_loss: 1.7142 - val_accuracy: 0.3034\n",
            "Epoch 3/50\n",
            "240/240 [==============================] - 3s 12ms/step - loss: 1.4838 - accuracy: 0.4282 - val_loss: 1.4619 - val_accuracy: 0.4444\n",
            "Epoch 4/50\n",
            "240/240 [==============================] - 3s 12ms/step - loss: 1.4087 - accuracy: 0.4639 - val_loss: 1.4946 - val_accuracy: 0.4121\n",
            "Epoch 5/50\n",
            "240/240 [==============================] - 3s 12ms/step - loss: 1.3593 - accuracy: 0.4809 - val_loss: 1.3282 - val_accuracy: 0.4901\n",
            "Epoch 6/50\n",
            "240/240 [==============================] - 3s 12ms/step - loss: 1.3242 - accuracy: 0.4967 - val_loss: 1.4143 - val_accuracy: 0.4232\n",
            "Epoch 7/50\n",
            "240/240 [==============================] - 3s 12ms/step - loss: 1.2961 - accuracy: 0.5079 - val_loss: 1.2519 - val_accuracy: 0.5202\n",
            "Epoch 8/50\n",
            "240/240 [==============================] - 3s 12ms/step - loss: 1.2620 - accuracy: 0.5228 - val_loss: 1.2410 - val_accuracy: 0.5277\n",
            "Epoch 9/50\n",
            "240/240 [==============================] - 3s 12ms/step - loss: 1.2436 - accuracy: 0.5310 - val_loss: 1.2647 - val_accuracy: 0.4982\n",
            "Epoch 10/50\n",
            "240/240 [==============================] - 3s 12ms/step - loss: 1.2306 - accuracy: 0.5357 - val_loss: 1.2153 - val_accuracy: 0.5394\n",
            "Epoch 11/50\n",
            "240/240 [==============================] - 3s 12ms/step - loss: 1.2106 - accuracy: 0.5477 - val_loss: 1.2481 - val_accuracy: 0.5102\n",
            "Epoch 12/50\n",
            "240/240 [==============================] - 3s 13ms/step - loss: 1.1940 - accuracy: 0.5465 - val_loss: 1.2319 - val_accuracy: 0.5327\n",
            "Epoch 13/50\n",
            "240/240 [==============================] - 3s 13ms/step - loss: 1.1767 - accuracy: 0.5539 - val_loss: 1.2922 - val_accuracy: 0.5071\n",
            "\n",
            "Epoch 00013: ReduceLROnPlateau reducing learning rate to 0.0005000000237487257.\n",
            "Epoch 14/50\n",
            "240/240 [==============================] - 3s 12ms/step - loss: 1.1390 - accuracy: 0.5717 - val_loss: 1.1588 - val_accuracy: 0.5665\n",
            "Epoch 15/50\n",
            "240/240 [==============================] - 3s 12ms/step - loss: 1.1217 - accuracy: 0.5788 - val_loss: 1.1721 - val_accuracy: 0.5467\n",
            "Epoch 16/50\n",
            "240/240 [==============================] - 3s 12ms/step - loss: 1.1130 - accuracy: 0.5824 - val_loss: 1.1271 - val_accuracy: 0.5667\n",
            "Epoch 17/50\n",
            "240/240 [==============================] - 3s 12ms/step - loss: 1.1006 - accuracy: 0.5848 - val_loss: 1.1133 - val_accuracy: 0.5829\n",
            "Epoch 18/50\n",
            "240/240 [==============================] - 3s 12ms/step - loss: 1.0902 - accuracy: 0.5883 - val_loss: 1.0839 - val_accuracy: 0.5860\n",
            "Epoch 19/50\n",
            "240/240 [==============================] - 3s 12ms/step - loss: 1.0771 - accuracy: 0.5971 - val_loss: 1.1973 - val_accuracy: 0.5383\n",
            "Epoch 20/50\n",
            "240/240 [==============================] - 3s 12ms/step - loss: 1.0710 - accuracy: 0.5947 - val_loss: 1.1138 - val_accuracy: 0.5782\n",
            "Epoch 21/50\n",
            "240/240 [==============================] - 3s 12ms/step - loss: 1.0566 - accuracy: 0.5982 - val_loss: 1.0944 - val_accuracy: 0.5798\n",
            "\n",
            "Epoch 00021: ReduceLROnPlateau reducing learning rate to 0.0002500000118743628.\n",
            "Epoch 22/50\n",
            "240/240 [==============================] - 3s 12ms/step - loss: 1.0350 - accuracy: 0.6090 - val_loss: 1.0549 - val_accuracy: 0.6002\n",
            "Epoch 23/50\n",
            "240/240 [==============================] - 3s 12ms/step - loss: 1.0214 - accuracy: 0.6174 - val_loss: 1.0524 - val_accuracy: 0.6041\n",
            "Epoch 24/50\n",
            "240/240 [==============================] - 3s 12ms/step - loss: 1.0178 - accuracy: 0.6186 - val_loss: 1.0393 - val_accuracy: 0.6077\n",
            "Epoch 25/50\n",
            "240/240 [==============================] - 3s 12ms/step - loss: 1.0130 - accuracy: 0.6207 - val_loss: 1.0524 - val_accuracy: 0.5965\n",
            "Epoch 26/50\n",
            "240/240 [==============================] - 3s 12ms/step - loss: 1.0004 - accuracy: 0.6280 - val_loss: 1.0559 - val_accuracy: 0.6057\n",
            "Epoch 27/50\n",
            "240/240 [==============================] - 3s 12ms/step - loss: 0.9926 - accuracy: 0.6284 - val_loss: 1.0422 - val_accuracy: 0.6055\n",
            "\n",
            "Epoch 00027: ReduceLROnPlateau reducing learning rate to 0.0001250000059371814.\n",
            "Epoch 28/50\n",
            "240/240 [==============================] - 3s 12ms/step - loss: 0.9802 - accuracy: 0.6296 - val_loss: 1.0125 - val_accuracy: 0.6174\n",
            "Epoch 29/50\n",
            "240/240 [==============================] - 3s 12ms/step - loss: 0.9722 - accuracy: 0.6361 - val_loss: 1.0144 - val_accuracy: 0.6202\n",
            "Epoch 30/50\n",
            "240/240 [==============================] - 3s 12ms/step - loss: 0.9794 - accuracy: 0.6339 - val_loss: 0.9986 - val_accuracy: 0.6317\n",
            "Epoch 31/50\n",
            "240/240 [==============================] - 3s 12ms/step - loss: 0.9661 - accuracy: 0.6360 - val_loss: 1.0069 - val_accuracy: 0.6264\n",
            "Epoch 32/50\n",
            "240/240 [==============================] - 3s 12ms/step - loss: 0.9654 - accuracy: 0.6398 - val_loss: 1.0289 - val_accuracy: 0.6108\n",
            "Epoch 33/50\n",
            "240/240 [==============================] - 3s 12ms/step - loss: 0.9554 - accuracy: 0.6432 - val_loss: 1.0051 - val_accuracy: 0.6261\n",
            "\n",
            "Epoch 00033: ReduceLROnPlateau reducing learning rate to 6.25000029685907e-05.\n",
            "Epoch 34/50\n",
            "240/240 [==============================] - 3s 12ms/step - loss: 0.9497 - accuracy: 0.6463 - val_loss: 0.9992 - val_accuracy: 0.6266\n",
            "Epoch 35/50\n",
            "240/240 [==============================] - 3s 12ms/step - loss: 0.9522 - accuracy: 0.6448 - val_loss: 0.9974 - val_accuracy: 0.6286\n",
            "Epoch 36/50\n",
            "240/240 [==============================] - 3s 12ms/step - loss: 0.9455 - accuracy: 0.6447 - val_loss: 0.9922 - val_accuracy: 0.6317\n",
            "\n",
            "Epoch 00036: ReduceLROnPlateau reducing learning rate to 3.125000148429535e-05.\n",
            "Epoch 37/50\n",
            "240/240 [==============================] - 3s 12ms/step - loss: 0.9429 - accuracy: 0.6492 - val_loss: 0.9867 - val_accuracy: 0.6294\n",
            "Epoch 38/50\n",
            "240/240 [==============================] - 3s 12ms/step - loss: 0.9396 - accuracy: 0.6474 - val_loss: 0.9858 - val_accuracy: 0.6330\n",
            "Epoch 39/50\n",
            "240/240 [==============================] - 3s 12ms/step - loss: 0.9428 - accuracy: 0.6461 - val_loss: 0.9957 - val_accuracy: 0.6300\n",
            "Epoch 40/50\n",
            "240/240 [==============================] - 3s 12ms/step - loss: 0.9445 - accuracy: 0.6454 - val_loss: 0.9869 - val_accuracy: 0.6311\n",
            "Epoch 41/50\n",
            "240/240 [==============================] - 3s 12ms/step - loss: 0.9378 - accuracy: 0.6552 - val_loss: 0.9873 - val_accuracy: 0.6336\n",
            "Epoch 42/50\n",
            "240/240 [==============================] - 3s 12ms/step - loss: 0.9425 - accuracy: 0.6456 - val_loss: 0.9886 - val_accuracy: 0.6269\n",
            "Epoch 43/50\n",
            "240/240 [==============================] - 3s 12ms/step - loss: 0.9415 - accuracy: 0.6475 - val_loss: 0.9836 - val_accuracy: 0.6317\n",
            "Epoch 44/50\n",
            "240/240 [==============================] - 3s 12ms/step - loss: 0.9368 - accuracy: 0.6518 - val_loss: 0.9883 - val_accuracy: 0.6336\n",
            "\n",
            "Epoch 00044: ReduceLROnPlateau reducing learning rate to 1.5625000742147677e-05.\n",
            "Epoch 45/50\n",
            "240/240 [==============================] - 3s 12ms/step - loss: 0.9377 - accuracy: 0.6477 - val_loss: 0.9947 - val_accuracy: 0.6275\n",
            "Epoch 46/50\n",
            "240/240 [==============================] - 3s 12ms/step - loss: 0.9376 - accuracy: 0.6500 - val_loss: 0.9851 - val_accuracy: 0.6328\n",
            "Epoch 47/50\n",
            "240/240 [==============================] - 3s 12ms/step - loss: 0.9299 - accuracy: 0.6547 - val_loss: 0.9840 - val_accuracy: 0.6322\n",
            "\n",
            "Epoch 00047: ReduceLROnPlateau reducing learning rate to 1e-05.\n",
            "Epoch 48/50\n",
            "240/240 [==============================] - 3s 12ms/step - loss: 0.9335 - accuracy: 0.6532 - val_loss: 0.9874 - val_accuracy: 0.6303\n",
            "Epoch 49/50\n",
            "240/240 [==============================] - 3s 12ms/step - loss: 0.9279 - accuracy: 0.6503 - val_loss: 0.9861 - val_accuracy: 0.6311\n",
            "Epoch 50/50\n",
            "240/240 [==============================] - 3s 12ms/step - loss: 0.9300 - accuracy: 0.6522 - val_loss: 0.9880 - val_accuracy: 0.6283\n"
          ],
          "name": "stdout"
        }
      ]
    },
    {
      "cell_type": "code",
      "metadata": {
        "colab": {
          "base_uri": "https://localhost:8080/",
          "height": 590
        },
        "id": "nMxNrdRLuWiE",
        "outputId": "618b199b-b078-4f55-9f5f-b9ad9b4834a9"
      },
      "source": [
        "## Gathering model stats\n",
        "\n",
        "model_stats(train_4)"
      ],
      "execution_count": 50,
      "outputs": [
        {
          "output_type": "stream",
          "text": [
            "dict_keys(['loss', 'accuracy', 'val_loss', 'val_accuracy', 'lr'])\n"
          ],
          "name": "stdout"
        },
        {
          "output_type": "display_data",
          "data": {
            "image/png": "[encoded data removed]",
            "text/plain": [
              "<Figure size 432x288 with 1 Axes>"
            ]
          },
          "metadata": {
            "tags": [],
            "needs_background": "light"
          }
        },
        {
          "output_type": "display_data",
          "data": {
            "image/png": "[encoded data removed]",
            "text/plain": [
              "<Figure size 432x288 with 1 Axes>"
            ]
          },
          "metadata": {
            "tags": [],
            "needs_background": "light"
          }
        }
      ]
    },
    {
      "cell_type": "code",
      "metadata": {
        "colab": {
          "base_uri": "https://localhost:8080/"
        },
        "id": "rj-bLI1TuWiE",
        "outputId": "709aa022-d51d-441a-dbb8-013983bfa734"
      },
      "source": [
        "print(train_4.history)\n",
        "# Generate generalization metrics\n",
        "#score = train_3.evaluate(X_test, Y_test, verbose=2)\n",
        "#print(f'Test loss: {score[0]} / Test accuracy: {score[1]}')"
      ],
      "execution_count": 51,
      "outputs": [
        {
          "output_type": "stream",
          "text": [
            "{'loss': [1.9823213815689087, 1.6060872077941895, 1.4837570190429688, 1.4086774587631226, 1.359299659729004, 1.3242137432098389, 1.2960890531539917, 1.2620303630828857, 1.2436249256134033, 1.2306275367736816, 1.2106186151504517, 1.1939741373062134, 1.1767480373382568, 1.1390445232391357, 1.1217458248138428, 1.1129534244537354, 1.1006104946136475, 1.0901739597320557, 1.0771420001983643, 1.070983648300171, 1.0565986633300781, 1.0350241661071777, 1.0213971138000488, 1.0177578926086426, 1.0130268335342407, 1.0004494190216064, 0.9925719499588013, 0.980226993560791, 0.9721981287002563, 0.9794299006462097, 0.9660540819168091, 0.965387761592865, 0.9553511142730713, 0.9496517777442932, 0.9521544575691223, 0.9455365538597107, 0.9429386258125305, 0.9396011233329773, 0.9427633285522461, 0.9444910287857056, 0.9377685785293579, 0.9425249695777893, 0.9414798617362976, 0.9367511868476868, 0.9377236366271973, 0.9375606775283813, 0.9299391508102417, 0.9334774613380432, 0.9279475808143616, 0.9300194382667542], 'accuracy': [0.2749311923980713, 0.3845832347869873, 0.42819324135780334, 0.46389633417129517, 0.4808945059776306, 0.4966735243797302, 0.5078895092010498, 0.522797703742981, 0.5310181379318237, 0.5356508493423462, 0.5477376580238342, 0.5465185046195984, 0.5538681149482727, 0.5717371106147766, 0.5788428783416748, 0.5824306011199951, 0.5848340392112732, 0.5883172750473022, 0.5970950126647949, 0.5947263836860657, 0.5981748104095459, 0.6090076565742493, 0.6174370646476746, 0.6185516715049744, 0.6206764578819275, 0.6279911994934082, 0.6283743977546692, 0.6295934915542603, 0.6361419558525085, 0.6338778734207153, 0.6360026597976685, 0.6397993564605713, 0.6432129144668579, 0.6463478207588196, 0.64481520652771, 0.6447107195854187, 0.6491692662239075, 0.6474276185035706, 0.6460691690444946, 0.6454073786735535, 0.6552300453186035, 0.645616352558136, 0.6475321054458618, 0.6518164873123169, 0.6477411389350891, 0.6500052213668823, 0.6547076106071472, 0.6531749367713928, 0.6503187417984009, 0.6522344946861267], 'val_loss': [1.9406287670135498, 1.714152216911316, 1.4619008302688599, 1.4945530891418457, 1.3281922340393066, 1.4143481254577637, 1.25190007686615, 1.2410272359848022, 1.2647160291671753, 1.215312123298645, 1.2481201887130737, 1.231891393661499, 1.2921903133392334, 1.1588369607925415, 1.1720905303955078, 1.127050757408142, 1.113282322883606, 1.083915114402771, 1.1973246335983276, 1.1138112545013428, 1.094427466392517, 1.0549299716949463, 1.0523676872253418, 1.039254903793335, 1.0524438619613647, 1.0559495687484741, 1.0421773195266724, 1.0125399827957153, 1.0144306421279907, 0.9986484050750732, 1.0069469213485718, 1.028923749923706, 1.0050756931304932, 0.9991859197616577, 0.9974128603935242, 0.9922173619270325, 0.9866958260536194, 0.9858303666114807, 0.9957162737846375, 0.9868712425231934, 0.9872732162475586, 0.9885585904121399, 0.9836069345474243, 0.9883213043212891, 0.9946672916412354, 0.9851251840591431, 0.9839531779289246, 0.9874499440193176, 0.9860511422157288, 0.9879649877548218], 'val_accuracy': [0.2454722821712494, 0.303427129983902, 0.4444134831428528, 0.41209250688552856, 0.4901086688041687, 0.423237681388855, 0.5202006101608276, 0.5277236104011536, 0.49818891286849976, 0.5394260287284851, 0.5101699829101562, 0.5327389240264893, 0.5071050524711609, 0.5664530396461487, 0.5466703772544861, 0.5667316913604736, 0.5828921794891357, 0.5859571099281311, 0.5383114814758301, 0.5781554579734802, 0.5798272490501404, 0.6001671552658081, 0.6040679812431335, 0.607690155506134, 0.5965449810028076, 0.6057397723197937, 0.6054611206054688, 0.6174421906471252, 0.6202284693717957, 0.631652295589447, 0.6263583302497864, 0.6107550859451294, 0.6260796785354614, 0.6266369223594666, 0.6285873651504517, 0.631652295589447, 0.6294232606887817, 0.6330454349517822, 0.6299805045127869, 0.6310949921607971, 0.6336026787757874, 0.6269155740737915, 0.631652295589447, 0.6336026787757874, 0.6274728178977966, 0.6327667832374573, 0.6322095394134521, 0.630259096622467, 0.6310949921607971, 0.6283087134361267], 'lr': [0.001, 0.001, 0.001, 0.001, 0.001, 0.001, 0.001, 0.001, 0.001, 0.001, 0.001, 0.001, 0.001, 0.0005, 0.0005, 0.0005, 0.0005, 0.0005, 0.0005, 0.0005, 0.0005, 0.00025, 0.00025, 0.00025, 0.00025, 0.00025, 0.00025, 0.000125, 0.000125, 0.000125, 0.000125, 0.000125, 0.000125, 6.25e-05, 6.25e-05, 6.25e-05, 3.125e-05, 3.125e-05, 3.125e-05, 3.125e-05, 3.125e-05, 3.125e-05, 3.125e-05, 3.125e-05, 1.5625e-05, 1.5625e-05, 1.5625e-05, 1e-05, 1e-05, 1e-05]}\n"
          ],
          "name": "stdout"
        }
      ]
    },
    {
      "cell_type": "code",
      "metadata": {
        "colab": {
          "base_uri": "https://localhost:8080/"
        },
        "id": "DaPKrIQ1uWiE",
        "outputId": "8e1ab093-b0cc-4a4d-9f83-af5769296826"
      },
      "source": [
        "model_4.evaluate(X_test,Y_test, verbose=2)"
      ],
      "execution_count": 52,
      "outputs": [
        {
          "output_type": "stream",
          "text": [
            "113/113 - 0s - loss: 1.0249 - accuracy: 0.6174\n"
          ],
          "name": "stdout"
        },
        {
          "output_type": "execute_result",
          "data": {
            "text/plain": [
              "[1.024917483329773, 0.6174421906471252]"
            ]
          },
          "metadata": {
            "tags": []
          },
          "execution_count": 52
        }
      ]
    },
    {
      "cell_type": "markdown",
      "metadata": {
        "id": "igs4671v1bxw"
      },
      "source": [
        "#### Model_5"
      ]
    },
    {
      "cell_type": "code",
      "metadata": {
        "id": "mEU0b1zU1ZxP"
      },
      "source": [
        "## Adding Learning Rate and early stopping using callback function\n",
        "\n",
        "from keras.layers import  BatchNormalization\n",
        "from keras.callbacks import EarlyStopping, ReduceLROnPlateau\n",
        "earlystop = EarlyStopping(patience=10)\n",
        "\n",
        "learning_rate_reduction = ReduceLROnPlateau(monitor='val_accuracy', \n",
        "                                            patience=3, ## increasing the patience\n",
        "                                            verbose=2, \n",
        "                                            factor=0.5, \n",
        "                                            min_lr=0.00001)\n",
        "\n",
        "callbacks = [earlystop, learning_rate_reduction]"
      ],
      "execution_count": 53,
      "outputs": []
    },
    {
      "cell_type": "code",
      "metadata": {
        "colab": {
          "base_uri": "https://localhost:8080/"
        },
        "id": "2vSBRS4N1ZxP",
        "outputId": "219a2ee1-9088-458f-ea8e-c5fd2df8ef1c"
      },
      "source": [
        "\n",
        "model_5 = Sequential()\n",
        "\n",
        "#Layer 1\n",
        "model_5.add(Conv2D(64,(5,5),input_shape=input_shape)) \n",
        "model_5.add(BatchNormalization())\n",
        "model_5.add(MaxPooling2D(pool_size=(2,2)))\n",
        "model_5.add(Activation('relu'))\n",
        "model_5.add(Dropout(0.3))\n",
        "\n",
        "#Layer 2\n",
        "model_5.add(Conv2D(128,(5,5))) \n",
        "model_5.add(BatchNormalization())\n",
        "model_5.add(MaxPooling2D(pool_size=(2,2)))\n",
        "model_5.add(Activation('relu'))\n",
        "model_5.add(Dropout(0.3))\n",
        "\n",
        "\n",
        "#Layer 3\n",
        "model_5.add(Conv2D(256,(3,3))) \n",
        "model_5.add(BatchNormalization())\n",
        "model_5.add(MaxPooling2D(pool_size=(2,2)))\n",
        "model_5.add(Activation('relu'))\n",
        "model_5.add(Dropout(0.3))\n",
        "\n",
        "#Layer 4\n",
        "model_5.add(Flatten())\n",
        "model_5.add(Dense(128, activation='relu'))\n",
        "model_5.add(BatchNormalization())\n",
        "model_5.add(Dropout(0.25))\n",
        "model_5.add(Dense(7, activation='softmax')) \n",
        "\n",
        "\n",
        "model_5.summary()"
      ],
      "execution_count": 54,
      "outputs": [
        {
          "output_type": "stream",
          "text": [
            "Model: \"sequential_4\"\n",
            "_________________________________________________________________\n",
            "Layer (type)                 Output Shape              Param #   \n",
            "=================================================================\n",
            "conv2d_12 (Conv2D)           (None, 44, 44, 64)        1664      \n",
            "_________________________________________________________________\n",
            "module_wrapper_16 (ModuleWra (None, 44, 44, 64)        256       \n",
            "_________________________________________________________________\n",
            "max_pooling2d_12 (MaxPooling (None, 22, 22, 64)        0         \n",
            "_________________________________________________________________\n",
            "activation_12 (Activation)   (None, 22, 22, 64)        0         \n",
            "_________________________________________________________________\n",
            "dropout_13 (Dropout)         (None, 22, 22, 64)        0         \n",
            "_________________________________________________________________\n",
            "conv2d_13 (Conv2D)           (None, 18, 18, 128)       204928    \n",
            "_________________________________________________________________\n",
            "module_wrapper_17 (ModuleWra (None, 18, 18, 128)       512       \n",
            "_________________________________________________________________\n",
            "max_pooling2d_13 (MaxPooling (None, 9, 9, 128)         0         \n",
            "_________________________________________________________________\n",
            "activation_13 (Activation)   (None, 9, 9, 128)         0         \n",
            "_________________________________________________________________\n",
            "dropout_14 (Dropout)         (None, 9, 9, 128)         0         \n",
            "_________________________________________________________________\n",
            "conv2d_14 (Conv2D)           (None, 7, 7, 256)         295168    \n",
            "_________________________________________________________________\n",
            "module_wrapper_18 (ModuleWra (None, 7, 7, 256)         1024      \n",
            "_________________________________________________________________\n",
            "max_pooling2d_14 (MaxPooling (None, 3, 3, 256)         0         \n",
            "_________________________________________________________________\n",
            "activation_14 (Activation)   (None, 3, 3, 256)         0         \n",
            "_________________________________________________________________\n",
            "dropout_15 (Dropout)         (None, 3, 3, 256)         0         \n",
            "_________________________________________________________________\n",
            "flatten_4 (Flatten)          (None, 2304)              0         \n",
            "_________________________________________________________________\n",
            "dense_8 (Dense)              (None, 128)               295040    \n",
            "_________________________________________________________________\n",
            "module_wrapper_19 (ModuleWra (None, 128)               512       \n",
            "_________________________________________________________________\n",
            "dropout_16 (Dropout)         (None, 128)               0         \n",
            "_________________________________________________________________\n",
            "dense_9 (Dense)              (None, 7)                 903       \n",
            "=================================================================\n",
            "Total params: 800,007\n",
            "Trainable params: 798,855\n",
            "Non-trainable params: 1,152\n",
            "_________________________________________________________________\n"
          ],
          "name": "stdout"
        }
      ]
    },
    {
      "cell_type": "code",
      "metadata": {
        "id": "lyy5b7p-1ZxQ"
      },
      "source": [
        "model_5.compile(optimizer='rmsprop',\n",
        "              loss='categorical_crossentropy',\n",
        "              metrics=['accuracy'])"
      ],
      "execution_count": 55,
      "outputs": []
    },
    {
      "cell_type": "code",
      "metadata": {
        "colab": {
          "base_uri": "https://localhost:8080/"
        },
        "id": "gjaWa42U1ZxQ",
        "outputId": "42d64278-2dc2-41aa-d660-f7db7339b8aa"
      },
      "source": [
        "## Traning model with callbacks\n",
        "train_5 = model_5.fit( X_train,Y_train, batch_size = 120, epochs = 50, validation_data=(X_val, Y_val), callbacks= callbacks)"
      ],
      "execution_count": 56,
      "outputs": [
        {
          "output_type": "stream",
          "text": [
            "Epoch 1/50\n",
            "240/240 [==============================] - 4s 13ms/step - loss: 1.7970 - accuracy: 0.3368 - val_loss: 1.9597 - val_accuracy: 0.2502\n",
            "Epoch 2/50\n",
            "240/240 [==============================] - 3s 13ms/step - loss: 1.4668 - accuracy: 0.4460 - val_loss: 1.7643 - val_accuracy: 0.3174\n",
            "Epoch 3/50\n",
            "240/240 [==============================] - 3s 13ms/step - loss: 1.3458 - accuracy: 0.4898 - val_loss: 1.4238 - val_accuracy: 0.4296\n",
            "Epoch 4/50\n",
            "240/240 [==============================] - 3s 13ms/step - loss: 1.2787 - accuracy: 0.5138 - val_loss: 1.4594 - val_accuracy: 0.4079\n",
            "Epoch 5/50\n",
            "240/240 [==============================] - 3s 13ms/step - loss: 1.2339 - accuracy: 0.5296 - val_loss: 1.6042 - val_accuracy: 0.3344\n",
            "Epoch 6/50\n",
            "240/240 [==============================] - 3s 13ms/step - loss: 1.1983 - accuracy: 0.5462 - val_loss: 1.3588 - val_accuracy: 0.4935\n",
            "Epoch 7/50\n",
            "240/240 [==============================] - 3s 13ms/step - loss: 1.1681 - accuracy: 0.5600 - val_loss: 1.4431 - val_accuracy: 0.4221\n",
            "Epoch 8/50\n",
            "240/240 [==============================] - 3s 13ms/step - loss: 1.1386 - accuracy: 0.5706 - val_loss: 1.5750 - val_accuracy: 0.3525\n",
            "Epoch 9/50\n",
            "240/240 [==============================] - 3s 13ms/step - loss: 1.1130 - accuracy: 0.5790 - val_loss: 1.3233 - val_accuracy: 0.5088\n",
            "Epoch 10/50\n",
            "240/240 [==============================] - 3s 13ms/step - loss: 1.0834 - accuracy: 0.5928 - val_loss: 1.3782 - val_accuracy: 0.4817\n",
            "Epoch 11/50\n",
            "240/240 [==============================] - 3s 13ms/step - loss: 1.0650 - accuracy: 0.6019 - val_loss: 1.4037 - val_accuracy: 0.4419\n",
            "Epoch 12/50\n",
            "240/240 [==============================] - 3s 13ms/step - loss: 1.0469 - accuracy: 0.6041 - val_loss: 1.3317 - val_accuracy: 0.4982\n",
            "\n",
            "Epoch 00012: ReduceLROnPlateau reducing learning rate to 0.0005000000237487257.\n",
            "Epoch 13/50\n",
            "240/240 [==============================] - 3s 13ms/step - loss: 0.9887 - accuracy: 0.6309 - val_loss: 1.2251 - val_accuracy: 0.5394\n",
            "Epoch 14/50\n",
            "240/240 [==============================] - 3s 13ms/step - loss: 0.9654 - accuracy: 0.6393 - val_loss: 1.1171 - val_accuracy: 0.5840\n",
            "Epoch 15/50\n",
            "240/240 [==============================] - 3s 13ms/step - loss: 0.9444 - accuracy: 0.6416 - val_loss: 1.0910 - val_accuracy: 0.5929\n",
            "Epoch 16/50\n",
            "240/240 [==============================] - 3s 13ms/step - loss: 0.9338 - accuracy: 0.6522 - val_loss: 1.1422 - val_accuracy: 0.5676\n",
            "Epoch 17/50\n",
            "240/240 [==============================] - 3s 13ms/step - loss: 0.9226 - accuracy: 0.6528 - val_loss: 1.3057 - val_accuracy: 0.5127\n",
            "Epoch 18/50\n",
            "240/240 [==============================] - 3s 13ms/step - loss: 0.9047 - accuracy: 0.6606 - val_loss: 1.0960 - val_accuracy: 0.5929\n",
            "\n",
            "Epoch 00018: ReduceLROnPlateau reducing learning rate to 0.0002500000118743628.\n",
            "Epoch 19/50\n",
            "240/240 [==============================] - 3s 13ms/step - loss: 0.8660 - accuracy: 0.6779 - val_loss: 1.0658 - val_accuracy: 0.6007\n",
            "Epoch 20/50\n",
            "240/240 [==============================] - 3s 13ms/step - loss: 0.8605 - accuracy: 0.6809 - val_loss: 1.1187 - val_accuracy: 0.5851\n",
            "Epoch 21/50\n",
            "240/240 [==============================] - 3s 13ms/step - loss: 0.8522 - accuracy: 0.6801 - val_loss: 1.0568 - val_accuracy: 0.6144\n",
            "Epoch 22/50\n",
            "240/240 [==============================] - 3s 13ms/step - loss: 0.8398 - accuracy: 0.6888 - val_loss: 1.1252 - val_accuracy: 0.5801\n",
            "Epoch 23/50\n",
            "240/240 [==============================] - 3s 13ms/step - loss: 0.8340 - accuracy: 0.6888 - val_loss: 1.0492 - val_accuracy: 0.6124\n",
            "Epoch 24/50\n",
            "240/240 [==============================] - 3s 13ms/step - loss: 0.8259 - accuracy: 0.6935 - val_loss: 1.1139 - val_accuracy: 0.5879\n",
            "\n",
            "Epoch 00024: ReduceLROnPlateau reducing learning rate to 0.0001250000059371814.\n",
            "Epoch 25/50\n",
            "240/240 [==============================] - 3s 13ms/step - loss: 0.8067 - accuracy: 0.7005 - val_loss: 1.0136 - val_accuracy: 0.6275\n",
            "Epoch 26/50\n",
            "240/240 [==============================] - 3s 13ms/step - loss: 0.8022 - accuracy: 0.6982 - val_loss: 1.0279 - val_accuracy: 0.6227\n",
            "Epoch 27/50\n",
            "240/240 [==============================] - 3s 13ms/step - loss: 0.7998 - accuracy: 0.7017 - val_loss: 1.0434 - val_accuracy: 0.6191\n",
            "Epoch 28/50\n",
            "240/240 [==============================] - 3s 13ms/step - loss: 0.7900 - accuracy: 0.7080 - val_loss: 1.0554 - val_accuracy: 0.6197\n",
            "\n",
            "Epoch 00028: ReduceLROnPlateau reducing learning rate to 6.25000029685907e-05.\n",
            "Epoch 29/50\n",
            "240/240 [==============================] - 3s 13ms/step - loss: 0.7810 - accuracy: 0.7072 - val_loss: 1.0042 - val_accuracy: 0.6353\n",
            "Epoch 30/50\n",
            "240/240 [==============================] - 3s 13ms/step - loss: 0.7768 - accuracy: 0.7082 - val_loss: 1.0007 - val_accuracy: 0.6353\n",
            "Epoch 31/50\n",
            "240/240 [==============================] - 3s 13ms/step - loss: 0.7754 - accuracy: 0.7101 - val_loss: 0.9984 - val_accuracy: 0.6397\n",
            "Epoch 32/50\n",
            "240/240 [==============================] - 3s 13ms/step - loss: 0.7757 - accuracy: 0.7126 - val_loss: 1.0185 - val_accuracy: 0.6358\n",
            "Epoch 33/50\n",
            "240/240 [==============================] - 3s 13ms/step - loss: 0.7694 - accuracy: 0.7152 - val_loss: 1.0071 - val_accuracy: 0.6333\n",
            "Epoch 34/50\n",
            "240/240 [==============================] - 3s 13ms/step - loss: 0.7715 - accuracy: 0.7150 - val_loss: 1.0065 - val_accuracy: 0.6425\n",
            "Epoch 35/50\n",
            "240/240 [==============================] - 3s 13ms/step - loss: 0.7688 - accuracy: 0.7128 - val_loss: 1.0038 - val_accuracy: 0.6420\n",
            "Epoch 36/50\n",
            "240/240 [==============================] - 3s 13ms/step - loss: 0.7651 - accuracy: 0.7157 - val_loss: 1.0048 - val_accuracy: 0.6425\n",
            "Epoch 37/50\n",
            "240/240 [==============================] - 3s 13ms/step - loss: 0.7623 - accuracy: 0.7194 - val_loss: 1.0228 - val_accuracy: 0.6333\n",
            "\n",
            "Epoch 00037: ReduceLROnPlateau reducing learning rate to 3.125000148429535e-05.\n",
            "Epoch 38/50\n",
            "240/240 [==============================] - 3s 13ms/step - loss: 0.7518 - accuracy: 0.7194 - val_loss: 1.0011 - val_accuracy: 0.6439\n",
            "Epoch 39/50\n",
            "240/240 [==============================] - 3s 13ms/step - loss: 0.7535 - accuracy: 0.7203 - val_loss: 1.0025 - val_accuracy: 0.6442\n",
            "Epoch 40/50\n",
            "240/240 [==============================] - 3s 13ms/step - loss: 0.7558 - accuracy: 0.7186 - val_loss: 1.0027 - val_accuracy: 0.6417\n",
            "Epoch 41/50\n",
            "240/240 [==============================] - 3s 13ms/step - loss: 0.7532 - accuracy: 0.7191 - val_loss: 1.0007 - val_accuracy: 0.6456\n"
          ],
          "name": "stdout"
        }
      ]
    },
    {
      "cell_type": "code",
      "metadata": {
        "colab": {
          "base_uri": "https://localhost:8080/",
          "height": 0
        },
        "id": "NvyjaZ_n1ZxR",
        "outputId": "f746ce5f-6536-458a-8dbb-354992a5ad53"
      },
      "source": [
        "## Gathering model stats\n",
        "\n",
        "model_stats(train_5)"
      ],
      "execution_count": 57,
      "outputs": [
        {
          "output_type": "stream",
          "text": [
            "dict_keys(['loss', 'accuracy', 'val_loss', 'val_accuracy', 'lr'])\n"
          ],
          "name": "stdout"
        },
        {
          "output_type": "display_data",
          "data": {
            "image/png": "[encoded data removed]",
            "text/plain": [
              "<Figure size 432x288 with 1 Axes>"
            ]
          },
          "metadata": {
            "tags": [],
            "needs_background": "light"
          }
        },
        {
          "output_type": "display_data",
          "data": {
            "image/png": "[encoded data removed]",
            "text/plain": [
              "<Figure size 432x288 with 1 Axes>"
            ]
          },
          "metadata": {
            "tags": [],
            "needs_background": "light"
          }
        }
      ]
    },
    {
      "cell_type": "code",
      "metadata": {
        "colab": {
          "base_uri": "https://localhost:8080/"
        },
        "id": "CnFvsNBG1ZxR",
        "outputId": "4098fc38-0dce-4a97-ea68-7254fa976751"
      },
      "source": [
        "print(train_5.history)\n",
        "# Generate generalization metrics\n",
        "#score = train_3.evaluate(X_test, Y_test, verbose=2)\n",
        "#print(f'Test loss: {score[0]} / Test accuracy: {score[1]}')"
      ],
      "execution_count": 58,
      "outputs": [
        {
          "output_type": "stream",
          "text": [
            "{'loss': [1.797027349472046, 1.4667586088180542, 1.3458319902420044, 1.2787013053894043, 1.2339415550231934, 1.1982531547546387, 1.168144941329956, 1.1386357545852661, 1.1130406856536865, 1.0833951234817505, 1.0649654865264893, 1.046927809715271, 0.9886670112609863, 0.9653760194778442, 0.9444183707237244, 0.9338008165359497, 0.9226469397544861, 0.9046957492828369, 0.8659701347351074, 0.8605109453201294, 0.8522059321403503, 0.8397637009620667, 0.8339751362800598, 0.8258556127548218, 0.8067203760147095, 0.8022400736808777, 0.7997646927833557, 0.789982795715332, 0.780964195728302, 0.7767871022224426, 0.7753549218177795, 0.7757443785667419, 0.7693511247634888, 0.7715111374855042, 0.7687646150588989, 0.7650877237319946, 0.7622829079627991, 0.7517995238304138, 0.7535387277603149, 0.7557884454727173, 0.7532098293304443], 'accuracy': [0.33679333329200745, 0.4459925591945648, 0.4898463785648346, 0.5138109922409058, 0.5295552015304565, 0.546170175075531, 0.559998631477356, 0.5705876350402832, 0.5790170431137085, 0.5927757620811462, 0.6019018292427063, 0.6040962934494019, 0.6309171319007874, 0.6393117308616638, 0.641575813293457, 0.6522344946861267, 0.6527569890022278, 0.6605594158172607, 0.6779407262802124, 0.6809362769126892, 0.6800655126571655, 0.6887735724449158, 0.6888083815574646, 0.6935107707977295, 0.7004771828651428, 0.6982479095458984, 0.7016615271568298, 0.7080358266830444, 0.7071998119354248, 0.7082099914550781, 0.7100909352302551, 0.7125988602638245, 0.7152460813522339, 0.7150022387504578, 0.712807834148407, 0.7156988978385925, 0.7193562984466553, 0.7194259762763977, 0.720331609249115, 0.7185899615287781, 0.7190776467323303], 'val_loss': [1.959702968597412, 1.7643295526504517, 1.4237700700759888, 1.4593620300292969, 1.6042370796203613, 1.3588290214538574, 1.4431215524673462, 1.5750255584716797, 1.323293924331665, 1.3781769275665283, 1.4037419557571411, 1.3317220211029053, 1.2250890731811523, 1.1170893907546997, 1.0909565687179565, 1.1421877145767212, 1.3057327270507812, 1.0959537029266357, 1.0658268928527832, 1.1187430620193481, 1.0568326711654663, 1.1251808404922485, 1.049224615097046, 1.113912582397461, 1.0136133432388306, 1.0278611183166504, 1.0434033870697021, 1.0553710460662842, 1.0041923522949219, 1.0007390975952148, 0.99839848279953, 1.0184569358825684, 1.0070922374725342, 1.0065362453460693, 1.0037660598754883, 1.0048342943191528, 1.022841215133667, 1.0010602474212646, 1.0025345087051392, 1.0026613473892212, 1.0007184743881226], 'val_accuracy': [0.2502089738845825, 0.3173585832118988, 0.4296461343765259, 0.40791305899620056, 0.334354966878891, 0.4934522211551666, 0.42212316393852234, 0.3524658679962158, 0.508776843547821, 0.4817498028278351, 0.44190582633018494, 0.49818891286849976, 0.5394260287284851, 0.584006667137146, 0.5929228067398071, 0.5675675868988037, 0.5126776099205017, 0.5929228067398071, 0.600724458694458, 0.585121214389801, 0.6143772602081299, 0.5801059007644653, 0.6124268770217896, 0.5879074931144714, 0.6274728178977966, 0.6227361559867859, 0.6191139817237854, 0.6196712255477905, 0.6352744698524475, 0.6352744698524475, 0.6397325396537781, 0.6358317136764526, 0.6333240270614624, 0.6425188183784485, 0.6419615745544434, 0.6425188183784485, 0.6333240270614624, 0.6439119577407837, 0.6441906094551086, 0.6416829228401184, 0.6455837488174438], 'lr': [0.001, 0.001, 0.001, 0.001, 0.001, 0.001, 0.001, 0.001, 0.001, 0.001, 0.001, 0.001, 0.0005, 0.0005, 0.0005, 0.0005, 0.0005, 0.0005, 0.00025, 0.00025, 0.00025, 0.00025, 0.00025, 0.00025, 0.000125, 0.000125, 0.000125, 0.000125, 6.25e-05, 6.25e-05, 6.25e-05, 6.25e-05, 6.25e-05, 6.25e-05, 6.25e-05, 6.25e-05, 6.25e-05, 3.125e-05, 3.125e-05, 3.125e-05, 3.125e-05]}\n"
          ],
          "name": "stdout"
        }
      ]
    },
    {
      "cell_type": "code",
      "metadata": {
        "colab": {
          "base_uri": "https://localhost:8080/"
        },
        "id": "89msAUGN1ZxR",
        "outputId": "9abf8391-f0a6-45f3-8b64-044c2c2a5bc6"
      },
      "source": [
        "model_5.evaluate(X_test,Y_test, verbose=2)"
      ],
      "execution_count": 59,
      "outputs": [
        {
          "output_type": "stream",
          "text": [
            "113/113 - 0s - loss: 1.0387 - accuracy: 0.6264\n"
          ],
          "name": "stdout"
        },
        {
          "output_type": "execute_result",
          "data": {
            "text/plain": [
              "[1.0386568307876587, 0.6263583302497864]"
            ]
          },
          "metadata": {
            "tags": []
          },
          "execution_count": 59
        }
      ]
    },
    {
      "cell_type": "code",
      "metadata": {
        "id": "3qTDce6F1-Y6"
      },
      "source": [
        ""
      ],
      "execution_count": 59,
      "outputs": []
    },
    {
      "cell_type": "markdown",
      "metadata": {
        "id": "G5u6kyMMAPzS"
      },
      "source": [
        "### Model Stats"
      ]
    },
    {
      "cell_type": "code",
      "metadata": {
        "colab": {
          "base_uri": "https://localhost:8080/",
          "height": 1000
        },
        "id": "KeuHSks_ARuq",
        "outputId": "94f0d2d8-5989-4fbd-e755-e8744b41516d"
      },
      "source": [
        "for i in range(1,6):\n",
        "  print(\" For MODEL \" + str(i))\n",
        "  mod = \"model_\"+str(i)+\".evaluate(X_test,Y_test, verbose=2)\"\n",
        "  stat = \"model_stats(train_\"+str(i)+\")\"\n",
        "\n",
        "  exec(mod)\n",
        "  exec(stat)\n",
        "\n",
        "  print(\"-----------------------------------------------------------------------------\")\n",
        "  "
      ],
      "execution_count": 60,
      "outputs": [
        {
          "output_type": "stream",
          "text": [
            " For MODEL 1\n",
            "113/113 - 0s - loss: 2.2766 - accuracy: 0.5302\n",
            "dict_keys(['loss', 'accuracy', 'val_loss', 'val_accuracy'])\n"
          ],
          "name": "stdout"
        },
        {
          "output_type": "display_data",
          "data": {
            "image/png": "[encoded data removed]",
            "text/plain": [
              "<Figure size 432x288 with 1 Axes>"
            ]
          },
          "metadata": {
            "tags": [],
            "needs_background": "light"
          }
        },
        {
          "output_type": "display_data",
          "data": {
            "image/png": "[encoded data removed]",
            "text/plain": [
              "<Figure size 432x288 with 1 Axes>"
            ]
          },
          "metadata": {
            "tags": [],
            "needs_background": "light"
          }
        },
        {
          "output_type": "stream",
          "text": [
            "-----------------------------------------------------------------------------\n",
            " For MODEL 2\n",
            "113/113 - 0s - loss: 1.5013 - accuracy: 0.5085\n",
            "dict_keys(['loss', 'accuracy', 'val_loss', 'val_accuracy'])\n"
          ],
          "name": "stdout"
        },
        {
          "output_type": "display_data",
          "data": {
            "image/png": "[encoded data removed]",
            "text/plain": [
              "<Figure size 432x288 with 1 Axes>"
            ]
          },
          "metadata": {
            "tags": [],
            "needs_background": "light"
          }
        },
        {
          "output_type": "display_data",
          "data": {
            "image/png": "[encoded data removed]",
            "text/plain": [
              "<Figure size 432x288 with 1 Axes>"
            ]
          },
          "metadata": {
            "tags": [],
            "needs_background": "light"
          }
        },
        {
          "output_type": "stream",
          "text": [
            "-----------------------------------------------------------------------------\n",
            " For MODEL 3\n",
            "113/113 - 0s - loss: 1.0687 - accuracy: 0.6010\n",
            "dict_keys(['loss', 'accuracy', 'val_loss', 'val_accuracy', 'lr'])\n"
          ],
          "name": "stdout"
        },
        {
          "output_type": "display_data",
          "data": {
            "image/png": "[encoded data removed]",
            "text/plain": [
              "<Figure size 432x288 with 1 Axes>"
            ]
          },
          "metadata": {
            "tags": [],
            "needs_background": "light"
          }
        },
        {
          "output_type": "display_data",
          "data": {
            "image/png": "[encoded data removed]",
            "text/plain": [
              "<Figure size 432x288 with 1 Axes>"
            ]
          },
          "metadata": {
            "tags": [],
            "needs_background": "light"
          }
        },
        {
          "output_type": "stream",
          "text": [
            "-----------------------------------------------------------------------------\n",
            " For MODEL 4\n",
            "113/113 - 0s - loss: 1.0249 - accuracy: 0.6174\n",
            "dict_keys(['loss', 'accuracy', 'val_loss', 'val_accuracy', 'lr'])\n"
          ],
          "name": "stdout"
        },
        {
          "output_type": "display_data",
          "data": {
            "image/png": "[encoded data removed]",
            "text/plain": [
              "<Figure size 432x288 with 1 Axes>"
            ]
          },
          "metadata": {
            "tags": [],
            "needs_background": "light"
          }
        },
        {
          "output_type": "display_data",
          "data": {
            "image/png": "[encoded data removed]",
            "text/plain": [
              "<Figure size 432x288 with 1 Axes>"
            ]
          },
          "metadata": {
            "tags": [],
            "needs_background": "light"
          }
        },
        {
          "output_type": "stream",
          "text": [
            "-----------------------------------------------------------------------------\n",
            " For MODEL 5\n",
            "113/113 - 0s - loss: 1.0387 - accuracy: 0.6264\n",
            "dict_keys(['loss', 'accuracy', 'val_loss', 'val_accuracy', 'lr'])\n"
          ],
          "name": "stdout"
        },
        {
          "output_type": "display_data",
          "data": {
            "image/png": "[encoded data removed]",
            "text/plain": [
              "<Figure size 432x288 with 1 Axes>"
            ]
          },
          "metadata": {
            "tags": [],
            "needs_background": "light"
          }
        },
        {
          "output_type": "display_data",
          "data": {
            "image/png": "[encoded data removed]",
            "text/plain": [
              "<Figure size 432x288 with 1 Axes>"
            ]
          },
          "metadata": {
            "tags": [],
            "needs_background": "light"
          }
        },
        {
          "output_type": "stream",
          "text": [
            "-----------------------------------------------------------------------------\n"
          ],
          "name": "stdout"
        }
      ]
    },
    {
      "cell_type": "markdown",
      "metadata": {
        "id": "O2VE3y2jy_1P"
      },
      "source": [
        "Model 4 is the best model out of all. Although the data was skewed with more data to train for Happy faces the model performed well with minimum loss to validation loss and good accuracy out of all.\n",
        "\n",
        "The model parameters are as below and it's trained with learning rate of 0.00001 and patience = 3\n",
        "\n",
        "\n",
        "\n",
        "Model: \"sequential_3\"\n",
        "_________________________________________________________________\n",
        "Layer (type)                 Output Shape              Param #   \n",
        "_________________________________________________________________\n",
        "conv2d_9 (Conv2D)            (None, 44, 44, 64)        1664      \n",
        "_________________________________________________________________\n",
        "module_wrapper_12 (ModuleWra (None, 44, 44, 64)        256       \n",
        "_________________________________________________________________\n",
        "max_pooling2d_9 (MaxPooling2 (None, 22, 22, 64)        0         \n",
        "_________________________________________________________________\n",
        "activation_9 (Activation)    (None, 22, 22, 64)        0         \n",
        "_________________________________________________________________\n",
        "dropout_9 (Dropout)          (None, 22, 22, 64)        0         \n",
        "_________________________________________________________________\n",
        "conv2d_10 (Conv2D)           (None, 18, 18, 128)       204928    \n",
        "_________________________________________________________________\n",
        "module_wrapper_13 (ModuleWra (None, 18, 18, 128)       512       \n",
        "_________________________________________________________________\n",
        "max_pooling2d_10 (MaxPooling (None, 9, 9, 128)         0         \n",
        "_________________________________________________________________\n",
        "activation_10 (Activation)   (None, 9, 9, 128)         0         \n",
        "_________________________________________________________________\n",
        "dropout_10 (Dropout)         (None, 9, 9, 128)         0         \n",
        "_________________________________________________________________\n",
        "conv2d_11 (Conv2D)           (None, 7, 7, 256)         295168    \n",
        "_________________________________________________________________\n",
        "module_wrapper_14 (ModuleWra (None, 7, 7, 256)         1024      \n",
        "_________________________________________________________________\n",
        "max_pooling2d_11 (MaxPooling (None, 3, 3, 256)         0         \n",
        "_________________________________________________________________\n",
        "activation_11 (Activation)   (None, 3, 3, 256)         0         \n",
        "_________________________________________________________________\n",
        "dropout_11 (Dropout)         (None, 3, 3, 256)         0         \n",
        "_________________________________________________________________\n",
        "flatten_3 (Flatten)          (None, 2304)              0         \n",
        "_________________________________________________________________\n",
        "dense_6 (Dense)              (None, 128)               295040    \n",
        "_________________________________________________________________\n",
        "module_wrapper_15 (ModuleWra (None, 128)               512       \n",
        "_________________________________________________________________\n",
        "dropout_12 (Dropout)         (None, 128)               0         \n",
        "_________________________________________________________________\n",
        "dense_7 (Dense)              (None, 7)                 903       \n",
        "\n",
        "Total params: 800,007\n",
        "\n",
        "Trainable params: 798,855\n",
        "\n",
        "Non-trainable params: 1,152\n",
        "_________________________________________________________________"
      ]
    },
    {
      "cell_type": "code",
      "metadata": {
        "id": "zbxUP4Ejz7VG"
      },
      "source": [
        ""
      ],
      "execution_count": null,
      "outputs": []
    }
  ]
}