{
 "cells": [
  {
   "cell_type": "markdown",
   "metadata": {
    "id": "h8X4rSDvWIo3"
   },
   "source": [
    "# Emotion Detection using Tensorflow "
   ]
  },
  {
   "cell_type": "markdown",
   "metadata": {
    "id": "OJMz5Cu_WOW7"
   },
   "source": [
    "## Impoting the Libraries"
   ]
  },
  {
   "cell_type": "code",
   "execution_count": 1,
   "metadata": {
    "id": "J5lUYS6BWQWu"
   },
   "outputs": [],
   "source": [
    "import tensorflow as tf\n",
    "from tensorflow.keras.preprocessing.image import ImageDataGenerator \n",
    "from tensorflow.keras.models import Sequential, load_model\n",
    "from tensorflow.keras.layers import Dense, Conv2D, Flatten, Dropout, MaxPooling2D, AveragePooling2D, Activation, BatchNormalization\n",
    "from tensorflow.keras.preprocessing import image\n",
    "from tensorflow.keras.metrics import categorical_accuracy\n",
    "from tensorflow.keras.optimizers import *\n",
    "import matplotlib.pyplot as plt\n",
    "import numpy as np\n",
    "import pandas as pd"
   ]
  },
  {
   "cell_type": "markdown",
   "metadata": {
    "id": "rt_9ih0TWiWe"
   },
   "source": [
    "## Loading the Dataset"
   ]
  },
  {
   "cell_type": "code",
   "execution_count": 2,
   "metadata": {
    "colab": {
     "base_uri": "https://localhost:8080/"
    },
    "id": "_NxqO2-TWkGq",
    "outputId": "bdd59f26-5c80-450f-9751-8cdb9adc8157"
   },
   "outputs": [
    {
     "name": "stdout",
     "output_type": "stream",
     "text": [
      "Drive already mounted at /content/drive; to attempt to forcibly remount, call drive.mount(\"/content/drive\", force_remount=True).\n"
     ]
    }
   ],
   "source": [
    "from google.colab import drive\n",
    "drive.mount('/content/drive')"
   ]
  },
  {
   "cell_type": "code",
   "execution_count": 3,
   "metadata": {
    "colab": {
     "base_uri": "https://localhost:8080/"
    },
    "id": "v7kpnBo6W06H",
    "outputId": "e393bfe1-5e5f-4ceb-9fc9-8b1c50d0bfa8"
   },
   "outputs": [
    {
     "name": "stdout",
     "output_type": "stream",
     "text": [
      "fer.csv\n"
     ]
    }
   ],
   "source": [
    "!ls \"/content/drive/My Drive/Dataset\""
   ]
  },
  {
   "cell_type": "code",
   "execution_count": 4,
   "metadata": {
    "id": "e3nm0T4rW98k"
   },
   "outputs": [],
   "source": [
    "file_path = \"/content/drive/My Drive/Dataset/fer.csv\"\n",
    "df_face = pd.read_csv(file_path)"
   ]
  },
  {
   "cell_type": "code",
   "execution_count": 5,
   "metadata": {
    "colab": {
     "base_uri": "https://localhost:8080/",
     "height": 204
    },
    "id": "KGmq23grXAdr",
    "outputId": "126ecce1-ecd9-4196-b397-430a63528e5a"
   },
   "outputs": [
    {
     "data": {
      "text/html": [
       "<div>\n",
       "<style scoped>\n",
       "    .dataframe tbody tr th:only-of-type {\n",
       "        vertical-align: middle;\n",
       "    }\n",
       "\n",
       "    .dataframe tbody tr th {\n",
       "        vertical-align: top;\n",
       "    }\n",
       "\n",
       "    .dataframe thead th {\n",
       "        text-align: right;\n",
       "    }\n",
       "</style>\n",
       "<table border=\"1\" class=\"dataframe\">\n",
       "  <thead>\n",
       "    <tr style=\"text-align: right;\">\n",
       "      <th></th>\n",
       "      <th>emotion</th>\n",
       "      <th>pixels</th>\n",
       "      <th>Usage</th>\n",
       "    </tr>\n",
       "  </thead>\n",
       "  <tbody>\n",
       "    <tr>\n",
       "      <th>0</th>\n",
       "      <td>0</td>\n",
       "      <td>70 80 82 72 58 58 60 63 54 58 60 48 89 115 121...</td>\n",
       "      <td>Training</td>\n",
       "    </tr>\n",
       "    <tr>\n",
       "      <th>1</th>\n",
       "      <td>0</td>\n",
       "      <td>151 150 147 155 148 133 111 140 170 174 182 15...</td>\n",
       "      <td>Training</td>\n",
       "    </tr>\n",
       "    <tr>\n",
       "      <th>2</th>\n",
       "      <td>2</td>\n",
       "      <td>231 212 156 164 174 138 161 173 182 200 106 38...</td>\n",
       "      <td>Training</td>\n",
       "    </tr>\n",
       "    <tr>\n",
       "      <th>3</th>\n",
       "      <td>4</td>\n",
       "      <td>24 32 36 30 32 23 19 20 30 41 21 22 32 34 21 1...</td>\n",
       "      <td>Training</td>\n",
       "    </tr>\n",
       "    <tr>\n",
       "      <th>4</th>\n",
       "      <td>6</td>\n",
       "      <td>4 0 0 0 0 0 0 0 0 0 0 0 3 15 23 28 48 50 58 84...</td>\n",
       "      <td>Training</td>\n",
       "    </tr>\n",
       "  </tbody>\n",
       "</table>\n",
       "</div>"
      ],
      "text/plain": [
       "   emotion                                             pixels     Usage\n",
       "0        0  70 80 82 72 58 58 60 63 54 58 60 48 89 115 121...  Training\n",
       "1        0  151 150 147 155 148 133 111 140 170 174 182 15...  Training\n",
       "2        2  231 212 156 164 174 138 161 173 182 200 106 38...  Training\n",
       "3        4  24 32 36 30 32 23 19 20 30 41 21 22 32 34 21 1...  Training\n",
       "4        6  4 0 0 0 0 0 0 0 0 0 0 0 3 15 23 28 48 50 58 84...  Training"
      ]
     },
     "execution_count": 5,
     "metadata": {},
     "output_type": "execute_result"
    }
   ],
   "source": [
    "df_face.head()"
   ]
  },
  {
   "cell_type": "code",
   "execution_count": 6,
   "metadata": {
    "colab": {
     "base_uri": "https://localhost:8080/"
    },
    "id": "B98Z-4Y8XE5G",
    "outputId": "3d747a3e-9055-4a50-ed20-da81c68b7ab2"
   },
   "outputs": [
    {
     "data": {
      "text/plain": [
       "(35887, 3)"
      ]
     },
     "execution_count": 6,
     "metadata": {},
     "output_type": "execute_result"
    }
   ],
   "source": [
    "df_face.shape"
   ]
  },
  {
   "cell_type": "code",
   "execution_count": 7,
   "metadata": {
    "id": "Z4JaIA6OXHol"
   },
   "outputs": [],
   "source": [
    "## Splitting the dataset to get individual pixels\n",
    "df_face['pixel'] = df_face.apply(lambda row: row.pixels.split(\" \"), axis = 1)"
   ]
  },
  {
   "cell_type": "code",
   "execution_count": 8,
   "metadata": {
    "colab": {
     "base_uri": "https://localhost:8080/",
     "height": 204
    },
    "id": "2e5_8gxkXJqT",
    "outputId": "2116a733-5190-4306-a2f8-97acc3814777"
   },
   "outputs": [
    {
     "data": {
      "text/html": [
       "<div>\n",
       "<style scoped>\n",
       "    .dataframe tbody tr th:only-of-type {\n",
       "        vertical-align: middle;\n",
       "    }\n",
       "\n",
       "    .dataframe tbody tr th {\n",
       "        vertical-align: top;\n",
       "    }\n",
       "\n",
       "    .dataframe thead th {\n",
       "        text-align: right;\n",
       "    }\n",
       "</style>\n",
       "<table border=\"1\" class=\"dataframe\">\n",
       "  <thead>\n",
       "    <tr style=\"text-align: right;\">\n",
       "      <th></th>\n",
       "      <th>emotion</th>\n",
       "      <th>pixels</th>\n",
       "      <th>Usage</th>\n",
       "      <th>pixel</th>\n",
       "    </tr>\n",
       "  </thead>\n",
       "  <tbody>\n",
       "    <tr>\n",
       "      <th>0</th>\n",
       "      <td>0</td>\n",
       "      <td>70 80 82 72 58 58 60 63 54 58 60 48 89 115 121...</td>\n",
       "      <td>Training</td>\n",
       "      <td>[70, 80, 82, 72, 58, 58, 60, 63, 54, 58, 60, 4...</td>\n",
       "    </tr>\n",
       "    <tr>\n",
       "      <th>1</th>\n",
       "      <td>0</td>\n",
       "      <td>151 150 147 155 148 133 111 140 170 174 182 15...</td>\n",
       "      <td>Training</td>\n",
       "      <td>[151, 150, 147, 155, 148, 133, 111, 140, 170, ...</td>\n",
       "    </tr>\n",
       "    <tr>\n",
       "      <th>2</th>\n",
       "      <td>2</td>\n",
       "      <td>231 212 156 164 174 138 161 173 182 200 106 38...</td>\n",
       "      <td>Training</td>\n",
       "      <td>[231, 212, 156, 164, 174, 138, 161, 173, 182, ...</td>\n",
       "    </tr>\n",
       "    <tr>\n",
       "      <th>3</th>\n",
       "      <td>4</td>\n",
       "      <td>24 32 36 30 32 23 19 20 30 41 21 22 32 34 21 1...</td>\n",
       "      <td>Training</td>\n",
       "      <td>[24, 32, 36, 30, 32, 23, 19, 20, 30, 41, 21, 2...</td>\n",
       "    </tr>\n",
       "    <tr>\n",
       "      <th>4</th>\n",
       "      <td>6</td>\n",
       "      <td>4 0 0 0 0 0 0 0 0 0 0 0 3 15 23 28 48 50 58 84...</td>\n",
       "      <td>Training</td>\n",
       "      <td>[4, 0, 0, 0, 0, 0, 0, 0, 0, 0, 0, 0, 3, 15, 23...</td>\n",
       "    </tr>\n",
       "  </tbody>\n",
       "</table>\n",
       "</div>"
      ],
      "text/plain": [
       "   emotion  ...                                              pixel\n",
       "0        0  ...  [70, 80, 82, 72, 58, 58, 60, 63, 54, 58, 60, 4...\n",
       "1        0  ...  [151, 150, 147, 155, 148, 133, 111, 140, 170, ...\n",
       "2        2  ...  [231, 212, 156, 164, 174, 138, 161, 173, 182, ...\n",
       "3        4  ...  [24, 32, 36, 30, 32, 23, 19, 20, 30, 41, 21, 2...\n",
       "4        6  ...  [4, 0, 0, 0, 0, 0, 0, 0, 0, 0, 0, 0, 3, 15, 23...\n",
       "\n",
       "[5 rows x 4 columns]"
      ]
     },
     "execution_count": 8,
     "metadata": {},
     "output_type": "execute_result"
    }
   ],
   "source": [
    "df_face.head()"
   ]
  },
  {
   "cell_type": "code",
   "execution_count": 9,
   "metadata": {
    "colab": {
     "base_uri": "https://localhost:8080/",
     "height": 204
    },
    "id": "2_YL74ApXLnY",
    "outputId": "3df1fa19-672e-40ee-b34d-d6259db17db6"
   },
   "outputs": [
    {
     "data": {
      "text/html": [
       "<div>\n",
       "<style scoped>\n",
       "    .dataframe tbody tr th:only-of-type {\n",
       "        vertical-align: middle;\n",
       "    }\n",
       "\n",
       "    .dataframe tbody tr th {\n",
       "        vertical-align: top;\n",
       "    }\n",
       "\n",
       "    .dataframe thead th {\n",
       "        text-align: right;\n",
       "    }\n",
       "</style>\n",
       "<table border=\"1\" class=\"dataframe\">\n",
       "  <thead>\n",
       "    <tr style=\"text-align: right;\">\n",
       "      <th></th>\n",
       "      <th>emotion</th>\n",
       "      <th>Usage</th>\n",
       "      <th>pixels</th>\n",
       "    </tr>\n",
       "  </thead>\n",
       "  <tbody>\n",
       "    <tr>\n",
       "      <th>0</th>\n",
       "      <td>0</td>\n",
       "      <td>Training</td>\n",
       "      <td>[70, 80, 82, 72, 58, 58, 60, 63, 54, 58, 60, 4...</td>\n",
       "    </tr>\n",
       "    <tr>\n",
       "      <th>1</th>\n",
       "      <td>0</td>\n",
       "      <td>Training</td>\n",
       "      <td>[151, 150, 147, 155, 148, 133, 111, 140, 170, ...</td>\n",
       "    </tr>\n",
       "    <tr>\n",
       "      <th>2</th>\n",
       "      <td>2</td>\n",
       "      <td>Training</td>\n",
       "      <td>[231, 212, 156, 164, 174, 138, 161, 173, 182, ...</td>\n",
       "    </tr>\n",
       "    <tr>\n",
       "      <th>3</th>\n",
       "      <td>4</td>\n",
       "      <td>Training</td>\n",
       "      <td>[24, 32, 36, 30, 32, 23, 19, 20, 30, 41, 21, 2...</td>\n",
       "    </tr>\n",
       "    <tr>\n",
       "      <th>4</th>\n",
       "      <td>6</td>\n",
       "      <td>Training</td>\n",
       "      <td>[4, 0, 0, 0, 0, 0, 0, 0, 0, 0, 0, 0, 3, 15, 23...</td>\n",
       "    </tr>\n",
       "  </tbody>\n",
       "</table>\n",
       "</div>"
      ],
      "text/plain": [
       "   emotion     Usage                                             pixels\n",
       "0        0  Training  [70, 80, 82, 72, 58, 58, 60, 63, 54, 58, 60, 4...\n",
       "1        0  Training  [151, 150, 147, 155, 148, 133, 111, 140, 170, ...\n",
       "2        2  Training  [231, 212, 156, 164, 174, 138, 161, 173, 182, ...\n",
       "3        4  Training  [24, 32, 36, 30, 32, 23, 19, 20, 30, 41, 21, 2...\n",
       "4        6  Training  [4, 0, 0, 0, 0, 0, 0, 0, 0, 0, 0, 0, 3, 15, 23..."
      ]
     },
     "execution_count": 9,
     "metadata": {},
     "output_type": "execute_result"
    }
   ],
   "source": [
    "## Droping Pixels column since it's not required\n",
    "df_face.drop(columns = \"pixels\", axis = 1, inplace = True)\n",
    "df_face.rename(columns = {\"pixel\": \"pixels\"}, inplace = True)\n",
    "df_face.head()"
   ]
  },
  {
   "cell_type": "code",
   "execution_count": 10,
   "metadata": {
    "id": "r8O4yl2hXN3A"
   },
   "outputs": [],
   "source": [
    "## Creating copy of dataframs to view image using below function\n",
    "df = df_face.copy()"
   ]
  },
  {
   "cell_type": "code",
   "execution_count": 11,
   "metadata": {
    "id": "pk5rhTb9XRl-"
   },
   "outputs": [],
   "source": [
    "## Function to view image using pixel values\n",
    "def view_image(data, row_id):\n",
    "  emotion = {0 : \"Angry\", 1 : \"Disgust\", 2 : \"Fear\", 3 : \"Happy\", 4 : \"Sad\", 5 : \"Surprise\", 6 : \"Neutral\"}\n",
    "  num_emotion = data['emotion'][row_id]\n",
    "  print(num_emotion, emotion[num_emotion])\n",
    "  img = np.array(np.float32(data['pixels'][row_id]).reshape(48,48,1))\n",
    "  pil_img = tf.keras.preprocessing.image.array_to_img(img)\n",
    "  imgplot = plt.imshow(pil_img)\n",
    "  plt.show()"
   ]
  },
  {
   "cell_type": "code",
   "execution_count": 12,
   "metadata": {
    "colab": {
     "base_uri": "https://localhost:8080/",
     "height": 284
    },
    "id": "JaOPE8yVXTsK",
    "outputId": "de6fd74e-07b3-455a-825a-73076127b08f"
   },
   "outputs": [
    {
     "name": "stdout",
     "output_type": "stream",
     "text": [
      "3 Happy\n"
     ]
    },
    {
     "data": {
      "image/png": "[encoded data removed]",
      "text/plain": [
       "<Figure size 432x288 with 1 Axes>"
      ]
     },
     "metadata": {
      "needs_background": "light"
     },
     "output_type": "display_data"
    }
   ],
   "source": [
    "view_image(df,7997)"
   ]
  },
  {
   "cell_type": "code",
   "execution_count": 13,
   "metadata": {
    "id": "el78w4u-XVUM"
   },
   "outputs": [],
   "source": [
    "## Converting it into Float 32\n",
    "\n",
    "df_face['pixels'] = df_face.apply(lambda row: np.array(np.float32(row.pixels)), axis=1)"
   ]
  },
  {
   "cell_type": "code",
   "execution_count": 14,
   "metadata": {
    "id": "Hb_8QbG5XbHa"
   },
   "outputs": [],
   "source": [
    "## Normalising the data\n",
    "\n",
    "df_face['pixels'] = df_face.apply(lambda row: np.array(row.pixels) / 255, axis=1)"
   ]
  },
  {
   "cell_type": "code",
   "execution_count": 15,
   "metadata": {
    "colab": {
     "base_uri": "https://localhost:8080/",
     "height": 204
    },
    "id": "H3T5gcuKXc24",
    "outputId": "04d647bc-9930-4bf9-f1a4-044a87386bd3"
   },
   "outputs": [
    {
     "data": {
      "text/html": [
       "<div>\n",
       "<style scoped>\n",
       "    .dataframe tbody tr th:only-of-type {\n",
       "        vertical-align: middle;\n",
       "    }\n",
       "\n",
       "    .dataframe tbody tr th {\n",
       "        vertical-align: top;\n",
       "    }\n",
       "\n",
       "    .dataframe thead th {\n",
       "        text-align: right;\n",
       "    }\n",
       "</style>\n",
       "<table border=\"1\" class=\"dataframe\">\n",
       "  <thead>\n",
       "    <tr style=\"text-align: right;\">\n",
       "      <th></th>\n",
       "      <th>emotion</th>\n",
       "      <th>Usage</th>\n",
       "      <th>pixels</th>\n",
       "    </tr>\n",
       "  </thead>\n",
       "  <tbody>\n",
       "    <tr>\n",
       "      <th>0</th>\n",
       "      <td>0</td>\n",
       "      <td>Training</td>\n",
       "      <td>[0.27450982, 0.3137255, 0.32156864, 0.28235295...</td>\n",
       "    </tr>\n",
       "    <tr>\n",
       "      <th>1</th>\n",
       "      <td>0</td>\n",
       "      <td>Training</td>\n",
       "      <td>[0.5921569, 0.5882353, 0.5764706, 0.60784316, ...</td>\n",
       "    </tr>\n",
       "    <tr>\n",
       "      <th>2</th>\n",
       "      <td>2</td>\n",
       "      <td>Training</td>\n",
       "      <td>[0.90588236, 0.83137256, 0.6117647, 0.6431373,...</td>\n",
       "    </tr>\n",
       "    <tr>\n",
       "      <th>3</th>\n",
       "      <td>4</td>\n",
       "      <td>Training</td>\n",
       "      <td>[0.09411765, 0.1254902, 0.14117648, 0.11764706...</td>\n",
       "    </tr>\n",
       "    <tr>\n",
       "      <th>4</th>\n",
       "      <td>6</td>\n",
       "      <td>Training</td>\n",
       "      <td>[0.015686275, 0.0, 0.0, 0.0, 0.0, 0.0, 0.0, 0....</td>\n",
       "    </tr>\n",
       "  </tbody>\n",
       "</table>\n",
       "</div>"
      ],
      "text/plain": [
       "   emotion     Usage                                             pixels\n",
       "0        0  Training  [0.27450982, 0.3137255, 0.32156864, 0.28235295...\n",
       "1        0  Training  [0.5921569, 0.5882353, 0.5764706, 0.60784316, ...\n",
       "2        2  Training  [0.90588236, 0.83137256, 0.6117647, 0.6431373,...\n",
       "3        4  Training  [0.09411765, 0.1254902, 0.14117648, 0.11764706...\n",
       "4        6  Training  [0.015686275, 0.0, 0.0, 0.0, 0.0, 0.0, 0.0, 0...."
      ]
     },
     "execution_count": 15,
     "metadata": {},
     "output_type": "execute_result"
    }
   ],
   "source": [
    "df_face.head()"
   ]
  },
  {
   "cell_type": "code",
   "execution_count": 16,
   "metadata": {
    "colab": {
     "base_uri": "https://localhost:8080/"
    },
    "id": "GHM9j29NXevb",
    "outputId": "b29de348-cbc7-4b85-81c2-0f4678123b14"
   },
   "outputs": [
    {
     "data": {
      "text/plain": [
       "(35887, 3)"
      ]
     },
     "execution_count": 16,
     "metadata": {},
     "output_type": "execute_result"
    }
   ],
   "source": [
    "df_face.shape"
   ]
  },
  {
   "cell_type": "code",
   "execution_count": 17,
   "metadata": {
    "colab": {
     "base_uri": "https://localhost:8080/"
    },
    "id": "oTiYr_8bXhjf",
    "outputId": "74c4807f-2df9-4e76-d4aa-ba44eab7e99d"
   },
   "outputs": [
    {
     "name": "stdout",
     "output_type": "stream",
     "text": [
      "             emotion  pixels\n",
      "Usage                       \n",
      "PrivateTest     3589    3589\n",
      "PublicTest      3589    3589\n",
      "Training       28709   28709\n"
     ]
    }
   ],
   "source": [
    "## Checking count of fields for test train split\n",
    "cnt = df_face.groupby(\"Usage\").count()\n",
    "print(cnt)"
   ]
  },
  {
   "cell_type": "code",
   "execution_count": 18,
   "metadata": {
    "colab": {
     "base_uri": "https://localhost:8080/"
    },
    "id": "hQv4Um64XkYS",
    "outputId": "1005c62b-dd7d-4c9c-c029-1dab521aa476"
   },
   "outputs": [
    {
     "name": "stdout",
     "output_type": "stream",
     "text": [
      "                     pixels\n",
      "Usage       emotion        \n",
      "PrivateTest 0           491\n",
      "            1            55\n",
      "            2           528\n",
      "            3           879\n",
      "            4           594\n",
      "            5           416\n",
      "            6           626\n",
      "PublicTest  0           467\n",
      "            1            56\n",
      "            2           496\n",
      "            3           895\n",
      "            4           653\n",
      "            5           415\n",
      "            6           607\n",
      "Training    0          3995\n",
      "            1           436\n",
      "            2          4097\n",
      "            3          7215\n",
      "            4          4830\n",
      "            5          3171\n",
      "            6          4965\n"
     ]
    }
   ],
   "source": [
    "## Checking count of fields for test train split\n",
    "cnt = df_face.groupby([\"Usage\",\"emotion\"]).count()\n",
    "print(cnt)"
   ]
  },
  {
   "cell_type": "markdown",
   "metadata": {
    "id": "3d1frJHBXsSu"
   },
   "source": [
    "Dividing the data fro Train, Test and Validation as below:\n",
    "\n",
    "Train = Training (80%)\n",
    "\n",
    "Test = PublicTest (10%)\n",
    "\n",
    "Validation = PrivateTest (10%)\n",
    "\n",
    "From Training stats :\n",
    " \n",
    "0 --> 3995\n",
    "\n",
    "1 --> 436\n",
    "\n",
    "2 --> 4097\n",
    "\n",
    "3 --> 7215\n",
    "\n",
    "4 --> 4830\n",
    "\n",
    "5 --> 3171\n",
    "\n",
    "6 --> 4965\n",
    "\n",
    "The data set for trainging has higher samples of Happy faces and very less sample of Disgust sample. So the classes are impalanced for tranining."
   ]
  },
  {
   "cell_type": "code",
   "execution_count": 19,
   "metadata": {
    "id": "39D0Ig3qXmo-"
   },
   "outputs": [],
   "source": [
    "# Training Set\n",
    "X_train = np.array(df_face[df_face[\"Usage\"] == \"Training\"][\"pixels\"].to_list())\n",
    "Y_train = df_face[df_face[\"Usage\"] == \"Training\"][\"emotion\"]\n",
    "\n",
    "#Validation Set\n",
    "X_val = np.array(df_face[df_face[\"Usage\"] == \"PrivateTest\"][\"pixels\"].to_list())\n",
    "Y_val = df_face[df_face[\"Usage\"] == \"PrivateTest\"][\"emotion\"]\n",
    "\n",
    "#Test Set\n",
    "X_test = np.array(df_face[df_face[\"Usage\"] == \"PublicTest\"][\"pixels\"].to_list())\n",
    "Y_test = df_face[df_face[\"Usage\"] == \"PublicTest\"][\"emotion\"]"
   ]
  },
  {
   "cell_type": "code",
   "execution_count": 20,
   "metadata": {
    "id": "YPlwTO5bXvbd"
   },
   "outputs": [],
   "source": [
    "## reshaping the data sets\n",
    "X_train = X_train.reshape(X_train.shape[0], 48, 48, 1) \n",
    "X_val = X_val.reshape(X_val.shape[0], 48, 48, 1)\n",
    "X_test = X_test.reshape(X_test.shape[0], 48, 48, 1)"
   ]
  },
  {
   "cell_type": "code",
   "execution_count": 21,
   "metadata": {
    "colab": {
     "base_uri": "https://localhost:8080/"
    },
    "id": "AefUPYGvXx3x",
    "outputId": "607d7295-1ea7-4d3a-b2e7-6b7a7b19c9b9"
   },
   "outputs": [
    {
     "data": {
      "text/plain": [
       "numpy.ndarray"
      ]
     },
     "execution_count": 21,
     "metadata": {},
     "output_type": "execute_result"
    }
   ],
   "source": [
    "## Converting Target column into Categorical Dataset\n",
    "\n",
    "Y_train = tf.keras.utils.to_categorical(Y_train, 7) \n",
    "Y_test = tf.keras.utils.to_categorical(Y_test, 7)\n",
    "Y_val = tf.keras.utils.to_categorical(Y_val, 7)\n",
    "\n",
    "type(Y_train)"
   ]
  },
  {
   "cell_type": "code",
   "execution_count": 22,
   "metadata": {
    "colab": {
     "base_uri": "https://localhost:8080/"
    },
    "id": "SvtEppoSX3-2",
    "outputId": "f02f4e3a-c297-4cc7-ed17-f1e795a055e6"
   },
   "outputs": [
    {
     "data": {
      "text/plain": [
       "(28709, 7)"
      ]
     },
     "execution_count": 22,
     "metadata": {},
     "output_type": "execute_result"
    }
   ],
   "source": [
    "Y_train.shape"
   ]
  },
  {
   "cell_type": "code",
   "execution_count": 23,
   "metadata": {
    "id": "qSHOg2FDX5-U"
   },
   "outputs": [],
   "source": [
    "## Converitng data into dataframe for model to accept the data\n",
    "Y_train = pd.DataFrame(Y_train)\n",
    "Y_test = pd.DataFrame(Y_test)\n",
    "Y_val = pd.DataFrame(Y_val)"
   ]
  },
  {
   "cell_type": "code",
   "execution_count": 24,
   "metadata": {
    "id": "2zKYFZoaX8Zi"
   },
   "outputs": [],
   "source": [
    "## Checking Shape of sample:\n",
    "img_width = 48\n",
    "img_height = 48\n",
    "import tensorflow.keras.backend as k\n",
    "if k.image_data_format()=='channels_first': \n",
    "    input_shape=(1, img_width, img_height)\n",
    "else:\n",
    "    input_shape=(img_width,img_height,1)"
   ]
  },
  {
   "cell_type": "markdown",
   "metadata": {
    "id": "Lh3IboCVaQ7T"
   },
   "source": [
    "## Creating the Model"
   ]
  },
  {
   "cell_type": "code",
   "execution_count": 25,
   "metadata": {
    "id": "r71AvB2BjTnb"
   },
   "outputs": [],
   "source": [
    "## Function to get Model Stats\n",
    "\n",
    "def model_stats(training_model):\n",
    "  print(training_model.history.keys())\n",
    "  # summarize training for accuracy\n",
    "  plt.plot(training_model.history['accuracy'])\n",
    "  plt.plot(training_model.history['val_accuracy'])\n",
    "  plt.title('model accuracy')\n",
    "  plt.ylabel('accuracy')\n",
    "  plt.xlabel('epoch')\n",
    "  plt.legend(['train', 'test'], loc='upper left')\n",
    "  plt.show()\n",
    "  # summarize traning for loss\n",
    "  plt.plot(training_model.history['loss'])\n",
    "  plt.plot(training_model.history['val_loss'])\n",
    "  plt.title('model loss')\n",
    "  plt.ylabel('loss')\n",
    "  plt.xlabel('epoch')\n",
    "  plt.legend(['train', 'test'], loc='upper left')\n",
    "  plt.show()"
   ]
  },
  {
   "cell_type": "code",
   "execution_count": 26,
   "metadata": {
    "colab": {
     "base_uri": "https://localhost:8080/"
    },
    "id": "XgnNg2DSX-PB",
    "outputId": "af5b678f-41ff-4ef6-da66-a95ce8a3d8ff"
   },
   "outputs": [
    {
     "name": "stdout",
     "output_type": "stream",
     "text": [
      "Model: \"sequential\"\n",
      "_________________________________________________________________\n",
      "Layer (type)                 Output Shape              Param #   \n",
      "=================================================================\n",
      "conv2d (Conv2D)              (None, 48, 48, 64)        1664      \n",
      "_________________________________________________________________\n",
      "conv2d_1 (Conv2D)            (None, 48, 48, 64)        102464    \n",
      "_________________________________________________________________\n",
      "batch_normalization (BatchNo (None, 48, 48, 64)        256       \n",
      "_________________________________________________________________\n",
      "max_pooling2d (MaxPooling2D) (None, 24, 24, 64)        0         \n",
      "_________________________________________________________________\n",
      "conv2d_2 (Conv2D)            (None, 24, 24, 128)       204928    \n",
      "_________________________________________________________________\n",
      "conv2d_3 (Conv2D)            (None, 24, 24, 128)       409728    \n",
      "_________________________________________________________________\n",
      "batch_normalization_1 (Batch (None, 24, 24, 128)       512       \n",
      "_________________________________________________________________\n",
      "max_pooling2d_1 (MaxPooling2 (None, 12, 12, 128)       0         \n",
      "_________________________________________________________________\n",
      "conv2d_4 (Conv2D)            (None, 12, 12, 256)       819456    \n",
      "_________________________________________________________________\n",
      "conv2d_5 (Conv2D)            (None, 12, 12, 256)       1638656   \n",
      "_________________________________________________________________\n",
      "batch_normalization_2 (Batch (None, 12, 12, 256)       1024      \n",
      "_________________________________________________________________\n",
      "max_pooling2d_2 (MaxPooling2 (None, 6, 6, 256)         0         \n",
      "_________________________________________________________________\n",
      "flatten (Flatten)            (None, 9216)              0         \n",
      "_________________________________________________________________\n",
      "dense (Dense)                (None, 128)               1179776   \n",
      "_________________________________________________________________\n",
      "batch_normalization_3 (Batch (None, 128)               512       \n",
      "_________________________________________________________________\n",
      "dropout (Dropout)            (None, 128)               0         \n",
      "_________________________________________________________________\n",
      "dense_1 (Dense)              (None, 7)                 903       \n",
      "=================================================================\n",
      "Total params: 4,359,879\n",
      "Trainable params: 4,358,727\n",
      "Non-trainable params: 1,152\n",
      "_________________________________________________________________\n"
     ]
    }
   ],
   "source": [
    "## Creating the model\n",
    "\n",
    "def emotion_model(input_shape,fun_activation='relu',dropout_value = 0.2,fun_loss = 'categorical_crossentrophy'):\n",
    "  model = Sequential()\n",
    "  model.add(Conv2D(filters=64,kernel_size=(5,5),input_shape = input_shape,activation = fun_activation, padding='same'))\n",
    "  model.add(Conv2D(filters=64, kernel_size=(5,5),activation=fun_activation, padding='same'))\n",
    "  model.add(BatchNormalization())\n",
    "  model.add(MaxPooling2D(pool_size=(2,2)))\n",
    "\n",
    "  model.add(Conv2D(filters=128,kernel_size=(5,5),input_shape = input_shape,activation = fun_activation, padding='same'))\n",
    "  model.add(Conv2D(filters=128, kernel_size=(5,5),activation=fun_activation, padding='same'))\n",
    "  model.add(BatchNormalization())\n",
    "  model.add(MaxPooling2D(pool_size=(2,2)))\n",
    "\n",
    "  model.add(Conv2D(filters=256,kernel_size=(5,5),input_shape = input_shape,activation = fun_activation, padding='same'))\n",
    "  model.add(Conv2D(filters=256, kernel_size=(5,5),activation=fun_activation, padding='same'))\n",
    "  model.add(BatchNormalization())\n",
    "  model.add(MaxPooling2D(pool_size=(2,2)))\n",
    "\n",
    "  model.add(Flatten())\n",
    "  model.add(Dense(128, activation=fun_activation))\n",
    "  model.add(BatchNormalization())\n",
    "  model.add(Dropout(dropout_value))\n",
    "  model.add(Dense(7,activation='softmax'))\n",
    "\n",
    "  model.compile(loss=fun_loss,metrics=['accuracy'])\n",
    "\n",
    "  return model\n",
    "\n",
    "model = emotion_model(input_shape,'relu',0.2,'categorical_crossentropy')\n",
    "model.summary()\n"
   ]
  },
  {
   "cell_type": "code",
   "execution_count": 27,
   "metadata": {
    "colab": {
     "base_uri": "https://localhost:8080/"
    },
    "id": "PSCk5dBwhj2O",
    "outputId": "78f71e60-8eb6-4f7d-8b02-2d6d6b092a4b"
   },
   "outputs": [
    {
     "name": "stdout",
     "output_type": "stream",
     "text": [
      "Epoch 1/20\n",
      "449/449 - 37s - loss: 1.8015 - accuracy: 0.3106 - val_loss: 1.7867 - val_accuracy: 0.3536\n",
      "Epoch 2/20\n",
      "449/449 - 18s - loss: 1.3913 - accuracy: 0.4708 - val_loss: 1.3828 - val_accuracy: 0.4806\n",
      "Epoch 3/20\n",
      "449/449 - 18s - loss: 1.1840 - accuracy: 0.5535 - val_loss: 1.4303 - val_accuracy: 0.4617\n",
      "Epoch 4/20\n",
      "449/449 - 18s - loss: 1.0537 - accuracy: 0.6054 - val_loss: 1.1657 - val_accuracy: 0.5623\n",
      "Epoch 5/20\n",
      "449/449 - 19s - loss: 0.9222 - accuracy: 0.6579 - val_loss: 1.1929 - val_accuracy: 0.5623\n",
      "Epoch 6/20\n",
      "449/449 - 19s - loss: 0.7677 - accuracy: 0.7174 - val_loss: 1.2412 - val_accuracy: 0.5896\n",
      "Epoch 7/20\n",
      "449/449 - 20s - loss: 0.5764 - accuracy: 0.7918 - val_loss: 1.3618 - val_accuracy: 0.5899\n",
      "Epoch 8/20\n",
      "449/449 - 19s - loss: 0.3971 - accuracy: 0.8587 - val_loss: 1.7624 - val_accuracy: 0.5405\n",
      "Epoch 9/20\n",
      "449/449 - 19s - loss: 0.2653 - accuracy: 0.9119 - val_loss: 1.6017 - val_accuracy: 0.6138\n",
      "Epoch 10/20\n",
      "449/449 - 19s - loss: 0.2065 - accuracy: 0.9309 - val_loss: 1.7617 - val_accuracy: 0.5737\n",
      "Epoch 11/20\n",
      "449/449 - 20s - loss: 0.1658 - accuracy: 0.9465 - val_loss: 1.6842 - val_accuracy: 0.5617\n",
      "Epoch 12/20\n",
      "449/449 - 19s - loss: 0.1476 - accuracy: 0.9532 - val_loss: 1.7612 - val_accuracy: 0.5804\n",
      "Epoch 13/20\n",
      "449/449 - 19s - loss: 0.1308 - accuracy: 0.9575 - val_loss: 2.0918 - val_accuracy: 0.5963\n",
      "Epoch 14/20\n",
      "449/449 - 19s - loss: 0.1121 - accuracy: 0.9638 - val_loss: 2.0844 - val_accuracy: 0.6091\n",
      "Epoch 15/20\n",
      "449/449 - 19s - loss: 0.1006 - accuracy: 0.9678 - val_loss: 2.4776 - val_accuracy: 0.5968\n",
      "Epoch 16/20\n",
      "449/449 - 19s - loss: 0.0917 - accuracy: 0.9694 - val_loss: 2.4372 - val_accuracy: 0.5784\n",
      "Epoch 17/20\n",
      "449/449 - 19s - loss: 0.0850 - accuracy: 0.9737 - val_loss: 2.5141 - val_accuracy: 0.5890\n",
      "Epoch 18/20\n",
      "449/449 - 19s - loss: 0.0851 - accuracy: 0.9730 - val_loss: 2.4756 - val_accuracy: 0.5971\n",
      "Epoch 19/20\n",
      "449/449 - 19s - loss: 0.0777 - accuracy: 0.9754 - val_loss: 2.3331 - val_accuracy: 0.6041\n",
      "Epoch 20/20\n",
      "449/449 - 19s - loss: 0.0671 - accuracy: 0.9785 - val_loss: 2.1557 - val_accuracy: 0.6030\n"
     ]
    }
   ],
   "source": [
    "k.set_value(model.optimizer.learning_rate,1e-3)\n",
    "\n",
    "## Traning basic model\n",
    "emotion = model.fit( x = X_train, y = Y_train, \n",
    "                    batch_size = 64, \n",
    "                    epochs = 20, \n",
    "                    verbose = 2,\n",
    "                    validation_data=(X_val, Y_val)\n",
    "                    )\n"
   ]
  },
  {
   "cell_type": "code",
   "execution_count": 28,
   "metadata": {
    "colab": {
     "base_uri": "https://localhost:8080/"
    },
    "id": "BGAzIaIle-55",
    "outputId": "e37707db-c59f-489d-f183-5a24af852926"
   },
   "outputs": [
    {
     "name": "stdout",
     "output_type": "stream",
     "text": [
      "113/113 - 1s - loss: 2.2207 - accuracy: 0.6055\n"
     ]
    },
    {
     "data": {
      "text/plain": [
       "[2.2206664085388184, 0.6054611206054688]"
      ]
     },
     "execution_count": 28,
     "metadata": {},
     "output_type": "execute_result"
    }
   ],
   "source": [
    "model.evaluate(X_test,Y_test, verbose=2)"
   ]
  },
  {
   "cell_type": "code",
   "execution_count": 29,
   "metadata": {
    "colab": {
     "base_uri": "https://localhost:8080/",
     "height": 590
    },
    "id": "D4YAHstUY8N0",
    "outputId": "dfa5a6e5-79a5-47aa-f075-05f26e30cb84"
   },
   "outputs": [
    {
     "name": "stdout",
     "output_type": "stream",
     "text": [
      "dict_keys(['loss', 'accuracy', 'val_loss', 'val_accuracy'])\n"
     ]
    },
    {
     "data": {
      "image/png": "[encoded data removed]",
      "text/plain": [
       "<Figure size 432x288 with 1 Axes>"
      ]
     },
     "metadata": {
      "needs_background": "light"
     },
     "output_type": "display_data"
    },
    {
     "data": {
      "image/png": "[encoded data removed]",
      "text/plain": [
       "<Figure size 432x288 with 1 Axes>"
      ]
     },
     "metadata": {
      "needs_background": "light"
     },
     "output_type": "display_data"
    }
   ],
   "source": [
    "## Gathering model stats\n",
    "model_stats(emotion)"
   ]
  },
  {
   "cell_type": "markdown",
   "metadata": {
    "id": "K-Cg13oHByd3"
   },
   "source": [
    "### Tuning the Model"
   ]
  },
  {
   "cell_type": "code",
   "execution_count": 30,
   "metadata": {
    "colab": {
     "base_uri": "https://localhost:8080/"
    },
    "id": "LceM8O5UB0-r",
    "outputId": "7b386277-bf02-400c-a8b4-49baabbb14c8"
   },
   "outputs": [
    {
     "name": "stdout",
     "output_type": "stream",
     "text": [
      "Model: \"sequential_1\"\n",
      "_________________________________________________________________\n",
      "Layer (type)                 Output Shape              Param #   \n",
      "=================================================================\n",
      "conv2d_6 (Conv2D)            (None, 48, 48, 64)        1664      \n",
      "_________________________________________________________________\n",
      "conv2d_7 (Conv2D)            (None, 48, 48, 64)        102464    \n",
      "_________________________________________________________________\n",
      "batch_normalization_4 (Batch (None, 48, 48, 64)        256       \n",
      "_________________________________________________________________\n",
      "max_pooling2d_3 (MaxPooling2 (None, 24, 24, 64)        0         \n",
      "_________________________________________________________________\n",
      "dropout_1 (Dropout)          (None, 24, 24, 64)        0         \n",
      "_________________________________________________________________\n",
      "conv2d_8 (Conv2D)            (None, 24, 24, 128)       204928    \n",
      "_________________________________________________________________\n",
      "conv2d_9 (Conv2D)            (None, 24, 24, 128)       409728    \n",
      "_________________________________________________________________\n",
      "batch_normalization_5 (Batch (None, 24, 24, 128)       512       \n",
      "_________________________________________________________________\n",
      "max_pooling2d_4 (MaxPooling2 (None, 12, 12, 128)       0         \n",
      "_________________________________________________________________\n",
      "dropout_2 (Dropout)          (None, 12, 12, 128)       0         \n",
      "_________________________________________________________________\n",
      "conv2d_10 (Conv2D)           (None, 12, 12, 256)       819456    \n",
      "_________________________________________________________________\n",
      "conv2d_11 (Conv2D)           (None, 12, 12, 256)       1638656   \n",
      "_________________________________________________________________\n",
      "batch_normalization_6 (Batch (None, 12, 12, 256)       1024      \n",
      "_________________________________________________________________\n",
      "max_pooling2d_5 (MaxPooling2 (None, 6, 6, 256)         0         \n",
      "_________________________________________________________________\n",
      "dropout_3 (Dropout)          (None, 6, 6, 256)         0         \n",
      "_________________________________________________________________\n",
      "flatten_1 (Flatten)          (None, 9216)              0         \n",
      "_________________________________________________________________\n",
      "dense_2 (Dense)              (None, 128)               1179776   \n",
      "_________________________________________________________________\n",
      "batch_normalization_7 (Batch (None, 128)               512       \n",
      "_________________________________________________________________\n",
      "dropout_4 (Dropout)          (None, 128)               0         \n",
      "_________________________________________________________________\n",
      "dense_3 (Dense)              (None, 7)                 903       \n",
      "=================================================================\n",
      "Total params: 4,359,879\n",
      "Trainable params: 4,358,727\n",
      "Non-trainable params: 1,152\n",
      "_________________________________________________________________\n"
     ]
    }
   ],
   "source": [
    "## Adding dropout layer to stop overfitting\n",
    "\n",
    "def emotion_model(input_shape,fun_activation='relu',dropout_value = 0.2,fun_loss = 'categorical_crossentrophy'):\n",
    "  model = Sequential()\n",
    "  model.add(Conv2D(filters=64,kernel_size=(5,5),input_shape = input_shape,activation = fun_activation, padding='same'))\n",
    "  model.add(Conv2D(filters=64, kernel_size=(5,5),activation=fun_activation, padding='same'))\n",
    "  model.add(BatchNormalization())\n",
    "  model.add(MaxPooling2D(pool_size=(2,2)))\n",
    "  model.add(Dropout(dropout_value))\n",
    "\n",
    "  model.add(Conv2D(filters=128,kernel_size=(5,5),input_shape = input_shape,activation = fun_activation, padding='same'))\n",
    "  model.add(Conv2D(filters=128, kernel_size=(5,5),activation=fun_activation, padding='same'))\n",
    "  model.add(BatchNormalization())\n",
    "  model.add(MaxPooling2D(pool_size=(2,2)))\n",
    "  model.add(Dropout(dropout_value))\n",
    "\n",
    "  model.add(Conv2D(filters=256,kernel_size=(5,5),input_shape = input_shape,activation = fun_activation, padding='same'))\n",
    "  model.add(Conv2D(filters=256, kernel_size=(5,5),activation=fun_activation, padding='same'))\n",
    "  model.add(BatchNormalization())\n",
    "  model.add(MaxPooling2D(pool_size=(2,2)))\n",
    "  model.add(Dropout(dropout_value))\n",
    "\n",
    "  model.add(Flatten())\n",
    "  model.add(Dense(128, activation=fun_activation))\n",
    "  model.add(BatchNormalization())\n",
    "  model.add(Dropout(dropout_value))\n",
    "  model.add(Dense(7,activation='softmax'))\n",
    "\n",
    "  model.compile(loss=fun_loss,metrics=['accuracy'])\n",
    "\n",
    "  return model\n",
    "\n",
    "model_2 = emotion_model(input_shape,'relu',0.3,'categorical_crossentropy')\n",
    "model_2.summary()"
   ]
  },
  {
   "cell_type": "code",
   "execution_count": 31,
   "metadata": {
    "id": "kkzvvE7lCUyz"
   },
   "outputs": [],
   "source": [
    "## Adding Early Stopping\n",
    "\n",
    "from keras.callbacks import EarlyStopping, ReduceLROnPlateau\n",
    "earlystop = EarlyStopping(patience=10)\n",
    "\n",
    "learning_rate_reduction = ReduceLROnPlateau(monitor='val_accuracy', \n",
    "                                            patience=3, ## increasing the patience\n",
    "                                            verbose=2, \n",
    "                                            factor=0.5, \n",
    "                                            min_lr=0.00001)\n",
    "\n",
    "callbacks = [earlystop, learning_rate_reduction]"
   ]
  },
  {
   "cell_type": "code",
   "execution_count": 32,
   "metadata": {
    "colab": {
     "base_uri": "https://localhost:8080/"
    },
    "id": "SGOqAriRCYH5",
    "outputId": "025e1289-d627-4f1f-8538-37471fbf62a4"
   },
   "outputs": [
    {
     "name": "stdout",
     "output_type": "stream",
     "text": [
      "Epoch 1/50\n",
      "240/240 - 25s - loss: 1.9384 - accuracy: 0.2855 - val_loss: 2.0116 - val_accuracy: 0.1744\n",
      "Epoch 2/50\n",
      "240/240 - 19s - loss: 1.5456 - accuracy: 0.4227 - val_loss: 1.6326 - val_accuracy: 0.3592\n",
      "Epoch 3/50\n",
      "240/240 - 19s - loss: 1.3228 - accuracy: 0.5009 - val_loss: 1.4225 - val_accuracy: 0.4687\n",
      "Epoch 4/50\n",
      "240/240 - 19s - loss: 1.1806 - accuracy: 0.5543 - val_loss: 1.2639 - val_accuracy: 0.5222\n",
      "Epoch 5/50\n",
      "240/240 - 19s - loss: 1.0685 - accuracy: 0.5998 - val_loss: 1.1882 - val_accuracy: 0.5414\n",
      "Epoch 6/50\n",
      "240/240 - 19s - loss: 0.9726 - accuracy: 0.6383 - val_loss: 1.1488 - val_accuracy: 0.5801\n",
      "Epoch 7/50\n",
      "240/240 - 19s - loss: 0.8745 - accuracy: 0.6814 - val_loss: 1.2591 - val_accuracy: 0.5564\n",
      "Epoch 8/50\n",
      "240/240 - 19s - loss: 0.7772 - accuracy: 0.7164 - val_loss: 1.1452 - val_accuracy: 0.5977\n",
      "Epoch 9/50\n",
      "240/240 - 19s - loss: 0.6724 - accuracy: 0.7567 - val_loss: 1.2460 - val_accuracy: 0.5879\n",
      "Epoch 10/50\n",
      "240/240 - 19s - loss: 0.5688 - accuracy: 0.7947 - val_loss: 1.2757 - val_accuracy: 0.6088\n",
      "Epoch 11/50\n",
      "240/240 - 19s - loss: 0.4950 - accuracy: 0.8228 - val_loss: 1.3883 - val_accuracy: 0.6030\n",
      "Epoch 12/50\n",
      "240/240 - 19s - loss: 0.4254 - accuracy: 0.8477 - val_loss: 1.5285 - val_accuracy: 0.5812\n",
      "Epoch 13/50\n",
      "240/240 - 19s - loss: 0.3707 - accuracy: 0.8685 - val_loss: 1.6366 - val_accuracy: 0.5862\n",
      "\n",
      "Epoch 00013: ReduceLROnPlateau reducing learning rate to 0.0005000000237487257.\n",
      "Epoch 14/50\n",
      "240/240 - 19s - loss: 0.2473 - accuracy: 0.9165 - val_loss: 1.4178 - val_accuracy: 0.6367\n",
      "Epoch 15/50\n",
      "240/240 - 19s - loss: 0.1922 - accuracy: 0.9359 - val_loss: 1.6403 - val_accuracy: 0.6319\n",
      "Epoch 16/50\n",
      "240/240 - 19s - loss: 0.1586 - accuracy: 0.9456 - val_loss: 1.7179 - val_accuracy: 0.6269\n",
      "Epoch 17/50\n",
      "240/240 - 19s - loss: 0.1439 - accuracy: 0.9496 - val_loss: 1.6608 - val_accuracy: 0.6325\n",
      "\n",
      "Epoch 00017: ReduceLROnPlateau reducing learning rate to 0.0002500000118743628.\n",
      "Epoch 18/50\n",
      "240/240 - 18s - loss: 0.1030 - accuracy: 0.9657 - val_loss: 1.7320 - val_accuracy: 0.6400\n"
     ]
    }
   ],
   "source": [
    "emotion_2 = model_2.fit( x = X_train, y = Y_train, \n",
    "                    batch_size = 120, \n",
    "                    epochs = 50, \n",
    "                    verbose = 2,\n",
    "                    validation_data=(X_val, Y_val),\n",
    "                    callbacks= callbacks\n",
    "                    )"
   ]
  },
  {
   "cell_type": "code",
   "execution_count": 33,
   "metadata": {
    "colab": {
     "base_uri": "https://localhost:8080/"
    },
    "id": "uEri6jtpDKDK",
    "outputId": "8500e23e-ea21-453a-aa4b-950b93ebc558"
   },
   "outputs": [
    {
     "name": "stdout",
     "output_type": "stream",
     "text": [
      "113/113 - 1s - loss: 1.7699 - accuracy: 0.6328\n"
     ]
    },
    {
     "data": {
      "text/plain": [
       "[1.7699040174484253, 0.6327667832374573]"
      ]
     },
     "execution_count": 33,
     "metadata": {},
     "output_type": "execute_result"
    }
   ],
   "source": [
    "model_2.evaluate(X_test,Y_test, verbose=2)"
   ]
  },
  {
   "cell_type": "code",
   "execution_count": 34,
   "metadata": {
    "colab": {
     "base_uri": "https://localhost:8080/",
     "height": 590
    },
    "id": "-JwXiXF1DSp9",
    "outputId": "2ad59946-e480-4c18-a062-967f26a2e4fa"
   },
   "outputs": [
    {
     "name": "stdout",
     "output_type": "stream",
     "text": [
      "dict_keys(['loss', 'accuracy', 'val_loss', 'val_accuracy', 'lr'])\n"
     ]
    },
    {
     "data": {
      "image/png": "[encoded data removed]",
      "text/plain": [
       "<Figure size 432x288 with 1 Axes>"
      ]
     },
     "metadata": {
      "needs_background": "light"
     },
     "output_type": "display_data"
    },
    {
     "data": {
      "image/png": "[encoded data removed]",
      "text/plain": [
       "<Figure size 432x288 with 1 Axes>"
      ]
     },
     "metadata": {
      "needs_background": "light"
     },
     "output_type": "display_data"
    }
   ],
   "source": [
    "## Gathering model stats\n",
    "model_stats(emotion_2)"
   ]
  },
  {
   "cell_type": "code",
   "execution_count": 35,
   "metadata": {
    "colab": {
     "base_uri": "https://localhost:8080/"
    },
    "id": "YTyUSfBbFyEk",
    "outputId": "8f2b3be7-b268-476d-a432-01ed5fa0eae9"
   },
   "outputs": [
    {
     "name": "stdout",
     "output_type": "stream",
     "text": [
      "Model: \"sequential_2\"\n",
      "_________________________________________________________________\n",
      "Layer (type)                 Output Shape              Param #   \n",
      "=================================================================\n",
      "conv2d_12 (Conv2D)           (None, 48, 48, 64)        1664      \n",
      "_________________________________________________________________\n",
      "conv2d_13 (Conv2D)           (None, 48, 48, 64)        102464    \n",
      "_________________________________________________________________\n",
      "batch_normalization_8 (Batch (None, 48, 48, 64)        256       \n",
      "_________________________________________________________________\n",
      "max_pooling2d_6 (MaxPooling2 (None, 24, 24, 64)        0         \n",
      "_________________________________________________________________\n",
      "dropout_5 (Dropout)          (None, 24, 24, 64)        0         \n",
      "_________________________________________________________________\n",
      "conv2d_14 (Conv2D)           (None, 24, 24, 128)       204928    \n",
      "_________________________________________________________________\n",
      "conv2d_15 (Conv2D)           (None, 24, 24, 128)       409728    \n",
      "_________________________________________________________________\n",
      "batch_normalization_9 (Batch (None, 24, 24, 128)       512       \n",
      "_________________________________________________________________\n",
      "max_pooling2d_7 (MaxPooling2 (None, 12, 12, 128)       0         \n",
      "_________________________________________________________________\n",
      "dropout_6 (Dropout)          (None, 12, 12, 128)       0         \n",
      "_________________________________________________________________\n",
      "conv2d_16 (Conv2D)           (None, 12, 12, 256)       819456    \n",
      "_________________________________________________________________\n",
      "conv2d_17 (Conv2D)           (None, 12, 12, 256)       1638656   \n",
      "_________________________________________________________________\n",
      "batch_normalization_10 (Batc (None, 12, 12, 256)       1024      \n",
      "_________________________________________________________________\n",
      "max_pooling2d_8 (MaxPooling2 (None, 6, 6, 256)         0         \n",
      "_________________________________________________________________\n",
      "dropout_7 (Dropout)          (None, 6, 6, 256)         0         \n",
      "_________________________________________________________________\n",
      "flatten_2 (Flatten)          (None, 9216)              0         \n",
      "_________________________________________________________________\n",
      "dense_4 (Dense)              (None, 128)               1179776   \n",
      "_________________________________________________________________\n",
      "batch_normalization_11 (Batc (None, 128)               512       \n",
      "_________________________________________________________________\n",
      "dropout_8 (Dropout)          (None, 128)               0         \n",
      "_________________________________________________________________\n",
      "dense_5 (Dense)              (None, 7)                 903       \n",
      "=================================================================\n",
      "Total params: 4,359,879\n",
      "Trainable params: 4,358,727\n",
      "Non-trainable params: 1,152\n",
      "_________________________________________________________________\n"
     ]
    }
   ],
   "source": [
    "model_3 = emotion_model(input_shape,'relu',0.4,'categorical_crossentropy')\n",
    "model_3.summary()"
   ]
  },
  {
   "cell_type": "code",
   "execution_count": 36,
   "metadata": {
    "colab": {
     "base_uri": "https://localhost:8080/"
    },
    "id": "gP4iwtWFFyeS",
    "outputId": "b671e16b-d4ab-4d79-8b0c-fe850609032c"
   },
   "outputs": [
    {
     "name": "stdout",
     "output_type": "stream",
     "text": [
      "Epoch 1/50\n",
      "449/449 - 21s - loss: 2.0102 - accuracy: 0.2705 - val_loss: 1.6800 - val_accuracy: 0.3168\n",
      "Epoch 2/50\n",
      "449/449 - 19s - loss: 1.6288 - accuracy: 0.3872 - val_loss: 5.2137 - val_accuracy: 0.1415\n",
      "Epoch 3/50\n",
      "449/449 - 19s - loss: 1.4357 - accuracy: 0.4487 - val_loss: 1.4649 - val_accuracy: 0.4433\n",
      "Epoch 4/50\n",
      "449/449 - 19s - loss: 1.2995 - accuracy: 0.5047 - val_loss: 1.3718 - val_accuracy: 0.4675\n",
      "Epoch 5/50\n",
      "449/449 - 19s - loss: 1.2045 - accuracy: 0.5432 - val_loss: 1.3693 - val_accuracy: 0.5155\n",
      "Epoch 6/50\n",
      "449/449 - 19s - loss: 1.1370 - accuracy: 0.5721 - val_loss: 1.3628 - val_accuracy: 0.4765\n",
      "Epoch 7/50\n",
      "449/449 - 19s - loss: 1.0678 - accuracy: 0.6016 - val_loss: 1.3061 - val_accuracy: 0.5171\n",
      "Epoch 8/50\n",
      "449/449 - 19s - loss: 1.0080 - accuracy: 0.6241 - val_loss: 1.1681 - val_accuracy: 0.5782\n",
      "Epoch 9/50\n",
      "449/449 - 19s - loss: 0.9479 - accuracy: 0.6476 - val_loss: 1.1780 - val_accuracy: 0.5801\n",
      "Epoch 10/50\n",
      "449/449 - 19s - loss: 0.8897 - accuracy: 0.6696 - val_loss: 1.1271 - val_accuracy: 0.5943\n",
      "Epoch 11/50\n",
      "449/449 - 19s - loss: 0.8277 - accuracy: 0.6972 - val_loss: 1.2031 - val_accuracy: 0.5748\n",
      "Epoch 12/50\n",
      "449/449 - 19s - loss: 0.7764 - accuracy: 0.7180 - val_loss: 1.1677 - val_accuracy: 0.6155\n",
      "Epoch 13/50\n",
      "449/449 - 19s - loss: 0.7222 - accuracy: 0.7359 - val_loss: 1.2884 - val_accuracy: 0.6144\n",
      "Epoch 14/50\n",
      "449/449 - 19s - loss: 0.6694 - accuracy: 0.7580 - val_loss: 1.2008 - val_accuracy: 0.6063\n",
      "Epoch 15/50\n",
      "449/449 - 19s - loss: 0.6229 - accuracy: 0.7750 - val_loss: 1.2955 - val_accuracy: 0.6046\n",
      "\n",
      "Epoch 00015: ReduceLROnPlateau reducing learning rate to 0.0005000000237487257.\n",
      "Epoch 16/50\n",
      "449/449 - 19s - loss: 0.5064 - accuracy: 0.8177 - val_loss: 1.2228 - val_accuracy: 0.6294\n",
      "Epoch 17/50\n",
      "449/449 - 19s - loss: 0.4463 - accuracy: 0.8412 - val_loss: 1.3279 - val_accuracy: 0.6300\n",
      "Epoch 18/50\n",
      "449/449 - 19s - loss: 0.4098 - accuracy: 0.8506 - val_loss: 1.3453 - val_accuracy: 0.6222\n",
      "Epoch 19/50\n",
      "449/449 - 19s - loss: 0.3780 - accuracy: 0.8660 - val_loss: 1.3597 - val_accuracy: 0.6197\n",
      "Epoch 20/50\n",
      "449/449 - 19s - loss: 0.3523 - accuracy: 0.8741 - val_loss: 1.4643 - val_accuracy: 0.6250\n",
      "\n",
      "Epoch 00020: ReduceLROnPlateau reducing learning rate to 0.0002500000118743628.\n"
     ]
    }
   ],
   "source": [
    "emotion_3 = model_3.fit( x = X_train, y = Y_train, \n",
    "                    batch_size = 64, \n",
    "                    epochs = 50, \n",
    "                    verbose = 2,\n",
    "                    validation_data=(X_test,Y_test),\n",
    "                    callbacks= callbacks\n",
    "                    )"
   ]
  },
  {
   "cell_type": "code",
   "execution_count": 37,
   "metadata": {
    "colab": {
     "base_uri": "https://localhost:8080/"
    },
    "id": "e_INv-70Fygx",
    "outputId": "ceac375d-e48f-48b9-8b71-efecd0d32370"
   },
   "outputs": [
    {
     "name": "stdout",
     "output_type": "stream",
     "text": [
      "113/113 - 1s - loss: 1.4643 - accuracy: 0.6250\n"
     ]
    },
    {
     "data": {
      "text/plain": [
       "[1.464269995689392, 0.6249651908874512]"
      ]
     },
     "execution_count": 37,
     "metadata": {},
     "output_type": "execute_result"
    }
   ],
   "source": [
    "model_3.evaluate(X_test,Y_test, verbose=2)"
   ]
  },
  {
   "cell_type": "code",
   "execution_count": 38,
   "metadata": {
    "colab": {
     "base_uri": "https://localhost:8080/",
     "height": 590
    },
    "id": "X7auAPvgGAoo",
    "outputId": "66deabe6-9178-4912-ad1d-b0baa53512d1"
   },
   "outputs": [
    {
     "name": "stdout",
     "output_type": "stream",
     "text": [
      "dict_keys(['loss', 'accuracy', 'val_loss', 'val_accuracy', 'lr'])\n"
     ]
    },
    {
     "data": {
      "image/png": "[encoded data removed]",
      "text/plain": [
       "<Figure size 432x288 with 1 Axes>"
      ]
     },
     "metadata": {
      "needs_background": "light"
     },
     "output_type": "display_data"
    },
    {
     "data": {
      "image/png": "[encoded data removed]",
      "text/plain": [
       "<Figure size 432x288 with 1 Axes>"
      ]
     },
     "metadata": {
      "needs_background": "light"
     },
     "output_type": "display_data"
    }
   ],
   "source": [
    "## Gathering model stats\n",
    "model_stats(emotion_2)"
   ]
  },
  {
   "cell_type": "code",
   "execution_count": 39,
   "metadata": {
    "id": "M7W1zsHnHVF5"
   },
   "outputs": [],
   "source": [
    "## Saving the model with best accuracy\n",
    "\n",
    "model_3.save(\"emotion_detection_model.h5\")\n"
   ]
  },
  {
   "cell_type": "markdown",
   "metadata": {
    "id": "rtIQnNKqckYv"
   },
   "source": [
    "## Loading the model and verifying the output of prediction"
   ]
  },
  {
   "cell_type": "code",
   "execution_count": 40,
   "metadata": {
    "colab": {
     "base_uri": "https://localhost:8080/"
    },
    "id": "ojKGEXzYchx9",
    "outputId": "5e0ebeeb-e14d-4ad4-969a-c818cc314b4b"
   },
   "outputs": [
    {
     "name": "stdout",
     "output_type": "stream",
     "text": [
      "Model: \"sequential_2\"\n",
      "_________________________________________________________________\n",
      "Layer (type)                 Output Shape              Param #   \n",
      "=================================================================\n",
      "conv2d_12 (Conv2D)           (None, 48, 48, 64)        1664      \n",
      "_________________________________________________________________\n",
      "conv2d_13 (Conv2D)           (None, 48, 48, 64)        102464    \n",
      "_________________________________________________________________\n",
      "batch_normalization_8 (Batch (None, 48, 48, 64)        256       \n",
      "_________________________________________________________________\n",
      "max_pooling2d_6 (MaxPooling2 (None, 24, 24, 64)        0         \n",
      "_________________________________________________________________\n",
      "dropout_5 (Dropout)          (None, 24, 24, 64)        0         \n",
      "_________________________________________________________________\n",
      "conv2d_14 (Conv2D)           (None, 24, 24, 128)       204928    \n",
      "_________________________________________________________________\n",
      "conv2d_15 (Conv2D)           (None, 24, 24, 128)       409728    \n",
      "_________________________________________________________________\n",
      "batch_normalization_9 (Batch (None, 24, 24, 128)       512       \n",
      "_________________________________________________________________\n",
      "max_pooling2d_7 (MaxPooling2 (None, 12, 12, 128)       0         \n",
      "_________________________________________________________________\n",
      "dropout_6 (Dropout)          (None, 12, 12, 128)       0         \n",
      "_________________________________________________________________\n",
      "conv2d_16 (Conv2D)           (None, 12, 12, 256)       819456    \n",
      "_________________________________________________________________\n",
      "conv2d_17 (Conv2D)           (None, 12, 12, 256)       1638656   \n",
      "_________________________________________________________________\n",
      "batch_normalization_10 (Batc (None, 12, 12, 256)       1024      \n",
      "_________________________________________________________________\n",
      "max_pooling2d_8 (MaxPooling2 (None, 6, 6, 256)         0         \n",
      "_________________________________________________________________\n",
      "dropout_7 (Dropout)          (None, 6, 6, 256)         0         \n",
      "_________________________________________________________________\n",
      "flatten_2 (Flatten)          (None, 9216)              0         \n",
      "_________________________________________________________________\n",
      "dense_4 (Dense)              (None, 128)               1179776   \n",
      "_________________________________________________________________\n",
      "batch_normalization_11 (Batc (None, 128)               512       \n",
      "_________________________________________________________________\n",
      "dropout_8 (Dropout)          (None, 128)               0         \n",
      "_________________________________________________________________\n",
      "dense_5 (Dense)              (None, 7)                 903       \n",
      "=================================================================\n",
      "Total params: 4,359,879\n",
      "Trainable params: 4,358,727\n",
      "Non-trainable params: 1,152\n",
      "_________________________________________________________________\n"
     ]
    }
   ],
   "source": [
    "## Loading the saved model using Keras\n",
    "new_model = load_model(\"emotion_detection_model.h5\")\n",
    "new_model.summary()"
   ]
  },
  {
   "cell_type": "code",
   "execution_count": 41,
   "metadata": {
    "id": "yi0aqh8tu1aj"
   },
   "outputs": [],
   "source": [
    "## Saving model to JSON\n",
    "\n",
    "fer_json = new_model.to_json()\n",
    "with open(\"fer.json\", \"w\") as json_file:\n",
    "    json_file.write(fer_json)"
   ]
  },
  {
   "cell_type": "code",
   "execution_count": 42,
   "metadata": {
    "id": "aib81rC4j-WW"
   },
   "outputs": [],
   "source": [
    "## Function to check prediction of Model\n",
    "def check_prediction(model,row_id,data_check,data_verify=None):\n",
    "  ## Predicting the output using model\n",
    "  predict = model.predict(data_check['pixels'][row_id].reshape(1,48,48,1))[0]\n",
    "  #print(predict)\n",
    "  a = 0\n",
    "  pos = 0\n",
    "  ## Getting the position of maximum probability of prediction\n",
    "  for i in range(len(predict)):\n",
    "    if predict[i] > a :\n",
    "      a = predict[i]\n",
    "      pos = i\n",
    "  emotion = {0 : \"Angry\", 1 : \"Disgust\", 2 : \"Fear\", 3 : \"Happy\", 4 : \"Sad\", 5 : \"Surprise\", 6 : \"Neutral\"}\n",
    "  print('Prediction Image--> '+ emotion[pos])\n",
    "\n",
    "  print(\"\\n\\nActual Image -->\")\n",
    "  ## Calling reusable function\n",
    "  view_image(data_verify,row_id)\n",
    "\n"
   ]
  },
  {
   "cell_type": "code",
   "execution_count": 43,
   "metadata": {
    "colab": {
     "base_uri": "https://localhost:8080/",
     "height": 352
    },
    "id": "0yu8eReRmMQL",
    "outputId": "44ea20cd-3d64-4ed3-836f-1ea4000313bb"
   },
   "outputs": [
    {
     "name": "stdout",
     "output_type": "stream",
     "text": [
      "Prediction Image--> Happy\n",
      "\n",
      "\n",
      "Actual Image -->\n",
      "3 Happy\n"
     ]
    },
    {
     "data": {
      "image/png": "[encoded data removed]",
      "text/plain": [
       "<Figure size 432x288 with 1 Axes>"
      ]
     },
     "metadata": {
      "needs_background": "light"
     },
     "output_type": "display_data"
    }
   ],
   "source": [
    "check_prediction(new_model,7997,df_face,df)"
   ]
  },
  {
   "cell_type": "code",
   "execution_count": 44,
   "metadata": {
    "colab": {
     "base_uri": "https://localhost:8080/",
     "height": 352
    },
    "id": "xO-6OB7emhMW",
    "outputId": "8e09279f-9ca6-4e74-ab95-874aa1eef026"
   },
   "outputs": [
    {
     "name": "stdout",
     "output_type": "stream",
     "text": [
      "Prediction Image--> Angry\n",
      "\n",
      "\n",
      "Actual Image -->\n",
      "0 Angry\n"
     ]
    },
    {
     "data": {
      "image/png": "[encoded data removed]",
      "text/plain": [
       "<Figure size 432x288 with 1 Axes>"
      ]
     },
     "metadata": {
      "needs_background": "light"
     },
     "output_type": "display_data"
    }
   ],
   "source": [
    "check_prediction(new_model,765,df_face,df)"
   ]
  },
  {
   "cell_type": "code",
   "execution_count": 45,
   "metadata": {
    "colab": {
     "base_uri": "https://localhost:8080/",
     "height": 352
    },
    "id": "-sAdBa7cn8N9",
    "outputId": "735d7f2b-6551-4095-bf8a-0912eb1ffb38"
   },
   "outputs": [
    {
     "name": "stdout",
     "output_type": "stream",
     "text": [
      "Prediction Image--> Fear\n",
      "\n",
      "\n",
      "Actual Image -->\n",
      "2 Fear\n"
     ]
    },
    {
     "data": {
      "image/png": "[encoded data removed]",
      "text/plain": [
       "<Figure size 432x288 with 1 Axes>"
      ]
     },
     "metadata": {
      "needs_background": "light"
     },
     "output_type": "display_data"
    }
   ],
   "source": [
    "check_prediction(new_model,1389,df_face,df)"
   ]
  },
  {
   "cell_type": "code",
   "execution_count": 46,
   "metadata": {
    "colab": {
     "base_uri": "https://localhost:8080/",
     "height": 352
    },
    "id": "SGXMww-FoKC2",
    "outputId": "c2da3365-be21-431d-b101-8e13ed7435f1"
   },
   "outputs": [
    {
     "name": "stdout",
     "output_type": "stream",
     "text": [
      "Prediction Image--> Happy\n",
      "\n",
      "\n",
      "Actual Image -->\n",
      "3 Happy\n"
     ]
    },
    {
     "data": {
      "image/png": "[encoded data removed]",
      "text/plain": [
       "<Figure size 432x288 with 1 Axes>"
      ]
     },
     "metadata": {
      "needs_background": "light"
     },
     "output_type": "display_data"
    }
   ],
   "source": [
    "check_prediction(new_model,7685,df_face,df)"
   ]
  },
  {
   "cell_type": "markdown",
   "metadata": {
    "id": "yTpZMveBpKGU"
   },
   "source": [
    "## OpenCV - Using Haar Cascade file to check emotion in real time"
   ]
  },
  {
   "cell_type": "code",
   "execution_count": 47,
   "metadata": {
    "id": "RXCTLwCPouJN"
   },
   "outputs": [],
   "source": [
    "## Importing Libraries\n",
    "\n",
    "import os\n",
    "import cv2\n",
    "import numpy as np\n",
    "from keras.models import model_from_json\n",
    "from keras.preprocessing import image"
   ]
  },
  {
   "cell_type": "code",
   "execution_count": 50,
   "metadata": {
    "id": "mIn26D8LuPIW"
   },
   "outputs": [],
   "source": [
    "#load model\n",
    "model_realtime = model_from_json(open(\"fer.json\", \"r\").read())\n",
    "#load weights\n",
    "model_realtime.load_weights('emotion_detection_model.h5')\n",
    "\n",
    "#loading Haar Cascade weights\n",
    "face_haar_cascade = cv2.CascadeClassifier('haarcascade_frontalface_default.xml')"
   ]
  },
  {
   "cell_type": "code",
   "execution_count": null,
   "metadata": {
    "id": "HoZjxJ3e772n"
   },
   "outputs": [],
   "source": [
    "cap=cv2.VideoCapture(0)\n",
    "\n",
    "while True:\n",
    "    ret,test_img=cap.read()# captures frame and returns boolean value and captured image\n",
    "    \n",
    "    if not ret:\n",
    "        continue\n",
    "    gray_img= cv2.cvtColor(test_img, cv2.COLOR_BGR2GRAY)\n",
    "\n",
    "    faces_detected = face_haar_cascade.detectMultiScale(gray_img, 1.32, 5)\n",
    "\n",
    "\n",
    "    for (x,y,w,h) in faces_detected:\n",
    "        cv2.rectangle(test_img,(x,y),(x+w,y+h),(255,0,0),thickness=7)\n",
    "        roi_gray=gray_img[y:y+w,x:x+h]#cropping region of interest i.e. face area from  image\n",
    "        roi_gray=cv2.resize(roi_gray,(48,48))\n",
    "        img_pixels = image.img_to_array(roi_gray)\n",
    "        img_pixels = np.expand_dims(img_pixels, axis = 0)\n",
    "        img_pixels /= 255\n",
    "\n",
    "        predictions = model_realtime.predict(img_pixels)\n",
    "\n",
    "        #find max indexed array\n",
    "        max_index = np.argmax(predictions[0])\n",
    "\n",
    "        emotions = ('angry', 'disgust', 'fear', 'happy', 'sad', 'surprise', 'neutral')\n",
    "        predicted_emotion = emotions[max_index]\n",
    "\n",
    "        cv2.putText(test_img, predicted_emotion, (int(x), int(y)), cv2.FONT_HERSHEY_SIMPLEX, 1, (0,0,255), 2)\n",
    "\n",
    "    resized_img = cv2.resize(test_img, (1000, 700))\n",
    "    cv2.imshow('Facial emotion analysis ',resized_img)\n",
    "\n",
    "\n",
    "\n",
    "    if cv2.waitKey(10) == ord('q'):#wait until 'q' key is pressed\n",
    "        break\n",
    "\n",
    "cap.release()\n",
    "cv2.destroyAllWindows"
   ]
  },
  {
   "cell_type": "code",
   "execution_count": null,
   "metadata": {
    "id": "jF8lHUV17-5U"
   },
   "outputs": [],
   "source": []
  },
  {
   "cell_type": "markdown",
   "metadata": {
    "id": "kdef4JCvAuQ9"
   },
   "source": [
    "## Summary"
   ]
  },
  {
   "cell_type": "markdown",
   "metadata": {
    "id": "7jbAeenYA4mm"
   },
   "source": [
    "- Fer Dataset is inported into dataframe\n",
    "- Data is splitted in different pixels values\n",
    "- Pixels are converted into float32 and then normalised\n",
    "- Data is then divided into train, test and validation based on usgae column\n",
    "- Similarly the target variable is also converted to categorical value\n",
    "- A basic model is created, complied and model is trainned\n",
    "- Then the model is tuned by adding dropout layer and the model is complied and trainned\n",
    "- In next stage callback is used for early stopping\n",
    "- The final model is then saved as h5 and json format\n",
    "- Prediction is performed on the model\n",
    "- Finally the model is used for real time emotion prediction using Haar Casacade of face detection \n"
   ]
  },
  {
   "cell_type": "code",
   "execution_count": null,
   "metadata": {
    "id": "bbQ9ubMwA8wu"
   },
   "outputs": [],
   "source": []
  }
 ],
 "metadata": {
  "accelerator": "GPU",
  "colab": {
   "machine_shape": "hm",
   "name": "Assignment_4_file_2.ipynb",
   "provenance": []
  },
  "kernelspec": {
   "display_name": "Python 3",
   "language": "python",
   "name": "python3"
  },
  "language_info": {
   "codemirror_mode": {
    "name": "ipython",
    "version": 3
   },
   "file_extension": ".py",
   "mimetype": "text/x-python",
   "name": "python",
   "nbconvert_exporter": "python",
   "pygments_lexer": "ipython3",
   "version": "3.7.6"
  }
 },
 "nbformat": 4,
 "nbformat_minor": 1
}
