{
 "cells": [
  {
   "cell_type": "markdown",
   "metadata": {},
   "source": [
    "# Forecast Cab Booking Demand"
   ]
  },
  {
   "cell_type": "markdown",
   "metadata": {},
   "source": [
    "#### Importing Required Libraries"
   ]
  },
  {
   "cell_type": "code",
   "execution_count": 1,
   "metadata": {},
   "outputs": [],
   "source": [
    "import pandas as pd\n",
    "from pandas.api.types import CategoricalDtype\n",
    "import numpy as np \n",
    "from datetime import datetime\n",
    "import sys\n",
    "import math\n",
    "\n",
    "#package for encoding catergorical column\n",
    "from sklearn.preprocessing import OneHotEncoder\n",
    "from sklearn.preprocessing import StandardScaler\n",
    "from sklearn.model_selection import KFold,cross_validate\n",
    "from sklearn.model_selection import GridSearchCV\n",
    "#machine learning algorithms\n",
    "from sklearn.svm import SVR\n",
    "from sklearn.ensemble import RandomForestRegressor\n",
    "from sklearn.ensemble import AdaBoostRegressor\n",
    "from sklearn.ensemble import BaggingRegressor\n",
    "from sklearn.neighbors import KNeighborsRegressor\n",
    "#metrics\n",
    "from sklearn.metrics import confusion_matrix,r2_score\n",
    "from sklearn.metrics import mean_squared_error\n",
    "from sklearn.metrics import mean_squared_log_error\n",
    "from sklearn.metrics import accuracy_score\n",
    "\n",
    "\n",
    "\n",
    "# Visualization\n",
    "import matplotlib.pyplot as plt\n",
    "%matplotlib inline\n",
    "import seaborn as sns"
   ]
  },
  {
   "cell_type": "markdown",
   "metadata": {},
   "source": [
    "#### Ignoring warning"
   ]
  },
  {
   "cell_type": "code",
   "execution_count": 2,
   "metadata": {},
   "outputs": [],
   "source": [
    "import warnings\n",
    "warnings.filterwarnings(\"ignore\")"
   ]
  },
  {
   "cell_type": "markdown",
   "metadata": {},
   "source": [
    "#### Loading Test and Train Data. Also verifying it's properties"
   ]
  },
  {
   "cell_type": "code",
   "execution_count": 3,
   "metadata": {},
   "outputs": [],
   "source": [
    "train = pd.read_csv('Dataset/train.csv')\n",
    "test = pd.read_csv('Dataset/test.csv')\n",
    "\n",
    "train_lab = pd.read_csv('Dataset/train_label.csv', header=None)\n",
    "train_lab.columns =['total_booking'] # Adding Column name in data\n",
    "\n",
    "test_lab = pd.read_csv('Dataset/test_label.csv', header=None)\n",
    "test_lab.columns =['total_booking']  # Adding Column name in data"
   ]
  },
  {
   "cell_type": "markdown",
   "metadata": {},
   "source": [
    "#### Appending the two datasets for Train and Test"
   ]
  },
  {
   "cell_type": "code",
   "execution_count": 4,
   "metadata": {},
   "outputs": [],
   "source": [
    "train = pd.concat([train, train_lab], axis=1)\n",
    "test = pd.concat([test, test_lab], axis=1)"
   ]
  },
  {
   "cell_type": "code",
   "execution_count": 5,
   "metadata": {},
   "outputs": [
    {
     "name": "stdout",
     "output_type": "stream",
     "text": [
      "Shape of training data:  (8708, 10)\n",
      "Shape of training data:  (8708, 1)\n",
      "Shape of test data:      (2178, 10)\n",
      "Shape of test data:      (2178, 1)\n"
     ]
    }
   ],
   "source": [
    "print(\"Shape of training data: \",train.shape)\n",
    "print(\"Shape of training data: \",train_lab.shape)\n",
    "print(\"Shape of test data:     \",test.shape)\n",
    "print(\"Shape of test data:     \",test_lab.shape)"
   ]
  },
  {
   "cell_type": "markdown",
   "metadata": {},
   "source": [
    "#### Datatype of Traning Data"
   ]
  },
  {
   "cell_type": "code",
   "execution_count": 6,
   "metadata": {},
   "outputs": [
    {
     "data": {
      "text/plain": [
       "datetime          object\n",
       "season            object\n",
       "holiday            int64\n",
       "workingday         int64\n",
       "weather           object\n",
       "temp             float64\n",
       "atemp            float64\n",
       "humidity           int64\n",
       "windspeed        float64\n",
       "total_booking      int64\n",
       "dtype: object"
      ]
     },
     "execution_count": 6,
     "metadata": {},
     "output_type": "execute_result"
    }
   ],
   "source": [
    "train.dtypes"
   ]
  },
  {
   "cell_type": "markdown",
   "metadata": {},
   "source": [
    "#### Datatype of Test Data"
   ]
  },
  {
   "cell_type": "code",
   "execution_count": 7,
   "metadata": {},
   "outputs": [
    {
     "data": {
      "text/plain": [
       "datetime          object\n",
       "season            object\n",
       "holiday            int64\n",
       "workingday         int64\n",
       "weather           object\n",
       "temp             float64\n",
       "atemp            float64\n",
       "humidity           int64\n",
       "windspeed        float64\n",
       "total_booking      int64\n",
       "dtype: object"
      ]
     },
     "execution_count": 7,
     "metadata": {},
     "output_type": "execute_result"
    }
   ],
   "source": [
    "test.dtypes"
   ]
  },
  {
   "cell_type": "markdown",
   "metadata": {},
   "source": [
    "\n",
    "\n",
    "\n",
    "#### Check for missing values in Train and Test Data"
   ]
  },
  {
   "cell_type": "code",
   "execution_count": 8,
   "metadata": {},
   "outputs": [
    {
     "data": {
      "text/plain": [
       "datetime         0\n",
       "season           0\n",
       "holiday          0\n",
       "workingday       0\n",
       "weather          0\n",
       "temp             0\n",
       "atemp            0\n",
       "humidity         0\n",
       "windspeed        0\n",
       "total_booking    0\n",
       "dtype: int64"
      ]
     },
     "execution_count": 8,
     "metadata": {},
     "output_type": "execute_result"
    }
   ],
   "source": [
    "train.isnull().sum()"
   ]
  },
  {
   "cell_type": "code",
   "execution_count": 9,
   "metadata": {},
   "outputs": [
    {
     "data": {
      "text/plain": [
       "datetime         0\n",
       "season           0\n",
       "holiday          0\n",
       "workingday       0\n",
       "weather          0\n",
       "temp             0\n",
       "atemp            0\n",
       "humidity         0\n",
       "windspeed        0\n",
       "total_booking    0\n",
       "dtype: int64"
      ]
     },
     "execution_count": 9,
     "metadata": {},
     "output_type": "execute_result"
    }
   ],
   "source": [
    "test.isnull().sum()"
   ]
  },
  {
   "cell_type": "markdown",
   "metadata": {},
   "source": [
    "#### Feature Engineering on Datetime column\n",
    "#### Label Encoding Season and Weather into categories"
   ]
  },
  {
   "cell_type": "code",
   "execution_count": 10,
   "metadata": {},
   "outputs": [],
   "source": [
    "#Defining Categories for columns\n",
    "season_type = CategoricalDtype(categories=train['season'].unique(), ordered=True)\n",
    "holiday_type = CategoricalDtype(categories=train['holiday'].unique(), ordered=True)\n",
    "workingday_type = CategoricalDtype(categories=train['workingday'].unique(), ordered=True)\n",
    "weather_type = CategoricalDtype(categories=train['weather'].unique(), ordered=True)"
   ]
  },
  {
   "cell_type": "code",
   "execution_count": 11,
   "metadata": {},
   "outputs": [],
   "source": [
    "#Function to for feature extraction\n",
    "\n",
    "def feature_extract(df):\n",
    "    df[\"datetime\"] = pd.to_datetime(df[\"datetime\"])\n",
    "    df[\"month\"] = df[\"datetime\"].dt.month\n",
    "    df[\"day\"] = df[\"datetime\"].dt.day\n",
    "    df[\"hour\"] = df[\"datetime\"].dt.hour\n",
    "    df[\"weekday\"] = df[\"datetime\"].dt.weekday\n",
    "\n",
    "    # Dropping Column Date time\n",
    "    df.drop(columns = [\"datetime\"], inplace=True)\n",
    "    \n",
    "    #Coerceing Columns into Category type\n",
    "    df['season'] = df['season'].astype(season_type)\n",
    "    df['holiday'] = df['holiday'].astype(holiday_type)\n",
    "    df['workingday'] = df['workingday'].astype(workingday_type)\n",
    "    df['weather'] = df['weather'].astype(weather_type)\n",
    "    \n",
    "    # creating instance of labelencoder\n",
    "    #labelencoder = LabelEncoder()\n",
    "    #df[\"season_cat\"] = labelencoder.fit_transform(df[\"season\"])\n",
    "    #df[\"weather_cat\"] = labelencoder.fit_transform(df[\"weather\"])\n",
    "    \n",
    "    return df    "
   ]
  },
  {
   "cell_type": "code",
   "execution_count": 12,
   "metadata": {},
   "outputs": [
    {
     "data": {
      "text/plain": [
       "season           category\n",
       "holiday          category\n",
       "workingday       category\n",
       "weather          category\n",
       "temp              float64\n",
       "atemp             float64\n",
       "humidity            int64\n",
       "windspeed         float64\n",
       "total_booking       int64\n",
       "month               int64\n",
       "day                 int64\n",
       "hour                int64\n",
       "weekday             int64\n",
       "dtype: object"
      ]
     },
     "execution_count": 12,
     "metadata": {},
     "output_type": "execute_result"
    }
   ],
   "source": [
    "train = feature_extract(train)\n",
    "train.head()\n",
    "train.dtypes"
   ]
  },
  {
   "cell_type": "code",
   "execution_count": 13,
   "metadata": {
    "scrolled": true
   },
   "outputs": [
    {
     "data": {
      "text/plain": [
       "season           category\n",
       "holiday          category\n",
       "workingday       category\n",
       "weather          category\n",
       "temp              float64\n",
       "atemp             float64\n",
       "humidity            int64\n",
       "windspeed         float64\n",
       "total_booking       int64\n",
       "month               int64\n",
       "day                 int64\n",
       "hour                int64\n",
       "weekday             int64\n",
       "dtype: object"
      ]
     },
     "execution_count": 13,
     "metadata": {},
     "output_type": "execute_result"
    }
   ],
   "source": [
    "test = feature_extract(test)\n",
    "test.head()\n",
    "test.dtypes"
   ]
  },
  {
   "cell_type": "code",
   "execution_count": 14,
   "metadata": {},
   "outputs": [
    {
     "data": {
      "text/html": [
       "<div>\n",
       "<style scoped>\n",
       "    .dataframe tbody tr th:only-of-type {\n",
       "        vertical-align: middle;\n",
       "    }\n",
       "\n",
       "    .dataframe tbody tr th {\n",
       "        vertical-align: top;\n",
       "    }\n",
       "\n",
       "    .dataframe thead th {\n",
       "        text-align: right;\n",
       "    }\n",
       "</style>\n",
       "<table border=\"1\" class=\"dataframe\">\n",
       "  <thead>\n",
       "    <tr style=\"text-align: right;\">\n",
       "      <th></th>\n",
       "      <th>temp</th>\n",
       "      <th>atemp</th>\n",
       "      <th>humidity</th>\n",
       "      <th>windspeed</th>\n",
       "      <th>total_booking</th>\n",
       "      <th>month</th>\n",
       "      <th>day</th>\n",
       "      <th>hour</th>\n",
       "      <th>weekday</th>\n",
       "    </tr>\n",
       "  </thead>\n",
       "  <tbody>\n",
       "    <tr>\n",
       "      <th>count</th>\n",
       "      <td>8708.000000</td>\n",
       "      <td>8708.000000</td>\n",
       "      <td>8708.000000</td>\n",
       "      <td>8708.000000</td>\n",
       "      <td>8708.000000</td>\n",
       "      <td>8708.000000</td>\n",
       "      <td>8708.000000</td>\n",
       "      <td>8708.000000</td>\n",
       "      <td>8708.000000</td>\n",
       "    </tr>\n",
       "    <tr>\n",
       "      <th>mean</th>\n",
       "      <td>20.243020</td>\n",
       "      <td>23.655552</td>\n",
       "      <td>61.649173</td>\n",
       "      <td>12.843891</td>\n",
       "      <td>193.007005</td>\n",
       "      <td>6.528709</td>\n",
       "      <td>10.009531</td>\n",
       "      <td>11.581190</td>\n",
       "      <td>3.015618</td>\n",
       "    </tr>\n",
       "    <tr>\n",
       "      <th>std</th>\n",
       "      <td>7.813494</td>\n",
       "      <td>8.501107</td>\n",
       "      <td>19.199578</td>\n",
       "      <td>8.190314</td>\n",
       "      <td>181.552211</td>\n",
       "      <td>3.440879</td>\n",
       "      <td>5.480540</td>\n",
       "      <td>6.890534</td>\n",
       "      <td>2.006246</td>\n",
       "    </tr>\n",
       "    <tr>\n",
       "      <th>min</th>\n",
       "      <td>0.820000</td>\n",
       "      <td>0.760000</td>\n",
       "      <td>0.000000</td>\n",
       "      <td>0.000000</td>\n",
       "      <td>1.000000</td>\n",
       "      <td>1.000000</td>\n",
       "      <td>1.000000</td>\n",
       "      <td>0.000000</td>\n",
       "      <td>0.000000</td>\n",
       "    </tr>\n",
       "    <tr>\n",
       "      <th>25%</th>\n",
       "      <td>13.940000</td>\n",
       "      <td>16.665000</td>\n",
       "      <td>46.000000</td>\n",
       "      <td>7.001500</td>\n",
       "      <td>43.000000</td>\n",
       "      <td>4.000000</td>\n",
       "      <td>5.000000</td>\n",
       "      <td>6.000000</td>\n",
       "      <td>1.000000</td>\n",
       "    </tr>\n",
       "    <tr>\n",
       "      <th>50%</th>\n",
       "      <td>20.500000</td>\n",
       "      <td>24.240000</td>\n",
       "      <td>61.000000</td>\n",
       "      <td>12.998000</td>\n",
       "      <td>148.000000</td>\n",
       "      <td>7.000000</td>\n",
       "      <td>10.000000</td>\n",
       "      <td>12.000000</td>\n",
       "      <td>3.000000</td>\n",
       "    </tr>\n",
       "    <tr>\n",
       "      <th>75%</th>\n",
       "      <td>26.240000</td>\n",
       "      <td>31.060000</td>\n",
       "      <td>77.000000</td>\n",
       "      <td>16.997900</td>\n",
       "      <td>286.000000</td>\n",
       "      <td>10.000000</td>\n",
       "      <td>15.000000</td>\n",
       "      <td>18.000000</td>\n",
       "      <td>5.000000</td>\n",
       "    </tr>\n",
       "    <tr>\n",
       "      <th>max</th>\n",
       "      <td>41.000000</td>\n",
       "      <td>45.455000</td>\n",
       "      <td>100.000000</td>\n",
       "      <td>56.996900</td>\n",
       "      <td>977.000000</td>\n",
       "      <td>12.000000</td>\n",
       "      <td>19.000000</td>\n",
       "      <td>23.000000</td>\n",
       "      <td>6.000000</td>\n",
       "    </tr>\n",
       "  </tbody>\n",
       "</table>\n",
       "</div>"
      ],
      "text/plain": [
       "              temp        atemp     humidity    windspeed  total_booking  \\\n",
       "count  8708.000000  8708.000000  8708.000000  8708.000000    8708.000000   \n",
       "mean     20.243020    23.655552    61.649173    12.843891     193.007005   \n",
       "std       7.813494     8.501107    19.199578     8.190314     181.552211   \n",
       "min       0.820000     0.760000     0.000000     0.000000       1.000000   \n",
       "25%      13.940000    16.665000    46.000000     7.001500      43.000000   \n",
       "50%      20.500000    24.240000    61.000000    12.998000     148.000000   \n",
       "75%      26.240000    31.060000    77.000000    16.997900     286.000000   \n",
       "max      41.000000    45.455000   100.000000    56.996900     977.000000   \n",
       "\n",
       "             month          day         hour      weekday  \n",
       "count  8708.000000  8708.000000  8708.000000  8708.000000  \n",
       "mean      6.528709    10.009531    11.581190     3.015618  \n",
       "std       3.440879     5.480540     6.890534     2.006246  \n",
       "min       1.000000     1.000000     0.000000     0.000000  \n",
       "25%       4.000000     5.000000     6.000000     1.000000  \n",
       "50%       7.000000    10.000000    12.000000     3.000000  \n",
       "75%      10.000000    15.000000    18.000000     5.000000  \n",
       "max      12.000000    19.000000    23.000000     6.000000  "
      ]
     },
     "execution_count": 14,
     "metadata": {},
     "output_type": "execute_result"
    }
   ],
   "source": [
    "train.describe()"
   ]
  },
  {
   "cell_type": "markdown",
   "metadata": {},
   "source": [
    "### Using Box Plot to find outliers"
   ]
  },
  {
   "cell_type": "code",
   "execution_count": 15,
   "metadata": {},
   "outputs": [
    {
     "data": {
      "image/png": "[encoded data removed]",
      "text/plain": [
       "<Figure size 1224x864 with 1 Axes>"
      ]
     },
     "metadata": {
      "needs_background": "light"
     },
     "output_type": "display_data"
    }
   ],
   "source": [
    "train.boxplot(figsize=(17,12))\n",
    "plt.show()"
   ]
  },
  {
   "cell_type": "markdown",
   "metadata": {},
   "source": [
    "#### Observations from Box Plot:\n",
    "###### 1. Windspeed has outliers\n",
    "###### 2. Total Booking has outliers\n",
    "\n",
    "\n",
    "#### Removing the outliers"
   ]
  },
  {
   "cell_type": "code",
   "execution_count": 16,
   "metadata": {},
   "outputs": [],
   "source": [
    "percentiles = train['windspeed'].quantile([0.01,0.97]).values #Filtering 1%(0-1), 1%(97-100) extreme outlier data\n",
    "train['windspeed'] = np.clip(train['windspeed'], percentiles[0], percentiles[1])"
   ]
  },
  {
   "cell_type": "code",
   "execution_count": 17,
   "metadata": {},
   "outputs": [],
   "source": [
    "percentiles = train['total_booking'].quantile([0.01,0.97]).values #Filtering 1%(0-1), 1%(97-100) extreme outlier data\n",
    "train['total_booking'] = np.clip(train['total_booking'], percentiles[0], percentiles[1])"
   ]
  },
  {
   "cell_type": "markdown",
   "metadata": {},
   "source": [
    "#### Verifying if outliers has been removed using Box Plot"
   ]
  },
  {
   "cell_type": "code",
   "execution_count": 18,
   "metadata": {},
   "outputs": [
    {
     "data": {
      "image/png": "[encoded data removed]",
      "text/plain": [
       "<Figure size 1224x864 with 1 Axes>"
      ]
     },
     "metadata": {
      "needs_background": "light"
     },
     "output_type": "display_data"
    }
   ],
   "source": [
    "train.boxplot(figsize=(17,12))\n",
    "plt.show()"
   ]
  },
  {
   "cell_type": "markdown",
   "metadata": {},
   "source": [
    "#### Describing the data to verify it's details"
   ]
  },
  {
   "cell_type": "code",
   "execution_count": 19,
   "metadata": {},
   "outputs": [
    {
     "data": {
      "text/html": [
       "<div>\n",
       "<style scoped>\n",
       "    .dataframe tbody tr th:only-of-type {\n",
       "        vertical-align: middle;\n",
       "    }\n",
       "\n",
       "    .dataframe tbody tr th {\n",
       "        vertical-align: top;\n",
       "    }\n",
       "\n",
       "    .dataframe thead th {\n",
       "        text-align: right;\n",
       "    }\n",
       "</style>\n",
       "<table border=\"1\" class=\"dataframe\">\n",
       "  <thead>\n",
       "    <tr style=\"text-align: right;\">\n",
       "      <th></th>\n",
       "      <th>temp</th>\n",
       "      <th>atemp</th>\n",
       "      <th>humidity</th>\n",
       "      <th>windspeed</th>\n",
       "      <th>total_booking</th>\n",
       "      <th>month</th>\n",
       "      <th>day</th>\n",
       "      <th>hour</th>\n",
       "      <th>weekday</th>\n",
       "    </tr>\n",
       "  </thead>\n",
       "  <tbody>\n",
       "    <tr>\n",
       "      <th>count</th>\n",
       "      <td>8708.000000</td>\n",
       "      <td>8708.000000</td>\n",
       "      <td>8708.000000</td>\n",
       "      <td>8708.000000</td>\n",
       "      <td>8708.000000</td>\n",
       "      <td>8708.000000</td>\n",
       "      <td>8708.000000</td>\n",
       "      <td>8708.000000</td>\n",
       "      <td>8708.000000</td>\n",
       "    </tr>\n",
       "    <tr>\n",
       "      <th>mean</th>\n",
       "      <td>20.243020</td>\n",
       "      <td>23.655552</td>\n",
       "      <td>61.649173</td>\n",
       "      <td>12.703306</td>\n",
       "      <td>189.887804</td>\n",
       "      <td>6.528709</td>\n",
       "      <td>10.009531</td>\n",
       "      <td>11.581190</td>\n",
       "      <td>3.015618</td>\n",
       "    </tr>\n",
       "    <tr>\n",
       "      <th>std</th>\n",
       "      <td>7.813494</td>\n",
       "      <td>8.501107</td>\n",
       "      <td>19.199578</td>\n",
       "      <td>7.811796</td>\n",
       "      <td>172.103025</td>\n",
       "      <td>3.440879</td>\n",
       "      <td>5.480540</td>\n",
       "      <td>6.890534</td>\n",
       "      <td>2.006246</td>\n",
       "    </tr>\n",
       "    <tr>\n",
       "      <th>min</th>\n",
       "      <td>0.820000</td>\n",
       "      <td>0.760000</td>\n",
       "      <td>0.000000</td>\n",
       "      <td>0.000000</td>\n",
       "      <td>2.000000</td>\n",
       "      <td>1.000000</td>\n",
       "      <td>1.000000</td>\n",
       "      <td>0.000000</td>\n",
       "      <td>0.000000</td>\n",
       "    </tr>\n",
       "    <tr>\n",
       "      <th>25%</th>\n",
       "      <td>13.940000</td>\n",
       "      <td>16.665000</td>\n",
       "      <td>46.000000</td>\n",
       "      <td>7.001500</td>\n",
       "      <td>43.000000</td>\n",
       "      <td>4.000000</td>\n",
       "      <td>5.000000</td>\n",
       "      <td>6.000000</td>\n",
       "      <td>1.000000</td>\n",
       "    </tr>\n",
       "    <tr>\n",
       "      <th>50%</th>\n",
       "      <td>20.500000</td>\n",
       "      <td>24.240000</td>\n",
       "      <td>61.000000</td>\n",
       "      <td>12.998000</td>\n",
       "      <td>148.000000</td>\n",
       "      <td>7.000000</td>\n",
       "      <td>10.000000</td>\n",
       "      <td>12.000000</td>\n",
       "      <td>3.000000</td>\n",
       "    </tr>\n",
       "    <tr>\n",
       "      <th>75%</th>\n",
       "      <td>26.240000</td>\n",
       "      <td>31.060000</td>\n",
       "      <td>77.000000</td>\n",
       "      <td>16.997900</td>\n",
       "      <td>286.000000</td>\n",
       "      <td>10.000000</td>\n",
       "      <td>15.000000</td>\n",
       "      <td>18.000000</td>\n",
       "      <td>5.000000</td>\n",
       "    </tr>\n",
       "    <tr>\n",
       "      <th>max</th>\n",
       "      <td>41.000000</td>\n",
       "      <td>45.455000</td>\n",
       "      <td>100.000000</td>\n",
       "      <td>30.002600</td>\n",
       "      <td>641.000000</td>\n",
       "      <td>12.000000</td>\n",
       "      <td>19.000000</td>\n",
       "      <td>23.000000</td>\n",
       "      <td>6.000000</td>\n",
       "    </tr>\n",
       "  </tbody>\n",
       "</table>\n",
       "</div>"
      ],
      "text/plain": [
       "              temp        atemp     humidity    windspeed  total_booking  \\\n",
       "count  8708.000000  8708.000000  8708.000000  8708.000000    8708.000000   \n",
       "mean     20.243020    23.655552    61.649173    12.703306     189.887804   \n",
       "std       7.813494     8.501107    19.199578     7.811796     172.103025   \n",
       "min       0.820000     0.760000     0.000000     0.000000       2.000000   \n",
       "25%      13.940000    16.665000    46.000000     7.001500      43.000000   \n",
       "50%      20.500000    24.240000    61.000000    12.998000     148.000000   \n",
       "75%      26.240000    31.060000    77.000000    16.997900     286.000000   \n",
       "max      41.000000    45.455000   100.000000    30.002600     641.000000   \n",
       "\n",
       "             month          day         hour      weekday  \n",
       "count  8708.000000  8708.000000  8708.000000  8708.000000  \n",
       "mean      6.528709    10.009531    11.581190     3.015618  \n",
       "std       3.440879     5.480540     6.890534     2.006246  \n",
       "min       1.000000     1.000000     0.000000     0.000000  \n",
       "25%       4.000000     5.000000     6.000000     1.000000  \n",
       "50%       7.000000    10.000000    12.000000     3.000000  \n",
       "75%      10.000000    15.000000    18.000000     5.000000  \n",
       "max      12.000000    19.000000    23.000000     6.000000  "
      ]
     },
     "execution_count": 19,
     "metadata": {},
     "output_type": "execute_result"
    }
   ],
   "source": [
    "train.describe()"
   ]
  },
  {
   "cell_type": "code",
   "execution_count": 20,
   "metadata": {},
   "outputs": [
    {
     "data": {
      "text/html": [
       "<div>\n",
       "<style scoped>\n",
       "    .dataframe tbody tr th:only-of-type {\n",
       "        vertical-align: middle;\n",
       "    }\n",
       "\n",
       "    .dataframe tbody tr th {\n",
       "        vertical-align: top;\n",
       "    }\n",
       "\n",
       "    .dataframe thead th {\n",
       "        text-align: right;\n",
       "    }\n",
       "</style>\n",
       "<table border=\"1\" class=\"dataframe\">\n",
       "  <thead>\n",
       "    <tr style=\"text-align: right;\">\n",
       "      <th></th>\n",
       "      <th>season</th>\n",
       "      <th>holiday</th>\n",
       "      <th>workingday</th>\n",
       "      <th>weather</th>\n",
       "      <th>temp</th>\n",
       "      <th>atemp</th>\n",
       "      <th>humidity</th>\n",
       "      <th>windspeed</th>\n",
       "      <th>total_booking</th>\n",
       "      <th>month</th>\n",
       "      <th>day</th>\n",
       "      <th>hour</th>\n",
       "      <th>weekday</th>\n",
       "    </tr>\n",
       "  </thead>\n",
       "  <tbody>\n",
       "    <tr>\n",
       "      <th>0</th>\n",
       "      <td>Summer</td>\n",
       "      <td>0</td>\n",
       "      <td>1</td>\n",
       "      <td>Clear + Few clouds</td>\n",
       "      <td>22.14</td>\n",
       "      <td>25.760</td>\n",
       "      <td>77</td>\n",
       "      <td>16.9979</td>\n",
       "      <td>504</td>\n",
       "      <td>5</td>\n",
       "      <td>2</td>\n",
       "      <td>19</td>\n",
       "      <td>2</td>\n",
       "    </tr>\n",
       "    <tr>\n",
       "      <th>1</th>\n",
       "      <td>Fall</td>\n",
       "      <td>0</td>\n",
       "      <td>1</td>\n",
       "      <td>Clear + Few clouds</td>\n",
       "      <td>28.70</td>\n",
       "      <td>33.335</td>\n",
       "      <td>79</td>\n",
       "      <td>19.0012</td>\n",
       "      <td>5</td>\n",
       "      <td>9</td>\n",
       "      <td>5</td>\n",
       "      <td>4</td>\n",
       "      <td>2</td>\n",
       "    </tr>\n",
       "    <tr>\n",
       "      <th>2</th>\n",
       "      <td>Spring</td>\n",
       "      <td>0</td>\n",
       "      <td>1</td>\n",
       "      <td>Clear + Few clouds</td>\n",
       "      <td>5.74</td>\n",
       "      <td>6.060</td>\n",
       "      <td>50</td>\n",
       "      <td>22.0028</td>\n",
       "      <td>139</td>\n",
       "      <td>1</td>\n",
       "      <td>13</td>\n",
       "      <td>9</td>\n",
       "      <td>3</td>\n",
       "    </tr>\n",
       "    <tr>\n",
       "      <th>3</th>\n",
       "      <td>Winter</td>\n",
       "      <td>0</td>\n",
       "      <td>1</td>\n",
       "      <td>Clear + Few clouds</td>\n",
       "      <td>13.94</td>\n",
       "      <td>16.665</td>\n",
       "      <td>29</td>\n",
       "      <td>8.9981</td>\n",
       "      <td>209</td>\n",
       "      <td>11</td>\n",
       "      <td>18</td>\n",
       "      <td>16</td>\n",
       "      <td>4</td>\n",
       "    </tr>\n",
       "    <tr>\n",
       "      <th>4</th>\n",
       "      <td>Fall</td>\n",
       "      <td>0</td>\n",
       "      <td>1</td>\n",
       "      <td>Clear + Few clouds</td>\n",
       "      <td>30.34</td>\n",
       "      <td>33.335</td>\n",
       "      <td>51</td>\n",
       "      <td>19.0012</td>\n",
       "      <td>184</td>\n",
       "      <td>9</td>\n",
       "      <td>13</td>\n",
       "      <td>13</td>\n",
       "      <td>1</td>\n",
       "    </tr>\n",
       "  </tbody>\n",
       "</table>\n",
       "</div>"
      ],
      "text/plain": [
       "   season holiday workingday              weather   temp   atemp  humidity  \\\n",
       "0  Summer       0          1   Clear + Few clouds  22.14  25.760        77   \n",
       "1    Fall       0          1   Clear + Few clouds  28.70  33.335        79   \n",
       "2  Spring       0          1   Clear + Few clouds   5.74   6.060        50   \n",
       "3  Winter       0          1   Clear + Few clouds  13.94  16.665        29   \n",
       "4    Fall       0          1   Clear + Few clouds  30.34  33.335        51   \n",
       "\n",
       "   windspeed  total_booking  month  day  hour  weekday  \n",
       "0    16.9979            504      5    2    19        2  \n",
       "1    19.0012              5      9    5     4        2  \n",
       "2    22.0028            139      1   13     9        3  \n",
       "3     8.9981            209     11   18    16        4  \n",
       "4    19.0012            184      9   13    13        1  "
      ]
     },
     "execution_count": 20,
     "metadata": {},
     "output_type": "execute_result"
    }
   ],
   "source": [
    "train.head()"
   ]
  },
  {
   "cell_type": "markdown",
   "metadata": {},
   "source": [
    "\n",
    "#### Performing Correlation Analysis\n"
   ]
  },
  {
   "cell_type": "code",
   "execution_count": 21,
   "metadata": {},
   "outputs": [
    {
     "data": {
      "text/html": [
       "<div>\n",
       "<style scoped>\n",
       "    .dataframe tbody tr th:only-of-type {\n",
       "        vertical-align: middle;\n",
       "    }\n",
       "\n",
       "    .dataframe tbody tr th {\n",
       "        vertical-align: top;\n",
       "    }\n",
       "\n",
       "    .dataframe thead th {\n",
       "        text-align: right;\n",
       "    }\n",
       "</style>\n",
       "<table border=\"1\" class=\"dataframe\">\n",
       "  <thead>\n",
       "    <tr style=\"text-align: right;\">\n",
       "      <th></th>\n",
       "      <th>total_booking</th>\n",
       "      <th>temp</th>\n",
       "      <th>atemp</th>\n",
       "      <th>humidity</th>\n",
       "      <th>windspeed</th>\n",
       "    </tr>\n",
       "  </thead>\n",
       "  <tbody>\n",
       "    <tr>\n",
       "      <th>total_booking</th>\n",
       "      <td>1.000000</td>\n",
       "      <td>0.402604</td>\n",
       "      <td>0.398079</td>\n",
       "      <td>-0.314163</td>\n",
       "      <td>0.101538</td>\n",
       "    </tr>\n",
       "    <tr>\n",
       "      <th>temp</th>\n",
       "      <td>0.402604</td>\n",
       "      <td>1.000000</td>\n",
       "      <td>0.984035</td>\n",
       "      <td>-0.066419</td>\n",
       "      <td>-0.022756</td>\n",
       "    </tr>\n",
       "    <tr>\n",
       "      <th>atemp</th>\n",
       "      <td>0.398079</td>\n",
       "      <td>0.984035</td>\n",
       "      <td>1.000000</td>\n",
       "      <td>-0.044206</td>\n",
       "      <td>-0.063804</td>\n",
       "    </tr>\n",
       "    <tr>\n",
       "      <th>humidity</th>\n",
       "      <td>-0.314163</td>\n",
       "      <td>-0.066419</td>\n",
       "      <td>-0.044206</td>\n",
       "      <td>1.000000</td>\n",
       "      <td>-0.319851</td>\n",
       "    </tr>\n",
       "    <tr>\n",
       "      <th>windspeed</th>\n",
       "      <td>0.101538</td>\n",
       "      <td>-0.022756</td>\n",
       "      <td>-0.063804</td>\n",
       "      <td>-0.319851</td>\n",
       "      <td>1.000000</td>\n",
       "    </tr>\n",
       "  </tbody>\n",
       "</table>\n",
       "</div>"
      ],
      "text/plain": [
       "               total_booking      temp     atemp  humidity  windspeed\n",
       "total_booking       1.000000  0.402604  0.398079 -0.314163   0.101538\n",
       "temp                0.402604  1.000000  0.984035 -0.066419  -0.022756\n",
       "atemp               0.398079  0.984035  1.000000 -0.044206  -0.063804\n",
       "humidity           -0.314163 -0.066419 -0.044206  1.000000  -0.319851\n",
       "windspeed           0.101538 -0.022756 -0.063804 -0.319851   1.000000"
      ]
     },
     "execution_count": 21,
     "metadata": {},
     "output_type": "execute_result"
    }
   ],
   "source": [
    "corr_column = ['total_booking','temp','atemp','humidity','windspeed']\n",
    "correlation = train[corr_column].corr()\n",
    "correlation"
   ]
  },
  {
   "cell_type": "markdown",
   "metadata": {},
   "source": [
    "### Inference of correlation Analysis\n",
    "#### 1. Humidity is weakly negatively correlated with Total Booking ie. higher the humidity lesser the Cab booking\n",
    "#### 2. Windspeed is not correlated with total booking.\n",
    "#### 3. Temp and Atemp are weakly positively correlated with Total booking ie. higher the temperature higher the booking\n",
    "#### 4. temp and atemp are highly correlated so atemp cam be removed as independent variable.\n",
    "#### 5. Humitdy and windspeed are negatively correlated. So humidity can be removed as independent variable."
   ]
  },
  {
   "cell_type": "markdown",
   "metadata": {},
   "source": [
    "##           \n",
    "\n",
    "\n",
    "## Performing Data Visualization\n",
    "\n",
    "#### Creating a Probability Distribution plot for Total_booking"
   ]
  },
  {
   "cell_type": "code",
   "execution_count": 22,
   "metadata": {},
   "outputs": [
    {
     "data": {
      "text/plain": [
       "<matplotlib.axes._subplots.AxesSubplot at 0x7fc5ceec8f50>"
      ]
     },
     "execution_count": 22,
     "metadata": {},
     "output_type": "execute_result"
    },
    {
     "data": {
      "image/png": "[encoded data removed]",
      "text/plain": [
       "<Figure size 720x360 with 1 Axes>"
      ]
     },
     "metadata": {
      "needs_background": "light"
     },
     "output_type": "display_data"
    }
   ],
   "source": [
    "fig_dims = (10, 5)\n",
    "fig, ax = plt.subplots(figsize=fig_dims)\n",
    "sns.distplot(train['total_booking'], kde=True, color = 'darkblue')"
   ]
  },
  {
   "cell_type": "markdown",
   "metadata": {},
   "source": [
    "#### Visualizing Total Booking vs Day, Month, Weekday, Hour"
   ]
  },
  {
   "cell_type": "code",
   "execution_count": 23,
   "metadata": {},
   "outputs": [
    {
     "data": {
      "image/png": "[encoded data removed]",
      "text/plain": [
       "<Figure size 360x360 with 1 Axes>"
      ]
     },
     "metadata": {
      "needs_background": "light"
     },
     "output_type": "display_data"
    },
    {
     "data": {
      "image/png": "[encoded data removed]",
      "text/plain": [
       "<Figure size 360x360 with 1 Axes>"
      ]
     },
     "metadata": {
      "needs_background": "light"
     },
     "output_type": "display_data"
    },
    {
     "data": {
      "image/png": "[encoded data removed]",
      "text/plain": [
       "<Figure size 360x360 with 1 Axes>"
      ]
     },
     "metadata": {
      "needs_background": "light"
     },
     "output_type": "display_data"
    },
    {
     "data": {
      "image/png": "[encoded data removed]",
      "text/plain": [
       "<Figure size 360x360 with 1 Axes>"
      ]
     },
     "metadata": {
      "needs_background": "light"
     },
     "output_type": "display_data"
    }
   ],
   "source": [
    "for col in ['day','month','weekday','hour']:\n",
    "    fig_dims = (5, 5)\n",
    "    fig, ax = plt.subplots(figsize=fig_dims)\n",
    "    visual_column = ['total_booking',col]\n",
    "    sns.lineplot(data=train[visual_column], x=col,y='total_booking',color = 'blue',ci=None,marker='o')\n",
    "    plt.title(\"Total Booking vs \"+ col)"
   ]
  },
  {
   "cell_type": "markdown",
   "metadata": {},
   "source": [
    "#### Visualizing for Categorical Columns"
   ]
  },
  {
   "cell_type": "code",
   "execution_count": 24,
   "metadata": {},
   "outputs": [
    {
     "data": {
      "image/png": "[encoded data removed]",
      "text/plain": [
       "<Figure size 720x360 with 1 Axes>"
      ]
     },
     "metadata": {
      "needs_background": "light"
     },
     "output_type": "display_data"
    },
    {
     "data": {
      "image/png": "[encoded data removed]",
      "text/plain": [
       "<Figure size 720x360 with 1 Axes>"
      ]
     },
     "metadata": {
      "needs_background": "light"
     },
     "output_type": "display_data"
    },
    {
     "data": {
      "image/png": "[encoded data removed]",
      "text/plain": [
       "<Figure size 720x360 with 1 Axes>"
      ]
     },
     "metadata": {
      "needs_background": "light"
     },
     "output_type": "display_data"
    },
    {
     "data": {
      "image/png": "[encoded data removed]",
      "text/plain": [
       "<Figure size 720x360 with 1 Axes>"
      ]
     },
     "metadata": {
      "needs_background": "light"
     },
     "output_type": "display_data"
    }
   ],
   "source": [
    "for col in ['season','holiday','workingday','weather']:\n",
    "    fig_dims = (10, 5)\n",
    "    fig, ax = plt.subplots(figsize=fig_dims)\n",
    "    visual_column = ['total_booking',col]\n",
    "    sns.barplot(x=col,y='total_booking',data=train[visual_column], palette='rainbow')\n",
    "    plt.title(\"Total Booking vs \"+ col)"
   ]
  },
  {
   "cell_type": "markdown",
   "metadata": {},
   "source": [
    "#### Create histogram for contineous variables"
   ]
  },
  {
   "cell_type": "code",
   "execution_count": 25,
   "metadata": {},
   "outputs": [
    {
     "data": {
      "image/png": "[encoded data removed]",
      "text/plain": [
       "<Figure size 720x360 with 1 Axes>"
      ]
     },
     "metadata": {
      "needs_background": "light"
     },
     "output_type": "display_data"
    },
    {
     "data": {
      "image/png": "[encoded data removed]",
      "text/plain": [
       "<Figure size 720x360 with 1 Axes>"
      ]
     },
     "metadata": {
      "needs_background": "light"
     },
     "output_type": "display_data"
    },
    {
     "data": {
      "image/png": "[encoded data removed]",
      "text/plain": [
       "<Figure size 720x360 with 1 Axes>"
      ]
     },
     "metadata": {
      "needs_background": "light"
     },
     "output_type": "display_data"
    },
    {
     "data": {
      "image/png": "[encoded data removed]",
      "text/plain": [
       "<Figure size 720x360 with 1 Axes>"
      ]
     },
     "metadata": {
      "needs_background": "light"
     },
     "output_type": "display_data"
    },
    {
     "data": {
      "image/png": "[encoded data removed]",
      "text/plain": [
       "<Figure size 720x360 with 1 Axes>"
      ]
     },
     "metadata": {
      "needs_background": "light"
     },
     "output_type": "display_data"
    },
    {
     "data": {
      "image/png": "[encoded data removed]",
      "text/plain": [
       "<Figure size 720x360 with 1 Axes>"
      ]
     },
     "metadata": {
      "needs_background": "light"
     },
     "output_type": "display_data"
    },
    {
     "data": {
      "image/png": "[encoded data removed]",
      "text/plain": [
       "<Figure size 720x360 with 1 Axes>"
      ]
     },
     "metadata": {
      "needs_background": "light"
     },
     "output_type": "display_data"
    },
    {
     "data": {
      "image/png": "[encoded data removed]",
      "text/plain": [
       "<Figure size 720x360 with 1 Axes>"
      ]
     },
     "metadata": {
      "needs_background": "light"
     },
     "output_type": "display_data"
    },
    {
     "data": {
      "image/png": "[encoded data removed]",
      "text/plain": [
       "<Figure size 720x360 with 1 Axes>"
      ]
     },
     "metadata": {
      "needs_background": "light"
     },
     "output_type": "display_data"
    }
   ],
   "source": [
    "\n",
    "for col in ['temp','atemp','humidity','windspeed','month','day','hour','weekday','total_booking']:\n",
    "    fig_dims = (10, 5)\n",
    "    fig, ax = plt.subplots(figsize=fig_dims)\n",
    "    visual_column = [col]\n",
    "    sns.distplot(train[visual_column], kde=False)\n",
    "    plt.title(\"Details for \"+ col)"
   ]
  },
  {
   "cell_type": "code",
   "execution_count": 26,
   "metadata": {},
   "outputs": [
    {
     "data": {
      "text/html": [
       "<div>\n",
       "<style scoped>\n",
       "    .dataframe tbody tr th:only-of-type {\n",
       "        vertical-align: middle;\n",
       "    }\n",
       "\n",
       "    .dataframe tbody tr th {\n",
       "        vertical-align: top;\n",
       "    }\n",
       "\n",
       "    .dataframe thead th {\n",
       "        text-align: right;\n",
       "    }\n",
       "</style>\n",
       "<table border=\"1\" class=\"dataframe\">\n",
       "  <thead>\n",
       "    <tr style=\"text-align: right;\">\n",
       "      <th></th>\n",
       "      <th>season</th>\n",
       "      <th>holiday</th>\n",
       "      <th>workingday</th>\n",
       "      <th>weather</th>\n",
       "      <th>temp</th>\n",
       "      <th>windspeed</th>\n",
       "      <th>total_booking</th>\n",
       "      <th>month</th>\n",
       "      <th>day</th>\n",
       "      <th>hour</th>\n",
       "      <th>weekday</th>\n",
       "    </tr>\n",
       "  </thead>\n",
       "  <tbody>\n",
       "    <tr>\n",
       "      <th>0</th>\n",
       "      <td>Summer</td>\n",
       "      <td>0</td>\n",
       "      <td>1</td>\n",
       "      <td>Clear + Few clouds</td>\n",
       "      <td>21.32</td>\n",
       "      <td>35.0008</td>\n",
       "      <td>256</td>\n",
       "      <td>5</td>\n",
       "      <td>10</td>\n",
       "      <td>11</td>\n",
       "      <td>3</td>\n",
       "    </tr>\n",
       "    <tr>\n",
       "      <th>1</th>\n",
       "      <td>Summer</td>\n",
       "      <td>0</td>\n",
       "      <td>0</td>\n",
       "      <td>Clear + Few clouds</td>\n",
       "      <td>23.78</td>\n",
       "      <td>7.0015</td>\n",
       "      <td>87</td>\n",
       "      <td>6</td>\n",
       "      <td>9</td>\n",
       "      <td>7</td>\n",
       "      <td>5</td>\n",
       "    </tr>\n",
       "    <tr>\n",
       "      <th>2</th>\n",
       "      <td>Spring</td>\n",
       "      <td>0</td>\n",
       "      <td>0</td>\n",
       "      <td>Light Snow, Light Rain</td>\n",
       "      <td>11.48</td>\n",
       "      <td>27.9993</td>\n",
       "      <td>11</td>\n",
       "      <td>3</td>\n",
       "      <td>6</td>\n",
       "      <td>20</td>\n",
       "      <td>6</td>\n",
       "    </tr>\n",
       "    <tr>\n",
       "      <th>3</th>\n",
       "      <td>Winter</td>\n",
       "      <td>0</td>\n",
       "      <td>1</td>\n",
       "      <td>Mist + Cloudy</td>\n",
       "      <td>25.42</td>\n",
       "      <td>0.0000</td>\n",
       "      <td>84</td>\n",
       "      <td>10</td>\n",
       "      <td>13</td>\n",
       "      <td>11</td>\n",
       "      <td>3</td>\n",
       "    </tr>\n",
       "    <tr>\n",
       "      <th>4</th>\n",
       "      <td>Summer</td>\n",
       "      <td>0</td>\n",
       "      <td>0</td>\n",
       "      <td>Clear + Few clouds</td>\n",
       "      <td>25.42</td>\n",
       "      <td>23.9994</td>\n",
       "      <td>668</td>\n",
       "      <td>6</td>\n",
       "      <td>2</td>\n",
       "      <td>12</td>\n",
       "      <td>5</td>\n",
       "    </tr>\n",
       "    <tr>\n",
       "      <th>...</th>\n",
       "      <td>...</td>\n",
       "      <td>...</td>\n",
       "      <td>...</td>\n",
       "      <td>...</td>\n",
       "      <td>...</td>\n",
       "      <td>...</td>\n",
       "      <td>...</td>\n",
       "      <td>...</td>\n",
       "      <td>...</td>\n",
       "      <td>...</td>\n",
       "      <td>...</td>\n",
       "    </tr>\n",
       "    <tr>\n",
       "      <th>2173</th>\n",
       "      <td>Spring</td>\n",
       "      <td>0</td>\n",
       "      <td>1</td>\n",
       "      <td>Clear + Few clouds</td>\n",
       "      <td>18.86</td>\n",
       "      <td>26.0027</td>\n",
       "      <td>3</td>\n",
       "      <td>3</td>\n",
       "      <td>8</td>\n",
       "      <td>3</td>\n",
       "      <td>3</td>\n",
       "    </tr>\n",
       "    <tr>\n",
       "      <th>2174</th>\n",
       "      <td>Spring</td>\n",
       "      <td>0</td>\n",
       "      <td>1</td>\n",
       "      <td>Mist + Cloudy</td>\n",
       "      <td>13.94</td>\n",
       "      <td>7.0015</td>\n",
       "      <td>144</td>\n",
       "      <td>1</td>\n",
       "      <td>12</td>\n",
       "      <td>12</td>\n",
       "      <td>3</td>\n",
       "    </tr>\n",
       "    <tr>\n",
       "      <th>2175</th>\n",
       "      <td>Spring</td>\n",
       "      <td>0</td>\n",
       "      <td>1</td>\n",
       "      <td>Clear + Few clouds</td>\n",
       "      <td>18.86</td>\n",
       "      <td>19.9995</td>\n",
       "      <td>159</td>\n",
       "      <td>3</td>\n",
       "      <td>7</td>\n",
       "      <td>22</td>\n",
       "      <td>2</td>\n",
       "    </tr>\n",
       "    <tr>\n",
       "      <th>2176</th>\n",
       "      <td>Summer</td>\n",
       "      <td>0</td>\n",
       "      <td>1</td>\n",
       "      <td>Clear + Few clouds</td>\n",
       "      <td>17.22</td>\n",
       "      <td>8.9981</td>\n",
       "      <td>29</td>\n",
       "      <td>5</td>\n",
       "      <td>12</td>\n",
       "      <td>5</td>\n",
       "      <td>3</td>\n",
       "    </tr>\n",
       "    <tr>\n",
       "      <th>2177</th>\n",
       "      <td>Fall</td>\n",
       "      <td>0</td>\n",
       "      <td>1</td>\n",
       "      <td>Clear + Few clouds</td>\n",
       "      <td>30.34</td>\n",
       "      <td>16.9979</td>\n",
       "      <td>224</td>\n",
       "      <td>7</td>\n",
       "      <td>18</td>\n",
       "      <td>16</td>\n",
       "      <td>2</td>\n",
       "    </tr>\n",
       "  </tbody>\n",
       "</table>\n",
       "<p>2178 rows × 11 columns</p>\n",
       "</div>"
      ],
      "text/plain": [
       "      season holiday workingday                  weather   temp  windspeed  \\\n",
       "0     Summer       0          1       Clear + Few clouds  21.32    35.0008   \n",
       "1     Summer       0          0       Clear + Few clouds  23.78     7.0015   \n",
       "2     Spring       0          0   Light Snow, Light Rain  11.48    27.9993   \n",
       "3     Winter       0          1           Mist + Cloudy   25.42     0.0000   \n",
       "4     Summer       0          0       Clear + Few clouds  25.42    23.9994   \n",
       "...      ...     ...        ...                      ...    ...        ...   \n",
       "2173  Spring       0          1       Clear + Few clouds  18.86    26.0027   \n",
       "2174  Spring       0          1           Mist + Cloudy   13.94     7.0015   \n",
       "2175  Spring       0          1       Clear + Few clouds  18.86    19.9995   \n",
       "2176  Summer       0          1       Clear + Few clouds  17.22     8.9981   \n",
       "2177    Fall       0          1       Clear + Few clouds  30.34    16.9979   \n",
       "\n",
       "      total_booking  month  day  hour  weekday  \n",
       "0               256      5   10    11        3  \n",
       "1                87      6    9     7        5  \n",
       "2                11      3    6    20        6  \n",
       "3                84     10   13    11        3  \n",
       "4               668      6    2    12        5  \n",
       "...             ...    ...  ...   ...      ...  \n",
       "2173              3      3    8     3        3  \n",
       "2174            144      1   12    12        3  \n",
       "2175            159      3    7    22        2  \n",
       "2176             29      5   12     5        3  \n",
       "2177            224      7   18    16        2  \n",
       "\n",
       "[2178 rows x 11 columns]"
      ]
     },
     "execution_count": 26,
     "metadata": {},
     "output_type": "execute_result"
    }
   ],
   "source": [
    "# Removing correlated columns\n",
    "del_col = ['atemp','humidity'] \n",
    "def del_correlated_variable(df): \n",
    "    for col in del_col:\n",
    "        df.drop(col, axis=1, inplace=True)\n",
    "    return df\n",
    "\n",
    "del_correlated_variable(train)\n",
    "del_correlated_variable(test)"
   ]
  },
  {
   "cell_type": "markdown",
   "metadata": {},
   "source": [
    "### Converting Caterogical data into OneHot Encoder"
   ]
  },
  {
   "cell_type": "code",
   "execution_count": 27,
   "metadata": {},
   "outputs": [],
   "source": [
    "# Defining function\n",
    "def cat_onehot(df):\n",
    "    for col in ['season','holiday','workingday','weather']:\n",
    "        x_dum = pd.get_dummies(df[col], prefix = col)\n",
    "        df = pd.concat([df, x_dum], axis=1)\n",
    "        df.drop(col, axis=1, inplace=True)\n",
    "    \n",
    "    return df"
   ]
  },
  {
   "cell_type": "code",
   "execution_count": 28,
   "metadata": {},
   "outputs": [
    {
     "data": {
      "text/html": [
       "<div>\n",
       "<style scoped>\n",
       "    .dataframe tbody tr th:only-of-type {\n",
       "        vertical-align: middle;\n",
       "    }\n",
       "\n",
       "    .dataframe tbody tr th {\n",
       "        vertical-align: top;\n",
       "    }\n",
       "\n",
       "    .dataframe thead th {\n",
       "        text-align: right;\n",
       "    }\n",
       "</style>\n",
       "<table border=\"1\" class=\"dataframe\">\n",
       "  <thead>\n",
       "    <tr style=\"text-align: right;\">\n",
       "      <th></th>\n",
       "      <th>temp</th>\n",
       "      <th>windspeed</th>\n",
       "      <th>total_booking</th>\n",
       "      <th>month</th>\n",
       "      <th>day</th>\n",
       "      <th>hour</th>\n",
       "      <th>weekday</th>\n",
       "      <th>season_Summer</th>\n",
       "      <th>season_Fall</th>\n",
       "      <th>season_Spring</th>\n",
       "      <th>season_Winter</th>\n",
       "      <th>holiday_0</th>\n",
       "      <th>holiday_1</th>\n",
       "      <th>workingday_1</th>\n",
       "      <th>workingday_0</th>\n",
       "      <th>weather_ Clear + Few clouds</th>\n",
       "      <th>weather_ Light Snow, Light Rain</th>\n",
       "      <th>weather_ Mist + Cloudy</th>\n",
       "      <th>weather_ Heavy Rain + Thunderstorm</th>\n",
       "    </tr>\n",
       "  </thead>\n",
       "  <tbody>\n",
       "    <tr>\n",
       "      <th>0</th>\n",
       "      <td>22.14</td>\n",
       "      <td>16.9979</td>\n",
       "      <td>504</td>\n",
       "      <td>5</td>\n",
       "      <td>2</td>\n",
       "      <td>19</td>\n",
       "      <td>2</td>\n",
       "      <td>1</td>\n",
       "      <td>0</td>\n",
       "      <td>0</td>\n",
       "      <td>0</td>\n",
       "      <td>1</td>\n",
       "      <td>0</td>\n",
       "      <td>1</td>\n",
       "      <td>0</td>\n",
       "      <td>1</td>\n",
       "      <td>0</td>\n",
       "      <td>0</td>\n",
       "      <td>0</td>\n",
       "    </tr>\n",
       "    <tr>\n",
       "      <th>1</th>\n",
       "      <td>28.70</td>\n",
       "      <td>19.0012</td>\n",
       "      <td>5</td>\n",
       "      <td>9</td>\n",
       "      <td>5</td>\n",
       "      <td>4</td>\n",
       "      <td>2</td>\n",
       "      <td>0</td>\n",
       "      <td>1</td>\n",
       "      <td>0</td>\n",
       "      <td>0</td>\n",
       "      <td>1</td>\n",
       "      <td>0</td>\n",
       "      <td>1</td>\n",
       "      <td>0</td>\n",
       "      <td>1</td>\n",
       "      <td>0</td>\n",
       "      <td>0</td>\n",
       "      <td>0</td>\n",
       "    </tr>\n",
       "    <tr>\n",
       "      <th>2</th>\n",
       "      <td>5.74</td>\n",
       "      <td>22.0028</td>\n",
       "      <td>139</td>\n",
       "      <td>1</td>\n",
       "      <td>13</td>\n",
       "      <td>9</td>\n",
       "      <td>3</td>\n",
       "      <td>0</td>\n",
       "      <td>0</td>\n",
       "      <td>1</td>\n",
       "      <td>0</td>\n",
       "      <td>1</td>\n",
       "      <td>0</td>\n",
       "      <td>1</td>\n",
       "      <td>0</td>\n",
       "      <td>1</td>\n",
       "      <td>0</td>\n",
       "      <td>0</td>\n",
       "      <td>0</td>\n",
       "    </tr>\n",
       "    <tr>\n",
       "      <th>3</th>\n",
       "      <td>13.94</td>\n",
       "      <td>8.9981</td>\n",
       "      <td>209</td>\n",
       "      <td>11</td>\n",
       "      <td>18</td>\n",
       "      <td>16</td>\n",
       "      <td>4</td>\n",
       "      <td>0</td>\n",
       "      <td>0</td>\n",
       "      <td>0</td>\n",
       "      <td>1</td>\n",
       "      <td>1</td>\n",
       "      <td>0</td>\n",
       "      <td>1</td>\n",
       "      <td>0</td>\n",
       "      <td>1</td>\n",
       "      <td>0</td>\n",
       "      <td>0</td>\n",
       "      <td>0</td>\n",
       "    </tr>\n",
       "    <tr>\n",
       "      <th>4</th>\n",
       "      <td>30.34</td>\n",
       "      <td>19.0012</td>\n",
       "      <td>184</td>\n",
       "      <td>9</td>\n",
       "      <td>13</td>\n",
       "      <td>13</td>\n",
       "      <td>1</td>\n",
       "      <td>0</td>\n",
       "      <td>1</td>\n",
       "      <td>0</td>\n",
       "      <td>0</td>\n",
       "      <td>1</td>\n",
       "      <td>0</td>\n",
       "      <td>1</td>\n",
       "      <td>0</td>\n",
       "      <td>1</td>\n",
       "      <td>0</td>\n",
       "      <td>0</td>\n",
       "      <td>0</td>\n",
       "    </tr>\n",
       "  </tbody>\n",
       "</table>\n",
       "</div>"
      ],
      "text/plain": [
       "    temp  windspeed  total_booking  month  day  hour  weekday  season_Summer  \\\n",
       "0  22.14    16.9979            504      5    2    19        2              1   \n",
       "1  28.70    19.0012              5      9    5     4        2              0   \n",
       "2   5.74    22.0028            139      1   13     9        3              0   \n",
       "3  13.94     8.9981            209     11   18    16        4              0   \n",
       "4  30.34    19.0012            184      9   13    13        1              0   \n",
       "\n",
       "   season_Fall  season_Spring  season_Winter  holiday_0  holiday_1  \\\n",
       "0            0              0              0          1          0   \n",
       "1            1              0              0          1          0   \n",
       "2            0              1              0          1          0   \n",
       "3            0              0              1          1          0   \n",
       "4            1              0              0          1          0   \n",
       "\n",
       "   workingday_1  workingday_0  weather_ Clear + Few clouds  \\\n",
       "0             1             0                            1   \n",
       "1             1             0                            1   \n",
       "2             1             0                            1   \n",
       "3             1             0                            1   \n",
       "4             1             0                            1   \n",
       "\n",
       "   weather_ Light Snow, Light Rain  weather_ Mist + Cloudy   \\\n",
       "0                                0                        0   \n",
       "1                                0                        0   \n",
       "2                                0                        0   \n",
       "3                                0                        0   \n",
       "4                                0                        0   \n",
       "\n",
       "   weather_ Heavy Rain + Thunderstorm   \n",
       "0                                    0  \n",
       "1                                    0  \n",
       "2                                    0  \n",
       "3                                    0  \n",
       "4                                    0  "
      ]
     },
     "execution_count": 28,
     "metadata": {},
     "output_type": "execute_result"
    }
   ],
   "source": [
    "train = cat_onehot(train)\n",
    "#train.drop('holiday_1', axis=1, inplace=True)\n",
    "#train.drop('workingday_1', axis=1, inplace=True)\n",
    "train.head()"
   ]
  },
  {
   "cell_type": "code",
   "execution_count": 29,
   "metadata": {},
   "outputs": [
    {
     "data": {
      "text/html": [
       "<div>\n",
       "<style scoped>\n",
       "    .dataframe tbody tr th:only-of-type {\n",
       "        vertical-align: middle;\n",
       "    }\n",
       "\n",
       "    .dataframe tbody tr th {\n",
       "        vertical-align: top;\n",
       "    }\n",
       "\n",
       "    .dataframe thead th {\n",
       "        text-align: right;\n",
       "    }\n",
       "</style>\n",
       "<table border=\"1\" class=\"dataframe\">\n",
       "  <thead>\n",
       "    <tr style=\"text-align: right;\">\n",
       "      <th></th>\n",
       "      <th>temp</th>\n",
       "      <th>windspeed</th>\n",
       "      <th>total_booking</th>\n",
       "      <th>month</th>\n",
       "      <th>day</th>\n",
       "      <th>hour</th>\n",
       "      <th>weekday</th>\n",
       "      <th>season_Summer</th>\n",
       "      <th>season_Fall</th>\n",
       "      <th>season_Spring</th>\n",
       "      <th>season_Winter</th>\n",
       "      <th>holiday_0</th>\n",
       "      <th>holiday_1</th>\n",
       "      <th>workingday_1</th>\n",
       "      <th>workingday_0</th>\n",
       "      <th>weather_ Clear + Few clouds</th>\n",
       "      <th>weather_ Light Snow, Light Rain</th>\n",
       "      <th>weather_ Mist + Cloudy</th>\n",
       "      <th>weather_ Heavy Rain + Thunderstorm</th>\n",
       "    </tr>\n",
       "  </thead>\n",
       "  <tbody>\n",
       "    <tr>\n",
       "      <th>0</th>\n",
       "      <td>21.32</td>\n",
       "      <td>35.0008</td>\n",
       "      <td>256</td>\n",
       "      <td>5</td>\n",
       "      <td>10</td>\n",
       "      <td>11</td>\n",
       "      <td>3</td>\n",
       "      <td>1</td>\n",
       "      <td>0</td>\n",
       "      <td>0</td>\n",
       "      <td>0</td>\n",
       "      <td>1</td>\n",
       "      <td>0</td>\n",
       "      <td>1</td>\n",
       "      <td>0</td>\n",
       "      <td>1</td>\n",
       "      <td>0</td>\n",
       "      <td>0</td>\n",
       "      <td>0</td>\n",
       "    </tr>\n",
       "    <tr>\n",
       "      <th>1</th>\n",
       "      <td>23.78</td>\n",
       "      <td>7.0015</td>\n",
       "      <td>87</td>\n",
       "      <td>6</td>\n",
       "      <td>9</td>\n",
       "      <td>7</td>\n",
       "      <td>5</td>\n",
       "      <td>1</td>\n",
       "      <td>0</td>\n",
       "      <td>0</td>\n",
       "      <td>0</td>\n",
       "      <td>1</td>\n",
       "      <td>0</td>\n",
       "      <td>0</td>\n",
       "      <td>1</td>\n",
       "      <td>1</td>\n",
       "      <td>0</td>\n",
       "      <td>0</td>\n",
       "      <td>0</td>\n",
       "    </tr>\n",
       "    <tr>\n",
       "      <th>2</th>\n",
       "      <td>11.48</td>\n",
       "      <td>27.9993</td>\n",
       "      <td>11</td>\n",
       "      <td>3</td>\n",
       "      <td>6</td>\n",
       "      <td>20</td>\n",
       "      <td>6</td>\n",
       "      <td>0</td>\n",
       "      <td>0</td>\n",
       "      <td>1</td>\n",
       "      <td>0</td>\n",
       "      <td>1</td>\n",
       "      <td>0</td>\n",
       "      <td>0</td>\n",
       "      <td>1</td>\n",
       "      <td>0</td>\n",
       "      <td>1</td>\n",
       "      <td>0</td>\n",
       "      <td>0</td>\n",
       "    </tr>\n",
       "    <tr>\n",
       "      <th>3</th>\n",
       "      <td>25.42</td>\n",
       "      <td>0.0000</td>\n",
       "      <td>84</td>\n",
       "      <td>10</td>\n",
       "      <td>13</td>\n",
       "      <td>11</td>\n",
       "      <td>3</td>\n",
       "      <td>0</td>\n",
       "      <td>0</td>\n",
       "      <td>0</td>\n",
       "      <td>1</td>\n",
       "      <td>1</td>\n",
       "      <td>0</td>\n",
       "      <td>1</td>\n",
       "      <td>0</td>\n",
       "      <td>0</td>\n",
       "      <td>0</td>\n",
       "      <td>1</td>\n",
       "      <td>0</td>\n",
       "    </tr>\n",
       "    <tr>\n",
       "      <th>4</th>\n",
       "      <td>25.42</td>\n",
       "      <td>23.9994</td>\n",
       "      <td>668</td>\n",
       "      <td>6</td>\n",
       "      <td>2</td>\n",
       "      <td>12</td>\n",
       "      <td>5</td>\n",
       "      <td>1</td>\n",
       "      <td>0</td>\n",
       "      <td>0</td>\n",
       "      <td>0</td>\n",
       "      <td>1</td>\n",
       "      <td>0</td>\n",
       "      <td>0</td>\n",
       "      <td>1</td>\n",
       "      <td>1</td>\n",
       "      <td>0</td>\n",
       "      <td>0</td>\n",
       "      <td>0</td>\n",
       "    </tr>\n",
       "  </tbody>\n",
       "</table>\n",
       "</div>"
      ],
      "text/plain": [
       "    temp  windspeed  total_booking  month  day  hour  weekday  season_Summer  \\\n",
       "0  21.32    35.0008            256      5   10    11        3              1   \n",
       "1  23.78     7.0015             87      6    9     7        5              1   \n",
       "2  11.48    27.9993             11      3    6    20        6              0   \n",
       "3  25.42     0.0000             84     10   13    11        3              0   \n",
       "4  25.42    23.9994            668      6    2    12        5              1   \n",
       "\n",
       "   season_Fall  season_Spring  season_Winter  holiday_0  holiday_1  \\\n",
       "0            0              0              0          1          0   \n",
       "1            0              0              0          1          0   \n",
       "2            0              1              0          1          0   \n",
       "3            0              0              1          1          0   \n",
       "4            0              0              0          1          0   \n",
       "\n",
       "   workingday_1  workingday_0  weather_ Clear + Few clouds  \\\n",
       "0             1             0                            1   \n",
       "1             0             1                            1   \n",
       "2             0             1                            0   \n",
       "3             1             0                            0   \n",
       "4             0             1                            1   \n",
       "\n",
       "   weather_ Light Snow, Light Rain  weather_ Mist + Cloudy   \\\n",
       "0                                0                        0   \n",
       "1                                0                        0   \n",
       "2                                1                        0   \n",
       "3                                0                        1   \n",
       "4                                0                        0   \n",
       "\n",
       "   weather_ Heavy Rain + Thunderstorm   \n",
       "0                                    0  \n",
       "1                                    0  \n",
       "2                                    0  \n",
       "3                                    0  \n",
       "4                                    0  "
      ]
     },
     "execution_count": 29,
     "metadata": {},
     "output_type": "execute_result"
    }
   ],
   "source": [
    "test = cat_onehot(test)\n",
    "#test.drop('holiday_1', axis=1, inplace=True)\n",
    "#test.drop('workingday_1', axis=1, inplace=True)\n",
    "test.head()"
   ]
  },
  {
   "cell_type": "markdown",
   "metadata": {},
   "source": [
    "## Finding the best model for fit"
   ]
  },
  {
   "cell_type": "code",
   "execution_count": 30,
   "metadata": {},
   "outputs": [],
   "source": [
    "# Defining paramter variables\n",
    "val_random_state = 40\n",
    "val_estimators = 100\n",
    "val_max_depth = 4\n",
    "val_n_neighbors = 4\n",
    "\n",
    "#Creating models\n",
    "models=[]\n",
    "\n",
    "models.append(('adaboost',AdaBoostRegressor(random_state=val_random_state, n_estimators=val_estimators)))\n",
    "models.append(('randomforest',RandomForestRegressor(max_depth=val_max_depth, random_state=val_random_state)))\n",
    "models.append(('svr',SVR()))\n",
    "models.append(('bagging',BaggingRegressor(base_estimator=SVR(),n_estimators=val_estimators, random_state=val_random_state)))\n",
    "models.append(('kneighbor',KNeighborsRegressor(n_neighbors=val_n_neighbors)))\n"
   ]
  },
  {
   "cell_type": "code",
   "execution_count": 31,
   "metadata": {},
   "outputs": [],
   "source": [
    "#Creating list of independent variable and target variable\n",
    "col_target = 'total_booking'\n",
    "col_ind = train.columns.to_list()\n",
    "col_ind.remove(col_target)"
   ]
  },
  {
   "cell_type": "code",
   "execution_count": 32,
   "metadata": {},
   "outputs": [],
   "source": [
    "#For Training Data\n",
    "X_train = train[col_ind]\n",
    "Y_train = train[col_target]"
   ]
  },
  {
   "cell_type": "code",
   "execution_count": 33,
   "metadata": {},
   "outputs": [],
   "source": [
    "#For test data\n",
    "X_test = test[col_ind]\n",
    "Y_test = test[col_target]"
   ]
  },
  {
   "cell_type": "code",
   "execution_count": 34,
   "metadata": {},
   "outputs": [],
   "source": [
    "#Function to log the data\n",
    "def data_log(log):\n",
    "    print(datetime.now().strftime(\"%Y-%m-%d %H:%M:%S\") + ' || ' + str(log))"
   ]
  },
  {
   "cell_type": "code",
   "execution_count": 35,
   "metadata": {},
   "outputs": [
    {
     "name": "stdout",
     "output_type": "stream",
     "text": [
      "2021-06-28 18:03:17 || Fitting the model -----> adaboost\n",
      "2021-06-28 18:03:17 || Predicting for model\n",
      "2021-06-28 18:03:17 || Calculating RMSC Value\n",
      "2021-06-28 18:03:17 || Root Mean Sqaure error of Test = 119.77\n",
      "2021-06-28 18:03:17 || Root Mean Sqaure error of Train = 112.18\n",
      "2021-06-28 18:03:17 || Fitting the model -----> randomforest\n",
      "2021-06-28 18:03:17 || Predicting for model\n",
      "2021-06-28 18:03:17 || Calculating RMSC Value\n",
      "2021-06-28 18:03:17 || Root Mean Sqaure error of Test = 118.51\n",
      "2021-06-28 18:03:17 || Root Mean Sqaure error of Train = 109.91\n",
      "2021-06-28 18:03:17 || Fitting the model -----> svr\n",
      "2021-06-28 18:03:20 || Predicting for model\n",
      "2021-06-28 18:03:22 || Calculating RMSC Value\n",
      "2021-06-28 18:03:22 || Root Mean Sqaure error of Test = 150.89\n",
      "2021-06-28 18:03:22 || Root Mean Sqaure error of Train = 143.19\n",
      "2021-06-28 18:03:22 || Fitting the model -----> bagging\n",
      "2021-06-28 18:05:13 || Predicting for model\n",
      "2021-06-28 18:07:28 || Calculating RMSC Value\n",
      "2021-06-28 18:07:28 || Root Mean Sqaure error of Test = 150.96\n",
      "2021-06-28 18:07:28 || Root Mean Sqaure error of Train = 143.26\n",
      "2021-06-28 18:07:28 || Fitting the model -----> kneighbor\n",
      "2021-06-28 18:07:28 || Predicting for model\n",
      "2021-06-28 18:07:29 || Calculating RMSC Value\n",
      "2021-06-28 18:07:29 || Root Mean Sqaure error of Test = 105.83\n",
      "2021-06-28 18:07:29 || Root Mean Sqaure error of Train = 73.93\n"
     ]
    }
   ],
   "source": [
    "#Applying Different models and calulating RMSE\n",
    "\n",
    "model_details=[]\n",
    "for name,model in models:\n",
    "    data_log('Fitting the model -----> ' + name)\n",
    "    model.fit(X_train,Y_train)\n",
    "    \n",
    "    data_log('Predicting for model')\n",
    "    Y_predict_test = model.predict(X_test)\n",
    "    Y_predict_train = model.predict(X_train)\n",
    "    \n",
    "    data_log('Calculating RMSC Value')\n",
    "    mse_test = mean_squared_error(Y_test, Y_predict_test)\n",
    "    rmse_test = round(math.sqrt(mse_test),2)\n",
    "    \n",
    "    mse_train = mean_squared_error(Y_train, Y_predict_train)\n",
    "    rmse_train = round(math.sqrt(mse_train),2)\n",
    "    \n",
    "    model_details.append((name,rmse_test,rmse_train))\n",
    "    data_log('Root Mean Sqaure error of Test = ' +  str(rmse_test))\n",
    "    data_log('Root Mean Sqaure error of Train = ' + str(rmse_train))\n",
    "    "
   ]
  },
  {
   "cell_type": "code",
   "execution_count": 36,
   "metadata": {},
   "outputs": [
    {
     "data": {
      "text/plain": [
       "[('adaboost', 119.77, 112.18, 7.589999999999989),\n",
       " ('randomforest', 118.51, 109.91, 8.600000000000009),\n",
       " ('svr', 150.89, 143.19, 7.699999999999989),\n",
       " ('bagging', 150.96, 143.26, 7.700000000000017),\n",
       " ('kneighbor', 105.83, 73.93, 31.89999999999999)]"
      ]
     },
     "execution_count": 36,
     "metadata": {},
     "output_type": "execute_result"
    }
   ],
   "source": [
    "model_details"
   ]
  },
  {
   "cell_type": "code",
   "execution_count": 37,
   "metadata": {},
   "outputs": [],
   "source": [
    "model_details = pd.DataFrame(model_details)"
   ]
  },
  {
   "cell_type": "code",
   "execution_count": 58,
   "metadata": {},
   "outputs": [],
   "source": [
    "model_details.rename(columns = {0:'Model',1:'RMSE_TEST',2:'RMSE_TRAIN'},inplace=True)"
   ]
  },
  {
   "cell_type": "code",
   "execution_count": 59,
   "metadata": {},
   "outputs": [
    {
     "data": {
      "text/html": [
       "<div>\n",
       "<style scoped>\n",
       "    .dataframe tbody tr th:only-of-type {\n",
       "        vertical-align: middle;\n",
       "    }\n",
       "\n",
       "    .dataframe tbody tr th {\n",
       "        vertical-align: top;\n",
       "    }\n",
       "\n",
       "    .dataframe thead th {\n",
       "        text-align: right;\n",
       "    }\n",
       "</style>\n",
       "<table border=\"1\" class=\"dataframe\">\n",
       "  <thead>\n",
       "    <tr style=\"text-align: right;\">\n",
       "      <th></th>\n",
       "      <th>Model</th>\n",
       "      <th>RMSE_TEST</th>\n",
       "      <th>RMSE_TRAIN</th>\n",
       "      <th>Overfitting_by</th>\n",
       "    </tr>\n",
       "  </thead>\n",
       "  <tbody>\n",
       "    <tr>\n",
       "      <th>0</th>\n",
       "      <td>adaboost</td>\n",
       "      <td>119.77</td>\n",
       "      <td>112.18</td>\n",
       "      <td>7.59</td>\n",
       "    </tr>\n",
       "    <tr>\n",
       "      <th>1</th>\n",
       "      <td>randomforest</td>\n",
       "      <td>118.51</td>\n",
       "      <td>109.91</td>\n",
       "      <td>8.60</td>\n",
       "    </tr>\n",
       "    <tr>\n",
       "      <th>2</th>\n",
       "      <td>svr</td>\n",
       "      <td>150.89</td>\n",
       "      <td>143.19</td>\n",
       "      <td>7.70</td>\n",
       "    </tr>\n",
       "    <tr>\n",
       "      <th>3</th>\n",
       "      <td>bagging</td>\n",
       "      <td>150.96</td>\n",
       "      <td>143.26</td>\n",
       "      <td>7.70</td>\n",
       "    </tr>\n",
       "    <tr>\n",
       "      <th>4</th>\n",
       "      <td>kneighbor</td>\n",
       "      <td>105.83</td>\n",
       "      <td>73.93</td>\n",
       "      <td>31.90</td>\n",
       "    </tr>\n",
       "  </tbody>\n",
       "</table>\n",
       "</div>"
      ],
      "text/plain": [
       "          Model  RMSE_TEST  RMSE_TRAIN  Overfitting_by\n",
       "0      adaboost     119.77      112.18            7.59\n",
       "1  randomforest     118.51      109.91            8.60\n",
       "2           svr     150.89      143.19            7.70\n",
       "3       bagging     150.96      143.26            7.70\n",
       "4     kneighbor     105.83       73.93           31.90"
      ]
     },
     "execution_count": 59,
     "metadata": {},
     "output_type": "execute_result"
    }
   ],
   "source": [
    "model_details"
   ]
  },
  {
   "cell_type": "code",
   "execution_count": 40,
   "metadata": {
    "scrolled": true
   },
   "outputs": [
    {
     "data": {
      "image/png": "[encoded data removed]",
      "text/plain": [
       "<Figure size 360x360 with 1 Axes>"
      ]
     },
     "metadata": {
      "needs_background": "light"
     },
     "output_type": "display_data"
    },
    {
     "data": {
      "image/png": "[encoded data removed]",
      "text/plain": [
       "<Figure size 360x360 with 1 Axes>"
      ]
     },
     "metadata": {
      "needs_background": "light"
     },
     "output_type": "display_data"
    }
   ],
   "source": [
    "sns.factorplot(x ='Model', y ='RMSE_TEST', data = model_details)\n",
    "sns.factorplot(x ='Model', y ='RMSE_TRAIN', data = model_details)\n",
    "plt.show()"
   ]
  },
  {
   "cell_type": "markdown",
   "metadata": {},
   "source": [
    "### Inference from RMSE value and Factor Plot:\n",
    "#### <b>Random Forest <b> is the best model having least Root Mean Square Error"
   ]
  },
  {
   "cell_type": "markdown",
   "metadata": {},
   "source": [
    "### Performaing Hyper parameter tuning using Grid Search on Random Forest"
   ]
  },
  {
   "cell_type": "code",
   "execution_count": 41,
   "metadata": {},
   "outputs": [
    {
     "data": {
      "text/plain": [
       "GridSearchCV(cv=5,\n",
       "             estimator=RandomForestRegressor(max_depth=4, random_state=40),\n",
       "             param_grid={'bootstrap': [True, False],\n",
       "                         'max_features': ['auto', 'log2', 'sqrt'],\n",
       "                         'n_estimators': [10, 50, 100, 150, 200]},\n",
       "             scoring='neg_mean_squared_error')"
      ]
     },
     "execution_count": 41,
     "metadata": {},
     "output_type": "execute_result"
    }
   ],
   "source": [
    "para_grids = {\n",
    "            \"n_estimators\" : [10,50,100,150,200],\n",
    "            \"max_features\" : [\"auto\", \"log2\", \"sqrt\"],\n",
    "            \"bootstrap\"    : [True, False]\n",
    "        }\n",
    "grid = GridSearchCV(estimator=RandomForestRegressor(max_depth=val_max_depth, \n",
    "                                                    random_state=val_random_state)\n",
    "                    ,param_grid=para_grids,cv=5,scoring='neg_mean_squared_error',\n",
    "                   )\n",
    "grid.fit(X_train,Y_train)"
   ]
  },
  {
   "cell_type": "code",
   "execution_count": 42,
   "metadata": {},
   "outputs": [
    {
     "data": {
      "text/html": [
       "<div>\n",
       "<style scoped>\n",
       "    .dataframe tbody tr th:only-of-type {\n",
       "        vertical-align: middle;\n",
       "    }\n",
       "\n",
       "    .dataframe tbody tr th {\n",
       "        vertical-align: top;\n",
       "    }\n",
       "\n",
       "    .dataframe thead th {\n",
       "        text-align: right;\n",
       "    }\n",
       "</style>\n",
       "<table border=\"1\" class=\"dataframe\">\n",
       "  <thead>\n",
       "    <tr style=\"text-align: right;\">\n",
       "      <th></th>\n",
       "      <th>mean_fit_time</th>\n",
       "      <th>std_fit_time</th>\n",
       "      <th>mean_score_time</th>\n",
       "      <th>std_score_time</th>\n",
       "      <th>param_bootstrap</th>\n",
       "      <th>param_max_features</th>\n",
       "      <th>param_n_estimators</th>\n",
       "      <th>params</th>\n",
       "      <th>split0_test_score</th>\n",
       "      <th>split1_test_score</th>\n",
       "      <th>split2_test_score</th>\n",
       "      <th>split3_test_score</th>\n",
       "      <th>split4_test_score</th>\n",
       "      <th>mean_test_score</th>\n",
       "      <th>std_test_score</th>\n",
       "      <th>rank_test_score</th>\n",
       "    </tr>\n",
       "  </thead>\n",
       "  <tbody>\n",
       "    <tr>\n",
       "      <th>1</th>\n",
       "      <td>0.196390</td>\n",
       "      <td>0.001788</td>\n",
       "      <td>0.006238</td>\n",
       "      <td>0.000262</td>\n",
       "      <td>True</td>\n",
       "      <td>auto</td>\n",
       "      <td>50</td>\n",
       "      <td>{'bootstrap': True, 'max_features': 'auto', 'n...</td>\n",
       "      <td>-12857.638582</td>\n",
       "      <td>-12288.881203</td>\n",
       "      <td>-12053.663979</td>\n",
       "      <td>-11811.890794</td>\n",
       "      <td>-11661.944626</td>\n",
       "      <td>-12134.803837</td>\n",
       "      <td>419.686132</td>\n",
       "      <td>1</td>\n",
       "    </tr>\n",
       "    <tr>\n",
       "      <th>0</th>\n",
       "      <td>0.050635</td>\n",
       "      <td>0.011691</td>\n",
       "      <td>0.003201</td>\n",
       "      <td>0.000434</td>\n",
       "      <td>True</td>\n",
       "      <td>auto</td>\n",
       "      <td>10</td>\n",
       "      <td>{'bootstrap': True, 'max_features': 'auto', 'n...</td>\n",
       "      <td>-12898.659930</td>\n",
       "      <td>-12315.934683</td>\n",
       "      <td>-12048.604479</td>\n",
       "      <td>-11793.680430</td>\n",
       "      <td>-11619.620390</td>\n",
       "      <td>-12135.299982</td>\n",
       "      <td>448.440135</td>\n",
       "      <td>2</td>\n",
       "    </tr>\n",
       "    <tr>\n",
       "      <th>3</th>\n",
       "      <td>0.587523</td>\n",
       "      <td>0.004886</td>\n",
       "      <td>0.015947</td>\n",
       "      <td>0.000274</td>\n",
       "      <td>True</td>\n",
       "      <td>auto</td>\n",
       "      <td>150</td>\n",
       "      <td>{'bootstrap': True, 'max_features': 'auto', 'n...</td>\n",
       "      <td>-12861.484575</td>\n",
       "      <td>-12303.369851</td>\n",
       "      <td>-12025.419033</td>\n",
       "      <td>-11816.470050</td>\n",
       "      <td>-11685.672766</td>\n",
       "      <td>-12138.483255</td>\n",
       "      <td>417.476193</td>\n",
       "      <td>3</td>\n",
       "    </tr>\n",
       "    <tr>\n",
       "      <th>4</th>\n",
       "      <td>0.787088</td>\n",
       "      <td>0.008124</td>\n",
       "      <td>0.020497</td>\n",
       "      <td>0.000730</td>\n",
       "      <td>True</td>\n",
       "      <td>auto</td>\n",
       "      <td>200</td>\n",
       "      <td>{'bootstrap': True, 'max_features': 'auto', 'n...</td>\n",
       "      <td>-12872.084106</td>\n",
       "      <td>-12303.516474</td>\n",
       "      <td>-12017.736693</td>\n",
       "      <td>-11822.013151</td>\n",
       "      <td>-11693.288035</td>\n",
       "      <td>-12141.727692</td>\n",
       "      <td>419.114634</td>\n",
       "      <td>4</td>\n",
       "    </tr>\n",
       "    <tr>\n",
       "      <th>2</th>\n",
       "      <td>0.398502</td>\n",
       "      <td>0.015444</td>\n",
       "      <td>0.011305</td>\n",
       "      <td>0.000255</td>\n",
       "      <td>True</td>\n",
       "      <td>auto</td>\n",
       "      <td>100</td>\n",
       "      <td>{'bootstrap': True, 'max_features': 'auto', 'n...</td>\n",
       "      <td>-12863.365546</td>\n",
       "      <td>-12295.196489</td>\n",
       "      <td>-12029.882993</td>\n",
       "      <td>-11829.128965</td>\n",
       "      <td>-11709.654240</td>\n",
       "      <td>-12145.445647</td>\n",
       "      <td>410.160802</td>\n",
       "      <td>5</td>\n",
       "    </tr>\n",
       "    <tr>\n",
       "      <th>15</th>\n",
       "      <td>0.055975</td>\n",
       "      <td>0.001055</td>\n",
       "      <td>0.002885</td>\n",
       "      <td>0.000116</td>\n",
       "      <td>False</td>\n",
       "      <td>auto</td>\n",
       "      <td>10</td>\n",
       "      <td>{'bootstrap': False, 'max_features': 'auto', '...</td>\n",
       "      <td>-13291.463973</td>\n",
       "      <td>-12730.033563</td>\n",
       "      <td>-12563.156641</td>\n",
       "      <td>-12262.362004</td>\n",
       "      <td>-12154.126027</td>\n",
       "      <td>-12600.228442</td>\n",
       "      <td>402.291273</td>\n",
       "      <td>6</td>\n",
       "    </tr>\n",
       "    <tr>\n",
       "      <th>19</th>\n",
       "      <td>1.051405</td>\n",
       "      <td>0.018596</td>\n",
       "      <td>0.020022</td>\n",
       "      <td>0.000471</td>\n",
       "      <td>False</td>\n",
       "      <td>auto</td>\n",
       "      <td>200</td>\n",
       "      <td>{'bootstrap': False, 'max_features': 'auto', '...</td>\n",
       "      <td>-13291.463973</td>\n",
       "      <td>-12730.033563</td>\n",
       "      <td>-12563.156641</td>\n",
       "      <td>-12262.362004</td>\n",
       "      <td>-12154.126027</td>\n",
       "      <td>-12600.228442</td>\n",
       "      <td>402.291273</td>\n",
       "      <td>7</td>\n",
       "    </tr>\n",
       "    <tr>\n",
       "      <th>18</th>\n",
       "      <td>0.785550</td>\n",
       "      <td>0.009434</td>\n",
       "      <td>0.015150</td>\n",
       "      <td>0.000083</td>\n",
       "      <td>False</td>\n",
       "      <td>auto</td>\n",
       "      <td>150</td>\n",
       "      <td>{'bootstrap': False, 'max_features': 'auto', '...</td>\n",
       "      <td>-13291.463973</td>\n",
       "      <td>-12730.033563</td>\n",
       "      <td>-12563.156641</td>\n",
       "      <td>-12262.362004</td>\n",
       "      <td>-12154.126027</td>\n",
       "      <td>-12600.228442</td>\n",
       "      <td>402.291273</td>\n",
       "      <td>7</td>\n",
       "    </tr>\n",
       "    <tr>\n",
       "      <th>17</th>\n",
       "      <td>0.523593</td>\n",
       "      <td>0.005145</td>\n",
       "      <td>0.010967</td>\n",
       "      <td>0.000570</td>\n",
       "      <td>False</td>\n",
       "      <td>auto</td>\n",
       "      <td>100</td>\n",
       "      <td>{'bootstrap': False, 'max_features': 'auto', '...</td>\n",
       "      <td>-13291.463973</td>\n",
       "      <td>-12730.033563</td>\n",
       "      <td>-12563.156641</td>\n",
       "      <td>-12262.362004</td>\n",
       "      <td>-12154.126027</td>\n",
       "      <td>-12600.228442</td>\n",
       "      <td>402.291273</td>\n",
       "      <td>7</td>\n",
       "    </tr>\n",
       "    <tr>\n",
       "      <th>16</th>\n",
       "      <td>0.264440</td>\n",
       "      <td>0.003310</td>\n",
       "      <td>0.006494</td>\n",
       "      <td>0.000277</td>\n",
       "      <td>False</td>\n",
       "      <td>auto</td>\n",
       "      <td>50</td>\n",
       "      <td>{'bootstrap': False, 'max_features': 'auto', '...</td>\n",
       "      <td>-13291.463973</td>\n",
       "      <td>-12730.033563</td>\n",
       "      <td>-12563.156641</td>\n",
       "      <td>-12262.362004</td>\n",
       "      <td>-12154.126027</td>\n",
       "      <td>-12600.228442</td>\n",
       "      <td>402.291273</td>\n",
       "      <td>7</td>\n",
       "    </tr>\n",
       "    <tr>\n",
       "      <th>5</th>\n",
       "      <td>0.020409</td>\n",
       "      <td>0.000584</td>\n",
       "      <td>0.002797</td>\n",
       "      <td>0.000203</td>\n",
       "      <td>True</td>\n",
       "      <td>log2</td>\n",
       "      <td>10</td>\n",
       "      <td>{'bootstrap': True, 'max_features': 'log2', 'n...</td>\n",
       "      <td>-16434.109128</td>\n",
       "      <td>-16556.907116</td>\n",
       "      <td>-14635.001235</td>\n",
       "      <td>-15236.665668</td>\n",
       "      <td>-13143.002526</td>\n",
       "      <td>-15201.137135</td>\n",
       "      <td>1258.254536</td>\n",
       "      <td>11</td>\n",
       "    </tr>\n",
       "    <tr>\n",
       "      <th>10</th>\n",
       "      <td>0.020694</td>\n",
       "      <td>0.000326</td>\n",
       "      <td>0.002781</td>\n",
       "      <td>0.000237</td>\n",
       "      <td>True</td>\n",
       "      <td>sqrt</td>\n",
       "      <td>10</td>\n",
       "      <td>{'bootstrap': True, 'max_features': 'sqrt', 'n...</td>\n",
       "      <td>-16434.109128</td>\n",
       "      <td>-16556.907116</td>\n",
       "      <td>-14635.001235</td>\n",
       "      <td>-15236.665668</td>\n",
       "      <td>-13143.002526</td>\n",
       "      <td>-15201.137135</td>\n",
       "      <td>1258.254536</td>\n",
       "      <td>11</td>\n",
       "    </tr>\n",
       "    <tr>\n",
       "      <th>20</th>\n",
       "      <td>0.022699</td>\n",
       "      <td>0.000468</td>\n",
       "      <td>0.002989</td>\n",
       "      <td>0.000174</td>\n",
       "      <td>False</td>\n",
       "      <td>log2</td>\n",
       "      <td>10</td>\n",
       "      <td>{'bootstrap': False, 'max_features': 'log2', '...</td>\n",
       "      <td>-16363.766219</td>\n",
       "      <td>-16523.361100</td>\n",
       "      <td>-14570.665664</td>\n",
       "      <td>-15253.884131</td>\n",
       "      <td>-13473.401519</td>\n",
       "      <td>-15237.015727</td>\n",
       "      <td>1138.322723</td>\n",
       "      <td>13</td>\n",
       "    </tr>\n",
       "    <tr>\n",
       "      <th>25</th>\n",
       "      <td>0.026201</td>\n",
       "      <td>0.001311</td>\n",
       "      <td>0.003556</td>\n",
       "      <td>0.000526</td>\n",
       "      <td>False</td>\n",
       "      <td>sqrt</td>\n",
       "      <td>10</td>\n",
       "      <td>{'bootstrap': False, 'max_features': 'sqrt', '...</td>\n",
       "      <td>-16363.766219</td>\n",
       "      <td>-16523.361100</td>\n",
       "      <td>-14570.665664</td>\n",
       "      <td>-15253.884131</td>\n",
       "      <td>-13473.401519</td>\n",
       "      <td>-15237.015727</td>\n",
       "      <td>1138.322723</td>\n",
       "      <td>13</td>\n",
       "    </tr>\n",
       "    <tr>\n",
       "      <th>11</th>\n",
       "      <td>0.089900</td>\n",
       "      <td>0.002377</td>\n",
       "      <td>0.006575</td>\n",
       "      <td>0.000362</td>\n",
       "      <td>True</td>\n",
       "      <td>sqrt</td>\n",
       "      <td>50</td>\n",
       "      <td>{'bootstrap': True, 'max_features': 'sqrt', 'n...</td>\n",
       "      <td>-16166.682693</td>\n",
       "      <td>-16348.899712</td>\n",
       "      <td>-14777.255785</td>\n",
       "      <td>-15201.580284</td>\n",
       "      <td>-14251.469182</td>\n",
       "      <td>-15349.177531</td>\n",
       "      <td>802.695730</td>\n",
       "      <td>15</td>\n",
       "    </tr>\n",
       "    <tr>\n",
       "      <th>6</th>\n",
       "      <td>0.087421</td>\n",
       "      <td>0.000641</td>\n",
       "      <td>0.006827</td>\n",
       "      <td>0.000584</td>\n",
       "      <td>True</td>\n",
       "      <td>log2</td>\n",
       "      <td>50</td>\n",
       "      <td>{'bootstrap': True, 'max_features': 'log2', 'n...</td>\n",
       "      <td>-16166.682693</td>\n",
       "      <td>-16348.899712</td>\n",
       "      <td>-14777.255785</td>\n",
       "      <td>-15201.580284</td>\n",
       "      <td>-14251.469182</td>\n",
       "      <td>-15349.177531</td>\n",
       "      <td>802.695730</td>\n",
       "      <td>15</td>\n",
       "    </tr>\n",
       "    <tr>\n",
       "      <th>26</th>\n",
       "      <td>0.100560</td>\n",
       "      <td>0.004058</td>\n",
       "      <td>0.007008</td>\n",
       "      <td>0.000416</td>\n",
       "      <td>False</td>\n",
       "      <td>sqrt</td>\n",
       "      <td>50</td>\n",
       "      <td>{'bootstrap': False, 'max_features': 'sqrt', '...</td>\n",
       "      <td>-16483.922914</td>\n",
       "      <td>-16393.919321</td>\n",
       "      <td>-14863.159863</td>\n",
       "      <td>-15345.863453</td>\n",
       "      <td>-14295.699477</td>\n",
       "      <td>-15476.513006</td>\n",
       "      <td>853.709675</td>\n",
       "      <td>17</td>\n",
       "    </tr>\n",
       "    <tr>\n",
       "      <th>21</th>\n",
       "      <td>0.093434</td>\n",
       "      <td>0.001400</td>\n",
       "      <td>0.006720</td>\n",
       "      <td>0.000186</td>\n",
       "      <td>False</td>\n",
       "      <td>log2</td>\n",
       "      <td>50</td>\n",
       "      <td>{'bootstrap': False, 'max_features': 'log2', '...</td>\n",
       "      <td>-16483.922914</td>\n",
       "      <td>-16393.919321</td>\n",
       "      <td>-14863.159863</td>\n",
       "      <td>-15345.863453</td>\n",
       "      <td>-14295.699477</td>\n",
       "      <td>-15476.513006</td>\n",
       "      <td>853.709675</td>\n",
       "      <td>17</td>\n",
       "    </tr>\n",
       "    <tr>\n",
       "      <th>7</th>\n",
       "      <td>0.173341</td>\n",
       "      <td>0.002821</td>\n",
       "      <td>0.011279</td>\n",
       "      <td>0.000185</td>\n",
       "      <td>True</td>\n",
       "      <td>log2</td>\n",
       "      <td>100</td>\n",
       "      <td>{'bootstrap': True, 'max_features': 'log2', 'n...</td>\n",
       "      <td>-16534.798507</td>\n",
       "      <td>-16739.901852</td>\n",
       "      <td>-14992.191256</td>\n",
       "      <td>-15427.232331</td>\n",
       "      <td>-14575.987139</td>\n",
       "      <td>-15654.022217</td>\n",
       "      <td>849.295586</td>\n",
       "      <td>19</td>\n",
       "    </tr>\n",
       "    <tr>\n",
       "      <th>12</th>\n",
       "      <td>0.174107</td>\n",
       "      <td>0.004673</td>\n",
       "      <td>0.011426</td>\n",
       "      <td>0.000542</td>\n",
       "      <td>True</td>\n",
       "      <td>sqrt</td>\n",
       "      <td>100</td>\n",
       "      <td>{'bootstrap': True, 'max_features': 'sqrt', 'n...</td>\n",
       "      <td>-16534.798507</td>\n",
       "      <td>-16739.901852</td>\n",
       "      <td>-14992.191256</td>\n",
       "      <td>-15427.232331</td>\n",
       "      <td>-14575.987139</td>\n",
       "      <td>-15654.022217</td>\n",
       "      <td>849.295586</td>\n",
       "      <td>19</td>\n",
       "    </tr>\n",
       "    <tr>\n",
       "      <th>27</th>\n",
       "      <td>0.186100</td>\n",
       "      <td>0.008347</td>\n",
       "      <td>0.011286</td>\n",
       "      <td>0.000762</td>\n",
       "      <td>False</td>\n",
       "      <td>sqrt</td>\n",
       "      <td>100</td>\n",
       "      <td>{'bootstrap': False, 'max_features': 'sqrt', '...</td>\n",
       "      <td>-16497.229321</td>\n",
       "      <td>-16555.902981</td>\n",
       "      <td>-15045.670590</td>\n",
       "      <td>-15603.262651</td>\n",
       "      <td>-14601.025810</td>\n",
       "      <td>-15660.618271</td>\n",
       "      <td>775.324353</td>\n",
       "      <td>21</td>\n",
       "    </tr>\n",
       "    <tr>\n",
       "      <th>22</th>\n",
       "      <td>0.181022</td>\n",
       "      <td>0.002124</td>\n",
       "      <td>0.011164</td>\n",
       "      <td>0.000346</td>\n",
       "      <td>False</td>\n",
       "      <td>log2</td>\n",
       "      <td>100</td>\n",
       "      <td>{'bootstrap': False, 'max_features': 'log2', '...</td>\n",
       "      <td>-16497.229321</td>\n",
       "      <td>-16555.902981</td>\n",
       "      <td>-15045.670590</td>\n",
       "      <td>-15603.262651</td>\n",
       "      <td>-14601.025810</td>\n",
       "      <td>-15660.618271</td>\n",
       "      <td>775.324353</td>\n",
       "      <td>21</td>\n",
       "    </tr>\n",
       "    <tr>\n",
       "      <th>28</th>\n",
       "      <td>0.269181</td>\n",
       "      <td>0.006479</td>\n",
       "      <td>0.015171</td>\n",
       "      <td>0.001039</td>\n",
       "      <td>False</td>\n",
       "      <td>sqrt</td>\n",
       "      <td>150</td>\n",
       "      <td>{'bootstrap': False, 'max_features': 'sqrt', '...</td>\n",
       "      <td>-16573.514449</td>\n",
       "      <td>-16631.227324</td>\n",
       "      <td>-15178.446378</td>\n",
       "      <td>-15655.397679</td>\n",
       "      <td>-14478.652803</td>\n",
       "      <td>-15703.447726</td>\n",
       "      <td>824.117578</td>\n",
       "      <td>23</td>\n",
       "    </tr>\n",
       "    <tr>\n",
       "      <th>23</th>\n",
       "      <td>0.302915</td>\n",
       "      <td>0.045388</td>\n",
       "      <td>0.018177</td>\n",
       "      <td>0.002922</td>\n",
       "      <td>False</td>\n",
       "      <td>log2</td>\n",
       "      <td>150</td>\n",
       "      <td>{'bootstrap': False, 'max_features': 'log2', '...</td>\n",
       "      <td>-16573.514449</td>\n",
       "      <td>-16631.227324</td>\n",
       "      <td>-15178.446378</td>\n",
       "      <td>-15655.397679</td>\n",
       "      <td>-14478.652803</td>\n",
       "      <td>-15703.447726</td>\n",
       "      <td>824.117578</td>\n",
       "      <td>23</td>\n",
       "    </tr>\n",
       "    <tr>\n",
       "      <th>8</th>\n",
       "      <td>0.253477</td>\n",
       "      <td>0.000535</td>\n",
       "      <td>0.015717</td>\n",
       "      <td>0.000911</td>\n",
       "      <td>True</td>\n",
       "      <td>log2</td>\n",
       "      <td>150</td>\n",
       "      <td>{'bootstrap': True, 'max_features': 'log2', 'n...</td>\n",
       "      <td>-16657.959782</td>\n",
       "      <td>-16703.147960</td>\n",
       "      <td>-15157.370964</td>\n",
       "      <td>-15550.372042</td>\n",
       "      <td>-14527.397874</td>\n",
       "      <td>-15719.249725</td>\n",
       "      <td>850.172989</td>\n",
       "      <td>25</td>\n",
       "    </tr>\n",
       "    <tr>\n",
       "      <th>13</th>\n",
       "      <td>0.261412</td>\n",
       "      <td>0.005989</td>\n",
       "      <td>0.015936</td>\n",
       "      <td>0.000534</td>\n",
       "      <td>True</td>\n",
       "      <td>sqrt</td>\n",
       "      <td>150</td>\n",
       "      <td>{'bootstrap': True, 'max_features': 'sqrt', 'n...</td>\n",
       "      <td>-16657.959782</td>\n",
       "      <td>-16703.147960</td>\n",
       "      <td>-15157.370964</td>\n",
       "      <td>-15550.372042</td>\n",
       "      <td>-14527.397874</td>\n",
       "      <td>-15719.249725</td>\n",
       "      <td>850.172989</td>\n",
       "      <td>25</td>\n",
       "    </tr>\n",
       "    <tr>\n",
       "      <th>14</th>\n",
       "      <td>0.339666</td>\n",
       "      <td>0.002268</td>\n",
       "      <td>0.019877</td>\n",
       "      <td>0.000351</td>\n",
       "      <td>True</td>\n",
       "      <td>sqrt</td>\n",
       "      <td>200</td>\n",
       "      <td>{'bootstrap': True, 'max_features': 'sqrt', 'n...</td>\n",
       "      <td>-16742.606810</td>\n",
       "      <td>-16773.834504</td>\n",
       "      <td>-15246.192180</td>\n",
       "      <td>-15682.467430</td>\n",
       "      <td>-14589.594747</td>\n",
       "      <td>-15806.939134</td>\n",
       "      <td>851.142569</td>\n",
       "      <td>27</td>\n",
       "    </tr>\n",
       "    <tr>\n",
       "      <th>9</th>\n",
       "      <td>0.338430</td>\n",
       "      <td>0.002933</td>\n",
       "      <td>0.020316</td>\n",
       "      <td>0.000458</td>\n",
       "      <td>True</td>\n",
       "      <td>log2</td>\n",
       "      <td>200</td>\n",
       "      <td>{'bootstrap': True, 'max_features': 'log2', 'n...</td>\n",
       "      <td>-16742.606810</td>\n",
       "      <td>-16773.834504</td>\n",
       "      <td>-15246.192180</td>\n",
       "      <td>-15682.467430</td>\n",
       "      <td>-14589.594747</td>\n",
       "      <td>-15806.939134</td>\n",
       "      <td>851.142569</td>\n",
       "      <td>27</td>\n",
       "    </tr>\n",
       "    <tr>\n",
       "      <th>24</th>\n",
       "      <td>0.366185</td>\n",
       "      <td>0.007132</td>\n",
       "      <td>0.021026</td>\n",
       "      <td>0.001110</td>\n",
       "      <td>False</td>\n",
       "      <td>log2</td>\n",
       "      <td>200</td>\n",
       "      <td>{'bootstrap': False, 'max_features': 'log2', '...</td>\n",
       "      <td>-16703.054056</td>\n",
       "      <td>-16819.152004</td>\n",
       "      <td>-15315.881993</td>\n",
       "      <td>-15779.591111</td>\n",
       "      <td>-14611.207109</td>\n",
       "      <td>-15845.777254</td>\n",
       "      <td>835.669188</td>\n",
       "      <td>29</td>\n",
       "    </tr>\n",
       "    <tr>\n",
       "      <th>29</th>\n",
       "      <td>0.353092</td>\n",
       "      <td>0.005959</td>\n",
       "      <td>0.019731</td>\n",
       "      <td>0.000805</td>\n",
       "      <td>False</td>\n",
       "      <td>sqrt</td>\n",
       "      <td>200</td>\n",
       "      <td>{'bootstrap': False, 'max_features': 'sqrt', '...</td>\n",
       "      <td>-16703.054056</td>\n",
       "      <td>-16819.152004</td>\n",
       "      <td>-15315.881993</td>\n",
       "      <td>-15779.591111</td>\n",
       "      <td>-14611.207109</td>\n",
       "      <td>-15845.777254</td>\n",
       "      <td>835.669188</td>\n",
       "      <td>29</td>\n",
       "    </tr>\n",
       "  </tbody>\n",
       "</table>\n",
       "</div>"
      ],
      "text/plain": [
       "    mean_fit_time  std_fit_time  mean_score_time  std_score_time  \\\n",
       "1        0.196390      0.001788         0.006238        0.000262   \n",
       "0        0.050635      0.011691         0.003201        0.000434   \n",
       "3        0.587523      0.004886         0.015947        0.000274   \n",
       "4        0.787088      0.008124         0.020497        0.000730   \n",
       "2        0.398502      0.015444         0.011305        0.000255   \n",
       "15       0.055975      0.001055         0.002885        0.000116   \n",
       "19       1.051405      0.018596         0.020022        0.000471   \n",
       "18       0.785550      0.009434         0.015150        0.000083   \n",
       "17       0.523593      0.005145         0.010967        0.000570   \n",
       "16       0.264440      0.003310         0.006494        0.000277   \n",
       "5        0.020409      0.000584         0.002797        0.000203   \n",
       "10       0.020694      0.000326         0.002781        0.000237   \n",
       "20       0.022699      0.000468         0.002989        0.000174   \n",
       "25       0.026201      0.001311         0.003556        0.000526   \n",
       "11       0.089900      0.002377         0.006575        0.000362   \n",
       "6        0.087421      0.000641         0.006827        0.000584   \n",
       "26       0.100560      0.004058         0.007008        0.000416   \n",
       "21       0.093434      0.001400         0.006720        0.000186   \n",
       "7        0.173341      0.002821         0.011279        0.000185   \n",
       "12       0.174107      0.004673         0.011426        0.000542   \n",
       "27       0.186100      0.008347         0.011286        0.000762   \n",
       "22       0.181022      0.002124         0.011164        0.000346   \n",
       "28       0.269181      0.006479         0.015171        0.001039   \n",
       "23       0.302915      0.045388         0.018177        0.002922   \n",
       "8        0.253477      0.000535         0.015717        0.000911   \n",
       "13       0.261412      0.005989         0.015936        0.000534   \n",
       "14       0.339666      0.002268         0.019877        0.000351   \n",
       "9        0.338430      0.002933         0.020316        0.000458   \n",
       "24       0.366185      0.007132         0.021026        0.001110   \n",
       "29       0.353092      0.005959         0.019731        0.000805   \n",
       "\n",
       "   param_bootstrap param_max_features param_n_estimators  \\\n",
       "1             True               auto                 50   \n",
       "0             True               auto                 10   \n",
       "3             True               auto                150   \n",
       "4             True               auto                200   \n",
       "2             True               auto                100   \n",
       "15           False               auto                 10   \n",
       "19           False               auto                200   \n",
       "18           False               auto                150   \n",
       "17           False               auto                100   \n",
       "16           False               auto                 50   \n",
       "5             True               log2                 10   \n",
       "10            True               sqrt                 10   \n",
       "20           False               log2                 10   \n",
       "25           False               sqrt                 10   \n",
       "11            True               sqrt                 50   \n",
       "6             True               log2                 50   \n",
       "26           False               sqrt                 50   \n",
       "21           False               log2                 50   \n",
       "7             True               log2                100   \n",
       "12            True               sqrt                100   \n",
       "27           False               sqrt                100   \n",
       "22           False               log2                100   \n",
       "28           False               sqrt                150   \n",
       "23           False               log2                150   \n",
       "8             True               log2                150   \n",
       "13            True               sqrt                150   \n",
       "14            True               sqrt                200   \n",
       "9             True               log2                200   \n",
       "24           False               log2                200   \n",
       "29           False               sqrt                200   \n",
       "\n",
       "                                               params  split0_test_score  \\\n",
       "1   {'bootstrap': True, 'max_features': 'auto', 'n...      -12857.638582   \n",
       "0   {'bootstrap': True, 'max_features': 'auto', 'n...      -12898.659930   \n",
       "3   {'bootstrap': True, 'max_features': 'auto', 'n...      -12861.484575   \n",
       "4   {'bootstrap': True, 'max_features': 'auto', 'n...      -12872.084106   \n",
       "2   {'bootstrap': True, 'max_features': 'auto', 'n...      -12863.365546   \n",
       "15  {'bootstrap': False, 'max_features': 'auto', '...      -13291.463973   \n",
       "19  {'bootstrap': False, 'max_features': 'auto', '...      -13291.463973   \n",
       "18  {'bootstrap': False, 'max_features': 'auto', '...      -13291.463973   \n",
       "17  {'bootstrap': False, 'max_features': 'auto', '...      -13291.463973   \n",
       "16  {'bootstrap': False, 'max_features': 'auto', '...      -13291.463973   \n",
       "5   {'bootstrap': True, 'max_features': 'log2', 'n...      -16434.109128   \n",
       "10  {'bootstrap': True, 'max_features': 'sqrt', 'n...      -16434.109128   \n",
       "20  {'bootstrap': False, 'max_features': 'log2', '...      -16363.766219   \n",
       "25  {'bootstrap': False, 'max_features': 'sqrt', '...      -16363.766219   \n",
       "11  {'bootstrap': True, 'max_features': 'sqrt', 'n...      -16166.682693   \n",
       "6   {'bootstrap': True, 'max_features': 'log2', 'n...      -16166.682693   \n",
       "26  {'bootstrap': False, 'max_features': 'sqrt', '...      -16483.922914   \n",
       "21  {'bootstrap': False, 'max_features': 'log2', '...      -16483.922914   \n",
       "7   {'bootstrap': True, 'max_features': 'log2', 'n...      -16534.798507   \n",
       "12  {'bootstrap': True, 'max_features': 'sqrt', 'n...      -16534.798507   \n",
       "27  {'bootstrap': False, 'max_features': 'sqrt', '...      -16497.229321   \n",
       "22  {'bootstrap': False, 'max_features': 'log2', '...      -16497.229321   \n",
       "28  {'bootstrap': False, 'max_features': 'sqrt', '...      -16573.514449   \n",
       "23  {'bootstrap': False, 'max_features': 'log2', '...      -16573.514449   \n",
       "8   {'bootstrap': True, 'max_features': 'log2', 'n...      -16657.959782   \n",
       "13  {'bootstrap': True, 'max_features': 'sqrt', 'n...      -16657.959782   \n",
       "14  {'bootstrap': True, 'max_features': 'sqrt', 'n...      -16742.606810   \n",
       "9   {'bootstrap': True, 'max_features': 'log2', 'n...      -16742.606810   \n",
       "24  {'bootstrap': False, 'max_features': 'log2', '...      -16703.054056   \n",
       "29  {'bootstrap': False, 'max_features': 'sqrt', '...      -16703.054056   \n",
       "\n",
       "    split1_test_score  split2_test_score  split3_test_score  \\\n",
       "1       -12288.881203      -12053.663979      -11811.890794   \n",
       "0       -12315.934683      -12048.604479      -11793.680430   \n",
       "3       -12303.369851      -12025.419033      -11816.470050   \n",
       "4       -12303.516474      -12017.736693      -11822.013151   \n",
       "2       -12295.196489      -12029.882993      -11829.128965   \n",
       "15      -12730.033563      -12563.156641      -12262.362004   \n",
       "19      -12730.033563      -12563.156641      -12262.362004   \n",
       "18      -12730.033563      -12563.156641      -12262.362004   \n",
       "17      -12730.033563      -12563.156641      -12262.362004   \n",
       "16      -12730.033563      -12563.156641      -12262.362004   \n",
       "5       -16556.907116      -14635.001235      -15236.665668   \n",
       "10      -16556.907116      -14635.001235      -15236.665668   \n",
       "20      -16523.361100      -14570.665664      -15253.884131   \n",
       "25      -16523.361100      -14570.665664      -15253.884131   \n",
       "11      -16348.899712      -14777.255785      -15201.580284   \n",
       "6       -16348.899712      -14777.255785      -15201.580284   \n",
       "26      -16393.919321      -14863.159863      -15345.863453   \n",
       "21      -16393.919321      -14863.159863      -15345.863453   \n",
       "7       -16739.901852      -14992.191256      -15427.232331   \n",
       "12      -16739.901852      -14992.191256      -15427.232331   \n",
       "27      -16555.902981      -15045.670590      -15603.262651   \n",
       "22      -16555.902981      -15045.670590      -15603.262651   \n",
       "28      -16631.227324      -15178.446378      -15655.397679   \n",
       "23      -16631.227324      -15178.446378      -15655.397679   \n",
       "8       -16703.147960      -15157.370964      -15550.372042   \n",
       "13      -16703.147960      -15157.370964      -15550.372042   \n",
       "14      -16773.834504      -15246.192180      -15682.467430   \n",
       "9       -16773.834504      -15246.192180      -15682.467430   \n",
       "24      -16819.152004      -15315.881993      -15779.591111   \n",
       "29      -16819.152004      -15315.881993      -15779.591111   \n",
       "\n",
       "    split4_test_score  mean_test_score  std_test_score  rank_test_score  \n",
       "1       -11661.944626    -12134.803837      419.686132                1  \n",
       "0       -11619.620390    -12135.299982      448.440135                2  \n",
       "3       -11685.672766    -12138.483255      417.476193                3  \n",
       "4       -11693.288035    -12141.727692      419.114634                4  \n",
       "2       -11709.654240    -12145.445647      410.160802                5  \n",
       "15      -12154.126027    -12600.228442      402.291273                6  \n",
       "19      -12154.126027    -12600.228442      402.291273                7  \n",
       "18      -12154.126027    -12600.228442      402.291273                7  \n",
       "17      -12154.126027    -12600.228442      402.291273                7  \n",
       "16      -12154.126027    -12600.228442      402.291273                7  \n",
       "5       -13143.002526    -15201.137135     1258.254536               11  \n",
       "10      -13143.002526    -15201.137135     1258.254536               11  \n",
       "20      -13473.401519    -15237.015727     1138.322723               13  \n",
       "25      -13473.401519    -15237.015727     1138.322723               13  \n",
       "11      -14251.469182    -15349.177531      802.695730               15  \n",
       "6       -14251.469182    -15349.177531      802.695730               15  \n",
       "26      -14295.699477    -15476.513006      853.709675               17  \n",
       "21      -14295.699477    -15476.513006      853.709675               17  \n",
       "7       -14575.987139    -15654.022217      849.295586               19  \n",
       "12      -14575.987139    -15654.022217      849.295586               19  \n",
       "27      -14601.025810    -15660.618271      775.324353               21  \n",
       "22      -14601.025810    -15660.618271      775.324353               21  \n",
       "28      -14478.652803    -15703.447726      824.117578               23  \n",
       "23      -14478.652803    -15703.447726      824.117578               23  \n",
       "8       -14527.397874    -15719.249725      850.172989               25  \n",
       "13      -14527.397874    -15719.249725      850.172989               25  \n",
       "14      -14589.594747    -15806.939134      851.142569               27  \n",
       "9       -14589.594747    -15806.939134      851.142569               27  \n",
       "24      -14611.207109    -15845.777254      835.669188               29  \n",
       "29      -14611.207109    -15845.777254      835.669188               29  "
      ]
     },
     "execution_count": 42,
     "metadata": {},
     "output_type": "execute_result"
    }
   ],
   "source": [
    "pd.DataFrame(grid.cv_results_).sort_values('rank_test_score')"
   ]
  },
  {
   "cell_type": "markdown",
   "metadata": {},
   "source": [
    "#### Getting the best parameter"
   ]
  },
  {
   "cell_type": "code",
   "execution_count": 43,
   "metadata": {},
   "outputs": [
    {
     "name": "stdout",
     "output_type": "stream",
     "text": [
      "{'bootstrap': True, 'max_features': 'auto', 'n_estimators': 50}\n"
     ]
    }
   ],
   "source": [
    "grid_param = grid.best_params_\n",
    "print(grid_param)"
   ]
  },
  {
   "cell_type": "markdown",
   "metadata": {},
   "source": [
    "#### Building Model with best parameters"
   ]
  },
  {
   "cell_type": "code",
   "execution_count": 44,
   "metadata": {},
   "outputs": [],
   "source": [
    "rf = RandomForestRegressor(max_depth=val_max_depth, random_state=val_random_state, \n",
    "                           bootstrap=grid_param['bootstrap'],\n",
    "                           max_features=grid_param['max_features'],\n",
    "                           n_estimators=grid_param['n_estimators']\n",
    "                          )"
   ]
  },
  {
   "cell_type": "markdown",
   "metadata": {},
   "source": [
    "#### Fitting the model and predicting with test data"
   ]
  },
  {
   "cell_type": "code",
   "execution_count": 45,
   "metadata": {},
   "outputs": [],
   "source": [
    "rf.fit(X_train,Y_train)\n",
    "Y_predict_rf = rf.predict(X_test)"
   ]
  },
  {
   "cell_type": "markdown",
   "metadata": {},
   "source": [
    "##### Calculating Mean Squared Log Error "
   ]
  },
  {
   "cell_type": "code",
   "execution_count": 46,
   "metadata": {},
   "outputs": [
    {
     "name": "stdout",
     "output_type": "stream",
     "text": [
      "Mean Squared Log Error = 0.539\n"
     ]
    }
   ],
   "source": [
    "print(f'Mean Squared Log Error =',round(mean_squared_log_error(Y_test, Y_predict_rf),3))"
   ]
  },
  {
   "cell_type": "code",
   "execution_count": null,
   "metadata": {},
   "outputs": [],
   "source": []
  }
 ],
 "metadata": {
  "kernelspec": {
   "display_name": "Python 3",
   "language": "python",
   "name": "python3"
  },
  "language_info": {
   "codemirror_mode": {
    "name": "ipython",
    "version": 3
   },
   "file_extension": ".py",
   "mimetype": "text/x-python",
   "name": "python",
   "nbconvert_exporter": "python",
   "pygments_lexer": "ipython3",
   "version": "3.7.6"
  }
 },
 "nbformat": 4,
 "nbformat_minor": 4
}
