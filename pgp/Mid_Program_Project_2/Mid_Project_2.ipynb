{
 "cells": [
  {
   "cell_type": "markdown",
   "metadata": {
    "id": "KX6chww6-b6f"
   },
   "source": [
    "# Mid Project 2\n",
    "\n",
    "## Handwritten Character Recognition\n",
    "\n",
    "#### The aim of this project is to automatically convert handwritten text into machine encoded text."
   ]
  },
  {
   "cell_type": "markdown",
   "metadata": {
    "id": "60keG19d-gzx"
   },
   "source": [
    "## Importing Libraries"
   ]
  },
  {
   "cell_type": "code",
   "execution_count": 1,
   "metadata": {
    "id": "iDv-4kjh-Yac"
   },
   "outputs": [],
   "source": [
    "# Importing the libraries\n",
    "import numpy as np\n",
    "import datetime\n",
    "import matplotlib.pyplot as plt\n",
    "import matplotlib.image as mpimg\n",
    "plt.style.use('fivethirtyeight')\n",
    "import string\n",
    "import os\n",
    "import pandas as pd\n",
    "from sklearn.preprocessing import MinMaxScaler\n",
    "from tensorflow.keras.models import Sequential\n",
    "from tensorflow.keras.layers import Dense, Conv2D, Flatten, Dropout, MaxPooling2D, Activation, BatchNormalization, Lambda, LSTM, Bidirectional, Embedding, Input, InputLayer\n",
    "import keras.backend as K\n",
    "import tensorflow.keras as keras\n",
    "\n",
    "from keras.callbacks import ModelCheckpoint\n",
    "import math\n",
    "from sklearn.metrics import mean_squared_error\n",
    "\n",
    "import cv2\n",
    "from google.colab.patches import cv2_imshow\n",
    "from IPython.display import Image, display\n",
    "\n",
    "from sklearn.model_selection import train_test_split\n",
    "from keras.preprocessing.sequence import pad_sequences"
   ]
  },
  {
   "cell_type": "markdown",
   "metadata": {
    "id": "NZ5usr6YZn3n"
   },
   "source": [
    "## Importing Datasets"
   ]
  },
  {
   "cell_type": "code",
   "execution_count": 2,
   "metadata": {
    "colab": {
     "base_uri": "https://localhost:8080/"
    },
    "id": "UPk00VpdZkTq",
    "outputId": "90e058e6-f182-4007-eed7-100b4b50a952"
   },
   "outputs": [
    {
     "name": "stdout",
     "output_type": "stream",
     "text": [
      "Drive already mounted at /content/drive; to attempt to forcibly remount, call drive.mount(\"/content/drive\", force_remount=True).\n"
     ]
    }
   ],
   "source": [
    "from google.colab import drive\n",
    "drive.mount('/content/drive')"
   ]
  },
  {
   "cell_type": "code",
   "execution_count": 3,
   "metadata": {
    "colab": {
     "base_uri": "https://localhost:8080/"
    },
    "id": "5UAspYnLZvIF",
    "outputId": "c12a97b4-acb3-4d77-ef9b-5992a112e8ba"
   },
   "outputs": [
    {
     "name": "stdout",
     "output_type": "stream",
     "text": [
      "total 82989\n",
      "-rw-------  1 root root  5297020 Apr 25 17:48 parser.txt\n",
      "drwx------ 11 root root     4096 Apr 26 21:26 words\n",
      "-rw-------  1 root root 79679112 May 16 00:21 handwritten_text_best_model.h5\n"
     ]
    }
   ],
   "source": [
    "!ls -ltr \"/content/drive/My Drive/Dataset/Mid_Project_2\""
   ]
  },
  {
   "cell_type": "code",
   "execution_count": 4,
   "metadata": {
    "id": "WD9gQ0LnZ06q"
   },
   "outputs": [],
   "source": [
    "colnames=['word_id', 'word_status', 'greylevel','bb_x','bb_y','bb_w','bb_h','tag','word'] \n",
    "data = pd.read_csv(r'/content/drive/My Drive/Dataset/Mid_Project_2/parser.txt',sep=' ', names = colnames)"
   ]
  },
  {
   "cell_type": "code",
   "execution_count": 5,
   "metadata": {
    "colab": {
     "base_uri": "https://localhost:8080/",
     "height": 206
    },
    "id": "f8CBKfvxaDV9",
    "outputId": "d5257acf-7c5c-4f73-df7c-a9e75d809963"
   },
   "outputs": [
    {
     "data": {
      "text/html": [
       "\n",
       "  <div id=\"df-a2f1eb38-5df0-4a99-a360-3020fadb2ccf\">\n",
       "    <div class=\"colab-df-container\">\n",
       "      <div>\n",
       "<style scoped>\n",
       "    .dataframe tbody tr th:only-of-type {\n",
       "        vertical-align: middle;\n",
       "    }\n",
       "\n",
       "    .dataframe tbody tr th {\n",
       "        vertical-align: top;\n",
       "    }\n",
       "\n",
       "    .dataframe thead th {\n",
       "        text-align: right;\n",
       "    }\n",
       "</style>\n",
       "<table border=\"1\" class=\"dataframe\">\n",
       "  <thead>\n",
       "    <tr style=\"text-align: right;\">\n",
       "      <th></th>\n",
       "      <th>word_id</th>\n",
       "      <th>word_status</th>\n",
       "      <th>greylevel</th>\n",
       "      <th>bb_x</th>\n",
       "      <th>bb_y</th>\n",
       "      <th>bb_w</th>\n",
       "      <th>bb_h</th>\n",
       "      <th>tag</th>\n",
       "      <th>word</th>\n",
       "    </tr>\n",
       "  </thead>\n",
       "  <tbody>\n",
       "    <tr>\n",
       "      <th>0</th>\n",
       "      <td>a01-000u-00-00</td>\n",
       "      <td>ok</td>\n",
       "      <td>154</td>\n",
       "      <td>408</td>\n",
       "      <td>768</td>\n",
       "      <td>27</td>\n",
       "      <td>51</td>\n",
       "      <td>AT</td>\n",
       "      <td>A</td>\n",
       "    </tr>\n",
       "    <tr>\n",
       "      <th>1</th>\n",
       "      <td>a01-000u-00-01</td>\n",
       "      <td>ok</td>\n",
       "      <td>154</td>\n",
       "      <td>507</td>\n",
       "      <td>766</td>\n",
       "      <td>213</td>\n",
       "      <td>48</td>\n",
       "      <td>NN</td>\n",
       "      <td>MOVE</td>\n",
       "    </tr>\n",
       "    <tr>\n",
       "      <th>2</th>\n",
       "      <td>a01-000u-00-02</td>\n",
       "      <td>ok</td>\n",
       "      <td>154</td>\n",
       "      <td>796</td>\n",
       "      <td>764</td>\n",
       "      <td>70</td>\n",
       "      <td>50</td>\n",
       "      <td>TO</td>\n",
       "      <td>to</td>\n",
       "    </tr>\n",
       "    <tr>\n",
       "      <th>3</th>\n",
       "      <td>a01-000u-00-03</td>\n",
       "      <td>ok</td>\n",
       "      <td>154</td>\n",
       "      <td>919</td>\n",
       "      <td>757</td>\n",
       "      <td>166</td>\n",
       "      <td>78</td>\n",
       "      <td>VB</td>\n",
       "      <td>stop</td>\n",
       "    </tr>\n",
       "    <tr>\n",
       "      <th>4</th>\n",
       "      <td>a01-000u-00-04</td>\n",
       "      <td>ok</td>\n",
       "      <td>154</td>\n",
       "      <td>1185</td>\n",
       "      <td>754</td>\n",
       "      <td>126</td>\n",
       "      <td>61</td>\n",
       "      <td>NPT</td>\n",
       "      <td>Mr.</td>\n",
       "    </tr>\n",
       "  </tbody>\n",
       "</table>\n",
       "</div>\n",
       "      <button class=\"colab-df-convert\" onclick=\"convertToInteractive('df-a2f1eb38-5df0-4a99-a360-3020fadb2ccf')\"\n",
       "              title=\"Convert this dataframe to an interactive table.\"\n",
       "              style=\"display:none;\">\n",
       "        \n",
       "  <svg xmlns=\"http://www.w3.org/2000/svg\" height=\"24px\"viewBox=\"0 0 24 24\"\n",
       "       width=\"24px\">\n",
       "    <path d=\"M0 0h24v24H0V0z\" fill=\"none\"/>\n",
       "    <path d=\"M18.56 5.44l.94 2.06.94-2.06 2.06-.94-2.06-.94-.94-2.06-.94 2.06-2.06.94zm-11 1L8.5 8.5l.94-2.06 2.06-.94-2.06-.94L8.5 2.5l-.94 2.06-2.06.94zm10 10l.94 2.06.94-2.06 2.06-.94-2.06-.94-.94-2.06-.94 2.06-2.06.94z\"/><path d=\"M17.41 7.96l-1.37-1.37c-.4-.4-.92-.59-1.43-.59-.52 0-1.04.2-1.43.59L10.3 9.45l-7.72 7.72c-.78.78-.78 2.05 0 2.83L4 21.41c.39.39.9.59 1.41.59.51 0 1.02-.2 1.41-.59l7.78-7.78 2.81-2.81c.8-.78.8-2.07 0-2.86zM5.41 20L4 18.59l7.72-7.72 1.47 1.35L5.41 20z\"/>\n",
       "  </svg>\n",
       "      </button>\n",
       "      \n",
       "  <style>\n",
       "    .colab-df-container {\n",
       "      display:flex;\n",
       "      flex-wrap:wrap;\n",
       "      gap: 12px;\n",
       "    }\n",
       "\n",
       "    .colab-df-convert {\n",
       "      background-color: #E8F0FE;\n",
       "      border: none;\n",
       "      border-radius: 50%;\n",
       "      cursor: pointer;\n",
       "      display: none;\n",
       "      fill: #1967D2;\n",
       "      height: 32px;\n",
       "      padding: 0 0 0 0;\n",
       "      width: 32px;\n",
       "    }\n",
       "\n",
       "    .colab-df-convert:hover {\n",
       "      background-color: #E2EBFA;\n",
       "      box-shadow: 0px 1px 2px rgba(60, 64, 67, 0.3), 0px 1px 3px 1px rgba(60, 64, 67, 0.15);\n",
       "      fill: #174EA6;\n",
       "    }\n",
       "\n",
       "    [theme=dark] .colab-df-convert {\n",
       "      background-color: #3B4455;\n",
       "      fill: #D2E3FC;\n",
       "    }\n",
       "\n",
       "    [theme=dark] .colab-df-convert:hover {\n",
       "      background-color: #434B5C;\n",
       "      box-shadow: 0px 1px 3px 1px rgba(0, 0, 0, 0.15);\n",
       "      filter: drop-shadow(0px 1px 2px rgba(0, 0, 0, 0.3));\n",
       "      fill: #FFFFFF;\n",
       "    }\n",
       "  </style>\n",
       "\n",
       "      <script>\n",
       "        const buttonEl =\n",
       "          document.querySelector('#df-a2f1eb38-5df0-4a99-a360-3020fadb2ccf button.colab-df-convert');\n",
       "        buttonEl.style.display =\n",
       "          google.colab.kernel.accessAllowed ? 'block' : 'none';\n",
       "\n",
       "        async function convertToInteractive(key) {\n",
       "          const element = document.querySelector('#df-a2f1eb38-5df0-4a99-a360-3020fadb2ccf');\n",
       "          const dataTable =\n",
       "            await google.colab.kernel.invokeFunction('convertToInteractive',\n",
       "                                                     [key], {});\n",
       "          if (!dataTable) return;\n",
       "\n",
       "          const docLinkHtml = 'Like what you see? Visit the ' +\n",
       "            '<a target=\"_blank\" href=https://colab.research.google.com/notebooks/data_table.ipynb>data table notebook</a>'\n",
       "            + ' to learn more about interactive tables.';\n",
       "          element.innerHTML = '';\n",
       "          dataTable['output_type'] = 'display_data';\n",
       "          await google.colab.output.renderOutput(dataTable, element);\n",
       "          const docLink = document.createElement('div');\n",
       "          docLink.innerHTML = docLinkHtml;\n",
       "          element.appendChild(docLink);\n",
       "        }\n",
       "      </script>\n",
       "    </div>\n",
       "  </div>\n",
       "  "
      ],
      "text/plain": [
       "          word_id word_status  greylevel  bb_x  bb_y  bb_w  bb_h  tag  word\n",
       "0  a01-000u-00-00          ok        154   408   768    27    51   AT     A\n",
       "1  a01-000u-00-01          ok        154   507   766   213    48   NN  MOVE\n",
       "2  a01-000u-00-02          ok        154   796   764    70    50   TO    to\n",
       "3  a01-000u-00-03          ok        154   919   757   166    78   VB  stop\n",
       "4  a01-000u-00-04          ok        154  1185   754   126    61  NPT   Mr."
      ]
     },
     "execution_count": 5,
     "metadata": {},
     "output_type": "execute_result"
    }
   ],
   "source": [
    "data.head()"
   ]
  },
  {
   "cell_type": "markdown",
   "metadata": {
    "id": "nqdCSosKQNkI"
   },
   "source": [
    "## Data Wrangling"
   ]
  },
  {
   "cell_type": "code",
   "execution_count": 6,
   "metadata": {
    "colab": {
     "base_uri": "https://localhost:8080/"
    },
    "id": "SA037tcrOeUH",
    "outputId": "c6efbf31-a22b-4d94-f0c2-3365ba0a3115"
   },
   "outputs": [
    {
     "data": {
      "text/plain": [
       "(75604, 9)"
      ]
     },
     "execution_count": 6,
     "metadata": {},
     "output_type": "execute_result"
    }
   ],
   "source": [
    "data.shape"
   ]
  },
  {
   "cell_type": "code",
   "execution_count": 7,
   "metadata": {
    "id": "fywLKroTeJ3_"
   },
   "outputs": [],
   "source": [
    "## Taking all correct dataset where statsu = 'ok'\n",
    "\n",
    "data = data[data.word_status=='ok']"
   ]
  },
  {
   "cell_type": "code",
   "execution_count": 8,
   "metadata": {
    "id": "1ny33M_oz1hl"
   },
   "outputs": [],
   "source": [
    "## Resetting the index\n",
    "data.reset_index(inplace=True)"
   ]
  },
  {
   "cell_type": "code",
   "execution_count": 9,
   "metadata": {
    "id": "zMPa25yoz1hl"
   },
   "outputs": [],
   "source": [
    "data.drop(\"index\",axis = 1, inplace=True)"
   ]
  },
  {
   "cell_type": "code",
   "execution_count": 10,
   "metadata": {
    "colab": {
     "base_uri": "https://localhost:8080/"
    },
    "id": "7pdAwv9IzgZh",
    "outputId": "40857399-cafb-4998-c096-6273672f455e"
   },
   "outputs": [
    {
     "name": "stdout",
     "output_type": "stream",
     "text": [
      "529\n",
      "[226, 277, 645, 682, 728, 1172, 1306, 1364, 1396, 1398, 1445, 1449, 1453, 1456, 1459, 1462, 1471, 1473, 1482, 1484, 1489, 1494, 1508, 1565, 1578, 1601, 1611, 1952, 1979, 1985, 2058, 2106, 2128, 2154, 2178, 2204, 2233, 2781, 2785, 2798, 2835, 2900, 3056, 3121, 3147, 3162, 3308, 3312, 3335, 3353, 3798, 4587, 4767, 4873, 4883, 4885, 4915, 4924, 4952, 4983, 4993, 5017, 5030, 5039, 5116, 5608, 5679, 5691, 5716, 5765, 5794, 5803, 5831, 5878, 6606, 6773, 6977, 6994, 7029, 7045, 7074, 7079, 7091, 7104, 7107, 7109, 7135, 7138, 7158, 7161, 7163, 7241, 7277, 7281, 7305, 7381, 7403, 7404, 7437, 7485, 7501, 7516, 7554, 7633, 7673, 7689, 7693, 7715, 7811, 7921, 9458, 9577, 10075, 10552, 11017, 11086, 11402, 12188, 12490, 12686, 12705, 12723, 12741, 12758, 12770, 12786, 12790, 12851, 12985, 13043, 13075, 13097, 13208, 13309, 13327, 13376, 14826, 14831, 15032, 15034, 15040, 15114, 15116, 15123, 15128, 15147, 15151, 15156, 15158, 15164, 15170, 15176, 15182, 15188, 15194, 15200, 15215, 15241, 15256, 15740, 15784, 15850, 15909, 15952, 17170, 17486, 17518, 17576, 17694, 17899, 18012, 18029, 18065, 18085, 18159, 18217, 18245, 18274, 18277, 18293, 18298, 18387, 18560, 18903, 18966, 19001, 19004, 19014, 19025, 19033, 19037, 19040, 19044, 19046, 19053, 19072, 19082, 19086, 19109, 19238, 19246, 19261, 19271, 19321, 19417, 19461, 19467, 19511, 19577, 19627, 19638, 19647, 19717, 26377, 26391, 26475, 26979, 27071, 28178, 28226, 28247, 28315, 28508, 28537, 28554, 30596, 30717, 30750, 31188, 31198, 33197, 37638, 37643, 37739, 53017, 54318, 54375, 55036, 55041, 55043, 55045, 55069, 55070, 55247, 55257, 55295, 55306, 55383, 55403, 55409, 55417, 55424, 55457, 55487, 55519, 55543, 55605, 55629, 55659, 55660, 55717, 55725, 55733, 55754, 55757, 55767, 55774, 55794, 55875, 55879, 56150, 56204, 56344, 56844, 56945, 57148, 57152, 57248, 57266, 57276, 57291, 57375, 57407, 57417, 57428, 57434, 57456, 57460, 57465, 57486, 57509, 57515, 57527, 57534, 57565, 57573, 57584, 57591, 57606, 57612, 57629, 57644, 57662, 57665, 57678, 57681, 57689, 57694, 57704, 57733, 57751, 57768, 57781, 57785, 57833, 57842, 57865, 57872, 57877, 57885, 57889, 57905, 57913, 57928, 57943, 57954, 57974, 57980, 57995, 58058, 58067, 58084, 58098, 58114, 58166, 58184, 58196, 58203, 58215, 58219, 58270, 58279, 58289, 58295, 58304, 58317, 58338, 58354, 58363, 58383, 58427, 58441, 58460, 58461, 58467, 58468, 58488, 58504, 58507, 58510, 58517, 58627, 58708, 58722, 58733, 58753, 58822, 58826, 58870, 58873, 58888, 58949, 58982, 58994, 59010, 59014, 59033, 59042, 59048, 59098, 59102, 59114, 59118, 59366, 59410, 59435, 59444, 59448, 59504, 59511, 59515, 59516, 59531, 59532, 59536, 59537, 59541, 59586, 59587, 59588, 59589, 59606, 59612, 59613, 59617, 59623, 59628, 59629, 59630, 59631, 59635, 59642, 59643, 59647, 59944, 59948, 59952, 59956, 59957, 59961, 59962, 59963, 59964, 59968, 59969, 60000, 60024, 60028, 60029, 60033, 60137, 60277, 60278, 60309, 60313, 60371, 60375, 60455, 60532, 60588, 60599, 60607, 60632, 60862, 60868, 60884, 60885, 60911, 61016, 61025, 61105, 61113, 61119, 61144, 61151, 61170, 61196, 61269, 61308, 61372, 61386, 61433, 61439, 61455, 61522, 61527, 61536, 61553, 61571, 61611, 61633, 61641, 61642, 61647, 61648, 61652, 61653, 61662, 61663, 61667, 61668, 61673, 61722, 61728, 61729, 61749, 61750, 61760, 61801, 61802, 61803, 61809, 61810, 61814, 61821, 61833, 61841, 61860, 61865, 61891, 61894, 61911, 61916, 61922, 61948, 61952, 62036, 62066, 62089, 62092, 62110, 62121, 62134, 62155, 62172, 62179, 62186, 62199, 62202, 62215, 62475, 62476, 62477, 62596, 62612, 62613, 62614, 62671, 62677]\n"
     ]
    }
   ],
   "source": [
    "## Creating list of words which are not correctly loaded in dataframe\n",
    "error_word=[]\n",
    "error_word_index=[]\n",
    "for i in range(0,max(data.index)+1):\n",
    "  if data.iloc[i][\"word\"][0] == '\\n':\n",
    "    error_word.append([i, data.iloc[i][\"word\"]])\n",
    "    error_word_index.append(i)\n",
    "print(len(error_word))\n",
    "print(error_word_index)\n",
    "#print(error_word)"
   ]
  },
  {
   "cell_type": "code",
   "execution_count": 11,
   "metadata": {
    "id": "_b6QxDyjzqOm"
   },
   "outputs": [],
   "source": [
    "## dropping the words which are incorrect\n",
    "\n",
    "data.drop(error_word_index,inplace=True)"
   ]
  },
  {
   "cell_type": "code",
   "execution_count": 12,
   "metadata": {
    "id": "0_k1cRLPOjol"
   },
   "outputs": [],
   "source": [
    "## Resetting the index\n",
    "\n",
    "data.reset_index(inplace=True)"
   ]
  },
  {
   "cell_type": "code",
   "execution_count": 13,
   "metadata": {
    "id": "JKJaZWMbyGkM"
   },
   "outputs": [],
   "source": [
    "data.drop(\"index\",axis = 1, inplace=True)"
   ]
  },
  {
   "cell_type": "code",
   "execution_count": 14,
   "metadata": {
    "id": "gttA3dNBkxIh"
   },
   "outputs": [],
   "source": [
    "## Taking first 10000 instances for training\n",
    "\n",
    "data = data.iloc[:10000]"
   ]
  },
  {
   "cell_type": "code",
   "execution_count": 15,
   "metadata": {
    "colab": {
     "base_uri": "https://localhost:8080/"
    },
    "id": "WaXBYTrnms7K",
    "outputId": "639fa382-f9b4-4ace-e344-9689ca43fa33"
   },
   "outputs": [
    {
     "data": {
      "text/plain": [
       "(10000, 9)"
      ]
     },
     "execution_count": 15,
     "metadata": {},
     "output_type": "execute_result"
    }
   ],
   "source": [
    "data.shape"
   ]
  },
  {
   "cell_type": "code",
   "execution_count": 16,
   "metadata": {
    "colab": {
     "base_uri": "https://localhost:8080/",
     "height": 206
    },
    "id": "5M0-gxofyJsj",
    "outputId": "ff5bb05a-3e2f-4fdd-d9a4-8e33d74ef7ff"
   },
   "outputs": [
    {
     "data": {
      "text/html": [
       "\n",
       "  <div id=\"df-f8342ef1-919f-45e4-9d01-f8e7b1822980\">\n",
       "    <div class=\"colab-df-container\">\n",
       "      <div>\n",
       "<style scoped>\n",
       "    .dataframe tbody tr th:only-of-type {\n",
       "        vertical-align: middle;\n",
       "    }\n",
       "\n",
       "    .dataframe tbody tr th {\n",
       "        vertical-align: top;\n",
       "    }\n",
       "\n",
       "    .dataframe thead th {\n",
       "        text-align: right;\n",
       "    }\n",
       "</style>\n",
       "<table border=\"1\" class=\"dataframe\">\n",
       "  <thead>\n",
       "    <tr style=\"text-align: right;\">\n",
       "      <th></th>\n",
       "      <th>word_id</th>\n",
       "      <th>word_status</th>\n",
       "      <th>greylevel</th>\n",
       "      <th>bb_x</th>\n",
       "      <th>bb_y</th>\n",
       "      <th>bb_w</th>\n",
       "      <th>bb_h</th>\n",
       "      <th>tag</th>\n",
       "      <th>word</th>\n",
       "    </tr>\n",
       "  </thead>\n",
       "  <tbody>\n",
       "    <tr>\n",
       "      <th>0</th>\n",
       "      <td>a01-000u-00-00</td>\n",
       "      <td>ok</td>\n",
       "      <td>154</td>\n",
       "      <td>408</td>\n",
       "      <td>768</td>\n",
       "      <td>27</td>\n",
       "      <td>51</td>\n",
       "      <td>AT</td>\n",
       "      <td>A</td>\n",
       "    </tr>\n",
       "    <tr>\n",
       "      <th>1</th>\n",
       "      <td>a01-000u-00-01</td>\n",
       "      <td>ok</td>\n",
       "      <td>154</td>\n",
       "      <td>507</td>\n",
       "      <td>766</td>\n",
       "      <td>213</td>\n",
       "      <td>48</td>\n",
       "      <td>NN</td>\n",
       "      <td>MOVE</td>\n",
       "    </tr>\n",
       "    <tr>\n",
       "      <th>2</th>\n",
       "      <td>a01-000u-00-02</td>\n",
       "      <td>ok</td>\n",
       "      <td>154</td>\n",
       "      <td>796</td>\n",
       "      <td>764</td>\n",
       "      <td>70</td>\n",
       "      <td>50</td>\n",
       "      <td>TO</td>\n",
       "      <td>to</td>\n",
       "    </tr>\n",
       "    <tr>\n",
       "      <th>3</th>\n",
       "      <td>a01-000u-00-03</td>\n",
       "      <td>ok</td>\n",
       "      <td>154</td>\n",
       "      <td>919</td>\n",
       "      <td>757</td>\n",
       "      <td>166</td>\n",
       "      <td>78</td>\n",
       "      <td>VB</td>\n",
       "      <td>stop</td>\n",
       "    </tr>\n",
       "    <tr>\n",
       "      <th>4</th>\n",
       "      <td>a01-000u-00-04</td>\n",
       "      <td>ok</td>\n",
       "      <td>154</td>\n",
       "      <td>1185</td>\n",
       "      <td>754</td>\n",
       "      <td>126</td>\n",
       "      <td>61</td>\n",
       "      <td>NPT</td>\n",
       "      <td>Mr.</td>\n",
       "    </tr>\n",
       "  </tbody>\n",
       "</table>\n",
       "</div>\n",
       "      <button class=\"colab-df-convert\" onclick=\"convertToInteractive('df-f8342ef1-919f-45e4-9d01-f8e7b1822980')\"\n",
       "              title=\"Convert this dataframe to an interactive table.\"\n",
       "              style=\"display:none;\">\n",
       "        \n",
       "  <svg xmlns=\"http://www.w3.org/2000/svg\" height=\"24px\"viewBox=\"0 0 24 24\"\n",
       "       width=\"24px\">\n",
       "    <path d=\"M0 0h24v24H0V0z\" fill=\"none\"/>\n",
       "    <path d=\"M18.56 5.44l.94 2.06.94-2.06 2.06-.94-2.06-.94-.94-2.06-.94 2.06-2.06.94zm-11 1L8.5 8.5l.94-2.06 2.06-.94-2.06-.94L8.5 2.5l-.94 2.06-2.06.94zm10 10l.94 2.06.94-2.06 2.06-.94-2.06-.94-.94-2.06-.94 2.06-2.06.94z\"/><path d=\"M17.41 7.96l-1.37-1.37c-.4-.4-.92-.59-1.43-.59-.52 0-1.04.2-1.43.59L10.3 9.45l-7.72 7.72c-.78.78-.78 2.05 0 2.83L4 21.41c.39.39.9.59 1.41.59.51 0 1.02-.2 1.41-.59l7.78-7.78 2.81-2.81c.8-.78.8-2.07 0-2.86zM5.41 20L4 18.59l7.72-7.72 1.47 1.35L5.41 20z\"/>\n",
       "  </svg>\n",
       "      </button>\n",
       "      \n",
       "  <style>\n",
       "    .colab-df-container {\n",
       "      display:flex;\n",
       "      flex-wrap:wrap;\n",
       "      gap: 12px;\n",
       "    }\n",
       "\n",
       "    .colab-df-convert {\n",
       "      background-color: #E8F0FE;\n",
       "      border: none;\n",
       "      border-radius: 50%;\n",
       "      cursor: pointer;\n",
       "      display: none;\n",
       "      fill: #1967D2;\n",
       "      height: 32px;\n",
       "      padding: 0 0 0 0;\n",
       "      width: 32px;\n",
       "    }\n",
       "\n",
       "    .colab-df-convert:hover {\n",
       "      background-color: #E2EBFA;\n",
       "      box-shadow: 0px 1px 2px rgba(60, 64, 67, 0.3), 0px 1px 3px 1px rgba(60, 64, 67, 0.15);\n",
       "      fill: #174EA6;\n",
       "    }\n",
       "\n",
       "    [theme=dark] .colab-df-convert {\n",
       "      background-color: #3B4455;\n",
       "      fill: #D2E3FC;\n",
       "    }\n",
       "\n",
       "    [theme=dark] .colab-df-convert:hover {\n",
       "      background-color: #434B5C;\n",
       "      box-shadow: 0px 1px 3px 1px rgba(0, 0, 0, 0.15);\n",
       "      filter: drop-shadow(0px 1px 2px rgba(0, 0, 0, 0.3));\n",
       "      fill: #FFFFFF;\n",
       "    }\n",
       "  </style>\n",
       "\n",
       "      <script>\n",
       "        const buttonEl =\n",
       "          document.querySelector('#df-f8342ef1-919f-45e4-9d01-f8e7b1822980 button.colab-df-convert');\n",
       "        buttonEl.style.display =\n",
       "          google.colab.kernel.accessAllowed ? 'block' : 'none';\n",
       "\n",
       "        async function convertToInteractive(key) {\n",
       "          const element = document.querySelector('#df-f8342ef1-919f-45e4-9d01-f8e7b1822980');\n",
       "          const dataTable =\n",
       "            await google.colab.kernel.invokeFunction('convertToInteractive',\n",
       "                                                     [key], {});\n",
       "          if (!dataTable) return;\n",
       "\n",
       "          const docLinkHtml = 'Like what you see? Visit the ' +\n",
       "            '<a target=\"_blank\" href=https://colab.research.google.com/notebooks/data_table.ipynb>data table notebook</a>'\n",
       "            + ' to learn more about interactive tables.';\n",
       "          element.innerHTML = '';\n",
       "          dataTable['output_type'] = 'display_data';\n",
       "          await google.colab.output.renderOutput(dataTable, element);\n",
       "          const docLink = document.createElement('div');\n",
       "          docLink.innerHTML = docLinkHtml;\n",
       "          element.appendChild(docLink);\n",
       "        }\n",
       "      </script>\n",
       "    </div>\n",
       "  </div>\n",
       "  "
      ],
      "text/plain": [
       "          word_id word_status  greylevel  bb_x  bb_y  bb_w  bb_h  tag  word\n",
       "0  a01-000u-00-00          ok        154   408   768    27    51   AT     A\n",
       "1  a01-000u-00-01          ok        154   507   766   213    48   NN  MOVE\n",
       "2  a01-000u-00-02          ok        154   796   764    70    50   TO    to\n",
       "3  a01-000u-00-03          ok        154   919   757   166    78   VB  stop\n",
       "4  a01-000u-00-04          ok        154  1185   754   126    61  NPT   Mr."
      ]
     },
     "execution_count": 16,
     "metadata": {},
     "output_type": "execute_result"
    }
   ],
   "source": [
    "data.head()"
   ]
  },
  {
   "cell_type": "code",
   "execution_count": 17,
   "metadata": {
    "id": "WAzxr9AXei9Y"
   },
   "outputs": [],
   "source": [
    "## Function to get path from word id\n",
    "\n",
    "def file_path(word_id):\n",
    "  w = word_id.split('-')\n",
    "  drive_path = r'/content/drive/My Drive/Dataset/Mid_Project_2/words/'\n",
    "  return (drive_path+w[0]+'/'+w[0]+'-'+w[1]+'/'+word_id+'.png')\n",
    "##file_path(r'/content/drive/My Drive/Dataset/Mid_Project_2/words/','g07-065-07-05')"
   ]
  },
  {
   "cell_type": "code",
   "execution_count": 18,
   "metadata": {
    "colab": {
     "base_uri": "https://localhost:8080/"
    },
    "id": "xHpOHXmofZSp",
    "outputId": "2b062e92-bb31-4031-ec5a-9ea2a867badd"
   },
   "outputs": [
    {
     "name": "stdout",
     "output_type": "stream",
     "text": [
      "-rw------- 1 root root 17028 Feb  4  2004 '/content/drive/My Drive/Dataset/Mid_Project_2/words/g07/g07-065/g07-065-07-05.png'\n"
     ]
    }
   ],
   "source": [
    "!ls -ltr \"/content/drive/My Drive/Dataset/Mid_Project_2/words/g07/g07-065/g07-065-07-05.png\""
   ]
  },
  {
   "cell_type": "code",
   "execution_count": 19,
   "metadata": {
    "colab": {
     "base_uri": "https://localhost:8080/"
    },
    "id": "vQMeHnFJf7kk",
    "outputId": "d425cfe6-bf3b-4d76-b9c1-6b612805e040"
   },
   "outputs": [
    {
     "name": "stderr",
     "output_type": "stream",
     "text": [
      "/usr/local/lib/python3.7/dist-packages/ipykernel_launcher.py:1: SettingWithCopyWarning: \n",
      "A value is trying to be set on a copy of a slice from a DataFrame.\n",
      "Try using .loc[row_indexer,col_indexer] = value instead\n",
      "\n",
      "See the caveats in the documentation: https://pandas.pydata.org/pandas-docs/stable/user_guide/indexing.html#returning-a-view-versus-a-copy\n",
      "  \"\"\"Entry point for launching an IPython kernel.\n"
     ]
    }
   ],
   "source": [
    "data['path'] = data['word_id'].apply(file_path)"
   ]
  },
  {
   "cell_type": "code",
   "execution_count": 20,
   "metadata": {
    "colab": {
     "base_uri": "https://localhost:8080/",
     "height": 206
    },
    "id": "ncKD3t_qPEHJ",
    "outputId": "84fa1d45-b800-4787-8c9c-506600a21881"
   },
   "outputs": [
    {
     "data": {
      "text/html": [
       "\n",
       "  <div id=\"df-6cde1773-e2f1-441b-83a7-3ccd68bae296\">\n",
       "    <div class=\"colab-df-container\">\n",
       "      <div>\n",
       "<style scoped>\n",
       "    .dataframe tbody tr th:only-of-type {\n",
       "        vertical-align: middle;\n",
       "    }\n",
       "\n",
       "    .dataframe tbody tr th {\n",
       "        vertical-align: top;\n",
       "    }\n",
       "\n",
       "    .dataframe thead th {\n",
       "        text-align: right;\n",
       "    }\n",
       "</style>\n",
       "<table border=\"1\" class=\"dataframe\">\n",
       "  <thead>\n",
       "    <tr style=\"text-align: right;\">\n",
       "      <th></th>\n",
       "      <th>word_id</th>\n",
       "      <th>word_status</th>\n",
       "      <th>greylevel</th>\n",
       "      <th>bb_x</th>\n",
       "      <th>bb_y</th>\n",
       "      <th>bb_w</th>\n",
       "      <th>bb_h</th>\n",
       "      <th>tag</th>\n",
       "      <th>word</th>\n",
       "      <th>path</th>\n",
       "    </tr>\n",
       "  </thead>\n",
       "  <tbody>\n",
       "    <tr>\n",
       "      <th>0</th>\n",
       "      <td>a01-000u-00-00</td>\n",
       "      <td>ok</td>\n",
       "      <td>154</td>\n",
       "      <td>408</td>\n",
       "      <td>768</td>\n",
       "      <td>27</td>\n",
       "      <td>51</td>\n",
       "      <td>AT</td>\n",
       "      <td>A</td>\n",
       "      <td>/content/drive/My Drive/Dataset/Mid_Project_2/...</td>\n",
       "    </tr>\n",
       "    <tr>\n",
       "      <th>1</th>\n",
       "      <td>a01-000u-00-01</td>\n",
       "      <td>ok</td>\n",
       "      <td>154</td>\n",
       "      <td>507</td>\n",
       "      <td>766</td>\n",
       "      <td>213</td>\n",
       "      <td>48</td>\n",
       "      <td>NN</td>\n",
       "      <td>MOVE</td>\n",
       "      <td>/content/drive/My Drive/Dataset/Mid_Project_2/...</td>\n",
       "    </tr>\n",
       "    <tr>\n",
       "      <th>2</th>\n",
       "      <td>a01-000u-00-02</td>\n",
       "      <td>ok</td>\n",
       "      <td>154</td>\n",
       "      <td>796</td>\n",
       "      <td>764</td>\n",
       "      <td>70</td>\n",
       "      <td>50</td>\n",
       "      <td>TO</td>\n",
       "      <td>to</td>\n",
       "      <td>/content/drive/My Drive/Dataset/Mid_Project_2/...</td>\n",
       "    </tr>\n",
       "    <tr>\n",
       "      <th>3</th>\n",
       "      <td>a01-000u-00-03</td>\n",
       "      <td>ok</td>\n",
       "      <td>154</td>\n",
       "      <td>919</td>\n",
       "      <td>757</td>\n",
       "      <td>166</td>\n",
       "      <td>78</td>\n",
       "      <td>VB</td>\n",
       "      <td>stop</td>\n",
       "      <td>/content/drive/My Drive/Dataset/Mid_Project_2/...</td>\n",
       "    </tr>\n",
       "    <tr>\n",
       "      <th>4</th>\n",
       "      <td>a01-000u-00-04</td>\n",
       "      <td>ok</td>\n",
       "      <td>154</td>\n",
       "      <td>1185</td>\n",
       "      <td>754</td>\n",
       "      <td>126</td>\n",
       "      <td>61</td>\n",
       "      <td>NPT</td>\n",
       "      <td>Mr.</td>\n",
       "      <td>/content/drive/My Drive/Dataset/Mid_Project_2/...</td>\n",
       "    </tr>\n",
       "  </tbody>\n",
       "</table>\n",
       "</div>\n",
       "      <button class=\"colab-df-convert\" onclick=\"convertToInteractive('df-6cde1773-e2f1-441b-83a7-3ccd68bae296')\"\n",
       "              title=\"Convert this dataframe to an interactive table.\"\n",
       "              style=\"display:none;\">\n",
       "        \n",
       "  <svg xmlns=\"http://www.w3.org/2000/svg\" height=\"24px\"viewBox=\"0 0 24 24\"\n",
       "       width=\"24px\">\n",
       "    <path d=\"M0 0h24v24H0V0z\" fill=\"none\"/>\n",
       "    <path d=\"M18.56 5.44l.94 2.06.94-2.06 2.06-.94-2.06-.94-.94-2.06-.94 2.06-2.06.94zm-11 1L8.5 8.5l.94-2.06 2.06-.94-2.06-.94L8.5 2.5l-.94 2.06-2.06.94zm10 10l.94 2.06.94-2.06 2.06-.94-2.06-.94-.94-2.06-.94 2.06-2.06.94z\"/><path d=\"M17.41 7.96l-1.37-1.37c-.4-.4-.92-.59-1.43-.59-.52 0-1.04.2-1.43.59L10.3 9.45l-7.72 7.72c-.78.78-.78 2.05 0 2.83L4 21.41c.39.39.9.59 1.41.59.51 0 1.02-.2 1.41-.59l7.78-7.78 2.81-2.81c.8-.78.8-2.07 0-2.86zM5.41 20L4 18.59l7.72-7.72 1.47 1.35L5.41 20z\"/>\n",
       "  </svg>\n",
       "      </button>\n",
       "      \n",
       "  <style>\n",
       "    .colab-df-container {\n",
       "      display:flex;\n",
       "      flex-wrap:wrap;\n",
       "      gap: 12px;\n",
       "    }\n",
       "\n",
       "    .colab-df-convert {\n",
       "      background-color: #E8F0FE;\n",
       "      border: none;\n",
       "      border-radius: 50%;\n",
       "      cursor: pointer;\n",
       "      display: none;\n",
       "      fill: #1967D2;\n",
       "      height: 32px;\n",
       "      padding: 0 0 0 0;\n",
       "      width: 32px;\n",
       "    }\n",
       "\n",
       "    .colab-df-convert:hover {\n",
       "      background-color: #E2EBFA;\n",
       "      box-shadow: 0px 1px 2px rgba(60, 64, 67, 0.3), 0px 1px 3px 1px rgba(60, 64, 67, 0.15);\n",
       "      fill: #174EA6;\n",
       "    }\n",
       "\n",
       "    [theme=dark] .colab-df-convert {\n",
       "      background-color: #3B4455;\n",
       "      fill: #D2E3FC;\n",
       "    }\n",
       "\n",
       "    [theme=dark] .colab-df-convert:hover {\n",
       "      background-color: #434B5C;\n",
       "      box-shadow: 0px 1px 3px 1px rgba(0, 0, 0, 0.15);\n",
       "      filter: drop-shadow(0px 1px 2px rgba(0, 0, 0, 0.3));\n",
       "      fill: #FFFFFF;\n",
       "    }\n",
       "  </style>\n",
       "\n",
       "      <script>\n",
       "        const buttonEl =\n",
       "          document.querySelector('#df-6cde1773-e2f1-441b-83a7-3ccd68bae296 button.colab-df-convert');\n",
       "        buttonEl.style.display =\n",
       "          google.colab.kernel.accessAllowed ? 'block' : 'none';\n",
       "\n",
       "        async function convertToInteractive(key) {\n",
       "          const element = document.querySelector('#df-6cde1773-e2f1-441b-83a7-3ccd68bae296');\n",
       "          const dataTable =\n",
       "            await google.colab.kernel.invokeFunction('convertToInteractive',\n",
       "                                                     [key], {});\n",
       "          if (!dataTable) return;\n",
       "\n",
       "          const docLinkHtml = 'Like what you see? Visit the ' +\n",
       "            '<a target=\"_blank\" href=https://colab.research.google.com/notebooks/data_table.ipynb>data table notebook</a>'\n",
       "            + ' to learn more about interactive tables.';\n",
       "          element.innerHTML = '';\n",
       "          dataTable['output_type'] = 'display_data';\n",
       "          await google.colab.output.renderOutput(dataTable, element);\n",
       "          const docLink = document.createElement('div');\n",
       "          docLink.innerHTML = docLinkHtml;\n",
       "          element.appendChild(docLink);\n",
       "        }\n",
       "      </script>\n",
       "    </div>\n",
       "  </div>\n",
       "  "
      ],
      "text/plain": [
       "          word_id word_status  greylevel  bb_x  bb_y  bb_w  bb_h  tag  word  \\\n",
       "0  a01-000u-00-00          ok        154   408   768    27    51   AT     A   \n",
       "1  a01-000u-00-01          ok        154   507   766   213    48   NN  MOVE   \n",
       "2  a01-000u-00-02          ok        154   796   764    70    50   TO    to   \n",
       "3  a01-000u-00-03          ok        154   919   757   166    78   VB  stop   \n",
       "4  a01-000u-00-04          ok        154  1185   754   126    61  NPT   Mr.   \n",
       "\n",
       "                                                path  \n",
       "0  /content/drive/My Drive/Dataset/Mid_Project_2/...  \n",
       "1  /content/drive/My Drive/Dataset/Mid_Project_2/...  \n",
       "2  /content/drive/My Drive/Dataset/Mid_Project_2/...  \n",
       "3  /content/drive/My Drive/Dataset/Mid_Project_2/...  \n",
       "4  /content/drive/My Drive/Dataset/Mid_Project_2/...  "
      ]
     },
     "execution_count": 20,
     "metadata": {},
     "output_type": "execute_result"
    }
   ],
   "source": [
    "data.head()"
   ]
  },
  {
   "cell_type": "code",
   "execution_count": 21,
   "metadata": {
    "colab": {
     "base_uri": "https://localhost:8080/"
    },
    "id": "qDTUkjUvQDMq",
    "outputId": "43a73b59-04ae-42fa-d4ae-788952b56f1d"
   },
   "outputs": [
    {
     "data": {
      "text/plain": [
       "(10000, 10)"
      ]
     },
     "execution_count": 21,
     "metadata": {},
     "output_type": "execute_result"
    }
   ],
   "source": [
    "data.shape"
   ]
  },
  {
   "cell_type": "code",
   "execution_count": 22,
   "metadata": {
    "id": "cGxlPHfs1Fqo"
   },
   "outputs": [],
   "source": [
    "## Stripping the word of extra spaces \n",
    "\n",
    "data[\"word\"] = data[\"word\"].map(lambda x: x.strip())"
   ]
  },
  {
   "cell_type": "code",
   "execution_count": 23,
   "metadata": {
    "colab": {
     "base_uri": "https://localhost:8080/"
    },
    "id": "t1bLhuwU1Fsu",
    "outputId": "15c77ce8-618a-4e5c-c53f-1801ed49c796"
   },
   "outputs": [
    {
     "data": {
      "text/plain": [
       "(10000, 10)"
      ]
     },
     "execution_count": 23,
     "metadata": {},
     "output_type": "execute_result"
    }
   ],
   "source": [
    "data.shape"
   ]
  },
  {
   "cell_type": "code",
   "execution_count": 24,
   "metadata": {
    "colab": {
     "base_uri": "https://localhost:8080/"
    },
    "id": "wDbbA8k66BNG",
    "outputId": "4cb8f47b-3e66-45d2-fc07-293f038eed06"
   },
   "outputs": [
    {
     "name": "stdout",
     "output_type": "stream",
     "text": [
      "Count of missing images = 0\n"
     ]
    }
   ],
   "source": [
    "## check if image exists at mentioned path:\n",
    "file_not_found=[]\n",
    "for i in range(0,max(data.index)+1):\n",
    "  if not os.path.isfile(data.iloc[i][\"path\"]):\n",
    "    file_not_found.append(i)\n",
    "\n",
    "print(f\"Count of missing images = {len(file_not_found)}\")\n"
   ]
  },
  {
   "cell_type": "markdown",
   "metadata": {
    "id": "6un_0iSlhyTQ"
   },
   "source": [
    "### Functions for Images"
   ]
  },
  {
   "cell_type": "code",
   "execution_count": 25,
   "metadata": {
    "id": "p_KMPNFYQd7s"
   },
   "outputs": [],
   "source": [
    "## Function to view the image and label on it\n",
    "\n",
    "def view_image(words,path):\n",
    "  ##%pylab inline\n",
    "  print('Word : '+ words+ \"\\t\\t\"+ path)\n",
    "  img = cv2.cvtColor(cv2.imread(path), cv2.COLOR_BGR2GRAY)   \n",
    "  img = cv2.resize(img, (128, 32)) \n",
    "  cv2_imshow(img)\n"
   ]
  },
  {
   "cell_type": "code",
   "execution_count": 26,
   "metadata": {
    "colab": {
     "base_uri": "https://localhost:8080/",
     "height": 1000
    },
    "id": "V7hB8eUvZ23i",
    "outputId": "1d28ed5f-d4f5-4ff1-e3f5-d4e68738a869"
   },
   "outputs": [
    {
     "name": "stdout",
     "output_type": "stream",
     "text": [
      "Index = 100\n",
      "Word : Labour\t\t/content/drive/My Drive/Dataset/Mid_Project_2/words/a01/a01-003/a01-003-01-03.png\n"
     ]
    },
    {
     "data": {
      "image/png": "[encoded data removed]",
      "text/plain": [
       "<PIL.Image.Image image mode=L size=128x32 at 0x7F58980C1810>"
      ]
     },
     "metadata": {},
     "output_type": "display_data"
    },
    {
     "name": "stdout",
     "output_type": "stream",
     "text": [
      "-----------------------\n",
      "\n",
      "Index = 101\n",
      "Word : M\t\t/content/drive/My Drive/Dataset/Mid_Project_2/words/a01/a01-003/a01-003-01-04.png\n"
     ]
    },
    {
     "data": {
      "image/png": "[encoded data removed]",
      "text/plain": [
       "<PIL.Image.Image image mode=L size=128x32 at 0x7F5897F05E10>"
      ]
     },
     "metadata": {},
     "output_type": "display_data"
    },
    {
     "name": "stdout",
     "output_type": "stream",
     "text": [
      "-----------------------\n",
      "\n",
      "Index = 102\n",
      "Word : are\t\t/content/drive/My Drive/Dataset/Mid_Project_2/words/a01/a01-003/a01-003-01-05.png\n"
     ]
    },
    {
     "data": {
      "image/png": "[encoded data removed]",
      "text/plain": [
       "<PIL.Image.Image image mode=L size=128x32 at 0x7F5897E96E90>"
      ]
     },
     "metadata": {},
     "output_type": "display_data"
    },
    {
     "name": "stdout",
     "output_type": "stream",
     "text": [
      "-----------------------\n",
      "\n",
      "Index = 103\n",
      "Word : likely\t\t/content/drive/My Drive/Dataset/Mid_Project_2/words/a01/a01-003/a01-003-01-06.png\n"
     ]
    },
    {
     "data": {
      "image/png": "[encoded data removed]",
      "text/plain": [
       "<PIL.Image.Image image mode=L size=128x32 at 0x7F5897E8EA10>"
      ]
     },
     "metadata": {},
     "output_type": "display_data"
    },
    {
     "name": "stdout",
     "output_type": "stream",
     "text": [
      "-----------------------\n",
      "\n",
      "Index = 104\n",
      "Word : to\t\t/content/drive/My Drive/Dataset/Mid_Project_2/words/a01/a01-003/a01-003-01-07.png\n"
     ]
    },
    {
     "data": {
      "image/png": "[encoded data removed]",
      "text/plain": [
       "<PIL.Image.Image image mode=L size=128x32 at 0x7F5897E96E50>"
      ]
     },
     "metadata": {},
     "output_type": "display_data"
    },
    {
     "name": "stdout",
     "output_type": "stream",
     "text": [
      "-----------------------\n",
      "\n",
      "Index = 105\n",
      "Word : turn\t\t/content/drive/My Drive/Dataset/Mid_Project_2/words/a01/a01-003/a01-003-02-00.png\n"
     ]
    },
    {
     "data": {
      "image/png": "[encoded data removed]",
      "text/plain": [
       "<PIL.Image.Image image mode=L size=128x32 at 0x7F5897E96F50>"
      ]
     },
     "metadata": {},
     "output_type": "display_data"
    },
    {
     "name": "stdout",
     "output_type": "stream",
     "text": [
      "-----------------------\n",
      "\n",
      "Index = 106\n",
      "Word : down\t\t/content/drive/My Drive/Dataset/Mid_Project_2/words/a01/a01-003/a01-003-02-01.png\n"
     ]
    },
    {
     "data": {
      "image/png": "[encoded data removed]",
      "text/plain": [
       "<PIL.Image.Image image mode=L size=128x32 at 0x7F5897E96DD0>"
      ]
     },
     "metadata": {},
     "output_type": "display_data"
    },
    {
     "name": "stdout",
     "output_type": "stream",
     "text": [
      "-----------------------\n",
      "\n",
      "Index = 107\n",
      "Word : the\t\t/content/drive/My Drive/Dataset/Mid_Project_2/words/a01/a01-003/a01-003-02-02.png\n"
     ]
    },
    {
     "data": {
      "image/png": "[encoded data removed]",
      "text/plain": [
       "<PIL.Image.Image image mode=L size=128x32 at 0x7F5897E96E90>"
      ]
     },
     "metadata": {},
     "output_type": "display_data"
    },
    {
     "name": "stdout",
     "output_type": "stream",
     "text": [
      "-----------------------\n",
      "\n",
      "Index = 108\n",
      "Word : Foot-Griffiths\t\t/content/drive/My Drive/Dataset/Mid_Project_2/words/a01/a01-003/a01-003-02-03.png\n"
     ]
    },
    {
     "data": {
      "image/png": "[encoded data removed]",
      "text/plain": [
       "<PIL.Image.Image image mode=L size=128x32 at 0x7F5897E96CD0>"
      ]
     },
     "metadata": {},
     "output_type": "display_data"
    },
    {
     "name": "stdout",
     "output_type": "stream",
     "text": [
      "-----------------------\n",
      "\n",
      "Index = 109\n",
      "Word : resolution\t\t/content/drive/My Drive/Dataset/Mid_Project_2/words/a01/a01-003/a01-003-02-04.png\n"
     ]
    },
    {
     "data": {
      "image/png": "[encoded data removed]",
      "text/plain": [
       "<PIL.Image.Image image mode=L size=128x32 at 0x7F5897E96C50>"
      ]
     },
     "metadata": {},
     "output_type": "display_data"
    },
    {
     "name": "stdout",
     "output_type": "stream",
     "text": [
      "-----------------------\n",
      "\n",
      "Index = 110\n",
      "Word : .\t\t/content/drive/My Drive/Dataset/Mid_Project_2/words/a01/a01-003/a01-003-02-05.png\n"
     ]
    },
    {
     "data": {
      "image/png": "[encoded data removed]",
      "text/plain": [
       "<PIL.Image.Image image mode=L size=128x32 at 0x7F5897E9D4D0>"
      ]
     },
     "metadata": {},
     "output_type": "display_data"
    },
    {
     "name": "stdout",
     "output_type": "stream",
     "text": [
      "-----------------------\n",
      "\n",
      "Index = 111\n",
      "Word : Mr.\t\t/content/drive/My Drive/Dataset/Mid_Project_2/words/a01/a01-003/a01-003-02-06.png\n"
     ]
    },
    {
     "data": {
      "image/png": "[encoded data removed]",
      "text/plain": [
       "<PIL.Image.Image image mode=L size=128x32 at 0x7F5897E9D710>"
      ]
     },
     "metadata": {},
     "output_type": "display_data"
    },
    {
     "name": "stdout",
     "output_type": "stream",
     "text": [
      "-----------------------\n",
      "\n",
      "Index = 112\n",
      "Word : Foot's\t\t/content/drive/My Drive/Dataset/Mid_Project_2/words/a01/a01-003/a01-003-03-00.png\n"
     ]
    },
    {
     "data": {
      "image/png": "[encoded data removed]",
      "text/plain": [
       "<PIL.Image.Image image mode=L size=128x32 at 0x7F5897E9D210>"
      ]
     },
     "metadata": {},
     "output_type": "display_data"
    },
    {
     "name": "stdout",
     "output_type": "stream",
     "text": [
      "-----------------------\n",
      "\n",
      "Index = 113\n",
      "Word : line\t\t/content/drive/My Drive/Dataset/Mid_Project_2/words/a01/a01-003/a01-003-03-01.png\n"
     ]
    },
    {
     "data": {
      "image/png": "[encoded data removed]",
      "text/plain": [
       "<PIL.Image.Image image mode=L size=128x32 at 0x7F5897E9D550>"
      ]
     },
     "metadata": {},
     "output_type": "display_data"
    },
    {
     "name": "stdout",
     "output_type": "stream",
     "text": [
      "-----------------------\n",
      "\n",
      "Index = 114\n",
      "Word : will\t\t/content/drive/My Drive/Dataset/Mid_Project_2/words/a01/a01-003/a01-003-03-02.png\n"
     ]
    },
    {
     "data": {
      "image/png": "[encoded data removed]",
      "text/plain": [
       "<PIL.Image.Image image mode=L size=128x32 at 0x7F5897E9D890>"
      ]
     },
     "metadata": {},
     "output_type": "display_data"
    },
    {
     "name": "stdout",
     "output_type": "stream",
     "text": [
      "-----------------------\n",
      "\n",
      "Index = 115\n",
      "Word : be\t\t/content/drive/My Drive/Dataset/Mid_Project_2/words/a01/a01-003/a01-003-03-03.png\n"
     ]
    },
    {
     "data": {
      "image/png": "[encoded data removed]",
      "text/plain": [
       "<PIL.Image.Image image mode=L size=128x32 at 0x7F5897E9D950>"
      ]
     },
     "metadata": {},
     "output_type": "display_data"
    },
    {
     "name": "stdout",
     "output_type": "stream",
     "text": [
      "-----------------------\n",
      "\n",
      "Index = 116\n",
      "Word : that\t\t/content/drive/My Drive/Dataset/Mid_Project_2/words/a01/a01-003/a01-003-03-04.png\n"
     ]
    },
    {
     "data": {
      "image/png": "[encoded data removed]",
      "text/plain": [
       "<PIL.Image.Image image mode=L size=128x32 at 0x7F5897E9DA10>"
      ]
     },
     "metadata": {},
     "output_type": "display_data"
    },
    {
     "name": "stdout",
     "output_type": "stream",
     "text": [
      "-----------------------\n",
      "\n",
      "Index = 117\n",
      "Word : as\t\t/content/drive/My Drive/Dataset/Mid_Project_2/words/a01/a01-003/a01-003-03-05.png\n"
     ]
    },
    {
     "data": {
      "image/png": "[encoded data removed]",
      "text/plain": [
       "<PIL.Image.Image image mode=L size=128x32 at 0x7F5897E9DB90>"
      ]
     },
     "metadata": {},
     "output_type": "display_data"
    },
    {
     "name": "stdout",
     "output_type": "stream",
     "text": [
      "-----------------------\n",
      "\n",
      "Index = 118\n",
      "Word : Labour\t\t/content/drive/My Drive/Dataset/Mid_Project_2/words/a01/a01-003/a01-003-03-06.png\n"
     ]
    },
    {
     "data": {
      "image/png": "[encoded data removed]",
      "text/plain": [
       "<PIL.Image.Image image mode=L size=128x32 at 0x7F5897E9DAD0>"
      ]
     },
     "metadata": {},
     "output_type": "display_data"
    },
    {
     "name": "stdout",
     "output_type": "stream",
     "text": [
      "-----------------------\n",
      "\n",
      "Index = 119\n",
      "Word : M\t\t/content/drive/My Drive/Dataset/Mid_Project_2/words/a01/a01-003/a01-003-03-07.png\n"
     ]
    },
    {
     "data": {
      "image/png": "[encoded data removed]",
      "text/plain": [
       "<PIL.Image.Image image mode=L size=128x32 at 0x7F5897E9DB50>"
      ]
     },
     "metadata": {},
     "output_type": "display_data"
    },
    {
     "name": "stdout",
     "output_type": "stream",
     "text": [
      "-----------------------\n",
      "\n",
      "Index = 120\n",
      "Word : opposed\t\t/content/drive/My Drive/Dataset/Mid_Project_2/words/a01/a01-003/a01-003-04-00.png\n"
     ]
    },
    {
     "data": {
      "image/png": "[encoded data removed]",
      "text/plain": [
       "<PIL.Image.Image image mode=L size=128x32 at 0x7F5897E9D310>"
      ]
     },
     "metadata": {},
     "output_type": "display_data"
    },
    {
     "name": "stdout",
     "output_type": "stream",
     "text": [
      "-----------------------\n",
      "\n",
      "Index = 121\n",
      "Word : the\t\t/content/drive/My Drive/Dataset/Mid_Project_2/words/a01/a01-003/a01-003-04-01.png\n"
     ]
    },
    {
     "data": {
      "image/png": "[encoded data removed]",
      "text/plain": [
       "<PIL.Image.Image image mode=L size=128x32 at 0x7F5897E9DBD0>"
      ]
     },
     "metadata": {},
     "output_type": "display_data"
    },
    {
     "name": "stdout",
     "output_type": "stream",
     "text": [
      "-----------------------\n",
      "\n",
      "Index = 122\n",
      "Word : Government\t\t/content/drive/My Drive/Dataset/Mid_Project_2/words/a01/a01-003/a01-003-04-02.png\n"
     ]
    },
    {
     "data": {
      "image/png": "[encoded data removed]",
      "text/plain": [
       "<PIL.Image.Image image mode=L size=128x32 at 0x7F5897E9DE90>"
      ]
     },
     "metadata": {},
     "output_type": "display_data"
    },
    {
     "name": "stdout",
     "output_type": "stream",
     "text": [
      "-----------------------\n",
      "\n",
      "Index = 123\n",
      "Word : Bill\t\t/content/drive/My Drive/Dataset/Mid_Project_2/words/a01/a01-003/a01-003-04-03.png\n"
     ]
    },
    {
     "data": {
      "image/png": "[encoded data removed]",
      "text/plain": [
       "<PIL.Image.Image image mode=L size=128x32 at 0x7F5897E9DF50>"
      ]
     },
     "metadata": {},
     "output_type": "display_data"
    },
    {
     "name": "stdout",
     "output_type": "stream",
     "text": [
      "-----------------------\n",
      "\n",
      "Index = 124\n",
      "Word : which\t\t/content/drive/My Drive/Dataset/Mid_Project_2/words/a01/a01-003/a01-003-04-04.png\n"
     ]
    },
    {
     "data": {
      "image/png": "[encoded data removed]",
      "text/plain": [
       "<PIL.Image.Image image mode=L size=128x32 at 0x7F5897E9DDD0>"
      ]
     },
     "metadata": {},
     "output_type": "display_data"
    },
    {
     "name": "stdout",
     "output_type": "stream",
     "text": [
      "-----------------------\n",
      "\n",
      "Index = 125\n",
      "Word : brought\t\t/content/drive/My Drive/Dataset/Mid_Project_2/words/a01/a01-003/a01-003-04-05.png\n"
     ]
    },
    {
     "data": {
      "image/png": "[encoded data removed]",
      "text/plain": [
       "<PIL.Image.Image image mode=L size=128x32 at 0x7F5897E9D250>"
      ]
     },
     "metadata": {},
     "output_type": "display_data"
    },
    {
     "name": "stdout",
     "output_type": "stream",
     "text": [
      "-----------------------\n",
      "\n",
      "Index = 126\n",
      "Word : life\t\t/content/drive/My Drive/Dataset/Mid_Project_2/words/a01/a01-003/a01-003-05-00.png\n"
     ]
    },
    {
     "data": {
      "image/png": "[encoded data removed]",
      "text/plain": [
       "<PIL.Image.Image image mode=L size=128x32 at 0x7F5897E9DF10>"
      ]
     },
     "metadata": {},
     "output_type": "display_data"
    },
    {
     "name": "stdout",
     "output_type": "stream",
     "text": [
      "-----------------------\n",
      "\n",
      "Index = 127\n",
      "Word : peers\t\t/content/drive/My Drive/Dataset/Mid_Project_2/words/a01/a01-003/a01-003-05-01.png\n"
     ]
    },
    {
     "data": {
      "image/png": "[encoded data removed]",
      "text/plain": [
       "<PIL.Image.Image image mode=L size=128x32 at 0x7F5897E9DE50>"
      ]
     },
     "metadata": {},
     "output_type": "display_data"
    },
    {
     "name": "stdout",
     "output_type": "stream",
     "text": [
      "-----------------------\n",
      "\n",
      "Index = 128\n",
      "Word : into\t\t/content/drive/My Drive/Dataset/Mid_Project_2/words/a01/a01-003/a01-003-05-02.png\n"
     ]
    },
    {
     "data": {
      "image/png": "[encoded data removed]",
      "text/plain": [
       "<PIL.Image.Image image mode=L size=128x32 at 0x7F5897E9DFD0>"
      ]
     },
     "metadata": {},
     "output_type": "display_data"
    },
    {
     "name": "stdout",
     "output_type": "stream",
     "text": [
      "-----------------------\n",
      "\n",
      "Index = 129\n",
      "Word : existence\t\t/content/drive/My Drive/Dataset/Mid_Project_2/words/a01/a01-003/a01-003-05-03.png\n"
     ]
    },
    {
     "data": {
      "image/png": "[encoded data removed]",
      "text/plain": [
       "<PIL.Image.Image image mode=L size=128x32 at 0x7F5897E9D690>"
      ]
     },
     "metadata": {},
     "output_type": "display_data"
    },
    {
     "name": "stdout",
     "output_type": "stream",
     "text": [
      "-----------------------\n",
      "\n"
     ]
    }
   ],
   "source": [
    "for i in range(100,130):\n",
    "  print(f\"Index = {i}\")\n",
    "  view_image(data['word'].iloc[i],data['path'].iloc[i])\n",
    "  print(\"-----------------------\\n\")"
   ]
  },
  {
   "cell_type": "code",
   "execution_count": 27,
   "metadata": {
    "id": "WHHZArw_feO5"
   },
   "outputs": [],
   "source": [
    "## function to pre-process the image, resize and normalize\n",
    "\n",
    "def image_processing(path,height=32,width=128):\n",
    "  img = cv2.cvtColor(cv2.imread(path), cv2.COLOR_BGR2GRAY)   \n",
    "  h,w = img.shape\n",
    "  #print(h,w)\n",
    "\n",
    "  if h < height:\n",
    "      add_zeros = np.ones((height-h , w))*255\n",
    "      img = np.concatenate((img, add_zeros))\n",
    "      h = 32\n",
    "\n",
    "  if w < width:\n",
    "      add_zeros = np.ones((h, width-w))*255\n",
    "      img = np.concatenate((img, add_zeros), axis=1)\n",
    "      w = 128\n",
    "  \n",
    "  # Image resized [128 X 32]\n",
    "  img = cv2.resize(img, (width, height)) \n",
    "\n",
    "  img = np.expand_dims(img , axis = 2)\n",
    "\n",
    "  # Normalize the image between 0-1\n",
    "  img = img/255.\n",
    "\n",
    "  return img\n"
   ]
  },
  {
   "cell_type": "markdown",
   "metadata": {
    "id": "47DrJ6eoh3aq"
   },
   "source": [
    "### Function for text"
   ]
  },
  {
   "cell_type": "code",
   "execution_count": 28,
   "metadata": {
    "colab": {
     "base_uri": "https://localhost:8080/"
    },
    "id": "NgabyNJah5pQ",
    "outputId": "2ef23c61-8c3f-4b91-abcc-85e8a2df6379"
   },
   "outputs": [
    {
     "name": "stdout",
     "output_type": "stream",
     "text": [
      "abcdefghijklmnopqrstuvwxyzABCDEFGHIJKLMNOPQRSTUVWXYZ0123456789!\"#$%&'()*+,-./:;<=>?@[\\]^_`{|}~\n"
     ]
    }
   ],
   "source": [
    "## Creating list of characters\n",
    "\n",
    "characters = string.ascii_letters + string.digits + string.punctuation \n",
    "print(characters)"
   ]
  },
  {
   "cell_type": "code",
   "execution_count": 29,
   "metadata": {
    "id": "34V4SNA7iywn"
   },
   "outputs": [],
   "source": [
    "## Function to lable encode the characters\n",
    "\n",
    "def LabelEncoder(label):\n",
    "  return [characters.index(char) for char in label]"
   ]
  },
  {
   "cell_type": "code",
   "execution_count": 30,
   "metadata": {
    "colab": {
     "base_uri": "https://localhost:8080/"
    },
    "id": "sgnarcR7hFfQ",
    "outputId": "8c5427ad-62f1-4cc9-e7bb-5e24e4628a92"
   },
   "outputs": [
    {
     "name": "stdout",
     "output_type": "stream",
     "text": [
      "Maximum word length = 15\n",
      "Length of unique characters = 74\n",
      "['F', 'E', 'm', 'A', 'P', 'Y', 'k', 'b', ')', '-', ':', 'l', 'L', '2', 'R', '6', 'U', 'Z', 'X', '(', '4', 'n', 'I', 'p', 't', 'v', 'e', ';', 's', '3', 'C', '#', 'q', 'c', 'w', 'o', 'd', 'j', 'B', 'D', 'a', 'K', 'T', '?', \"'\", 'W', 'u', '9', 'S', 'r', '5', '*', 'J', 'z', ',', '1', 'H', '0', 'V', 'N', 'x', 'Q', '!', 'i', 'h', 'O', 'f', '8', '7', '.', 'y', 'G', 'M', 'g']\n"
     ]
    }
   ],
   "source": [
    "## Finding maximum length and size of vocabulary\n",
    "\n",
    "max_len_word=0\n",
    "word_set=set()\n",
    "\n",
    "for i in range(0,max(data.index)+ 1):\n",
    "  label= data.iloc[i].word\n",
    "  max_len_word = max(max_len_word,len(label))\n",
    "  for char in label:\n",
    "        word_set.add(char)\n",
    "word_set=list(word_set)\n",
    "print(f\"Maximum word length = {max_len_word}\")\n",
    "print(f\"Length of unique characters = {len(word_set)}\")\n",
    "print(word_set)"
   ]
  },
  {
   "cell_type": "code",
   "execution_count": 31,
   "metadata": {
    "colab": {
     "base_uri": "https://localhost:8080/"
    },
    "id": "M7snEe8H3H3O",
    "outputId": "183ac994-8f7d-49b8-9c02-8253b1f1ac86"
   },
   "outputs": [
    {
     "name": "stdout",
     "output_type": "stream",
     "text": [
      "all words are present\n"
     ]
    }
   ],
   "source": [
    "## checking if numeric value of word exists or not:\n",
    "check = 0\n",
    "for w in word_set:\n",
    "  if w not in characters:\n",
    "    print(w)\n",
    "if check > 0:\n",
    "  print(\"words are missing from character set\")\n",
    "else:\n",
    "  print(\"all words are present\")"
   ]
  },
  {
   "cell_type": "code",
   "execution_count": 32,
   "metadata": {
    "id": "5Ti4DDyi3ock"
   },
   "outputs": [],
   "source": [
    "## Function to create features and target for training the model\n",
    "def create_image_label(df):\n",
    "  X=[]\n",
    "  Y=[]\n",
    "  image_length = 31\n",
    "  error_record = []\n",
    "  start = datetime.datetime.today()\n",
    "  print(f\"Start -> {start}\")\n",
    "\n",
    "  for i in range(0,max(df.index)+1):\n",
    "    try:\n",
    "      X.append([image_processing(df.iloc[i][\"path\"]),image_length,df.iloc[i][\"path\"]])\n",
    "      Y.append([ LabelEncoder(df.iloc[i][\"word\"]), len(df.iloc[i][\"word\"]), df.iloc[i][\"word\"]  ])\n",
    "\n",
    "      if i % 100 == 0:\n",
    "        end = datetime.datetime.today()\n",
    "        total_time = round((end - start).total_seconds(),2)\n",
    "        print(f\"Data is calculated till label = {i} \\t\\t Time Taken = {total_time} sec.\")\n",
    "        start = datetime.datetime.today()\n",
    "\n",
    "      # if i > 200 :\n",
    "      #   break\n",
    "    except:\n",
    "      print(f\"Error found for index position = {i}\")\n",
    "      error_record.append(i)\n",
    "      pass\n",
    "\n",
    "  print(f\"Count of error_records ={len(error_record)}\")\n",
    "  print(f\"End -> {datetime.datetime.today()}\")\n",
    "\n",
    "  return X,Y,error_record"
   ]
  },
  {
   "cell_type": "markdown",
   "metadata": {
    "id": "qs6_4ijmh-Qt"
   },
   "source": [
    "### Creating Data Set for Model Training"
   ]
  },
  {
   "cell_type": "code",
   "execution_count": 33,
   "metadata": {
    "colab": {
     "base_uri": "https://localhost:8080/"
    },
    "id": "Wiv0C__ZEXDH",
    "outputId": "b947903b-e49d-4578-d0e0-a3856fb30c5e"
   },
   "outputs": [
    {
     "name": "stdout",
     "output_type": "stream",
     "text": [
      "Start -> 2022-05-16 00:21:45.055313\n",
      "Data is calculated till label = 0 \t\t Time Taken = 0.01 sec.\n",
      "Data is calculated till label = 100 \t\t Time Taken = 0.32 sec.\n",
      "Data is calculated till label = 200 \t\t Time Taken = 0.31 sec.\n",
      "Data is calculated till label = 300 \t\t Time Taken = 0.35 sec.\n",
      "Data is calculated till label = 400 \t\t Time Taken = 0.33 sec.\n",
      "Data is calculated till label = 500 \t\t Time Taken = 0.32 sec.\n",
      "Data is calculated till label = 600 \t\t Time Taken = 0.33 sec.\n",
      "Data is calculated till label = 700 \t\t Time Taken = 0.33 sec.\n",
      "Data is calculated till label = 800 \t\t Time Taken = 0.33 sec.\n",
      "Data is calculated till label = 900 \t\t Time Taken = 0.34 sec.\n",
      "Data is calculated till label = 1000 \t\t Time Taken = 0.34 sec.\n",
      "Data is calculated till label = 1100 \t\t Time Taken = 0.34 sec.\n",
      "Data is calculated till label = 1200 \t\t Time Taken = 0.39 sec.\n",
      "Data is calculated till label = 1300 \t\t Time Taken = 0.36 sec.\n",
      "Data is calculated till label = 1400 \t\t Time Taken = 0.36 sec.\n",
      "Data is calculated till label = 1500 \t\t Time Taken = 0.39 sec.\n",
      "Data is calculated till label = 1600 \t\t Time Taken = 0.34 sec.\n",
      "Data is calculated till label = 1700 \t\t Time Taken = 0.35 sec.\n",
      "Error found for index position = 1792\n",
      "Data is calculated till label = 1800 \t\t Time Taken = 0.34 sec.\n",
      "Data is calculated till label = 1900 \t\t Time Taken = 0.34 sec.\n",
      "Data is calculated till label = 2000 \t\t Time Taken = 0.36 sec.\n",
      "Data is calculated till label = 2100 \t\t Time Taken = 0.35 sec.\n",
      "Data is calculated till label = 2200 \t\t Time Taken = 0.32 sec.\n",
      "Data is calculated till label = 2300 \t\t Time Taken = 0.36 sec.\n",
      "Data is calculated till label = 2400 \t\t Time Taken = 0.36 sec.\n",
      "Data is calculated till label = 2500 \t\t Time Taken = 0.33 sec.\n",
      "Data is calculated till label = 2600 \t\t Time Taken = 0.32 sec.\n",
      "Data is calculated till label = 2700 \t\t Time Taken = 0.33 sec.\n",
      "Data is calculated till label = 2800 \t\t Time Taken = 0.32 sec.\n",
      "Data is calculated till label = 2900 \t\t Time Taken = 0.34 sec.\n",
      "Data is calculated till label = 3000 \t\t Time Taken = 0.35 sec.\n",
      "Data is calculated till label = 3100 \t\t Time Taken = 0.34 sec.\n",
      "Data is calculated till label = 3200 \t\t Time Taken = 0.34 sec.\n",
      "Data is calculated till label = 3300 \t\t Time Taken = 0.35 sec.\n",
      "Data is calculated till label = 3400 \t\t Time Taken = 0.33 sec.\n",
      "Data is calculated till label = 3500 \t\t Time Taken = 0.35 sec.\n",
      "Data is calculated till label = 3600 \t\t Time Taken = 0.35 sec.\n",
      "Data is calculated till label = 3700 \t\t Time Taken = 0.33 sec.\n",
      "Data is calculated till label = 3800 \t\t Time Taken = 0.33 sec.\n",
      "Data is calculated till label = 3900 \t\t Time Taken = 0.34 sec.\n",
      "Data is calculated till label = 4000 \t\t Time Taken = 0.33 sec.\n",
      "Data is calculated till label = 4100 \t\t Time Taken = 0.37 sec.\n",
      "Data is calculated till label = 4200 \t\t Time Taken = 0.34 sec.\n",
      "Data is calculated till label = 4300 \t\t Time Taken = 0.34 sec.\n",
      "Data is calculated till label = 4400 \t\t Time Taken = 0.35 sec.\n",
      "Data is calculated till label = 4500 \t\t Time Taken = 0.33 sec.\n",
      "Data is calculated till label = 4600 \t\t Time Taken = 0.34 sec.\n",
      "Data is calculated till label = 4700 \t\t Time Taken = 0.36 sec.\n",
      "Data is calculated till label = 4800 \t\t Time Taken = 0.36 sec.\n",
      "Data is calculated till label = 4900 \t\t Time Taken = 0.35 sec.\n",
      "Data is calculated till label = 5000 \t\t Time Taken = 0.35 sec.\n",
      "Data is calculated till label = 5100 \t\t Time Taken = 0.32 sec.\n",
      "Data is calculated till label = 5200 \t\t Time Taken = 0.35 sec.\n",
      "Data is calculated till label = 5300 \t\t Time Taken = 0.34 sec.\n",
      "Data is calculated till label = 5400 \t\t Time Taken = 0.32 sec.\n",
      "Data is calculated till label = 5500 \t\t Time Taken = 0.37 sec.\n",
      "Data is calculated till label = 5600 \t\t Time Taken = 0.36 sec.\n",
      "Data is calculated till label = 5700 \t\t Time Taken = 0.35 sec.\n",
      "Data is calculated till label = 5800 \t\t Time Taken = 0.33 sec.\n",
      "Data is calculated till label = 5900 \t\t Time Taken = 0.35 sec.\n",
      "Data is calculated till label = 6000 \t\t Time Taken = 0.33 sec.\n",
      "Data is calculated till label = 6100 \t\t Time Taken = 0.33 sec.\n",
      "Data is calculated till label = 6200 \t\t Time Taken = 0.35 sec.\n",
      "Data is calculated till label = 6300 \t\t Time Taken = 0.35 sec.\n",
      "Data is calculated till label = 6400 \t\t Time Taken = 0.34 sec.\n",
      "Data is calculated till label = 6500 \t\t Time Taken = 0.37 sec.\n",
      "Data is calculated till label = 6600 \t\t Time Taken = 0.35 sec.\n",
      "Data is calculated till label = 6700 \t\t Time Taken = 0.36 sec.\n",
      "Data is calculated till label = 6800 \t\t Time Taken = 0.36 sec.\n",
      "Data is calculated till label = 6900 \t\t Time Taken = 0.35 sec.\n",
      "Data is calculated till label = 7000 \t\t Time Taken = 0.36 sec.\n",
      "Data is calculated till label = 7100 \t\t Time Taken = 0.35 sec.\n",
      "Data is calculated till label = 7200 \t\t Time Taken = 0.36 sec.\n",
      "Data is calculated till label = 7300 \t\t Time Taken = 0.33 sec.\n",
      "Data is calculated till label = 7400 \t\t Time Taken = 0.33 sec.\n",
      "Data is calculated till label = 7500 \t\t Time Taken = 0.37 sec.\n",
      "Data is calculated till label = 7600 \t\t Time Taken = 0.38 sec.\n",
      "Data is calculated till label = 7700 \t\t Time Taken = 0.37 sec.\n",
      "Data is calculated till label = 7800 \t\t Time Taken = 0.35 sec.\n",
      "Data is calculated till label = 7900 \t\t Time Taken = 0.35 sec.\n",
      "Data is calculated till label = 8000 \t\t Time Taken = 0.32 sec.\n",
      "Data is calculated till label = 8100 \t\t Time Taken = 0.33 sec.\n",
      "Data is calculated till label = 8200 \t\t Time Taken = 0.33 sec.\n",
      "Data is calculated till label = 8300 \t\t Time Taken = 0.33 sec.\n",
      "Data is calculated till label = 8400 \t\t Time Taken = 0.35 sec.\n",
      "Data is calculated till label = 8500 \t\t Time Taken = 0.33 sec.\n",
      "Data is calculated till label = 8600 \t\t Time Taken = 0.31 sec.\n",
      "Data is calculated till label = 8700 \t\t Time Taken = 0.34 sec.\n",
      "Data is calculated till label = 8800 \t\t Time Taken = 0.33 sec.\n",
      "Data is calculated till label = 8900 \t\t Time Taken = 0.34 sec.\n",
      "Data is calculated till label = 9000 \t\t Time Taken = 0.36 sec.\n",
      "Data is calculated till label = 9100 \t\t Time Taken = 0.34 sec.\n",
      "Data is calculated till label = 9200 \t\t Time Taken = 0.33 sec.\n",
      "Data is calculated till label = 9300 \t\t Time Taken = 0.34 sec.\n",
      "Data is calculated till label = 9400 \t\t Time Taken = 0.33 sec.\n",
      "Data is calculated till label = 9500 \t\t Time Taken = 0.31 sec.\n",
      "Data is calculated till label = 9600 \t\t Time Taken = 0.34 sec.\n",
      "Data is calculated till label = 9700 \t\t Time Taken = 0.33 sec.\n",
      "Data is calculated till label = 9800 \t\t Time Taken = 0.31 sec.\n",
      "Data is calculated till label = 9900 \t\t Time Taken = 0.36 sec.\n",
      "Count of error_records =1\n",
      "End -> 2022-05-16 00:22:19.381535\n"
     ]
    }
   ],
   "source": [
    "## Create X and Y label for model training\n",
    "\n",
    "X,Y,ERR = create_image_label(data)"
   ]
  },
  {
   "cell_type": "markdown",
   "metadata": {
    "id": "ryd6oUoUY_zw"
   },
   "source": [
    "### Test Train Split"
   ]
  },
  {
   "cell_type": "code",
   "execution_count": 34,
   "metadata": {
    "id": "XLOMpqEZVjaa"
   },
   "outputs": [],
   "source": [
    "## Performing test train split using sklearn\n",
    "\n",
    "X_train_tmp,X_test_tmp,y_train_tmp,y_test_tmp = train_test_split(X, Y, test_size = 0.2, random_state = 48)"
   ]
  },
  {
   "cell_type": "code",
   "execution_count": 35,
   "metadata": {
    "colab": {
     "base_uri": "https://localhost:8080/"
    },
    "id": "oZNBGobUVjco",
    "outputId": "b29d7de4-e025-45cc-a0b0-52c29c510a77"
   },
   "outputs": [
    {
     "name": "stdout",
     "output_type": "stream",
     "text": [
      "Size of X label = 9999\n",
      "Size of Y label = 9999\n",
      "Size of X_train label = 7999\n",
      "Size of X_test label = 2000\n",
      "Size of y_train label = 7999\n",
      "Size of y_test label = 2000\n",
      "Max Length of label = 15\n"
     ]
    }
   ],
   "source": [
    "## Checking the count of training and test data set\n",
    "\n",
    "print(f\"Size of X label = {len(X)}\")\n",
    "print(f\"Size of Y label = {len(Y)}\")\n",
    "print(f\"Size of X_train label = {len(X_train_tmp)}\")\n",
    "print(f\"Size of X_test label = {len(X_test_tmp)}\")\n",
    "print(f\"Size of y_train label = {len(y_train_tmp)}\")\n",
    "print(f\"Size of y_test label = {len(y_test_tmp)}\")\n",
    "print(f\"Max Length of label = {max_len_word}\")\n"
   ]
  },
  {
   "cell_type": "code",
   "execution_count": 36,
   "metadata": {
    "id": "cie6LitDVjen"
   },
   "outputs": [],
   "source": [
    "# Train data\n",
    "x_train = [item[0] for item in X_train_tmp]\n",
    "train_input_length = [item[1] for item in X_train_tmp]\n",
    "train_image_path = [item[2] for item in X_train_tmp]\n",
    "\n",
    "y_train = [item[0] for item in y_train_tmp]\n",
    "train_label_length = [item[1] for item in y_train_tmp]\n",
    "train_label_original = [item[2] for item in y_train_tmp]\n",
    "\n",
    "# Test data\n",
    "x_test = [item[0] for item in X_test_tmp]\n",
    "test_input_length = [item[1] for item in X_test_tmp]\n",
    "test_image_path = [item[2] for item in X_test_tmp]\n",
    "\n",
    "y_test = [item[0] for item in y_test_tmp]\n",
    "test_label_length = [item[1] for item in y_test_tmp]\n",
    "test_label_original = [item[2] for item in y_test_tmp]"
   ]
  },
  {
   "cell_type": "markdown",
   "metadata": {
    "id": "sJ3Z5EswvPA2"
   },
   "source": [
    "#### Padding all words to have similar length"
   ]
  },
  {
   "cell_type": "code",
   "execution_count": 37,
   "metadata": {
    "id": "xoiUFfUutKTZ"
   },
   "outputs": [],
   "source": [
    "train_pad_label = pad_sequences(y_train, maxlen=max_len_word, padding='post', value = len(characters))\n",
    "test_pad_label = pad_sequences(y_test, maxlen=max_len_word, padding='post', value = len(characters))"
   ]
  },
  {
   "cell_type": "code",
   "execution_count": 37,
   "metadata": {
    "id": "-EiZWLMEvVKN"
   },
   "outputs": [],
   "source": []
  },
  {
   "cell_type": "markdown",
   "metadata": {
    "id": "k_rStGWvvqLp"
   },
   "source": [
    "## Creating Model for training"
   ]
  },
  {
   "cell_type": "code",
   "execution_count": 38,
   "metadata": {
    "colab": {
     "base_uri": "https://localhost:8080/"
    },
    "id": "juAiSnTPvsjg",
    "outputId": "a7c30fd1-f101-4750-afea-53cafa408eb4"
   },
   "outputs": [
    {
     "name": "stdout",
     "output_type": "stream",
     "text": [
      "Model: \"model\"\n",
      "_________________________________________________________________\n",
      " Layer (type)                Output Shape              Param #   \n",
      "=================================================================\n",
      " input_1 (InputLayer)        [(None, 32, 128, 1)]      0         \n",
      "                                                                 \n",
      " conv_1 (Conv2D)             (None, 32, 128, 64)       640       \n",
      "                                                                 \n",
      " max_pooling2d (MaxPooling2D  (None, 16, 64, 64)       0         \n",
      " )                                                               \n",
      "                                                                 \n",
      " conv_2 (Conv2D)             (None, 16, 64, 128)       73856     \n",
      "                                                                 \n",
      " max_pooling2d_1 (MaxPooling  (None, 8, 32, 128)       0         \n",
      " 2D)                                                             \n",
      "                                                                 \n",
      " conv_3 (Conv2D)             (None, 8, 32, 256)        295168    \n",
      "                                                                 \n",
      " conv_4 (Conv2D)             (None, 8, 32, 256)        590080    \n",
      "                                                                 \n",
      " max_pooling2d_2 (MaxPooling  (None, 4, 32, 256)       0         \n",
      " 2D)                                                             \n",
      "                                                                 \n",
      " conv_5 (Conv2D)             (None, 4, 32, 512)        1180160   \n",
      "                                                                 \n",
      " batch_normalization (BatchN  (None, 4, 32, 512)       2048      \n",
      " ormalization)                                                   \n",
      "                                                                 \n",
      " conv_6 (Conv2D)             (None, 4, 32, 512)        2359808   \n",
      "                                                                 \n",
      " batch_normalization_1 (Batc  (None, 4, 32, 512)       2048      \n",
      " hNormalization)                                                 \n",
      "                                                                 \n",
      " max_pooling2d_3 (MaxPooling  (None, 2, 32, 512)       0         \n",
      " 2D)                                                             \n",
      "                                                                 \n",
      " conv_7 (Conv2D)             (None, 1, 31, 512)        1049088   \n",
      "                                                                 \n",
      " lambda (Lambda)             (None, 31, 512)           0         \n",
      "                                                                 \n",
      " bidirectional (Bidirectiona  (None, 31, 256)          656384    \n",
      " l)                                                              \n",
      "                                                                 \n",
      " bidirectional_1 (Bidirectio  (None, 31, 256)          394240    \n",
      " nal)                                                            \n",
      "                                                                 \n",
      " output (Dense)              (None, 31, 95)            24415     \n",
      "                                                                 \n",
      "=================================================================\n",
      "Total params: 6,627,935\n",
      "Trainable params: 6,625,887\n",
      "Non-trainable params: 2,048\n",
      "_________________________________________________________________\n"
     ]
    }
   ],
   "source": [
    "\"\"\"\n",
    "a) Add several CNN layers to extract the sequence of features\n",
    "b) Add Bi-LSTM layers to propagate through the sequence\n",
    "c) Add a dense layer (output layer) with total number of neurons as (total number of characters + 1) and the activation as softmax.\n",
    "\"\"\"\n",
    "\n",
    "# input with shape of height=32 and width=128 \n",
    "inputs = Input(shape=(32,128,1))\n",
    "\n",
    "# CNN layrer\n",
    "conv_1 = Conv2D(64,(3,3), input_shape=(32,128,1), padding=\"same\", activation='relu', name=\"conv_1\") (inputs)\n",
    "\n",
    "# Maxpooling layer\n",
    "pool_1 = MaxPooling2D(pool_size=(2,2), strides=2) (conv_1)\n",
    "\n",
    "conv_2 = Conv2D(128,(3,3), padding=\"same\", activation='relu', name=\"conv_2\") (pool_1)\n",
    "pool_2 = MaxPooling2D(pool_size=(2,2), strides=2) (conv_2)\n",
    "\n",
    "conv_3 = Conv2D(256,(3,3), padding=\"same\", activation='relu', name=\"conv_3\") (pool_2)\n",
    "\n",
    "conv_4 =Conv2D(256,(3,3), padding=\"same\", activation='relu', name=\"conv_4\") (conv_3)\n",
    "pool_3 = MaxPooling2D(pool_size=(2,1)) (conv_4)\n",
    "\n",
    "conv_5 = Conv2D(512,(3,3), padding=\"same\", activation='relu', name=\"conv_5\") (pool_3)\n",
    "\n",
    "# Normlization layer\n",
    "batch_norm_1 = BatchNormalization() (conv_5)\n",
    "\n",
    "conv_6 = Conv2D(512,(3,3), padding=\"same\", activation='relu', name=\"conv_6\") (batch_norm_1)\n",
    "\n",
    "# Normlization layer\n",
    "batch_norm_2 = BatchNormalization() (conv_6)\n",
    "\n",
    "pool_4 = MaxPooling2D(pool_size=(2,1)) (batch_norm_2)\n",
    "\n",
    "# Last CNN layer and used dilation_rate to defines a spacing between the values in a kernel. It return shape \"(None, 1, 31, 512) from (None, 2, 32, 512)\"\n",
    "conv_7 = Conv2D(512,(2,2), dilation_rate=(1, 1), activation='relu', name=\"conv_7\") (pool_4)\n",
    "\n",
    "# Used a lambda function and Squeeze function of keras beckend to squeeze the output shape of CNN layer and make it compatible with LSTM layer as input.\n",
    "squeezed = Lambda(lambda x: K.squeeze(x, 1)) (conv_7)\n",
    "\n",
    "# Add two LSTM layers with dropout\n",
    "bi_lstm_1 = Bidirectional(LSTM(units=128, return_sequences=True, recurrent_dropout=0.2)) (squeezed)\n",
    "bi_lstm_2 = Bidirectional(LSTM(units=128, return_sequences=True, recurrent_dropout=0.2)) (bi_lstm_1)\n",
    "\n",
    "# Last dense layer with activation \"Softmax\"\n",
    "outputs = Dense(len(characters)+1, activation='softmax', name=\"output\") (bi_lstm_2)\n",
    "\n",
    "\n",
    "#create a model using input and output of layers to use for prediction.\n",
    "actual_model = keras.Model(inputs, outputs)\n",
    "actual_model.summary()"
   ]
  },
  {
   "cell_type": "markdown",
   "metadata": {
    "id": "0hpTTqJLwYcS"
   },
   "source": [
    "### CTC layer (CTC_loss)"
   ]
  },
  {
   "cell_type": "code",
   "execution_count": 39,
   "metadata": {
    "id": "fTa9ckuvv-rB"
   },
   "outputs": [],
   "source": [
    "labels = Input(name='the_labels', shape=[max_len_word], dtype='float32')\n",
    "input_length = Input(name='input_length', shape=[1], dtype='int64')\n",
    "label_length = Input(name='label_length', shape=[1], dtype='int64')\n",
    "\n",
    "\n",
    "def ctc_lambda_func(args):\n",
    "    y_pred, labels, input_length, label_length = args\n",
    "    return K.ctc_batch_cost(labels, y_pred, input_length, label_length)\n",
    "\n",
    "\n",
    "loss_out = Lambda(ctc_lambda_func, output_shape=(1,), name='ctc')([outputs, labels, input_length, label_length])\n",
    "\n",
    "# New model has been  created for training only\n",
    "model = keras.Model(inputs=[inputs, labels, input_length, label_length], outputs=loss_out)"
   ]
  },
  {
   "cell_type": "code",
   "execution_count": 40,
   "metadata": {
    "id": "jaI-mOHmwleO"
   },
   "outputs": [],
   "source": [
    "## Compiling the model\n",
    "\n",
    "model.compile(loss={'ctc': lambda y_true, y_pred: y_pred}, optimizer = 'adam')"
   ]
  },
  {
   "cell_type": "code",
   "execution_count": 41,
   "metadata": {
    "id": "XJ_vWP8IwpSF"
   },
   "outputs": [],
   "source": [
    "## Creating Checkpoint to save the best model\n",
    "\n",
    "filepath= r'/content/drive/My Drive/Dataset/Mid_Project_2/handwritten_text_best_model.h5'\n",
    "checkpoint = ModelCheckpoint(filepath=filepath, monitor='val_loss', verbose=1, save_best_only=True, mode='auto')\n",
    "callbacks_list = [checkpoint]"
   ]
  },
  {
   "cell_type": "markdown",
   "metadata": {
    "id": "zBUm6d1oxEuR"
   },
   "source": [
    "### Training the model"
   ]
  },
  {
   "cell_type": "code",
   "execution_count": 42,
   "metadata": {
    "id": "auAiZKfvw9Cm"
   },
   "outputs": [],
   "source": [
    "#convert the train and test data in numpy array\n",
    "\n",
    "x_train = np.array(x_train)\n",
    "train_input_length = np.array(train_input_length)\n",
    "train_label_length = np.array(train_label_length)\n",
    " \n",
    "x_test = np.array(x_test)\n",
    "test_input_length = np.array(test_input_length)\n",
    "test_label_length = np.array(test_label_length)"
   ]
  },
  {
   "cell_type": "code",
   "execution_count": 43,
   "metadata": {
    "colab": {
     "base_uri": "https://localhost:8080/"
    },
    "id": "ftWkxBVMxGtx",
    "outputId": "d63c1c44-8bce-449b-f8cd-87ff88029958"
   },
   "outputs": [
    {
     "name": "stdout",
     "output_type": "stream",
     "text": [
      "Epoch 1/100\n",
      "32/32 [==============================] - ETA: 0s - loss: 24.2400\n",
      "Epoch 1: val_loss improved from inf to 16.66320, saving model to /content/drive/My Drive/Dataset/Mid_Project_2/handwritten_text_best_model.h5\n",
      "32/32 [==============================] - 103s 3s/step - loss: 24.2400 - val_loss: 16.6632\n",
      "Epoch 2/100\n",
      "32/32 [==============================] - ETA: 0s - loss: 16.5132\n",
      "Epoch 2: val_loss improved from 16.66320 to 16.42391, saving model to /content/drive/My Drive/Dataset/Mid_Project_2/handwritten_text_best_model.h5\n",
      "32/32 [==============================] - 94s 3s/step - loss: 16.5132 - val_loss: 16.4239\n",
      "Epoch 3/100\n",
      "32/32 [==============================] - ETA: 0s - loss: 15.6134\n",
      "Epoch 3: val_loss did not improve from 16.42391\n",
      "32/32 [==============================] - 92s 3s/step - loss: 15.6134 - val_loss: 17.8850\n",
      "Epoch 4/100\n",
      "32/32 [==============================] - ETA: 0s - loss: 14.8952\n",
      "Epoch 4: val_loss did not improve from 16.42391\n",
      "32/32 [==============================] - 93s 3s/step - loss: 14.8952 - val_loss: 16.4255\n",
      "Epoch 5/100\n",
      "32/32 [==============================] - ETA: 0s - loss: 14.4709\n",
      "Epoch 5: val_loss improved from 16.42391 to 14.62916, saving model to /content/drive/My Drive/Dataset/Mid_Project_2/handwritten_text_best_model.h5\n",
      "32/32 [==============================] - 92s 3s/step - loss: 14.4709 - val_loss: 14.6292\n",
      "Epoch 6/100\n",
      "32/32 [==============================] - ETA: 0s - loss: 14.1777\n",
      "Epoch 6: val_loss did not improve from 14.62916\n",
      "32/32 [==============================] - 93s 3s/step - loss: 14.1777 - val_loss: 16.7209\n",
      "Epoch 7/100\n",
      "32/32 [==============================] - ETA: 0s - loss: 13.9055\n",
      "Epoch 7: val_loss did not improve from 14.62916\n",
      "32/32 [==============================] - 92s 3s/step - loss: 13.9055 - val_loss: 17.1381\n",
      "Epoch 8/100\n",
      "32/32 [==============================] - ETA: 0s - loss: 13.5763\n",
      "Epoch 8: val_loss did not improve from 14.62916\n",
      "32/32 [==============================] - 93s 3s/step - loss: 13.5763 - val_loss: 25.1667\n",
      "Epoch 9/100\n",
      "32/32 [==============================] - ETA: 0s - loss: 13.2434\n",
      "Epoch 9: val_loss did not improve from 14.62916\n",
      "32/32 [==============================] - 95s 3s/step - loss: 13.2434 - val_loss: 23.8183\n",
      "Epoch 10/100\n",
      "32/32 [==============================] - ETA: 0s - loss: 12.8261\n",
      "Epoch 10: val_loss did not improve from 14.62916\n",
      "32/32 [==============================] - 90s 3s/step - loss: 12.8261 - val_loss: 21.2376\n",
      "Epoch 11/100\n",
      "32/32 [==============================] - ETA: 0s - loss: 12.3477\n",
      "Epoch 11: val_loss did not improve from 14.62916\n",
      "32/32 [==============================] - 86s 3s/step - loss: 12.3477 - val_loss: 18.1081\n",
      "Epoch 12/100\n",
      "32/32 [==============================] - ETA: 0s - loss: 11.8804\n",
      "Epoch 12: val_loss did not improve from 14.62916\n",
      "32/32 [==============================] - 88s 3s/step - loss: 11.8804 - val_loss: 20.4475\n",
      "Epoch 13/100\n",
      "32/32 [==============================] - ETA: 0s - loss: 11.4141\n",
      "Epoch 13: val_loss did not improve from 14.62916\n",
      "32/32 [==============================] - 88s 3s/step - loss: 11.4141 - val_loss: 19.6444\n",
      "Epoch 14/100\n",
      "32/32 [==============================] - ETA: 0s - loss: 10.9012\n",
      "Epoch 14: val_loss did not improve from 14.62916\n",
      "32/32 [==============================] - 87s 3s/step - loss: 10.9012 - val_loss: 21.6002\n",
      "Epoch 15/100\n",
      "32/32 [==============================] - ETA: 0s - loss: 10.2867\n",
      "Epoch 15: val_loss did not improve from 14.62916\n",
      "32/32 [==============================] - 86s 3s/step - loss: 10.2867 - val_loss: 24.6988\n",
      "Epoch 16/100\n",
      "32/32 [==============================] - ETA: 0s - loss: 9.7291\n",
      "Epoch 16: val_loss did not improve from 14.62916\n",
      "32/32 [==============================] - 89s 3s/step - loss: 9.7291 - val_loss: 23.5560\n",
      "Epoch 17/100\n",
      "32/32 [==============================] - ETA: 0s - loss: 9.2202\n",
      "Epoch 17: val_loss did not improve from 14.62916\n",
      "32/32 [==============================] - 88s 3s/step - loss: 9.2202 - val_loss: 18.6370\n",
      "Epoch 18/100\n",
      "32/32 [==============================] - ETA: 0s - loss: 8.6985\n",
      "Epoch 18: val_loss did not improve from 14.62916\n",
      "32/32 [==============================] - 86s 3s/step - loss: 8.6985 - val_loss: 19.2212\n",
      "Epoch 19/100\n",
      "32/32 [==============================] - ETA: 0s - loss: 8.1392\n",
      "Epoch 19: val_loss did not improve from 14.62916\n",
      "32/32 [==============================] - 91s 3s/step - loss: 8.1392 - val_loss: 23.1871\n",
      "Epoch 20/100\n",
      "32/32 [==============================] - ETA: 0s - loss: 7.6237\n",
      "Epoch 20: val_loss did not improve from 14.62916\n",
      "32/32 [==============================] - 91s 3s/step - loss: 7.6237 - val_loss: 31.5006\n",
      "Epoch 21/100\n",
      "32/32 [==============================] - ETA: 0s - loss: 7.1231\n",
      "Epoch 21: val_loss did not improve from 14.62916\n",
      "32/32 [==============================] - 91s 3s/step - loss: 7.1231 - val_loss: 18.5166\n",
      "Epoch 22/100\n",
      "32/32 [==============================] - ETA: 0s - loss: 6.5272\n",
      "Epoch 22: val_loss did not improve from 14.62916\n",
      "32/32 [==============================] - 90s 3s/step - loss: 6.5272 - val_loss: 24.8724\n",
      "Epoch 23/100\n",
      "32/32 [==============================] - ETA: 0s - loss: 5.9347\n",
      "Epoch 23: val_loss improved from 14.62916 to 11.21124, saving model to /content/drive/My Drive/Dataset/Mid_Project_2/handwritten_text_best_model.h5\n",
      "32/32 [==============================] - 91s 3s/step - loss: 5.9347 - val_loss: 11.2112\n",
      "Epoch 24/100\n",
      "32/32 [==============================] - ETA: 0s - loss: 5.3014\n",
      "Epoch 24: val_loss did not improve from 11.21124\n",
      "32/32 [==============================] - 90s 3s/step - loss: 5.3014 - val_loss: 15.7988\n",
      "Epoch 25/100\n",
      "32/32 [==============================] - ETA: 0s - loss: 4.7871\n",
      "Epoch 25: val_loss did not improve from 11.21124\n",
      "32/32 [==============================] - 88s 3s/step - loss: 4.7871 - val_loss: 14.5836\n",
      "Epoch 26/100\n",
      "32/32 [==============================] - ETA: 0s - loss: 4.2307\n",
      "Epoch 26: val_loss did not improve from 11.21124\n",
      "32/32 [==============================] - 89s 3s/step - loss: 4.2307 - val_loss: 13.7517\n",
      "Epoch 27/100\n",
      "32/32 [==============================] - ETA: 0s - loss: 3.8207\n",
      "Epoch 27: val_loss improved from 11.21124 to 9.49979, saving model to /content/drive/My Drive/Dataset/Mid_Project_2/handwritten_text_best_model.h5\n",
      "32/32 [==============================] - 93s 3s/step - loss: 3.8207 - val_loss: 9.4998\n",
      "Epoch 28/100\n",
      "32/32 [==============================] - ETA: 0s - loss: 3.3179\n",
      "Epoch 28: val_loss improved from 9.49979 to 6.79351, saving model to /content/drive/My Drive/Dataset/Mid_Project_2/handwritten_text_best_model.h5\n",
      "32/32 [==============================] - 93s 3s/step - loss: 3.3179 - val_loss: 6.7935\n",
      "Epoch 29/100\n",
      "32/32 [==============================] - ETA: 0s - loss: 2.8557\n",
      "Epoch 29: val_loss improved from 6.79351 to 6.14369, saving model to /content/drive/My Drive/Dataset/Mid_Project_2/handwritten_text_best_model.h5\n",
      "32/32 [==============================] - 92s 3s/step - loss: 2.8557 - val_loss: 6.1437\n",
      "Epoch 30/100\n",
      "32/32 [==============================] - ETA: 0s - loss: 2.4787\n",
      "Epoch 30: val_loss improved from 6.14369 to 6.06108, saving model to /content/drive/My Drive/Dataset/Mid_Project_2/handwritten_text_best_model.h5\n",
      "32/32 [==============================] - 91s 3s/step - loss: 2.4787 - val_loss: 6.0611\n",
      "Epoch 31/100\n",
      "32/32 [==============================] - ETA: 0s - loss: 2.1472\n",
      "Epoch 31: val_loss improved from 6.06108 to 5.00252, saving model to /content/drive/My Drive/Dataset/Mid_Project_2/handwritten_text_best_model.h5\n",
      "32/32 [==============================] - 92s 3s/step - loss: 2.1472 - val_loss: 5.0025\n",
      "Epoch 32/100\n",
      "32/32 [==============================] - ETA: 0s - loss: 1.8335\n",
      "Epoch 32: val_loss did not improve from 5.00252\n",
      "32/32 [==============================] - 90s 3s/step - loss: 1.8335 - val_loss: 6.4174\n",
      "Epoch 33/100\n",
      "32/32 [==============================] - ETA: 0s - loss: 1.5874\n",
      "Epoch 33: val_loss improved from 5.00252 to 4.58246, saving model to /content/drive/My Drive/Dataset/Mid_Project_2/handwritten_text_best_model.h5\n",
      "32/32 [==============================] - 89s 3s/step - loss: 1.5874 - val_loss: 4.5825\n",
      "Epoch 34/100\n",
      "32/32 [==============================] - ETA: 0s - loss: 1.2653\n",
      "Epoch 34: val_loss did not improve from 4.58246\n",
      "32/32 [==============================] - 87s 3s/step - loss: 1.2653 - val_loss: 5.6260\n",
      "Epoch 35/100\n",
      "32/32 [==============================] - ETA: 0s - loss: 1.0308\n",
      "Epoch 35: val_loss did not improve from 4.58246\n",
      "32/32 [==============================] - 87s 3s/step - loss: 1.0308 - val_loss: 5.8506\n",
      "Epoch 36/100\n",
      "32/32 [==============================] - ETA: 0s - loss: 0.8388\n",
      "Epoch 36: val_loss did not improve from 4.58246\n",
      "32/32 [==============================] - 88s 3s/step - loss: 0.8388 - val_loss: 5.5492\n",
      "Epoch 37/100\n",
      "32/32 [==============================] - ETA: 0s - loss: 0.7299\n",
      "Epoch 37: val_loss improved from 4.58246 to 4.52981, saving model to /content/drive/My Drive/Dataset/Mid_Project_2/handwritten_text_best_model.h5\n",
      "32/32 [==============================] - 89s 3s/step - loss: 0.7299 - val_loss: 4.5298\n",
      "Epoch 38/100\n",
      "32/32 [==============================] - ETA: 0s - loss: 0.5519\n",
      "Epoch 38: val_loss did not improve from 4.52981\n",
      "32/32 [==============================] - 87s 3s/step - loss: 0.5519 - val_loss: 4.9051\n",
      "Epoch 39/100\n",
      "32/32 [==============================] - ETA: 0s - loss: 0.4075\n",
      "Epoch 39: val_loss improved from 4.52981 to 4.13693, saving model to /content/drive/My Drive/Dataset/Mid_Project_2/handwritten_text_best_model.h5\n",
      "32/32 [==============================] - 88s 3s/step - loss: 0.4075 - val_loss: 4.1369\n",
      "Epoch 40/100\n",
      "32/32 [==============================] - ETA: 0s - loss: 0.3142\n",
      "Epoch 40: val_loss improved from 4.13693 to 4.06844, saving model to /content/drive/My Drive/Dataset/Mid_Project_2/handwritten_text_best_model.h5\n",
      "32/32 [==============================] - 88s 3s/step - loss: 0.3142 - val_loss: 4.0684\n",
      "Epoch 41/100\n",
      "32/32 [==============================] - ETA: 0s - loss: 0.2592\n",
      "Epoch 41: val_loss did not improve from 4.06844\n",
      "32/32 [==============================] - 87s 3s/step - loss: 0.2592 - val_loss: 4.0923\n",
      "Epoch 42/100\n",
      "32/32 [==============================] - ETA: 0s - loss: 0.2043\n",
      "Epoch 42: val_loss did not improve from 4.06844\n",
      "32/32 [==============================] - 87s 3s/step - loss: 0.2043 - val_loss: 4.5661\n",
      "Epoch 43/100\n",
      "32/32 [==============================] - ETA: 0s - loss: 0.1529\n",
      "Epoch 43: val_loss did not improve from 4.06844\n",
      "32/32 [==============================] - 87s 3s/step - loss: 0.1529 - val_loss: 4.3764\n",
      "Epoch 44/100\n",
      "32/32 [==============================] - ETA: 0s - loss: 0.1121\n",
      "Epoch 44: val_loss did not improve from 4.06844\n",
      "32/32 [==============================] - 87s 3s/step - loss: 0.1121 - val_loss: 4.1961\n",
      "Epoch 45/100\n",
      "32/32 [==============================] - ETA: 0s - loss: 0.0923\n",
      "Epoch 45: val_loss did not improve from 4.06844\n",
      "32/32 [==============================] - 87s 3s/step - loss: 0.0923 - val_loss: 4.2599\n",
      "Epoch 46/100\n",
      "32/32 [==============================] - ETA: 0s - loss: 0.0771\n",
      "Epoch 46: val_loss did not improve from 4.06844\n",
      "32/32 [==============================] - 87s 3s/step - loss: 0.0771 - val_loss: 4.2897\n",
      "Epoch 47/100\n",
      "32/32 [==============================] - ETA: 0s - loss: 0.0660\n",
      "Epoch 47: val_loss did not improve from 4.06844\n",
      "32/32 [==============================] - 87s 3s/step - loss: 0.0660 - val_loss: 4.2454\n",
      "Epoch 48/100\n",
      "32/32 [==============================] - ETA: 0s - loss: 0.0602\n",
      "Epoch 48: val_loss did not improve from 4.06844\n",
      "32/32 [==============================] - 87s 3s/step - loss: 0.0602 - val_loss: 4.3526\n",
      "Epoch 49/100\n",
      "32/32 [==============================] - ETA: 0s - loss: 0.0528\n",
      "Epoch 49: val_loss did not improve from 4.06844\n",
      "32/32 [==============================] - 86s 3s/step - loss: 0.0528 - val_loss: 4.3251\n",
      "Epoch 50/100\n",
      "32/32 [==============================] - ETA: 0s - loss: 0.0468\n",
      "Epoch 50: val_loss did not improve from 4.06844\n",
      "32/32 [==============================] - 87s 3s/step - loss: 0.0468 - val_loss: 4.3553\n",
      "Epoch 51/100\n",
      "32/32 [==============================] - ETA: 0s - loss: 0.0453\n",
      "Epoch 51: val_loss did not improve from 4.06844\n",
      "32/32 [==============================] - 86s 3s/step - loss: 0.0453 - val_loss: 4.2785\n",
      "Epoch 52/100\n",
      "32/32 [==============================] - ETA: 0s - loss: 0.0579\n",
      "Epoch 52: val_loss did not improve from 4.06844\n",
      "32/32 [==============================] - 87s 3s/step - loss: 0.0579 - val_loss: 4.4584\n",
      "Epoch 53/100\n",
      "32/32 [==============================] - ETA: 0s - loss: 0.0502\n",
      "Epoch 53: val_loss did not improve from 4.06844\n",
      "32/32 [==============================] - 90s 3s/step - loss: 0.0502 - val_loss: 4.3213\n",
      "Epoch 54/100\n",
      "32/32 [==============================] - ETA: 0s - loss: 0.0402\n",
      "Epoch 54: val_loss did not improve from 4.06844\n",
      "32/32 [==============================] - 92s 3s/step - loss: 0.0402 - val_loss: 4.5067\n",
      "Epoch 55/100\n",
      "32/32 [==============================] - ETA: 0s - loss: 0.0417\n",
      "Epoch 55: val_loss did not improve from 4.06844\n",
      "32/32 [==============================] - 90s 3s/step - loss: 0.0417 - val_loss: 4.4434\n",
      "Epoch 56/100\n",
      "32/32 [==============================] - ETA: 0s - loss: 0.0321\n",
      "Epoch 56: val_loss did not improve from 4.06844\n",
      "32/32 [==============================] - 89s 3s/step - loss: 0.0321 - val_loss: 4.4944\n",
      "Epoch 57/100\n",
      "32/32 [==============================] - ETA: 0s - loss: 0.0277\n",
      "Epoch 57: val_loss did not improve from 4.06844\n",
      "32/32 [==============================] - 90s 3s/step - loss: 0.0277 - val_loss: 4.5181\n",
      "Epoch 58/100\n",
      "32/32 [==============================] - ETA: 0s - loss: 0.0362\n",
      "Epoch 58: val_loss did not improve from 4.06844\n",
      "32/32 [==============================] - 90s 3s/step - loss: 0.0362 - val_loss: 4.7169\n",
      "Epoch 59/100\n",
      "32/32 [==============================] - ETA: 0s - loss: 0.0327\n",
      "Epoch 59: val_loss did not improve from 4.06844\n",
      "32/32 [==============================] - 89s 3s/step - loss: 0.0327 - val_loss: 4.8101\n",
      "Epoch 60/100\n",
      "32/32 [==============================] - ETA: 0s - loss: 0.0283\n",
      "Epoch 60: val_loss did not improve from 4.06844\n",
      "32/32 [==============================] - 89s 3s/step - loss: 0.0283 - val_loss: 4.5327\n",
      "Epoch 61/100\n",
      "32/32 [==============================] - ETA: 0s - loss: 0.0254\n",
      "Epoch 61: val_loss did not improve from 4.06844\n",
      "32/32 [==============================] - 90s 3s/step - loss: 0.0254 - val_loss: 4.6797\n",
      "Epoch 62/100\n",
      "32/32 [==============================] - ETA: 0s - loss: 0.0213\n",
      "Epoch 62: val_loss did not improve from 4.06844\n",
      "32/32 [==============================] - 89s 3s/step - loss: 0.0213 - val_loss: 4.5981\n",
      "Epoch 63/100\n",
      "32/32 [==============================] - ETA: 0s - loss: 0.0187\n",
      "Epoch 63: val_loss did not improve from 4.06844\n",
      "32/32 [==============================] - 88s 3s/step - loss: 0.0187 - val_loss: 4.6029\n",
      "Epoch 64/100\n",
      "32/32 [==============================] - ETA: 0s - loss: 0.0174\n",
      "Epoch 64: val_loss did not improve from 4.06844\n",
      "32/32 [==============================] - 87s 3s/step - loss: 0.0174 - val_loss: 4.6154\n",
      "Epoch 65/100\n",
      "32/32 [==============================] - ETA: 0s - loss: 0.0164\n",
      "Epoch 65: val_loss did not improve from 4.06844\n",
      "32/32 [==============================] - 87s 3s/step - loss: 0.0164 - val_loss: 4.6376\n",
      "Epoch 66/100\n",
      "32/32 [==============================] - ETA: 0s - loss: 0.0155\n",
      "Epoch 66: val_loss did not improve from 4.06844\n",
      "32/32 [==============================] - 88s 3s/step - loss: 0.0155 - val_loss: 4.6353\n",
      "Epoch 67/100\n",
      "32/32 [==============================] - ETA: 0s - loss: 0.0151\n",
      "Epoch 67: val_loss did not improve from 4.06844\n",
      "32/32 [==============================] - 88s 3s/step - loss: 0.0151 - val_loss: 4.6406\n",
      "Epoch 68/100\n",
      "32/32 [==============================] - ETA: 0s - loss: 0.0151\n",
      "Epoch 68: val_loss did not improve from 4.06844\n",
      "32/32 [==============================] - 87s 3s/step - loss: 0.0151 - val_loss: 4.6995\n",
      "Epoch 69/100\n",
      "32/32 [==============================] - ETA: 0s - loss: 0.0145\n",
      "Epoch 69: val_loss did not improve from 4.06844\n",
      "32/32 [==============================] - 87s 3s/step - loss: 0.0145 - val_loss: 4.7034\n",
      "Epoch 70/100\n",
      "32/32 [==============================] - ETA: 0s - loss: 0.0133\n",
      "Epoch 70: val_loss did not improve from 4.06844\n",
      "32/32 [==============================] - 87s 3s/step - loss: 0.0133 - val_loss: 4.7783\n",
      "Epoch 71/100\n",
      "32/32 [==============================] - ETA: 0s - loss: 0.0124\n",
      "Epoch 71: val_loss did not improve from 4.06844\n",
      "32/32 [==============================] - 87s 3s/step - loss: 0.0124 - val_loss: 4.7864\n",
      "Epoch 72/100\n",
      "32/32 [==============================] - ETA: 0s - loss: 0.0118\n",
      "Epoch 72: val_loss did not improve from 4.06844\n",
      "32/32 [==============================] - 87s 3s/step - loss: 0.0118 - val_loss: 4.7985\n",
      "Epoch 73/100\n",
      "32/32 [==============================] - ETA: 0s - loss: 0.0113\n",
      "Epoch 73: val_loss did not improve from 4.06844\n",
      "32/32 [==============================] - 88s 3s/step - loss: 0.0113 - val_loss: 4.7825\n",
      "Epoch 74/100\n",
      "32/32 [==============================] - ETA: 0s - loss: 0.0108\n",
      "Epoch 74: val_loss did not improve from 4.06844\n",
      "32/32 [==============================] - 87s 3s/step - loss: 0.0108 - val_loss: 4.8055\n",
      "Epoch 75/100\n",
      "32/32 [==============================] - ETA: 0s - loss: 0.0102\n",
      "Epoch 75: val_loss did not improve from 4.06844\n",
      "32/32 [==============================] - 87s 3s/step - loss: 0.0102 - val_loss: 4.7994\n",
      "Epoch 76/100\n",
      "32/32 [==============================] - ETA: 0s - loss: 0.0099\n",
      "Epoch 76: val_loss did not improve from 4.06844\n",
      "32/32 [==============================] - 88s 3s/step - loss: 0.0099 - val_loss: 4.8406\n",
      "Epoch 77/100\n",
      "32/32 [==============================] - ETA: 0s - loss: 0.0096\n",
      "Epoch 77: val_loss did not improve from 4.06844\n",
      "32/32 [==============================] - 87s 3s/step - loss: 0.0096 - val_loss: 4.8366\n",
      "Epoch 78/100\n",
      "32/32 [==============================] - ETA: 0s - loss: 0.0093\n",
      "Epoch 78: val_loss did not improve from 4.06844\n",
      "32/32 [==============================] - 87s 3s/step - loss: 0.0093 - val_loss: 4.9443\n",
      "Epoch 79/100\n",
      "32/32 [==============================] - ETA: 0s - loss: 0.0092\n",
      "Epoch 79: val_loss did not improve from 4.06844\n",
      "32/32 [==============================] - 88s 3s/step - loss: 0.0092 - val_loss: 4.8744\n",
      "Epoch 80/100\n",
      "32/32 [==============================] - ETA: 0s - loss: 0.0092\n",
      "Epoch 80: val_loss did not improve from 4.06844\n",
      "32/32 [==============================] - 87s 3s/step - loss: 0.0092 - val_loss: 4.8593\n",
      "Epoch 81/100\n",
      "32/32 [==============================] - ETA: 0s - loss: 0.0089\n",
      "Epoch 81: val_loss did not improve from 4.06844\n",
      "32/32 [==============================] - 86s 3s/step - loss: 0.0089 - val_loss: 4.9042\n",
      "Epoch 82/100\n",
      "32/32 [==============================] - ETA: 0s - loss: 0.0094\n",
      "Epoch 82: val_loss did not improve from 4.06844\n",
      "32/32 [==============================] - 87s 3s/step - loss: 0.0094 - val_loss: 4.9691\n",
      "Epoch 83/100\n",
      "32/32 [==============================] - ETA: 0s - loss: 0.1265\n",
      "Epoch 83: val_loss did not improve from 4.06844\n",
      "32/32 [==============================] - 88s 3s/step - loss: 0.1265 - val_loss: 10.8856\n",
      "Epoch 84/100\n",
      "32/32 [==============================] - ETA: 0s - loss: 4.6765\n",
      "Epoch 84: val_loss did not improve from 4.06844\n",
      "32/32 [==============================] - 87s 3s/step - loss: 4.6765 - val_loss: 6.2771\n",
      "Epoch 85/100\n",
      "32/32 [==============================] - ETA: 0s - loss: 2.9039\n",
      "Epoch 85: val_loss did not improve from 4.06844\n",
      "32/32 [==============================] - 87s 3s/step - loss: 2.9039 - val_loss: 5.8799\n",
      "Epoch 86/100\n",
      "32/32 [==============================] - ETA: 0s - loss: 1.9138\n",
      "Epoch 86: val_loss did not improve from 4.06844\n",
      "32/32 [==============================] - 88s 3s/step - loss: 1.9138 - val_loss: 4.7457\n",
      "Epoch 87/100\n",
      "32/32 [==============================] - ETA: 0s - loss: 1.2332\n",
      "Epoch 87: val_loss did not improve from 4.06844\n",
      "32/32 [==============================] - 87s 3s/step - loss: 1.2332 - val_loss: 4.3995\n",
      "Epoch 88/100\n",
      "32/32 [==============================] - ETA: 0s - loss: 0.9182\n",
      "Epoch 88: val_loss did not improve from 4.06844\n",
      "32/32 [==============================] - 87s 3s/step - loss: 0.9182 - val_loss: 4.3416\n",
      "Epoch 89/100\n",
      "32/32 [==============================] - ETA: 0s - loss: 0.5726\n",
      "Epoch 89: val_loss did not improve from 4.06844\n",
      "32/32 [==============================] - 87s 3s/step - loss: 0.5726 - val_loss: 4.1081\n",
      "Epoch 90/100\n",
      "32/32 [==============================] - ETA: 0s - loss: 0.3718\n",
      "Epoch 90: val_loss did not improve from 4.06844\n",
      "32/32 [==============================] - 86s 3s/step - loss: 0.3718 - val_loss: 4.1132\n",
      "Epoch 91/100\n",
      "32/32 [==============================] - ETA: 0s - loss: 0.2524\n",
      "Epoch 91: val_loss did not improve from 4.06844\n",
      "32/32 [==============================] - 87s 3s/step - loss: 0.2524 - val_loss: 4.0797\n",
      "Epoch 92/100\n",
      "32/32 [==============================] - ETA: 0s - loss: 0.1661\n",
      "Epoch 92: val_loss improved from 4.06844 to 4.06134, saving model to /content/drive/My Drive/Dataset/Mid_Project_2/handwritten_text_best_model.h5\n",
      "32/32 [==============================] - 89s 3s/step - loss: 0.1661 - val_loss: 4.0613\n",
      "Epoch 93/100\n",
      "32/32 [==============================] - ETA: 0s - loss: 0.1095\n",
      "Epoch 93: val_loss did not improve from 4.06134\n",
      "32/32 [==============================] - 86s 3s/step - loss: 0.1095 - val_loss: 4.1155\n",
      "Epoch 94/100\n",
      "32/32 [==============================] - ETA: 0s - loss: 0.0661\n",
      "Epoch 94: val_loss did not improve from 4.06134\n",
      "32/32 [==============================] - 86s 3s/step - loss: 0.0661 - val_loss: 4.1037\n",
      "Epoch 95/100\n",
      "32/32 [==============================] - ETA: 0s - loss: 0.0496\n",
      "Epoch 95: val_loss did not improve from 4.06134\n",
      "32/32 [==============================] - 86s 3s/step - loss: 0.0496 - val_loss: 4.1139\n",
      "Epoch 96/100\n",
      "32/32 [==============================] - ETA: 0s - loss: 0.0349\n",
      "Epoch 96: val_loss did not improve from 4.06134\n",
      "32/32 [==============================] - 87s 3s/step - loss: 0.0349 - val_loss: 4.1181\n",
      "Epoch 97/100\n",
      "32/32 [==============================] - ETA: 0s - loss: 0.0271\n",
      "Epoch 97: val_loss did not improve from 4.06134\n",
      "32/32 [==============================] - 87s 3s/step - loss: 0.0271 - val_loss: 4.1957\n",
      "Epoch 98/100\n",
      "32/32 [==============================] - ETA: 0s - loss: 0.0227\n",
      "Epoch 98: val_loss did not improve from 4.06134\n",
      "32/32 [==============================] - 87s 3s/step - loss: 0.0227 - val_loss: 4.1229\n",
      "Epoch 99/100\n",
      "32/32 [==============================] - ETA: 0s - loss: 0.0199\n",
      "Epoch 99: val_loss did not improve from 4.06134\n",
      "32/32 [==============================] - 87s 3s/step - loss: 0.0199 - val_loss: 4.3084\n",
      "Epoch 100/100\n",
      "32/32 [==============================] - ETA: 0s - loss: 0.0175\n",
      "Epoch 100: val_loss did not improve from 4.06134\n",
      "32/32 [==============================] - 86s 3s/step - loss: 0.0175 - val_loss: 4.2612\n"
     ]
    },
    {
     "data": {
      "text/plain": [
       "<keras.callbacks.History at 0x7f57925d3190>"
      ]
     },
     "execution_count": 43,
     "metadata": {},
     "output_type": "execute_result"
    }
   ],
   "source": [
    "# training the model\n",
    "model.fit(\n",
    "    x=[x_train, train_pad_label, train_input_length, train_label_length], \n",
    "    y=np.zeros(len(x_train)), \n",
    "    batch_size=256, \n",
    "    epochs = 100, \n",
    "    validation_data = ([x_test, test_pad_label, test_input_length, test_label_length], \n",
    "                       [np.zeros(len(x_test))]), \n",
    "    verbose = 1, \n",
    "    callbacks = callbacks_list)"
   ]
  },
  {
   "cell_type": "markdown",
   "metadata": {
    "id": "f671-GINxksK"
   },
   "source": [
    "### Saving the best model"
   ]
  },
  {
   "cell_type": "code",
   "execution_count": 44,
   "metadata": {
    "id": "Px2E0iVCxYuq"
   },
   "outputs": [],
   "source": [
    "model.save(r'/content/drive/My Drive/Dataset/Mid_Project_2/handwritten_text_best_model.h5')"
   ]
  },
  {
   "cell_type": "markdown",
   "metadata": {
    "id": "dDQ0WAo3xoWc"
   },
   "source": [
    "### Loading the best model"
   ]
  },
  {
   "cell_type": "code",
   "execution_count": 45,
   "metadata": {
    "id": "VdDPSGmhxfzx"
   },
   "outputs": [],
   "source": [
    "actual_model.load_weights(r'/content/drive/My Drive/Dataset/Mid_Project_2/handwritten_text_best_model.h5')"
   ]
  },
  {
   "cell_type": "markdown",
   "metadata": {
    "id": "UZgodvknxw_O"
   },
   "source": [
    "## Predicting with model"
   ]
  },
  {
   "cell_type": "code",
   "execution_count": 46,
   "metadata": {
    "colab": {
     "base_uri": "https://localhost:8080/",
     "height": 1000
    },
    "id": "Cj5CPqRVxvS8",
    "outputId": "0a5ebddd-58bc-494d-e4b5-db7f3f8dbcf8"
   },
   "outputs": [
    {
     "data": {
      "image/png": "[encoded data removed]",
      "text/plain": [
       "<PIL.Image.Image image mode=L size=128x32 at 0x7F5780366510>"
      ]
     },
     "metadata": {},
     "output_type": "display_data"
    },
    {
     "name": "stdout",
     "output_type": "stream",
     "text": [
      "nae\n",
      "\n",
      "\n"
     ]
    },
    {
     "data": {
      "image/png": "[encoded data removed]",
      "text/plain": [
       "<PIL.Image.Image image mode=L size=128x32 at 0x7F577AAF8810>"
      ]
     },
     "metadata": {},
     "output_type": "display_data"
    },
    {
     "name": "stdout",
     "output_type": "stream",
     "text": [
      "on\n",
      "\n",
      "\n"
     ]
    },
    {
     "data": {
      "image/png": "[encoded data removed]",
      "text/plain": [
       "<PIL.Image.Image image mode=L size=128x32 at 0x7F577AA85F50>"
      ]
     },
     "metadata": {},
     "output_type": "display_data"
    },
    {
     "name": "stdout",
     "output_type": "stream",
     "text": [
      "not\n",
      "\n",
      "\n"
     ]
    },
    {
     "data": {
      "image/png": "[encoded data removed]",
      "text/plain": [
       "<PIL.Image.Image image mode=L size=128x32 at 0x7F577AA7C450>"
      ]
     },
     "metadata": {},
     "output_type": "display_data"
    },
    {
     "name": "stdout",
     "output_type": "stream",
     "text": [
      "service\n",
      "\n",
      "\n"
     ]
    },
    {
     "data": {
      "image/png": "[encoded data removed]",
      "text/plain": [
       "<PIL.Image.Image image mode=L size=128x32 at 0x7F57924D5750>"
      ]
     },
     "metadata": {},
     "output_type": "display_data"
    },
    {
     "name": "stdout",
     "output_type": "stream",
     "text": [
      "on\n",
      "\n",
      "\n"
     ]
    },
    {
     "data": {
      "image/png": "[encoded data removed]",
      "text/plain": [
       "<PIL.Image.Image image mode=L size=128x32 at 0x7F57925058D0>"
      ]
     },
     "metadata": {},
     "output_type": "display_data"
    },
    {
     "name": "stdout",
     "output_type": "stream",
     "text": [
      "stumoing\n",
      "\n",
      "\n"
     ]
    },
    {
     "data": {
      "image/png": "[encoded data removed]",
      "text/plain": [
       "<PIL.Image.Image image mode=L size=128x32 at 0x7F577AA85E10>"
      ]
     },
     "metadata": {},
     "output_type": "display_data"
    },
    {
     "name": "stdout",
     "output_type": "stream",
     "text": [
      "to\n",
      "\n",
      "\n"
     ]
    },
    {
     "data": {
      "image/png": "[encoded data removed]",
      "text/plain": [
       "<PIL.Image.Image image mode=L size=128x32 at 0x7F57924D5110>"
      ]
     },
     "metadata": {},
     "output_type": "display_data"
    },
    {
     "name": "stdout",
     "output_type": "stream",
     "text": [
      "Macleod\n",
      "\n",
      "\n"
     ]
    },
    {
     "data": {
      "image/png": "[encoded data removed]",
      "text/plain": [
       "<PIL.Image.Image image mode=L size=128x32 at 0x7F57924EBC50>"
      ]
     },
     "metadata": {},
     "output_type": "display_data"
    },
    {
     "name": "stdout",
     "output_type": "stream",
     "text": [
      "soletion\n",
      "\n",
      "\n"
     ]
    },
    {
     "data": {
      "image/png": "[encoded data removed]",
      "text/plain": [
       "<PIL.Image.Image image mode=L size=128x32 at 0x7F5792505B90>"
      ]
     },
     "metadata": {},
     "output_type": "display_data"
    },
    {
     "name": "stdout",
     "output_type": "stream",
     "text": [
      "for\n",
      "\n",
      "\n"
     ]
    },
    {
     "data": {
      "image/png": "[encoded data removed]",
      "text/plain": [
       "<PIL.Image.Image image mode=L size=128x32 at 0x7F57924ECC90>"
      ]
     },
     "metadata": {},
     "output_type": "display_data"
    },
    {
     "name": "stdout",
     "output_type": "stream",
     "text": [
      "wbo\n",
      "\n",
      "\n"
     ]
    },
    {
     "data": {
      "image/png": "[encoded data removed]",
      "text/plain": [
       "<PIL.Image.Image image mode=L size=128x32 at 0x7F57924EB390>"
      ]
     },
     "metadata": {},
     "output_type": "display_data"
    },
    {
     "name": "stdout",
     "output_type": "stream",
     "text": [
      "of\n",
      "\n",
      "\n"
     ]
    },
    {
     "data": {
      "image/png": "[encoded data removed]",
      "text/plain": [
       "<PIL.Image.Image image mode=L size=128x32 at 0x7F5792505B90>"
      ]
     },
     "metadata": {},
     "output_type": "display_data"
    },
    {
     "name": "stdout",
     "output_type": "stream",
     "text": [
      "be\n",
      "\n",
      "\n"
     ]
    },
    {
     "data": {
      "image/png": "[encoded data removed]",
      "text/plain": [
       "<PIL.Image.Image image mode=L size=128x32 at 0x7F57924EC510>"
      ]
     },
     "metadata": {},
     "output_type": "display_data"
    },
    {
     "name": "stdout",
     "output_type": "stream",
     "text": [
      "Goremment\n",
      "\n",
      "\n"
     ]
    },
    {
     "data": {
      "image/png": "[encoded data removed]",
      "text/plain": [
       "<PIL.Image.Image image mode=L size=128x32 at 0x7F57924EC290>"
      ]
     },
     "metadata": {},
     "output_type": "display_data"
    },
    {
     "name": "stdout",
     "output_type": "stream",
     "text": [
      "naed\n",
      "\n",
      "\n"
     ]
    },
    {
     "data": {
      "image/png": "[encoded data removed]",
      "text/plain": [
       "<PIL.Image.Image image mode=L size=128x32 at 0x7F577AAE2610>"
      ]
     },
     "metadata": {},
     "output_type": "display_data"
    },
    {
     "name": "stdout",
     "output_type": "stream",
     "text": [
      "wew\n",
      "\n",
      "\n"
     ]
    },
    {
     "data": {
      "image/png": "[encoded data removed]",
      "text/plain": [
       "<PIL.Image.Image image mode=L size=128x32 at 0x7F57924D5750>"
      ]
     },
     "metadata": {},
     "output_type": "display_data"
    },
    {
     "name": "stdout",
     "output_type": "stream",
     "text": [
      "preponet\n",
      "\n",
      "\n"
     ]
    },
    {
     "data": {
      "image/png": "[encoded data removed]",
      "text/plain": [
       "<PIL.Image.Image image mode=L size=128x32 at 0x7F577AA7C8D0>"
      ]
     },
     "metadata": {},
     "output_type": "display_data"
    },
    {
     "name": "stdout",
     "output_type": "stream",
     "text": [
      "of\n",
      "\n",
      "\n"
     ]
    },
    {
     "data": {
      "image/png": "[encoded data removed]",
      "text/plain": [
       "<PIL.Image.Image image mode=L size=128x32 at 0x7F577AA7C0D0>"
      ]
     },
     "metadata": {},
     "output_type": "display_data"
    },
    {
     "name": "stdout",
     "output_type": "stream",
     "text": [
      "190\n",
      "\n",
      "\n"
     ]
    },
    {
     "data": {
      "image/png": "[encoded data removed]",
      "text/plain": [
       "<PIL.Image.Image image mode=L size=128x32 at 0x7F577AA7C450>"
      ]
     },
     "metadata": {},
     "output_type": "display_data"
    },
    {
     "name": "stdout",
     "output_type": "stream",
     "text": [
      "the\n",
      "\n",
      "\n"
     ]
    },
    {
     "data": {
      "image/png": "[encoded data removed]",
      "text/plain": [
       "<PIL.Image.Image image mode=L size=128x32 at 0x7F57924EB5D0>"
      ]
     },
     "metadata": {},
     "output_type": "display_data"
    },
    {
     "name": "stdout",
     "output_type": "stream",
     "text": [
      ".\n",
      "\n",
      "\n"
     ]
    },
    {
     "data": {
      "image/png": "[encoded data removed]",
      "text/plain": [
       "<PIL.Image.Image image mode=L size=128x32 at 0x7F57924EB5D0>"
      ]
     },
     "metadata": {},
     "output_type": "display_data"
    },
    {
     "name": "stdout",
     "output_type": "stream",
     "text": [
      "The\n",
      "\n",
      "\n"
     ]
    },
    {
     "data": {
      "image/png": "[encoded data removed]",
      "text/plain": [
       "<PIL.Image.Image image mode=L size=128x32 at 0x7F57802BB6D0>"
      ]
     },
     "metadata": {},
     "output_type": "display_data"
    },
    {
     "name": "stdout",
     "output_type": "stream",
     "text": [
      "Browuwn\n",
      "\n",
      "\n"
     ]
    },
    {
     "data": {
      "image/png": "[encoded data removed]",
      "text/plain": [
       "<PIL.Image.Image image mode=L size=128x32 at 0x7F57802BB5D0>"
      ]
     },
     "metadata": {},
     "output_type": "display_data"
    },
    {
     "name": "stdout",
     "output_type": "stream",
     "text": [
      "the\n",
      "\n",
      "\n"
     ]
    },
    {
     "data": {
      "image/png": "[encoded data removed]",
      "text/plain": [
       "<PIL.Image.Image image mode=L size=128x32 at 0x7F57802BBF50>"
      ]
     },
     "metadata": {},
     "output_type": "display_data"
    },
    {
     "name": "stdout",
     "output_type": "stream",
     "text": [
      "Lamctiong\n",
      "\n",
      "\n"
     ]
    },
    {
     "data": {
      "image/png": "[encoded data removed]",
      "text/plain": [
       "<PIL.Image.Image image mode=L size=128x32 at 0x7F57802BBB50>"
      ]
     },
     "metadata": {},
     "output_type": "display_data"
    },
    {
     "name": "stdout",
     "output_type": "stream",
     "text": [
      "to\n",
      "\n",
      "\n"
     ]
    },
    {
     "data": {
      "image/png": "[encoded data removed]",
      "text/plain": [
       "<PIL.Image.Image image mode=L size=128x32 at 0x7F57802BB8D0>"
      ]
     },
     "metadata": {},
     "output_type": "display_data"
    },
    {
     "name": "stdout",
     "output_type": "stream",
     "text": [
      "the\n",
      "\n",
      "\n"
     ]
    },
    {
     "data": {
      "image/png": "[encoded data removed]",
      "text/plain": [
       "<PIL.Image.Image image mode=L size=128x32 at 0x7F57802BBF50>"
      ]
     },
     "metadata": {},
     "output_type": "display_data"
    },
    {
     "name": "stdout",
     "output_type": "stream",
     "text": [
      "of\n",
      "\n",
      "\n"
     ]
    },
    {
     "data": {
      "image/png": "[encoded data removed]",
      "text/plain": [
       "<PIL.Image.Image image mode=L size=128x32 at 0x7F57802BB810>"
      ]
     },
     "metadata": {},
     "output_type": "display_data"
    },
    {
     "name": "stdout",
     "output_type": "stream",
     "text": [
      "be\n",
      "\n",
      "\n"
     ]
    },
    {
     "data": {
      "image/png": "[encoded data removed]",
      "text/plain": [
       "<PIL.Image.Image image mode=L size=128x32 at 0x7F57802BB350>"
      ]
     },
     "metadata": {},
     "output_type": "display_data"
    },
    {
     "name": "stdout",
     "output_type": "stream",
     "text": [
      ",\n",
      "\n",
      "\n"
     ]
    },
    {
     "data": {
      "image/png": "[encoded data removed]",
      "text/plain": [
       "<PIL.Image.Image image mode=L size=128x32 at 0x7F57802BBED0>"
      ]
     },
     "metadata": {},
     "output_type": "display_data"
    },
    {
     "name": "stdout",
     "output_type": "stream",
     "text": [
      "that\n",
      "\n",
      "\n"
     ]
    },
    {
     "data": {
      "image/png": "[encoded data removed]",
      "text/plain": [
       "<PIL.Image.Image image mode=L size=128x32 at 0x7F57802BB490>"
      ]
     },
     "metadata": {},
     "output_type": "display_data"
    },
    {
     "name": "stdout",
     "output_type": "stream",
     "text": [
      "a\n",
      "\n",
      "\n"
     ]
    },
    {
     "data": {
      "image/png": "[encoded data removed]",
      "text/plain": [
       "<PIL.Image.Image image mode=L size=128x32 at 0x7F57802BBF90>"
      ]
     },
     "metadata": {},
     "output_type": "display_data"
    },
    {
     "name": "stdout",
     "output_type": "stream",
     "text": [
      "the\n",
      "\n",
      "\n"
     ]
    },
    {
     "data": {
      "image/png": "[encoded data removed]",
      "text/plain": [
       "<PIL.Image.Image image mode=L size=128x32 at 0x7F57802BB7D0>"
      ]
     },
     "metadata": {},
     "output_type": "display_data"
    },
    {
     "name": "stdout",
     "output_type": "stream",
     "text": [
      "for\n",
      "\n",
      "\n"
     ]
    },
    {
     "data": {
      "image/png": "[encoded data removed]",
      "text/plain": [
       "<PIL.Image.Image image mode=L size=128x32 at 0x7F57802BBBD0>"
      ]
     },
     "metadata": {},
     "output_type": "display_data"
    },
    {
     "name": "stdout",
     "output_type": "stream",
     "text": [
      "to\n",
      "\n",
      "\n"
     ]
    },
    {
     "data": {
      "image/png": "[encoded data removed]",
      "text/plain": [
       "<PIL.Image.Image image mode=L size=128x32 at 0x7F57802BB450>"
      ]
     },
     "metadata": {},
     "output_type": "display_data"
    },
    {
     "name": "stdout",
     "output_type": "stream",
     "text": [
      "there\n",
      "\n",
      "\n"
     ]
    },
    {
     "data": {
      "image/png": "[encoded data removed]",
      "text/plain": [
       "<PIL.Image.Image image mode=L size=128x32 at 0x7F577AB47290>"
      ]
     },
     "metadata": {},
     "output_type": "display_data"
    },
    {
     "name": "stdout",
     "output_type": "stream",
     "text": [
      "al-egruls\n",
      "\n",
      "\n"
     ]
    },
    {
     "data": {
      "image/png": "[encoded data removed]",
      "text/plain": [
       "<PIL.Image.Image image mode=L size=128x32 at 0x7F57802BB790>"
      ]
     },
     "metadata": {},
     "output_type": "display_data"
    },
    {
     "name": "stdout",
     "output_type": "stream",
     "text": [
      "of\n",
      "\n",
      "\n"
     ]
    },
    {
     "data": {
      "image/png": "[encoded data removed]",
      "text/plain": [
       "<PIL.Image.Image image mode=L size=128x32 at 0x7F57802BB910>"
      ]
     },
     "metadata": {},
     "output_type": "display_data"
    },
    {
     "name": "stdout",
     "output_type": "stream",
     "text": [
      "wth\n",
      "\n",
      "\n"
     ]
    },
    {
     "data": {
      "image/png": "[encoded data removed]",
      "text/plain": [
       "<PIL.Image.Image image mode=L size=128x32 at 0x7F577AA85F50>"
      ]
     },
     "metadata": {},
     "output_type": "display_data"
    },
    {
     "name": "stdout",
     "output_type": "stream",
     "text": [
      "cronped\n",
      "\n",
      "\n"
     ]
    },
    {
     "data": {
      "image/png": "[encoded data removed]",
      "text/plain": [
       "<PIL.Image.Image image mode=L size=128x32 at 0x7F57802BBF90>"
      ]
     },
     "metadata": {},
     "output_type": "display_data"
    },
    {
     "name": "stdout",
     "output_type": "stream",
     "text": [
      ",\n",
      "\n",
      "\n"
     ]
    },
    {
     "data": {
      "image/png": "[encoded data removed]",
      "text/plain": [
       "<PIL.Image.Image image mode=L size=128x32 at 0x7F57802BB790>"
      ]
     },
     "metadata": {},
     "output_type": "display_data"
    },
    {
     "name": "stdout",
     "output_type": "stream",
     "text": [
      "cowen\n",
      "\n",
      "\n"
     ]
    },
    {
     "data": {
      "image/png": "[encoded data removed]",
      "text/plain": [
       "<PIL.Image.Image image mode=L size=128x32 at 0x7F57802BB990>"
      ]
     },
     "metadata": {},
     "output_type": "display_data"
    },
    {
     "name": "stdout",
     "output_type": "stream",
     "text": [
      "round\n",
      "\n",
      "\n"
     ]
    },
    {
     "data": {
      "image/png": "[encoded data removed]",
      "text/plain": [
       "<PIL.Image.Image image mode=L size=128x32 at 0x7F5792505110>"
      ]
     },
     "metadata": {},
     "output_type": "display_data"
    },
    {
     "name": "stdout",
     "output_type": "stream",
     "text": [
      "Since\n",
      "\n",
      "\n"
     ]
    },
    {
     "data": {
      "image/png": "[encoded data removed]",
      "text/plain": [
       "<PIL.Image.Image image mode=L size=128x32 at 0x7F577AB47190>"
      ]
     },
     "metadata": {},
     "output_type": "display_data"
    },
    {
     "name": "stdout",
     "output_type": "stream",
     "text": [
      "the\n",
      "\n",
      "\n"
     ]
    },
    {
     "data": {
      "image/png": "[encoded data removed]",
      "text/plain": [
       "<PIL.Image.Image image mode=L size=128x32 at 0x7F577AA830D0>"
      ]
     },
     "metadata": {},
     "output_type": "display_data"
    },
    {
     "name": "stdout",
     "output_type": "stream",
     "text": [
      "cleined\n",
      "\n",
      "\n"
     ]
    },
    {
     "data": {
      "image/png": "[encoded data removed]",
      "text/plain": [
       "<PIL.Image.Image image mode=L size=128x32 at 0x7F577AB47810>"
      ]
     },
     "metadata": {},
     "output_type": "display_data"
    },
    {
     "name": "stdout",
     "output_type": "stream",
     "text": [
      ",\n",
      "\n",
      "\n"
     ]
    },
    {
     "data": {
      "image/png": "[encoded data removed]",
      "text/plain": [
       "<PIL.Image.Image image mode=L size=128x32 at 0x7F57802BBF10>"
      ]
     },
     "metadata": {},
     "output_type": "display_data"
    },
    {
     "name": "stdout",
     "output_type": "stream",
     "text": [
      "Bitain's\n",
      "\n",
      "\n"
     ]
    },
    {
     "data": {
      "image/png": "[encoded data removed]",
      "text/plain": [
       "<PIL.Image.Image image mode=L size=128x32 at 0x7F57924D5110>"
      ]
     },
     "metadata": {},
     "output_type": "display_data"
    },
    {
     "name": "stdout",
     "output_type": "stream",
     "text": [
      "be\n",
      "\n",
      "\n"
     ]
    },
    {
     "data": {
      "image/png": "[encoded data removed]",
      "text/plain": [
       "<PIL.Image.Image image mode=L size=128x32 at 0x7F57924EB390>"
      ]
     },
     "metadata": {},
     "output_type": "display_data"
    },
    {
     "name": "stdout",
     "output_type": "stream",
     "text": [
      "a\n",
      "\n",
      "\n"
     ]
    }
   ],
   "source": [
    "## CTC layer decode function\n",
    "\n",
    "# predict outputs on test images\n",
    "prediction = actual_model.predict(x_test)\n",
    "\n",
    "# use CTC decoder\n",
    "out = K.get_value(K.ctc_decode(prediction, \n",
    "                  input_length=np.ones(prediction.shape[0])*prediction.shape[1],\n",
    "                  greedy=True)[0][0])\n",
    "\n",
    "\n",
    "# see the results\n",
    "i = 0\n",
    "for x in out:\n",
    "  if i<50:\n",
    "\n",
    "    # Read the path of image from list that has created after split of X and Y and show the same image\n",
    "    path = test_image_path[i]\n",
    "    img = cv2.cvtColor(cv2.imread(path), cv2.COLOR_BGR2GRAY)   \n",
    "    img = cv2.resize(img, (128, 32)) \n",
    "    cv2_imshow(img)\n",
    "\n",
    "    for p in x:  \n",
    "      if int(p) != -1:\n",
    "         print(characters[int(p)], end = '')       \n",
    "    print('\\n\\n')\n",
    "    i+=1\n"
   ]
  },
  {
   "cell_type": "code",
   "execution_count": 47,
   "metadata": {
    "id": "I7vTL9jRyMfr"
   },
   "outputs": [],
   "source": [
    "## Function to calculate % of prediction\n",
    "\n",
    "def calc_accuracy(model, test_label_original):\n",
    "  prediction = actual_model.predict(x_test)\n",
    "\n",
    "  out = K.get_value(K.ctc_decode(prediction, input_length=np.ones(prediction.shape[0])*prediction.shape[1],\n",
    "                          greedy=True)[0][0])\n",
    "  test_size = len(x_test);\n",
    "  true_predict =0\n",
    "  false_predict =0;\n",
    "  f_len =0\n",
    "  t_len =0\n",
    "\n",
    "  i = 0\n",
    "  for x in out:\n",
    "    actual = test_label_original[i]\n",
    "    pred =''\n",
    "    for p in x:     \n",
    "      if int(p) != -1:\n",
    "          pred += characters[int(p)]     \n",
    "\n",
    "    if actual == pred:\n",
    "      true_predict += 1\n",
    "      t_len += len(actual)\n",
    "    else:\n",
    "      false_predict +=1\n",
    "      f_len += len(actual)\n",
    "    i+=1\n",
    "\n",
    "  true_ratio = ( true_predict * 100 ) / test_size\n",
    "  false_ratio = ( false_predict * 100 ) / test_size\n",
    "  \n",
    "  print('True Predict: ',true_ratio,'\\n')\n",
    "  print('True Predicted Words Length: ',t_len,'\\n')\n",
    "  print('False Predicted Words Length: ',f_len,'\\n')\n",
    "  return true_ratio"
   ]
  },
  {
   "cell_type": "code",
   "execution_count": 48,
   "metadata": {
    "colab": {
     "base_uri": "https://localhost:8080/"
    },
    "id": "kaW4S1jtyqbS",
    "outputId": "9cacb037-44a6-49f9-b0f1-4aca5df52283"
   },
   "outputs": [
    {
     "name": "stdout",
     "output_type": "stream",
     "text": [
      "True Predict:  52.75 \n",
      "\n",
      "True Predicted Words Length:  3399 \n",
      "\n",
      "False Predicted Words Length:  5521 \n",
      "\n"
     ]
    }
   ],
   "source": [
    "acc = calc_accuracy(actual_model, test_label_original)"
   ]
  },
  {
   "cell_type": "code",
   "execution_count": 48,
   "metadata": {
    "id": "U5FwYDfsyt58"
   },
   "outputs": [],
   "source": []
  }
 ],
 "metadata": {
  "accelerator": "TPU",
  "colab": {
   "collapsed_sections": [],
   "machine_shape": "hm",
   "name": "Mid_Project_2.ipynb",
   "provenance": []
  },
  "kernelspec": {
   "display_name": "Python 3",
   "language": "python",
   "name": "python3"
  },
  "language_info": {
   "codemirror_mode": {
    "name": "ipython",
    "version": 3
   },
   "file_extension": ".py",
   "mimetype": "text/x-python",
   "name": "python",
   "nbconvert_exporter": "python",
   "pygments_lexer": "ipython3",
   "version": "3.7.6"
  }
 },
 "nbformat": 4,
 "nbformat_minor": 1
}
