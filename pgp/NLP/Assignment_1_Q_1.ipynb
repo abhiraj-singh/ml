{
 "cells": [
  {
   "cell_type": "code",
   "execution_count": null,
   "metadata": {},
   "outputs": [],
   "source": [
    "'''\n",
    "1.Write code snippets in python to perform the following tasks\n",
    "• Print your current working directory\n",
    "• Create a new directory on your desktop named: “Text Mining and NLP”\n",
    "• Make “Text Mining and NLP” your current working directory\n",
    "'''"
   ]
  },
  {
   "cell_type": "code",
   "execution_count": 14,
   "metadata": {},
   "outputs": [
    {
     "name": "stdout",
     "output_type": "stream",
     "text": [
      "/Users/necessaryevil/Learn/edureka\n"
     ]
    }
   ],
   "source": [
    "import os\n",
    "os.chdir('/Users/necessaryevil/Learn/edureka')\n",
    "## Get current directory\n",
    "path = os.getcwd()\n",
    "\n",
    "print(path)"
   ]
  },
  {
   "cell_type": "code",
   "execution_count": 15,
   "metadata": {},
   "outputs": [
    {
     "name": "stdout",
     "output_type": "stream",
     "text": [
      "/Users/necessaryevil/Desktop\n"
     ]
    }
   ],
   "source": [
    "## Change directory\n",
    "os.chdir('../../Desktop')\n",
    "path = os.getcwd()\n",
    "print(path)"
   ]
  },
  {
   "cell_type": "code",
   "execution_count": 16,
   "metadata": {},
   "outputs": [
    {
     "name": "stdout",
     "output_type": "stream",
     "text": [
      "/Users/necessaryevil/Desktop/Text Mining and NLP\n"
     ]
    }
   ],
   "source": [
    "## Creating a directory\n",
    "path +='/Text Mining and NLP'\n",
    "os.mkdir(path)\n",
    "os.chdir(path)\n",
    "path = os.getcwd()\n",
    "\n",
    "print(path)"
   ]
  },
  {
   "cell_type": "code",
   "execution_count": null,
   "metadata": {},
   "outputs": [],
   "source": [
    "'''\n",
    "2. Write code snippets in python to perform the following tasks:\n",
    "• Create a text file named “Greetings.txt” and write “Welcome to Text Mining and Natural Language Processing”\n",
    "• Move this file to the folder “Text Mining and NLP” which you created in ques 1\n",
    "• Rename this file to “Welcome.txt”\n",
    "'''"
   ]
  },
  {
   "cell_type": "code",
   "execution_count": 18,
   "metadata": {},
   "outputs": [],
   "source": [
    "file = r'/Users/necessaryevil/Desktop/Greetings.txt'\n",
    "txt = \"Welcome to Text Mining and Natural Language Processing\"\n",
    "with open(file, 'w') as f:\n",
    "    f.write(txt)"
   ]
  },
  {
   "cell_type": "code",
   "execution_count": 19,
   "metadata": {},
   "outputs": [],
   "source": [
    "destination = r'/Users/necessaryevil/Desktop/Text Mining and NLP/Welcome.txt'\n",
    "os.rename(file, destination)"
   ]
  },
  {
   "cell_type": "code",
   "execution_count": 20,
   "metadata": {},
   "outputs": [
    {
     "data": {
      "text/plain": [
       "['Welcome.txt']"
      ]
     },
     "execution_count": 20,
     "metadata": {},
     "output_type": "execute_result"
    }
   ],
   "source": [
    "os.listdir(path)"
   ]
  },
  {
   "cell_type": "code",
   "execution_count": null,
   "metadata": {},
   "outputs": [],
   "source": [
    "'''\n",
    "3.You are given a docx file named “NLP.docx”. Perform the following tasks:\n",
    "• Use DOCX module to open the file and perform the following tasks:\n",
    "• How many paragraphs are there in the file?\n",
    "• For each paragraph, print the number of words it contains\n",
    "• Read the content from “Welcome.txt” file which you created in question number 2 and make that content the first paragraph in “NLP.docx” file\n",
    "'''"
   ]
  },
  {
   "cell_type": "code",
   "execution_count": 28,
   "metadata": {},
   "outputs": [
    {
     "name": "stdout",
     "output_type": "stream",
     "text": [
      "Total Number of Paragraphs --> 26\n"
     ]
    }
   ],
   "source": [
    "## Using DOCX module to view file content and edit it\n",
    "from docx import Document\n",
    "doc_file = path +'/'+'NLP.docx'\n",
    "doc = Document(doc_file)\n",
    "print('Total Number of Paragraphs --> {0}'.format(len(doc.paragraphs)))\n"
   ]
  },
  {
   "cell_type": "code",
   "execution_count": 38,
   "metadata": {},
   "outputs": [
    {
     "data": {
      "text/plain": [
       "[<docx.text.paragraph.Paragraph at 0x7fcaadc688d0>,\n",
       " <docx.text.paragraph.Paragraph at 0x7fcaadc682d0>,\n",
       " <docx.text.paragraph.Paragraph at 0x7fcaadc68490>,\n",
       " <docx.text.paragraph.Paragraph at 0x7fcaadc68b10>,\n",
       " <docx.text.paragraph.Paragraph at 0x7fcaadc68150>,\n",
       " <docx.text.paragraph.Paragraph at 0x7fcaadc68b50>,\n",
       " <docx.text.paragraph.Paragraph at 0x7fcaadc68250>,\n",
       " <docx.text.paragraph.Paragraph at 0x7fcaadc68290>,\n",
       " <docx.text.paragraph.Paragraph at 0x7fcaadc68d90>,\n",
       " <docx.text.paragraph.Paragraph at 0x7fcaadc68450>,\n",
       " <docx.text.paragraph.Paragraph at 0x7fcaadc68810>,\n",
       " <docx.text.paragraph.Paragraph at 0x7fcaadc68350>,\n",
       " <docx.text.paragraph.Paragraph at 0x7fcaadc68790>,\n",
       " <docx.text.paragraph.Paragraph at 0x7fcaadc68a50>,\n",
       " <docx.text.paragraph.Paragraph at 0x7fcaadc68710>,\n",
       " <docx.text.paragraph.Paragraph at 0x7fcaadc68fd0>,\n",
       " <docx.text.paragraph.Paragraph at 0x7fcaadc68bd0>,\n",
       " <docx.text.paragraph.Paragraph at 0x7fcaadc68390>,\n",
       " <docx.text.paragraph.Paragraph at 0x7fcaadc68f90>,\n",
       " <docx.text.paragraph.Paragraph at 0x7fcaadc6d250>,\n",
       " <docx.text.paragraph.Paragraph at 0x7fcaadc6d3d0>,\n",
       " <docx.text.paragraph.Paragraph at 0x7fcaadc6d450>,\n",
       " <docx.text.paragraph.Paragraph at 0x7fcaadc6dd90>,\n",
       " <docx.text.paragraph.Paragraph at 0x7fcaadc6d590>,\n",
       " <docx.text.paragraph.Paragraph at 0x7fcaadc6de50>,\n",
       " <docx.text.paragraph.Paragraph at 0x7fcaadc6df50>]"
      ]
     },
     "execution_count": 38,
     "metadata": {},
     "output_type": "execute_result"
    }
   ],
   "source": [
    "doc.paragraphs"
   ]
  },
  {
   "cell_type": "code",
   "execution_count": 37,
   "metadata": {},
   "outputs": [
    {
     "name": "stdout",
     "output_type": "stream",
     "text": [
      "Paragraph 1  -- Total word count is 71 \n",
      "Paragraph 2  -- Total word count is 56 \n",
      "Paragraph 3  -- Total word count is 132 \n",
      "Paragraph 4  -- Total word count is 26 \n",
      "Paragraph 5  -- Total word count is 6 \n",
      "Paragraph 6  -- Total word count is 68 \n",
      "Paragraph 7  -- Total word count is 38 \n",
      "Paragraph 8  -- Total word count is 61 \n",
      "Paragraph 9  -- Total word count is 47 \n",
      "Paragraph 10  -- Total word count is 50 \n",
      "Paragraph 11  -- Total word count is 9 \n",
      "Paragraph 12  -- Total word count is 61 \n",
      "Paragraph 13  -- Total word count is 37 \n",
      "Paragraph 14  -- Total word count is 74 \n",
      "Paragraph 15  -- Total word count is 92 \n",
      "Paragraph 16  -- Total word count is 8 \n",
      "Paragraph 17  -- Total word count is 43 \n",
      "Paragraph 18  -- Total word count is 104 \n",
      "Paragraph 19  -- Total word count is 32 \n",
      "Paragraph 20  -- Total word count is 53 \n",
      "Paragraph 21  -- Total word count is 58 \n",
      "Paragraph 22  -- Total word count is 6 \n",
      "Paragraph 23  -- Total word count is 77 \n",
      "Paragraph 24  -- Total word count is 89 \n",
      "Paragraph 25  -- Total word count is 68 \n",
      "Paragraph 26  -- Total word count is 57 \n"
     ]
    }
   ],
   "source": [
    "## Reading from paragraph object and getting the word count of each paragraph\n",
    "\n",
    "i = 1\n",
    "for para in doc.paragraphs:\n",
    "    word = para.text.split(\" \")\n",
    "    print('Paragraph {0}  -- Total word count is {1} '.format(i,len(word)))\n",
    "    i += 1"
   ]
  },
  {
   "cell_type": "code",
   "execution_count": 40,
   "metadata": {},
   "outputs": [
    {
     "name": "stdout",
     "output_type": "stream",
     "text": [
      "Welcome to Text Mining and Natural Language Processing\n"
     ]
    }
   ],
   "source": [
    "## Reading from the file\n",
    "contents=\"\"\n",
    "with open(destination) as f:\n",
    "    contents = f.read()\n",
    "\n",
    "print(contents)"
   ]
  },
  {
   "cell_type": "code",
   "execution_count": 43,
   "metadata": {},
   "outputs": [
    {
     "name": "stdout",
     "output_type": "stream",
     "text": [
      "<docx.text.paragraph.Paragraph object at 0x7fcaadc37a90>\n"
     ]
    },
    {
     "data": {
      "text/plain": [
       "<docx.text.paragraph.Paragraph at 0x7fcaadc37a90>"
      ]
     },
     "execution_count": 43,
     "metadata": {},
     "output_type": "execute_result"
    }
   ],
   "source": [
    "## converting the content into paragraph and inserting it at the start\n",
    "from docx.text.paragraph import Paragraph\n",
    "print(doc.paragraphs[0])\n",
    "next_par = doc.paragraphs[0]\n",
    "next_par.insert_paragraph_before(contents)"
   ]
  },
  {
   "cell_type": "code",
   "execution_count": 45,
   "metadata": {},
   "outputs": [
    {
     "data": {
      "text/plain": [
       "27"
      ]
     },
     "execution_count": 45,
     "metadata": {},
     "output_type": "execute_result"
    }
   ],
   "source": [
    "len(doc.paragraphs)"
   ]
  },
  {
   "cell_type": "code",
   "execution_count": 47,
   "metadata": {},
   "outputs": [
    {
     "name": "stdout",
     "output_type": "stream",
     "text": [
      "Welcome to Text Mining and Natural Language Processing\n",
      "To the outside observer, Natural Language Processing (NLP) may seem futuristic.  a third of smartphone owners use their personal assistants regularly (a hallmark of NLP technologies), even though 95 percent have tried them at some point, according to Creative Strategies, a consultancy. However, Natural Language Processing advances continue in leaps and bounds, as Digital Neural Networks (DNN) and Machine Learning become more intricate. Both technologies enhance NLP technologies up to 30 percent.\n",
      "The Economist states, that this paradigm has shifted language technology from usable at a pinch to really rather good”. So, when Barclays, a British bank, offered an identification using a user’s voice and NLP, 84 percent of the users signed up within five months, indicating that consumers are jumping on the bandwagon and wanting more benefits from NLP.\n"
     ]
    }
   ],
   "source": [
    "## Verifying the docx file after adding it\n",
    "i = 1\n",
    "for para in doc.paragraphs:\n",
    "    print(para.text)\n",
    "    if i == 3:\n",
    "        break\n",
    "    i += 1"
   ]
  },
  {
   "cell_type": "code",
   "execution_count": 50,
   "metadata": {},
   "outputs": [],
   "source": [
    "# saving the document\n",
    "doc.save(doc_file)"
   ]
  },
  {
   "cell_type": "code",
   "execution_count": null,
   "metadata": {},
   "outputs": [],
   "source": [
    "'''\n",
    "4.You are given a csv file named “EmployeeDetails.csv”. Perform the following tasks:\n",
    "• Use pandas module to read the csv file\n",
    "• Split the name as first name and last name and make two separate columns as shown\n",
    "• Delete “Name” Column\n",
    "• Increment the “Salary” Column by 10% of the existing value and save changes in same column only as shown\n",
    "• Save changes to a new file named “Employee_Data.csv”\n",
    "'''"
   ]
  },
  {
   "cell_type": "code",
   "execution_count": 53,
   "metadata": {},
   "outputs": [
    {
     "data": {
      "text/html": [
       "<div>\n",
       "<style scoped>\n",
       "    .dataframe tbody tr th:only-of-type {\n",
       "        vertical-align: middle;\n",
       "    }\n",
       "\n",
       "    .dataframe tbody tr th {\n",
       "        vertical-align: top;\n",
       "    }\n",
       "\n",
       "    .dataframe thead th {\n",
       "        text-align: right;\n",
       "    }\n",
       "</style>\n",
       "<table border=\"1\" class=\"dataframe\">\n",
       "  <thead>\n",
       "    <tr style=\"text-align: right;\">\n",
       "      <th></th>\n",
       "      <th>Name</th>\n",
       "      <th>Age</th>\n",
       "      <th>Salary</th>\n",
       "    </tr>\n",
       "  </thead>\n",
       "  <tbody>\n",
       "    <tr>\n",
       "      <th>0</th>\n",
       "      <td>Arjun singh</td>\n",
       "      <td>24</td>\n",
       "      <td>10000</td>\n",
       "    </tr>\n",
       "    <tr>\n",
       "      <th>1</th>\n",
       "      <td>Vibhor Jha</td>\n",
       "      <td>26</td>\n",
       "      <td>25000</td>\n",
       "    </tr>\n",
       "    <tr>\n",
       "      <th>2</th>\n",
       "      <td>Yoshita Debnath</td>\n",
       "      <td>23</td>\n",
       "      <td>15000</td>\n",
       "    </tr>\n",
       "    <tr>\n",
       "      <th>3</th>\n",
       "      <td>Abhitesh Setia</td>\n",
       "      <td>25</td>\n",
       "      <td>18000</td>\n",
       "    </tr>\n",
       "    <tr>\n",
       "      <th>4</th>\n",
       "      <td>Shaurya Nayar</td>\n",
       "      <td>26</td>\n",
       "      <td>30000</td>\n",
       "    </tr>\n",
       "  </tbody>\n",
       "</table>\n",
       "</div>"
      ],
      "text/plain": [
       "             Name   Age  Salary\n",
       "0     Arjun singh    24   10000\n",
       "1       Vibhor Jha   26   25000\n",
       "2  Yoshita Debnath   23   15000\n",
       "3   Abhitesh Setia   25   18000\n",
       "4    Shaurya Nayar   26   30000"
      ]
     },
     "execution_count": 53,
     "metadata": {},
     "output_type": "execute_result"
    }
   ],
   "source": [
    "## Reading csv file\n",
    "import pandas as pd\n",
    "filecsv = r'/Users/necessaryevil/Desktop/Text Mining and NLP/EmployeeDetails.csv'\n",
    "df = pd.read_csv(filecsv)\n",
    "df.head()"
   ]
  },
  {
   "cell_type": "code",
   "execution_count": 76,
   "metadata": {},
   "outputs": [
    {
     "data": {
      "text/html": [
       "<div>\n",
       "<style scoped>\n",
       "    .dataframe tbody tr th:only-of-type {\n",
       "        vertical-align: middle;\n",
       "    }\n",
       "\n",
       "    .dataframe tbody tr th {\n",
       "        vertical-align: top;\n",
       "    }\n",
       "\n",
       "    .dataframe thead th {\n",
       "        text-align: right;\n",
       "    }\n",
       "</style>\n",
       "<table border=\"1\" class=\"dataframe\">\n",
       "  <thead>\n",
       "    <tr style=\"text-align: right;\">\n",
       "      <th></th>\n",
       "      <th>Name</th>\n",
       "      <th>Age</th>\n",
       "      <th>Salary</th>\n",
       "      <th>First_Name</th>\n",
       "      <th>Last_Name</th>\n",
       "      <th>Extra</th>\n",
       "    </tr>\n",
       "  </thead>\n",
       "  <tbody>\n",
       "    <tr>\n",
       "      <th>0</th>\n",
       "      <td>Arjun singh</td>\n",
       "      <td>24</td>\n",
       "      <td>10000</td>\n",
       "      <td>Arjun</td>\n",
       "      <td>singh</td>\n",
       "      <td></td>\n",
       "    </tr>\n",
       "    <tr>\n",
       "      <th>1</th>\n",
       "      <td>Vibhor Jha</td>\n",
       "      <td>26</td>\n",
       "      <td>25000</td>\n",
       "      <td>Vibhor</td>\n",
       "      <td>Jha</td>\n",
       "      <td>None</td>\n",
       "    </tr>\n",
       "    <tr>\n",
       "      <th>2</th>\n",
       "      <td>Yoshita Debnath</td>\n",
       "      <td>23</td>\n",
       "      <td>15000</td>\n",
       "      <td>Yoshita</td>\n",
       "      <td>Debnath</td>\n",
       "      <td>None</td>\n",
       "    </tr>\n",
       "    <tr>\n",
       "      <th>3</th>\n",
       "      <td>Abhitesh Setia</td>\n",
       "      <td>25</td>\n",
       "      <td>18000</td>\n",
       "      <td>Abhitesh</td>\n",
       "      <td>Setia</td>\n",
       "      <td>None</td>\n",
       "    </tr>\n",
       "    <tr>\n",
       "      <th>4</th>\n",
       "      <td>Shaurya Nayar</td>\n",
       "      <td>26</td>\n",
       "      <td>30000</td>\n",
       "      <td>Shaurya</td>\n",
       "      <td>Nayar</td>\n",
       "      <td>None</td>\n",
       "    </tr>\n",
       "  </tbody>\n",
       "</table>\n",
       "</div>"
      ],
      "text/plain": [
       "             Name   Age  Salary First_Name Last_Name Extra\n",
       "0     Arjun singh    24   10000      Arjun     singh      \n",
       "1       Vibhor Jha   26   25000     Vibhor       Jha  None\n",
       "2  Yoshita Debnath   23   15000    Yoshita   Debnath  None\n",
       "3   Abhitesh Setia   25   18000   Abhitesh     Setia  None\n",
       "4    Shaurya Nayar   26   30000    Shaurya     Nayar  None"
      ]
     },
     "execution_count": 76,
     "metadata": {},
     "output_type": "execute_result"
    }
   ],
   "source": [
    "## Splitting the column into 2 different column\n",
    "\n",
    "df[['First_Name','Last_Name','Extra']] = df[df.columns[0]].str.split(\" \",expand=True)\n",
    "df.head()"
   ]
  },
  {
   "cell_type": "code",
   "execution_count": 78,
   "metadata": {},
   "outputs": [],
   "source": [
    "## Dropping column which are not required\n",
    "df.drop(['Name ','Extra'],axis = 1,inplace = True)"
   ]
  },
  {
   "cell_type": "code",
   "execution_count": 79,
   "metadata": {},
   "outputs": [
    {
     "data": {
      "text/html": [
       "<div>\n",
       "<style scoped>\n",
       "    .dataframe tbody tr th:only-of-type {\n",
       "        vertical-align: middle;\n",
       "    }\n",
       "\n",
       "    .dataframe tbody tr th {\n",
       "        vertical-align: top;\n",
       "    }\n",
       "\n",
       "    .dataframe thead th {\n",
       "        text-align: right;\n",
       "    }\n",
       "</style>\n",
       "<table border=\"1\" class=\"dataframe\">\n",
       "  <thead>\n",
       "    <tr style=\"text-align: right;\">\n",
       "      <th></th>\n",
       "      <th>Age</th>\n",
       "      <th>Salary</th>\n",
       "      <th>First_Name</th>\n",
       "      <th>Last_Name</th>\n",
       "    </tr>\n",
       "  </thead>\n",
       "  <tbody>\n",
       "    <tr>\n",
       "      <th>0</th>\n",
       "      <td>24</td>\n",
       "      <td>10000</td>\n",
       "      <td>Arjun</td>\n",
       "      <td>singh</td>\n",
       "    </tr>\n",
       "    <tr>\n",
       "      <th>1</th>\n",
       "      <td>26</td>\n",
       "      <td>25000</td>\n",
       "      <td>Vibhor</td>\n",
       "      <td>Jha</td>\n",
       "    </tr>\n",
       "    <tr>\n",
       "      <th>2</th>\n",
       "      <td>23</td>\n",
       "      <td>15000</td>\n",
       "      <td>Yoshita</td>\n",
       "      <td>Debnath</td>\n",
       "    </tr>\n",
       "    <tr>\n",
       "      <th>3</th>\n",
       "      <td>25</td>\n",
       "      <td>18000</td>\n",
       "      <td>Abhitesh</td>\n",
       "      <td>Setia</td>\n",
       "    </tr>\n",
       "    <tr>\n",
       "      <th>4</th>\n",
       "      <td>26</td>\n",
       "      <td>30000</td>\n",
       "      <td>Shaurya</td>\n",
       "      <td>Nayar</td>\n",
       "    </tr>\n",
       "  </tbody>\n",
       "</table>\n",
       "</div>"
      ],
      "text/plain": [
       "   Age  Salary First_Name Last_Name\n",
       "0   24   10000      Arjun     singh\n",
       "1   26   25000     Vibhor       Jha\n",
       "2   23   15000    Yoshita   Debnath\n",
       "3   25   18000   Abhitesh     Setia\n",
       "4   26   30000    Shaurya     Nayar"
      ]
     },
     "execution_count": 79,
     "metadata": {},
     "output_type": "execute_result"
    }
   ],
   "source": [
    "df.head()"
   ]
  },
  {
   "cell_type": "code",
   "execution_count": 80,
   "metadata": {},
   "outputs": [],
   "source": [
    "## Increasing the salary by 10%\n",
    "df['Salary'] = df['Salary'] * 1.1"
   ]
  },
  {
   "cell_type": "code",
   "execution_count": 81,
   "metadata": {},
   "outputs": [
    {
     "data": {
      "text/html": [
       "<div>\n",
       "<style scoped>\n",
       "    .dataframe tbody tr th:only-of-type {\n",
       "        vertical-align: middle;\n",
       "    }\n",
       "\n",
       "    .dataframe tbody tr th {\n",
       "        vertical-align: top;\n",
       "    }\n",
       "\n",
       "    .dataframe thead th {\n",
       "        text-align: right;\n",
       "    }\n",
       "</style>\n",
       "<table border=\"1\" class=\"dataframe\">\n",
       "  <thead>\n",
       "    <tr style=\"text-align: right;\">\n",
       "      <th></th>\n",
       "      <th>Age</th>\n",
       "      <th>Salary</th>\n",
       "      <th>First_Name</th>\n",
       "      <th>Last_Name</th>\n",
       "    </tr>\n",
       "  </thead>\n",
       "  <tbody>\n",
       "    <tr>\n",
       "      <th>0</th>\n",
       "      <td>24</td>\n",
       "      <td>11000.0</td>\n",
       "      <td>Arjun</td>\n",
       "      <td>singh</td>\n",
       "    </tr>\n",
       "    <tr>\n",
       "      <th>1</th>\n",
       "      <td>26</td>\n",
       "      <td>27500.0</td>\n",
       "      <td>Vibhor</td>\n",
       "      <td>Jha</td>\n",
       "    </tr>\n",
       "    <tr>\n",
       "      <th>2</th>\n",
       "      <td>23</td>\n",
       "      <td>16500.0</td>\n",
       "      <td>Yoshita</td>\n",
       "      <td>Debnath</td>\n",
       "    </tr>\n",
       "    <tr>\n",
       "      <th>3</th>\n",
       "      <td>25</td>\n",
       "      <td>19800.0</td>\n",
       "      <td>Abhitesh</td>\n",
       "      <td>Setia</td>\n",
       "    </tr>\n",
       "    <tr>\n",
       "      <th>4</th>\n",
       "      <td>26</td>\n",
       "      <td>33000.0</td>\n",
       "      <td>Shaurya</td>\n",
       "      <td>Nayar</td>\n",
       "    </tr>\n",
       "  </tbody>\n",
       "</table>\n",
       "</div>"
      ],
      "text/plain": [
       "   Age   Salary First_Name Last_Name\n",
       "0   24  11000.0      Arjun     singh\n",
       "1   26  27500.0     Vibhor       Jha\n",
       "2   23  16500.0    Yoshita   Debnath\n",
       "3   25  19800.0   Abhitesh     Setia\n",
       "4   26  33000.0    Shaurya     Nayar"
      ]
     },
     "execution_count": 81,
     "metadata": {},
     "output_type": "execute_result"
    }
   ],
   "source": [
    "df.head()"
   ]
  },
  {
   "cell_type": "code",
   "execution_count": 82,
   "metadata": {},
   "outputs": [
    {
     "data": {
      "text/plain": [
       "['EmployeeDetails.csv', 'Employee_Data.csv', 'NLP.docx', 'Welcome.txt']"
      ]
     },
     "execution_count": 82,
     "metadata": {},
     "output_type": "execute_result"
    }
   ],
   "source": [
    "## Saving the final data into csv\n",
    "finalfilecsv = r'/Users/necessaryevil/Desktop/Text Mining and NLP/Employee_Data.csv'\n",
    "df.to_csv(finalfilecsv,  index=False,header= True)\n",
    "os.listdir(path)"
   ]
  },
  {
   "cell_type": "code",
   "execution_count": null,
   "metadata": {},
   "outputs": [],
   "source": []
  }
 ],
 "metadata": {
  "kernelspec": {
   "display_name": "Python 3",
   "language": "python",
   "name": "python3"
  },
  "language_info": {
   "codemirror_mode": {
    "name": "ipython",
    "version": 3
   },
   "file_extension": ".py",
   "mimetype": "text/x-python",
   "name": "python",
   "nbconvert_exporter": "python",
   "pygments_lexer": "ipython3",
   "version": "3.7.6"
  }
 },
 "nbformat": 4,
 "nbformat_minor": 4
}
