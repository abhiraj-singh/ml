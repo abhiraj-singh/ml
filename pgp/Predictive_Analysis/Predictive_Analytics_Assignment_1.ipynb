{
 "cells": [
  {
   "cell_type": "code",
   "execution_count": 1,
   "metadata": {},
   "outputs": [
    {
     "data": {
      "text/plain": [
       "'\\nBlack Friday Sale\\n\\n'"
      ]
     },
     "execution_count": 1,
     "metadata": {},
     "output_type": "execute_result"
    }
   ],
   "source": [
    "'''\n",
    "Black Friday Sale\n",
    "\n",
    "'''"
   ]
  },
  {
   "cell_type": "code",
   "execution_count": 3,
   "metadata": {},
   "outputs": [],
   "source": [
    "import pandas as pd\n",
    "import numpy as np\n",
    "import sys\n",
    "import csv\n",
    "sys.path.append('../')"
   ]
  },
  {
   "cell_type": "code",
   "execution_count": 22,
   "metadata": {},
   "outputs": [
    {
     "name": "stdout",
     "output_type": "stream",
     "text": [
      "['User_ID', 'Gender', 'Age', 'Occupation', 'City_Category', 'Stay_In_Current_City_Years', 'Marital_Status', 'Purchase']\n"
     ]
    }
   ],
   "source": [
    "\n",
    "# I\tA. Load data\n",
    "df = pd.read_csv(\"res/blackfriday.csv\")\n",
    "\n",
    "def solution():\n",
    "    #print(df.info())\n",
    "    col = list(df.columns)\n",
    "    #print(type(col))\n",
    "    print(col)\n",
    "    \n",
    "    cnt = 0\n",
    "    col_list = []\n",
    "    \n",
    "    for i in col:\n",
    "        if df[i].isnull().sum() > 0:\n",
    "            cnt +=1\n",
    "            col_list.append(i)\n",
    "            \n",
    "    try:\n",
    "        f = open('output/output_predict_1.csv', 'w')\n",
    "        f.write(str(cnt))\n",
    "        for c in col_list:\n",
    "            f.write(\"\\n\"+c)\n",
    "        \n",
    "    finally:\n",
    "        f.close()\n",
    "    \n",
    "\n",
    "solution()"
   ]
  },
  {
   "cell_type": "code",
   "execution_count": 43,
   "metadata": {},
   "outputs": [],
   "source": [
    "# I\tA. Load data\n",
    "df = pd.read_csv(\"res/blackfriday.csv\")\n",
    "def solution2():\n",
    "    mean = round(df['Purchase'].mean(),2)\n",
    "    median = round(df['Purchase'].median(),1)\n",
    "    mode = list(df['Purchase'].mode())\n",
    "    \n",
    "    try:\n",
    "        f = open('output/output_predict_2.csv', 'w')\n",
    "        f.write(str(mean))\n",
    "        f.write(\"\\n\"+str(median))\n",
    "        for m in mode:\n",
    "            f.write(\"\\n\"+str(m))\n",
    "        \n",
    "    finally:\n",
    "        f.close()\n",
    "\n",
    "        \n",
    "solution2()"
   ]
  },
  {
   "cell_type": "code",
   "execution_count": 44,
   "metadata": {},
   "outputs": [],
   "source": [
    "# I\tA. Load data\n",
    "df = pd.read_csv(\"res/blackfriday.csv\")\n",
    "def solution3():\n",
    "    # D. Variance\n",
    "    var = round(df['Purchase'].var(),2)\n",
    "    \n",
    "    # E. Std. Dev.\n",
    "    std = round(df['Purchase'].std(),2)\n",
    "\n",
    "\t# F. Skewness\n",
    "    skew = round(df['Purchase'].skew(),2)\n",
    "\n",
    "\t# G. Kurtosis\n",
    "    krt = round(df['Purchase'].kurtosis(),2)\n",
    "    \n",
    "    try:\n",
    "        f = open('output/output_predict_3.csv', 'w')\n",
    "        f.write(str(var))\n",
    "        f.write(\"\\n\"+str(std))\n",
    "        f.write(\"\\n\"+str(skew))\n",
    "        f.write(\"\\n\"+str(krt))\n",
    "        \n",
    "        \n",
    "    finally:\n",
    "        f.close()\n",
    "\n",
    "        \n",
    "solution3()"
   ]
  },
  {
   "cell_type": "code",
   "execution_count": 71,
   "metadata": {
    "scrolled": true
   },
   "outputs": [
    {
     "name": "stdout",
     "output_type": "stream",
     "text": [
      "[5878.75, 12011.25] -3320.0 21210.0\n",
      "26\n"
     ]
    }
   ],
   "source": [
    "def solution4():\n",
    "    # I\tA. Load data\n",
    "    df = pd.read_csv(\"res/blackfriday.csv\")\n",
    "\n",
    "    # B. IQR\n",
    "    qr1 = 0.25\n",
    "    qr3 = 0.75\n",
    "    qr = list(df['Purchase'].quantile([qr1, qr3]))\n",
    "    iqr = round(qr[1] - qr[0],1)\n",
    "    #print(iqr)\n",
    "    lower_range = qr[0] - (1.5 * iqr)\n",
    "    upper_range = qr[1] + (1.5 * iqr)\n",
    "    \n",
    "    #print(qr,lower_range,upper_range)\n",
    "    cnt_outliners = df[ (df['Purchase'] < lower_range) | (df['Purchase'] > upper_range) ].Purchase.count()\n",
    "    #print(cnt_outliners)\n",
    "    \n",
    "    \n",
    "    '''try:\n",
    "        f = open('output/output_predict_4.csv', 'w')\n",
    "        f.write(str(iqr))\n",
    "        f.write(\"\\n\"+str(cnt_outliners))\n",
    "        \n",
    "    finally:\n",
    "        f.close()\n",
    "    '''\n",
    "    \n",
    "solution4()"
   ]
  },
  {
   "cell_type": "code",
   "execution_count": 121,
   "metadata": {},
   "outputs": [
    {
     "name": "stdout",
     "output_type": "stream",
     "text": [
      "\n"
     ]
    }
   ],
   "source": [
    "# I\tA. Load data\n",
    "\n",
    "def prob_age(df,age):\n",
    "    mg = float(df[ (df['Age'] == age) & (df['Gender'] == 'M')]['cnt'].to_string(index=False).strip())\n",
    "    fg = float(df[ (df['Age'] == age) & (df['Gender'] == 'F')]['cnt'].to_string(index=False).strip())\n",
    "    if mg > fg:\n",
    "        return 'Male'\n",
    "    else:\n",
    "        return 'Female'\n",
    "\n",
    "def solution5():\n",
    "    df = pd.read_csv(\"res/blackfriday.csv\")\n",
    "\n",
    "    #print(df)\n",
    "    \n",
    "    #print(df.columns)\n",
    "    \n",
    "    # I. Which gender in the specified age group has the higher probability of making a purchase?\n",
    "    \n",
    "    col = ['Gender','Age','Purchase']\n",
    "    dfg = df[col].copy()\n",
    "    dfg = dfg.groupby([\"Age\", \"Gender\"]).agg({\"Purchase\": [\"count\"]}) / dfg.groupby([\"Age\"]).agg({\"Purchase\": [\"count\"]})\n",
    "    dfg.columns = ['cnt']\n",
    "    dfg = dfg.reset_index()\n",
    "        \n",
    "    # II. Calculate the probability that a customer belogs to the specified category of city.\n",
    "       \n",
    "            # ff.write(\"%s\\n\" % value[item])\n",
    "    col = ['City_Category','Purchase']\n",
    "    dfc = df[col].copy()\n",
    "    #print(dfc)\n",
    "    \n",
    "    cnt_r = len(dfc)\n",
    "    dfc = dfc.groupby(['City_Category']).count() / cnt_r\n",
    "    dfc.columns = ['cnt']\n",
    "    dfc = dfc.reset_index()\n",
    "    #print(dfc)\n",
    "    #print(cnt_r)\n",
    "    \n",
    "    try:\n",
    "        fp = open('res/testcaseprobability.txt', 'r')\n",
    "\n",
    "        while True:\n",
    "            cnt = fp.readline().strip()\n",
    "            if cnt.isdigit():\n",
    "                cnt = int(cnt)\n",
    "                break\n",
    "\n",
    "        for i in range(cnt):\n",
    "            age = fp.readline().strip()\n",
    "            city = fp.readline().strip()\n",
    "            gender = prob_age(dfg,age)\n",
    "            cust = round(float(dfc[ dfc['City_Category'] == city ]['cnt'].to_string(index=False).strip()),4)\n",
    "            out_file = \"output/output_predict_5\"+str(i+1)+\".csv\"\n",
    "            try:\n",
    "                f = open(out_file, 'w')\n",
    "                f.write(gender+\"\\n\")\n",
    "                f.write(str(cust))\n",
    "            finally:\n",
    "                f.close()\n",
    "\n",
    "    finally:\n",
    "        fp.close()\n",
    "\n",
    "        \n",
    "solution5()"
   ]
  },
  {
   "cell_type": "code",
   "execution_count": null,
   "metadata": {},
   "outputs": [],
   "source": []
  }
 ],
 "metadata": {
  "kernelspec": {
   "display_name": "Python 3",
   "language": "python",
   "name": "python3"
  },
  "language_info": {
   "codemirror_mode": {
    "name": "ipython",
    "version": 3
   },
   "file_extension": ".py",
   "mimetype": "text/x-python",
   "name": "python",
   "nbconvert_exporter": "python",
   "pygments_lexer": "ipython3",
   "version": "3.7.6"
  }
 },
 "nbformat": 4,
 "nbformat_minor": 4
}
