{
 "cells": [
  {
   "cell_type": "code",
   "execution_count": 1,
   "metadata": {},
   "outputs": [
    {
     "data": {
      "text/plain": [
       "'\\nIQ Data\\n'"
      ]
     },
     "execution_count": 1,
     "metadata": {},
     "output_type": "execute_result"
    }
   ],
   "source": [
    "'''\n",
    "IQ Data - Test Null hypothesis\n",
    "'''"
   ]
  },
  {
   "cell_type": "code",
   "execution_count": 3,
   "metadata": {},
   "outputs": [],
   "source": [
    "import pandas as pd\n",
    "import numpy as np\n",
    "import scipy.stats as st\n",
    "from scipy.stats import ttest_1samp"
   ]
  },
  {
   "cell_type": "code",
   "execution_count": 121,
   "metadata": {},
   "outputs": [
    {
     "name": "stdout",
     "output_type": "stream",
     "text": [
      "110.04\n",
      "20.11\n",
      "86.425\n",
      "Reject\n",
      "68.003\n",
      "Accept\n"
     ]
    }
   ],
   "source": [
    "def solution():\n",
    "    \n",
    "    # Read values from testcase\n",
    "    df = pd.read_csv(\"res/iqdata.csv\",names = ['IQ'])\n",
    "    \n",
    "    #print(df)\n",
    "    cnt = df.count()[0]\n",
    "    mean = round(df.mean().IQ,2)\n",
    "    std = round(df.std().IQ,2)\n",
    "    print(mean)\n",
    "    print(std)\n",
    "    \n",
    "    df2 = pd.read_csv(\"res/testcaseiq.txt\",names = ['TC'])\n",
    "    tc_cnt = int(df2.iloc[0][0])\n",
    "    n = 0\n",
    "    for i in range(0,tc_cnt):\n",
    "        #print(i)\n",
    "        row = i * n\n",
    "        #print(row)\n",
    "        \n",
    "        IQ_L = df2.iloc[row + 1][0]\n",
    "        IQ_U = df2.iloc[row + 2][0]\n",
    "        IQ_F = df2.iloc[row + 3][0]\n",
    "        #print(i,row,IQ_L,IQ_U,IQ_F)\n",
    "        n += 3\n",
    "        '''\n",
    "        #Probability of score smaller than lower score\n",
    "        #print(IQ_L)\n",
    "        cnt_low = df[df.IQ < int(IQ_L)].shape[0]\n",
    "        prob_low = cnt_low / cnt\n",
    "        print(prob_low)\n",
    "    \n",
    "    \n",
    "        #Probability of score smaller than upper value\n",
    "        cnt_upper = df[df.IQ < int(IQ_U)].shape[0]\n",
    "        prob_upper = cnt_upper / cnt\n",
    "        print(prob_upper)\n",
    "        \n",
    "        \n",
    "        \n",
    "        #Probability of score between upper and lower value\n",
    "        cnt_mid = df[ (df.IQ < int(IQ_U)) & (df.IQ > int(IQ_L)) ].shape[0]\n",
    "        #print(cnt_mid)\n",
    "        prob_mid = round((cnt_mid / cnt)*100,2)\n",
    "        print(prob_mid)\n",
    "        \n",
    "        cnt_low_up = round((prob_upper - prob_low)*100,2)\n",
    "        # Calculate percentage of people with IQ in given range\n",
    "        print(\"{:.2f}\".format(cnt_low_up))\n",
    "        \n",
    "        '''\n",
    "        \n",
    "        x = st.norm(loc=mean, scale=std)\n",
    "        up = x.cdf(int(IQ_U))\n",
    "        low = x.cdf(int(IQ_L))\n",
    "        prob_mid = round((up-low)*100,3)\n",
    "        print(prob_mid)\n",
    "        \n",
    "        \n",
    "    \n",
    "        # C. Null hypothesis testing\n",
    "        file = \"res/\"+IQ_F+\".csv\"\n",
    "        #print(file)\n",
    "        df_file = pd.read_csv(file,names = ['IQ2'])\n",
    "        #print(df_file)\n",
    "        \n",
    "        h_test = ttest_1samp(a=df_file, popmean=mean)\n",
    "        #print(h_test)\n",
    "        tr = \"\"\n",
    "        if h_test[1][0] < 0.05:\n",
    "            print(\"Reject\")\n",
    "            tr = \"Reject\"\n",
    "        else:\n",
    "            print(\"Accept\")\n",
    "            tr = \"Accept\"\n",
    "    \n",
    "    \n",
    "        try:\n",
    "            out_file = \"output/output_predict_2_IQ_\" + str(i + 1) + \".csv\"\n",
    "            f = open(out_file, 'w')\n",
    "            #f.write(str(mean) + '\\n' + str(std) + '\\n' + str(prob_mid) + '\\n' + tr)\n",
    "            \n",
    "        finally:\n",
    "            f.close()\n",
    "    \n",
    "    \n",
    "\n",
    "solution()"
   ]
  },
  {
   "cell_type": "code",
   "execution_count": null,
   "metadata": {},
   "outputs": [],
   "source": []
  }
 ],
 "metadata": {
  "kernelspec": {
   "display_name": "Python 3",
   "language": "python",
   "name": "python3"
  },
  "language_info": {
   "codemirror_mode": {
    "name": "ipython",
    "version": 3
   },
   "file_extension": ".py",
   "mimetype": "text/x-python",
   "name": "python",
   "nbconvert_exporter": "python",
   "pygments_lexer": "ipython3",
   "version": "3.7.6"
  }
 },
 "nbformat": 4,
 "nbformat_minor": 4
}
