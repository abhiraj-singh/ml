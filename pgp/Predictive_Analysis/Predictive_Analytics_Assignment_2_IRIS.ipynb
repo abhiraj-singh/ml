{
 "cells": [
  {
   "cell_type": "code",
   "execution_count": 1,
   "metadata": {},
   "outputs": [
    {
     "data": {
      "text/plain": [
       "'\\nIRIS Data set - Logistinc Regression and Cross Validaton score (cross_val_score)\\n'"
      ]
     },
     "execution_count": 1,
     "metadata": {},
     "output_type": "execute_result"
    }
   ],
   "source": [
    "'''\n",
    "IRIS Data set - Logistinc Regression and Cross Validaton score (cross_val_score)\n",
    "'''"
   ]
  },
  {
   "cell_type": "code",
   "execution_count": 8,
   "metadata": {},
   "outputs": [
    {
     "data": {
      "text/plain": [
       "'\\n•Load iris dataset from sklearn.datasets\\nHint: To load the dataset, use:\\nfrom sklearn import datasets\\niris = datasets.load_iris()\\nX = iris.data\\ny = iris.target\\nTo perform logistic regression, use function from sklean.linear_model with default value of parameters\\n•Perform cross validation on this model for the specified X & y values with cv as 5 and scoring as accuracy. \\n•Hint: Use function cross_val_score)\\n•This generates accuracy scores, one for each iteration of the 5 iterations performed\\n•Print the mean accuracy score rounded to 2 decimal places as:\\n•Example:\\n0.45\\n\\n'"
      ]
     },
     "execution_count": 8,
     "metadata": {},
     "output_type": "execute_result"
    }
   ],
   "source": [
    "# Perform logistic regression on iris dataset \n",
    "\n",
    "\"\"\"\n",
    "•Load iris dataset from sklearn.datasets\n",
    "Hint: To load the dataset, use:\n",
    "from sklearn import datasets\n",
    "iris = datasets.load_iris()\n",
    "X = iris.data\n",
    "y = iris.target\n",
    "To perform logistic regression, use function from sklean.linear_model with default value of parameters\n",
    "•Perform cross validation on this model for the specified X & y values with cv as 5 and scoring as accuracy. \n",
    "•Hint: Use function cross_val_score)\n",
    "•This generates accuracy scores, one for each iteration of the 5 iterations performed\n",
    "•Print the mean accuracy score rounded to 2 decimal places as:\n",
    "•Example:\n",
    "0.45\n",
    "\n",
    "\"\"\""
   ]
  },
  {
   "cell_type": "code",
   "execution_count": 23,
   "metadata": {},
   "outputs": [],
   "source": [
    "import numpy as np\n",
    "from sklearn import datasets\n",
    "from sklearn.linear_model import LogisticRegression\n",
    "from sklearn.model_selection import cross_val_score"
   ]
  },
  {
   "cell_type": "code",
   "execution_count": 28,
   "metadata": {},
   "outputs": [
    {
     "name": "stdout",
     "output_type": "stream",
     "text": [
      "[1.         0.96666667 0.93333333 0.9        1.        ]\n",
      "0.96\n"
     ]
    }
   ],
   "source": [
    "def solution():\n",
    "    iris = datasets.load_iris()\n",
    "    X = iris.data\n",
    "    y = iris.target\n",
    "\n",
    "    logr = LogisticRegression(solver='liblinear',multi_class='auto')\n",
    "    val_score = cross_val_score(logr, X, y, cv = 5, scoring = 'accuracy')\n",
    "    print(val_score)\n",
    "    val_score = round(val_score.mean(),2)\n",
    "    print(val_score)\n",
    "\n",
    "    try:\n",
    "        f = open('output/output_predict_2_IRIS.csv', 'w')\n",
    "        f.write(str(val_score))\n",
    "        \n",
    "    finally:\n",
    "        f.close()\n",
    "solution()"
   ]
  },
  {
   "cell_type": "code",
   "execution_count": null,
   "metadata": {},
   "outputs": [],
   "source": []
  }
 ],
 "metadata": {
  "kernelspec": {
   "display_name": "Python 3",
   "language": "python",
   "name": "python3"
  },
  "language_info": {
   "codemirror_mode": {
    "name": "ipython",
    "version": 3
   },
   "file_extension": ".py",
   "mimetype": "text/x-python",
   "name": "python",
   "nbconvert_exporter": "python",
   "pygments_lexer": "ipython3",
   "version": "3.7.6"
  }
 },
 "nbformat": 4,
 "nbformat_minor": 4
}
