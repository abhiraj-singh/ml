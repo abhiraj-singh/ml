{
 "cells": [
  {
   "cell_type": "code",
   "execution_count": 1,
   "metadata": {},
   "outputs": [
    {
     "data": {
      "text/plain": [
       "'\\nCars data - 10 fold ross validation of ridge regression and lasso regression\\n'"
      ]
     },
     "execution_count": 1,
     "metadata": {},
     "output_type": "execute_result"
    }
   ],
   "source": [
    "'''\n",
    "Cars data - 10 fold ross validation of ridge regression and lasso regression\n",
    "'''"
   ]
  },
  {
   "cell_type": "code",
   "execution_count": 23,
   "metadata": {},
   "outputs": [
    {
     "data": {
      "text/plain": [
       "'\\nimport pandas as pd\\nimport numpy as np\\nfrom sklearn import model_selection\\nfrom sklearn.linear_model import LinearRegression\\nfrom sklearn.linear_model import Ridge\\nfrom sklearn.linear_model import Lasso\\nfrom sklearn.linear_model import ElasticNet\\nfrom sklearn.neighbors import KNeighborsRegressor\\nfrom sklearn.tree import DecisionTreeRegressor\\nfrom sklearn.svm import SVR\\nfrom sklearn.ensemble import RandomForestRegressor\\nfrom sklearn.metrics import r2_score\\nfrom sklearn.model_selection import train_test_split\\nfrom sklearn.metrics import mean_squared_error\\nfrom math import sqrt\\n\\nhttps://www.pluralsight.com/guides/linear-lasso-ridge-regression-scikit-learn\\n\\n'"
      ]
     },
     "execution_count": 23,
     "metadata": {},
     "output_type": "execute_result"
    }
   ],
   "source": [
    "'''\n",
    "import pandas as pd\n",
    "import numpy as np\n",
    "from sklearn import model_selection\n",
    "from sklearn.linear_model import LinearRegression\n",
    "from sklearn.linear_model import Ridge\n",
    "from sklearn.linear_model import Lasso\n",
    "from sklearn.linear_model import ElasticNet\n",
    "from sklearn.neighbors import KNeighborsRegressor\n",
    "from sklearn.tree import DecisionTreeRegressor\n",
    "from sklearn.svm import SVR\n",
    "from sklearn.ensemble import RandomForestRegressor\n",
    "from sklearn.metrics import r2_score\n",
    "from sklearn.model_selection import train_test_split\n",
    "from sklearn.metrics import mean_squared_error\n",
    "from math import sqrt\n",
    "from sklearn.model_selection import cross_val_score\n",
    "\n",
    "https://www.pluralsight.com/guides/linear-lasso-ridge-regression-scikit-learn\n",
    "\n",
    "'''"
   ]
  },
  {
   "cell_type": "code",
   "execution_count": 1,
   "metadata": {},
   "outputs": [],
   "source": [
    "import pandas as pd\n",
    "import numpy as np\n",
    "from sklearn.linear_model import Ridge\n",
    "from sklearn.linear_model import Lasso\n",
    "from sklearn import model_selection\n",
    "from sklearn.model_selection import train_test_split\n",
    "from sklearn.metrics import mean_squared_error\n",
    "from sklearn.metrics import r2_score\n",
    "from sklearn.model_selection import cross_val_score\n"
   ]
  },
  {
   "cell_type": "code",
   "execution_count": 4,
   "metadata": {},
   "outputs": [
    {
     "name": "stdout",
     "output_type": "stream",
     "text": [
      "3.179597154661738\n",
      "13.830561086595884\n",
      "-10.65\n"
     ]
    },
    {
     "name": "stderr",
     "output_type": "stream",
     "text": [
      "/opt/anaconda3/lib/python3.7/site-packages/sklearn/linear_model/_coordinate_descent.py:531: ConvergenceWarning: Objective did not converge. You might want to increase the number of iterations. Duality gap: 0.0, tolerance: 0.0\n",
      "  positive)\n"
     ]
    }
   ],
   "source": [
    "def solution():\n",
    "    df = pd.read_csv(\"res/mtcars.csv\")\n",
    "    #print(df)\n",
    "    #print(df.shape)\n",
    "    #print(df.describe())\n",
    "    target_column = ['mpg']  #Column to be predicted\n",
    "    predictors = list(set(list(df.columns))- set(target_column))  # creating the list of columns\n",
    "    predictors.remove('model') # removing 'model from the list of columns'\n",
    "    #df[predictors] = df[predictors]/df[predictors].max()   # Normalising the data\n",
    "    #df[target_column] = df[target_column]/df[target_column].max()   # Normalising the data\n",
    "    #print(df.describe())\n",
    "    \n",
    "    X = df[predictors].values\n",
    "    y = df[target_column].values\n",
    "    \n",
    "    #Splitting the data in training and testing\n",
    "    X_train, X_test, y_train, y_test = train_test_split(X, y, train_size=1, random_state=40 )\n",
    "    #print(X_train.shape)\n",
    "    #print(X_test.shape)\n",
    "    \n",
    "    rr = Ridge(alpha=1.0)\n",
    "    rr.fit(X_train, y_train) \n",
    "    pred_train_rr= rr.predict(X_train)\n",
    "    #print(np.sqrt(mean_squared_error(y_train,pred_train_rr)))\n",
    "    #print(r2_score(y_train, pred_train_rr))\n",
    "\n",
    "    pred_test_rr= rr.predict(X_test)\n",
    "    #print(np.sqrt(mean_squared_error(y_test,pred_test_rr))) \n",
    "    #print(r2_score(y_test, pred_test_rr))\n",
    "    \n",
    "    scores_rr = cross_val_score(rr, X, y, cv=10)\n",
    "    # force scores to be positive\n",
    "    mean_score_rr = np.absolute(np.mean(scores_rr))\n",
    "    print(mean_score_rr)\n",
    "    \n",
    "    X_train, X_test, y_train, y_test = train_test_split(X, y, train_size=1, random_state=40 )\n",
    "    \n",
    "    model_lasso = Lasso(alpha=1.0)\n",
    "    model_lasso.fit(X_train, y_train) \n",
    "    pred_train_lasso= model_lasso.predict(X_train)\n",
    "    #print(np.sqrt(mean_squared_error(y_train,pred_train_lasso)))\n",
    "    #print(r2_score(y_train, pred_train_lasso))\n",
    "\n",
    "    pred_test_lasso= model_lasso.predict(X_test)\n",
    "    #print(np.sqrt(mean_squared_error(y_test,pred_test_lasso))) \n",
    "    #print(r2_score(y_test, pred_test_lasso))\n",
    "    \n",
    "    scores_ls = cross_val_score(model_lasso, X, y, cv=10)\n",
    "    # force scores to be positive\n",
    "    mean_score_ls = np.absolute(np.mean(scores_ls))\n",
    "    print(mean_score_ls)\n",
    "    \n",
    "    diff_score = mean_score_rr - mean_score_ls\n",
    "    \n",
    "    print(round(diff_score,2))\n",
    "    \n",
    "    try:\n",
    "        f = open('output/output_predict_2.txt', 'w')\n",
    "        f.write(str(round(diff_score,2)))\n",
    "        \n",
    "    finally:\n",
    "        f.close()\n",
    "\n",
    "\n",
    "solution()"
   ]
  },
  {
   "cell_type": "code",
   "execution_count": null,
   "metadata": {},
   "outputs": [],
   "source": []
  }
 ],
 "metadata": {
  "kernelspec": {
   "display_name": "Python 3",
   "language": "python",
   "name": "python3"
  },
  "language_info": {
   "codemirror_mode": {
    "name": "ipython",
    "version": 3
   },
   "file_extension": ".py",
   "mimetype": "text/x-python",
   "name": "python",
   "nbconvert_exporter": "python",
   "pygments_lexer": "ipython3",
   "version": "3.7.6"
  }
 },
 "nbformat": 4,
 "nbformat_minor": 4
}
