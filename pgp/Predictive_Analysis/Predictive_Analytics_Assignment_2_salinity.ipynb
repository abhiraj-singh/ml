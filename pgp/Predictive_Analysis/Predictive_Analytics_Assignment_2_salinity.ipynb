{
 "cells": [
  {
   "cell_type": "code",
   "execution_count": 1,
   "metadata": {},
   "outputs": [
    {
     "data": {
      "text/plain": [
       "'\\nSalinity - Linear Regression , Mean Sq Error (MSE), R2 score, cross validation using K-fold\\n'"
      ]
     },
     "execution_count": 1,
     "metadata": {},
     "output_type": "execute_result"
    }
   ],
   "source": [
    "'''\n",
    "Salinity - Linear Regression , Mean Sq Error (MSE), R2 score, cross validation using K-fold\n",
    "'''"
   ]
  },
  {
   "cell_type": "code",
   "execution_count": 3,
   "metadata": {},
   "outputs": [
    {
     "data": {
      "text/plain": [
       "'\\nimport pandas as pd\\nimport numpy as np\\nfrom sklearn import model_selection\\nfrom sklearn.linear_model import LinearRegression\\nfrom sklearn.linear_model import Ridge\\nfrom sklearn.linear_model import Lasso\\nfrom sklearn.linear_model import ElasticNet\\nfrom sklearn.neighbors import KNeighborsRegressor\\nfrom sklearn.tree import DecisionTreeRegressor\\nfrom sklearn.svm import SVR\\nfrom sklearn.ensemble import RandomForestRegressor\\nfrom sklearn.metrics import r2_score\\nfrom sklearn.model_selection import train_test_split\\nfrom sklearn.metrics import mean_squared_error\\nfrom math import sqrt\\nfrom sklearn.model_selection import cross_val_score\\n\\nhttps://www.pluralsight.com/guides/linear-lasso-ridge-regression-scikit-learn\\n\\n'"
      ]
     },
     "execution_count": 3,
     "metadata": {},
     "output_type": "execute_result"
    }
   ],
   "source": [
    "'''\n",
    "import pandas as pd\n",
    "import numpy as np\n",
    "from sklearn import model_selection\n",
    "from sklearn.linear_model import LinearRegression\n",
    "from sklearn.linear_model import Ridge\n",
    "from sklearn.linear_model import Lasso\n",
    "from sklearn.linear_model import ElasticNet\n",
    "from sklearn.neighbors import KNeighborsRegressor\n",
    "from sklearn.tree import DecisionTreeRegressor\n",
    "from sklearn.svm import SVR\n",
    "from sklearn.ensemble import RandomForestRegressor\n",
    "from sklearn.metrics import r2_score\n",
    "from sklearn.model_selection import train_test_split\n",
    "from sklearn.metrics import mean_squared_error\n",
    "from math import sqrt\n",
    "from sklearn.model_selection import cross_val_score\n",
    "\n",
    "https://www.pluralsight.com/guides/linear-lasso-ridge-regression-scikit-learn\n",
    "\n",
    "'''"
   ]
  },
  {
   "cell_type": "code",
   "execution_count": 142,
   "metadata": {},
   "outputs": [],
   "source": [
    "import pandas as pd\n",
    "import numpy as np\n",
    "from sklearn.model_selection import train_test_split\n",
    "from sklearn.metrics import r2_score\n",
    "from sklearn.metrics import mean_squared_error\n",
    "from sklearn.linear_model import LinearRegression\n",
    "from sklearn.model_selection import cross_validate\n",
    "from sklearn.model_selection import cross_val_score\n",
    "from sklearn.model_selection import KFold\n",
    "from math import sqrt\n",
    "import sys\n",
    "sys.path.append('../')"
   ]
  },
  {
   "cell_type": "code",
   "execution_count": 169,
   "metadata": {},
   "outputs": [
    {
     "name": "stdout",
     "output_type": "stream",
     "text": [
      "700\n",
      "300\n",
      "[[-4.957]]\n",
      "[176.468]\n",
      "11.685\n",
      "0.305\n",
      "3.272\n"
     ]
    }
   ],
   "source": [
    "def solution():\n",
    "    op1 = []\n",
    "    op2 = []\n",
    "    \"\"\"\n",
    "    I.Load 1000 rows from the dataset from the file bottle.csv.\n",
    "    \"\"\"\n",
    "    df = pd.read_csv(\"res/bottle.csv\")\n",
    "    col = ['T_degC','Salnty']   # creating list of column required for Linear Regression\n",
    "    df = df[col][:1000]      # Creating dataframe from required column\n",
    "    #print(df)        # Viewing the dataframe\n",
    "    #print(df.shape)  # Shape of dataframe\n",
    "    #print(df.describe())  #describing the dataframe\n",
    "    \n",
    "    # Handle null values\n",
    "    #getting mean of values\n",
    "    mean_deg = df.T_degC.mean()\n",
    "    mean_sal = df.Salnty.mean()\n",
    "    #print(mean_deg,mean_sal)\n",
    "    \n",
    "    #replacing null with mean\n",
    "    df.T_degC.fillna(value=mean_deg,inplace=True)\n",
    "    df.Salnty.fillna(value=mean_sal,inplace=True)\n",
    "    #print(df.describe())\n",
    "   \n",
    "    \"\"\"\n",
    "    Replace the null values with their respective means.\n",
    "    \"\"\"\n",
    "    target_column = ['T_degC']    #column to be predicted\n",
    "    predictors = list(set(col)- set(target_column))    #Coulmns used to derive relationship\n",
    "    \n",
    "    X = df[predictors]\n",
    "    y = df[target_column]\n",
    "    \n",
    "     # I. Split dataset into train & test with 30% for test\n",
    "        \n",
    "    #Splitting the data in training and testing\n",
    "    X_train, X_test, y_train, y_test = train_test_split(X, y, test_size=0.3, random_state=1)\n",
    "   \n",
    "    \"\"\"\n",
    "    •Print the shape of the train and test datasets\n",
    "    •Example:\n",
    "    (500, 2)\n",
    "    (400, 2)\n",
    "    •Hint: Use function from sklearn library\n",
    "   \n",
    "    \"\"\"\n",
    "    \n",
    "    #Getting the shape of data\n",
    "    print(X_train.shape[0])\n",
    "    print(X_test.shape[0])\n",
    "    \n",
    "    op1.append(str(X_train.shape[0]))\n",
    "    op1.append(str(X_test.shape[0]))\n",
    "    \n",
    "    \n",
    "    # II. Perform simple linear regression\n",
    "   \n",
    "    \"\"\"\n",
    "    •Calculate and display the coefficient & intercept of the simple linear regression model created using the training data.\n",
    "    Display the values in the below format with values rounded to 3 decimal places.\n",
    "    •Example:\n",
    "    [[1.234]]\n",
    "    [100.567]\n",
    "    •Hint: Use function from sklearn library. Employ the metrics to calculate Mean squared Error and R2 score. These values will be used in the subsequent questions.\n",
    "   \n",
    "    \"\"\"\n",
    "    #using simple linear regression model\n",
    "    lm = LinearRegression()\n",
    "    model = lm.fit(X_train,y_train)    # Fitting the model\n",
    "    print(np.round(model.coef_,3))     # Coefficient after fitting the model\n",
    "    print(np.round(model.intercept_,3))  # intercept after fitting the model\n",
    "    \n",
    "    op1.append(np.array_str(np.round(model.coef_,3)))\n",
    "    op1.append(np.array_str(np.round(model.intercept_,3)))\n",
    "    #print(op1)\n",
    "    \n",
    "    #predictions = model.predict(X_train)  # predicting the data\n",
    "    \n",
    "    #mse = np.round(mean_squared_error(y_train, predictions),3)\n",
    "    #print(mse)\n",
    "    \n",
    "    #r_score = np.round(r2_score(y_train, predictions),3)\n",
    "    #print(r_score)\n",
    "\n",
    "    \n",
    "    # III. Predict on test & measure accuracy\n",
    "    \"\"\"\n",
    "    •Using the linear regression model created in IV above, measure-\n",
    "    •Error using MSE\n",
    "    •Variance using R2 score\n",
    "    •Print these values rounded to 3 decimal places as:\n",
    "    •Example:\n",
    "    1.234\n",
    "    0.123\n",
    "   \n",
    "    \"\"\"\n",
    "    \n",
    "    y_pred = model.predict(X_test)  # predicting the data\n",
    "    \n",
    "    mse = np.round(mean_squared_error(y_test, y_pred),3)\n",
    "    op2.append(mse)\n",
    "    print(mse)\n",
    "    \n",
    "    r_score = np.round(r2_score(y_test, y_pred),3)\n",
    "    op2.append(r_score)\n",
    "    print(r_score)\n",
    "    \n",
    "    \n",
    "    # IV. Perform cross validation\n",
    "    \"\"\"\n",
    "    •Hint: Use method cross_validate\n",
    "    •Use number of folds equal to 5.\n",
    "    •Generate RMSE scores, 1 for each of the 5 iterations and calculate its mean.\n",
    "    •Display the value of its mean RMSE score rounded to 3 decimal places as:\n",
    "    •Example:\n",
    "    1.234\n",
    "   \n",
    "    \"\"\"\n",
    "    \n",
    "    k = 5\n",
    "    kf = KFold(n_splits=k, shuffle = True, random_state=5)\n",
    "    \n",
    "    scores = cross_validate(LinearRegression(), X,y, cv=kf, scoring='neg_mean_squared_error',return_train_score=False)\n",
    "    #print(scores['test_score'])\n",
    "    mean_test_score = abs(scores['test_score'].mean())\n",
    "    rmse_req = round(np.sqrt(mean_test_score),3)\n",
    "    print(rmse_req)\n",
    "    op2.append(rmse_req)\n",
    "    #print(op2)\n",
    "    \n",
    "    \n",
    "    try:\n",
    "        f1 = open('output/output_predict_2_salinity_1.csv', 'w')\n",
    "        for i in op1:\n",
    "            f1.write(i + '\\n')\n",
    "        \n",
    "        f2 = open('output/output_predict_2_salinity_2.csv', 'w')\n",
    "        for i in op2:\n",
    "            f2.write(str(i) + '\\n')\n",
    "        \n",
    "    finally:\n",
    "        f1.close()\n",
    "        f2.close()\n",
    "\n",
    "    \n",
    "    \n",
    "solution()"
   ]
  },
  {
   "cell_type": "code",
   "execution_count": 154,
   "metadata": {},
   "outputs": [
    {
     "data": {
      "text/plain": [
       "'\\n700\\n300\\n[[-4.957]]\\n[176.468]\\n11.685\\n0.305\\n-3.271\\n'"
      ]
     },
     "execution_count": 154,
     "metadata": {},
     "output_type": "execute_result"
    }
   ],
   "source": [
    "'''\n",
    "700\n",
    "300\n",
    "[[-4.957]]\n",
    "[176.468]\n",
    "11.685\n",
    "0.305\n",
    "-3.271\n",
    "'''"
   ]
  }
 ],
 "metadata": {
  "kernelspec": {
   "display_name": "Python 3",
   "language": "python",
   "name": "python3"
  },
  "language_info": {
   "codemirror_mode": {
    "name": "ipython",
    "version": 3
   },
   "file_extension": ".py",
   "mimetype": "text/x-python",
   "name": "python",
   "nbconvert_exporter": "python",
   "pygments_lexer": "ipython3",
   "version": "3.7.6"
  }
 },
 "nbformat": 4,
 "nbformat_minor": 4
}
