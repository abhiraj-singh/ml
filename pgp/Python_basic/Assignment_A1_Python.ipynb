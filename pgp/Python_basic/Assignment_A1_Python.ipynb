{
 "cells": [
  {
   "cell_type": "code",
   "execution_count": 2,
   "metadata": {},
   "outputs": [
    {
     "name": "stdout",
     "output_type": "stream",
     "text": [
      "5\n",
      "1\n",
      "2\n",
      "3\n",
      "4\n",
      "5\n",
      "[120, 60, 40, 30, 24]\n"
     ]
    }
   ],
   "source": [
    "# Product Exclusion\n",
    "## Writing the function to get values and perform calculation\n",
    "\n",
    "def product_exclude():\n",
    "\n",
    "    arr = []\n",
    "    arr2 = []\n",
    "    product = 1\n",
    "    check = True\n",
    "    while check:\n",
    "        v_in_cnt = input()\n",
    "        if v_in_cnt.isdigit():\n",
    "            v_in_cnt = int(v_in_cnt)\n",
    "            check = False\n",
    "        else:\n",
    "            print(\"Enter a valid number again\")\n",
    "    \n",
    "    for i in range(v_in_cnt):\n",
    "        v_in_num = int(input())\n",
    "        arr.append(v_in_num)\n",
    "        #print(v_in_num)\n",
    "        \n",
    "    #print(arr)\n",
    "    \n",
    "    ## Multiply the value\n",
    "    for n in arr:\n",
    "        product = product * n\n",
    "    #print(product)\n",
    "    \n",
    "    ## Exclusion Logic in List\n",
    "    \n",
    "    for i in range(v_in_cnt):\n",
    "        arr2.append(int((product / arr[i])))\n",
    "\n",
    "    print(arr2)\n",
    "    \n",
    "## Running the function\n",
    "product_exclude()"
   ]
  },
  {
   "cell_type": "code",
   "execution_count": 7,
   "metadata": {},
   "outputs": [
    {
     "name": "stdout",
     "output_type": "stream",
     "text": [
      "3\n",
      "2\n",
      "wednesday\n",
      "5\n",
      "saturday\n",
      "7\n",
      "Day out of range of [0-6]\n"
     ]
    }
   ],
   "source": [
    "# Numbering Weekdays\n",
    "## Writing the function to get perform calculation\n",
    "\n",
    "\n",
    "def num_weekdays():\n",
    "\n",
    "    weekdays = {0:'monday',1:'tuesday',2:'wednesday',3:'thursday',4:'friday',5:'saturday',6:'sunday'}\n",
    "    check = True\n",
    "    while check:\n",
    "        v_in_cnt = input()\n",
    "        if v_in_cnt.isdigit():\n",
    "            if 1 <= int(v_in_cnt) <= 7:\n",
    "                v_in_cnt = int(v_in_cnt)\n",
    "                check = False\n",
    "            else:\n",
    "                print(\"Enter a number in range 1 to 7\")\n",
    "            \n",
    "        else:\n",
    "            print(\"Enter a valid number again\")\n",
    "    \n",
    "    for i in range(v_in_cnt):\n",
    "        \n",
    "        v_in_day = int(input())\n",
    "        if 0 <= v_in_day < 7:\n",
    "            print(weekdays[v_in_day])\n",
    "        else:\n",
    "            print(\"Day out of range of [0-6]\")\n",
    "        \n",
    "    \n",
    "    \n",
    "num_weekdays()"
   ]
  },
  {
   "cell_type": "code",
   "execution_count": 9,
   "metadata": {},
   "outputs": [
    {
     "name": "stdout",
     "output_type": "stream",
     "text": [
      "3\n",
      "abhi\n",
      "ac\n",
      "access\n",
      "abhi\n",
      "access\n"
     ]
    }
   ],
   "source": [
    "# Filter Word\n",
    "## Writing the function to get perform calculation\n",
    "\n",
    "\n",
    "def word_filter():\n",
    "    \n",
    "    word_list=[]\n",
    "    check = True\n",
    "    while check:\n",
    "        v_in_cnt = input()\n",
    "        if v_in_cnt.isdigit():\n",
    "            v_in_cnt = int(v_in_cnt)\n",
    "            check = False\n",
    "        else:\n",
    "            print(\"Enter a valid number again\")\n",
    "    \n",
    "    for i in range(v_in_cnt):\n",
    "        word_list.append(input())\n",
    "        \n",
    "    for w in word_list:\n",
    "        if len(w) > v_in_cnt:\n",
    "            print(w)\n",
    "    \n",
    "word_filter()"
   ]
  },
  {
   "cell_type": "code",
   "execution_count": 35,
   "metadata": {},
   "outputs": [
    {
     "name": "stdout",
     "output_type": "stream",
     "text": [
      "3\n",
      "1 9\n",
      "Difference Not in Range\n",
      "22 31\n",
      "[22, 23, 24, 25, 26, 27, 28, 29, 30, 31]\n",
      "90 103\n",
      "Out of Range\n"
     ]
    }
   ],
   "source": [
    "# Numbered List\n",
    "## Writing the function to get perform calculation\n",
    "\n",
    "\n",
    "def numbered_list():\n",
    "    \n",
    "    ## Getting input ot perform number of tests and validating the input\n",
    "    check = True\n",
    "    while check:\n",
    "        v_in_cnt = input()\n",
    "        if v_in_cnt.isdigit():\n",
    "            v_in_cnt = int(v_in_cnt)\n",
    "            check = False\n",
    "        else:\n",
    "            print(\"Enter a valid number again\")\n",
    "    \n",
    "    ## Performing task\n",
    "    for i in range(v_in_cnt):\n",
    "        in_num = input()\n",
    "        num = in_num.split()\n",
    "        diff = int(num[1]) - int(num[0]) + 1\n",
    "        if int(num[0]) < 1 or int(num[1]) > 100:\n",
    "            print(\"Out of Range\")\n",
    "        elif diff != 10:\n",
    "            print(\"Difference Not in Range\")\n",
    "        elif diff == 10:\n",
    "            print(list(range(int(num[0]),(int(num[1]) + 1))))\n",
    "        \n",
    "        del num\n",
    "\n",
    "#Running Function\n",
    "numbered_list()\n",
    "\n",
    "# INPUT\n",
    "# 3\n",
    "# 1 9\n",
    "# 22 31\n",
    "# 90 103"
   ]
  },
  {
   "cell_type": "code",
   "execution_count": 1,
   "metadata": {},
   "outputs": [
    {
     "name": "stdout",
     "output_type": "stream",
     "text": [
      "2\n",
      "3\n",
      "4\n",
      "2417851639229258349412352\n",
      "8\n",
      "2\n",
      "0\n"
     ]
    }
   ],
   "source": [
    "# Power Calculation\n",
    "\n",
    "class Power:\n",
    "\tdef __init__(self,a=None,b=None,c=None):\n",
    "\t# Write code here to initialize variables inside the class\t\n",
    "\t\tself.a = a\n",
    "\t\tself.b = b\n",
    "\t\tself.c = c\n",
    "\n",
    "\tdef find_power(self):\n",
    "         # Write code here\n",
    "\t\tif self.a != None and self.b != None and self.c != None:\n",
    "\t\t\treturn a ** (b ** c)\n",
    "\t\telif  self.a != None and self.b != None and self.c == None:\n",
    "\t\t\treturn (a ** b)\n",
    "\t\telif  self.a != None and self.b == None and self.c == None:\n",
    "\t\t\treturn a\n",
    "\t\telif  self.a == None and self.b == None and self.c == None:\n",
    "\t\t\treturn 0\n",
    "\t\t\n",
    "\n",
    "# Take input\n",
    "a = int(input())\n",
    "b = int(input())\n",
    "c = int(input())\n",
    "\n",
    "# Create objects\n",
    "obj0 = Power(a,b,c)\n",
    "obj1 = Power(a,b)\n",
    "obj2 = Power(a)\n",
    "obj3 = Power()\n",
    "print(obj0.find_power()) \n",
    "print(obj1.find_power()) \n",
    "print(obj2.find_power()) \n",
    "print(obj3.find_power())\n",
    "\n",
    "## INPUT \n",
    "# 2\n",
    "# 3\n",
    "# 4"
   ]
  },
  {
   "cell_type": "code",
   "execution_count": 15,
   "metadata": {},
   "outputs": [
    {
     "name": "stdout",
     "output_type": "stream",
     "text": [
      "4,3,2\n",
      "3,5,6\n",
      "[4, 3, 2, 3, 5, 6]\n",
      "[4, 2]\n",
      "4\n",
      "[2, 3, 4]\n"
     ]
    }
   ],
   "source": [
    "# List Utils\n",
    "\n",
    "def add_list(list_a,list_b):\n",
    "     # Complete the function\n",
    "     return (list_a + list_b)\n",
    "\n",
    "\n",
    "def sub_list(list_a,list_b):\n",
    "     # Complete the function\n",
    "     list_diff = []\n",
    "     for l in list_a:\n",
    "          if l not in list_b:\n",
    "               list_diff.append(l)\n",
    "     return list_diff\n",
    "\n",
    "def max_list(list_a):\n",
    "     # Complete the function\n",
    "     return max(list_a)\n",
    "\n",
    "def sort_list(list_a):\n",
    "     # Complete the function\n",
    "     list_a.sort()\n",
    "     return list_a\n",
    "\n",
    "if __name__ == '__main__':\n",
    "    list_a = list(map(int,input().strip().split(',')))\n",
    "    list_b = list(map(int,input().strip().split(',')))\n",
    "    print(add_list(list_a,list_b))\n",
    "    print(sub_list(list_a,list_b))\n",
    "    print(max_list(list_a))\n",
    "    print(sort_list(list_a))\n",
    "    \n",
    "## INPUT\n",
    "## list_a = [4,3,2]\n",
    "## list_b = [3,5,6]"
   ]
  },
  {
   "cell_type": "code",
   "execution_count": 16,
   "metadata": {},
   "outputs": [
    {
     "name": "stdout",
     "output_type": "stream",
     "text": [
      "4\n",
      "1\n",
      "2\n",
      "3\n",
      "4\n",
      "10\n",
      "24\n"
     ]
    }
   ],
   "source": [
    "# Product and Sum\n",
    "\n",
    "def prod_sum():\n",
    "    arr = []\n",
    "    v_product = 1\n",
    "    v_sum = 0\n",
    "    check = True\n",
    "    while check:\n",
    "        v_in_cnt = input()\n",
    "        if v_in_cnt.isdigit():\n",
    "            v_in_cnt = int(v_in_cnt)\n",
    "            check = False\n",
    "        else:\n",
    "            print(\"Enter a valid number again\")\n",
    "    \n",
    "    for i in range(v_in_cnt):\n",
    "        v_in_num = int(input())\n",
    "        arr.append(v_in_num)\n",
    "    \n",
    "    for i in arr:\n",
    "        v_sum += i\n",
    "        v_product *= i\n",
    "    \n",
    "    print(v_sum)\n",
    "    print(v_product)\n",
    "    \n",
    "    \n",
    "#Running Function\n",
    "\n",
    "prod_sum()\n"
   ]
  },
  {
   "cell_type": "code",
   "execution_count": 23,
   "metadata": {},
   "outputs": [
    {
     "name": "stdout",
     "output_type": "stream",
     "text": [
      "2\n",
      "2\n",
      "abc\n",
      "Dan Brown\n",
      "Dan Brown\n",
      "Dan Brown\n",
      "1\n",
      "2\n"
     ]
    }
   ],
   "source": [
    "# Dan Brown counting the number of instance\n",
    "\n",
    "def dan_brown():\n",
    "    arr = []\n",
    "    auth_check = 'Dan Brown'\n",
    "    check = True\n",
    "    while check:\n",
    "        v_in_cnt = input()\n",
    "        if v_in_cnt.isdigit():\n",
    "            if 1 <= int(v_in_cnt) <=10:\n",
    "                v_in_cnt = int(v_in_cnt)\n",
    "                \n",
    "                v_in_test = input()\n",
    "                if v_in_test.isdigit():\n",
    "                    if 1 <= int(v_in_test) <=10:\n",
    "                        v_in_test = int(v_in_test)\n",
    "                        check = False\n",
    "            \n",
    "        else:\n",
    "            print(\"Enter a valid number again\")\n",
    "    \n",
    "    for i in range(v_in_cnt):\n",
    "        arr_in = []\n",
    "        for a in range(v_in_test):\n",
    "            v_in_num = input()\n",
    "            arr_in.append(v_in_num)\n",
    "        arr.append(arr_in)\n",
    "\n",
    "    \n",
    "    for auth in arr:\n",
    "        print(auth.count(auth_check))\n",
    "        \n",
    "        \n",
    "\n",
    "        \n",
    "#Running Function\n",
    "dan_brown()\n",
    "\n",
    "\n",
    "## INPUT\n",
    "# 2\n",
    "# 3\n",
    "# abc\n",
    "# Dan Brown\n",
    "# Tim\n",
    "# Rutherford\n",
    "# Dan Brown\n",
    "# Dan Brown"
   ]
  },
  {
   "cell_type": "code",
   "execution_count": 25,
   "metadata": {},
   "outputs": [
    {
     "name": "stdout",
     "output_type": "stream",
     "text": [
      "5\n",
      "X\n",
      "XXXXX\n"
     ]
    }
   ],
   "source": [
    "#Times N \n",
    "\n",
    "def times_n():\n",
    "    check = True\n",
    "    while check:\n",
    "        v_in_cnt = input()\n",
    "        if v_in_cnt.isdigit():\n",
    "            v_in_cnt = int(v_in_cnt)\n",
    "            v_print_char = input()\n",
    "            check = False\n",
    "        else:\n",
    "            print(\"Enter a valid number again\")\n",
    "    \n",
    "    print(v_in_cnt * v_print_char)\n",
    "    \n",
    "#Running Function\n",
    "times_n()\n",
    "\n",
    "##INPUT\n",
    "# 5\n",
    "# X"
   ]
  },
  {
   "cell_type": "code",
   "execution_count": 29,
   "metadata": {},
   "outputs": [
    {
     "name": "stdout",
     "output_type": "stream",
     "text": [
      "1\n",
      "1\n",
      "2\n",
      "2\n",
      "3\n",
      "3\n",
      "4\n",
      "4\n",
      "5\n",
      "5\n",
      "6\n",
      "6\n",
      "9\n",
      "9\n",
      "8\n",
      "8\n",
      "10\n",
      "10\n",
      "7\n"
     ]
    }
   ],
   "source": [
    "#Get the Number\n",
    "\n",
    "\n",
    "def get_number():\n",
    "    check = True\n",
    "    while check:\n",
    "        v_in_cnt = int(input())\n",
    "        if v_in_cnt == 7:\n",
    "            check = False\n",
    "        else:\n",
    "                print(v_in_cnt)\n",
    "\n",
    "#Running Function\n",
    "get_number()\n",
    "\n",
    "\n",
    "##INPUTal\n",
    "# 5\n",
    "# X\n"
   ]
  },
  {
   "cell_type": "code",
   "execution_count": 47,
   "metadata": {},
   "outputs": [
    {
     "name": "stdout",
     "output_type": "stream",
     "text": [
      "1\n",
      "abc\n"
     ]
    },
    {
     "ename": "ValueError",
     "evalue": "not enough values to unpack (expected 2, got 1)",
     "output_type": "error",
     "traceback": [
      "\u001b[0;31m---------------------------------------------------------------------------\u001b[0m",
      "\u001b[0;31mValueError\u001b[0m                                Traceback (most recent call last)",
      "\u001b[0;32m<ipython-input-47-97eb9b7439a4>\u001b[0m in \u001b[0;36m<module>\u001b[0;34m\u001b[0m\n\u001b[1;32m     16\u001b[0m \u001b[0;34m\u001b[0m\u001b[0m\n\u001b[1;32m     17\u001b[0m \u001b[0;31m#Running Function\u001b[0m\u001b[0;34m\u001b[0m\u001b[0;34m\u001b[0m\u001b[0;34m\u001b[0m\u001b[0m\n\u001b[0;32m---> 18\u001b[0;31m \u001b[0mphoebe_cookies\u001b[0m\u001b[0;34m(\u001b[0m\u001b[0;34m)\u001b[0m\u001b[0;34m\u001b[0m\u001b[0;34m\u001b[0m\u001b[0m\n\u001b[0m\u001b[1;32m     19\u001b[0m \u001b[0;34m\u001b[0m\u001b[0m\n\u001b[1;32m     20\u001b[0m \u001b[0;34m\u001b[0m\u001b[0m\n",
      "\u001b[0;32m<ipython-input-47-97eb9b7439a4>\u001b[0m in \u001b[0;36mphoebe_cookies\u001b[0;34m()\u001b[0m\n\u001b[1;32m      8\u001b[0m             \u001b[0mv_in_recipe\u001b[0m \u001b[0;34m=\u001b[0m \u001b[0minput\u001b[0m\u001b[0;34m(\u001b[0m\u001b[0;34m)\u001b[0m\u001b[0;34m\u001b[0m\u001b[0;34m\u001b[0m\u001b[0m\n\u001b[1;32m      9\u001b[0m             \u001b[0;32mif\u001b[0m \u001b[0mlen\u001b[0m\u001b[0;34m(\u001b[0m\u001b[0mv_in_recipe\u001b[0m\u001b[0;34m)\u001b[0m \u001b[0;34m<=\u001b[0m \u001b[0;36m1000\u001b[0m\u001b[0;34m:\u001b[0m\u001b[0;34m\u001b[0m\u001b[0;34m\u001b[0m\u001b[0m\n\u001b[0;32m---> 10\u001b[0;31m                 \u001b[0mr1\u001b[0m\u001b[0;34m,\u001b[0m\u001b[0mr2\u001b[0m \u001b[0;34m=\u001b[0m \u001b[0mv_in_recipe\u001b[0m\u001b[0;34m.\u001b[0m\u001b[0msplit\u001b[0m\u001b[0;34m(\u001b[0m\u001b[0;34m)\u001b[0m\u001b[0;34m\u001b[0m\u001b[0;34m\u001b[0m\u001b[0m\n\u001b[0m\u001b[1;32m     11\u001b[0m                 \u001b[0;32mif\u001b[0m \u001b[0msorted\u001b[0m\u001b[0;34m(\u001b[0m\u001b[0mr1\u001b[0m\u001b[0;34m)\u001b[0m \u001b[0;34m==\u001b[0m \u001b[0msorted\u001b[0m\u001b[0;34m(\u001b[0m\u001b[0mr2\u001b[0m\u001b[0;34m)\u001b[0m\u001b[0;34m:\u001b[0m\u001b[0;34m\u001b[0m\u001b[0;34m\u001b[0m\u001b[0m\n\u001b[1;32m     12\u001b[0m                     \u001b[0mprint\u001b[0m\u001b[0;34m(\u001b[0m\u001b[0;34m\"Yes\"\u001b[0m\u001b[0;34m)\u001b[0m\u001b[0;34m\u001b[0m\u001b[0;34m\u001b[0m\u001b[0m\n",
      "\u001b[0;31mValueError\u001b[0m: not enough values to unpack (expected 2, got 1)"
     ]
    }
   ],
   "source": [
    "# Phoebe's Cookies\n",
    "\n",
    "def phoebe_cookies():\n",
    "    v_in_test = int(input())\n",
    "    \n",
    "    if 1 <= v_in_test <= 20:\n",
    "        for i in range(v_in_test):\n",
    "            v_in_recipe = input()\n",
    "            if len(v_in_recipe) <= 1000:\n",
    "                r1,r2 = v_in_recipe.split()\n",
    "                if sorted(r1) == sorted(r2):\n",
    "                    print(\"Yes\")\n",
    "                else:\n",
    "                    print(\"No\")\n",
    "\n",
    "\n",
    "#Running Function\n",
    "phoebe_cookies()\n",
    "\n",
    "\n",
    "##INPUT\n",
    "# 2\n",
    "# abcd frgt\n",
    "# thrs sthr"
   ]
  },
  {
   "cell_type": "code",
   "execution_count": null,
   "metadata": {},
   "outputs": [],
   "source": []
  },
  {
   "cell_type": "code",
   "execution_count": null,
   "metadata": {},
   "outputs": [],
   "source": []
  }
 ],
 "metadata": {
  "kernelspec": {
   "display_name": "Python 3",
   "language": "python",
   "name": "python3"
  },
  "language_info": {
   "codemirror_mode": {
    "name": "ipython",
    "version": 3
   },
   "file_extension": ".py",
   "mimetype": "text/x-python",
   "name": "python",
   "nbconvert_exporter": "python",
   "pygments_lexer": "ipython3",
   "version": "3.7.6"
  }
 },
 "nbformat": 4,
 "nbformat_minor": 4
}
