{
 "cells": [
  {
   "cell_type": "code",
   "execution_count": 1,
   "metadata": {},
   "outputs": [
    {
     "data": {
      "text/plain": [
       "'\\nHighest Sales\\nWrite a Python code that reads the sales data of an Automobile company.\\n\\nFind the year which has the highest sales and write the output to a file. The output should be written to output/output.txt\\n\\n \\n\\nInput Format\\n\\nYou have to read the dataset, sales.csv from the location  (res/sales.csv) which has 3 columns [‘month’, ‘year’, ‘sales’] \\nOutput Format\\n\\nWrite the year which has the highest sales to output/output.txt file.\\n'"
      ]
     },
     "execution_count": 1,
     "metadata": {},
     "output_type": "execute_result"
    }
   ],
   "source": [
    "'''\n",
    "Highest Sales\n",
    "Write a Python code that reads the sales data of an Automobile company.\n",
    "\n",
    "Find the year which has the highest sales and write the output to a file. The output should be written to output/output.txt\n",
    "\n",
    " \n",
    "\n",
    "Input Format\n",
    "\n",
    "You have to read the dataset, sales.csv from the location  (res/sales.csv) which has 3 columns [‘month’, ‘year’, ‘sales’] \n",
    "Output Format\n",
    "\n",
    "Write the year which has the highest sales to output/output.txt file.\n",
    "'''"
   ]
  },
  {
   "cell_type": "code",
   "execution_count": 36,
   "metadata": {},
   "outputs": [],
   "source": [
    "import pandas as pd\n",
    "import numpy as np\n",
    "import sys\n",
    "sys.path.append('../')\n",
    "\n",
    "def HighestSales():\n",
    "    \n",
    "    df_sales = pd.read_csv(\"res/sales.csv\")\n",
    "    df_sales = df_sales.set_index(\"index\")\n",
    "    #print(df_sales.dtypes)\n",
    "    #print(df_sales.head())\n",
    "    \n",
    "    df_sales = df_sales.groupby(['year'])['sales'].sum()\n",
    "    df_sales = df_sales.reset_index(name='sales')\n",
    "    yr = df_sales[ df_sales['sales'] == df_sales['sales'].max() ].year.to_string(index=False)\n",
    "    \n",
    "    try:\n",
    "        f = open('output/output.txt', 'w')\n",
    "        f.write(yr.strip())\n",
    "        \n",
    "    finally:\n",
    "        f.close()\n",
    "    \n",
    "    \n",
    "HighestSales()    "
   ]
  },
  {
   "cell_type": "code",
   "execution_count": null,
   "metadata": {},
   "outputs": [],
   "source": []
  }
 ],
 "metadata": {
  "kernelspec": {
   "display_name": "Python 3",
   "language": "python",
   "name": "python3"
  },
  "language_info": {
   "codemirror_mode": {
    "name": "ipython",
    "version": 3
   },
   "file_extension": ".py",
   "mimetype": "text/x-python",
   "name": "python",
   "nbconvert_exporter": "python",
   "pygments_lexer": "ipython3",
   "version": "3.7.6"
  }
 },
 "nbformat": 4,
 "nbformat_minor": 4
}
