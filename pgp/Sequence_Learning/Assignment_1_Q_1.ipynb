{
  "nbformat": 4,
  "nbformat_minor": 0,
  "metadata": {
    "colab": {
      "name": "Assignment_1_Q_1.ipynb",
      "provenance": [],
      "collapsed_sections": [],
      "machine_shape": "hm"
    },
    "kernelspec": {
      "name": "python3",
      "display_name": "Python 3"
    },
    "language_info": {
      "name": "python"
    }
  },
  "cells": [
    {
      "cell_type": "markdown",
      "metadata": {
        "id": "FbQ5IESr_u5I"
      },
      "source": [
        "# Hidden Markov's Model"
      ]
    },
    {
      "cell_type": "markdown",
      "metadata": {
        "id": "rFYswGcO_2jt"
      },
      "source": [
        "## Importing Libraries"
      ]
    },
    {
      "cell_type": "code",
      "metadata": {
        "id": "6sEXymgW_xrL"
      },
      "source": [
        "import numpy as np\n",
        "import pandas as pd\n",
        "import matplotlib.pyplot as plt\n",
        "from collections import Counter, defaultdict,namedtuple\n",
        "from pprint import pprint\n",
        "%matplotlib inline"
      ],
      "execution_count": null,
      "outputs": []
    },
    {
      "cell_type": "code",
      "metadata": {
        "id": "hBCRYaZ_A_Vl"
      },
      "source": [
        ""
      ],
      "execution_count": null,
      "outputs": []
    },
    {
      "cell_type": "markdown",
      "metadata": {
        "id": "2wA041IcBA1G"
      },
      "source": [
        "## Importing Data"
      ]
    },
    {
      "cell_type": "code",
      "metadata": {
        "colab": {
          "base_uri": "https://localhost:8080/"
        },
        "id": "zFPwlVypF9u8",
        "outputId": "7297be90-669a-4e1a-c0ad-4dc2a6e79919"
      },
      "source": [
        "from google.colab import drive\n",
        "drive.mount('/content/drive')"
      ],
      "execution_count": null,
      "outputs": [
        {
          "output_type": "stream",
          "name": "stdout",
          "text": [
            "Drive already mounted at /content/drive; to attempt to forcibly remount, call drive.mount(\"/content/drive\", force_remount=True).\n"
          ]
        }
      ]
    },
    {
      "cell_type": "code",
      "metadata": {
        "colab": {
          "base_uri": "https://localhost:8080/"
        },
        "id": "cnYLCefsGdhP",
        "outputId": "1e40e14f-a17b-4dfc-f6f1-9bfb326bf414"
      },
      "source": [
        "!ls -ltr \"/content/drive/My Drive/Dataset/Seq_Learn_Assign_1\""
      ],
      "execution_count": null,
      "outputs": [
        {
          "output_type": "stream",
          "name": "stdout",
          "text": [
            "total 6328\n",
            "-rw------- 1 root root     120 Apr 14  2020 HMM_Train_NER.txt\n",
            "-rw------- 1 root root     237 Apr 14  2020 HMM_Train_Sentences.txt\n",
            "-rw------- 1 root root 6478648 Apr 14  2020 CRF_POS_dataset.csv\n"
          ]
        }
      ]
    },
    {
      "cell_type": "code",
      "metadata": {
        "id": "9uo0ojK9GqnJ"
      },
      "source": [
        "## Function to read the file and return list of words and sentences\n",
        "\n",
        "def read_file(filename):\n",
        "  file_lines = []\n",
        "  with open(filename) as file:\n",
        "    for line in file:\n",
        "      file_lines.append(line.rstrip().split())\n",
        "  \n",
        "  return file_lines"
      ],
      "execution_count": null,
      "outputs": []
    },
    {
      "cell_type": "code",
      "metadata": {
        "colab": {
          "base_uri": "https://localhost:8080/"
        },
        "id": "2aLKgcwNKKWf",
        "outputId": "536593ba-e4dc-4afe-f36e-86efd44c3f46"
      },
      "source": [
        "## Getting list of Sentences\n",
        "filename = \"/content/drive/My Drive/Dataset/Seq_Learn_Assign_1/HMM_Train_Sentences.txt\"\n",
        "sentence = read_file(filename)\n",
        "print(sentence)"
      ],
      "execution_count": null,
      "outputs": [
        {
          "output_type": "stream",
          "name": "stdout",
          "text": [
            "[['Bailey', 'named', 'Australia', 'captain'], ['Starc', 'player', 'of', '2015', 'World', 'Cup'], ['Australia', 'won', '2003', '2007', '2015', 'Cups'], ['Melbourne', 'Starc', 'Warner', 'knocks', 'etched', 'in', 'memory'], ['2003', 'SA', '2007', 'WI', '2015', 'Australia', 'were', 'venues'], ['Starc', 'Warner', 'Melbourne', 'go', 'as', 'great', 'combination']]\n"
          ]
        }
      ]
    },
    {
      "cell_type": "code",
      "metadata": {
        "colab": {
          "base_uri": "https://localhost:8080/"
        },
        "id": "4Stc2oFzKzdQ",
        "outputId": "416bf125-6d7d-4bad-812f-526cb4a2841e"
      },
      "source": [
        "## Getting list of NER Words\n",
        "filename = \"/content/drive/My Drive/Dataset/Seq_Learn_Assign_1/HMM_Train_NER.txt\"\n",
        "ner = read_file(filename)\n",
        "print(ner)"
      ],
      "execution_count": null,
      "outputs": [
        {
          "output_type": "stream",
          "name": "stdout",
          "text": [
            "[['PER', 'O', 'GEO', 'O'], ['PER', 'O', 'O', 'TIM', 'O', 'O'], ['GEO', 'O', 'TIM', 'TIM', 'TIM', 'O'], ['GEO', 'PER', 'PER', 'O', 'O', 'O', 'O'], ['TIM', 'GEO', 'TIM', 'GEO', 'TIM', 'GEO', 'O', 'O'], ['PER', 'PER', 'GEO', 'O', 'O', 'O', 'O']]\n"
          ]
        }
      ]
    },
    {
      "cell_type": "markdown",
      "metadata": {
        "id": "YMah7rj9Owz8"
      },
      "source": [
        "## Question 1.1"
      ]
    },
    {
      "cell_type": "code",
      "metadata": {
        "colab": {
          "base_uri": "https://localhost:8080/"
        },
        "id": "KKveBKBxK81X",
        "outputId": "861cf61a-65ad-4448-8c80-dfbc7f98ba31"
      },
      "source": [
        "## Getting Start of NER list\n",
        "start_ner_list = []\n",
        "for i in ner:\n",
        "  start_ner_list.append(i[0])\n",
        "print(start_ner_list)"
      ],
      "execution_count": null,
      "outputs": [
        {
          "output_type": "stream",
          "name": "stdout",
          "text": [
            "['PER', 'PER', 'GEO', 'GEO', 'TIM', 'PER']\n"
          ]
        }
      ]
    },
    {
      "cell_type": "code",
      "metadata": {
        "colab": {
          "base_uri": "https://localhost:8080/"
        },
        "id": "ZBteL8izMPw4",
        "outputId": "d17a62c7-62bb-4bcd-dd07-e4c1f1033764"
      },
      "source": [
        "## Getting End of NER list\n",
        "\n",
        "end_ner_list = []\n",
        "for i in ner:\n",
        "  end_ner_list.append(i[-1])\n",
        "  #end_ner_list.append(i[0])\n",
        "print(end_ner_list)"
      ],
      "execution_count": null,
      "outputs": [
        {
          "output_type": "stream",
          "name": "stdout",
          "text": [
            "['O', 'O', 'O', 'O', 'O', 'O']\n"
          ]
        }
      ]
    },
    {
      "cell_type": "code",
      "metadata": {
        "colab": {
          "base_uri": "https://localhost:8080/"
        },
        "id": "utDyyLHpMrSM",
        "outputId": "58a10284-f3c7-42d5-c7e0-e98cec2b10eb"
      },
      "source": [
        "print(sentence)"
      ],
      "execution_count": null,
      "outputs": [
        {
          "output_type": "stream",
          "name": "stdout",
          "text": [
            "[['Bailey', 'named', 'Australia', 'captain'], ['Starc', 'player', 'of', '2015', 'World', 'Cup'], ['Australia', 'won', '2003', '2007', '2015', 'Cups'], ['Melbourne', 'Starc', 'Warner', 'knocks', 'etched', 'in', 'memory'], ['2003', 'SA', '2007', 'WI', '2015', 'Australia', 'were', 'venues'], ['Starc', 'Warner', 'Melbourne', 'go', 'as', 'great', 'combination']]\n"
          ]
        }
      ]
    },
    {
      "cell_type": "markdown",
      "metadata": {
        "id": "48n_1yJwO-QQ"
      },
      "source": [
        "## Question 1.2 - Creating Unigram and Bigram Tokens. Also NER Word Count"
      ]
    },
    {
      "cell_type": "code",
      "metadata": {
        "id": "MTALRLF2u-VU"
      },
      "source": [
        "## Creating Word Tag\n",
        "\n",
        "def generate_word_tag(sentence,ner,ignore_tag=None):\n",
        "  word_tag=[]\n",
        "  ind = 0\n",
        "  for s,n in zip(sentence,ner):\n",
        "    sn_list=[]\n",
        "    for i in range(len(n)):\n",
        "      idx = \"Sentence_\"+str(ind + 1)\n",
        "      if n[i] != ignore_tag:\n",
        "        word_tag.append((idx,s[i],n[i]))\n",
        "    #word_tag.append(sn_list)\n",
        "    ind += 1\n",
        "  return word_tag"
      ],
      "execution_count": null,
      "outputs": []
    },
    {
      "cell_type": "code",
      "metadata": {
        "colab": {
          "base_uri": "https://localhost:8080/"
        },
        "id": "gGH3izCBvUDc",
        "outputId": "72171fab-177b-43c0-f6e4-970d80d50f35"
      },
      "source": [
        "generate_word_tag(sentence,ner)"
      ],
      "execution_count": null,
      "outputs": [
        {
          "output_type": "execute_result",
          "data": {
            "text/plain": [
              "[('Sentence_1', 'Bailey', 'PER'),\n",
              " ('Sentence_1', 'named', 'O'),\n",
              " ('Sentence_1', 'Australia', 'GEO'),\n",
              " ('Sentence_1', 'captain', 'O'),\n",
              " ('Sentence_2', 'Starc', 'PER'),\n",
              " ('Sentence_2', 'player', 'O'),\n",
              " ('Sentence_2', 'of', 'O'),\n",
              " ('Sentence_2', '2015', 'TIM'),\n",
              " ('Sentence_2', 'World', 'O'),\n",
              " ('Sentence_2', 'Cup', 'O'),\n",
              " ('Sentence_3', 'Australia', 'GEO'),\n",
              " ('Sentence_3', 'won', 'O'),\n",
              " ('Sentence_3', '2003', 'TIM'),\n",
              " ('Sentence_3', '2007', 'TIM'),\n",
              " ('Sentence_3', '2015', 'TIM'),\n",
              " ('Sentence_3', 'Cups', 'O'),\n",
              " ('Sentence_4', 'Melbourne', 'GEO'),\n",
              " ('Sentence_4', 'Starc', 'PER'),\n",
              " ('Sentence_4', 'Warner', 'PER'),\n",
              " ('Sentence_4', 'knocks', 'O'),\n",
              " ('Sentence_4', 'etched', 'O'),\n",
              " ('Sentence_4', 'in', 'O'),\n",
              " ('Sentence_4', 'memory', 'O'),\n",
              " ('Sentence_5', '2003', 'TIM'),\n",
              " ('Sentence_5', 'SA', 'GEO'),\n",
              " ('Sentence_5', '2007', 'TIM'),\n",
              " ('Sentence_5', 'WI', 'GEO'),\n",
              " ('Sentence_5', '2015', 'TIM'),\n",
              " ('Sentence_5', 'Australia', 'GEO'),\n",
              " ('Sentence_5', 'were', 'O'),\n",
              " ('Sentence_5', 'venues', 'O'),\n",
              " ('Sentence_6', 'Starc', 'PER'),\n",
              " ('Sentence_6', 'Warner', 'PER'),\n",
              " ('Sentence_6', 'Melbourne', 'GEO'),\n",
              " ('Sentence_6', 'go', 'O'),\n",
              " ('Sentence_6', 'as', 'O'),\n",
              " ('Sentence_6', 'great', 'O'),\n",
              " ('Sentence_6', 'combination', 'O')]"
            ]
          },
          "metadata": {},
          "execution_count": 11
        }
      ]
    },
    {
      "cell_type": "code",
      "metadata": {
        "id": "3kFu5X_LO-7j"
      },
      "source": [
        "# Creating a ngram function for NER tags only\n",
        "def generate_ngram_token(sentence,ner,ngram = 1,default=True):\n",
        "  NER_LIST=[]\n",
        "  \n",
        "  #List after ignoring default tag\n",
        "  if default == True:\n",
        "    n_gram_list = generate_word_tag(sentence,ner,'O')\n",
        "  else:\n",
        "    n_gram_list = generate_word_tag(sentence,ner)\n",
        "\n",
        "  print(\"For ngram = {}\".format(ngram))\n",
        "  \n",
        "  for i in range(len(n_gram_list)):\n",
        "    if ngram == 1:\n",
        "      NER_LIST.append(n_gram_list[i][2])\n",
        "    else:\n",
        "      if (i + ngram -1 ) < len(n_gram_list):\n",
        "        if n_gram_list[i][0] == n_gram_list[(i + ngram - 1)][0]:\n",
        "          x = i\n",
        "          x_list=[]\n",
        "          while x <= (i + ngram - 1):\n",
        "            x_list.append(n_gram_list[x][2])\n",
        "            x += 1\n",
        "          NER_LIST.append(tuple(x_list))\n",
        "          del x_list\n",
        "    \n",
        "  return NER_LIST\n",
        "\n"
      ],
      "execution_count": null,
      "outputs": []
    },
    {
      "cell_type": "code",
      "metadata": {
        "colab": {
          "base_uri": "https://localhost:8080/"
        },
        "id": "rvtz2iFTZonH",
        "outputId": "190a9446-737c-44f5-85a5-c8062b67bb40"
      },
      "source": [
        "## Generating Unigram tokens only for NER tags\n",
        "Unigram_token = generate_ngram_token(sentence,ner,1,default=False)\n",
        "print(Unigram_token)"
      ],
      "execution_count": null,
      "outputs": [
        {
          "output_type": "stream",
          "name": "stdout",
          "text": [
            "For ngram = 1\n",
            "['PER', 'O', 'GEO', 'O', 'PER', 'O', 'O', 'TIM', 'O', 'O', 'GEO', 'O', 'TIM', 'TIM', 'TIM', 'O', 'GEO', 'PER', 'PER', 'O', 'O', 'O', 'O', 'TIM', 'GEO', 'TIM', 'GEO', 'TIM', 'GEO', 'O', 'O', 'PER', 'PER', 'GEO', 'O', 'O', 'O', 'O']\n"
          ]
        }
      ]
    },
    {
      "cell_type": "code",
      "metadata": {
        "colab": {
          "base_uri": "https://localhost:8080/"
        },
        "id": "fEBud6XBZ2KV",
        "outputId": "0123e905-19e8-48ca-d707-3164fb31e24b"
      },
      "source": [
        "## Generating Bigram tokens only for NER tags\n",
        "Bigram_token = generate_ngram_token(sentence,ner,2,default=False)\n",
        "print(Bigram_token)"
      ],
      "execution_count": null,
      "outputs": [
        {
          "output_type": "stream",
          "name": "stdout",
          "text": [
            "For ngram = 2\n",
            "[('PER', 'O'), ('O', 'GEO'), ('GEO', 'O'), ('PER', 'O'), ('O', 'O'), ('O', 'TIM'), ('TIM', 'O'), ('O', 'O'), ('GEO', 'O'), ('O', 'TIM'), ('TIM', 'TIM'), ('TIM', 'TIM'), ('TIM', 'O'), ('GEO', 'PER'), ('PER', 'PER'), ('PER', 'O'), ('O', 'O'), ('O', 'O'), ('O', 'O'), ('TIM', 'GEO'), ('GEO', 'TIM'), ('TIM', 'GEO'), ('GEO', 'TIM'), ('TIM', 'GEO'), ('GEO', 'O'), ('O', 'O'), ('PER', 'PER'), ('PER', 'GEO'), ('GEO', 'O'), ('O', 'O'), ('O', 'O'), ('O', 'O')]\n"
          ]
        }
      ]
    },
    {
      "cell_type": "code",
      "metadata": {
        "colab": {
          "base_uri": "https://localhost:8080/"
        },
        "id": "rfT_CxO2tP1o",
        "outputId": "63f734e0-4405-4ab3-cf3a-7e94da0091ab"
      },
      "source": [
        "print(sentence)"
      ],
      "execution_count": null,
      "outputs": [
        {
          "output_type": "stream",
          "name": "stdout",
          "text": [
            "[['Bailey', 'named', 'Australia', 'captain'], ['Starc', 'player', 'of', '2015', 'World', 'Cup'], ['Australia', 'won', '2003', '2007', '2015', 'Cups'], ['Melbourne', 'Starc', 'Warner', 'knocks', 'etched', 'in', 'memory'], ['2003', 'SA', '2007', 'WI', '2015', 'Australia', 'were', 'venues'], ['Starc', 'Warner', 'Melbourne', 'go', 'as', 'great', 'combination']]\n"
          ]
        }
      ]
    },
    {
      "cell_type": "code",
      "metadata": {
        "id": "DmaFnGLHaP4f"
      },
      "source": [
        "## Calculating NER Word count\n",
        "def calc_ner_count(sentence,ner):\n",
        "  NER_COUNT = defaultdict(lambda: defaultdict(int))\n",
        "  tag_list = generate_word_tag(sentence,ner)\n",
        "\n",
        "  for _,name,entity in tag_list:\n",
        "    NER_COUNT[entity][name] += 1\n",
        "\n",
        "  return  NER_COUNT"
      ],
      "execution_count": null,
      "outputs": []
    },
    {
      "cell_type": "code",
      "metadata": {
        "id": "kD96v_gEnkne"
      },
      "source": [
        "POS_wordsFreq = calc_ner_count(sentence,ner)"
      ],
      "execution_count": null,
      "outputs": []
    },
    {
      "cell_type": "code",
      "metadata": {
        "id": "i5HUEZDusPol",
        "colab": {
          "base_uri": "https://localhost:8080/"
        },
        "outputId": "d2fc91c0-3b23-46a7-eb5e-82dd966359fd"
      },
      "source": [
        "pprint(POS_wordsFreq)"
      ],
      "execution_count": null,
      "outputs": [
        {
          "output_type": "stream",
          "name": "stdout",
          "text": [
            "defaultdict(<function calc_ner_count.<locals>.<lambda> at 0x7f9e2fb6a0e0>,\n",
            "            {'GEO': defaultdict(<class 'int'>,\n",
            "                                {'Australia': 3,\n",
            "                                 'Melbourne': 2,\n",
            "                                 'SA': 1,\n",
            "                                 'WI': 1}),\n",
            "             'O': defaultdict(<class 'int'>,\n",
            "                              {'Cup': 1,\n",
            "                               'Cups': 1,\n",
            "                               'World': 1,\n",
            "                               'as': 1,\n",
            "                               'captain': 1,\n",
            "                               'combination': 1,\n",
            "                               'etched': 1,\n",
            "                               'go': 1,\n",
            "                               'great': 1,\n",
            "                               'in': 1,\n",
            "                               'knocks': 1,\n",
            "                               'memory': 1,\n",
            "                               'named': 1,\n",
            "                               'of': 1,\n",
            "                               'player': 1,\n",
            "                               'venues': 1,\n",
            "                               'were': 1,\n",
            "                               'won': 1}),\n",
            "             'PER': defaultdict(<class 'int'>,\n",
            "                                {'Bailey': 1,\n",
            "                                 'Starc': 3,\n",
            "                                 'Warner': 2}),\n",
            "             'TIM': defaultdict(<class 'int'>,\n",
            "                                {'2003': 2,\n",
            "                                 '2007': 2,\n",
            "                                 '2015': 3})})\n"
          ]
        }
      ]
    },
    {
      "cell_type": "markdown",
      "metadata": {
        "id": "L2cOHbvS6vZI"
      },
      "source": [
        "## Question 1.3 - Create Hidden Markov's Model. Also Start, End and Emission Probabilities "
      ]
    },
    {
      "cell_type": "code",
      "metadata": {
        "colab": {
          "base_uri": "https://localhost:8080/"
        },
        "id": "yTrhweTa67M1",
        "outputId": "4f0b98d7-1fdf-4cd3-e286-1146e53b95a8"
      },
      "source": [
        "!pip install pomegranate"
      ],
      "execution_count": null,
      "outputs": [
        {
          "output_type": "stream",
          "name": "stdout",
          "text": [
            "Requirement already satisfied: pomegranate in /usr/local/lib/python3.7/dist-packages (0.14.7)\n",
            "Requirement already satisfied: scipy>=0.17.0 in /usr/local/lib/python3.7/dist-packages (from pomegranate) (1.4.1)\n",
            "Requirement already satisfied: joblib>=0.9.0b4 in /usr/local/lib/python3.7/dist-packages (from pomegranate) (1.1.0)\n",
            "Requirement already satisfied: networkx>=2.4 in /usr/local/lib/python3.7/dist-packages (from pomegranate) (2.6.3)\n",
            "Requirement already satisfied: numpy>=1.20.0 in /usr/local/lib/python3.7/dist-packages (from pomegranate) (1.21.4)\n",
            "Requirement already satisfied: pyyaml in /usr/local/lib/python3.7/dist-packages (from pomegranate) (3.13)\n"
          ]
        }
      ]
    },
    {
      "cell_type": "code",
      "metadata": {
        "id": "o2tWeQ__tl-8"
      },
      "source": [
        "# Importing the librariies\n",
        "\n",
        "from pomegranate import State, HiddenMarkovModel, DiscreteDistribution"
      ],
      "execution_count": null,
      "outputs": []
    },
    {
      "cell_type": "code",
      "metadata": {
        "id": "DH79ASnq7Ddk"
      },
      "source": [
        "#Build Hidden Markov Model\n",
        "hmm_model = HiddenMarkovModel(name=\"POS-Tagger\")"
      ],
      "execution_count": null,
      "outputs": []
    },
    {
      "cell_type": "code",
      "metadata": {
        "colab": {
          "base_uri": "https://localhost:8080/"
        },
        "id": "Oe5jYb7Wto0Q",
        "outputId": "4fb1b0d6-fdd6-448c-e65f-ed866c9aff44"
      },
      "source": [
        "## Creating state object for each word\n",
        "to_states = []\n",
        "for POS, wordsFreq in POS_wordsFreq.items():\n",
        "    total = float(sum(wordsFreq.values()))\n",
        "    print('------------------------------------')\n",
        "    print(POS,' total',total)\n",
        "    emission_prob = {word: count/total for word, count in wordsFreq.items()}\n",
        "    print(emission_prob)\n",
        "    #print('------------------------------------')\n",
        "    POS_state = State(DiscreteDistribution(emission_prob), name=POS)\n",
        "    #print('POS_state',POS_state)\n",
        "    to_states.append(POS_state)\n"
      ],
      "execution_count": null,
      "outputs": [
        {
          "output_type": "stream",
          "name": "stdout",
          "text": [
            "------------------------------------\n",
            "PER  total 6.0\n",
            "{'Bailey': 0.16666666666666666, 'Starc': 0.5, 'Warner': 0.3333333333333333}\n",
            "------------------------------------\n",
            "O  total 18.0\n",
            "{'named': 0.05555555555555555, 'captain': 0.05555555555555555, 'player': 0.05555555555555555, 'of': 0.05555555555555555, 'World': 0.05555555555555555, 'Cup': 0.05555555555555555, 'won': 0.05555555555555555, 'Cups': 0.05555555555555555, 'knocks': 0.05555555555555555, 'etched': 0.05555555555555555, 'in': 0.05555555555555555, 'memory': 0.05555555555555555, 'were': 0.05555555555555555, 'venues': 0.05555555555555555, 'go': 0.05555555555555555, 'as': 0.05555555555555555, 'great': 0.05555555555555555, 'combination': 0.05555555555555555}\n",
            "------------------------------------\n",
            "GEO  total 7.0\n",
            "{'Australia': 0.42857142857142855, 'Melbourne': 0.2857142857142857, 'SA': 0.14285714285714285, 'WI': 0.14285714285714285}\n",
            "------------------------------------\n",
            "TIM  total 7.0\n",
            "{'2015': 0.42857142857142855, '2003': 0.2857142857142857, '2007': 0.2857142857142857}\n"
          ]
        }
      ]
    },
    {
      "cell_type": "code",
      "metadata": {
        "colab": {
          "base_uri": "https://localhost:8080/"
        },
        "id": "UGMcqnRYudjB",
        "outputId": "e5cae797-57b5-4d9a-9f23-acb8ddcfbcb9"
      },
      "source": [
        "print(type(to_states[0]))\n",
        "print(len(to_states))\n",
        "print([state.name for state  in to_states])\n",
        "print(to_states[0])"
      ],
      "execution_count": null,
      "outputs": [
        {
          "output_type": "stream",
          "name": "stdout",
          "text": [
            "<class 'pomegranate.base.State'>\n",
            "4\n",
            "['PER', 'O', 'GEO', 'TIM']\n",
            "{\n",
            "    \"class\" : \"State\",\n",
            "    \"distribution\" : {\n",
            "        \"class\" : \"Distribution\",\n",
            "        \"dtype\" : \"str\",\n",
            "        \"name\" : \"DiscreteDistribution\",\n",
            "        \"parameters\" : [\n",
            "            {\n",
            "                \"Bailey\" : 0.16666666666666666,\n",
            "                \"Starc\" : 0.5,\n",
            "                \"Warner\" : 0.3333333333333333\n",
            "            }\n",
            "        ],\n",
            "        \"frozen\" : false\n",
            "    },\n",
            "    \"name\" : \"PER\",\n",
            "    \"weight\" : 1.0\n",
            "}\n"
          ]
        }
      ]
    },
    {
      "cell_type": "code",
      "metadata": {
        "colab": {
          "base_uri": "https://localhost:8080/"
        },
        "id": "nAgjMPtxuxUf",
        "outputId": "d9003f47-001c-4483-e8fd-8ad6ce80c859"
      },
      "source": [
        "## Getting Count of each\n",
        "start_POS_count = Counter(start_ner_list)\n",
        "print(start_POS_count)\n",
        "end_POS_count = Counter(end_ner_list)\n",
        "print(end_POS_count)\n",
        "POS_count_ug = Counter(Unigram_token)\n",
        "print(POS_count_ug)\n",
        "POS_count_bg = Counter(Bigram_token)\n",
        "print(POS_count_bg)"
      ],
      "execution_count": null,
      "outputs": [
        {
          "output_type": "stream",
          "name": "stdout",
          "text": [
            "Counter({'PER': 3, 'GEO': 2, 'TIM': 1})\n",
            "Counter({'O': 6})\n",
            "Counter({'O': 18, 'GEO': 7, 'TIM': 7, 'PER': 6})\n",
            "Counter({('O', 'O'): 9, ('GEO', 'O'): 4, ('PER', 'O'): 3, ('TIM', 'GEO'): 3, ('O', 'TIM'): 2, ('TIM', 'O'): 2, ('TIM', 'TIM'): 2, ('PER', 'PER'): 2, ('GEO', 'TIM'): 2, ('O', 'GEO'): 1, ('GEO', 'PER'): 1, ('PER', 'GEO'): 1})\n"
          ]
        }
      ]
    },
    {
      "cell_type": "code",
      "metadata": {
        "colab": {
          "base_uri": "https://localhost:8080/"
        },
        "id": "MRcxA5vEAgXK",
        "outputId": "2936d5b8-1275-4b8a-a4cb-8159c41faaa1"
      },
      "source": [
        "## Calculating the start and end probabilities\n",
        "pos_tags = generate_ngram_token(sentence,ner,1,default=False)\n",
        "start_prob, end_prob = {}, {}\n",
        "for ps in pos_tags:\n",
        "    start_prob[ps]=start_POS_count[ps]/POS_count_ug[ps]\n",
        "\n",
        "for ps in pos_tags:\n",
        "    end_prob[ps]=end_POS_count[ps]/POS_count_ug[ps]\n",
        "\n",
        "print(start_prob)\n",
        "print(end_prob)"
      ],
      "execution_count": null,
      "outputs": [
        {
          "output_type": "stream",
          "name": "stdout",
          "text": [
            "For ngram = 1\n",
            "{'PER': 0.5, 'O': 0.0, 'GEO': 0.2857142857142857, 'TIM': 0.14285714285714285}\n",
            "{'PER': 0.0, 'O': 0.3333333333333333, 'GEO': 0.0, 'TIM': 0.0}\n"
          ]
        }
      ]
    },
    {
      "cell_type": "code",
      "metadata": {
        "id": "dbD_Ral9CEpa"
      },
      "source": [
        "for POS_state in to_states :\n",
        "    hmm_model.add_transition(hmm_model.start,POS_state,start_prob[POS_state.name])\n",
        "    hmm_model.add_transition(POS_state,hmm_model.end,end_prob[POS_state.name])"
      ],
      "execution_count": null,
      "outputs": []
    },
    {
      "cell_type": "code",
      "metadata": {
        "colab": {
          "base_uri": "https://localhost:8080/"
        },
        "id": "sJE4u642D1DI",
        "outputId": "6785c881-67eb-4609-d405-5ff16bcea2e4"
      },
      "source": [
        "pprint(POS_count_bg)\n",
        "POS_count_ug"
      ],
      "execution_count": null,
      "outputs": [
        {
          "output_type": "stream",
          "name": "stdout",
          "text": [
            "Counter({('O', 'O'): 9,\n",
            "         ('GEO', 'O'): 4,\n",
            "         ('PER', 'O'): 3,\n",
            "         ('TIM', 'GEO'): 3,\n",
            "         ('O', 'TIM'): 2,\n",
            "         ('TIM', 'O'): 2,\n",
            "         ('TIM', 'TIM'): 2,\n",
            "         ('PER', 'PER'): 2,\n",
            "         ('GEO', 'TIM'): 2,\n",
            "         ('O', 'GEO'): 1,\n",
            "         ('GEO', 'PER'): 1,\n",
            "         ('PER', 'GEO'): 1})\n"
          ]
        },
        {
          "output_type": "execute_result",
          "data": {
            "text/plain": [
              "Counter({'GEO': 7, 'O': 18, 'PER': 6, 'TIM': 7})"
            ]
          },
          "metadata": {},
          "execution_count": 30
        }
      ]
    },
    {
      "cell_type": "code",
      "metadata": {
        "colab": {
          "base_uri": "https://localhost:8080/"
        },
        "id": "GbVMBXf1D2yU",
        "outputId": "cf1db2e1-0d39-478d-e007-5d96a86b5649"
      },
      "source": [
        "# Get the transition probability \n",
        "transition_prob_POS_word={}\n",
        "for key in POS_count_bg.keys():\n",
        "    transition_prob_POS_word[key]=POS_count_bg.get(key)/POS_count_ug[key[0]]\n",
        "\n",
        "transition_prob_POS_word"
      ],
      "execution_count": null,
      "outputs": [
        {
          "output_type": "execute_result",
          "data": {
            "text/plain": [
              "{('GEO', 'O'): 0.5714285714285714,\n",
              " ('GEO', 'PER'): 0.14285714285714285,\n",
              " ('GEO', 'TIM'): 0.2857142857142857,\n",
              " ('O', 'GEO'): 0.05555555555555555,\n",
              " ('O', 'O'): 0.5,\n",
              " ('O', 'TIM'): 0.1111111111111111,\n",
              " ('PER', 'GEO'): 0.16666666666666666,\n",
              " ('PER', 'O'): 0.5,\n",
              " ('PER', 'PER'): 0.3333333333333333,\n",
              " ('TIM', 'GEO'): 0.42857142857142855,\n",
              " ('TIM', 'O'): 0.2857142857142857,\n",
              " ('TIM', 'TIM'): 0.2857142857142857}"
            ]
          },
          "metadata": {},
          "execution_count": 31
        }
      ]
    },
    {
      "cell_type": "code",
      "metadata": {
        "colab": {
          "base_uri": "https://localhost:8080/"
        },
        "id": "WSJiQDeCHhUw",
        "outputId": "0596a734-6448-4c3d-a861-d4ab1b6a56f7"
      },
      "source": [
        "# If a certain pair of POS don't occur in traning set, make them ZEROES. \n",
        "transition_prob_POS_word[('GEO', 'GEO')]=0\n",
        "transition_prob_POS_word[('O', 'PER')]=0\n",
        "transition_prob_POS_word[('PER', 'TIM')]=0\n",
        "transition_prob_POS_word[('TIM', 'PER')]=0\n",
        "pprint(transition_prob_POS_word)"
      ],
      "execution_count": null,
      "outputs": [
        {
          "output_type": "stream",
          "name": "stdout",
          "text": [
            "{('GEO', 'GEO'): 0,\n",
            " ('GEO', 'O'): 0.5714285714285714,\n",
            " ('GEO', 'PER'): 0.14285714285714285,\n",
            " ('GEO', 'TIM'): 0.2857142857142857,\n",
            " ('O', 'GEO'): 0.05555555555555555,\n",
            " ('O', 'O'): 0.5,\n",
            " ('O', 'PER'): 0,\n",
            " ('O', 'TIM'): 0.1111111111111111,\n",
            " ('PER', 'GEO'): 0.16666666666666666,\n",
            " ('PER', 'O'): 0.5,\n",
            " ('PER', 'PER'): 0.3333333333333333,\n",
            " ('PER', 'TIM'): 0,\n",
            " ('TIM', 'GEO'): 0.42857142857142855,\n",
            " ('TIM', 'O'): 0.2857142857142857,\n",
            " ('TIM', 'PER'): 0,\n",
            " ('TIM', 'TIM'): 0.2857142857142857}\n"
          ]
        }
      ]
    },
    {
      "cell_type": "code",
      "metadata": {
        "id": "99mBdwW0E63F"
      },
      "source": [
        "# Add transition probabilities to all POS\n",
        "for POS_state in to_states :\n",
        "    #print(POS_state)\n",
        "    for next_POS_state in to_states :\n",
        "        #print(next_POS_state)\n",
        "        hmm_model.add_transition(POS_state,next_POS_state,transition_prob_POS_word[(POS_state.name,next_POS_state.name)])"
      ],
      "execution_count": null,
      "outputs": []
    },
    {
      "cell_type": "code",
      "metadata": {
        "id": "AXOEwGNpFHaK"
      },
      "source": [
        "## Baking the model\n",
        "hmm_model.bake()"
      ],
      "execution_count": null,
      "outputs": []
    },
    {
      "cell_type": "code",
      "metadata": {
        "colab": {
          "base_uri": "https://localhost:8080/"
        },
        "id": "a0Jo1m2dH5-r",
        "outputId": "9ec435cb-fab0-49a3-ef3e-f81c2663493a"
      },
      "source": [
        "print(hmm_model)"
      ],
      "execution_count": null,
      "outputs": [
        {
          "output_type": "stream",
          "name": "stdout",
          "text": [
            "POS-Tagger:{\n",
            "    \"class\" : \"State\",\n",
            "    \"distribution\" : {\n",
            "        \"class\" : \"Distribution\",\n",
            "        \"dtype\" : \"str\",\n",
            "        \"name\" : \"DiscreteDistribution\",\n",
            "        \"parameters\" : [\n",
            "            {\n",
            "                \"Australia\" : 0.42857142857142855,\n",
            "                \"Melbourne\" : 0.2857142857142857,\n",
            "                \"SA\" : 0.14285714285714285,\n",
            "                \"WI\" : 0.14285714285714285\n",
            "            }\n",
            "        ],\n",
            "        \"frozen\" : false\n",
            "    },\n",
            "    \"name\" : \"GEO\",\n",
            "    \"weight\" : 1.0\n",
            "}{\n",
            "    \"class\" : \"State\",\n",
            "    \"distribution\" : {\n",
            "        \"class\" : \"Distribution\",\n",
            "        \"dtype\" : \"str\",\n",
            "        \"name\" : \"DiscreteDistribution\",\n",
            "        \"parameters\" : [\n",
            "            {\n",
            "                \"named\" : 0.05555555555555555,\n",
            "                \"captain\" : 0.05555555555555555,\n",
            "                \"player\" : 0.05555555555555555,\n",
            "                \"of\" : 0.05555555555555555,\n",
            "                \"World\" : 0.05555555555555555,\n",
            "                \"Cup\" : 0.05555555555555555,\n",
            "                \"won\" : 0.05555555555555555,\n",
            "                \"Cups\" : 0.05555555555555555,\n",
            "                \"knocks\" : 0.05555555555555555,\n",
            "                \"etched\" : 0.05555555555555555,\n",
            "                \"in\" : 0.05555555555555555,\n",
            "                \"memory\" : 0.05555555555555555,\n",
            "                \"were\" : 0.05555555555555555,\n",
            "                \"venues\" : 0.05555555555555555,\n",
            "                \"go\" : 0.05555555555555555,\n",
            "                \"as\" : 0.05555555555555555,\n",
            "                \"great\" : 0.05555555555555555,\n",
            "                \"combination\" : 0.05555555555555555\n",
            "            }\n",
            "        ],\n",
            "        \"frozen\" : false\n",
            "    },\n",
            "    \"name\" : \"O\",\n",
            "    \"weight\" : 1.0\n",
            "}{\n",
            "    \"class\" : \"State\",\n",
            "    \"distribution\" : {\n",
            "        \"class\" : \"Distribution\",\n",
            "        \"dtype\" : \"str\",\n",
            "        \"name\" : \"DiscreteDistribution\",\n",
            "        \"parameters\" : [\n",
            "            {\n",
            "                \"Bailey\" : 0.16666666666666666,\n",
            "                \"Starc\" : 0.5,\n",
            "                \"Warner\" : 0.3333333333333333\n",
            "            }\n",
            "        ],\n",
            "        \"frozen\" : false\n",
            "    },\n",
            "    \"name\" : \"PER\",\n",
            "    \"weight\" : 1.0\n",
            "}{\n",
            "    \"class\" : \"State\",\n",
            "    \"distribution\" : {\n",
            "        \"class\" : \"Distribution\",\n",
            "        \"dtype\" : \"str\",\n",
            "        \"name\" : \"DiscreteDistribution\",\n",
            "        \"parameters\" : [\n",
            "            {\n",
            "                \"2015\" : 0.42857142857142855,\n",
            "                \"2003\" : 0.2857142857142857,\n",
            "                \"2007\" : 0.2857142857142857\n",
            "            }\n",
            "        ],\n",
            "        \"frozen\" : false\n",
            "    },\n",
            "    \"name\" : \"TIM\",\n",
            "    \"weight\" : 1.0\n",
            "}{\n",
            "    \"class\" : \"State\",\n",
            "    \"distribution\" : null,\n",
            "    \"name\" : \"POS-Tagger-start\",\n",
            "    \"weight\" : 1.0\n",
            "}{\n",
            "    \"class\" : \"State\",\n",
            "    \"distribution\" : null,\n",
            "    \"name\" : \"POS-Tagger-end\",\n",
            "    \"weight\" : 1.0\n",
            "}\n"
          ]
        }
      ]
    },
    {
      "cell_type": "code",
      "metadata": {
        "colab": {
          "base_uri": "https://localhost:8080/"
        },
        "id": "Xs3Hn3tULCeE",
        "outputId": "e9348dc1-ebd6-4617-f9c1-fc2f44991860"
      },
      "source": [
        "hmm_model.dense_transition_matrix()"
      ],
      "execution_count": null,
      "outputs": [
        {
          "output_type": "execute_result",
          "data": {
            "text/plain": [
              "array([[0.        , 0.57142857, 0.14285714, 0.28571429, 0.        ,\n",
              "        0.        ],\n",
              "       [0.05555556, 0.5       , 0.        , 0.11111111, 0.        ,\n",
              "        0.33333333],\n",
              "       [0.16666667, 0.5       , 0.33333333, 0.        , 0.        ,\n",
              "        0.        ],\n",
              "       [0.42857143, 0.28571429, 0.        , 0.28571429, 0.        ,\n",
              "        0.        ],\n",
              "       [0.30769231, 0.        , 0.53846154, 0.15384615, 0.        ,\n",
              "        0.        ],\n",
              "       [0.        , 0.        , 0.        , 0.        , 0.        ,\n",
              "        0.        ]])"
            ]
          },
          "metadata": {},
          "execution_count": 46
        }
      ]
    },
    {
      "cell_type": "code",
      "metadata": {
        "colab": {
          "base_uri": "https://localhost:8080/"
        },
        "id": "ln---gZTLC-p",
        "outputId": "d799da13-96c3-4851-99a1-7c4743a2a48c"
      },
      "source": [
        "hmm_model.sample(length=20)"
      ],
      "execution_count": null,
      "outputs": [
        {
          "output_type": "execute_result",
          "data": {
            "text/plain": [
              "array(['Australia', '2007', 'Melbourne', '2007', 'Australia', 'Starc',\n",
              "       'as', 'in', 'Melbourne', 'as', 'Australia', 'Starc', 'Warner',\n",
              "       'player', 'in', 'were'], dtype='<U9')"
            ]
          },
          "metadata": {},
          "execution_count": 47
        }
      ]
    },
    {
      "cell_type": "code",
      "metadata": {
        "id": "8431LdrlLL_M"
      },
      "source": [
        ""
      ],
      "execution_count": null,
      "outputs": []
    },
    {
      "cell_type": "markdown",
      "metadata": {
        "id": "VXPaV0j5KV_n"
      },
      "source": [
        "## Question 1.3 - Predicting the sentence "
      ]
    },
    {
      "cell_type": "code",
      "metadata": {
        "id": "8YwVSzG2Kd5f"
      },
      "source": [
        "st = \"Starc named 2015 Australia player\""
      ],
      "execution_count": null,
      "outputs": []
    },
    {
      "cell_type": "code",
      "metadata": {
        "id": "EKvuolK6KjhM"
      },
      "source": [
        "# Decode POS for a new sentence\n",
        "def POS_decoding(sentence, model):    \n",
        "    _, state_path = model.viterbi(sentence)\n",
        "    return [state[1].name for state in state_path[1:-1]]"
      ],
      "execution_count": null,
      "outputs": []
    },
    {
      "cell_type": "code",
      "metadata": {
        "colab": {
          "base_uri": "https://localhost:8080/"
        },
        "id": "pCXtJ2IWLkdk",
        "outputId": "83e4fcd8-601e-4ce7-a789-e1ca71fd42f3"
      },
      "source": [
        "POS_tags_predict = POS_decoding(st.split(), hmm_model)\n",
        "print(str(POS_tags_predict))"
      ],
      "execution_count": null,
      "outputs": [
        {
          "output_type": "stream",
          "name": "stdout",
          "text": [
            "['PER', 'O', 'TIM', 'GEO', 'O']\n"
          ]
        }
      ]
    },
    {
      "cell_type": "code",
      "metadata": {
        "id": "5Igwob8UMExw"
      },
      "source": [
        ""
      ],
      "execution_count": null,
      "outputs": []
    },
    {
      "cell_type": "code",
      "metadata": {
        "id": "Fo_t3_gJL2N0"
      },
      "source": [
        ""
      ],
      "execution_count": null,
      "outputs": []
    }
  ]
}