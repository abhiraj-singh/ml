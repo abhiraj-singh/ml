{
 "cells": [
  {
   "cell_type": "markdown",
   "metadata": {
    "id": "eUIFwRUryKFB"
   },
   "source": [
    "A recurrent neural network deals with sequence problems because\n",
    "their connections form a directed cycle. RNN is widely used for time\n",
    "series forecasting because of these characteristics. Many state of\n",
    "the art results have been achieved using RNN/GRU/LSTM.\n",
    "In this problem, we will try to predict the stock prices of IBM by\n",
    "using a multi-layer RNN/GRU model."
   ]
  },
  {
   "cell_type": "markdown",
   "metadata": {
    "id": "3Io28nOOzp1p"
   },
   "source": [
    "## Importing Libraries"
   ]
  },
  {
   "cell_type": "code",
   "execution_count": 34,
   "metadata": {
    "id": "zc44XGfzwuod"
   },
   "outputs": [],
   "source": [
    "# Importing the libraries\n",
    "import numpy as np\n",
    "import matplotlib.pyplot as plt\n",
    "plt.style.use('fivethirtyeight')\n",
    "import pandas as pd\n",
    "from sklearn.preprocessing import MinMaxScaler\n",
    "from tensorflow.keras.models import Sequential\n",
    "from tensorflow.keras.layers import Dense, LSTM, Dropout, GRU, Bidirectional,SimpleRNN\n",
    "from tensorflow.keras.optimizers import SGD\n",
    "import math\n",
    "from sklearn.metrics import mean_squared_error"
   ]
  },
  {
   "cell_type": "markdown",
   "metadata": {
    "id": "mK2BdeT3zt3d"
   },
   "source": [
    "## Importing Dataset"
   ]
  },
  {
   "cell_type": "code",
   "execution_count": 35,
   "metadata": {
    "colab": {
     "base_uri": "https://localhost:8080/"
    },
    "id": "JYNKKQuGyjw1",
    "outputId": "5698d1cd-6bfa-48a2-95ed-d138975e3ed6"
   },
   "outputs": [
    {
     "name": "stdout",
     "output_type": "stream",
     "text": [
      "Drive already mounted at /content/drive; to attempt to forcibly remount, call drive.mount(\"/content/drive\", force_remount=True).\n"
     ]
    }
   ],
   "source": [
    "from google.colab import drive\n",
    "drive.mount('/content/drive')"
   ]
  },
  {
   "cell_type": "code",
   "execution_count": 36,
   "metadata": {
    "colab": {
     "base_uri": "https://localhost:8080/"
    },
    "id": "XwTyPc8Uyjyn",
    "outputId": "74849cfc-a104-431d-ba54-ff33edf80b2b"
   },
   "outputs": [
    {
     "name": "stdout",
     "output_type": "stream",
     "text": [
      "total 150\n",
      "-rw------- 1 root root 153466 Dec 29 01:37 IBM_2006-01-01_to_2018-01-01.csv\n"
     ]
    }
   ],
   "source": [
    "!ls -ltr \"/content/drive/My Drive/Dataset/Seq_Learn_Assign_2\""
   ]
  },
  {
   "cell_type": "code",
   "execution_count": 37,
   "metadata": {
    "colab": {
     "base_uri": "https://localhost:8080/",
     "height": 238
    },
    "id": "iglJwIw6yj0B",
    "outputId": "76cb4ba3-b8b0-4985-f68c-2725597f8ada"
   },
   "outputs": [
    {
     "data": {
      "text/html": [
       "\n",
       "  <div id=\"df-815f46e8-0aa8-48ea-8bc4-5e71b71025bc\">\n",
       "    <div class=\"colab-df-container\">\n",
       "      <div>\n",
       "<style scoped>\n",
       "    .dataframe tbody tr th:only-of-type {\n",
       "        vertical-align: middle;\n",
       "    }\n",
       "\n",
       "    .dataframe tbody tr th {\n",
       "        vertical-align: top;\n",
       "    }\n",
       "\n",
       "    .dataframe thead th {\n",
       "        text-align: right;\n",
       "    }\n",
       "</style>\n",
       "<table border=\"1\" class=\"dataframe\">\n",
       "  <thead>\n",
       "    <tr style=\"text-align: right;\">\n",
       "      <th></th>\n",
       "      <th>Open</th>\n",
       "      <th>High</th>\n",
       "      <th>Low</th>\n",
       "      <th>Close</th>\n",
       "      <th>Volume</th>\n",
       "      <th>Name</th>\n",
       "    </tr>\n",
       "    <tr>\n",
       "      <th>Date</th>\n",
       "      <th></th>\n",
       "      <th></th>\n",
       "      <th></th>\n",
       "      <th></th>\n",
       "      <th></th>\n",
       "      <th></th>\n",
       "    </tr>\n",
       "  </thead>\n",
       "  <tbody>\n",
       "    <tr>\n",
       "      <th>2006-01-03</th>\n",
       "      <td>82.45</td>\n",
       "      <td>82.55</td>\n",
       "      <td>80.81</td>\n",
       "      <td>82.06</td>\n",
       "      <td>11715200</td>\n",
       "      <td>IBM</td>\n",
       "    </tr>\n",
       "    <tr>\n",
       "      <th>2006-01-04</th>\n",
       "      <td>82.20</td>\n",
       "      <td>82.50</td>\n",
       "      <td>81.33</td>\n",
       "      <td>81.95</td>\n",
       "      <td>9840600</td>\n",
       "      <td>IBM</td>\n",
       "    </tr>\n",
       "    <tr>\n",
       "      <th>2006-01-05</th>\n",
       "      <td>81.40</td>\n",
       "      <td>82.90</td>\n",
       "      <td>81.00</td>\n",
       "      <td>82.50</td>\n",
       "      <td>7213500</td>\n",
       "      <td>IBM</td>\n",
       "    </tr>\n",
       "    <tr>\n",
       "      <th>2006-01-06</th>\n",
       "      <td>83.95</td>\n",
       "      <td>85.03</td>\n",
       "      <td>83.41</td>\n",
       "      <td>84.95</td>\n",
       "      <td>8197400</td>\n",
       "      <td>IBM</td>\n",
       "    </tr>\n",
       "    <tr>\n",
       "      <th>2006-01-09</th>\n",
       "      <td>84.10</td>\n",
       "      <td>84.25</td>\n",
       "      <td>83.38</td>\n",
       "      <td>83.73</td>\n",
       "      <td>6858200</td>\n",
       "      <td>IBM</td>\n",
       "    </tr>\n",
       "  </tbody>\n",
       "</table>\n",
       "</div>\n",
       "      <button class=\"colab-df-convert\" onclick=\"convertToInteractive('df-815f46e8-0aa8-48ea-8bc4-5e71b71025bc')\"\n",
       "              title=\"Convert this dataframe to an interactive table.\"\n",
       "              style=\"display:none;\">\n",
       "        \n",
       "  <svg xmlns=\"http://www.w3.org/2000/svg\" height=\"24px\"viewBox=\"0 0 24 24\"\n",
       "       width=\"24px\">\n",
       "    <path d=\"M0 0h24v24H0V0z\" fill=\"none\"/>\n",
       "    <path d=\"M18.56 5.44l.94 2.06.94-2.06 2.06-.94-2.06-.94-.94-2.06-.94 2.06-2.06.94zm-11 1L8.5 8.5l.94-2.06 2.06-.94-2.06-.94L8.5 2.5l-.94 2.06-2.06.94zm10 10l.94 2.06.94-2.06 2.06-.94-2.06-.94-.94-2.06-.94 2.06-2.06.94z\"/><path d=\"M17.41 7.96l-1.37-1.37c-.4-.4-.92-.59-1.43-.59-.52 0-1.04.2-1.43.59L10.3 9.45l-7.72 7.72c-.78.78-.78 2.05 0 2.83L4 21.41c.39.39.9.59 1.41.59.51 0 1.02-.2 1.41-.59l7.78-7.78 2.81-2.81c.8-.78.8-2.07 0-2.86zM5.41 20L4 18.59l7.72-7.72 1.47 1.35L5.41 20z\"/>\n",
       "  </svg>\n",
       "      </button>\n",
       "      \n",
       "  <style>\n",
       "    .colab-df-container {\n",
       "      display:flex;\n",
       "      flex-wrap:wrap;\n",
       "      gap: 12px;\n",
       "    }\n",
       "\n",
       "    .colab-df-convert {\n",
       "      background-color: #E8F0FE;\n",
       "      border: none;\n",
       "      border-radius: 50%;\n",
       "      cursor: pointer;\n",
       "      display: none;\n",
       "      fill: #1967D2;\n",
       "      height: 32px;\n",
       "      padding: 0 0 0 0;\n",
       "      width: 32px;\n",
       "    }\n",
       "\n",
       "    .colab-df-convert:hover {\n",
       "      background-color: #E2EBFA;\n",
       "      box-shadow: 0px 1px 2px rgba(60, 64, 67, 0.3), 0px 1px 3px 1px rgba(60, 64, 67, 0.15);\n",
       "      fill: #174EA6;\n",
       "    }\n",
       "\n",
       "    [theme=dark] .colab-df-convert {\n",
       "      background-color: #3B4455;\n",
       "      fill: #D2E3FC;\n",
       "    }\n",
       "\n",
       "    [theme=dark] .colab-df-convert:hover {\n",
       "      background-color: #434B5C;\n",
       "      box-shadow: 0px 1px 3px 1px rgba(0, 0, 0, 0.15);\n",
       "      filter: drop-shadow(0px 1px 2px rgba(0, 0, 0, 0.3));\n",
       "      fill: #FFFFFF;\n",
       "    }\n",
       "  </style>\n",
       "\n",
       "      <script>\n",
       "        const buttonEl =\n",
       "          document.querySelector('#df-815f46e8-0aa8-48ea-8bc4-5e71b71025bc button.colab-df-convert');\n",
       "        buttonEl.style.display =\n",
       "          google.colab.kernel.accessAllowed ? 'block' : 'none';\n",
       "\n",
       "        async function convertToInteractive(key) {\n",
       "          const element = document.querySelector('#df-815f46e8-0aa8-48ea-8bc4-5e71b71025bc');\n",
       "          const dataTable =\n",
       "            await google.colab.kernel.invokeFunction('convertToInteractive',\n",
       "                                                     [key], {});\n",
       "          if (!dataTable) return;\n",
       "\n",
       "          const docLinkHtml = 'Like what you see? Visit the ' +\n",
       "            '<a target=\"_blank\" href=https://colab.research.google.com/notebooks/data_table.ipynb>data table notebook</a>'\n",
       "            + ' to learn more about interactive tables.';\n",
       "          element.innerHTML = '';\n",
       "          dataTable['output_type'] = 'display_data';\n",
       "          await google.colab.output.renderOutput(dataTable, element);\n",
       "          const docLink = document.createElement('div');\n",
       "          docLink.innerHTML = docLinkHtml;\n",
       "          element.appendChild(docLink);\n",
       "        }\n",
       "      </script>\n",
       "    </div>\n",
       "  </div>\n",
       "  "
      ],
      "text/plain": [
       "             Open   High    Low  Close    Volume Name\n",
       "Date                                                 \n",
       "2006-01-03  82.45  82.55  80.81  82.06  11715200  IBM\n",
       "2006-01-04  82.20  82.50  81.33  81.95   9840600  IBM\n",
       "2006-01-05  81.40  82.90  81.00  82.50   7213500  IBM\n",
       "2006-01-06  83.95  85.03  83.41  84.95   8197400  IBM\n",
       "2006-01-09  84.10  84.25  83.38  83.73   6858200  IBM"
      ]
     },
     "execution_count": 37,
     "metadata": {},
     "output_type": "execute_result"
    }
   ],
   "source": [
    "data = pd.read_csv('/content/drive/My Drive/Dataset/Seq_Learn_Assign_2/IBM_2006-01-01_to_2018-01-01.csv', index_col='Date', parse_dates=['Date'])\n",
    "data.head()"
   ]
  },
  {
   "cell_type": "markdown",
   "metadata": {
    "id": "0xtZRIeJqz-w"
   },
   "source": [
    "## Splitting the data into tranining and test set"
   ]
  },
  {
   "cell_type": "code",
   "execution_count": 38,
   "metadata": {
    "colab": {
     "base_uri": "https://localhost:8080/"
    },
    "id": "gd2EtRelyj2H",
    "outputId": "2bd0811f-832c-444f-e033-76da64741a26"
   },
   "outputs": [
    {
     "data": {
      "text/plain": [
       "array([[ 82.55],\n",
       "       [ 82.5 ],\n",
       "       [ 82.9 ],\n",
       "       ...,\n",
       "       [167.74],\n",
       "       [166.99],\n",
       "       [166.7 ]])"
      ]
     },
     "execution_count": 38,
     "metadata": {},
     "output_type": "execute_result"
    }
   ],
   "source": [
    "training_set = data[:'2016'].iloc[:,1:2].values\n",
    "test_set = data['2017':].iloc[:,1:2].values\n",
    "training_set"
   ]
  },
  {
   "cell_type": "code",
   "execution_count": 39,
   "metadata": {
    "colab": {
     "base_uri": "https://localhost:8080/"
    },
    "id": "XcIN1k2ziD6b",
    "outputId": "543629f1-09e1-46ee-a85a-a13090e36d4f"
   },
   "outputs": [
    {
     "data": {
      "text/plain": [
       "(2769, 1)"
      ]
     },
     "execution_count": 39,
     "metadata": {},
     "output_type": "execute_result"
    }
   ],
   "source": [
    "training_set.shape"
   ]
  },
  {
   "cell_type": "code",
   "execution_count": 40,
   "metadata": {
    "colab": {
     "base_uri": "https://localhost:8080/"
    },
    "id": "E8Olxp4iiIiX",
    "outputId": "ba31ec63-d635-4e35-ea7e-4953cd4894e5"
   },
   "outputs": [
    {
     "data": {
      "text/plain": [
       "(251, 1)"
      ]
     },
     "execution_count": 40,
     "metadata": {},
     "output_type": "execute_result"
    }
   ],
   "source": [
    "test_set.shape"
   ]
  },
  {
   "cell_type": "code",
   "execution_count": 41,
   "metadata": {
    "colab": {
     "base_uri": "https://localhost:8080/",
     "height": 303
    },
    "id": "cR3In1Sfyj3t",
    "outputId": "97bea6e4-1c5c-45d1-8747-cef2c0ac358e"
   },
   "outputs": [
    {
     "data": {
      "image/png": "[encoded data removed]",
      "text/plain": [
       "<Figure size 1152x288 with 1 Axes>"
      ]
     },
     "metadata": {},
     "output_type": "display_data"
    }
   ],
   "source": [
    "data[\"High\"][:'2016'].plot(figsize=(16,4),legend=True)\n",
    "data[\"High\"]['2017':].plot(figsize=(16,4),legend=True)\n",
    "plt.legend(['Training set (Before 2017)','Test set (2017 and beyond)'])\n",
    "plt.title('IBM stock price')\n",
    "plt.show()"
   ]
  },
  {
   "cell_type": "markdown",
   "metadata": {
    "id": "OghTuYhHq90o"
   },
   "source": [
    "### Scaling the data set"
   ]
  },
  {
   "cell_type": "code",
   "execution_count": 42,
   "metadata": {
    "id": "ZVZj78Eiyj5r"
   },
   "outputs": [],
   "source": [
    "sc = MinMaxScaler(feature_range=(0,1))\n",
    "training_set_scaled = sc.fit_transform(training_set)"
   ]
  },
  {
   "cell_type": "code",
   "execution_count": 43,
   "metadata": {
    "id": "YAl95tgQyj7B"
   },
   "outputs": [],
   "source": [
    "X_train = []\n",
    "y_train = []\n",
    "for i in range(60,2769):\n",
    "    X_train.append(training_set_scaled[i-60:i,0])\n",
    "    y_train.append(training_set_scaled[i,0])\n",
    "X_train, y_train = np.array(X_train), np.array(y_train)"
   ]
  },
  {
   "cell_type": "code",
   "execution_count": 44,
   "metadata": {
    "colab": {
     "base_uri": "https://localhost:8080/"
    },
    "id": "VoD2R-w6umc4",
    "outputId": "ed9f91f4-710e-4983-f08a-fde111db2784"
   },
   "outputs": [
    {
     "data": {
      "text/plain": [
       "(2709, 60, 1)"
      ]
     },
     "execution_count": 44,
     "metadata": {},
     "output_type": "execute_result"
    }
   ],
   "source": [
    "X_train = np.reshape(X_train, (X_train.shape[0],X_train.shape[1],1))\n",
    "X_train.shape"
   ]
  },
  {
   "cell_type": "code",
   "execution_count": 45,
   "metadata": {
    "colab": {
     "base_uri": "https://localhost:8080/"
    },
    "id": "MF3QTX-zi42L",
    "outputId": "78f9c93b-06f5-42c6-9f85-c746dea432a1"
   },
   "outputs": [
    {
     "data": {
      "text/plain": [
       "(2709,)"
      ]
     },
     "execution_count": 45,
     "metadata": {},
     "output_type": "execute_result"
    }
   ],
   "source": [
    "y_train.shape"
   ]
  },
  {
   "cell_type": "markdown",
   "metadata": {
    "id": "9xWH6uMIrF-C"
   },
   "source": [
    "## Model Building and training"
   ]
  },
  {
   "cell_type": "code",
   "execution_count": 46,
   "metadata": {
    "colab": {
     "base_uri": "https://localhost:8080/"
    },
    "id": "Gp9mBKMQumf3",
    "outputId": "098eadaf-32af-4b2d-cc96-cf7099d9f19d"
   },
   "outputs": [
    {
     "name": "stdout",
     "output_type": "stream",
     "text": [
      "Model: \"sequential_3\"\n",
      "_________________________________________________________________\n",
      " Layer (type)                Output Shape              Param #   \n",
      "=================================================================\n",
      " simple_rnn_6 (SimpleRNN)    (None, 60, 50)            2600      \n",
      "                                                                 \n",
      " dropout_12 (Dropout)        (None, 60, 50)            0         \n",
      "                                                                 \n",
      " simple_rnn_7 (SimpleRNN)    (None, 60, 50)            5050      \n",
      "                                                                 \n",
      " dropout_13 (Dropout)        (None, 60, 50)            0         \n",
      "                                                                 \n",
      " gru_6 (GRU)                 (None, 60, 50)            15300     \n",
      "                                                                 \n",
      " dropout_14 (Dropout)        (None, 60, 50)            0         \n",
      "                                                                 \n",
      " gru_7 (GRU)                 (None, 50)                15300     \n",
      "                                                                 \n",
      " dropout_15 (Dropout)        (None, 50)                0         \n",
      "                                                                 \n",
      " dense_3 (Dense)             (None, 1)                 51        \n",
      "                                                                 \n",
      "=================================================================\n",
      "Total params: 38,301\n",
      "Trainable params: 38,301\n",
      "Non-trainable params: 0\n",
      "_________________________________________________________________\n"
     ]
    }
   ],
   "source": [
    "model = Sequential()\n",
    "model.add(SimpleRNN(50, activation=\"tanh\",return_sequences=True, input_shape=(X_train.shape[1],1)))\n",
    "model.add(Dropout(0.2))\n",
    "model.add(SimpleRNN(50, activation=\"tanh\" ,return_sequences=True, input_shape=(X_train.shape[1],1)))\n",
    "model.add(Dropout(0.2))\n",
    "model.add(GRU(50, activation=\"tanh\", return_sequences=True, input_shape=(X_train.shape[1],1)))\n",
    "model.add(Dropout(0.2))\n",
    "model.add(GRU(50, activation=\"tanh\",  input_shape=(X_train.shape[1],1)))\n",
    "model.add(Dropout(0.2))\n",
    "model.add(Dense(units=1))\n",
    "model.compile(optimizer='rmsprop',loss='mean_squared_error',metrics=['accuracy'])\n",
    "model.summary()"
   ]
  },
  {
   "cell_type": "code",
   "execution_count": 47,
   "metadata": {
    "colab": {
     "base_uri": "https://localhost:8080/"
    },
    "id": "rlKqewlTxOC9",
    "outputId": "64245ad2-9f89-4829-d5d1-2717fecd308f"
   },
   "outputs": [
    {
     "name": "stdout",
     "output_type": "stream",
     "text": [
      "Epoch 1/20\n",
      "57/57 [==============================] - 11s 101ms/step - loss: 0.0447 - accuracy: 0.0011 - val_loss: 0.0275 - val_accuracy: 0.0000e+00\n",
      "Epoch 2/20\n",
      "57/57 [==============================] - 5s 81ms/step - loss: 0.0142 - accuracy: 0.0011 - val_loss: 0.0335 - val_accuracy: 0.0000e+00\n",
      "Epoch 3/20\n",
      "57/57 [==============================] - 5s 80ms/step - loss: 0.0098 - accuracy: 0.0011 - val_loss: 0.0013 - val_accuracy: 0.0000e+00\n",
      "Epoch 4/20\n",
      "57/57 [==============================] - 5s 82ms/step - loss: 0.0078 - accuracy: 0.0011 - val_loss: 0.0098 - val_accuracy: 0.0000e+00\n",
      "Epoch 5/20\n",
      "57/57 [==============================] - 5s 81ms/step - loss: 0.0072 - accuracy: 0.0011 - val_loss: 0.0164 - val_accuracy: 0.0000e+00\n",
      "Epoch 6/20\n",
      "57/57 [==============================] - 5s 83ms/step - loss: 0.0070 - accuracy: 0.0011 - val_loss: 0.0027 - val_accuracy: 0.0000e+00\n",
      "Epoch 7/20\n",
      "57/57 [==============================] - 5s 82ms/step - loss: 0.0053 - accuracy: 0.0011 - val_loss: 0.0077 - val_accuracy: 0.0000e+00\n",
      "Epoch 8/20\n",
      "57/57 [==============================] - 5s 83ms/step - loss: 0.0053 - accuracy: 0.0011 - val_loss: 0.0280 - val_accuracy: 0.0000e+00\n",
      "Epoch 9/20\n",
      "57/57 [==============================] - 5s 82ms/step - loss: 0.0046 - accuracy: 0.0011 - val_loss: 7.4870e-04 - val_accuracy: 0.0000e+00\n",
      "Epoch 10/20\n",
      "57/57 [==============================] - 5s 82ms/step - loss: 0.0043 - accuracy: 0.0011 - val_loss: 0.0275 - val_accuracy: 0.0000e+00\n",
      "Epoch 11/20\n",
      "57/57 [==============================] - 5s 81ms/step - loss: 0.0040 - accuracy: 0.0011 - val_loss: 7.5950e-04 - val_accuracy: 0.0000e+00\n",
      "Epoch 12/20\n",
      "57/57 [==============================] - 5s 82ms/step - loss: 0.0039 - accuracy: 0.0011 - val_loss: 5.3824e-04 - val_accuracy: 0.0000e+00\n",
      "Epoch 13/20\n",
      "57/57 [==============================] - 5s 81ms/step - loss: 0.0039 - accuracy: 0.0011 - val_loss: 0.0035 - val_accuracy: 0.0000e+00\n",
      "Epoch 14/20\n",
      "57/57 [==============================] - 5s 81ms/step - loss: 0.0038 - accuracy: 0.0011 - val_loss: 0.0018 - val_accuracy: 0.0000e+00\n",
      "Epoch 15/20\n",
      "57/57 [==============================] - 5s 82ms/step - loss: 0.0034 - accuracy: 0.0011 - val_loss: 0.0011 - val_accuracy: 0.0000e+00\n",
      "Epoch 16/20\n",
      "57/57 [==============================] - 5s 81ms/step - loss: 0.0033 - accuracy: 0.0011 - val_loss: 4.3168e-04 - val_accuracy: 0.0000e+00\n",
      "Epoch 17/20\n",
      "57/57 [==============================] - 5s 82ms/step - loss: 0.0032 - accuracy: 0.0011 - val_loss: 7.3612e-04 - val_accuracy: 0.0000e+00\n",
      "Epoch 18/20\n",
      "57/57 [==============================] - 5s 82ms/step - loss: 0.0030 - accuracy: 0.0011 - val_loss: 0.0018 - val_accuracy: 0.0000e+00\n",
      "Epoch 19/20\n",
      "57/57 [==============================] - 5s 81ms/step - loss: 0.0029 - accuracy: 0.0011 - val_loss: 0.0033 - val_accuracy: 0.0000e+00\n",
      "Epoch 20/20\n",
      "57/57 [==============================] - 5s 81ms/step - loss: 0.0033 - accuracy: 0.0011 - val_loss: 3.8839e-04 - val_accuracy: 0.0000e+00\n"
     ]
    },
    {
     "data": {
      "text/plain": [
       "<keras.callbacks.History at 0x7f7d91e50910>"
      ]
     },
     "execution_count": 47,
     "metadata": {},
     "output_type": "execute_result"
    }
   ],
   "source": [
    "model.fit(X_train,y_train,epochs=20,batch_size=32,validation_split=0.33)"
   ]
  },
  {
   "cell_type": "markdown",
   "metadata": {
    "id": "0x2duRhYrOii"
   },
   "source": [
    "## Predicting with Model"
   ]
  },
  {
   "cell_type": "code",
   "execution_count": 48,
   "metadata": {
    "colab": {
     "base_uri": "https://localhost:8080/"
    },
    "id": "BOtbooeVumil",
    "outputId": "7b0c2318-cbe1-473d-f79e-ea9fa973a505"
   },
   "outputs": [
    {
     "name": "stdout",
     "output_type": "stream",
     "text": [
      "(3020,)\n",
      "157.43\n",
      "(311,)\n",
      "(311, 1)\n"
     ]
    },
    {
     "data": {
      "text/plain": [
       "(311, 1)"
      ]
     },
     "execution_count": 48,
     "metadata": {},
     "output_type": "execute_result"
    }
   ],
   "source": [
    "dataset_total = pd.concat((data[\"High\"][:'2016'],data[\"High\"]['2017':]),axis=0)\n",
    "print(dataset_total.shape)\n",
    "\n",
    "inputs = dataset_total[len(dataset_total)-len(test_set) - 60:].values\n",
    "print(inputs[0])\n",
    "print(inputs.shape)\n",
    "inputs = inputs.reshape(-1,1)\n",
    "print(inputs.shape)\n",
    "inputs  = sc.transform(inputs)\n",
    "inputs.shape"
   ]
  },
  {
   "cell_type": "code",
   "execution_count": 49,
   "metadata": {
    "colab": {
     "base_uri": "https://localhost:8080/"
    },
    "id": "Lwrkj-NXhQHH",
    "outputId": "f8757113-1b3a-4314-c346-16f642c328f1"
   },
   "outputs": [
    {
     "data": {
      "text/plain": [
       "array([0.58812342])"
      ]
     },
     "execution_count": 49,
     "metadata": {},
     "output_type": "execute_result"
    }
   ],
   "source": [
    "inputs[0]"
   ]
  },
  {
   "cell_type": "code",
   "execution_count": 50,
   "metadata": {
    "colab": {
     "base_uri": "https://localhost:8080/"
    },
    "id": "JEgnTBAxumk5",
    "outputId": "bb93a27a-0db2-4edf-99cd-9ecc3f9e887d"
   },
   "outputs": [
    {
     "name": "stdout",
     "output_type": "stream",
     "text": [
      "(251, 60)\n",
      "(251, 60, 1)\n",
      "(251, 1)\n"
     ]
    }
   ],
   "source": [
    "X_test = []\n",
    "for i in range(60,311):\n",
    "    X_test.append(inputs[i-60:i,0])\n",
    "X_test = np.array(X_test)\n",
    "print(X_test.shape)\n",
    "X_test = np.reshape(X_test, (X_test.shape[0],X_test.shape[1],1))\n",
    "print(X_test.shape)\n",
    "GRU_predicted_stock_price = model.predict(X_test)\n",
    "print(GRU_predicted_stock_price.shape)\n",
    "\n",
    "GRU_predicted_stock_price = sc.inverse_transform(GRU_predicted_stock_price)\n"
   ]
  },
  {
   "cell_type": "code",
   "execution_count": 51,
   "metadata": {
    "colab": {
     "base_uri": "https://localhost:8080/",
     "height": 325
    },
    "id": "IlozAFGOumm9",
    "outputId": "c2d96847-1573-43d6-eb9d-6eeb0bbc4297"
   },
   "outputs": [
    {
     "data": {
      "image/png": "[encoded data removed]",
      "text/plain": [
       "<Figure size 432x288 with 1 Axes>"
      ]
     },
     "metadata": {},
     "output_type": "display_data"
    }
   ],
   "source": [
    "plt.plot(test_set, color='red',label='Real IBM Stock Price')\n",
    "plt.plot(GRU_predicted_stock_price, color='blue',label='Predicted IBM Stock Price')\n",
    "plt.title('IBM Stock Price Prediction(GRU)')\n",
    "plt.xlabel('Time')\n",
    "plt.ylabel('IBM Stock Price')\n",
    "plt.legend()\n",
    "plt.show()"
   ]
  },
  {
   "cell_type": "code",
   "execution_count": 52,
   "metadata": {
    "colab": {
     "base_uri": "https://localhost:8080/"
    },
    "id": "EG_NCuD9umpT",
    "outputId": "32aa42ec-05fd-4d65-cc17-484983f249ac"
   },
   "outputs": [
    {
     "name": "stdout",
     "output_type": "stream",
     "text": [
      "The root mean squared error is 2.55\n"
     ]
    }
   ],
   "source": [
    "rmse = math.sqrt(mean_squared_error(test_set, GRU_predicted_stock_price))\n",
    "print(f\"The root mean squared error is {round(rmse,2)}\")"
   ]
  }
 ],
 "metadata": {
  "accelerator": "TPU",
  "colab": {
   "collapsed_sections": [],
   "machine_shape": "hm",
   "name": "Assignment_2_Q_1.ipynb",
   "provenance": []
  },
  "kernelspec": {
   "display_name": "Python 3",
   "language": "python",
   "name": "python3"
  },
  "language_info": {
   "codemirror_mode": {
    "name": "ipython",
    "version": 3
   },
   "file_extension": ".py",
   "mimetype": "text/x-python",
   "name": "python",
   "nbconvert_exporter": "python",
   "pygments_lexer": "ipython3",
   "version": "3.7.6"
  }
 },
 "nbformat": 4,
 "nbformat_minor": 1
}
