{
  "cells": [
    {
      "cell_type": "markdown",
      "metadata": {
        "id": "s-_3BWGFsjey"
      },
      "source": [
        "### Domain: Machine Translation\n",
        "\n",
        "### Dataset: Hindi_English_Truncated_Corpus.csv\n",
        "\n",
        "### Question: Build  an  encoder-decoder  model  to  predict  Hindi  sentences  from  a  given  English sentence\n"
      ],
      "id": "s-_3BWGFsjey"
    },
    {
      "cell_type": "markdown",
      "metadata": {
        "id": "3kkSmSR9sjey"
      },
      "source": [
        "#### Import the required liberaries "
      ],
      "id": "3kkSmSR9sjey"
    },
    {
      "cell_type": "code",
      "execution_count": 1,
      "metadata": {
        "id": "9BVFuAKvsjez"
      },
      "outputs": [],
      "source": [
        "import numpy as np \n",
        "import pandas as pd \n",
        "\n",
        "import os\n",
        "import string\n",
        "from string import digits\n",
        "import matplotlib.pyplot as plt\n",
        "%matplotlib inline\n",
        "import re\n",
        "\n",
        "#import seaborn as sns\n",
        "from sklearn.utils import shuffle\n",
        "from sklearn.model_selection import train_test_split\n",
        "from keras.layers import Input, LSTM, Embedding, Dense\n",
        "from keras.models import Model\n",
        "from tensorflow.keras.utils import plot_model\n",
        "\n",
        "from nltk.translate.bleu_score import corpus_bleu\n",
        "\n",
        "pd.set_option('display.max_rows', 500)\n",
        "pd.set_option('display.max_columns', 500)\n",
        "pd.set_option('display.width', 1000)\n",
        "pd.set_option('display.max_colwidth', None)"
      ],
      "id": "9BVFuAKvsjez"
    },
    {
      "cell_type": "markdown",
      "metadata": {
        "id": "eg7dL3Z9sje0"
      },
      "source": [
        "#### Load the  Hindi_English_Truncated_Corpus.csv data"
      ],
      "id": "eg7dL3Z9sje0"
    },
    {
      "cell_type": "code",
      "source": [
        "from google.colab import drive\n",
        "drive.mount('/content/drive')"
      ],
      "metadata": {
        "colab": {
          "base_uri": "https://localhost:8080/"
        },
        "id": "FAV6_FqDsqru",
        "outputId": "a6d50ee4-86c8-49ca-8d43-4a8b6fc7c2de"
      },
      "id": "FAV6_FqDsqru",
      "execution_count": 2,
      "outputs": [
        {
          "output_type": "stream",
          "name": "stdout",
          "text": [
            "Mounted at /content/drive\n"
          ]
        }
      ]
    },
    {
      "cell_type": "code",
      "source": [
        "!ls -ltr \"/content/drive/My Drive/Dataset/Seq_Learn_Assign_3\""
      ],
      "metadata": {
        "colab": {
          "base_uri": "https://localhost:8080/"
        },
        "id": "E82_nk_psrKf",
        "outputId": "dd3969dc-deb7-4952-ce01-fc4d5a112df1"
      },
      "id": "E82_nk_psrKf",
      "execution_count": 3,
      "outputs": [
        {
          "output_type": "stream",
          "name": "stdout",
          "text": [
            "total 105866\n",
            "-rw------- 1 root root 41399186 Oct 24  2019 Hindi_English_Truncated_Corpus.csv\n",
            "drwx------ 2 root root     4096 Apr 19 13:11 Flickr8k_text\n",
            "drwx------ 2 root root     4096 Apr 19 13:30 Flicker8k_images\n",
            "-rw------- 1 root root 66999214 Apr 25 11:49 features_Flickr8k_images_new.pkl\n"
          ]
        }
      ]
    },
    {
      "cell_type": "code",
      "execution_count": 4,
      "metadata": {
        "id": "vllPuHeisje0"
      },
      "outputs": [],
      "source": [
        "hindi_file = '/content/drive/My Drive/Dataset/Seq_Learn_Assign_3/Hindi_English_Truncated_Corpus.csv'\n",
        "data = pd.read_csv(hindi_file)"
      ],
      "id": "vllPuHeisje0"
    },
    {
      "cell_type": "code",
      "execution_count": 5,
      "metadata": {
        "colab": {
          "base_uri": "https://localhost:8080/",
          "height": 459
        },
        "id": "dNxDKbxDsje0",
        "outputId": "3f0520a8-29c2-4a87-af2d-1c64ccf43f1c"
      },
      "outputs": [
        {
          "output_type": "execute_result",
          "data": {
            "text/plain": [
              "      source                                                                                                                                                     english_sentence                                                                                                                                                                                    hindi_sentence\n",
              "0        ted                                                                                                      politicians do not have permission to do what needs to be done.                                                                                                                              राजनीतिज्ञों के पास जो कार्य करना चाहिए, वह करने कि अनुमति नहीं है .\n",
              "1        ted                                                                                                                           I'd like to tell you about one such child,                                                                                                                                                मई आपको ऐसे ही एक बच्चे के बारे में बताना चाहूंगी,\n",
              "2  indic2012                                                                                                        This percentage is even greater than the percentage in India.                                                                                                                                                  यह प्रतिशत भारत में हिन्दुओं प्रतिशत से अधिक है।\n",
              "3        ted                                                                                                     what we really mean is that they're bad at not paying attention.                                                                                                                                                    हम ये नहीं कहना चाहते कि वो ध्यान नहीं दे पाते\n",
              "4  indic2012                                                                                                              .The ending portion of these Vedas is called Upanishad.                                                                                                                                                       इन्हीं वेदों का अंतिम भाग उपनिषद कहलाता है।\n",
              "5      tides                                                     The then Governor of Kashmir resisted transfer , but was finally reduced to subjection with the aid of British .                                                                                  कश्मीर के तत्कालीन गवर्नर ने इस हस्तांतरण का विरोध किया था , लेकिन अंग्रेजों की सहायता से उनकी आवाज दबा दी गयी .\n",
              "6  indic2012                                                                                                                 In this lies the circumstances of people before you.                                                                                                                                                  इसमें तुमसे पूर्व गुज़रे हुए लोगों के हालात हैं।\n",
              "7        ted                                                                                                                     And who are we to say, even, that they are wrong                                                                                                                                                  और हम होते कौन हैं यह कहने भी वाले कि वे गलत हैं\n",
              "8  indic2012                       “”Global Warming“” refer to warming caused in recent decades and probability of its continual presence and its indirect effect on human being.                                              ग्लोबल वॉर्मिंग से आशय हाल ही के दशकों में हुई वार्मिंग और इसके निरंतर बने रहने के अनुमान और इसके अप्रत्यक्ष रूप से मानव पर पड़ने वाले प्रभाव से है।\n",
              "9      tides  You may want your child to go to a school that is not run by the LEA - a non-maintained special school or an independent school that can meet your child 's needs .  हो सकता है कि आप चाहते हों कि आप का नऋर्नमेनटेन्ड ह्यबिना किसी समर्थन के हृ विशेष स्कूल , या किसी स्वतंत्र स्कूल में जाए , इजसके पास विशेष शैक्षणिक जऋऋरतों वाले बच्चों के प्रति सहूलियत हों . ."
            ],
            "text/html": [
              "\n",
              "  <div id=\"df-509269e6-32c6-4e9c-a9cc-0fd105d6b8cd\">\n",
              "    <div class=\"colab-df-container\">\n",
              "      <div>\n",
              "<style scoped>\n",
              "    .dataframe tbody tr th:only-of-type {\n",
              "        vertical-align: middle;\n",
              "    }\n",
              "\n",
              "    .dataframe tbody tr th {\n",
              "        vertical-align: top;\n",
              "    }\n",
              "\n",
              "    .dataframe thead th {\n",
              "        text-align: right;\n",
              "    }\n",
              "</style>\n",
              "<table border=\"1\" class=\"dataframe\">\n",
              "  <thead>\n",
              "    <tr style=\"text-align: right;\">\n",
              "      <th></th>\n",
              "      <th>source</th>\n",
              "      <th>english_sentence</th>\n",
              "      <th>hindi_sentence</th>\n",
              "    </tr>\n",
              "  </thead>\n",
              "  <tbody>\n",
              "    <tr>\n",
              "      <th>0</th>\n",
              "      <td>ted</td>\n",
              "      <td>politicians do not have permission to do what needs to be done.</td>\n",
              "      <td>राजनीतिज्ञों के पास जो कार्य करना चाहिए, वह करने कि अनुमति नहीं है .</td>\n",
              "    </tr>\n",
              "    <tr>\n",
              "      <th>1</th>\n",
              "      <td>ted</td>\n",
              "      <td>I'd like to tell you about one such child,</td>\n",
              "      <td>मई आपको ऐसे ही एक बच्चे के बारे में बताना चाहूंगी,</td>\n",
              "    </tr>\n",
              "    <tr>\n",
              "      <th>2</th>\n",
              "      <td>indic2012</td>\n",
              "      <td>This percentage is even greater than the percentage in India.</td>\n",
              "      <td>यह प्रतिशत भारत में हिन्दुओं प्रतिशत से अधिक है।</td>\n",
              "    </tr>\n",
              "    <tr>\n",
              "      <th>3</th>\n",
              "      <td>ted</td>\n",
              "      <td>what we really mean is that they're bad at not paying attention.</td>\n",
              "      <td>हम ये नहीं कहना चाहते कि वो ध्यान नहीं दे पाते</td>\n",
              "    </tr>\n",
              "    <tr>\n",
              "      <th>4</th>\n",
              "      <td>indic2012</td>\n",
              "      <td>.The ending portion of these Vedas is called Upanishad.</td>\n",
              "      <td>इन्हीं वेदों का अंतिम भाग उपनिषद कहलाता है।</td>\n",
              "    </tr>\n",
              "    <tr>\n",
              "      <th>5</th>\n",
              "      <td>tides</td>\n",
              "      <td>The then Governor of Kashmir resisted transfer , but was finally reduced to subjection with the aid of British .</td>\n",
              "      <td>कश्मीर के तत्कालीन गवर्नर ने इस हस्तांतरण का विरोध किया था , लेकिन अंग्रेजों की सहायता से उनकी आवाज दबा दी गयी .</td>\n",
              "    </tr>\n",
              "    <tr>\n",
              "      <th>6</th>\n",
              "      <td>indic2012</td>\n",
              "      <td>In this lies the circumstances of people before you.</td>\n",
              "      <td>इसमें तुमसे पूर्व गुज़रे हुए लोगों के हालात हैं।</td>\n",
              "    </tr>\n",
              "    <tr>\n",
              "      <th>7</th>\n",
              "      <td>ted</td>\n",
              "      <td>And who are we to say, even, that they are wrong</td>\n",
              "      <td>और हम होते कौन हैं यह कहने भी वाले कि वे गलत हैं</td>\n",
              "    </tr>\n",
              "    <tr>\n",
              "      <th>8</th>\n",
              "      <td>indic2012</td>\n",
              "      <td>“”Global Warming“” refer to warming caused in recent decades and probability of its continual presence and its indirect effect on human being.</td>\n",
              "      <td>ग्लोबल वॉर्मिंग से आशय हाल ही के दशकों में हुई वार्मिंग और इसके निरंतर बने रहने के अनुमान और इसके अप्रत्यक्ष रूप से मानव पर पड़ने वाले प्रभाव से है।</td>\n",
              "    </tr>\n",
              "    <tr>\n",
              "      <th>9</th>\n",
              "      <td>tides</td>\n",
              "      <td>You may want your child to go to a school that is not run by the LEA - a non-maintained special school or an independent school that can meet your child 's needs .</td>\n",
              "      <td>हो सकता है कि आप चाहते हों कि आप का नऋर्नमेनटेन्ड ह्यबिना किसी समर्थन के हृ विशेष स्कूल , या किसी स्वतंत्र स्कूल में जाए , इजसके पास विशेष शैक्षणिक जऋऋरतों वाले बच्चों के प्रति सहूलियत हों . .</td>\n",
              "    </tr>\n",
              "  </tbody>\n",
              "</table>\n",
              "</div>\n",
              "      <button class=\"colab-df-convert\" onclick=\"convertToInteractive('df-509269e6-32c6-4e9c-a9cc-0fd105d6b8cd')\"\n",
              "              title=\"Convert this dataframe to an interactive table.\"\n",
              "              style=\"display:none;\">\n",
              "        \n",
              "  <svg xmlns=\"http://www.w3.org/2000/svg\" height=\"24px\"viewBox=\"0 0 24 24\"\n",
              "       width=\"24px\">\n",
              "    <path d=\"M0 0h24v24H0V0z\" fill=\"none\"/>\n",
              "    <path d=\"M18.56 5.44l.94 2.06.94-2.06 2.06-.94-2.06-.94-.94-2.06-.94 2.06-2.06.94zm-11 1L8.5 8.5l.94-2.06 2.06-.94-2.06-.94L8.5 2.5l-.94 2.06-2.06.94zm10 10l.94 2.06.94-2.06 2.06-.94-2.06-.94-.94-2.06-.94 2.06-2.06.94z\"/><path d=\"M17.41 7.96l-1.37-1.37c-.4-.4-.92-.59-1.43-.59-.52 0-1.04.2-1.43.59L10.3 9.45l-7.72 7.72c-.78.78-.78 2.05 0 2.83L4 21.41c.39.39.9.59 1.41.59.51 0 1.02-.2 1.41-.59l7.78-7.78 2.81-2.81c.8-.78.8-2.07 0-2.86zM5.41 20L4 18.59l7.72-7.72 1.47 1.35L5.41 20z\"/>\n",
              "  </svg>\n",
              "      </button>\n",
              "      \n",
              "  <style>\n",
              "    .colab-df-container {\n",
              "      display:flex;\n",
              "      flex-wrap:wrap;\n",
              "      gap: 12px;\n",
              "    }\n",
              "\n",
              "    .colab-df-convert {\n",
              "      background-color: #E8F0FE;\n",
              "      border: none;\n",
              "      border-radius: 50%;\n",
              "      cursor: pointer;\n",
              "      display: none;\n",
              "      fill: #1967D2;\n",
              "      height: 32px;\n",
              "      padding: 0 0 0 0;\n",
              "      width: 32px;\n",
              "    }\n",
              "\n",
              "    .colab-df-convert:hover {\n",
              "      background-color: #E2EBFA;\n",
              "      box-shadow: 0px 1px 2px rgba(60, 64, 67, 0.3), 0px 1px 3px 1px rgba(60, 64, 67, 0.15);\n",
              "      fill: #174EA6;\n",
              "    }\n",
              "\n",
              "    [theme=dark] .colab-df-convert {\n",
              "      background-color: #3B4455;\n",
              "      fill: #D2E3FC;\n",
              "    }\n",
              "\n",
              "    [theme=dark] .colab-df-convert:hover {\n",
              "      background-color: #434B5C;\n",
              "      box-shadow: 0px 1px 3px 1px rgba(0, 0, 0, 0.15);\n",
              "      filter: drop-shadow(0px 1px 2px rgba(0, 0, 0, 0.3));\n",
              "      fill: #FFFFFF;\n",
              "    }\n",
              "  </style>\n",
              "\n",
              "      <script>\n",
              "        const buttonEl =\n",
              "          document.querySelector('#df-509269e6-32c6-4e9c-a9cc-0fd105d6b8cd button.colab-df-convert');\n",
              "        buttonEl.style.display =\n",
              "          google.colab.kernel.accessAllowed ? 'block' : 'none';\n",
              "\n",
              "        async function convertToInteractive(key) {\n",
              "          const element = document.querySelector('#df-509269e6-32c6-4e9c-a9cc-0fd105d6b8cd');\n",
              "          const dataTable =\n",
              "            await google.colab.kernel.invokeFunction('convertToInteractive',\n",
              "                                                     [key], {});\n",
              "          if (!dataTable) return;\n",
              "\n",
              "          const docLinkHtml = 'Like what you see? Visit the ' +\n",
              "            '<a target=\"_blank\" href=https://colab.research.google.com/notebooks/data_table.ipynb>data table notebook</a>'\n",
              "            + ' to learn more about interactive tables.';\n",
              "          element.innerHTML = '';\n",
              "          dataTable['output_type'] = 'display_data';\n",
              "          await google.colab.output.renderOutput(dataTable, element);\n",
              "          const docLink = document.createElement('div');\n",
              "          docLink.innerHTML = docLinkHtml;\n",
              "          element.appendChild(docLink);\n",
              "        }\n",
              "      </script>\n",
              "    </div>\n",
              "  </div>\n",
              "  "
            ]
          },
          "metadata": {},
          "execution_count": 5
        }
      ],
      "source": [
        "data.head(10)"
      ],
      "id": "dNxDKbxDsje0"
    },
    {
      "cell_type": "code",
      "execution_count": 6,
      "metadata": {
        "colab": {
          "base_uri": "https://localhost:8080/"
        },
        "id": "aw9lCndgsje1",
        "outputId": "d8e5fda9-ff2f-4a4e-c432-7853cdea9691"
      },
      "outputs": [
        {
          "output_type": "stream",
          "name": "stdout",
          "text": [
            "(127607, 3)\n"
          ]
        }
      ],
      "source": [
        "print(data.shape)"
      ],
      "id": "aw9lCndgsje1"
    },
    {
      "cell_type": "markdown",
      "metadata": {
        "id": "-cyygNQYsje2"
      },
      "source": [
        "#### Create new dataframe"
      ],
      "id": "-cyygNQYsje2"
    },
    {
      "cell_type": "code",
      "execution_count": 7,
      "metadata": {
        "colab": {
          "base_uri": "https://localhost:8080/",
          "height": 423
        },
        "id": "BYsIp3Hosje2",
        "outputId": "f384db45-258f-4e14-e4ef-2bb67ce36ef3"
      },
      "outputs": [
        {
          "output_type": "execute_result",
          "data": {
            "text/plain": [
              "       source                                                               english_sentence                                                         hindi_sentence\n",
              "0         ted                politicians do not have permission to do what needs to be done.   राजनीतिज्ञों के पास जो कार्य करना चाहिए, वह करने कि अनुमति नहीं है .\n",
              "1         ted                                     I'd like to tell you about one such child,                     मई आपको ऐसे ही एक बच्चे के बारे में बताना चाहूंगी,\n",
              "3         ted               what we really mean is that they're bad at not paying attention.                         हम ये नहीं कहना चाहते कि वो ध्यान नहीं दे पाते\n",
              "7         ted                               And who are we to say, even, that they are wrong                       और हम होते कौन हैं यह कहने भी वाले कि वे गलत हैं\n",
              "13        ted                                               So there is some sort of justice                                                       तो वहाँ न्याय है\n",
              "...       ...                                                                            ...                                                                    ...\n",
              "127595    ted                                     is if we want that to become our reality -                                अगर हम चाहते हैं कि यह वास्तविकता बने -\n",
              "127597    ted                                                       Africa has not done bad.                                       अफ़्रीका ने कुछ गलती नहीं की है।\n",
              "127598    ted                                                                     Thank you.                                                              धन्यवाद |\n",
              "127603    ted                                                      and put it in our cheeks.                                        और अपने गालों में डाल लेते हैं।\n",
              "127606    ted  They've just won four government contracts to build off their 100 ambulances,  हाल ही में उन्हें सरकारी ठेका मिला है करीब सौ नई अम्बुलेन्स बनाने का,\n",
              "\n",
              "[39881 rows x 3 columns]"
            ],
            "text/html": [
              "\n",
              "  <div id=\"df-193cb095-e6d6-409b-85de-aa0d9033abd5\">\n",
              "    <div class=\"colab-df-container\">\n",
              "      <div>\n",
              "<style scoped>\n",
              "    .dataframe tbody tr th:only-of-type {\n",
              "        vertical-align: middle;\n",
              "    }\n",
              "\n",
              "    .dataframe tbody tr th {\n",
              "        vertical-align: top;\n",
              "    }\n",
              "\n",
              "    .dataframe thead th {\n",
              "        text-align: right;\n",
              "    }\n",
              "</style>\n",
              "<table border=\"1\" class=\"dataframe\">\n",
              "  <thead>\n",
              "    <tr style=\"text-align: right;\">\n",
              "      <th></th>\n",
              "      <th>source</th>\n",
              "      <th>english_sentence</th>\n",
              "      <th>hindi_sentence</th>\n",
              "    </tr>\n",
              "  </thead>\n",
              "  <tbody>\n",
              "    <tr>\n",
              "      <th>0</th>\n",
              "      <td>ted</td>\n",
              "      <td>politicians do not have permission to do what needs to be done.</td>\n",
              "      <td>राजनीतिज्ञों के पास जो कार्य करना चाहिए, वह करने कि अनुमति नहीं है .</td>\n",
              "    </tr>\n",
              "    <tr>\n",
              "      <th>1</th>\n",
              "      <td>ted</td>\n",
              "      <td>I'd like to tell you about one such child,</td>\n",
              "      <td>मई आपको ऐसे ही एक बच्चे के बारे में बताना चाहूंगी,</td>\n",
              "    </tr>\n",
              "    <tr>\n",
              "      <th>3</th>\n",
              "      <td>ted</td>\n",
              "      <td>what we really mean is that they're bad at not paying attention.</td>\n",
              "      <td>हम ये नहीं कहना चाहते कि वो ध्यान नहीं दे पाते</td>\n",
              "    </tr>\n",
              "    <tr>\n",
              "      <th>7</th>\n",
              "      <td>ted</td>\n",
              "      <td>And who are we to say, even, that they are wrong</td>\n",
              "      <td>और हम होते कौन हैं यह कहने भी वाले कि वे गलत हैं</td>\n",
              "    </tr>\n",
              "    <tr>\n",
              "      <th>13</th>\n",
              "      <td>ted</td>\n",
              "      <td>So there is some sort of justice</td>\n",
              "      <td>तो वहाँ न्याय है</td>\n",
              "    </tr>\n",
              "    <tr>\n",
              "      <th>...</th>\n",
              "      <td>...</td>\n",
              "      <td>...</td>\n",
              "      <td>...</td>\n",
              "    </tr>\n",
              "    <tr>\n",
              "      <th>127595</th>\n",
              "      <td>ted</td>\n",
              "      <td>is if we want that to become our reality -</td>\n",
              "      <td>अगर हम चाहते हैं कि यह वास्तविकता बने -</td>\n",
              "    </tr>\n",
              "    <tr>\n",
              "      <th>127597</th>\n",
              "      <td>ted</td>\n",
              "      <td>Africa has not done bad.</td>\n",
              "      <td>अफ़्रीका ने कुछ गलती नहीं की है।</td>\n",
              "    </tr>\n",
              "    <tr>\n",
              "      <th>127598</th>\n",
              "      <td>ted</td>\n",
              "      <td>Thank you.</td>\n",
              "      <td>धन्यवाद |</td>\n",
              "    </tr>\n",
              "    <tr>\n",
              "      <th>127603</th>\n",
              "      <td>ted</td>\n",
              "      <td>and put it in our cheeks.</td>\n",
              "      <td>और अपने गालों में डाल लेते हैं।</td>\n",
              "    </tr>\n",
              "    <tr>\n",
              "      <th>127606</th>\n",
              "      <td>ted</td>\n",
              "      <td>They've just won four government contracts to build off their 100 ambulances,</td>\n",
              "      <td>हाल ही में उन्हें सरकारी ठेका मिला है करीब सौ नई अम्बुलेन्स बनाने का,</td>\n",
              "    </tr>\n",
              "  </tbody>\n",
              "</table>\n",
              "<p>39881 rows × 3 columns</p>\n",
              "</div>\n",
              "      <button class=\"colab-df-convert\" onclick=\"convertToInteractive('df-193cb095-e6d6-409b-85de-aa0d9033abd5')\"\n",
              "              title=\"Convert this dataframe to an interactive table.\"\n",
              "              style=\"display:none;\">\n",
              "        \n",
              "  <svg xmlns=\"http://www.w3.org/2000/svg\" height=\"24px\"viewBox=\"0 0 24 24\"\n",
              "       width=\"24px\">\n",
              "    <path d=\"M0 0h24v24H0V0z\" fill=\"none\"/>\n",
              "    <path d=\"M18.56 5.44l.94 2.06.94-2.06 2.06-.94-2.06-.94-.94-2.06-.94 2.06-2.06.94zm-11 1L8.5 8.5l.94-2.06 2.06-.94-2.06-.94L8.5 2.5l-.94 2.06-2.06.94zm10 10l.94 2.06.94-2.06 2.06-.94-2.06-.94-.94-2.06-.94 2.06-2.06.94z\"/><path d=\"M17.41 7.96l-1.37-1.37c-.4-.4-.92-.59-1.43-.59-.52 0-1.04.2-1.43.59L10.3 9.45l-7.72 7.72c-.78.78-.78 2.05 0 2.83L4 21.41c.39.39.9.59 1.41.59.51 0 1.02-.2 1.41-.59l7.78-7.78 2.81-2.81c.8-.78.8-2.07 0-2.86zM5.41 20L4 18.59l7.72-7.72 1.47 1.35L5.41 20z\"/>\n",
              "  </svg>\n",
              "      </button>\n",
              "      \n",
              "  <style>\n",
              "    .colab-df-container {\n",
              "      display:flex;\n",
              "      flex-wrap:wrap;\n",
              "      gap: 12px;\n",
              "    }\n",
              "\n",
              "    .colab-df-convert {\n",
              "      background-color: #E8F0FE;\n",
              "      border: none;\n",
              "      border-radius: 50%;\n",
              "      cursor: pointer;\n",
              "      display: none;\n",
              "      fill: #1967D2;\n",
              "      height: 32px;\n",
              "      padding: 0 0 0 0;\n",
              "      width: 32px;\n",
              "    }\n",
              "\n",
              "    .colab-df-convert:hover {\n",
              "      background-color: #E2EBFA;\n",
              "      box-shadow: 0px 1px 2px rgba(60, 64, 67, 0.3), 0px 1px 3px 1px rgba(60, 64, 67, 0.15);\n",
              "      fill: #174EA6;\n",
              "    }\n",
              "\n",
              "    [theme=dark] .colab-df-convert {\n",
              "      background-color: #3B4455;\n",
              "      fill: #D2E3FC;\n",
              "    }\n",
              "\n",
              "    [theme=dark] .colab-df-convert:hover {\n",
              "      background-color: #434B5C;\n",
              "      box-shadow: 0px 1px 3px 1px rgba(0, 0, 0, 0.15);\n",
              "      filter: drop-shadow(0px 1px 2px rgba(0, 0, 0, 0.3));\n",
              "      fill: #FFFFFF;\n",
              "    }\n",
              "  </style>\n",
              "\n",
              "      <script>\n",
              "        const buttonEl =\n",
              "          document.querySelector('#df-193cb095-e6d6-409b-85de-aa0d9033abd5 button.colab-df-convert');\n",
              "        buttonEl.style.display =\n",
              "          google.colab.kernel.accessAllowed ? 'block' : 'none';\n",
              "\n",
              "        async function convertToInteractive(key) {\n",
              "          const element = document.querySelector('#df-193cb095-e6d6-409b-85de-aa0d9033abd5');\n",
              "          const dataTable =\n",
              "            await google.colab.kernel.invokeFunction('convertToInteractive',\n",
              "                                                     [key], {});\n",
              "          if (!dataTable) return;\n",
              "\n",
              "          const docLinkHtml = 'Like what you see? Visit the ' +\n",
              "            '<a target=\"_blank\" href=https://colab.research.google.com/notebooks/data_table.ipynb>data table notebook</a>'\n",
              "            + ' to learn more about interactive tables.';\n",
              "          element.innerHTML = '';\n",
              "          dataTable['output_type'] = 'display_data';\n",
              "          await google.colab.output.renderOutput(dataTable, element);\n",
              "          const docLink = document.createElement('div');\n",
              "          docLink.innerHTML = docLinkHtml;\n",
              "          element.appendChild(docLink);\n",
              "        }\n",
              "      </script>\n",
              "    </div>\n",
              "  </div>\n",
              "  "
            ]
          },
          "metadata": {},
          "execution_count": 7
        }
      ],
      "source": [
        "df = data[data['source'] == 'ted']\n",
        "df"
      ],
      "id": "BYsIp3Hosje2"
    },
    {
      "cell_type": "markdown",
      "metadata": {
        "id": "96TcnkTXsje3"
      },
      "source": [
        "## 1. Data Preprocessing"
      ],
      "id": "96TcnkTXsje3"
    },
    {
      "cell_type": "code",
      "execution_count": 8,
      "metadata": {
        "colab": {
          "base_uri": "https://localhost:8080/"
        },
        "id": "FoUT8rxbsje3",
        "outputId": "2282588a-83c7-4669-9453-a9a2b33980e2"
      },
      "outputs": [
        {
          "output_type": "execute_result",
          "data": {
            "text/plain": [
              "source              0\n",
              "english_sentence    0\n",
              "hindi_sentence      0\n",
              "dtype: int64"
            ]
          },
          "metadata": {},
          "execution_count": 8
        }
      ],
      "source": [
        "# Searching for null value  columns \n",
        "pd.isnull(df).sum()"
      ],
      "id": "FoUT8rxbsje3"
    },
    {
      "cell_type": "code",
      "execution_count": 9,
      "metadata": {
        "colab": {
          "base_uri": "https://localhost:8080/"
        },
        "id": "tt9YyNr7sje4",
        "outputId": "b268e3a7-2f88-40ad-f817-dfcdad59c66c"
      },
      "outputs": [
        {
          "output_type": "stream",
          "name": "stdout",
          "text": [
            "(39881, 3)\n",
            "(38803, 3)\n"
          ]
        },
        {
          "output_type": "stream",
          "name": "stderr",
          "text": [
            "/usr/local/lib/python3.7/dist-packages/pandas/util/_decorators.py:311: SettingWithCopyWarning: \n",
            "A value is trying to be set on a copy of a slice from a DataFrame\n",
            "\n",
            "See the caveats in the documentation: https://pandas.pydata.org/pandas-docs/stable/user_guide/indexing.html#returning-a-view-versus-a-copy\n",
            "  return func(*args, **kwargs)\n"
          ]
        }
      ],
      "source": [
        "# Droping duplicate rows \n",
        "print(df.shape)\n",
        "df.drop_duplicates(inplace=True)\n",
        "print(df.shape)"
      ],
      "id": "tt9YyNr7sje4"
    },
    {
      "cell_type": "code",
      "execution_count": 10,
      "metadata": {
        "colab": {
          "base_uri": "https://localhost:8080/",
          "height": 1000
        },
        "id": "GNuFbUCxsje4",
        "outputId": "2e9d8cdf-9242-49e0-947f-64c09409dfb1"
      },
      "outputs": [
        {
          "output_type": "stream",
          "name": "stderr",
          "text": [
            "/usr/local/lib/python3.7/dist-packages/ipykernel_launcher.py:2: SettingWithCopyWarning: \n",
            "A value is trying to be set on a copy of a slice from a DataFrame.\n",
            "Try using .loc[row_indexer,col_indexer] = value instead\n",
            "\n",
            "See the caveats in the documentation: https://pandas.pydata.org/pandas-docs/stable/user_guide/indexing.html#returning-a-view-versus-a-copy\n",
            "  \n",
            "/usr/local/lib/python3.7/dist-packages/ipykernel_launcher.py:3: SettingWithCopyWarning: \n",
            "A value is trying to be set on a copy of a slice from a DataFrame.\n",
            "Try using .loc[row_indexer,col_indexer] = value instead\n",
            "\n",
            "See the caveats in the documentation: https://pandas.pydata.org/pandas-docs/stable/user_guide/indexing.html#returning-a-view-versus-a-copy\n",
            "  This is separate from the ipykernel package so we can avoid doing imports until\n",
            "/usr/local/lib/python3.7/dist-packages/ipykernel_launcher.py:8: SettingWithCopyWarning: \n",
            "A value is trying to be set on a copy of a slice from a DataFrame.\n",
            "Try using .loc[row_indexer,col_indexer] = value instead\n",
            "\n",
            "See the caveats in the documentation: https://pandas.pydata.org/pandas-docs/stable/user_guide/indexing.html#returning-a-view-versus-a-copy\n",
            "  \n",
            "/usr/local/lib/python3.7/dist-packages/ipykernel_launcher.py:9: SettingWithCopyWarning: \n",
            "A value is trying to be set on a copy of a slice from a DataFrame.\n",
            "Try using .loc[row_indexer,col_indexer] = value instead\n",
            "\n",
            "See the caveats in the documentation: https://pandas.pydata.org/pandas-docs/stable/user_guide/indexing.html#returning-a-view-versus-a-copy\n",
            "  if __name__ == '__main__':\n",
            "/usr/local/lib/python3.7/dist-packages/ipykernel_launcher.py:16: SettingWithCopyWarning: \n",
            "A value is trying to be set on a copy of a slice from a DataFrame.\n",
            "Try using .loc[row_indexer,col_indexer] = value instead\n",
            "\n",
            "See the caveats in the documentation: https://pandas.pydata.org/pandas-docs/stable/user_guide/indexing.html#returning-a-view-versus-a-copy\n",
            "  app.launch_new_instance()\n",
            "/usr/local/lib/python3.7/dist-packages/ipykernel_launcher.py:17: SettingWithCopyWarning: \n",
            "A value is trying to be set on a copy of a slice from a DataFrame.\n",
            "Try using .loc[row_indexer,col_indexer] = value instead\n",
            "\n",
            "See the caveats in the documentation: https://pandas.pydata.org/pandas-docs/stable/user_guide/indexing.html#returning-a-view-versus-a-copy\n",
            "/usr/local/lib/python3.7/dist-packages/ipykernel_launcher.py:23: SettingWithCopyWarning: \n",
            "A value is trying to be set on a copy of a slice from a DataFrame.\n",
            "Try using .loc[row_indexer,col_indexer] = value instead\n",
            "\n",
            "See the caveats in the documentation: https://pandas.pydata.org/pandas-docs/stable/user_guide/indexing.html#returning-a-view-versus-a-copy\n",
            "/usr/local/lib/python3.7/dist-packages/ipykernel_launcher.py:24: SettingWithCopyWarning: \n",
            "A value is trying to be set on a copy of a slice from a DataFrame.\n",
            "Try using .loc[row_indexer,col_indexer] = value instead\n",
            "\n",
            "See the caveats in the documentation: https://pandas.pydata.org/pandas-docs/stable/user_guide/indexing.html#returning-a-view-versus-a-copy\n",
            "/usr/local/lib/python3.7/dist-packages/ipykernel_launcher.py:29: SettingWithCopyWarning: \n",
            "A value is trying to be set on a copy of a slice from a DataFrame.\n",
            "Try using .loc[row_indexer,col_indexer] = value instead\n",
            "\n",
            "See the caveats in the documentation: https://pandas.pydata.org/pandas-docs/stable/user_guide/indexing.html#returning-a-view-versus-a-copy\n",
            "/usr/local/lib/python3.7/dist-packages/ipykernel_launcher.py:30: SettingWithCopyWarning: \n",
            "A value is trying to be set on a copy of a slice from a DataFrame.\n",
            "Try using .loc[row_indexer,col_indexer] = value instead\n",
            "\n",
            "See the caveats in the documentation: https://pandas.pydata.org/pandas-docs/stable/user_guide/indexing.html#returning-a-view-versus-a-copy\n",
            "/usr/local/lib/python3.7/dist-packages/ipykernel_launcher.py:31: SettingWithCopyWarning: \n",
            "A value is trying to be set on a copy of a slice from a DataFrame.\n",
            "Try using .loc[row_indexer,col_indexer] = value instead\n",
            "\n",
            "See the caveats in the documentation: https://pandas.pydata.org/pandas-docs/stable/user_guide/indexing.html#returning-a-view-versus-a-copy\n",
            "/usr/local/lib/python3.7/dist-packages/ipykernel_launcher.py:32: SettingWithCopyWarning: \n",
            "A value is trying to be set on a copy of a slice from a DataFrame.\n",
            "Try using .loc[row_indexer,col_indexer] = value instead\n",
            "\n",
            "See the caveats in the documentation: https://pandas.pydata.org/pandas-docs/stable/user_guide/indexing.html#returning-a-view-versus-a-copy\n",
            "/usr/local/lib/python3.7/dist-packages/ipykernel_launcher.py:37: SettingWithCopyWarning: \n",
            "A value is trying to be set on a copy of a slice from a DataFrame.\n",
            "Try using .loc[row_indexer,col_indexer] = value instead\n",
            "\n",
            "See the caveats in the documentation: https://pandas.pydata.org/pandas-docs/stable/user_guide/indexing.html#returning-a-view-versus-a-copy\n"
          ]
        },
        {
          "output_type": "execute_result",
          "data": {
            "text/plain": [
              "   source                                                english_sentence                                                                 hindi_sentence\n",
              "0     ted  politicians do not have permission to do what needs to be done  START_ राजनीतिज्ञों के पास जो कार्य करना चाहिए वह करने कि अनुमति नहीं है _END\n",
              "1     ted                        id like to tell you about one such child                  START_ मई आपको ऐसे ही एक बच्चे के बारे में बताना चाहूंगी _END\n",
              "3     ted  what we really mean is that theyre bad at not paying attention                     START_ हम ये नहीं कहना चाहते कि वो ध्यान नहीं दे पाते _END\n",
              "7     ted                  and who are we to say even that they are wrong                   START_ और हम होते कौन हैं यह कहने भी वाले कि वे गलत हैं _END\n",
              "13    ted                                so there is some sort of justice                                                   START_ तो वहाँ न्याय है _END"
            ],
            "text/html": [
              "\n",
              "  <div id=\"df-bbd2677d-4b4c-408f-ad65-d841ca3fd9d1\">\n",
              "    <div class=\"colab-df-container\">\n",
              "      <div>\n",
              "<style scoped>\n",
              "    .dataframe tbody tr th:only-of-type {\n",
              "        vertical-align: middle;\n",
              "    }\n",
              "\n",
              "    .dataframe tbody tr th {\n",
              "        vertical-align: top;\n",
              "    }\n",
              "\n",
              "    .dataframe thead th {\n",
              "        text-align: right;\n",
              "    }\n",
              "</style>\n",
              "<table border=\"1\" class=\"dataframe\">\n",
              "  <thead>\n",
              "    <tr style=\"text-align: right;\">\n",
              "      <th></th>\n",
              "      <th>source</th>\n",
              "      <th>english_sentence</th>\n",
              "      <th>hindi_sentence</th>\n",
              "    </tr>\n",
              "  </thead>\n",
              "  <tbody>\n",
              "    <tr>\n",
              "      <th>0</th>\n",
              "      <td>ted</td>\n",
              "      <td>politicians do not have permission to do what needs to be done</td>\n",
              "      <td>START_ राजनीतिज्ञों के पास जो कार्य करना चाहिए वह करने कि अनुमति नहीं है _END</td>\n",
              "    </tr>\n",
              "    <tr>\n",
              "      <th>1</th>\n",
              "      <td>ted</td>\n",
              "      <td>id like to tell you about one such child</td>\n",
              "      <td>START_ मई आपको ऐसे ही एक बच्चे के बारे में बताना चाहूंगी _END</td>\n",
              "    </tr>\n",
              "    <tr>\n",
              "      <th>3</th>\n",
              "      <td>ted</td>\n",
              "      <td>what we really mean is that theyre bad at not paying attention</td>\n",
              "      <td>START_ हम ये नहीं कहना चाहते कि वो ध्यान नहीं दे पाते _END</td>\n",
              "    </tr>\n",
              "    <tr>\n",
              "      <th>7</th>\n",
              "      <td>ted</td>\n",
              "      <td>and who are we to say even that they are wrong</td>\n",
              "      <td>START_ और हम होते कौन हैं यह कहने भी वाले कि वे गलत हैं _END</td>\n",
              "    </tr>\n",
              "    <tr>\n",
              "      <th>13</th>\n",
              "      <td>ted</td>\n",
              "      <td>so there is some sort of justice</td>\n",
              "      <td>START_ तो वहाँ न्याय है _END</td>\n",
              "    </tr>\n",
              "  </tbody>\n",
              "</table>\n",
              "</div>\n",
              "      <button class=\"colab-df-convert\" onclick=\"convertToInteractive('df-bbd2677d-4b4c-408f-ad65-d841ca3fd9d1')\"\n",
              "              title=\"Convert this dataframe to an interactive table.\"\n",
              "              style=\"display:none;\">\n",
              "        \n",
              "  <svg xmlns=\"http://www.w3.org/2000/svg\" height=\"24px\"viewBox=\"0 0 24 24\"\n",
              "       width=\"24px\">\n",
              "    <path d=\"M0 0h24v24H0V0z\" fill=\"none\"/>\n",
              "    <path d=\"M18.56 5.44l.94 2.06.94-2.06 2.06-.94-2.06-.94-.94-2.06-.94 2.06-2.06.94zm-11 1L8.5 8.5l.94-2.06 2.06-.94-2.06-.94L8.5 2.5l-.94 2.06-2.06.94zm10 10l.94 2.06.94-2.06 2.06-.94-2.06-.94-.94-2.06-.94 2.06-2.06.94z\"/><path d=\"M17.41 7.96l-1.37-1.37c-.4-.4-.92-.59-1.43-.59-.52 0-1.04.2-1.43.59L10.3 9.45l-7.72 7.72c-.78.78-.78 2.05 0 2.83L4 21.41c.39.39.9.59 1.41.59.51 0 1.02-.2 1.41-.59l7.78-7.78 2.81-2.81c.8-.78.8-2.07 0-2.86zM5.41 20L4 18.59l7.72-7.72 1.47 1.35L5.41 20z\"/>\n",
              "  </svg>\n",
              "      </button>\n",
              "      \n",
              "  <style>\n",
              "    .colab-df-container {\n",
              "      display:flex;\n",
              "      flex-wrap:wrap;\n",
              "      gap: 12px;\n",
              "    }\n",
              "\n",
              "    .colab-df-convert {\n",
              "      background-color: #E8F0FE;\n",
              "      border: none;\n",
              "      border-radius: 50%;\n",
              "      cursor: pointer;\n",
              "      display: none;\n",
              "      fill: #1967D2;\n",
              "      height: 32px;\n",
              "      padding: 0 0 0 0;\n",
              "      width: 32px;\n",
              "    }\n",
              "\n",
              "    .colab-df-convert:hover {\n",
              "      background-color: #E2EBFA;\n",
              "      box-shadow: 0px 1px 2px rgba(60, 64, 67, 0.3), 0px 1px 3px 1px rgba(60, 64, 67, 0.15);\n",
              "      fill: #174EA6;\n",
              "    }\n",
              "\n",
              "    [theme=dark] .colab-df-convert {\n",
              "      background-color: #3B4455;\n",
              "      fill: #D2E3FC;\n",
              "    }\n",
              "\n",
              "    [theme=dark] .colab-df-convert:hover {\n",
              "      background-color: #434B5C;\n",
              "      box-shadow: 0px 1px 3px 1px rgba(0, 0, 0, 0.15);\n",
              "      filter: drop-shadow(0px 1px 2px rgba(0, 0, 0, 0.3));\n",
              "      fill: #FFFFFF;\n",
              "    }\n",
              "  </style>\n",
              "\n",
              "      <script>\n",
              "        const buttonEl =\n",
              "          document.querySelector('#df-bbd2677d-4b4c-408f-ad65-d841ca3fd9d1 button.colab-df-convert');\n",
              "        buttonEl.style.display =\n",
              "          google.colab.kernel.accessAllowed ? 'block' : 'none';\n",
              "\n",
              "        async function convertToInteractive(key) {\n",
              "          const element = document.querySelector('#df-bbd2677d-4b4c-408f-ad65-d841ca3fd9d1');\n",
              "          const dataTable =\n",
              "            await google.colab.kernel.invokeFunction('convertToInteractive',\n",
              "                                                     [key], {});\n",
              "          if (!dataTable) return;\n",
              "\n",
              "          const docLinkHtml = 'Like what you see? Visit the ' +\n",
              "            '<a target=\"_blank\" href=https://colab.research.google.com/notebooks/data_table.ipynb>data table notebook</a>'\n",
              "            + ' to learn more about interactive tables.';\n",
              "          element.innerHTML = '';\n",
              "          dataTable['output_type'] = 'display_data';\n",
              "          await google.colab.output.renderOutput(dataTable, element);\n",
              "          const docLink = document.createElement('div');\n",
              "          docLink.innerHTML = docLinkHtml;\n",
              "          element.appendChild(docLink);\n",
              "        }\n",
              "      </script>\n",
              "    </div>\n",
              "  </div>\n",
              "  "
            ]
          },
          "metadata": {},
          "execution_count": 10
        }
      ],
      "source": [
        "## Data Cleanup\n",
        "\n",
        "# Lowercase all text for processing\n",
        "df['english_sentence'] = df['english_sentence'].apply(lambda x: x.lower())\n",
        "df['hindi_sentence'] = df['hindi_sentence'].apply(lambda x: x.lower())\n",
        "\n",
        "\n",
        "\n",
        "# Remove the quotes from all text for processing\n",
        "df['english_sentence']=df['english_sentence'].apply(lambda x: re.sub(\"'\", '', x))\n",
        "df['hindi_sentence']=df['hindi_sentence'].apply(lambda x: re.sub(\"'\", '', x))\n",
        "\n",
        "\n",
        "\n",
        "\n",
        "# Remove all the special characters for processing\n",
        "special_char = set(string.punctuation) \n",
        "df['english_sentence']=df['english_sentence'].apply(lambda x: ''.join(ch for ch in x if ch not in special_char))\n",
        "df['hindi_sentence']=df['hindi_sentence'].apply(lambda x: ''.join(ch for ch in x if ch not in special_char))\n",
        "\n",
        "\n",
        "\n",
        "# Remove all the digits from text for processing\n",
        "digits = str.maketrans('', '', digits)\n",
        "df['english_sentence']=df['english_sentence'].apply(lambda x: x.translate(digits))\n",
        "df['hindi_sentence']=df['hindi_sentence'].apply(lambda x: x.translate(digits))\n",
        "\n",
        "\n",
        "\n",
        "# Remove the extra spaces from text for processing\n",
        "df['english_sentence']=df['english_sentence'].apply(lambda x: x.strip())\n",
        "df['hindi_sentence']=df['hindi_sentence'].apply(lambda x: x.strip())\n",
        "df['english_sentence']=df['english_sentence'].apply(lambda x: re.sub(\" +\", \" \", x))\n",
        "df['hindi_sentence']=df['hindi_sentence'].apply(lambda x: re.sub(\" +\", \" \", x))\n",
        "\n",
        "\n",
        "\n",
        "# Add start and end tokens to target sequences for processing\n",
        "df['hindi_sentence'] = df['hindi_sentence'].apply(lambda x : 'START_ '+ x + ' _END')\n",
        "\n",
        "\n",
        "df.head()"
      ],
      "id": "GNuFbUCxsje4"
    },
    {
      "cell_type": "code",
      "execution_count": 11,
      "metadata": {
        "id": "SKVxkiizsje5"
      },
      "outputs": [],
      "source": [
        "### Creating set of English Vocabularies\n",
        "all_eng_words=set()\n",
        "for sent in df['english_sentence']:\n",
        "    for word in sent.split():\n",
        "        all_eng_words.add(word)\n",
        "        \n",
        "        \n",
        "### Creating set of Hindi Vocabularies\n",
        "all_hindi_words=set()\n",
        "for hind in df['hindi_sentence']:\n",
        "    for word in hind.split():\n",
        "        all_hindi_words.add(word)"
      ],
      "id": "SKVxkiizsje5"
    },
    {
      "cell_type": "code",
      "execution_count": 12,
      "metadata": {
        "colab": {
          "base_uri": "https://localhost:8080/"
        },
        "id": "u0Nibfjqsje5",
        "outputId": "35cae338-67c8-4a54-e7d9-10b31fa863a2"
      },
      "outputs": [
        {
          "output_type": "stream",
          "name": "stdout",
          "text": [
            "Hindi_words_length:  22526\n",
            "English_words_length:  22526\n"
          ]
        }
      ],
      "source": [
        "print('Hindi_words_length: ',len(all_hindi_words))\n",
        "print('English_words_length: ', len(all_hindi_words))"
      ],
      "id": "u0Nibfjqsje5"
    },
    {
      "cell_type": "markdown",
      "metadata": {
        "id": "cyDvLSAcsje6"
      },
      "source": [
        "##### Sorting Vocabularies "
      ],
      "id": "cyDvLSAcsje6"
    },
    {
      "cell_type": "code",
      "execution_count": 13,
      "metadata": {
        "id": "rYPuRekDsje6"
      },
      "outputs": [],
      "source": [
        "input_words = sorted(list(all_eng_words))\n",
        "target_words = sorted(list(all_hindi_words))"
      ],
      "id": "rYPuRekDsje6"
    },
    {
      "cell_type": "code",
      "execution_count": 14,
      "metadata": {
        "colab": {
          "base_uri": "https://localhost:8080/"
        },
        "id": "-ZigWV9Hsje6",
        "outputId": "e00ccfe0-19ca-4e7d-d867-26a79dd87547"
      },
      "outputs": [
        {
          "output_type": "stream",
          "name": "stdout",
          "text": [
            "Encoder tokens: 17346 Decoder tokens: 22527\n"
          ]
        }
      ],
      "source": [
        "num_encoder_tokens = len(input_words) + 1 # for zero padding\n",
        "num_decoder_tokens = len(target_words) + 1 # for zero padding\n",
        "\n",
        "print('Encoder tokens:',num_encoder_tokens, 'Decoder tokens:',num_decoder_tokens)"
      ],
      "id": "-ZigWV9Hsje6"
    },
    {
      "cell_type": "markdown",
      "metadata": {
        "id": "2lpQdcDlsje6"
      },
      "source": [
        "#### Creating token index & reverse token index"
      ],
      "id": "2lpQdcDlsje6"
    },
    {
      "cell_type": "code",
      "execution_count": 15,
      "metadata": {
        "id": "23XSPbJPsje6"
      },
      "outputs": [],
      "source": [
        "input_token_index = dict([(word, i+1) for i, word in enumerate(input_words)])\n",
        "target_token_index = dict([(word, i+1) for i, word in enumerate(target_words)])\n",
        "\n",
        "reverse_input_char_index = dict((i, word) for word, i in input_token_index.items())\n",
        "reverse_target_char_index = dict((i, word) for word, i in target_token_index.items())"
      ],
      "id": "23XSPbJPsje6"
    },
    {
      "cell_type": "markdown",
      "metadata": {
        "id": "hqiKX7MGsje7"
      },
      "source": [
        "##### Input token index "
      ],
      "id": "hqiKX7MGsje7"
    },
    {
      "cell_type": "code",
      "execution_count": 16,
      "metadata": {
        "colab": {
          "base_uri": "https://localhost:8080/"
        },
        "id": "TOcmJTZpsje7",
        "outputId": "2c3274af-a5d1-47e7-b301-7c7d1db7db34"
      },
      "outputs": [
        {
          "output_type": "execute_result",
          "data": {
            "text/plain": [
              "[('a', 1),\n",
              " ('aaaahhh', 2),\n",
              " ('aaron', 3),\n",
              " ('ab', 4),\n",
              " ('abacha', 5),\n",
              " ('abandon', 6),\n",
              " ('abandoned', 7),\n",
              " ('abattoirs', 8),\n",
              " ('abbottabad', 9),\n",
              " ('abc', 10)]"
            ]
          },
          "metadata": {},
          "execution_count": 16
        }
      ],
      "source": [
        "items = input_token_index.items()\n",
        "list(items)[:10]"
      ],
      "id": "TOcmJTZpsje7"
    },
    {
      "cell_type": "markdown",
      "metadata": {
        "id": "0h2sPk0ksje7"
      },
      "source": [
        "#### Reverse input token index  "
      ],
      "id": "0h2sPk0ksje7"
    },
    {
      "cell_type": "code",
      "execution_count": 17,
      "metadata": {
        "colab": {
          "base_uri": "https://localhost:8080/"
        },
        "id": "YfuPgwIQsje7",
        "outputId": "fbec2b57-0d1a-43a5-f184-318d3acda517"
      },
      "outputs": [
        {
          "output_type": "execute_result",
          "data": {
            "text/plain": [
              "[(1, 'a'),\n",
              " (2, 'aaaahhh'),\n",
              " (3, 'aaron'),\n",
              " (4, 'ab'),\n",
              " (5, 'abacha'),\n",
              " (6, 'abandon'),\n",
              " (7, 'abandoned'),\n",
              " (8, 'abattoirs'),\n",
              " (9, 'abbottabad'),\n",
              " (10, 'abc')]"
            ]
          },
          "metadata": {},
          "execution_count": 17
        }
      ],
      "source": [
        "items = reverse_input_char_index.items()\n",
        "list(items)[:10]"
      ],
      "id": "YfuPgwIQsje7"
    },
    {
      "cell_type": "markdown",
      "metadata": {
        "id": "eZL1WL98sje7"
      },
      "source": [
        "#### Calculating length of each sentance and storing in new column for hindi and english "
      ],
      "id": "eZL1WL98sje7"
    },
    {
      "cell_type": "code",
      "execution_count": 18,
      "metadata": {
        "colab": {
          "base_uri": "https://localhost:8080/",
          "height": 464
        },
        "id": "guQVNkJgsje7",
        "outputId": "836dc643-046d-421f-a87d-ea4cbca6eb67"
      },
      "outputs": [
        {
          "output_type": "stream",
          "name": "stderr",
          "text": [
            "/usr/local/lib/python3.7/dist-packages/ipykernel_launcher.py:1: SettingWithCopyWarning: \n",
            "A value is trying to be set on a copy of a slice from a DataFrame.\n",
            "Try using .loc[row_indexer,col_indexer] = value instead\n",
            "\n",
            "See the caveats in the documentation: https://pandas.pydata.org/pandas-docs/stable/user_guide/indexing.html#returning-a-view-versus-a-copy\n",
            "  \"\"\"Entry point for launching an IPython kernel.\n",
            "/usr/local/lib/python3.7/dist-packages/ipykernel_launcher.py:2: SettingWithCopyWarning: \n",
            "A value is trying to be set on a copy of a slice from a DataFrame.\n",
            "Try using .loc[row_indexer,col_indexer] = value instead\n",
            "\n",
            "See the caveats in the documentation: https://pandas.pydata.org/pandas-docs/stable/user_guide/indexing.html#returning-a-view-versus-a-copy\n",
            "  \n"
          ]
        },
        {
          "output_type": "execute_result",
          "data": {
            "text/plain": [
              "   source                                                english_sentence                                                                 hindi_sentence  length_eng_sentence  length_hind_sentence\n",
              "0     ted  politicians do not have permission to do what needs to be done  START_ राजनीतिज्ञों के पास जो कार्य करना चाहिए वह करने कि अनुमति नहीं है _END                   12                    15\n",
              "1     ted                        id like to tell you about one such child                  START_ मई आपको ऐसे ही एक बच्चे के बारे में बताना चाहूंगी _END                    9                    13\n",
              "3     ted  what we really mean is that theyre bad at not paying attention                     START_ हम ये नहीं कहना चाहते कि वो ध्यान नहीं दे पाते _END                   12                    13\n",
              "7     ted                  and who are we to say even that they are wrong                   START_ और हम होते कौन हैं यह कहने भी वाले कि वे गलत हैं _END                   11                    15\n",
              "13    ted                                so there is some sort of justice                                                   START_ तो वहाँ न्याय है _END                    7                     6"
            ],
            "text/html": [
              "\n",
              "  <div id=\"df-1b31dc51-6499-4a13-9981-bbeb72bc0f5b\">\n",
              "    <div class=\"colab-df-container\">\n",
              "      <div>\n",
              "<style scoped>\n",
              "    .dataframe tbody tr th:only-of-type {\n",
              "        vertical-align: middle;\n",
              "    }\n",
              "\n",
              "    .dataframe tbody tr th {\n",
              "        vertical-align: top;\n",
              "    }\n",
              "\n",
              "    .dataframe thead th {\n",
              "        text-align: right;\n",
              "    }\n",
              "</style>\n",
              "<table border=\"1\" class=\"dataframe\">\n",
              "  <thead>\n",
              "    <tr style=\"text-align: right;\">\n",
              "      <th></th>\n",
              "      <th>source</th>\n",
              "      <th>english_sentence</th>\n",
              "      <th>hindi_sentence</th>\n",
              "      <th>length_eng_sentence</th>\n",
              "      <th>length_hind_sentence</th>\n",
              "    </tr>\n",
              "  </thead>\n",
              "  <tbody>\n",
              "    <tr>\n",
              "      <th>0</th>\n",
              "      <td>ted</td>\n",
              "      <td>politicians do not have permission to do what needs to be done</td>\n",
              "      <td>START_ राजनीतिज्ञों के पास जो कार्य करना चाहिए वह करने कि अनुमति नहीं है _END</td>\n",
              "      <td>12</td>\n",
              "      <td>15</td>\n",
              "    </tr>\n",
              "    <tr>\n",
              "      <th>1</th>\n",
              "      <td>ted</td>\n",
              "      <td>id like to tell you about one such child</td>\n",
              "      <td>START_ मई आपको ऐसे ही एक बच्चे के बारे में बताना चाहूंगी _END</td>\n",
              "      <td>9</td>\n",
              "      <td>13</td>\n",
              "    </tr>\n",
              "    <tr>\n",
              "      <th>3</th>\n",
              "      <td>ted</td>\n",
              "      <td>what we really mean is that theyre bad at not paying attention</td>\n",
              "      <td>START_ हम ये नहीं कहना चाहते कि वो ध्यान नहीं दे पाते _END</td>\n",
              "      <td>12</td>\n",
              "      <td>13</td>\n",
              "    </tr>\n",
              "    <tr>\n",
              "      <th>7</th>\n",
              "      <td>ted</td>\n",
              "      <td>and who are we to say even that they are wrong</td>\n",
              "      <td>START_ और हम होते कौन हैं यह कहने भी वाले कि वे गलत हैं _END</td>\n",
              "      <td>11</td>\n",
              "      <td>15</td>\n",
              "    </tr>\n",
              "    <tr>\n",
              "      <th>13</th>\n",
              "      <td>ted</td>\n",
              "      <td>so there is some sort of justice</td>\n",
              "      <td>START_ तो वहाँ न्याय है _END</td>\n",
              "      <td>7</td>\n",
              "      <td>6</td>\n",
              "    </tr>\n",
              "  </tbody>\n",
              "</table>\n",
              "</div>\n",
              "      <button class=\"colab-df-convert\" onclick=\"convertToInteractive('df-1b31dc51-6499-4a13-9981-bbeb72bc0f5b')\"\n",
              "              title=\"Convert this dataframe to an interactive table.\"\n",
              "              style=\"display:none;\">\n",
              "        \n",
              "  <svg xmlns=\"http://www.w3.org/2000/svg\" height=\"24px\"viewBox=\"0 0 24 24\"\n",
              "       width=\"24px\">\n",
              "    <path d=\"M0 0h24v24H0V0z\" fill=\"none\"/>\n",
              "    <path d=\"M18.56 5.44l.94 2.06.94-2.06 2.06-.94-2.06-.94-.94-2.06-.94 2.06-2.06.94zm-11 1L8.5 8.5l.94-2.06 2.06-.94-2.06-.94L8.5 2.5l-.94 2.06-2.06.94zm10 10l.94 2.06.94-2.06 2.06-.94-2.06-.94-.94-2.06-.94 2.06-2.06.94z\"/><path d=\"M17.41 7.96l-1.37-1.37c-.4-.4-.92-.59-1.43-.59-.52 0-1.04.2-1.43.59L10.3 9.45l-7.72 7.72c-.78.78-.78 2.05 0 2.83L4 21.41c.39.39.9.59 1.41.59.51 0 1.02-.2 1.41-.59l7.78-7.78 2.81-2.81c.8-.78.8-2.07 0-2.86zM5.41 20L4 18.59l7.72-7.72 1.47 1.35L5.41 20z\"/>\n",
              "  </svg>\n",
              "      </button>\n",
              "      \n",
              "  <style>\n",
              "    .colab-df-container {\n",
              "      display:flex;\n",
              "      flex-wrap:wrap;\n",
              "      gap: 12px;\n",
              "    }\n",
              "\n",
              "    .colab-df-convert {\n",
              "      background-color: #E8F0FE;\n",
              "      border: none;\n",
              "      border-radius: 50%;\n",
              "      cursor: pointer;\n",
              "      display: none;\n",
              "      fill: #1967D2;\n",
              "      height: 32px;\n",
              "      padding: 0 0 0 0;\n",
              "      width: 32px;\n",
              "    }\n",
              "\n",
              "    .colab-df-convert:hover {\n",
              "      background-color: #E2EBFA;\n",
              "      box-shadow: 0px 1px 2px rgba(60, 64, 67, 0.3), 0px 1px 3px 1px rgba(60, 64, 67, 0.15);\n",
              "      fill: #174EA6;\n",
              "    }\n",
              "\n",
              "    [theme=dark] .colab-df-convert {\n",
              "      background-color: #3B4455;\n",
              "      fill: #D2E3FC;\n",
              "    }\n",
              "\n",
              "    [theme=dark] .colab-df-convert:hover {\n",
              "      background-color: #434B5C;\n",
              "      box-shadow: 0px 1px 3px 1px rgba(0, 0, 0, 0.15);\n",
              "      filter: drop-shadow(0px 1px 2px rgba(0, 0, 0, 0.3));\n",
              "      fill: #FFFFFF;\n",
              "    }\n",
              "  </style>\n",
              "\n",
              "      <script>\n",
              "        const buttonEl =\n",
              "          document.querySelector('#df-1b31dc51-6499-4a13-9981-bbeb72bc0f5b button.colab-df-convert');\n",
              "        buttonEl.style.display =\n",
              "          google.colab.kernel.accessAllowed ? 'block' : 'none';\n",
              "\n",
              "        async function convertToInteractive(key) {\n",
              "          const element = document.querySelector('#df-1b31dc51-6499-4a13-9981-bbeb72bc0f5b');\n",
              "          const dataTable =\n",
              "            await google.colab.kernel.invokeFunction('convertToInteractive',\n",
              "                                                     [key], {});\n",
              "          if (!dataTable) return;\n",
              "\n",
              "          const docLinkHtml = 'Like what you see? Visit the ' +\n",
              "            '<a target=\"_blank\" href=https://colab.research.google.com/notebooks/data_table.ipynb>data table notebook</a>'\n",
              "            + ' to learn more about interactive tables.';\n",
              "          element.innerHTML = '';\n",
              "          dataTable['output_type'] = 'display_data';\n",
              "          await google.colab.output.renderOutput(dataTable, element);\n",
              "          const docLink = document.createElement('div');\n",
              "          docLink.innerHTML = docLinkHtml;\n",
              "          element.appendChild(docLink);\n",
              "        }\n",
              "      </script>\n",
              "    </div>\n",
              "  </div>\n",
              "  "
            ]
          },
          "metadata": {},
          "execution_count": 18
        }
      ],
      "source": [
        "df['length_eng_sentence']=df['english_sentence'].apply(lambda x:len(x.split(\" \")))\n",
        "df['length_hind_sentence']=df['hindi_sentence'].apply(lambda x:len(x.split(\" \")))\n",
        "df.head()"
      ],
      "id": "guQVNkJgsje7"
    },
    {
      "cell_type": "markdown",
      "metadata": {
        "id": "zSwRbiqnsje8"
      },
      "source": [
        "### Using maximum sentence length is 20 for training and test data"
      ],
      "id": "zSwRbiqnsje8"
    },
    {
      "cell_type": "code",
      "execution_count": 19,
      "metadata": {
        "colab": {
          "base_uri": "https://localhost:8080/",
          "height": 286
        },
        "id": "UMAchPABsje8",
        "outputId": "cd7c66b5-09e3-4ffc-a2f6-dbfca2626e1d"
      },
      "outputs": [
        {
          "output_type": "stream",
          "name": "stdout",
          "text": [
            "maximum length of Spanish Sentence  20\n",
            "maximum length of English Sentence  20\n"
          ]
        },
        {
          "output_type": "execute_result",
          "data": {
            "text/plain": [
              "       source                                             english_sentence                                                                hindi_sentence  length_eng_sentence  length_hind_sentence\n",
              "118167    ted  so no one actually needs to muck up the production of sound        START_ तो किसी को भी ये रटने की ज़रूरत नहीं कि ध्वनि कैसे बनती है _END                   12                    16\n",
              "17185     ted         that had a majority of deaths resulting from surgery  START_ जोकि सर्जरी से उत्पन्न होने वाली मौतों के मामले में बहुमत में था _END                    9                    15\n",
              "41341     ted                                             i do have a plan                                              START_ मेरे पास एक योजना है _END                    5                     7\n",
              "105096    ted                                 this is this year in austria                                           START_ और इस साल ऑस्ट्रिया में _END                    6                     7\n",
              "52821     ted                  in fact it also shows something interesting                          START_ वास्तव में यह ये भी प्रदर्शित करता है कि _END                    7                    11"
            ],
            "text/html": [
              "\n",
              "  <div id=\"df-7c4ce9ae-9eec-4b9d-bce2-119972ab7cd8\">\n",
              "    <div class=\"colab-df-container\">\n",
              "      <div>\n",
              "<style scoped>\n",
              "    .dataframe tbody tr th:only-of-type {\n",
              "        vertical-align: middle;\n",
              "    }\n",
              "\n",
              "    .dataframe tbody tr th {\n",
              "        vertical-align: top;\n",
              "    }\n",
              "\n",
              "    .dataframe thead th {\n",
              "        text-align: right;\n",
              "    }\n",
              "</style>\n",
              "<table border=\"1\" class=\"dataframe\">\n",
              "  <thead>\n",
              "    <tr style=\"text-align: right;\">\n",
              "      <th></th>\n",
              "      <th>source</th>\n",
              "      <th>english_sentence</th>\n",
              "      <th>hindi_sentence</th>\n",
              "      <th>length_eng_sentence</th>\n",
              "      <th>length_hind_sentence</th>\n",
              "    </tr>\n",
              "  </thead>\n",
              "  <tbody>\n",
              "    <tr>\n",
              "      <th>118167</th>\n",
              "      <td>ted</td>\n",
              "      <td>so no one actually needs to muck up the production of sound</td>\n",
              "      <td>START_ तो किसी को भी ये रटने की ज़रूरत नहीं कि ध्वनि कैसे बनती है _END</td>\n",
              "      <td>12</td>\n",
              "      <td>16</td>\n",
              "    </tr>\n",
              "    <tr>\n",
              "      <th>17185</th>\n",
              "      <td>ted</td>\n",
              "      <td>that had a majority of deaths resulting from surgery</td>\n",
              "      <td>START_ जोकि सर्जरी से उत्पन्न होने वाली मौतों के मामले में बहुमत में था _END</td>\n",
              "      <td>9</td>\n",
              "      <td>15</td>\n",
              "    </tr>\n",
              "    <tr>\n",
              "      <th>41341</th>\n",
              "      <td>ted</td>\n",
              "      <td>i do have a plan</td>\n",
              "      <td>START_ मेरे पास एक योजना है _END</td>\n",
              "      <td>5</td>\n",
              "      <td>7</td>\n",
              "    </tr>\n",
              "    <tr>\n",
              "      <th>105096</th>\n",
              "      <td>ted</td>\n",
              "      <td>this is this year in austria</td>\n",
              "      <td>START_ और इस साल ऑस्ट्रिया में _END</td>\n",
              "      <td>6</td>\n",
              "      <td>7</td>\n",
              "    </tr>\n",
              "    <tr>\n",
              "      <th>52821</th>\n",
              "      <td>ted</td>\n",
              "      <td>in fact it also shows something interesting</td>\n",
              "      <td>START_ वास्तव में यह ये भी प्रदर्शित करता है कि _END</td>\n",
              "      <td>7</td>\n",
              "      <td>11</td>\n",
              "    </tr>\n",
              "  </tbody>\n",
              "</table>\n",
              "</div>\n",
              "      <button class=\"colab-df-convert\" onclick=\"convertToInteractive('df-7c4ce9ae-9eec-4b9d-bce2-119972ab7cd8')\"\n",
              "              title=\"Convert this dataframe to an interactive table.\"\n",
              "              style=\"display:none;\">\n",
              "        \n",
              "  <svg xmlns=\"http://www.w3.org/2000/svg\" height=\"24px\"viewBox=\"0 0 24 24\"\n",
              "       width=\"24px\">\n",
              "    <path d=\"M0 0h24v24H0V0z\" fill=\"none\"/>\n",
              "    <path d=\"M18.56 5.44l.94 2.06.94-2.06 2.06-.94-2.06-.94-.94-2.06-.94 2.06-2.06.94zm-11 1L8.5 8.5l.94-2.06 2.06-.94-2.06-.94L8.5 2.5l-.94 2.06-2.06.94zm10 10l.94 2.06.94-2.06 2.06-.94-2.06-.94-.94-2.06-.94 2.06-2.06.94z\"/><path d=\"M17.41 7.96l-1.37-1.37c-.4-.4-.92-.59-1.43-.59-.52 0-1.04.2-1.43.59L10.3 9.45l-7.72 7.72c-.78.78-.78 2.05 0 2.83L4 21.41c.39.39.9.59 1.41.59.51 0 1.02-.2 1.41-.59l7.78-7.78 2.81-2.81c.8-.78.8-2.07 0-2.86zM5.41 20L4 18.59l7.72-7.72 1.47 1.35L5.41 20z\"/>\n",
              "  </svg>\n",
              "      </button>\n",
              "      \n",
              "  <style>\n",
              "    .colab-df-container {\n",
              "      display:flex;\n",
              "      flex-wrap:wrap;\n",
              "      gap: 12px;\n",
              "    }\n",
              "\n",
              "    .colab-df-convert {\n",
              "      background-color: #E8F0FE;\n",
              "      border: none;\n",
              "      border-radius: 50%;\n",
              "      cursor: pointer;\n",
              "      display: none;\n",
              "      fill: #1967D2;\n",
              "      height: 32px;\n",
              "      padding: 0 0 0 0;\n",
              "      width: 32px;\n",
              "    }\n",
              "\n",
              "    .colab-df-convert:hover {\n",
              "      background-color: #E2EBFA;\n",
              "      box-shadow: 0px 1px 2px rgba(60, 64, 67, 0.3), 0px 1px 3px 1px rgba(60, 64, 67, 0.15);\n",
              "      fill: #174EA6;\n",
              "    }\n",
              "\n",
              "    [theme=dark] .colab-df-convert {\n",
              "      background-color: #3B4455;\n",
              "      fill: #D2E3FC;\n",
              "    }\n",
              "\n",
              "    [theme=dark] .colab-df-convert:hover {\n",
              "      background-color: #434B5C;\n",
              "      box-shadow: 0px 1px 3px 1px rgba(0, 0, 0, 0.15);\n",
              "      filter: drop-shadow(0px 1px 2px rgba(0, 0, 0, 0.3));\n",
              "      fill: #FFFFFF;\n",
              "    }\n",
              "  </style>\n",
              "\n",
              "      <script>\n",
              "        const buttonEl =\n",
              "          document.querySelector('#df-7c4ce9ae-9eec-4b9d-bce2-119972ab7cd8 button.colab-df-convert');\n",
              "        buttonEl.style.display =\n",
              "          google.colab.kernel.accessAllowed ? 'block' : 'none';\n",
              "\n",
              "        async function convertToInteractive(key) {\n",
              "          const element = document.querySelector('#df-7c4ce9ae-9eec-4b9d-bce2-119972ab7cd8');\n",
              "          const dataTable =\n",
              "            await google.colab.kernel.invokeFunction('convertToInteractive',\n",
              "                                                     [key], {});\n",
              "          if (!dataTable) return;\n",
              "\n",
              "          const docLinkHtml = 'Like what you see? Visit the ' +\n",
              "            '<a target=\"_blank\" href=https://colab.research.google.com/notebooks/data_table.ipynb>data table notebook</a>'\n",
              "            + ' to learn more about interactive tables.';\n",
              "          element.innerHTML = '';\n",
              "          dataTable['output_type'] = 'display_data';\n",
              "          await google.colab.output.renderOutput(dataTable, element);\n",
              "          const docLink = document.createElement('div');\n",
              "          docLink.innerHTML = docLinkHtml;\n",
              "          element.appendChild(docLink);\n",
              "        }\n",
              "      </script>\n",
              "    </div>\n",
              "  </div>\n",
              "  "
            ]
          },
          "metadata": {},
          "execution_count": 19
        }
      ],
      "source": [
        "max_sent_len =20\n",
        "\n",
        "df=df[df['length_eng_sentence'] <= max_sent_len]\n",
        "df=df[df['length_hind_sentence'] <= max_sent_len]\n",
        "\n",
        "max_length_src=max(df['length_hind_sentence'])\n",
        "max_length_tar=max(df['length_eng_sentence'])\n",
        "\n",
        "print(\"maximum length of Spanish Sentence \",max_length_src)\n",
        "print(\"maximum length of English Sentence \",max_length_tar)\n",
        "\n",
        "df = shuffle(df)\n",
        "\n",
        "df.head()"
      ],
      "id": "UMAchPABsje8"
    },
    {
      "cell_type": "markdown",
      "metadata": {
        "id": "ASeDQWsqsje8"
      },
      "source": [
        "#### Data shape after 20 length of sentances filter "
      ],
      "id": "ASeDQWsqsje8"
    },
    {
      "cell_type": "code",
      "execution_count": 20,
      "metadata": {
        "colab": {
          "base_uri": "https://localhost:8080/"
        },
        "id": "u-I655CRsje8",
        "outputId": "bd1b9e21-7a3b-45d0-8e02-60702e113ebb"
      },
      "outputs": [
        {
          "output_type": "execute_result",
          "data": {
            "text/plain": [
              "(38474, 5)"
            ]
          },
          "metadata": {},
          "execution_count": 20
        }
      ],
      "source": [
        "df.shape"
      ],
      "id": "u-I655CRsje8"
    },
    {
      "cell_type": "markdown",
      "metadata": {
        "id": "mgZxHljcsje8"
      },
      "source": [
        "## 2. Train & Test data split "
      ],
      "id": "mgZxHljcsje8"
    },
    {
      "cell_type": "code",
      "execution_count": 21,
      "metadata": {
        "colab": {
          "base_uri": "https://localhost:8080/"
        },
        "id": "lXEnujNLsje8",
        "outputId": "32d8ca0a-c4e0-41ee-cb10-ce97c05f032c"
      },
      "outputs": [
        {
          "output_type": "stream",
          "name": "stdout",
          "text": [
            "(38474,) (30779,) (7695,)\n"
          ]
        }
      ],
      "source": [
        "X, y = df['english_sentence'], df['hindi_sentence']\n",
        "\n",
        "X_train, X_test, y_train, y_test = train_test_split(X, y, test_size = 0.2, random_state=42)\n",
        "\n",
        "print(X.shape, X_train.shape, X_test.shape)"
      ],
      "id": "lXEnujNLsje8"
    },
    {
      "cell_type": "code",
      "execution_count": 22,
      "metadata": {
        "colab": {
          "base_uri": "https://localhost:8080/"
        },
        "id": "eqrICG96sje8",
        "outputId": "6dcc210d-1e69-4da7-eb4e-3cf7b635a0d6"
      },
      "outputs": [
        {
          "output_type": "execute_result",
          "data": {
            "text/plain": [
              "48057                                                            when i say realism\n",
              "82194                                   how do you ask those who were once fighting\n",
              "74582                                  and im touched so that tears come to my eyes\n",
              "93075                                                            they get different\n",
              "101214    theres only been two concepts tried two by the us and one by the russians\n",
              "Name: english_sentence, dtype: object"
            ]
          },
          "metadata": {},
          "execution_count": 22
        }
      ],
      "source": [
        "X_train.head()"
      ],
      "id": "eqrICG96sje8"
    },
    {
      "cell_type": "markdown",
      "metadata": {
        "id": "DZpQW-Mesje9"
      },
      "source": [
        "### Create a function to generate data "
      ],
      "id": "DZpQW-Mesje9"
    },
    {
      "cell_type": "code",
      "execution_count": 23,
      "metadata": {
        "id": "NP74nCrosje9"
      },
      "outputs": [],
      "source": [
        "def generate_data(X = X_train, y = y_train, batch_size = 128):\n",
        "    \n",
        "    while True:\n",
        "        for j in range(0, len(X), batch_size):\n",
        "            encoder_input_data = np.zeros((batch_size, max_length_src),dtype='float32')\n",
        "            decoder_input_data = np.zeros((batch_size, max_length_tar),dtype='float32')\n",
        "            decoder_target_data = np.zeros((batch_size, max_length_tar, num_decoder_tokens),dtype='float32')\n",
        "            for i, (input_text, target_text) in enumerate(zip(X[j:j+batch_size], y[j:j+batch_size])):\n",
        "                for t, word in enumerate(input_text.split()):\n",
        "                    encoder_input_data[i, t] = input_token_index[word] # encoder input seq\n",
        "                for t, word in enumerate(target_text.split()):\n",
        "                    if t < len(target_text.split())-1:\n",
        "                        decoder_input_data[i, t] = target_token_index[word] # decoder input seq\n",
        "                    if t > 0:\n",
        "                        decoder_target_data[i, t - 1, target_token_index[word]] = 1.\n",
        "            yield ([encoder_input_data, decoder_input_data], decoder_target_data)"
      ],
      "id": "NP74nCrosje9"
    },
    {
      "cell_type": "markdown",
      "metadata": {
        "id": "HIOwlt8Nsje9"
      },
      "source": [
        "## 3. Preparing encode and decoder for Model"
      ],
      "id": "HIOwlt8Nsje9"
    },
    {
      "cell_type": "code",
      "execution_count": 24,
      "metadata": {
        "id": "C-ixdtIJsje9"
      },
      "outputs": [],
      "source": [
        "latent_dim=300"
      ],
      "id": "C-ixdtIJsje9"
    },
    {
      "cell_type": "markdown",
      "metadata": {
        "id": "0Hv8Vxy4sje9"
      },
      "source": [
        "### Encoder "
      ],
      "id": "0Hv8Vxy4sje9"
    },
    {
      "cell_type": "code",
      "execution_count": 25,
      "metadata": {
        "id": "cvPt7mXvsje9"
      },
      "outputs": [],
      "source": [
        "encoder_inputs = Input(shape=(None, ))\n",
        "enc_emb =  Embedding(num_encoder_tokens, latent_dim, mask_zero = True)(encoder_inputs)\n",
        "encoder_lstm = LSTM(latent_dim, return_state=True)\n",
        "encoder_outputs, state_h, state_c = encoder_lstm(enc_emb)\n",
        "# We discard `encoder_outputs` and only keep the states.\n",
        "encoder_states = [state_h, state_c]"
      ],
      "id": "cvPt7mXvsje9"
    },
    {
      "cell_type": "markdown",
      "metadata": {
        "id": "1F3Z_ktUsje9"
      },
      "source": [
        "### Decoder "
      ],
      "id": "1F3Z_ktUsje9"
    },
    {
      "cell_type": "code",
      "execution_count": 26,
      "metadata": {
        "id": "e4UNvrYtsje-"
      },
      "outputs": [],
      "source": [
        "decoder_inputs = Input(shape=(None,))\n",
        "dec_emb_layer = Embedding(num_decoder_tokens, latent_dim, mask_zero = True)\n",
        "dec_emb = dec_emb_layer(decoder_inputs)\n",
        "\n",
        "\n",
        "decoder_lstm = LSTM(latent_dim, return_sequences=True, return_state=True)\n",
        "decoder_outputs, _, _ = decoder_lstm(dec_emb, initial_state=encoder_states)\n",
        "decoder_dense = Dense(num_decoder_tokens, activation='softmax')\n",
        "decoder_outputs = decoder_dense(decoder_outputs)"
      ],
      "id": "e4UNvrYtsje-"
    },
    {
      "cell_type": "markdown",
      "metadata": {
        "id": "DsdjBvGvsje-"
      },
      "source": [
        "## Preparing model "
      ],
      "id": "DsdjBvGvsje-"
    },
    {
      "cell_type": "code",
      "execution_count": 27,
      "metadata": {
        "id": "NVPlnhahsje-"
      },
      "outputs": [],
      "source": [
        "\n",
        "model = Model([encoder_inputs, decoder_inputs], decoder_outputs)"
      ],
      "id": "NVPlnhahsje-"
    },
    {
      "cell_type": "code",
      "execution_count": 28,
      "metadata": {
        "id": "pukvvYShsje-"
      },
      "outputs": [],
      "source": [
        "model.compile(optimizer='rmsprop', loss='categorical_crossentropy')"
      ],
      "id": "pukvvYShsje-"
    },
    {
      "cell_type": "markdown",
      "metadata": {
        "id": "cHHEsyCqsje-"
      },
      "source": [
        "#### Ploting the model's architecture "
      ],
      "id": "cHHEsyCqsje-"
    },
    {
      "cell_type": "code",
      "execution_count": 29,
      "metadata": {
        "colab": {
          "base_uri": "https://localhost:8080/",
          "height": 533
        },
        "id": "sMtebkPPsje-",
        "outputId": "803cfa89-aa09-4fe6-9a32-25ab264ee7df"
      },
      "outputs": [
        {
          "output_type": "execute_result",
          "data": {
            "text/plain": [
              "<IPython.core.display.Image object>"
            ],
            "image/png": "[encoded data removed]"
          },
          "metadata": {},
          "execution_count": 29
        }
      ],
      "source": [
        "plot_model(model, to_file='model.png', show_shapes=True)"
      ],
      "id": "sMtebkPPsje-"
    },
    {
      "cell_type": "markdown",
      "metadata": {
        "id": "m4IO7Ekssje-"
      },
      "source": [
        "## Training the model"
      ],
      "id": "m4IO7Ekssje-"
    },
    {
      "cell_type": "code",
      "execution_count": 30,
      "metadata": {
        "colab": {
          "base_uri": "https://localhost:8080/"
        },
        "id": "veA2m4Shsje_",
        "outputId": "29c90bef-c697-4da6-f69b-05f339a459e9"
      },
      "outputs": [
        {
          "output_type": "stream",
          "name": "stderr",
          "text": [
            "/usr/local/lib/python3.7/dist-packages/ipykernel_launcher.py:10: UserWarning: `Model.fit_generator` is deprecated and will be removed in a future version. Please use `Model.fit`, which supports generators.\n",
            "  # Remove the CWD from sys.path while we load stuff.\n"
          ]
        },
        {
          "output_type": "stream",
          "name": "stdout",
          "text": [
            "Epoch 1/30\n",
            "240/240 [==============================] - 46s 147ms/step - loss: 2.9684 - val_loss: 2.7817\n",
            "Epoch 2/30\n",
            "240/240 [==============================] - 30s 126ms/step - loss: 2.6428 - val_loss: 2.6033\n",
            "Epoch 3/30\n",
            "240/240 [==============================] - 33s 136ms/step - loss: 2.4828 - val_loss: 2.5309\n",
            "Epoch 4/30\n",
            "240/240 [==============================] - 30s 127ms/step - loss: 2.3675 - val_loss: 2.4650\n",
            "Epoch 5/30\n",
            "240/240 [==============================] - 33s 137ms/step - loss: 2.2686 - val_loss: 2.4238\n",
            "Epoch 6/30\n",
            "240/240 [==============================] - 30s 127ms/step - loss: 2.1791 - val_loss: 2.3925\n",
            "Epoch 7/30\n",
            "240/240 [==============================] - 33s 136ms/step - loss: 2.0985 - val_loss: 2.3689\n",
            "Epoch 8/30\n",
            "240/240 [==============================] - 30s 127ms/step - loss: 2.0231 - val_loss: 2.3561\n",
            "Epoch 9/30\n",
            "240/240 [==============================] - 33s 137ms/step - loss: 1.9521 - val_loss: 2.3460\n",
            "Epoch 10/30\n",
            "240/240 [==============================] - 30s 126ms/step - loss: 1.8843 - val_loss: 2.3439\n",
            "Epoch 11/30\n",
            "240/240 [==============================] - 33s 137ms/step - loss: 1.8196 - val_loss: 2.3445\n",
            "Epoch 12/30\n",
            "240/240 [==============================] - 30s 126ms/step - loss: 1.7564 - val_loss: 2.3522\n",
            "Epoch 13/30\n",
            "240/240 [==============================] - 33s 137ms/step - loss: 1.6952 - val_loss: 2.3603\n",
            "Epoch 14/30\n",
            "240/240 [==============================] - 30s 126ms/step - loss: 1.6366 - val_loss: 2.3773\n",
            "Epoch 15/30\n",
            "240/240 [==============================] - 33s 137ms/step - loss: 1.5793 - val_loss: 2.4025\n",
            "Epoch 16/30\n",
            "240/240 [==============================] - 30s 126ms/step - loss: 1.5244 - val_loss: 2.4162\n",
            "Epoch 17/30\n",
            "240/240 [==============================] - 33s 137ms/step - loss: 1.4711 - val_loss: 2.4271\n",
            "Epoch 18/30\n",
            "240/240 [==============================] - 30s 126ms/step - loss: 1.4201 - val_loss: 2.4519\n",
            "Epoch 19/30\n",
            "240/240 [==============================] - 33s 137ms/step - loss: 1.3693 - val_loss: 2.4757\n",
            "Epoch 20/30\n",
            "240/240 [==============================] - 30s 126ms/step - loss: 1.3195 - val_loss: 2.4940\n",
            "Epoch 21/30\n",
            "240/240 [==============================] - 33s 136ms/step - loss: 1.2714 - val_loss: 2.5170\n",
            "Epoch 22/30\n",
            "240/240 [==============================] - 31s 130ms/step - loss: 1.2236 - val_loss: 2.5349\n",
            "Epoch 23/30\n",
            "240/240 [==============================] - 34s 141ms/step - loss: 1.1800 - val_loss: 2.5597\n",
            "Epoch 24/30\n",
            "240/240 [==============================] - 31s 128ms/step - loss: 1.1361 - val_loss: 2.5863\n",
            "Epoch 25/30\n",
            "240/240 [==============================] - 33s 137ms/step - loss: 1.0955 - val_loss: 2.6237\n",
            "Epoch 26/30\n",
            "240/240 [==============================] - 30s 126ms/step - loss: 1.0572 - val_loss: 2.6440\n",
            "Epoch 27/30\n",
            "240/240 [==============================] - 33s 138ms/step - loss: 1.0199 - val_loss: 2.6571\n",
            "Epoch 28/30\n",
            "240/240 [==============================] - 30s 126ms/step - loss: 0.9847 - val_loss: 2.6814\n",
            "Epoch 29/30\n",
            "240/240 [==============================] - 33s 136ms/step - loss: 0.9502 - val_loss: 2.7112\n",
            "Epoch 30/30\n",
            "240/240 [==============================] - 30s 126ms/step - loss: 0.9177 - val_loss: 2.7348\n"
          ]
        },
        {
          "output_type": "execute_result",
          "data": {
            "text/plain": [
              "<keras.callbacks.History at 0x7fc76227ba10>"
            ]
          },
          "metadata": {},
          "execution_count": 30
        }
      ],
      "source": [
        "train_samples = len(X_train)\n",
        "val_samples = len(X_test)\n",
        "batch_size = 128\n",
        "epochs = 30\n",
        "    \n",
        "model.fit_generator(generator = generate_data(X_train, y_train, batch_size = batch_size),\n",
        "                    steps_per_epoch = train_samples//batch_size,\n",
        "                    epochs=epochs,\n",
        "                    validation_data = generate_data(X_test, y_test, batch_size = batch_size),\n",
        "                    validation_steps = val_samples//batch_size)"
      ],
      "id": "veA2m4Shsje_"
    },
    {
      "cell_type": "code",
      "execution_count": 31,
      "metadata": {
        "id": "zhrSZTDTsje_"
      },
      "outputs": [],
      "source": [
        "model.save('model_machine_translation_eng_hindi_20_Aug_21_rmsprop_30_epoch.h5')"
      ],
      "id": "zhrSZTDTsje_"
    },
    {
      "cell_type": "code",
      "execution_count": 32,
      "metadata": {
        "id": "L9Wbultxsje_"
      },
      "outputs": [],
      "source": [
        "#model = model.load_weights('model_machine_translation_eng_hindi_20_Aug_21_rmsprop_30_epoch.h5')"
      ],
      "id": "L9Wbultxsje_"
    },
    {
      "cell_type": "markdown",
      "metadata": {
        "id": "VI74N8losje_"
      },
      "source": [
        "## Preparing Models for Prediction\n"
      ],
      "id": "VI74N8losje_"
    },
    {
      "cell_type": "markdown",
      "metadata": {
        "id": "B23zHvMdsje_"
      },
      "source": [
        "#### Encoder:"
      ],
      "id": "B23zHvMdsje_"
    },
    {
      "cell_type": "code",
      "execution_count": 33,
      "metadata": {
        "colab": {
          "base_uri": "https://localhost:8080/",
          "height": 312
        },
        "id": "GY4UasRAsje_",
        "outputId": "c8765c9d-5d8d-4f87-cd98-d6412eeba735"
      },
      "outputs": [
        {
          "output_type": "execute_result",
          "data": {
            "text/plain": [
              "<IPython.core.display.Image object>"
            ],
            "image/png": "[encoded data removed]"
          },
          "metadata": {},
          "execution_count": 33
        }
      ],
      "source": [
        "encoder_model = Model(encoder_inputs, encoder_states)\n",
        "\n",
        "plot_model(encoder_model, to_file='pred_model.png', show_shapes=True)"
      ],
      "id": "GY4UasRAsje_"
    },
    {
      "cell_type": "markdown",
      "metadata": {
        "id": "5Thl1iU9sje_"
      },
      "source": [
        "#### Decoder:"
      ],
      "id": "5Thl1iU9sje_"
    },
    {
      "cell_type": "code",
      "execution_count": 34,
      "metadata": {
        "colab": {
          "base_uri": "https://localhost:8080/",
          "height": 387
        },
        "id": "d_alQBynsje_",
        "outputId": "2011046e-d8d2-430c-87d6-494196ff9971"
      },
      "outputs": [
        {
          "output_type": "execute_result",
          "data": {
            "text/plain": [
              "<IPython.core.display.Image object>"
            ],
            "image/png": "[encoded data removed]"
          },
          "metadata": {},
          "execution_count": 34
        }
      ],
      "source": [
        "dec_emb2= dec_emb_layer(decoder_inputs)\n",
        "\n",
        "decoder_state_input_h = Input(shape=(latent_dim,))\n",
        "decoder_state_input_c = Input(shape=(latent_dim,))\n",
        "decoder_states_inputs = [decoder_state_input_h, decoder_state_input_c]\n",
        "\n",
        "decoder_outputs2, state_h2, state_c2 = decoder_lstm(dec_emb2, initial_state=decoder_states_inputs)\n",
        "decoder_states2 = [state_h2, state_c2]\n",
        "\n",
        "decoder_outputs2 = decoder_dense(decoder_outputs2) \n",
        "\n",
        "\n",
        "decoder_model = Model( [decoder_inputs] + decoder_states_inputs, [decoder_outputs2] + decoder_states2)\n",
        "\n",
        "plot_model(decoder_model, to_file='model.png', show_shapes=True)"
      ],
      "id": "d_alQBynsje_"
    },
    {
      "cell_type": "markdown",
      "metadata": {
        "id": "Eo_4G9WdsjfA"
      },
      "source": [
        "## Translation function"
      ],
      "id": "Eo_4G9WdsjfA"
    },
    {
      "cell_type": "code",
      "execution_count": 35,
      "metadata": {
        "id": "qyqsgtEqsjfA"
      },
      "outputs": [],
      "source": [
        "def decode_sequence(input_seq):\n",
        "    \n",
        "    states_value = encoder_model.predict(input_seq)\n",
        "    target_seq = np.zeros((1,1))\n",
        "    target_seq[0, 0] = target_token_index['START_']\n",
        "\n",
        "    stop_condition = False\n",
        "    decoded_sentence = ''\n",
        "    while not stop_condition:\n",
        "        output_tokens, h, c = decoder_model.predict([target_seq] + states_value)\n",
        "\n",
        "        sampled_token_index = np.argmax(output_tokens[0, -1, :])\n",
        "        sampled_char = reverse_target_char_index[sampled_token_index]\n",
        "        decoded_sentence += ' '+sampled_char\n",
        "\n",
        "        if (sampled_char == '_END' or len(decoded_sentence) > 50):\n",
        "            stop_condition = True\n",
        "\n",
        "        target_seq = np.zeros((1,1))\n",
        "        target_seq[0, 0] = sampled_token_index\n",
        "\n",
        "        states_value = [h, c]\n",
        "\n",
        "    return decoded_sentence"
      ],
      "id": "qyqsgtEqsjfA"
    },
    {
      "cell_type": "markdown",
      "metadata": {
        "id": "3662b-mFsjfA"
      },
      "source": [
        "### Preparing test data"
      ],
      "id": "3662b-mFsjfA"
    },
    {
      "cell_type": "code",
      "execution_count": 36,
      "metadata": {
        "id": "klkxow72sjfA"
      },
      "outputs": [],
      "source": [
        "test_gen = generate_data(X_test, y_test, batch_size = 1)\n",
        "k=-1"
      ],
      "id": "klkxow72sjfA"
    },
    {
      "cell_type": "markdown",
      "metadata": {
        "id": "75GGTAMQsjfA"
      },
      "source": [
        "### Prediction Test 1:  "
      ],
      "id": "75GGTAMQsjfA"
    },
    {
      "cell_type": "code",
      "execution_count": 37,
      "metadata": {
        "colab": {
          "base_uri": "https://localhost:8080/"
        },
        "id": "TZXsA_EVsjfA",
        "outputId": "421c500e-4c62-40b0-ad9f-067bdd796ae0"
      },
      "outputs": [
        {
          "output_type": "stream",
          "name": "stdout",
          "text": [
            "Input English sentence: solved everything in minutes\n",
            "Actual Hindi Translation:  सारे सवाल मिनट में हल कर दिए \n",
            "Predicted Hindi Translation:  हर किसी ने मिनट में \n"
          ]
        }
      ],
      "source": [
        "k+=1\n",
        "(input_seq, actual_output), _ = next(test_gen)\n",
        "decoded_sentence = decode_sequence(input_seq)\n",
        "print('Input English sentence:', X_test[k:k+1].values[0])\n",
        "print('Actual Hindi Translation:', y_test[k:k+1].values[0][6:-4])\n",
        "print('Predicted Hindi Translation:', decoded_sentence[:-4])"
      ],
      "id": "TZXsA_EVsjfA"
    },
    {
      "cell_type": "markdown",
      "metadata": {
        "id": "EIIWdNtcsjfA"
      },
      "source": [
        "### Prediction Test 2:  "
      ],
      "id": "EIIWdNtcsjfA"
    },
    {
      "cell_type": "code",
      "execution_count": 38,
      "metadata": {
        "colab": {
          "base_uri": "https://localhost:8080/"
        },
        "id": "H0FiIHzasjfA",
        "outputId": "5b194271-a481-40cd-bf89-25238169fc24"
      },
      "outputs": [
        {
          "output_type": "stream",
          "name": "stdout",
          "text": [
            "Input English sentence: but at the end of the day\n",
            "Actual Hindi Translation:  परन्तु आखिरकार \n",
            "Predicted Hindi Translation:  लेकिन अंत में ही \n"
          ]
        }
      ],
      "source": [
        "k+=1\n",
        "(input_seq, actual_output), _ = next(test_gen)\n",
        "decoded_sentence = decode_sequence(input_seq)\n",
        "print('Input English sentence:', X_test[k:k+1].values[0])\n",
        "print('Actual Hindi Translation:', y_test[k:k+1].values[0][6:-4])\n",
        "print('Predicted Hindi Translation:', decoded_sentence[:-4])"
      ],
      "id": "H0FiIHzasjfA"
    },
    {
      "cell_type": "markdown",
      "metadata": {
        "id": "NIpP8XnAsjfB"
      },
      "source": [
        "### Prediction Test 3:  "
      ],
      "id": "NIpP8XnAsjfB"
    },
    {
      "cell_type": "code",
      "execution_count": 39,
      "metadata": {
        "colab": {
          "base_uri": "https://localhost:8080/"
        },
        "id": "Lp90GQlQsjfB",
        "outputId": "f451aec9-eae8-4ff7-9bd7-39248ca084b6"
      },
      "outputs": [
        {
          "output_type": "stream",
          "name": "stdout",
          "text": [
            "Input English sentence: you can draw ground water from any well\n",
            "Actual Hindi Translation:  नींव का पानी आप कुएँ से प्राप्त कर सकते हैं। \n",
            "Predicted Hindi Translation:  तो आप किसी भी उपयोग जा कर सकते हैं \n"
          ]
        }
      ],
      "source": [
        "k+=1\n",
        "(input_seq, actual_output), _ = next(test_gen)\n",
        "decoded_sentence = decode_sequence(input_seq)\n",
        "print('Input English sentence:', X_test[k:k+1].values[0])\n",
        "print('Actual Hindi Translation:', y_test[k:k+1].values[0][6:-4])\n",
        "print('Predicted Hindi Translation:', decoded_sentence[:-4])"
      ],
      "id": "Lp90GQlQsjfB"
    },
    {
      "cell_type": "markdown",
      "metadata": {
        "id": "7W9d0soisjfB"
      },
      "source": [
        "### Prediction Test 4:  "
      ],
      "id": "7W9d0soisjfB"
    },
    {
      "cell_type": "code",
      "execution_count": 40,
      "metadata": {
        "colab": {
          "base_uri": "https://localhost:8080/"
        },
        "id": "yGBWKszJsjfB",
        "outputId": "bcd19d98-5395-4e4b-dffd-e4a5caf77783"
      },
      "outputs": [
        {
          "output_type": "stream",
          "name": "stdout",
          "text": [
            "Input English sentence: and he said “it was humiliating because\n",
            "Actual Hindi Translation:  और उसने कहा “यह अपमानजनक था क्योंकि \n",
            "Predicted Hindi Translation:  और उन्होंने कहा था कि मैने ये सब एक गलत रखा गय\n"
          ]
        }
      ],
      "source": [
        "k+=1\n",
        "(input_seq, actual_output), _ = next(test_gen)\n",
        "decoded_sentence = decode_sequence(input_seq)\n",
        "print('Input English sentence:', X_test[k:k+1].values[0])\n",
        "print('Actual Hindi Translation:', y_test[k:k+1].values[0][6:-4])\n",
        "print('Predicted Hindi Translation:', decoded_sentence[:-4])"
      ],
      "id": "yGBWKszJsjfB"
    },
    {
      "cell_type": "markdown",
      "metadata": {
        "id": "pujDyKp6sjfB"
      },
      "source": [
        "### Prediction Test 5:  "
      ],
      "id": "pujDyKp6sjfB"
    },
    {
      "cell_type": "code",
      "execution_count": 41,
      "metadata": {
        "colab": {
          "base_uri": "https://localhost:8080/"
        },
        "id": "jDuqxELLsjfB",
        "outputId": "03693728-2bdb-46e3-fbb5-cc3b24d1cd68"
      },
      "outputs": [
        {
          "output_type": "stream",
          "name": "stdout",
          "text": [
            "Input English sentence: because it reduces and in some cases even reverses\n",
            "Actual Hindi Translation:  क्योंकि यह कम कर देता है और कुछ मामलों में भी पराजयों \n",
            "Predicted Hindi Translation:  क्योंकि यह कुछ दिनों की उम्र में जा सकता है। \n"
          ]
        }
      ],
      "source": [
        "k+=1\n",
        "(input_seq, actual_output), _ = next(test_gen)\n",
        "decoded_sentence = decode_sequence(input_seq)\n",
        "print('Input English sentence:', X_test[k:k+1].values[0])\n",
        "print('Actual Hindi Translation:', y_test[k:k+1].values[0][6:-4])\n",
        "print('Predicted Hindi Translation:', decoded_sentence[:-4])"
      ],
      "id": "jDuqxELLsjfB"
    },
    {
      "cell_type": "code",
      "execution_count": 41,
      "metadata": {
        "id": "8TqCnEyRsjfB"
      },
      "outputs": [],
      "source": [
        ""
      ],
      "id": "8TqCnEyRsjfB"
    }
  ],
  "metadata": {
    "kernelspec": {
      "display_name": "Python 3",
      "language": "python",
      "name": "python3"
    },
    "language_info": {
      "codemirror_mode": {
        "name": "ipython",
        "version": 3
      },
      "file_extension": ".py",
      "mimetype": "text/x-python",
      "name": "python",
      "nbconvert_exporter": "python",
      "pygments_lexer": "ipython3",
      "version": "3.7.6"
    },
    "colab": {
      "name": "Assignment_3_Q_2.ipynb",
      "provenance": [],
      "collapsed_sections": [],
      "machine_shape": "hm"
    },
    "accelerator": "GPU"
  },
  "nbformat": 4,
  "nbformat_minor": 5
}